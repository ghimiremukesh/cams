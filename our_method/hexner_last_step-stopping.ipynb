{
 "cells": [
  {
   "cell_type": "code",
   "execution_count": 1,
   "id": "4f80fe76-f0ed-4a06-8778-495336bb669a",
   "metadata": {},
   "outputs": [
    {
     "name": "stderr",
     "output_type": "stream",
     "text": [
      "241it [00:00, 513.48it/s]"
     ]
    },
    {
     "name": "stdout",
     "output_type": "stream",
     "text": [
      "[1.5643706]\n",
      "[0.53020084]\n",
      "[0.171275]\n",
      "[0.05539881]\n",
      "[0.01794104]\n",
      "[0.00581811]\n",
      "[0.00189029]\n",
      "[0.00061639]\n",
      "[0.00020282]\n",
      "[6.8470836e-05]\n",
      "[2.476573e-05]\n",
      "[1.0550022e-05]\n",
      "[5.915761e-06]\n"
     ]
    },
    {
     "name": "stderr",
     "output_type": "stream",
     "text": [
      "\n"
     ]
    },
    {
     "data": {
      "text/plain": [
       "0.8426427841186523"
      ]
     },
     "execution_count": 1,
     "metadata": {},
     "output_type": "execute_result"
    }
   ],
   "source": [
    "# GT Action (same as optim action)\n",
    "from compare_methods import compute_value_and_actions\n",
    "import time\n",
    "\n",
    "\n",
    "pos = [-0.5, 0, 0.5, 0] # 2d position for P1 and P2 (same as above)\n",
    "time_in = time.time()\n",
    "optim_method = compute_value_and_actions('optim', pos=pos)\n",
    "time_out = time.time()\n",
    "optim_param, _ = optim_method.get_params()\n",
    "total_time = time_out - time_in\n",
    "total_time"
   ]
  },
  {
   "cell_type": "code",
   "execution_count": 2,
   "id": "23c614a4-2db4-442c-9d99-84fd86d78da8",
   "metadata": {},
   "outputs": [],
   "source": [
    "actions = optim_param[:, :4].reshape(2, 2).tolist()\n",
    "probs = optim_param[:, 4:6].reshape(2, 1).tolist()"
   ]
  },
  {
   "cell_type": "code",
   "execution_count": 3,
   "id": "408043ed-77f8-4c84-86c3-3be759485263",
   "metadata": {},
   "outputs": [],
   "source": [
    "a_sorted = [x for _,x in sorted(zip(probs, actions), reverse=True)]\n",
    "p_sorted = sorted(probs, reverse=True)"
   ]
  },
  {
   "cell_type": "code",
   "execution_count": 9,
   "id": "71f41a4b-167e-429f-afab-3be9fb335a24",
   "metadata": {},
   "outputs": [
    {
     "data": {
      "text/plain": [
       "(Array([0.8333333, 1.8181818], dtype=float32),\n",
       " Array([ 0.8333333, -1.8181818], dtype=float32))"
      ]
     },
     "execution_count": 9,
     "metadata": {},
     "output_type": "execute_result"
    }
   ],
   "source": [
    "from utils_jax import analytical_sol\n",
    "import jax.numpy as jnp\n",
    "\n",
    "x = jnp.array([-0.5, 0, 0, 0, 0.5, 0, 0, 0])\n",
    "GT_action_1 = analytical_sol(x, 1, 1)[0]\n",
    "GT_action_2 = analytical_sol(x, 0, 1)[0]\n",
    "GT_action_1, GT_action_2"
   ]
  },
  {
   "cell_type": "code",
   "execution_count": 10,
   "id": "c89a8727-ae76-4ddd-ab82-bdd25a0c460e",
   "metadata": {},
   "outputs": [
    {
     "data": {
      "text/plain": [
       "([[0.8328108191490173, 1.8160072565078735],\n",
       "  [0.8326133489608765, -1.8149064779281616]],\n",
       " [[0.9999989867210388], [9.999999974752427e-07]])"
      ]
     },
     "execution_count": 10,
     "metadata": {},
     "output_type": "execute_result"
    }
   ],
   "source": [
    "a_sorted, p_sorted"
   ]
  },
  {
   "cell_type": "code",
   "execution_count": 7,
   "id": "8d3e156b-ff1f-4387-b0c8-5ef124cc159e",
   "metadata": {},
   "outputs": [
    {
     "data": {
      "text/plain": [
       "0.0027949307"
      ]
     },
     "execution_count": 7,
     "metadata": {},
     "output_type": "execute_result"
    }
   ],
   "source": [
    "import numpy as np\n",
    "distances_cams = np.mean([jnp.linalg.norm(GT_action_1 - jnp.array(a_sorted[0])), jnp.linalg.norm(GT_action_2 - jnp.array(a_sorted[1]))])\n",
    "distances_cams"
   ]
  },
  {
   "cell_type": "code",
   "execution_count": 11,
   "id": "e9355b4f-c304-4b8c-b0c6-1f20305206d6",
   "metadata": {},
   "outputs": [],
   "source": [
    "## Test Hexner's Game with 10-time steps\n",
    "import pyspiel\n",
    "import hexner_last_step\n",
    "# from open_spiel.python.pytorch import deep_cfr\n",
    "from open_spiel.python.visualizations import treeviz\n",
    "from open_spiel.python.algorithms import cfr, exploitability\n",
    "from open_spiel.python.algorithms.get_all_states import get_all_states\n",
    "from open_spiel.python import policy"
   ]
  },
  {
   "cell_type": "code",
   "execution_count": 12,
   "id": "b87056d0-7dde-4b23-ae8d-085f61ab8661",
   "metadata": {},
   "outputs": [],
   "source": [
    "initial_state = [-0.5, 0., 0., 0., 0.5, 0., 0., 0., 0.5]\n",
    "game = pyspiel.convert_to_turn_based(hexner_last_step.HexnerGame(initial_state=initial_state))"
   ]
  },
  {
   "cell_type": "code",
   "execution_count": 13,
   "id": "b2e3bc51-1e74-4679-a258-0d86a3c52f38",
   "metadata": {},
   "outputs": [
    {
     "data": {
      "image/svg+xml": [
       "<?xml version=\"1.0\" encoding=\"UTF-8\" standalone=\"no\"?>\n",
       "<!DOCTYPE svg PUBLIC \"-//W3C//DTD SVG 1.1//EN\"\n",
       " \"http://www.w3.org/Graphics/SVG/1.1/DTD/svg11.dtd\">\n",
       "<!-- Generated by graphviz version 2.50.0 (0)\n",
       " -->\n",
       "<!-- Pages: 1 -->\n",
       "<svg width=\"135145pt\" height=\"256pt\"\n",
       " viewBox=\"0.00 0.00 135145.00 256.28\" xmlns=\"http://www.w3.org/2000/svg\" xmlns:xlink=\"http://www.w3.org/1999/xlink\">\n",
       "<g id=\"graph0\" class=\"graph\" transform=\"scale(1 1) rotate(0) translate(4 252.28)\">\n",
       "<polygon fill=\"white\" stroke=\"transparent\" points=\"-4,4 -4,-252.28 135141,-252.28 135141,4 -4,4\"/>\n",
       "<g id=\"clust1\" class=\"cluster\">\n",
       "<title>cluster_1_Current player: 1\n",
       "us: op:</title>\n",
       "<polygon fill=\"none\" stroke=\"black\" stroke-dasharray=\"5,2\" points=\"35945,-55 35945,-99.28 99300,-99.28 99300,-55 35945,-55\"/>\n",
       "</g>\n",
       "<g id=\"clust2\" class=\"cluster\">\n",
       "<title>cluster_0_Current player: 0\n",
       "Goal:2 us: op:</title>\n",
       "<polygon fill=\"none\" stroke=\"black\" stroke-dasharray=\"5,2\" points=\"98414,-128.28 98414,-202.28 98488,-202.28 98488,-128.28 98414,-128.28\"/>\n",
       "</g>\n",
       "<g id=\"clust3\" class=\"cluster\">\n",
       "<title>cluster_0_Current player: 0\n",
       "Goal:1 us: op:</title>\n",
       "<polygon fill=\"none\" stroke=\"black\" stroke-dasharray=\"5,2\" points=\"36757,-128.28 36757,-202.28 36831,-202.28 36831,-128.28 36757,-128.28\"/>\n",
       "</g>\n",
       "<!--  0, 0 -->\n",
       "<g id=\"node1\" class=\"node\">\n",
       "<title> 0, 0</title>\n",
       "<ellipse fill=\"none\" stroke=\"red\" cx=\"69712\" cy=\"-77.14\" rx=\"41.02\" ry=\"14.29\"/>\n",
       "<text text-anchor=\"middle\" x=\"69712\" y=\"-79.74\" font-family=\"Times,serif\" font-size=\"8.00\">Current player: 1</text>\n",
       "<text text-anchor=\"middle\" x=\"69712\" y=\"-70.74\" font-family=\"Times,serif\" font-size=\"8.00\">us: op:</text>\n",
       "</g>\n",
       "<!--  0, 0, 0 -->\n",
       "<g id=\"node35\" class=\"node\">\n",
       "<title> 0, 0, 0</title>\n",
       "<polygon fill=\"none\" stroke=\"black\" points=\"67695,-18 67568,-9 67695,0 67822,-9 67695,-18\"/>\n",
       "<text text-anchor=\"middle\" x=\"67695\" y=\"-7.1\" font-family=\"Times,serif\" font-size=\"8.00\">&#45;1.0264352250000002, 1.0264352250000002</text>\n",
       "</g>\n",
       "<!--  0, 0&#45;&gt; 0, 0, 0 -->\n",
       "<g id=\"edge1\" class=\"edge\">\n",
       "<title> 0, 0&#45;&gt; 0, 0, 0</title>\n",
       "<path fill=\"none\" stroke=\"red\" d=\"M69671,-75.43C69512,-72.63 68925,-61.64 68441,-45 68169,-35.68 68102,-31.97 67831,-18 67808,-16.81 67782,-15.37 67760,-14.03\"/>\n",
       "<polygon fill=\"red\" stroke=\"red\" points=\"67760.1,-12.29 67755,-13.73 67759.88,-15.78 67760.1,-12.29\"/>\n",
       "<text text-anchor=\"middle\" x=\"68444\" y=\"-38.6\" font-family=\"Times,serif\" font-size=\"8.00\"> 0</text>\n",
       "</g>\n",
       "<!--  0, 0, 1 -->\n",
       "<g id=\"node36\" class=\"node\">\n",
       "<title> 0, 0, 1</title>\n",
       "<polygon fill=\"none\" stroke=\"black\" points=\"67967,-18 67840,-9 67967,0 68094,-9 67967,-18\"/>\n",
       "<text text-anchor=\"middle\" x=\"67967\" y=\"-7.1\" font-family=\"Times,serif\" font-size=\"8.00\">&#45;0.6713552250000001, 0.6713552250000001</text>\n",
       "</g>\n",
       "<!--  0, 0&#45;&gt; 0, 0, 1 -->\n",
       "<g id=\"edge2\" class=\"edge\">\n",
       "<title> 0, 0&#45;&gt; 0, 0, 1</title>\n",
       "<path fill=\"none\" stroke=\"red\" d=\"M69671,-75.19C69531,-71.88 69057,-60.2 68666,-45 68415,-35.27 68353,-31.36 68103,-18 68080,-16.77 68055,-15.33 68032,-14\"/>\n",
       "<polygon fill=\"red\" stroke=\"red\" points=\"68032.09,-12.26 68027,-13.71 68031.89,-15.75 68032.09,-12.26\"/>\n",
       "<text text-anchor=\"middle\" x=\"68669\" y=\"-38.6\" font-family=\"Times,serif\" font-size=\"8.00\"> 1</text>\n",
       "</g>\n",
       "<!--  0, 0, 2 -->\n",
       "<g id=\"node37\" class=\"node\">\n",
       "<title> 0, 0, 2</title>\n",
       "<polygon fill=\"none\" stroke=\"black\" points=\"68246,-18 68112,-9 68246,0 68380,-9 68246,-18\"/>\n",
       "<text text-anchor=\"middle\" x=\"68246\" y=\"-7.1\" font-family=\"Times,serif\" font-size=\"8.00\">&#45;0.01135522500000019, 0.01135522500000019</text>\n",
       "</g>\n",
       "<!--  0, 0&#45;&gt; 0, 0, 2 -->\n",
       "<g id=\"edge3\" class=\"edge\">\n",
       "<title> 0, 0&#45;&gt; 0, 0, 2</title>\n",
       "<path fill=\"none\" stroke=\"red\" d=\"M69671,-75.02C69546,-71.52 69160,-60.14 68840,-45 68647,-35.89 68420,-21.48 68311,-14.32\"/>\n",
       "<polygon fill=\"red\" stroke=\"red\" points=\"68310.09,-12.52 68305,-13.98 68309.89,-16.01 68310.09,-12.52\"/>\n",
       "<text text-anchor=\"middle\" x=\"68843\" y=\"-38.6\" font-family=\"Times,serif\" font-size=\"8.00\"> 2</text>\n",
       "</g>\n",
       "<!--  0, 0, 3 -->\n",
       "<g id=\"node38\" class=\"node\">\n",
       "<title> 0, 0, 3</title>\n",
       "<polygon fill=\"none\" stroke=\"black\" points=\"68478,-18 68397.5,-9 68478,0 68558.5,-9 68478,-18\"/>\n",
       "<text text-anchor=\"middle\" x=\"68478\" y=\"-7.1\" font-family=\"Times,serif\" font-size=\"8.00\">0.953564775, &#45;0.953564775</text>\n",
       "</g>\n",
       "<!--  0, 0&#45;&gt; 0, 0, 3 -->\n",
       "<g id=\"edge4\" class=\"edge\">\n",
       "<title> 0, 0&#45;&gt; 0, 0, 3</title>\n",
       "<path fill=\"none\" stroke=\"red\" d=\"M69671,-74.81C69523,-69.78 68999,-50.61 68568,-18 68553,-16.87 68536,-15.48 68522,-14.17\"/>\n",
       "<polygon fill=\"red\" stroke=\"red\" points=\"68522.14,-12.42 68517,-13.69 68521.81,-15.91 68522.14,-12.42\"/>\n",
       "<text text-anchor=\"middle\" x=\"68980\" y=\"-38.6\" font-family=\"Times,serif\" font-size=\"8.00\"> 3</text>\n",
       "</g>\n",
       "<!--  0, 0, 4 -->\n",
       "<g id=\"node39\" class=\"node\">\n",
       "<title> 0, 0, 4</title>\n",
       "<polygon fill=\"none\" stroke=\"black\" points=\"68657,-18 68576.5,-9 68657,0 68737.5,-9 68657,-18\"/>\n",
       "<text text-anchor=\"middle\" x=\"68657\" y=\"-7.1\" font-family=\"Times,serif\" font-size=\"8.00\">&#45;0.957795225, 0.957795225</text>\n",
       "</g>\n",
       "<!--  0, 0&#45;&gt; 0, 0, 4 -->\n",
       "<g id=\"edge5\" class=\"edge\">\n",
       "<title> 0, 0&#45;&gt; 0, 0, 4</title>\n",
       "<path fill=\"none\" stroke=\"red\" d=\"M69671,-74.13C69538,-67.45 69104,-44.9 68746,-18 68731,-16.89 68715,-15.5 68700,-14.19\"/>\n",
       "<polygon fill=\"red\" stroke=\"red\" points=\"68700.14,-12.45 68695,-13.71 68699.81,-15.93 68700.14,-12.45\"/>\n",
       "<text text-anchor=\"middle\" x=\"69147\" y=\"-38.6\" font-family=\"Times,serif\" font-size=\"8.00\"> 4</text>\n",
       "</g>\n",
       "<!--  0, 0, 5 -->\n",
       "<g id=\"node40\" class=\"node\">\n",
       "<title> 0, 0, 5</title>\n",
       "<polygon fill=\"none\" stroke=\"black\" points=\"68882,-18 68755,-9 68882,0 69009,-9 68882,-18\"/>\n",
       "<text text-anchor=\"middle\" x=\"68882\" y=\"-7.1\" font-family=\"Times,serif\" font-size=\"8.00\">&#45;0.6027152250000002, 0.6027152250000002</text>\n",
       "</g>\n",
       "<!--  0, 0&#45;&gt; 0, 0, 5 -->\n",
       "<g id=\"edge6\" class=\"edge\">\n",
       "<title> 0, 0&#45;&gt; 0, 0, 5</title>\n",
       "<path fill=\"none\" stroke=\"red\" d=\"M69672,-73C69538,-62.3 69099,-27.32 68940,-14.64\"/>\n",
       "<polygon fill=\"red\" stroke=\"red\" points=\"68940.12,-12.9 68935,-14.24 68939.84,-16.39 68940.12,-12.9\"/>\n",
       "<text text-anchor=\"middle\" x=\"69300\" y=\"-38.6\" font-family=\"Times,serif\" font-size=\"8.00\"> 5</text>\n",
       "</g>\n",
       "<!--  0, 0, 6 -->\n",
       "<g id=\"node41\" class=\"node\">\n",
       "<title> 0, 0, 6</title>\n",
       "<polygon fill=\"none\" stroke=\"black\" points=\"69161,-18 69027,-9 69161,0 69295,-9 69161,-18\"/>\n",
       "<text text-anchor=\"middle\" x=\"69161\" y=\"-7.1\" font-family=\"Times,serif\" font-size=\"8.00\">0.05728477499999984, &#45;0.05728477499999984</text>\n",
       "</g>\n",
       "<!--  0, 0&#45;&gt; 0, 0, 6 -->\n",
       "<g id=\"edge7\" class=\"edge\">\n",
       "<title> 0, 0&#45;&gt; 0, 0, 6</title>\n",
       "<path fill=\"none\" stroke=\"red\" d=\"M69674,-71.6C69576,-59.89 69317,-28.72 69209,-15.77\"/>\n",
       "<polygon fill=\"red\" stroke=\"red\" points=\"69209.17,-14.03 69204,-15.16 69208.75,-17.5 69209.17,-14.03\"/>\n",
       "<text text-anchor=\"middle\" x=\"69440\" y=\"-38.6\" font-family=\"Times,serif\" font-size=\"8.00\"> 6</text>\n",
       "</g>\n",
       "<!--  0, 0, 7 -->\n",
       "<g id=\"node42\" class=\"node\">\n",
       "<title> 0, 0, 7</title>\n",
       "<polygon fill=\"none\" stroke=\"black\" points=\"69440,-18 69313,-9 69440,0 69567,-9 69440,-18\"/>\n",
       "<text text-anchor=\"middle\" x=\"69440\" y=\"-7.1\" font-family=\"Times,serif\" font-size=\"8.00\">1.0222047749999996, &#45;1.0222047749999996</text>\n",
       "</g>\n",
       "<!--  0, 0&#45;&gt; 0, 0, 7 -->\n",
       "<g id=\"edge8\" class=\"edge\">\n",
       "<title> 0, 0&#45;&gt; 0, 0, 7</title>\n",
       "<path fill=\"none\" stroke=\"red\" d=\"M69679,-68.3C69627,-55.46 69522,-30.14 69471,-17.52\"/>\n",
       "<polygon fill=\"red\" stroke=\"red\" points=\"69470.25,-15.58 69465,-16.27 69469.53,-19 69470.25,-15.58\"/>\n",
       "<text text-anchor=\"middle\" x=\"69579\" y=\"-38.6\" font-family=\"Times,serif\" font-size=\"8.00\"> 7</text>\n",
       "</g>\n",
       "<!--  0, 0, 8 -->\n",
       "<g id=\"node43\" class=\"node\">\n",
       "<title> 0, 0, 8</title>\n",
       "<polygon fill=\"none\" stroke=\"black\" points=\"69712,-18 69585,-9 69712,0 69839,-9 69712,-18\"/>\n",
       "<text text-anchor=\"middle\" x=\"69712\" y=\"-7.1\" font-family=\"Times,serif\" font-size=\"8.00\">&#45;0.6277952250000001, 0.6277952250000001</text>\n",
       "</g>\n",
       "<!--  0, 0&#45;&gt; 0, 0, 8 -->\n",
       "<g id=\"edge9\" class=\"edge\">\n",
       "<title> 0, 0&#45;&gt; 0, 0, 8</title>\n",
       "<path fill=\"none\" stroke=\"red\" d=\"M69712,-62.76C69712,-51.34 69712,-35 69712,-23.54\"/>\n",
       "<polygon fill=\"red\" stroke=\"red\" points=\"69713.75,-23.34 69712,-18.34 69710.25,-23.34 69713.75,-23.34\"/>\n",
       "<text text-anchor=\"middle\" x=\"69715\" y=\"-38.6\" font-family=\"Times,serif\" font-size=\"8.00\"> 8</text>\n",
       "</g>\n",
       "<!--  0, 0, 9 -->\n",
       "<g id=\"node44\" class=\"node\">\n",
       "<title> 0, 0, 9</title>\n",
       "<polygon fill=\"none\" stroke=\"black\" points=\"69984,-18 69857,-9 69984,0 70111,-9 69984,-18\"/>\n",
       "<text text-anchor=\"middle\" x=\"69984\" y=\"-7.1\" font-family=\"Times,serif\" font-size=\"8.00\">&#45;0.2727152250000002, 0.2727152250000002</text>\n",
       "</g>\n",
       "<!--  0, 0&#45;&gt; 0, 0, 9 -->\n",
       "<g id=\"edge10\" class=\"edge\">\n",
       "<title> 0, 0&#45;&gt; 0, 0, 9</title>\n",
       "<path fill=\"none\" stroke=\"red\" d=\"M69744,-68.3C69797,-55.46 69901,-30.14 69953,-17.52\"/>\n",
       "<polygon fill=\"red\" stroke=\"red\" points=\"69953.58,-19.18 69958,-16.27 69952.72,-15.78 69953.58,-19.18\"/>\n",
       "<text text-anchor=\"middle\" x=\"69876\" y=\"-38.6\" font-family=\"Times,serif\" font-size=\"8.00\"> 9</text>\n",
       "</g>\n",
       "<!--  0, 0, 10 -->\n",
       "<g id=\"node45\" class=\"node\">\n",
       "<title> 0, 0, 10</title>\n",
       "<polygon fill=\"none\" stroke=\"black\" points=\"70256,-18 70129,-9 70256,0 70383,-9 70256,-18\"/>\n",
       "<text text-anchor=\"middle\" x=\"70256\" y=\"-7.1\" font-family=\"Times,serif\" font-size=\"8.00\">0.3872847749999999, &#45;0.3872847749999999</text>\n",
       "</g>\n",
       "<!--  0, 0&#45;&gt; 0, 0, 10 -->\n",
       "<g id=\"edge11\" class=\"edge\">\n",
       "<title> 0, 0&#45;&gt; 0, 0, 10</title>\n",
       "<path fill=\"none\" stroke=\"red\" d=\"M69749,-71.54C69846,-59.77 70103,-28.59 70209,-15.7\"/>\n",
       "<polygon fill=\"red\" stroke=\"red\" points=\"70209.26,-17.43 70214,-15.06 70208.82,-13.96 70209.26,-17.43\"/>\n",
       "<text text-anchor=\"middle\" x=\"70038\" y=\"-38.6\" font-family=\"Times,serif\" font-size=\"8.00\"> 10</text>\n",
       "</g>\n",
       "<!--  0, 0, 11 -->\n",
       "<g id=\"node46\" class=\"node\">\n",
       "<title> 0, 0, 11</title>\n",
       "<polygon fill=\"none\" stroke=\"black\" points=\"70528,-18 70401,-9 70528,0 70655,-9 70528,-18\"/>\n",
       "<text text-anchor=\"middle\" x=\"70528\" y=\"-7.1\" font-family=\"Times,serif\" font-size=\"8.00\">1.3522047750000001, &#45;1.3522047750000001</text>\n",
       "</g>\n",
       "<!--  0, 0&#45;&gt; 0, 0, 11 -->\n",
       "<g id=\"edge12\" class=\"edge\">\n",
       "<title> 0, 0&#45;&gt; 0, 0, 11</title>\n",
       "<path fill=\"none\" stroke=\"red\" d=\"M69751,-72.95C69883,-62.22 70313,-27.37 70470,-14.68\"/>\n",
       "<polygon fill=\"red\" stroke=\"red\" points=\"70470.16,-16.42 70475,-14.27 70469.87,-12.93 70470.16,-16.42\"/>\n",
       "<text text-anchor=\"middle\" x=\"70199\" y=\"-38.6\" font-family=\"Times,serif\" font-size=\"8.00\"> 11</text>\n",
       "</g>\n",
       "<!--  0, 0, 12 -->\n",
       "<g id=\"node47\" class=\"node\">\n",
       "<title> 0, 0, 12</title>\n",
       "<polygon fill=\"none\" stroke=\"black\" points=\"70807,-18 70673,-9 70807,0 70941,-9 70807,-18\"/>\n",
       "<text text-anchor=\"middle\" x=\"70807\" y=\"-7.1\" font-family=\"Times,serif\" font-size=\"8.00\">&#45;0.03643522499999985, 0.03643522499999985</text>\n",
       "</g>\n",
       "<!--  0, 0&#45;&gt; 0, 0, 12 -->\n",
       "<g id=\"edge13\" class=\"edge\">\n",
       "<title> 0, 0&#45;&gt; 0, 0, 12</title>\n",
       "<path fill=\"none\" stroke=\"red\" d=\"M69752,-73.73C69915,-63.87 70532,-26.6 70739,-14.11\"/>\n",
       "<polygon fill=\"red\" stroke=\"red\" points=\"70739.12,-15.86 70744,-13.8 70738.9,-12.36 70739.12,-15.86\"/>\n",
       "<text text-anchor=\"middle\" x=\"70363\" y=\"-38.6\" font-family=\"Times,serif\" font-size=\"8.00\"> 12</text>\n",
       "</g>\n",
       "<!--  0, 0, 13 -->\n",
       "<g id=\"node48\" class=\"node\">\n",
       "<title> 0, 0, 13</title>\n",
       "<polygon fill=\"none\" stroke=\"black\" points=\"71086,-18 70959,-9 71086,0 71213,-9 71086,-18\"/>\n",
       "<text text-anchor=\"middle\" x=\"71086\" y=\"-7.1\" font-family=\"Times,serif\" font-size=\"8.00\">0.3186447749999998, &#45;0.3186447749999998</text>\n",
       "</g>\n",
       "<!--  0, 0&#45;&gt; 0, 0, 13 -->\n",
       "<g id=\"edge14\" class=\"edge\">\n",
       "<title> 0, 0&#45;&gt; 0, 0, 13</title>\n",
       "<path fill=\"none\" stroke=\"red\" d=\"M69752,-74.42C69907,-67.77 70479,-42.9 70950,-18 70973,-16.79 70998,-15.34 71020,-14.02\"/>\n",
       "<polygon fill=\"red\" stroke=\"red\" points=\"71020.11,-15.76 71025,-13.72 71019.9,-12.27 71020.11,-15.76\"/>\n",
       "<text text-anchor=\"middle\" x=\"70581\" y=\"-38.6\" font-family=\"Times,serif\" font-size=\"8.00\"> 13</text>\n",
       "</g>\n",
       "<!--  0, 0, 14 -->\n",
       "<g id=\"node49\" class=\"node\">\n",
       "<title> 0, 0, 14</title>\n",
       "<polygon fill=\"none\" stroke=\"black\" points=\"71358,-18 71231,-9 71358,0 71485,-9 71358,-18\"/>\n",
       "<text text-anchor=\"middle\" x=\"71358\" y=\"-7.1\" font-family=\"Times,serif\" font-size=\"8.00\">0.9786447749999997, &#45;0.9786447749999997</text>\n",
       "</g>\n",
       "<!--  0, 0&#45;&gt; 0, 0, 14 -->\n",
       "<g id=\"edge15\" class=\"edge\">\n",
       "<title> 0, 0&#45;&gt; 0, 0, 14</title>\n",
       "<path fill=\"none\" stroke=\"red\" d=\"M69752,-74.94C69928,-69.69 70638,-47.61 71222,-18 71245,-16.83 71270,-15.39 71292,-14.05\"/>\n",
       "<polygon fill=\"red\" stroke=\"red\" points=\"71292.11,-15.8 71297,-13.75 71291.9,-12.31 71292.11,-15.8\"/>\n",
       "<text text-anchor=\"middle\" x=\"70813\" y=\"-38.6\" font-family=\"Times,serif\" font-size=\"8.00\"> 14</text>\n",
       "</g>\n",
       "<!--  0, 0, 15 -->\n",
       "<g id=\"node50\" class=\"node\">\n",
       "<title> 0, 0, 15</title>\n",
       "<polygon fill=\"none\" stroke=\"black\" points=\"71630,-18 71503,-9 71630,0 71757,-9 71630,-18\"/>\n",
       "<text text-anchor=\"middle\" x=\"71630\" y=\"-7.1\" font-family=\"Times,serif\" font-size=\"8.00\">1.9435647750000002, &#45;1.9435647750000002</text>\n",
       "</g>\n",
       "<!--  0, 0&#45;&gt; 0, 0, 15 -->\n",
       "<g id=\"edge16\" class=\"edge\">\n",
       "<title> 0, 0&#45;&gt; 0, 0, 15</title>\n",
       "<path fill=\"none\" stroke=\"red\" d=\"M69752,-75.32C69947,-71.29 70797,-52.47 71494,-18 71517,-16.85 71542,-15.41 71565,-14.07\"/>\n",
       "<polygon fill=\"red\" stroke=\"red\" points=\"71565.11,-15.81 71570,-13.77 71564.9,-12.32 71565.11,-15.81\"/>\n",
       "<text text-anchor=\"middle\" x=\"71060\" y=\"-38.6\" font-family=\"Times,serif\" font-size=\"8.00\"> 15</text>\n",
       "</g>\n",
       "<!--  0, 1 -->\n",
       "<g id=\"node2\" class=\"node\">\n",
       "<title> 0, 1</title>\n",
       "<ellipse fill=\"none\" stroke=\"red\" cx=\"74073\" cy=\"-77.14\" rx=\"41.02\" ry=\"14.29\"/>\n",
       "<text text-anchor=\"middle\" x=\"74073\" y=\"-79.74\" font-family=\"Times,serif\" font-size=\"8.00\">Current player: 1</text>\n",
       "<text text-anchor=\"middle\" x=\"74073\" y=\"-70.74\" font-family=\"Times,serif\" font-size=\"8.00\">us: op:</text>\n",
       "</g>\n",
       "<!--  0, 1, 0 -->\n",
       "<g id=\"node51\" class=\"node\">\n",
       "<title> 0, 1, 0</title>\n",
       "<polygon fill=\"none\" stroke=\"black\" points=\"71895,-18 71774.3,-9 71895,0 72015.7,-9 71895,-18\"/>\n",
       "<text text-anchor=\"middle\" x=\"71895\" y=\"-7.1\" font-family=\"Times,serif\" font-size=\"8.00\">&#45;0.797317497222222, 0.797317497222222</text>\n",
       "</g>\n",
       "<!--  0, 1&#45;&gt; 0, 1, 0 -->\n",
       "<g id=\"edge17\" class=\"edge\">\n",
       "<title> 0, 1&#45;&gt; 0, 1, 0</title>\n",
       "<path fill=\"none\" stroke=\"red\" d=\"M74032,-75.43C73868,-72.52 73240,-60.92 72724,-45 72412,-35.41 72335,-33.64 72024,-18 72002,-16.89 71978,-15.46 71956,-14.11\"/>\n",
       "<polygon fill=\"red\" stroke=\"red\" points=\"71956.1,-12.37 71951,-13.79 71955.88,-15.86 71956.1,-12.37\"/>\n",
       "<text text-anchor=\"middle\" x=\"72727\" y=\"-38.6\" font-family=\"Times,serif\" font-size=\"8.00\"> 0</text>\n",
       "</g>\n",
       "<!--  0, 1, 1 -->\n",
       "<g id=\"node52\" class=\"node\">\n",
       "<title> 0, 1, 1</title>\n",
       "<polygon fill=\"none\" stroke=\"black\" points=\"72160,-18 72033,-9 72160,0 72287,-9 72160,-18\"/>\n",
       "<text text-anchor=\"middle\" x=\"72160\" y=\"-7.1\" font-family=\"Times,serif\" font-size=\"8.00\">&#45;0.4422374972222221, 0.4422374972222221</text>\n",
       "</g>\n",
       "<!--  0, 1&#45;&gt; 0, 1, 1 -->\n",
       "<g id=\"edge18\" class=\"edge\">\n",
       "<title> 0, 1&#45;&gt; 0, 1, 1</title>\n",
       "<path fill=\"none\" stroke=\"red\" d=\"M74032,-75.3C73838,-71.21 72990,-52.11 72296,-18 72272,-16.86 72247,-15.42 72225,-14.08\"/>\n",
       "<polygon fill=\"red\" stroke=\"red\" points=\"72225.1,-12.33 72220,-13.78 72224.88,-15.82 72225.1,-12.33\"/>\n",
       "<text text-anchor=\"middle\" x=\"72935\" y=\"-38.6\" font-family=\"Times,serif\" font-size=\"8.00\"> 1</text>\n",
       "</g>\n",
       "<!--  0, 1, 2 -->\n",
       "<g id=\"node53\" class=\"node\">\n",
       "<title> 0, 1, 2</title>\n",
       "<polygon fill=\"none\" stroke=\"black\" points=\"72439,-18 72305,-9 72439,0 72573,-9 72439,-18\"/>\n",
       "<text text-anchor=\"middle\" x=\"72439\" y=\"-7.1\" font-family=\"Times,serif\" font-size=\"8.00\">0.21776250277777784, &#45;0.21776250277777784</text>\n",
       "</g>\n",
       "<!--  0, 1&#45;&gt; 0, 1, 2 -->\n",
       "<g id=\"edge19\" class=\"edge\">\n",
       "<title> 0, 1&#45;&gt; 0, 1, 2</title>\n",
       "<path fill=\"none\" stroke=\"red\" d=\"M74032,-74.87C73858,-69.34 73157,-46.44 72582,-18 72557,-16.81 72531,-15.37 72508,-14.04\"/>\n",
       "<polygon fill=\"red\" stroke=\"red\" points=\"72507.08,-12.24 72502,-13.74 72506.91,-15.74 72507.08,-12.24\"/>\n",
       "<text text-anchor=\"middle\" x=\"73200\" y=\"-38.6\" font-family=\"Times,serif\" font-size=\"8.00\"> 2</text>\n",
       "</g>\n",
       "<!--  0, 1, 3 -->\n",
       "<g id=\"node54\" class=\"node\">\n",
       "<title> 0, 1, 3</title>\n",
       "<polygon fill=\"none\" stroke=\"black\" points=\"72718,-18 72591,-9 72718,0 72845,-9 72718,-18\"/>\n",
       "<text text-anchor=\"middle\" x=\"72718\" y=\"-7.1\" font-family=\"Times,serif\" font-size=\"8.00\">1.1826825027777783, &#45;1.1826825027777783</text>\n",
       "</g>\n",
       "<!--  0, 1&#45;&gt; 0, 1, 3 -->\n",
       "<g id=\"edge20\" class=\"edge\">\n",
       "<title> 0, 1&#45;&gt; 0, 1, 3</title>\n",
       "<path fill=\"none\" stroke=\"red\" d=\"M74032,-74.39C73879,-67.69 73316,-42.78 72853,-18 72830,-16.79 72805,-15.36 72783,-14.05\"/>\n",
       "<polygon fill=\"red\" stroke=\"red\" points=\"72783.1,-12.3 72778,-13.73 72782.88,-15.79 72783.1,-12.3\"/>\n",
       "<text text-anchor=\"middle\" x=\"73392\" y=\"-38.6\" font-family=\"Times,serif\" font-size=\"8.00\"> 3</text>\n",
       "</g>\n",
       "<!--  0, 1, 4 -->\n",
       "<g id=\"node55\" class=\"node\">\n",
       "<title> 0, 1, 4</title>\n",
       "<polygon fill=\"none\" stroke=\"black\" points=\"72983,-18 72862.3,-9 72983,0 73103.7,-9 72983,-18\"/>\n",
       "<text text-anchor=\"middle\" x=\"72983\" y=\"-7.1\" font-family=\"Times,serif\" font-size=\"8.00\">&#45;0.728677497222222, 0.728677497222222</text>\n",
       "</g>\n",
       "<!--  0, 1&#45;&gt; 0, 1, 4 -->\n",
       "<g id=\"edge21\" class=\"edge\">\n",
       "<title> 0, 1&#45;&gt; 0, 1, 4</title>\n",
       "<path fill=\"none\" stroke=\"red\" d=\"M74032,-73.72C73900,-65.77 73469,-39.77 73113,-18 73091,-16.69 73068,-15.24 73047,-13.95\"/>\n",
       "<polygon fill=\"red\" stroke=\"red\" points=\"73046.08,-12.15 73041,-13.64 73045.9,-15.64 73046.08,-12.15\"/>\n",
       "<text text-anchor=\"middle\" x=\"73538\" y=\"-38.6\" font-family=\"Times,serif\" font-size=\"8.00\"> 4</text>\n",
       "</g>\n",
       "<!--  0, 1, 5 -->\n",
       "<g id=\"node56\" class=\"node\">\n",
       "<title> 0, 1, 5</title>\n",
       "<polygon fill=\"none\" stroke=\"black\" points=\"73256,-18 73122,-9 73256,0 73390,-9 73256,-18\"/>\n",
       "<text text-anchor=\"middle\" x=\"73256\" y=\"-7.1\" font-family=\"Times,serif\" font-size=\"8.00\">&#45;0.37359749722222213, 0.37359749722222213</text>\n",
       "</g>\n",
       "<!--  0, 1&#45;&gt; 0, 1, 5 -->\n",
       "<g id=\"edge22\" class=\"edge\">\n",
       "<title> 0, 1&#45;&gt; 0, 1, 5</title>\n",
       "<path fill=\"none\" stroke=\"red\" d=\"M74033,-72.95C73901,-62.25 73473,-27.58 73315,-14.79\"/>\n",
       "<polygon fill=\"red\" stroke=\"red\" points=\"73315.12,-13.05 73310,-14.38 73314.84,-16.54 73315.12,-13.05\"/>\n",
       "<text text-anchor=\"middle\" x=\"73668\" y=\"-38.6\" font-family=\"Times,serif\" font-size=\"8.00\"> 5</text>\n",
       "</g>\n",
       "<!--  0, 1, 6 -->\n",
       "<g id=\"node57\" class=\"node\">\n",
       "<title> 0, 1, 6</title>\n",
       "<polygon fill=\"none\" stroke=\"black\" points=\"73535,-18 73408,-9 73535,0 73662,-9 73535,-18\"/>\n",
       "<text text-anchor=\"middle\" x=\"73535\" y=\"-7.1\" font-family=\"Times,serif\" font-size=\"8.00\">0.2864025027777779, &#45;0.2864025027777779</text>\n",
       "</g>\n",
       "<!--  0, 1&#45;&gt; 0, 1, 6 -->\n",
       "<g id=\"edge23\" class=\"edge\">\n",
       "<title> 0, 1&#45;&gt; 0, 1, 6</title>\n",
       "<path fill=\"none\" stroke=\"red\" d=\"M74035,-71.49C73939,-59.69 73686,-28.62 73581,-15.73\"/>\n",
       "<polygon fill=\"red\" stroke=\"red\" points=\"73581.18,-13.99 73576,-15.1 73580.74,-17.46 73581.18,-13.99\"/>\n",
       "<text text-anchor=\"middle\" x=\"73807\" y=\"-38.6\" font-family=\"Times,serif\" font-size=\"8.00\"> 6</text>\n",
       "</g>\n",
       "<!--  0, 1, 7 -->\n",
       "<g id=\"node58\" class=\"node\">\n",
       "<title> 0, 1, 7</title>\n",
       "<polygon fill=\"none\" stroke=\"black\" points=\"73800,-18 73679.3,-9 73800,0 73920.7,-9 73800,-18\"/>\n",
       "<text text-anchor=\"middle\" x=\"73800\" y=\"-7.1\" font-family=\"Times,serif\" font-size=\"8.00\">1.251322502777778, &#45;1.251322502777778</text>\n",
       "</g>\n",
       "<!--  0, 1&#45;&gt; 0, 1, 7 -->\n",
       "<g id=\"edge24\" class=\"edge\">\n",
       "<title> 0, 1&#45;&gt; 0, 1, 7</title>\n",
       "<path fill=\"none\" stroke=\"red\" d=\"M74040,-68.3C73987,-55.43 73882,-30.01 73830,-17.42\"/>\n",
       "<polygon fill=\"red\" stroke=\"red\" points=\"73830.27,-15.69 73825,-16.17 73829.43,-19.08 73830.27,-15.69\"/>\n",
       "<text text-anchor=\"middle\" x=\"73940\" y=\"-38.6\" font-family=\"Times,serif\" font-size=\"8.00\"> 7</text>\n",
       "</g>\n",
       "<!--  0, 1, 8 -->\n",
       "<g id=\"node59\" class=\"node\">\n",
       "<title> 0, 1, 8</title>\n",
       "<polygon fill=\"none\" stroke=\"black\" points=\"74073,-18 73939,-9 74073,0 74207,-9 74073,-18\"/>\n",
       "<text text-anchor=\"middle\" x=\"74073\" y=\"-7.1\" font-family=\"Times,serif\" font-size=\"8.00\">&#45;0.39867749722222195, 0.39867749722222195</text>\n",
       "</g>\n",
       "<!--  0, 1&#45;&gt; 0, 1, 8 -->\n",
       "<g id=\"edge25\" class=\"edge\">\n",
       "<title> 0, 1&#45;&gt; 0, 1, 8</title>\n",
       "<path fill=\"none\" stroke=\"red\" d=\"M74073,-62.76C74073,-51.34 74073,-35 74073,-23.54\"/>\n",
       "<polygon fill=\"red\" stroke=\"red\" points=\"74074.75,-23.34 74073,-18.34 74071.25,-23.34 74074.75,-23.34\"/>\n",
       "<text text-anchor=\"middle\" x=\"74076\" y=\"-38.6\" font-family=\"Times,serif\" font-size=\"8.00\"> 8</text>\n",
       "</g>\n",
       "<!--  0, 1, 9 -->\n",
       "<g id=\"node60\" class=\"node\">\n",
       "<title> 0, 1, 9</title>\n",
       "<polygon fill=\"none\" stroke=\"black\" points=\"74365,-18 74224.5,-9 74365,0 74505.5,-9 74365,-18\"/>\n",
       "<text text-anchor=\"middle\" x=\"74365\" y=\"-7.1\" font-family=\"Times,serif\" font-size=\"8.00\">&#45;0.043597497222222156, 0.043597497222222156</text>\n",
       "</g>\n",
       "<!--  0, 1&#45;&gt; 0, 1, 9 -->\n",
       "<g id=\"edge26\" class=\"edge\">\n",
       "<title> 0, 1&#45;&gt; 0, 1, 9</title>\n",
       "<path fill=\"none\" stroke=\"red\" d=\"M74106,-68.68C74162,-55.93 74276,-30.07 74332,-17.37\"/>\n",
       "<polygon fill=\"red\" stroke=\"red\" points=\"74332.5,-19.05 74337,-16.26 74331.74,-15.64 74332.5,-19.05\"/>\n",
       "<text text-anchor=\"middle\" x=\"74249\" y=\"-38.6\" font-family=\"Times,serif\" font-size=\"8.00\"> 9</text>\n",
       "</g>\n",
       "<!--  0, 1, 10 -->\n",
       "<g id=\"node61\" class=\"node\">\n",
       "<title> 0, 1, 10</title>\n",
       "<polygon fill=\"none\" stroke=\"black\" points=\"74644,-18 74523.3,-9 74644,0 74764.7,-9 74644,-18\"/>\n",
       "<text text-anchor=\"middle\" x=\"74644\" y=\"-7.1\" font-family=\"Times,serif\" font-size=\"8.00\">0.616402502777778, &#45;0.616402502777778</text>\n",
       "</g>\n",
       "<!--  0, 1&#45;&gt; 0, 1, 10 -->\n",
       "<g id=\"edge27\" class=\"edge\">\n",
       "<title> 0, 1&#45;&gt; 0, 1, 10</title>\n",
       "<path fill=\"none\" stroke=\"red\" d=\"M74111,-71.7C74212,-59.99 74485,-28.33 74596,-15.51\"/>\n",
       "<polygon fill=\"red\" stroke=\"red\" points=\"74596.24,-17.24 74601,-14.91 74595.83,-13.77 74596.24,-17.24\"/>\n",
       "<text text-anchor=\"middle\" x=\"74415\" y=\"-38.6\" font-family=\"Times,serif\" font-size=\"8.00\"> 10</text>\n",
       "</g>\n",
       "<!--  0, 1, 11 -->\n",
       "<g id=\"node62\" class=\"node\">\n",
       "<title> 0, 1, 11</title>\n",
       "<polygon fill=\"none\" stroke=\"black\" points=\"74909,-18 74782,-9 74909,0 75036,-9 74909,-18\"/>\n",
       "<text text-anchor=\"middle\" x=\"74909\" y=\"-7.1\" font-family=\"Times,serif\" font-size=\"8.00\">1.5813225027777784, &#45;1.5813225027777784</text>\n",
       "</g>\n",
       "<!--  0, 1&#45;&gt; 0, 1, 11 -->\n",
       "<g id=\"edge28\" class=\"edge\">\n",
       "<title> 0, 1&#45;&gt; 0, 1, 11</title>\n",
       "<path fill=\"none\" stroke=\"red\" d=\"M74112,-73.02C74247,-62.35 74690,-27.3 74850,-14.63\"/>\n",
       "<polygon fill=\"red\" stroke=\"red\" points=\"74850.16,-16.37 74855,-14.22 74849.87,-12.88 74850.16,-16.37\"/>\n",
       "<text text-anchor=\"middle\" x=\"74571\" y=\"-38.6\" font-family=\"Times,serif\" font-size=\"8.00\"> 11</text>\n",
       "</g>\n",
       "<!--  0, 1, 12 -->\n",
       "<g id=\"node63\" class=\"node\">\n",
       "<title> 0, 1, 12</title>\n",
       "<polygon fill=\"none\" stroke=\"black\" points=\"75181,-18 75054,-9 75181,0 75308,-9 75181,-18\"/>\n",
       "<text text-anchor=\"middle\" x=\"75181\" y=\"-7.1\" font-family=\"Times,serif\" font-size=\"8.00\">0.1926825027777782, &#45;0.1926825027777782</text>\n",
       "</g>\n",
       "<!--  0, 1&#45;&gt; 0, 1, 12 -->\n",
       "<g id=\"edge29\" class=\"edge\">\n",
       "<title> 0, 1&#45;&gt; 0, 1, 12</title>\n",
       "<path fill=\"none\" stroke=\"red\" d=\"M74113,-73.75C74278,-63.88 74907,-26.31 75114,-13.96\"/>\n",
       "<polygon fill=\"red\" stroke=\"red\" points=\"75114.11,-15.71 75119,-13.66 75113.9,-12.21 75114.11,-15.71\"/>\n",
       "<text text-anchor=\"middle\" x=\"74732\" y=\"-38.6\" font-family=\"Times,serif\" font-size=\"8.00\"> 12</text>\n",
       "</g>\n",
       "<!--  0, 1, 13 -->\n",
       "<g id=\"node64\" class=\"node\">\n",
       "<title> 0, 1, 13</title>\n",
       "<polygon fill=\"none\" stroke=\"black\" points=\"75453,-18 75326,-9 75453,0 75580,-9 75453,-18\"/>\n",
       "<text text-anchor=\"middle\" x=\"75453\" y=\"-7.1\" font-family=\"Times,serif\" font-size=\"8.00\">0.5477625027777779, &#45;0.5477625027777779</text>\n",
       "</g>\n",
       "<!--  0, 1&#45;&gt; 0, 1, 13 -->\n",
       "<g id=\"edge30\" class=\"edge\">\n",
       "<title> 0, 1&#45;&gt; 0, 1, 13</title>\n",
       "<path fill=\"none\" stroke=\"red\" d=\"M74113,-74.44C74268,-67.83 74843,-43.02 75317,-18 75340,-16.79 75365,-15.34 75387,-14.02\"/>\n",
       "<polygon fill=\"red\" stroke=\"red\" points=\"75387.11,-15.76 75392,-13.72 75386.9,-12.27 75387.11,-15.76\"/>\n",
       "<text text-anchor=\"middle\" x=\"74946\" y=\"-38.6\" font-family=\"Times,serif\" font-size=\"8.00\"> 13</text>\n",
       "</g>\n",
       "<!--  0, 1, 14 -->\n",
       "<g id=\"node65\" class=\"node\">\n",
       "<title> 0, 1, 14</title>\n",
       "<polygon fill=\"none\" stroke=\"black\" points=\"75725,-18 75598,-9 75725,0 75852,-9 75725,-18\"/>\n",
       "<text text-anchor=\"middle\" x=\"75725\" y=\"-7.1\" font-family=\"Times,serif\" font-size=\"8.00\">1.2077625027777779, &#45;1.2077625027777779</text>\n",
       "</g>\n",
       "<!--  0, 1&#45;&gt; 0, 1, 14 -->\n",
       "<g id=\"edge31\" class=\"edge\">\n",
       "<title> 0, 1&#45;&gt; 0, 1, 14</title>\n",
       "<path fill=\"none\" stroke=\"red\" d=\"M74113,-74.95C74289,-69.71 75003,-47.69 75589,-18 75612,-16.83 75637,-15.39 75659,-14.05\"/>\n",
       "<polygon fill=\"red\" stroke=\"red\" points=\"75659.11,-15.8 75664,-13.75 75658.9,-12.31 75659.11,-15.8\"/>\n",
       "<text text-anchor=\"middle\" x=\"75178\" y=\"-38.6\" font-family=\"Times,serif\" font-size=\"8.00\"> 14</text>\n",
       "</g>\n",
       "<!--  0, 1, 15 -->\n",
       "<g id=\"node66\" class=\"node\">\n",
       "<title> 0, 1, 15</title>\n",
       "<polygon fill=\"none\" stroke=\"black\" points=\"75990,-18 75869.3,-9 75990,0 76110.7,-9 75990,-18\"/>\n",
       "<text text-anchor=\"middle\" x=\"75990\" y=\"-7.1\" font-family=\"Times,serif\" font-size=\"8.00\">2.172682502777778, &#45;2.172682502777778</text>\n",
       "</g>\n",
       "<!--  0, 1&#45;&gt; 0, 1, 15 -->\n",
       "<g id=\"edge32\" class=\"edge\">\n",
       "<title> 0, 1&#45;&gt; 0, 1, 15</title>\n",
       "<path fill=\"none\" stroke=\"red\" d=\"M74114,-75.37C74308,-71.58 75162,-53.65 75861,-18 75882,-16.88 75906,-15.45 75928,-14.11\"/>\n",
       "<polygon fill=\"red\" stroke=\"red\" points=\"75928.12,-15.86 75933,-13.79 75927.9,-12.37 75928.12,-15.86\"/>\n",
       "<text text-anchor=\"middle\" x=\"75425\" y=\"-38.6\" font-family=\"Times,serif\" font-size=\"8.00\"> 15</text>\n",
       "</g>\n",
       "<!--  0, 2 -->\n",
       "<g id=\"node3\" class=\"node\">\n",
       "<title> 0, 2</title>\n",
       "<ellipse fill=\"none\" stroke=\"red\" cx=\"78364\" cy=\"-77.14\" rx=\"41.02\" ry=\"14.29\"/>\n",
       "<text text-anchor=\"middle\" x=\"78364\" y=\"-79.74\" font-family=\"Times,serif\" font-size=\"8.00\">Current player: 1</text>\n",
       "<text text-anchor=\"middle\" x=\"78364\" y=\"-70.74\" font-family=\"Times,serif\" font-size=\"8.00\">us: op:</text>\n",
       "</g>\n",
       "<!--  0, 2, 0 -->\n",
       "<g id=\"node67\" class=\"node\">\n",
       "<title> 0, 2, 0</title>\n",
       "<polygon fill=\"none\" stroke=\"black\" points=\"76249,-18 76128.3,-9 76249,0 76369.7,-9 76249,-18\"/>\n",
       "<text text-anchor=\"middle\" x=\"76249\" y=\"-7.1\" font-family=\"Times,serif\" font-size=\"8.00\">&#45;3.428650830555556, 3.428650830555556</text>\n",
       "</g>\n",
       "<!--  0, 2&#45;&gt; 0, 2, 0 -->\n",
       "<g id=\"edge33\" class=\"edge\">\n",
       "<title> 0, 2&#45;&gt; 0, 2, 0</title>\n",
       "<path fill=\"none\" stroke=\"red\" d=\"M78323,-75.41C78162,-72.49 77553,-60.96 77053,-45 76753,-35.44 76677,-33.29 76378,-18 76356,-16.88 76332,-15.46 76310,-14.11\"/>\n",
       "<polygon fill=\"red\" stroke=\"red\" points=\"76310.1,-12.37 76305,-13.79 76309.88,-15.86 76310.1,-12.37\"/>\n",
       "<text text-anchor=\"middle\" x=\"77056\" y=\"-38.6\" font-family=\"Times,serif\" font-size=\"8.00\"> 0</text>\n",
       "</g>\n",
       "<!--  0, 2, 1 -->\n",
       "<g id=\"node68\" class=\"node\">\n",
       "<title> 0, 2, 1</title>\n",
       "<polygon fill=\"none\" stroke=\"black\" points=\"76508,-18 76387.3,-9 76508,0 76628.7,-9 76508,-18\"/>\n",
       "<text text-anchor=\"middle\" x=\"76508\" y=\"-7.1\" font-family=\"Times,serif\" font-size=\"8.00\">&#45;3.073570830555556, 3.073570830555556</text>\n",
       "</g>\n",
       "<!--  0, 2&#45;&gt; 0, 2, 1 -->\n",
       "<g id=\"edge34\" class=\"edge\">\n",
       "<title> 0, 2&#45;&gt; 0, 2, 1</title>\n",
       "<path fill=\"none\" stroke=\"red\" d=\"M78323,-75.31C78132,-71.31 77310,-52.82 76637,-18 76615,-16.87 76591,-15.44 76569,-14.1\"/>\n",
       "<polygon fill=\"red\" stroke=\"red\" points=\"76569.1,-12.35 76564,-13.78 76568.88,-15.84 76569.1,-12.35\"/>\n",
       "<text text-anchor=\"middle\" x=\"77258\" y=\"-38.6\" font-family=\"Times,serif\" font-size=\"8.00\"> 1</text>\n",
       "</g>\n",
       "<!--  0, 2, 2 -->\n",
       "<g id=\"node69\" class=\"node\">\n",
       "<title> 0, 2, 2</title>\n",
       "<polygon fill=\"none\" stroke=\"black\" points=\"76767,-18 76646.3,-9 76767,0 76887.7,-9 76767,-18\"/>\n",
       "<text text-anchor=\"middle\" x=\"76767\" y=\"-7.1\" font-family=\"Times,serif\" font-size=\"8.00\">&#45;2.413570830555556, 2.413570830555556</text>\n",
       "</g>\n",
       "<!--  0, 2&#45;&gt; 0, 2, 2 -->\n",
       "<g id=\"edge35\" class=\"edge\">\n",
       "<title> 0, 2&#45;&gt; 0, 2, 2</title>\n",
       "<path fill=\"none\" stroke=\"red\" d=\"M78323,-74.92C78151,-69.67 77461,-47.82 76896,-18 76874,-16.85 76850,-15.42 76829,-14.09\"/>\n",
       "<polygon fill=\"red\" stroke=\"red\" points=\"76829.1,-12.34 76824,-13.77 76828.88,-15.84 76829.1,-12.34\"/>\n",
       "<text text-anchor=\"middle\" x=\"77464\" y=\"-38.6\" font-family=\"Times,serif\" font-size=\"8.00\"> 2</text>\n",
       "</g>\n",
       "<!--  0, 2, 3 -->\n",
       "<g id=\"node70\" class=\"node\">\n",
       "<title> 0, 2, 3</title>\n",
       "<polygon fill=\"none\" stroke=\"black\" points=\"77032,-18 76905,-9 77032,0 77159,-9 77032,-18\"/>\n",
       "<text text-anchor=\"middle\" x=\"77032\" y=\"-7.1\" font-family=\"Times,serif\" font-size=\"8.00\">&#45;1.4486508305555557, 1.4486508305555557</text>\n",
       "</g>\n",
       "<!--  0, 2&#45;&gt; 0, 2, 3 -->\n",
       "<g id=\"edge36\" class=\"edge\">\n",
       "<title> 0, 2&#45;&gt; 0, 2, 3</title>\n",
       "<path fill=\"none\" stroke=\"red\" d=\"M78323,-74.34C78172,-67.53 77621,-42.47 77167,-18 77144,-16.78 77119,-15.35 77097,-14.04\"/>\n",
       "<polygon fill=\"red\" stroke=\"red\" points=\"77097.1,-12.29 77092,-13.72 77096.88,-15.78 77097.1,-12.29\"/>\n",
       "<text text-anchor=\"middle\" x=\"77696\" y=\"-38.6\" font-family=\"Times,serif\" font-size=\"8.00\"> 3</text>\n",
       "</g>\n",
       "<!--  0, 2, 4 -->\n",
       "<g id=\"node71\" class=\"node\">\n",
       "<title> 0, 2, 4</title>\n",
       "<polygon fill=\"none\" stroke=\"black\" points=\"77297,-18 77176.3,-9 77297,0 77417.7,-9 77297,-18\"/>\n",
       "<text text-anchor=\"middle\" x=\"77297\" y=\"-7.1\" font-family=\"Times,serif\" font-size=\"8.00\">&#45;3.360010830555556, 3.360010830555556</text>\n",
       "</g>\n",
       "<!--  0, 2&#45;&gt; 0, 2, 4 -->\n",
       "<g id=\"edge37\" class=\"edge\">\n",
       "<title> 0, 2&#45;&gt; 0, 2, 4</title>\n",
       "<path fill=\"none\" stroke=\"red\" d=\"M78324,-73.68C78194,-65.66 77774,-39.58 77426,-18 77404,-16.69 77381,-15.26 77361,-13.97\"/>\n",
       "<polygon fill=\"red\" stroke=\"red\" points=\"77360.09,-12.17 77355,-13.64 77359.9,-15.66 77360.09,-12.17\"/>\n",
       "<text text-anchor=\"middle\" x=\"77841\" y=\"-38.6\" font-family=\"Times,serif\" font-size=\"8.00\"> 4</text>\n",
       "</g>\n",
       "<!--  0, 2, 5 -->\n",
       "<g id=\"node72\" class=\"node\">\n",
       "<title> 0, 2, 5</title>\n",
       "<polygon fill=\"none\" stroke=\"black\" points=\"77562,-18 77435,-9 77562,0 77689,-9 77562,-18\"/>\n",
       "<text text-anchor=\"middle\" x=\"77562\" y=\"-7.1\" font-family=\"Times,serif\" font-size=\"8.00\">&#45;3.0049308305555558, 3.0049308305555558</text>\n",
       "</g>\n",
       "<!--  0, 2&#45;&gt; 0, 2, 5 -->\n",
       "<g id=\"edge38\" class=\"edge\">\n",
       "<title> 0, 2&#45;&gt; 0, 2, 5</title>\n",
       "<path fill=\"none\" stroke=\"red\" d=\"M78324,-72.91C78194,-62.14 77774,-27.49 77619,-14.75\"/>\n",
       "<polygon fill=\"red\" stroke=\"red\" points=\"77619.13,-13.01 77614,-14.31 77618.82,-16.49 77619.13,-13.01\"/>\n",
       "<text text-anchor=\"middle\" x=\"77966\" y=\"-38.6\" font-family=\"Times,serif\" font-size=\"8.00\"> 5</text>\n",
       "</g>\n",
       "<!--  0, 2, 6 -->\n",
       "<g id=\"node73\" class=\"node\">\n",
       "<title> 0, 2, 6</title>\n",
       "<polygon fill=\"none\" stroke=\"black\" points=\"77827,-18 77706.3,-9 77827,0 77947.7,-9 77827,-18\"/>\n",
       "<text text-anchor=\"middle\" x=\"77827\" y=\"-7.1\" font-family=\"Times,serif\" font-size=\"8.00\">&#45;2.344930830555556, 2.344930830555556</text>\n",
       "</g>\n",
       "<!--  0, 2&#45;&gt; 0, 2, 6 -->\n",
       "<g id=\"edge39\" class=\"edge\">\n",
       "<title> 0, 2&#45;&gt; 0, 2, 6</title>\n",
       "<path fill=\"none\" stroke=\"red\" d=\"M78326,-71.49C78230,-59.66 77977,-28.47 77872,-15.64\"/>\n",
       "<polygon fill=\"red\" stroke=\"red\" points=\"77872.18,-13.9 77867,-15 77871.74,-17.37 77872.18,-13.9\"/>\n",
       "<text text-anchor=\"middle\" x=\"78099\" y=\"-38.6\" font-family=\"Times,serif\" font-size=\"8.00\"> 6</text>\n",
       "</g>\n",
       "<!--  0, 2, 7 -->\n",
       "<g id=\"node74\" class=\"node\">\n",
       "<title> 0, 2, 7</title>\n",
       "<polygon fill=\"none\" stroke=\"black\" points=\"78092,-18 77965,-9 78092,0 78219,-9 78092,-18\"/>\n",
       "<text text-anchor=\"middle\" x=\"78092\" y=\"-7.1\" font-family=\"Times,serif\" font-size=\"8.00\">&#45;1.3800108305555558, 1.3800108305555558</text>\n",
       "</g>\n",
       "<!--  0, 2&#45;&gt; 0, 2, 7 -->\n",
       "<g id=\"edge40\" class=\"edge\">\n",
       "<title> 0, 2&#45;&gt; 0, 2, 7</title>\n",
       "<path fill=\"none\" stroke=\"red\" d=\"M78331,-68.3C78279,-55.46 78174,-30.14 78123,-17.52\"/>\n",
       "<polygon fill=\"red\" stroke=\"red\" points=\"78122.25,-15.58 78117,-16.27 78121.53,-19 78122.25,-15.58\"/>\n",
       "<text text-anchor=\"middle\" x=\"78231\" y=\"-38.6\" font-family=\"Times,serif\" font-size=\"8.00\"> 7</text>\n",
       "</g>\n",
       "<!--  0, 2, 8 -->\n",
       "<g id=\"node75\" class=\"node\">\n",
       "<title> 0, 2, 8</title>\n",
       "<polygon fill=\"none\" stroke=\"black\" points=\"78364,-18 78237,-9 78364,0 78491,-9 78364,-18\"/>\n",
       "<text text-anchor=\"middle\" x=\"78364\" y=\"-7.1\" font-family=\"Times,serif\" font-size=\"8.00\">&#45;3.0300108305555558, 3.0300108305555558</text>\n",
       "</g>\n",
       "<!--  0, 2&#45;&gt; 0, 2, 8 -->\n",
       "<g id=\"edge41\" class=\"edge\">\n",
       "<title> 0, 2&#45;&gt; 0, 2, 8</title>\n",
       "<path fill=\"none\" stroke=\"red\" d=\"M78364,-62.76C78364,-51.34 78364,-35 78364,-23.54\"/>\n",
       "<polygon fill=\"red\" stroke=\"red\" points=\"78365.75,-23.34 78364,-18.34 78362.25,-23.34 78365.75,-23.34\"/>\n",
       "<text text-anchor=\"middle\" x=\"78367\" y=\"-38.6\" font-family=\"Times,serif\" font-size=\"8.00\"> 8</text>\n",
       "</g>\n",
       "<!--  0, 2, 9 -->\n",
       "<g id=\"node76\" class=\"node\">\n",
       "<title> 0, 2, 9</title>\n",
       "<polygon fill=\"none\" stroke=\"black\" points=\"78629,-18 78508.3,-9 78629,0 78749.7,-9 78629,-18\"/>\n",
       "<text text-anchor=\"middle\" x=\"78629\" y=\"-7.1\" font-family=\"Times,serif\" font-size=\"8.00\">&#45;2.674930830555556, 2.674930830555556</text>\n",
       "</g>\n",
       "<!--  0, 2&#45;&gt; 0, 2, 9 -->\n",
       "<g id=\"edge42\" class=\"edge\">\n",
       "<title> 0, 2&#45;&gt; 0, 2, 9</title>\n",
       "<path fill=\"none\" stroke=\"red\" d=\"M78396,-68.16C78447,-55.27 78548,-30.05 78599,-17.48\"/>\n",
       "<polygon fill=\"red\" stroke=\"red\" points=\"78599.57,-19.15 78604,-16.24 78598.72,-15.75 78599.57,-19.15\"/>\n",
       "<text text-anchor=\"middle\" x=\"78524\" y=\"-38.6\" font-family=\"Times,serif\" font-size=\"8.00\"> 9</text>\n",
       "</g>\n",
       "<!--  0, 2, 10 -->\n",
       "<g id=\"node77\" class=\"node\">\n",
       "<title> 0, 2, 10</title>\n",
       "<polygon fill=\"none\" stroke=\"black\" points=\"78894,-18 78767,-9 78894,0 79021,-9 78894,-18\"/>\n",
       "<text text-anchor=\"middle\" x=\"78894\" y=\"-7.1\" font-family=\"Times,serif\" font-size=\"8.00\">&#45;2.0149308305555556, 2.0149308305555556</text>\n",
       "</g>\n",
       "<!--  0, 2&#45;&gt; 0, 2, 10 -->\n",
       "<g id=\"edge43\" class=\"edge\">\n",
       "<title> 0, 2&#45;&gt; 0, 2, 10</title>\n",
       "<path fill=\"none\" stroke=\"red\" d=\"M78401,-71.44C78496,-59.61 78744,-28.66 78847,-15.77\"/>\n",
       "<polygon fill=\"red\" stroke=\"red\" points=\"78847.26,-17.5 78852,-15.13 78846.82,-14.03 78847.26,-17.5\"/>\n",
       "<text text-anchor=\"middle\" x=\"78682\" y=\"-38.6\" font-family=\"Times,serif\" font-size=\"8.00\"> 10</text>\n",
       "</g>\n",
       "<!--  0, 2, 11 -->\n",
       "<g id=\"node78\" class=\"node\">\n",
       "<title> 0, 2, 11</title>\n",
       "<polygon fill=\"none\" stroke=\"black\" points=\"79166,-18 79039,-9 79166,0 79293,-9 79166,-18\"/>\n",
       "<text text-anchor=\"middle\" x=\"79166\" y=\"-7.1\" font-family=\"Times,serif\" font-size=\"8.00\">&#45;1.0500108305555553, 1.0500108305555553</text>\n",
       "</g>\n",
       "<!--  0, 2&#45;&gt; 0, 2, 11 -->\n",
       "<g id=\"edge44\" class=\"edge\">\n",
       "<title> 0, 2&#45;&gt; 0, 2, 11</title>\n",
       "<path fill=\"none\" stroke=\"red\" d=\"M78403,-72.91C78533,-62.14 78954,-27.49 79108,-14.75\"/>\n",
       "<polygon fill=\"red\" stroke=\"red\" points=\"79108.17,-16.49 79113,-14.31 79107.86,-13.01 79108.17,-16.49\"/>\n",
       "<text text-anchor=\"middle\" x=\"78842\" y=\"-38.6\" font-family=\"Times,serif\" font-size=\"8.00\"> 11</text>\n",
       "</g>\n",
       "<!--  0, 2, 12 -->\n",
       "<g id=\"node79\" class=\"node\">\n",
       "<title> 0, 2, 12</title>\n",
       "<polygon fill=\"none\" stroke=\"black\" points=\"79438,-18 79311,-9 79438,0 79565,-9 79438,-18\"/>\n",
       "<text text-anchor=\"middle\" x=\"79438\" y=\"-7.1\" font-family=\"Times,serif\" font-size=\"8.00\">&#45;2.4386508305555554, 2.4386508305555554</text>\n",
       "</g>\n",
       "<!--  0, 2&#45;&gt; 0, 2, 12 -->\n",
       "<g id=\"edge45\" class=\"edge\">\n",
       "<title> 0, 2&#45;&gt; 0, 2, 12</title>\n",
       "<path fill=\"none\" stroke=\"red\" d=\"M78403,-73.69C78565,-63.76 79170,-26.48 79372,-14.05\"/>\n",
       "<polygon fill=\"red\" stroke=\"red\" points=\"79372.12,-15.8 79377,-13.73 79371.9,-12.31 79372.12,-15.8\"/>\n",
       "<text text-anchor=\"middle\" x=\"79003\" y=\"-38.6\" font-family=\"Times,serif\" font-size=\"8.00\"> 12</text>\n",
       "</g>\n",
       "<!--  0, 2, 13 -->\n",
       "<g id=\"node80\" class=\"node\">\n",
       "<title> 0, 2, 13</title>\n",
       "<polygon fill=\"none\" stroke=\"black\" points=\"79703,-18 79582.3,-9 79703,0 79823.7,-9 79703,-18\"/>\n",
       "<text text-anchor=\"middle\" x=\"79703\" y=\"-7.1\" font-family=\"Times,serif\" font-size=\"8.00\">&#45;2.083570830555556, 2.083570830555556</text>\n",
       "</g>\n",
       "<!--  0, 2&#45;&gt; 0, 2, 13 -->\n",
       "<g id=\"edge46\" class=\"edge\">\n",
       "<title> 0, 2&#45;&gt; 0, 2, 13</title>\n",
       "<path fill=\"none\" stroke=\"red\" d=\"M78404,-74.4C78557,-67.78 79114,-43.27 79574,-18 79595,-16.81 79619,-15.37 79640,-14.05\"/>\n",
       "<polygon fill=\"red\" stroke=\"red\" points=\"79640.12,-15.8 79645,-13.73 79639.9,-12.3 79640.12,-15.8\"/>\n",
       "<text text-anchor=\"middle\" x=\"79214\" y=\"-38.6\" font-family=\"Times,serif\" font-size=\"8.00\"> 13</text>\n",
       "</g>\n",
       "<!--  0, 2, 14 -->\n",
       "<g id=\"node81\" class=\"node\">\n",
       "<title> 0, 2, 14</title>\n",
       "<polygon fill=\"none\" stroke=\"black\" points=\"79968,-18 79841,-9 79968,0 80095,-9 79968,-18\"/>\n",
       "<text text-anchor=\"middle\" x=\"79968\" y=\"-7.1\" font-family=\"Times,serif\" font-size=\"8.00\">&#45;1.4235708305555559, 1.4235708305555559</text>\n",
       "</g>\n",
       "<!--  0, 2&#45;&gt; 0, 2, 14 -->\n",
       "<g id=\"edge47\" class=\"edge\">\n",
       "<title> 0, 2&#45;&gt; 0, 2, 14</title>\n",
       "<path fill=\"none\" stroke=\"red\" d=\"M78404,-74.9C78577,-69.53 79266,-47.3 79833,-18 79855,-16.83 79880,-15.4 79902,-14.07\"/>\n",
       "<polygon fill=\"red\" stroke=\"red\" points=\"79902.12,-15.82 79907,-13.76 79901.9,-12.33 79902.12,-15.82\"/>\n",
       "<text text-anchor=\"middle\" x=\"79435\" y=\"-38.6\" font-family=\"Times,serif\" font-size=\"8.00\"> 14</text>\n",
       "</g>\n",
       "<!--  0, 2, 15 -->\n",
       "<g id=\"node82\" class=\"node\">\n",
       "<title> 0, 2, 15</title>\n",
       "<polygon fill=\"none\" stroke=\"black\" points=\"80247,-18 80113,-9 80247,0 80381,-9 80247,-18\"/>\n",
       "<text text-anchor=\"middle\" x=\"80247\" y=\"-7.1\" font-family=\"Times,serif\" font-size=\"8.00\">&#45;0.45865083055555533, 0.45865083055555533</text>\n",
       "</g>\n",
       "<!--  0, 2&#45;&gt; 0, 2, 15 -->\n",
       "<g id=\"edge48\" class=\"edge\">\n",
       "<title> 0, 2&#45;&gt; 0, 2, 15</title>\n",
       "<path fill=\"none\" stroke=\"red\" d=\"M78404,-75.23C78596,-70.86 79425,-50.88 80104,-18 80128,-16.82 80155,-15.37 80178,-14.03\"/>\n",
       "<polygon fill=\"red\" stroke=\"red\" points=\"80178.11,-15.78 80183,-13.75 80177.91,-12.29 80178.11,-15.78\"/>\n",
       "<text text-anchor=\"middle\" x=\"79680\" y=\"-38.6\" font-family=\"Times,serif\" font-size=\"8.00\"> 15</text>\n",
       "</g>\n",
       "<!--  0, 3 -->\n",
       "<g id=\"node4\" class=\"node\">\n",
       "<title> 0, 3</title>\n",
       "<ellipse fill=\"none\" stroke=\"red\" cx=\"82537\" cy=\"-77.14\" rx=\"41.02\" ry=\"14.29\"/>\n",
       "<text text-anchor=\"middle\" x=\"82537\" y=\"-79.74\" font-family=\"Times,serif\" font-size=\"8.00\">Current player: 1</text>\n",
       "<text text-anchor=\"middle\" x=\"82537\" y=\"-70.74\" font-family=\"Times,serif\" font-size=\"8.00\">us: op:</text>\n",
       "</g>\n",
       "<!--  0, 3, 0 -->\n",
       "<g id=\"node83\" class=\"node\">\n",
       "<title> 0, 3, 0</title>\n",
       "<polygon fill=\"none\" stroke=\"black\" points=\"80520,-18 80399.3,-9 80520,0 80640.7,-9 80520,-18\"/>\n",
       "<text text-anchor=\"middle\" x=\"80520\" y=\"-7.1\" font-family=\"Times,serif\" font-size=\"8.00\">&#45;5.026435224999999, 5.026435224999999</text>\n",
       "</g>\n",
       "<!--  0, 3&#45;&gt; 0, 3, 0 -->\n",
       "<g id=\"edge49\" class=\"edge\">\n",
       "<title> 0, 3&#45;&gt; 0, 3, 0</title>\n",
       "<path fill=\"none\" stroke=\"red\" d=\"M82496,-75.58C82332,-73.25 81709,-63.58 81197,-45 80953,-36.17 80892,-31.55 80649,-18 80627,-16.79 80603,-15.36 80582,-14.04\"/>\n",
       "<polygon fill=\"red\" stroke=\"red\" points=\"80582.1,-12.29 80577,-13.72 80581.88,-15.78 80582.1,-12.29\"/>\n",
       "<text text-anchor=\"middle\" x=\"81200\" y=\"-38.6\" font-family=\"Times,serif\" font-size=\"8.00\"> 0</text>\n",
       "</g>\n",
       "<!--  0, 3, 1 -->\n",
       "<g id=\"node84\" class=\"node\">\n",
       "<title> 0, 3, 1</title>\n",
       "<polygon fill=\"none\" stroke=\"black\" points=\"80779,-18 80658.3,-9 80779,0 80899.7,-9 80779,-18\"/>\n",
       "<text text-anchor=\"middle\" x=\"80779\" y=\"-7.1\" font-family=\"Times,serif\" font-size=\"8.00\">&#45;4.671355224999999, 4.671355224999999</text>\n",
       "</g>\n",
       "<!--  0, 3&#45;&gt; 0, 3, 1 -->\n",
       "<g id=\"edge50\" class=\"edge\">\n",
       "<title> 0, 3&#45;&gt; 0, 3, 1</title>\n",
       "<path fill=\"none\" stroke=\"red\" d=\"M82496,-75.45C82348,-72.85 81825,-62.87 81394,-45 81191,-36.61 80951,-21.46 80841,-14.16\"/>\n",
       "<polygon fill=\"red\" stroke=\"red\" points=\"80840.09,-12.36 80835,-13.82 80839.89,-15.85 80840.09,-12.36\"/>\n",
       "<text text-anchor=\"middle\" x=\"81397\" y=\"-38.6\" font-family=\"Times,serif\" font-size=\"8.00\"> 1</text>\n",
       "</g>\n",
       "<!--  0, 3, 2 -->\n",
       "<g id=\"node85\" class=\"node\">\n",
       "<title> 0, 3, 2</title>\n",
       "<polygon fill=\"none\" stroke=\"black\" points=\"80998,-18 80917.5,-9 80998,0 81078.5,-9 80998,-18\"/>\n",
       "<text text-anchor=\"middle\" x=\"80998\" y=\"-7.1\" font-family=\"Times,serif\" font-size=\"8.00\">&#45;4.011355225, 4.011355225</text>\n",
       "</g>\n",
       "<!--  0, 3&#45;&gt; 0, 3, 2 -->\n",
       "<g id=\"edge51\" class=\"edge\">\n",
       "<title> 0, 3&#45;&gt; 0, 3, 2</title>\n",
       "<path fill=\"none\" stroke=\"red\" d=\"M82496,-75.31C82324,-71.65 81644,-55.41 81087,-18 81072,-17 81055,-15.62 81041,-14.29\"/>\n",
       "<polygon fill=\"red\" stroke=\"red\" points=\"81041.15,-12.55 81036,-13.81 81040.81,-16.03 81041.15,-12.55\"/>\n",
       "<text text-anchor=\"middle\" x=\"81569\" y=\"-38.6\" font-family=\"Times,serif\" font-size=\"8.00\"> 2</text>\n",
       "</g>\n",
       "<!--  0, 3, 3 -->\n",
       "<g id=\"node86\" class=\"node\">\n",
       "<title> 0, 3, 3</title>\n",
       "<polygon fill=\"none\" stroke=\"black\" points=\"81217,-18 81096.3,-9 81217,0 81337.7,-9 81217,-18\"/>\n",
       "<text text-anchor=\"middle\" x=\"81217\" y=\"-7.1\" font-family=\"Times,serif\" font-size=\"8.00\">&#45;3.046435224999999, 3.046435224999999</text>\n",
       "</g>\n",
       "<!--  0, 3&#45;&gt; 0, 3, 3 -->\n",
       "<g id=\"edge52\" class=\"edge\">\n",
       "<title> 0, 3&#45;&gt; 0, 3, 3</title>\n",
       "<path fill=\"none\" stroke=\"red\" d=\"M82496,-74.36C82345,-67.66 81797,-43.01 81346,-18 81324,-16.8 81300,-15.36 81279,-14.04\"/>\n",
       "<polygon fill=\"red\" stroke=\"red\" points=\"81279.1,-12.29 81274,-13.73 81278.88,-15.79 81279.1,-12.29\"/>\n",
       "<text text-anchor=\"middle\" x=\"81840\" y=\"-38.6\" font-family=\"Times,serif\" font-size=\"8.00\"> 3</text>\n",
       "</g>\n",
       "<!--  0, 3, 4 -->\n",
       "<g id=\"node87\" class=\"node\">\n",
       "<title> 0, 3, 4</title>\n",
       "<polygon fill=\"none\" stroke=\"black\" points=\"81476,-18 81355.3,-9 81476,0 81596.7,-9 81476,-18\"/>\n",
       "<text text-anchor=\"middle\" x=\"81476\" y=\"-7.1\" font-family=\"Times,serif\" font-size=\"8.00\">&#45;4.957795224999999, 4.957795224999999</text>\n",
       "</g>\n",
       "<!--  0, 3&#45;&gt; 0, 3, 4 -->\n",
       "<g id=\"edge53\" class=\"edge\">\n",
       "<title> 0, 3&#45;&gt; 0, 3, 4</title>\n",
       "<path fill=\"none\" stroke=\"red\" d=\"M82497,-73.65C82336,-63.64 81737,-26.31 81539,-13.98\"/>\n",
       "<polygon fill=\"red\" stroke=\"red\" points=\"81539.1,-12.23 81534,-13.66 81538.88,-15.73 81539.1,-12.23\"/>\n",
       "<text text-anchor=\"middle\" x=\"82010\" y=\"-38.6\" font-family=\"Times,serif\" font-size=\"8.00\"> 4</text>\n",
       "</g>\n",
       "<!--  0, 3, 5 -->\n",
       "<g id=\"node88\" class=\"node\">\n",
       "<title> 0, 3, 5</title>\n",
       "<polygon fill=\"none\" stroke=\"black\" points=\"81735,-18 81614.3,-9 81735,0 81855.7,-9 81735,-18\"/>\n",
       "<text text-anchor=\"middle\" x=\"81735\" y=\"-7.1\" font-family=\"Times,serif\" font-size=\"8.00\">&#45;4.602715224999999, 4.602715224999999</text>\n",
       "</g>\n",
       "<!--  0, 3&#45;&gt; 0, 3, 5 -->\n",
       "<g id=\"edge54\" class=\"edge\">\n",
       "<title> 0, 3&#45;&gt; 0, 3, 5</title>\n",
       "<path fill=\"none\" stroke=\"red\" d=\"M82497,-72.91C82367,-62.12 81945,-27.32 81791,-14.66\"/>\n",
       "<polygon fill=\"red\" stroke=\"red\" points=\"81791.13,-12.92 81786,-14.22 81790.83,-16.4 81791.13,-12.92\"/>\n",
       "<text text-anchor=\"middle\" x=\"82139\" y=\"-38.6\" font-family=\"Times,serif\" font-size=\"8.00\"> 5</text>\n",
       "</g>\n",
       "<!--  0, 3, 6 -->\n",
       "<g id=\"node89\" class=\"node\">\n",
       "<title> 0, 3, 6</title>\n",
       "<polygon fill=\"none\" stroke=\"black\" points=\"82000,-18 81873,-9 82000,0 82127,-9 82000,-18\"/>\n",
       "<text text-anchor=\"middle\" x=\"82000\" y=\"-7.1\" font-family=\"Times,serif\" font-size=\"8.00\">&#45;3.9427152249999993, 3.9427152249999993</text>\n",
       "</g>\n",
       "<!--  0, 3&#45;&gt; 0, 3, 6 -->\n",
       "<g id=\"edge55\" class=\"edge\">\n",
       "<title> 0, 3&#45;&gt; 0, 3, 6</title>\n",
       "<path fill=\"none\" stroke=\"red\" d=\"M82499,-71.49C82403,-59.69 82151,-28.62 82046,-15.73\"/>\n",
       "<polygon fill=\"red\" stroke=\"red\" points=\"82046.18,-13.99 82041,-15.1 82045.74,-17.46 82046.18,-13.99\"/>\n",
       "<text text-anchor=\"middle\" x=\"82272\" y=\"-38.6\" font-family=\"Times,serif\" font-size=\"8.00\"> 6</text>\n",
       "</g>\n",
       "<!--  0, 3, 7 -->\n",
       "<g id=\"node90\" class=\"node\">\n",
       "<title> 0, 3, 7</title>\n",
       "<polygon fill=\"none\" stroke=\"black\" points=\"82272,-18 82145,-9 82272,0 82399,-9 82272,-18\"/>\n",
       "<text text-anchor=\"middle\" x=\"82272\" y=\"-7.1\" font-family=\"Times,serif\" font-size=\"8.00\">&#45;2.9777952249999995, 2.9777952249999995</text>\n",
       "</g>\n",
       "<!--  0, 3&#45;&gt; 0, 3, 7 -->\n",
       "<g id=\"edge56\" class=\"edge\">\n",
       "<title> 0, 3&#45;&gt; 0, 3, 7</title>\n",
       "<path fill=\"none\" stroke=\"red\" d=\"M82505,-68.16C82453,-55.27 82352,-30.05 82302,-17.48\"/>\n",
       "<polygon fill=\"red\" stroke=\"red\" points=\"82302.27,-15.75 82297,-16.24 82301.43,-19.15 82302.27,-15.75\"/>\n",
       "<text text-anchor=\"middle\" x=\"82408\" y=\"-38.6\" font-family=\"Times,serif\" font-size=\"8.00\"> 7</text>\n",
       "</g>\n",
       "<!--  0, 3, 8 -->\n",
       "<g id=\"node91\" class=\"node\">\n",
       "<title> 0, 3, 8</title>\n",
       "<polygon fill=\"none\" stroke=\"black\" points=\"82537,-18 82416.3,-9 82537,0 82657.7,-9 82537,-18\"/>\n",
       "<text text-anchor=\"middle\" x=\"82537\" y=\"-7.1\" font-family=\"Times,serif\" font-size=\"8.00\">&#45;4.627795224999999, 4.627795224999999</text>\n",
       "</g>\n",
       "<!--  0, 3&#45;&gt; 0, 3, 8 -->\n",
       "<g id=\"edge57\" class=\"edge\">\n",
       "<title> 0, 3&#45;&gt; 0, 3, 8</title>\n",
       "<path fill=\"none\" stroke=\"red\" d=\"M82537,-62.76C82537,-51.34 82537,-35 82537,-23.54\"/>\n",
       "<polygon fill=\"red\" stroke=\"red\" points=\"82538.75,-23.34 82537,-18.34 82535.25,-23.34 82538.75,-23.34\"/>\n",
       "<text text-anchor=\"middle\" x=\"82540\" y=\"-38.6\" font-family=\"Times,serif\" font-size=\"8.00\"> 8</text>\n",
       "</g>\n",
       "<!--  0, 3, 9 -->\n",
       "<g id=\"node92\" class=\"node\">\n",
       "<title> 0, 3, 9</title>\n",
       "<polygon fill=\"none\" stroke=\"black\" points=\"82796,-18 82675.3,-9 82796,0 82916.7,-9 82796,-18\"/>\n",
       "<text text-anchor=\"middle\" x=\"82796\" y=\"-7.1\" font-family=\"Times,serif\" font-size=\"8.00\">&#45;4.272715224999999, 4.272715224999999</text>\n",
       "</g>\n",
       "<!--  0, 3&#45;&gt; 0, 3, 9 -->\n",
       "<g id=\"edge58\" class=\"edge\">\n",
       "<title> 0, 3&#45;&gt; 0, 3, 9</title>\n",
       "<path fill=\"none\" stroke=\"red\" d=\"M82568,-68.03C82619,-55.09 82717,-29.96 82766,-17.45\"/>\n",
       "<polygon fill=\"red\" stroke=\"red\" points=\"82766.57,-19.11 82771,-16.21 82765.72,-15.72 82766.57,-19.11\"/>\n",
       "<text text-anchor=\"middle\" x=\"82693\" y=\"-38.6\" font-family=\"Times,serif\" font-size=\"8.00\"> 9</text>\n",
       "</g>\n",
       "<!--  0, 3, 10 -->\n",
       "<g id=\"node93\" class=\"node\">\n",
       "<title> 0, 3, 10</title>\n",
       "<polygon fill=\"none\" stroke=\"black\" points=\"83055,-18 82934.3,-9 83055,0 83175.7,-9 83055,-18\"/>\n",
       "<text text-anchor=\"middle\" x=\"83055\" y=\"-7.1\" font-family=\"Times,serif\" font-size=\"8.00\">&#45;3.612715224999999, 3.612715224999999</text>\n",
       "</g>\n",
       "<!--  0, 3&#45;&gt; 0, 3, 10 -->\n",
       "<g id=\"edge59\" class=\"edge\">\n",
       "<title> 0, 3&#45;&gt; 0, 3, 10</title>\n",
       "<path fill=\"none\" stroke=\"red\" d=\"M82574,-71.33C82668,-59.42 82909,-28.57 83010,-15.73\"/>\n",
       "<polygon fill=\"red\" stroke=\"red\" points=\"83010.28,-17.46 83015,-15.06 83009.81,-13.99 83010.28,-17.46\"/>\n",
       "<text text-anchor=\"middle\" x=\"82848\" y=\"-38.6\" font-family=\"Times,serif\" font-size=\"8.00\"> 10</text>\n",
       "</g>\n",
       "<!--  0, 3, 11 -->\n",
       "<g id=\"node94\" class=\"node\">\n",
       "<title> 0, 3, 11</title>\n",
       "<polygon fill=\"none\" stroke=\"black\" points=\"83314,-18 83193.3,-9 83314,0 83434.7,-9 83314,-18\"/>\n",
       "<text text-anchor=\"middle\" x=\"83314\" y=\"-7.1\" font-family=\"Times,serif\" font-size=\"8.00\">&#45;2.647795224999999, 2.647795224999999</text>\n",
       "</g>\n",
       "<!--  0, 3&#45;&gt; 0, 3, 11 -->\n",
       "<g id=\"edge60\" class=\"edge\">\n",
       "<title> 0, 3&#45;&gt; 0, 3, 11</title>\n",
       "<path fill=\"none\" stroke=\"red\" d=\"M82576,-72.82C82703,-61.94 83110,-27.37 83258,-14.71\"/>\n",
       "<polygon fill=\"red\" stroke=\"red\" points=\"83258.17,-16.45 83263,-14.27 83257.86,-12.96 83258.17,-16.45\"/>\n",
       "<text text-anchor=\"middle\" x=\"83001\" y=\"-38.6\" font-family=\"Times,serif\" font-size=\"8.00\"> 11</text>\n",
       "</g>\n",
       "<!--  0, 3, 12 -->\n",
       "<g id=\"node95\" class=\"node\">\n",
       "<title> 0, 3, 12</title>\n",
       "<polygon fill=\"none\" stroke=\"black\" points=\"83573,-18 83452.3,-9 83573,0 83693.7,-9 83573,-18\"/>\n",
       "<text text-anchor=\"middle\" x=\"83573\" y=\"-7.1\" font-family=\"Times,serif\" font-size=\"8.00\">&#45;4.036435224999999, 4.036435224999999</text>\n",
       "</g>\n",
       "<!--  0, 3&#45;&gt; 0, 3, 12 -->\n",
       "<g id=\"edge61\" class=\"edge\">\n",
       "<title> 0, 3&#45;&gt; 0, 3, 12</title>\n",
       "<path fill=\"none\" stroke=\"red\" d=\"M82577,-73.59C82735,-63.51 83316,-26.39 83509,-14.03\"/>\n",
       "<polygon fill=\"red\" stroke=\"red\" points=\"83509.12,-15.78 83514,-13.71 83508.9,-12.29 83509.12,-15.78\"/>\n",
       "<text text-anchor=\"middle\" x=\"83153\" y=\"-38.6\" font-family=\"Times,serif\" font-size=\"8.00\"> 12</text>\n",
       "</g>\n",
       "<!--  0, 3, 13 -->\n",
       "<g id=\"node96\" class=\"node\">\n",
       "<title> 0, 3, 13</title>\n",
       "<polygon fill=\"none\" stroke=\"black\" points=\"83838,-18 83711,-9 83838,0 83965,-9 83838,-18\"/>\n",
       "<text text-anchor=\"middle\" x=\"83838\" y=\"-7.1\" font-family=\"Times,serif\" font-size=\"8.00\">&#45;3.6813552249999995, 3.6813552249999995</text>\n",
       "</g>\n",
       "<!--  0, 3&#45;&gt; 0, 3, 13 -->\n",
       "<g id=\"edge62\" class=\"edge\">\n",
       "<title> 0, 3&#45;&gt; 0, 3, 13</title>\n",
       "<path fill=\"none\" stroke=\"red\" d=\"M82577,-74.27C82726,-67.31 83261,-42.08 83703,-18 83725,-16.77 83750,-15.33 83772,-14.02\"/>\n",
       "<polygon fill=\"red\" stroke=\"red\" points=\"83772.12,-15.76 83777,-13.7 83771.9,-12.27 83772.12,-15.76\"/>\n",
       "<text text-anchor=\"middle\" x=\"83356\" y=\"-38.6\" font-family=\"Times,serif\" font-size=\"8.00\"> 13</text>\n",
       "</g>\n",
       "<!--  0, 3, 14 -->\n",
       "<g id=\"node97\" class=\"node\">\n",
       "<title> 0, 3, 14</title>\n",
       "<polygon fill=\"none\" stroke=\"black\" points=\"84110,-18 83983,-9 84110,0 84237,-9 84110,-18\"/>\n",
       "<text text-anchor=\"middle\" x=\"84110\" y=\"-7.1\" font-family=\"Times,serif\" font-size=\"8.00\">&#45;3.0213552249999993, 3.0213552249999993</text>\n",
       "</g>\n",
       "<!--  0, 3&#45;&gt; 0, 3, 14 -->\n",
       "<g id=\"edge63\" class=\"edge\">\n",
       "<title> 0, 3&#45;&gt; 0, 3, 14</title>\n",
       "<path fill=\"none\" stroke=\"red\" d=\"M82577,-74.83C82747,-69.26 83421,-46.52 83974,-18 83997,-16.81 84022,-15.37 84044,-14.03\"/>\n",
       "<polygon fill=\"red\" stroke=\"red\" points=\"84044.11,-15.78 84049,-13.73 84043.9,-12.28 84044.11,-15.78\"/>\n",
       "<text text-anchor=\"middle\" x=\"83585\" y=\"-38.6\" font-family=\"Times,serif\" font-size=\"8.00\"> 14</text>\n",
       "</g>\n",
       "<!--  0, 3, 15 -->\n",
       "<g id=\"node98\" class=\"node\">\n",
       "<title> 0, 3, 15</title>\n",
       "<polygon fill=\"none\" stroke=\"black\" points=\"84382,-18 84255,-9 84382,0 84509,-9 84382,-18\"/>\n",
       "<text text-anchor=\"middle\" x=\"84382\" y=\"-7.1\" font-family=\"Times,serif\" font-size=\"8.00\">&#45;2.0564352249999986, 2.0564352249999986</text>\n",
       "</g>\n",
       "<!--  0, 3&#45;&gt; 0, 3, 15 -->\n",
       "<g id=\"edge64\" class=\"edge\">\n",
       "<title> 0, 3&#45;&gt; 0, 3, 15</title>\n",
       "<path fill=\"none\" stroke=\"red\" d=\"M82577,-75.24C82767,-70.94 83580,-51.38 84246,-18 84269,-16.84 84294,-15.39 84317,-14.05\"/>\n",
       "<polygon fill=\"red\" stroke=\"red\" points=\"84317.11,-15.8 84322,-13.75 84316.9,-12.3 84317.11,-15.8\"/>\n",
       "<text text-anchor=\"middle\" x=\"83830\" y=\"-38.6\" font-family=\"Times,serif\" font-size=\"8.00\"> 15</text>\n",
       "</g>\n",
       "<!--  0, 4 -->\n",
       "<g id=\"node5\" class=\"node\">\n",
       "<title> 0, 4</title>\n",
       "<ellipse fill=\"none\" stroke=\"red\" cx=\"86798\" cy=\"-77.14\" rx=\"41.02\" ry=\"14.29\"/>\n",
       "<text text-anchor=\"middle\" x=\"86798\" y=\"-79.74\" font-family=\"Times,serif\" font-size=\"8.00\">Current player: 1</text>\n",
       "<text text-anchor=\"middle\" x=\"86798\" y=\"-70.74\" font-family=\"Times,serif\" font-size=\"8.00\">us: op:</text>\n",
       "</g>\n",
       "<!--  0, 4, 0 -->\n",
       "<g id=\"node99\" class=\"node\">\n",
       "<title> 0, 4, 0</title>\n",
       "<polygon fill=\"none\" stroke=\"black\" points=\"84661,-18 84527,-9 84661,0 84795,-9 84661,-18\"/>\n",
       "<text text-anchor=\"middle\" x=\"84661\" y=\"-7.1\" font-family=\"Times,serif\" font-size=\"8.00\">&#45;0.43507522500000007, 0.43507522500000007</text>\n",
       "</g>\n",
       "<!--  0, 4&#45;&gt; 0, 4, 0 -->\n",
       "<g id=\"edge65\" class=\"edge\">\n",
       "<title> 0, 4&#45;&gt; 0, 4, 0</title>\n",
       "<path fill=\"none\" stroke=\"red\" d=\"M86757,-75.47C86593,-72.7 85968,-61.61 85455,-45 85165,-35.64 85093,-32.09 84804,-18 84779,-16.82 84753,-15.39 84730,-14.06\"/>\n",
       "<polygon fill=\"red\" stroke=\"red\" points=\"84729.08,-12.26 84724,-13.76 84728.91,-15.76 84729.08,-12.26\"/>\n",
       "<text text-anchor=\"middle\" x=\"85458\" y=\"-38.6\" font-family=\"Times,serif\" font-size=\"8.00\"> 0</text>\n",
       "</g>\n",
       "<!--  0, 4, 1 -->\n",
       "<g id=\"node100\" class=\"node\">\n",
       "<title> 0, 4, 1</title>\n",
       "<polygon fill=\"none\" stroke=\"black\" points=\"84947,-18 84813,-9 84947,0 85081,-9 84947,-18\"/>\n",
       "<text text-anchor=\"middle\" x=\"84947\" y=\"-7.1\" font-family=\"Times,serif\" font-size=\"8.00\">&#45;0.07999522500000011, 0.07999522500000011</text>\n",
       "</g>\n",
       "<!--  0, 4&#45;&gt; 0, 4, 1 -->\n",
       "<g id=\"edge66\" class=\"edge\">\n",
       "<title> 0, 4&#45;&gt; 0, 4, 1</title>\n",
       "<path fill=\"none\" stroke=\"red\" d=\"M86757,-75.23C86612,-71.93 86111,-60.06 85697,-45 85427,-35.18 85359,-31.54 85090,-18 85066,-16.79 85039,-15.36 85016,-14.04\"/>\n",
       "<polygon fill=\"red\" stroke=\"red\" points=\"85016.09,-12.29 85011,-13.74 85015.89,-15.78 85016.09,-12.29\"/>\n",
       "<text text-anchor=\"middle\" x=\"85700\" y=\"-38.6\" font-family=\"Times,serif\" font-size=\"8.00\"> 1</text>\n",
       "</g>\n",
       "<!--  0, 4, 2 -->\n",
       "<g id=\"node101\" class=\"node\">\n",
       "<title> 0, 4, 2</title>\n",
       "<polygon fill=\"none\" stroke=\"black\" points=\"85226,-18 85099,-9 85226,0 85353,-9 85226,-18\"/>\n",
       "<text text-anchor=\"middle\" x=\"85226\" y=\"-7.1\" font-family=\"Times,serif\" font-size=\"8.00\">0.5800047749999998, &#45;0.5800047749999998</text>\n",
       "</g>\n",
       "<!--  0, 4&#45;&gt; 0, 4, 2 -->\n",
       "<g id=\"edge67\" class=\"edge\">\n",
       "<title> 0, 4&#45;&gt; 0, 4, 2</title>\n",
       "<path fill=\"none\" stroke=\"red\" d=\"M86757,-74.93C86630,-71.13 86233,-58.9 85905,-45 85663,-34.79 85603,-31.09 85362,-18 85339,-16.76 85314,-15.32 85292,-14\"/>\n",
       "<polygon fill=\"red\" stroke=\"red\" points=\"85292.09,-12.25 85287,-13.7 85291.89,-15.75 85292.09,-12.25\"/>\n",
       "<text text-anchor=\"middle\" x=\"85908\" y=\"-38.6\" font-family=\"Times,serif\" font-size=\"8.00\"> 2</text>\n",
       "</g>\n",
       "<!--  0, 4, 3 -->\n",
       "<g id=\"node102\" class=\"node\">\n",
       "<title> 0, 4, 3</title>\n",
       "<polygon fill=\"none\" stroke=\"black\" points=\"85498,-18 85371,-9 85498,0 85625,-9 85498,-18\"/>\n",
       "<text text-anchor=\"middle\" x=\"85498\" y=\"-7.1\" font-family=\"Times,serif\" font-size=\"8.00\">1.5449247750000001, &#45;1.5449247750000001</text>\n",
       "</g>\n",
       "<!--  0, 4&#45;&gt; 0, 4, 3 -->\n",
       "<g id=\"edge68\" class=\"edge\">\n",
       "<title> 0, 4&#45;&gt; 0, 4, 3</title>\n",
       "<path fill=\"none\" stroke=\"red\" d=\"M86757,-74.66C86647,-70.57 86333,-58.53 86073,-45 85887,-35.35 85667,-21.23 85561,-14.24\"/>\n",
       "<polygon fill=\"red\" stroke=\"red\" points=\"85561.11,-12.5 85556,-13.9 85560.87,-15.99 85561.11,-12.5\"/>\n",
       "<text text-anchor=\"middle\" x=\"86076\" y=\"-38.6\" font-family=\"Times,serif\" font-size=\"8.00\"> 3</text>\n",
       "</g>\n",
       "<!--  0, 4, 4 -->\n",
       "<g id=\"node103\" class=\"node\">\n",
       "<title> 0, 4, 4</title>\n",
       "<polygon fill=\"none\" stroke=\"black\" points=\"85723,-18 85642.5,-9 85723,0 85803.5,-9 85723,-18\"/>\n",
       "<text text-anchor=\"middle\" x=\"85723\" y=\"-7.1\" font-family=\"Times,serif\" font-size=\"8.00\">&#45;0.366435225, 0.366435225</text>\n",
       "</g>\n",
       "<!--  0, 4&#45;&gt; 0, 4, 4 -->\n",
       "<g id=\"edge69\" class=\"edge\">\n",
       "<title> 0, 4&#45;&gt; 0, 4, 4</title>\n",
       "<path fill=\"none\" stroke=\"red\" d=\"M86757,-74.19C86623,-67.6 86179,-45.1 85813,-18 85798,-16.9 85781,-15.51 85767,-14.2\"/>\n",
       "<polygon fill=\"red\" stroke=\"red\" points=\"85767.14,-12.45 85762,-13.72 85766.81,-15.94 85767.14,-12.45\"/>\n",
       "<text text-anchor=\"middle\" x=\"86222\" y=\"-38.6\" font-family=\"Times,serif\" font-size=\"8.00\"> 4</text>\n",
       "</g>\n",
       "<!--  0, 4, 5 -->\n",
       "<g id=\"node104\" class=\"node\">\n",
       "<title> 0, 4, 5</title>\n",
       "<polygon fill=\"none\" stroke=\"black\" points=\"85962,-18 85821.5,-9 85962,0 86102.5,-9 85962,-18\"/>\n",
       "<text text-anchor=\"middle\" x=\"85962\" y=\"-7.1\" font-family=\"Times,serif\" font-size=\"8.00\">&#45;0.011355225000000135, 0.011355225000000135</text>\n",
       "</g>\n",
       "<!--  0, 4&#45;&gt; 0, 4, 5 -->\n",
       "<g id=\"edge70\" class=\"edge\">\n",
       "<title> 0, 4&#45;&gt; 0, 4, 5</title>\n",
       "<path fill=\"none\" stroke=\"red\" d=\"M86758,-73.02C86624,-62.41 86185,-27.67 86023,-14.83\"/>\n",
       "<polygon fill=\"red\" stroke=\"red\" points=\"86022.11,-13.02 86017,-14.42 86021.87,-16.51 86022.11,-13.02\"/>\n",
       "<text text-anchor=\"middle\" x=\"86383\" y=\"-38.6\" font-family=\"Times,serif\" font-size=\"8.00\"> 5</text>\n",
       "</g>\n",
       "<!--  0, 4, 6 -->\n",
       "<g id=\"node105\" class=\"node\">\n",
       "<title> 0, 4, 6</title>\n",
       "<polygon fill=\"none\" stroke=\"black\" points=\"86247,-18 86120,-9 86247,0 86374,-9 86247,-18\"/>\n",
       "<text text-anchor=\"middle\" x=\"86247\" y=\"-7.1\" font-family=\"Times,serif\" font-size=\"8.00\">0.6486447749999998, &#45;0.6486447749999998</text>\n",
       "</g>\n",
       "<!--  0, 4&#45;&gt; 0, 4, 6 -->\n",
       "<g id=\"edge71\" class=\"edge\">\n",
       "<title> 0, 4&#45;&gt; 0, 4, 6</title>\n",
       "<path fill=\"none\" stroke=\"red\" d=\"M86760,-71.6C86662,-59.84 86401,-28.49 86293,-15.62\"/>\n",
       "<polygon fill=\"red\" stroke=\"red\" points=\"86293.17,-13.88 86288,-15.03 86292.76,-17.36 86293.17,-13.88\"/>\n",
       "<text text-anchor=\"middle\" x=\"86526\" y=\"-38.6\" font-family=\"Times,serif\" font-size=\"8.00\"> 6</text>\n",
       "</g>\n",
       "<!--  0, 4, 7 -->\n",
       "<g id=\"node106\" class=\"node\">\n",
       "<title> 0, 4, 7</title>\n",
       "<polygon fill=\"none\" stroke=\"black\" points=\"86519,-18 86392,-9 86519,0 86646,-9 86519,-18\"/>\n",
       "<text text-anchor=\"middle\" x=\"86519\" y=\"-7.1\" font-family=\"Times,serif\" font-size=\"8.00\">1.6135647749999997, &#45;1.6135647749999997</text>\n",
       "</g>\n",
       "<!--  0, 4&#45;&gt; 0, 4, 7 -->\n",
       "<g id=\"edge72\" class=\"edge\">\n",
       "<title> 0, 4&#45;&gt; 0, 4, 7</title>\n",
       "<path fill=\"none\" stroke=\"red\" d=\"M86765,-68.42C86711,-55.58 86603,-30 86550,-17.38\"/>\n",
       "<polygon fill=\"red\" stroke=\"red\" points=\"86550.27,-15.65 86545,-16.2 86549.46,-19.05 86550.27,-15.65\"/>\n",
       "<text text-anchor=\"middle\" x=\"86662\" y=\"-38.6\" font-family=\"Times,serif\" font-size=\"8.00\"> 7</text>\n",
       "</g>\n",
       "<!--  0, 4, 8 -->\n",
       "<g id=\"node107\" class=\"node\">\n",
       "<title> 0, 4, 8</title>\n",
       "<polygon fill=\"none\" stroke=\"black\" points=\"86798,-18 86664,-9 86798,0 86932,-9 86798,-18\"/>\n",
       "<text text-anchor=\"middle\" x=\"86798\" y=\"-7.1\" font-family=\"Times,serif\" font-size=\"8.00\">&#45;0.03643522499999996, 0.03643522499999996</text>\n",
       "</g>\n",
       "<!--  0, 4&#45;&gt; 0, 4, 8 -->\n",
       "<g id=\"edge73\" class=\"edge\">\n",
       "<title> 0, 4&#45;&gt; 0, 4, 8</title>\n",
       "<path fill=\"none\" stroke=\"red\" d=\"M86798,-62.76C86798,-51.34 86798,-35 86798,-23.54\"/>\n",
       "<polygon fill=\"red\" stroke=\"red\" points=\"86799.75,-23.34 86798,-18.34 86796.25,-23.34 86799.75,-23.34\"/>\n",
       "<text text-anchor=\"middle\" x=\"86801\" y=\"-38.6\" font-family=\"Times,serif\" font-size=\"8.00\"> 8</text>\n",
       "</g>\n",
       "<!--  0, 4, 9 -->\n",
       "<g id=\"node108\" class=\"node\">\n",
       "<title> 0, 4, 9</title>\n",
       "<polygon fill=\"none\" stroke=\"black\" points=\"87084,-18 86950,-9 87084,0 87218,-9 87084,-18\"/>\n",
       "<text text-anchor=\"middle\" x=\"87084\" y=\"-7.1\" font-family=\"Times,serif\" font-size=\"8.00\">0.31864477499999977, &#45;0.31864477499999977</text>\n",
       "</g>\n",
       "<!--  0, 4&#45;&gt; 0, 4, 9 -->\n",
       "<g id=\"edge74\" class=\"edge\">\n",
       "<title> 0, 4&#45;&gt; 0, 4, 9</title>\n",
       "<path fill=\"none\" stroke=\"red\" d=\"M86830,-68.56C86886,-55.77 86997,-30.08 87052,-17.41\"/>\n",
       "<polygon fill=\"red\" stroke=\"red\" points=\"87052.54,-19.08 87057,-16.23 87051.73,-15.68 87052.54,-19.08\"/>\n",
       "<text text-anchor=\"middle\" x=\"86970\" y=\"-38.6\" font-family=\"Times,serif\" font-size=\"8.00\"> 9</text>\n",
       "</g>\n",
       "<!--  0, 4, 10 -->\n",
       "<g id=\"node109\" class=\"node\">\n",
       "<title> 0, 4, 10</title>\n",
       "<polygon fill=\"none\" stroke=\"black\" points=\"87363,-18 87236,-9 87363,0 87490,-9 87363,-18\"/>\n",
       "<text text-anchor=\"middle\" x=\"87363\" y=\"-7.1\" font-family=\"Times,serif\" font-size=\"8.00\">0.9786447749999999, &#45;0.9786447749999999</text>\n",
       "</g>\n",
       "<!--  0, 4&#45;&gt; 0, 4, 10 -->\n",
       "<g id=\"edge75\" class=\"edge\">\n",
       "<title> 0, 4&#45;&gt; 0, 4, 10</title>\n",
       "<path fill=\"none\" stroke=\"red\" d=\"M86836,-71.7C86935,-60.02 87205,-28.49 87315,-15.6\"/>\n",
       "<polygon fill=\"red\" stroke=\"red\" points=\"87315.24,-17.34 87320,-15 87314.83,-13.86 87315.24,-17.34\"/>\n",
       "<text text-anchor=\"middle\" x=\"87137\" y=\"-38.6\" font-family=\"Times,serif\" font-size=\"8.00\"> 10</text>\n",
       "</g>\n",
       "<!--  0, 4, 11 -->\n",
       "<g id=\"node110\" class=\"node\">\n",
       "<title> 0, 4, 11</title>\n",
       "<polygon fill=\"none\" stroke=\"black\" points=\"87635,-18 87508,-9 87635,0 87762,-9 87635,-18\"/>\n",
       "<text text-anchor=\"middle\" x=\"87635\" y=\"-7.1\" font-family=\"Times,serif\" font-size=\"8.00\">1.9435647750000002, &#45;1.9435647750000002</text>\n",
       "</g>\n",
       "<!--  0, 4&#45;&gt; 0, 4, 11 -->\n",
       "<g id=\"edge76\" class=\"edge\">\n",
       "<title> 0, 4&#45;&gt; 0, 4, 11</title>\n",
       "<path fill=\"none\" stroke=\"red\" d=\"M86837,-73.02C86972,-62.35 87416,-27.3 87576,-14.63\"/>\n",
       "<polygon fill=\"red\" stroke=\"red\" points=\"87576.16,-16.37 87581,-14.22 87575.87,-12.88 87576.16,-16.37\"/>\n",
       "<text text-anchor=\"middle\" x=\"87297\" y=\"-38.6\" font-family=\"Times,serif\" font-size=\"8.00\"> 11</text>\n",
       "</g>\n",
       "<!--  0, 4, 12 -->\n",
       "<g id=\"node111\" class=\"node\">\n",
       "<title> 0, 4, 12</title>\n",
       "<polygon fill=\"none\" stroke=\"black\" points=\"87907,-18 87780,-9 87907,0 88034,-9 87907,-18\"/>\n",
       "<text text-anchor=\"middle\" x=\"87907\" y=\"-7.1\" font-family=\"Times,serif\" font-size=\"8.00\">0.5549247750000001, &#45;0.5549247750000001</text>\n",
       "</g>\n",
       "<!--  0, 4&#45;&gt; 0, 4, 12 -->\n",
       "<g id=\"edge77\" class=\"edge\">\n",
       "<title> 0, 4&#45;&gt; 0, 4, 12</title>\n",
       "<path fill=\"none\" stroke=\"red\" d=\"M86838,-73.75C87003,-63.88 87633,-26.31 87840,-13.96\"/>\n",
       "<polygon fill=\"red\" stroke=\"red\" points=\"87840.11,-15.71 87845,-13.66 87839.9,-12.21 87840.11,-15.71\"/>\n",
       "<text text-anchor=\"middle\" x=\"87457\" y=\"-38.6\" font-family=\"Times,serif\" font-size=\"8.00\"> 12</text>\n",
       "</g>\n",
       "<!--  0, 4, 13 -->\n",
       "<g id=\"node112\" class=\"node\">\n",
       "<title> 0, 4, 13</title>\n",
       "<polygon fill=\"none\" stroke=\"black\" points=\"88179,-18 88052,-9 88179,0 88306,-9 88179,-18\"/>\n",
       "<text text-anchor=\"middle\" x=\"88179\" y=\"-7.1\" font-family=\"Times,serif\" font-size=\"8.00\">0.9100047749999998, &#45;0.9100047749999998</text>\n",
       "</g>\n",
       "<!--  0, 4&#45;&gt; 0, 4, 13 -->\n",
       "<g id=\"edge78\" class=\"edge\">\n",
       "<title> 0, 4&#45;&gt; 0, 4, 13</title>\n",
       "<path fill=\"none\" stroke=\"red\" d=\"M86838,-74.44C86993,-67.83 87569,-43.02 88043,-18 88066,-16.79 88091,-15.34 88113,-14.02\"/>\n",
       "<polygon fill=\"red\" stroke=\"red\" points=\"88113.11,-15.76 88118,-13.72 88112.9,-12.27 88113.11,-15.76\"/>\n",
       "<text text-anchor=\"middle\" x=\"87672\" y=\"-38.6\" font-family=\"Times,serif\" font-size=\"8.00\"> 13</text>\n",
       "</g>\n",
       "<!--  0, 4, 14 -->\n",
       "<g id=\"node113\" class=\"node\">\n",
       "<title> 0, 4, 14</title>\n",
       "<polygon fill=\"none\" stroke=\"black\" points=\"88451,-18 88324,-9 88451,0 88578,-9 88451,-18\"/>\n",
       "<text text-anchor=\"middle\" x=\"88451\" y=\"-7.1\" font-family=\"Times,serif\" font-size=\"8.00\">1.5700047749999997, &#45;1.5700047749999997</text>\n",
       "</g>\n",
       "<!--  0, 4&#45;&gt; 0, 4, 14 -->\n",
       "<g id=\"edge79\" class=\"edge\">\n",
       "<title> 0, 4&#45;&gt; 0, 4, 14</title>\n",
       "<path fill=\"none\" stroke=\"red\" d=\"M86838,-74.95C87015,-69.72 87729,-47.71 88315,-18 88338,-16.83 88363,-15.39 88385,-14.05\"/>\n",
       "<polygon fill=\"red\" stroke=\"red\" points=\"88385.11,-15.8 88390,-13.75 88384.9,-12.31 88385.11,-15.8\"/>\n",
       "<text text-anchor=\"middle\" x=\"87904\" y=\"-38.6\" font-family=\"Times,serif\" font-size=\"8.00\"> 14</text>\n",
       "</g>\n",
       "<!--  0, 4, 15 -->\n",
       "<g id=\"node114\" class=\"node\">\n",
       "<title> 0, 4, 15</title>\n",
       "<polygon fill=\"none\" stroke=\"black\" points=\"88723,-18 88596,-9 88723,0 88850,-9 88723,-18\"/>\n",
       "<text text-anchor=\"middle\" x=\"88723\" y=\"-7.1\" font-family=\"Times,serif\" font-size=\"8.00\">2.5349247750000004, &#45;2.5349247750000004</text>\n",
       "</g>\n",
       "<!--  0, 4&#45;&gt; 0, 4, 15 -->\n",
       "<g id=\"edge80\" class=\"edge\">\n",
       "<title> 0, 4&#45;&gt; 0, 4, 15</title>\n",
       "<path fill=\"none\" stroke=\"red\" d=\"M86839,-75.32C87034,-71.32 87887,-52.56 88587,-18 88610,-16.86 88635,-15.41 88658,-14.07\"/>\n",
       "<polygon fill=\"red\" stroke=\"red\" points=\"88658.11,-15.82 88663,-13.77 88657.9,-12.32 88658.11,-15.82\"/>\n",
       "<text text-anchor=\"middle\" x=\"88151\" y=\"-38.6\" font-family=\"Times,serif\" font-size=\"8.00\"> 15</text>\n",
       "</g>\n",
       "<!--  0, 5 -->\n",
       "<g id=\"node6\" class=\"node\">\n",
       "<title> 0, 5</title>\n",
       "<ellipse fill=\"none\" stroke=\"red\" cx=\"91234\" cy=\"-77.14\" rx=\"41.02\" ry=\"14.29\"/>\n",
       "<text text-anchor=\"middle\" x=\"91234\" y=\"-79.74\" font-family=\"Times,serif\" font-size=\"8.00\">Current player: 1</text>\n",
       "<text text-anchor=\"middle\" x=\"91234\" y=\"-70.74\" font-family=\"Times,serif\" font-size=\"8.00\">us: op:</text>\n",
       "</g>\n",
       "<!--  0, 5, 0 -->\n",
       "<g id=\"node115\" class=\"node\">\n",
       "<title> 0, 5, 0</title>\n",
       "<polygon fill=\"none\" stroke=\"black\" points=\"89002,-18 88868,-9 89002,0 89136,-9 89002,-18\"/>\n",
       "<text text-anchor=\"middle\" x=\"89002\" y=\"-7.1\" font-family=\"Times,serif\" font-size=\"8.00\">&#45;0.20595749722222245, 0.20595749722222245</text>\n",
       "</g>\n",
       "<!--  0, 5&#45;&gt; 0, 5, 0 -->\n",
       "<g id=\"edge81\" class=\"edge\">\n",
       "<title> 0, 5&#45;&gt; 0, 5, 0</title>\n",
       "<path fill=\"none\" stroke=\"red\" d=\"M91193,-75.43C91027,-72.5 90390,-60.78 89866,-45 89545,-35.35 89465,-32.96 89145,-18 89120,-16.86 89093,-15.41 89070,-14.06\"/>\n",
       "<polygon fill=\"red\" stroke=\"red\" points=\"89070.09,-12.31 89065,-13.78 89069.89,-15.81 89070.09,-12.31\"/>\n",
       "<text text-anchor=\"middle\" x=\"89869\" y=\"-38.6\" font-family=\"Times,serif\" font-size=\"8.00\"> 0</text>\n",
       "</g>\n",
       "<!--  0, 5, 1 -->\n",
       "<g id=\"node116\" class=\"node\">\n",
       "<title> 0, 5, 1</title>\n",
       "<polygon fill=\"none\" stroke=\"black\" points=\"89288,-18 89154,-9 89288,0 89422,-9 89288,-18\"/>\n",
       "<text text-anchor=\"middle\" x=\"89288\" y=\"-7.1\" font-family=\"Times,serif\" font-size=\"8.00\">0.14912250277777753, &#45;0.14912250277777753</text>\n",
       "</g>\n",
       "<!--  0, 5&#45;&gt; 0, 5, 1 -->\n",
       "<g id=\"edge82\" class=\"edge\">\n",
       "<title> 0, 5&#45;&gt; 0, 5, 1</title>\n",
       "<path fill=\"none\" stroke=\"red\" d=\"M91193,-75.29C90997,-71.12 90136,-51.67 89431,-18 89406,-16.84 89380,-15.39 89356,-14.05\"/>\n",
       "<polygon fill=\"red\" stroke=\"red\" points=\"89356.09,-12.3 89351,-13.77 89355.89,-15.8 89356.09,-12.3\"/>\n",
       "<text text-anchor=\"middle\" x=\"90079\" y=\"-38.6\" font-family=\"Times,serif\" font-size=\"8.00\"> 1</text>\n",
       "</g>\n",
       "<!--  0, 5, 2 -->\n",
       "<g id=\"node117\" class=\"node\">\n",
       "<title> 0, 5, 2</title>\n",
       "<polygon fill=\"none\" stroke=\"black\" points=\"89567,-18 89440,-9 89567,0 89694,-9 89567,-18\"/>\n",
       "<text text-anchor=\"middle\" x=\"89567\" y=\"-7.1\" font-family=\"Times,serif\" font-size=\"8.00\">0.8091225027777774, &#45;0.8091225027777774</text>\n",
       "</g>\n",
       "<!--  0, 5&#45;&gt; 0, 5, 2 -->\n",
       "<g id=\"edge83\" class=\"edge\">\n",
       "<title> 0, 5&#45;&gt; 0, 5, 2</title>\n",
       "<path fill=\"none\" stroke=\"red\" d=\"M91193,-74.97C91016,-69.8 90295,-47.86 89703,-18 89680,-16.84 89654,-15.4 89632,-14.06\"/>\n",
       "<polygon fill=\"red\" stroke=\"red\" points=\"89632.1,-12.31 89627,-13.76 89631.88,-15.81 89632.1,-12.31\"/>\n",
       "<text text-anchor=\"middle\" x=\"90296\" y=\"-38.6\" font-family=\"Times,serif\" font-size=\"8.00\"> 2</text>\n",
       "</g>\n",
       "<!--  0, 5, 3 -->\n",
       "<g id=\"node118\" class=\"node\">\n",
       "<title> 0, 5, 3</title>\n",
       "<polygon fill=\"none\" stroke=\"black\" points=\"89839,-18 89712,-9 89839,0 89966,-9 89839,-18\"/>\n",
       "<text text-anchor=\"middle\" x=\"89839\" y=\"-7.1\" font-family=\"Times,serif\" font-size=\"8.00\">1.7740425027777778, &#45;1.7740425027777778</text>\n",
       "</g>\n",
       "<!--  0, 5&#45;&gt; 0, 5, 3 -->\n",
       "<g id=\"edge84\" class=\"edge\">\n",
       "<title> 0, 5&#45;&gt; 0, 5, 3</title>\n",
       "<path fill=\"none\" stroke=\"red\" d=\"M91193,-74.46C91036,-67.9 90454,-43.17 89975,-18 89952,-16.8 89927,-15.35 89904,-14.03\"/>\n",
       "<polygon fill=\"red\" stroke=\"red\" points=\"89904.09,-12.28 89899,-13.73 89903.89,-15.77 89904.09,-12.28\"/>\n",
       "<text text-anchor=\"middle\" x=\"90497\" y=\"-38.6\" font-family=\"Times,serif\" font-size=\"8.00\"> 3</text>\n",
       "</g>\n",
       "<!--  0, 5, 4 -->\n",
       "<g id=\"node119\" class=\"node\">\n",
       "<title> 0, 5, 4</title>\n",
       "<polygon fill=\"none\" stroke=\"black\" points=\"90118,-18 89984,-9 90118,0 90252,-9 90118,-18\"/>\n",
       "<text text-anchor=\"middle\" x=\"90118\" y=\"-7.1\" font-family=\"Times,serif\" font-size=\"8.00\">&#45;0.13731749722222233, 0.13731749722222233</text>\n",
       "</g>\n",
       "<!--  0, 5&#45;&gt; 0, 5, 4 -->\n",
       "<g id=\"edge85\" class=\"edge\">\n",
       "<title> 0, 5&#45;&gt; 0, 5, 4</title>\n",
       "<path fill=\"none\" stroke=\"red\" d=\"M91194,-73.77C91028,-63.96 90397,-26.55 90186,-14.07\"/>\n",
       "<polygon fill=\"red\" stroke=\"red\" points=\"90186.1,-12.33 90181,-13.77 90185.88,-15.82 90186.1,-12.33\"/>\n",
       "<text text-anchor=\"middle\" x=\"90679\" y=\"-38.6\" font-family=\"Times,serif\" font-size=\"8.00\"> 4</text>\n",
       "</g>\n",
       "<!--  0, 5, 5 -->\n",
       "<g id=\"node120\" class=\"node\">\n",
       "<title> 0, 5, 5</title>\n",
       "<polygon fill=\"none\" stroke=\"black\" points=\"90404,-18 90270,-9 90404,0 90538,-9 90404,-18\"/>\n",
       "<text text-anchor=\"middle\" x=\"90404\" y=\"-7.1\" font-family=\"Times,serif\" font-size=\"8.00\">0.21776250277777748, &#45;0.21776250277777748</text>\n",
       "</g>\n",
       "<!--  0, 5&#45;&gt; 0, 5, 5 -->\n",
       "<g id=\"edge86\" class=\"edge\">\n",
       "<title> 0, 5&#45;&gt; 0, 5, 5</title>\n",
       "<path fill=\"none\" stroke=\"red\" d=\"M91194,-73C91060,-62.34 90624,-27.53 90463,-14.76\"/>\n",
       "<polygon fill=\"red\" stroke=\"red\" points=\"90463.12,-13.01 90458,-14.35 90462.84,-16.5 90463.12,-13.01\"/>\n",
       "<text text-anchor=\"middle\" x=\"90822\" y=\"-38.6\" font-family=\"Times,serif\" font-size=\"8.00\"> 5</text>\n",
       "</g>\n",
       "<!--  0, 5, 6 -->\n",
       "<g id=\"node121\" class=\"node\">\n",
       "<title> 0, 5, 6</title>\n",
       "<polygon fill=\"none\" stroke=\"black\" points=\"90683,-18 90556,-9 90683,0 90810,-9 90683,-18\"/>\n",
       "<text text-anchor=\"middle\" x=\"90683\" y=\"-7.1\" font-family=\"Times,serif\" font-size=\"8.00\">0.8777625027777776, &#45;0.8777625027777776</text>\n",
       "</g>\n",
       "<!--  0, 5&#45;&gt; 0, 5, 6 -->\n",
       "<g id=\"edge87\" class=\"edge\">\n",
       "<title> 0, 5&#45;&gt; 0, 5, 6</title>\n",
       "<path fill=\"none\" stroke=\"red\" d=\"M91196,-71.6C91098,-59.84 90837,-28.49 90729,-15.62\"/>\n",
       "<polygon fill=\"red\" stroke=\"red\" points=\"90729.17,-13.88 90724,-15.03 90728.76,-17.36 90729.17,-13.88\"/>\n",
       "<text text-anchor=\"middle\" x=\"90962\" y=\"-38.6\" font-family=\"Times,serif\" font-size=\"8.00\"> 6</text>\n",
       "</g>\n",
       "<!--  0, 5, 7 -->\n",
       "<g id=\"node122\" class=\"node\">\n",
       "<title> 0, 5, 7</title>\n",
       "<polygon fill=\"none\" stroke=\"black\" points=\"90955,-18 90828,-9 90955,0 91082,-9 90955,-18\"/>\n",
       "<text text-anchor=\"middle\" x=\"90955\" y=\"-7.1\" font-family=\"Times,serif\" font-size=\"8.00\">1.8426825027777773, &#45;1.8426825027777773</text>\n",
       "</g>\n",
       "<!--  0, 5&#45;&gt; 0, 5, 7 -->\n",
       "<g id=\"edge88\" class=\"edge\">\n",
       "<title> 0, 5&#45;&gt; 0, 5, 7</title>\n",
       "<path fill=\"none\" stroke=\"red\" d=\"M91201,-68.42C91147,-55.58 91039,-30 90986,-17.38\"/>\n",
       "<polygon fill=\"red\" stroke=\"red\" points=\"90986.27,-15.65 90981,-16.2 90985.46,-19.05 90986.27,-15.65\"/>\n",
       "<text text-anchor=\"middle\" x=\"91098\" y=\"-38.6\" font-family=\"Times,serif\" font-size=\"8.00\"> 7</text>\n",
       "</g>\n",
       "<!--  0, 5, 8 -->\n",
       "<g id=\"node123\" class=\"node\">\n",
       "<title> 0, 5, 8</title>\n",
       "<polygon fill=\"none\" stroke=\"black\" points=\"91234,-18 91100,-9 91234,0 91368,-9 91234,-18\"/>\n",
       "<text text-anchor=\"middle\" x=\"91234\" y=\"-7.1\" font-family=\"Times,serif\" font-size=\"8.00\">0.19268250277777765, &#45;0.19268250277777765</text>\n",
       "</g>\n",
       "<!--  0, 5&#45;&gt; 0, 5, 8 -->\n",
       "<g id=\"edge89\" class=\"edge\">\n",
       "<title> 0, 5&#45;&gt; 0, 5, 8</title>\n",
       "<path fill=\"none\" stroke=\"red\" d=\"M91234,-62.76C91234,-51.34 91234,-35 91234,-23.54\"/>\n",
       "<polygon fill=\"red\" stroke=\"red\" points=\"91235.75,-23.34 91234,-18.34 91232.25,-23.34 91235.75,-23.34\"/>\n",
       "<text text-anchor=\"middle\" x=\"91237\" y=\"-38.6\" font-family=\"Times,serif\" font-size=\"8.00\"> 8</text>\n",
       "</g>\n",
       "<!--  0, 5, 9 -->\n",
       "<g id=\"node124\" class=\"node\">\n",
       "<title> 0, 5, 9</title>\n",
       "<polygon fill=\"none\" stroke=\"black\" points=\"91513,-18 91386,-9 91513,0 91640,-9 91513,-18\"/>\n",
       "<text text-anchor=\"middle\" x=\"91513\" y=\"-7.1\" font-family=\"Times,serif\" font-size=\"8.00\">0.5477625027777775, &#45;0.5477625027777775</text>\n",
       "</g>\n",
       "<!--  0, 5&#45;&gt; 0, 5, 9 -->\n",
       "<g id=\"edge90\" class=\"edge\">\n",
       "<title> 0, 5&#45;&gt; 0, 5, 9</title>\n",
       "<path fill=\"none\" stroke=\"red\" d=\"M91266,-68.42C91320,-55.58 91428,-30 91481,-17.38\"/>\n",
       "<polygon fill=\"red\" stroke=\"red\" points=\"91481.53,-19.05 91486,-16.2 91480.73,-15.65 91481.53,-19.05\"/>\n",
       "<text text-anchor=\"middle\" x=\"91402\" y=\"-38.6\" font-family=\"Times,serif\" font-size=\"8.00\"> 9</text>\n",
       "</g>\n",
       "<!--  0, 5, 10 -->\n",
       "<g id=\"node125\" class=\"node\">\n",
       "<title> 0, 5, 10</title>\n",
       "<polygon fill=\"none\" stroke=\"black\" points=\"91785,-18 91658,-9 91785,0 91912,-9 91785,-18\"/>\n",
       "<text text-anchor=\"middle\" x=\"91785\" y=\"-7.1\" font-family=\"Times,serif\" font-size=\"8.00\">1.2077625027777776, &#45;1.2077625027777776</text>\n",
       "</g>\n",
       "<!--  0, 5&#45;&gt; 0, 5, 10 -->\n",
       "<g id=\"edge91\" class=\"edge\">\n",
       "<title> 0, 5&#45;&gt; 0, 5, 10</title>\n",
       "<path fill=\"none\" stroke=\"red\" d=\"M91271,-71.6C91369,-59.84 91631,-28.49 91738,-15.62\"/>\n",
       "<polygon fill=\"red\" stroke=\"red\" points=\"91738.24,-17.36 91743,-15.03 91737.83,-13.88 91738.24,-17.36\"/>\n",
       "<text text-anchor=\"middle\" x=\"91564\" y=\"-38.6\" font-family=\"Times,serif\" font-size=\"8.00\"> 10</text>\n",
       "</g>\n",
       "<!--  0, 5, 11 -->\n",
       "<g id=\"node126\" class=\"node\">\n",
       "<title> 0, 5, 11</title>\n",
       "<polygon fill=\"none\" stroke=\"black\" points=\"92050,-18 91929.3,-9 92050,0 92170.7,-9 92050,-18\"/>\n",
       "<text text-anchor=\"middle\" x=\"92050\" y=\"-7.1\" font-family=\"Times,serif\" font-size=\"8.00\">2.172682502777778, &#45;2.172682502777778</text>\n",
       "</g>\n",
       "<!--  0, 5&#45;&gt; 0, 5, 11 -->\n",
       "<g id=\"edge92\" class=\"edge\">\n",
       "<title> 0, 5&#45;&gt; 0, 5, 11</title>\n",
       "<path fill=\"none\" stroke=\"red\" d=\"M91273,-72.95C91406,-62.2 91836,-27.27 91993,-14.63\"/>\n",
       "<polygon fill=\"red\" stroke=\"red\" points=\"91993.17,-16.37 91998,-14.19 91992.86,-12.88 91993.17,-16.37\"/>\n",
       "<text text-anchor=\"middle\" x=\"91721\" y=\"-38.6\" font-family=\"Times,serif\" font-size=\"8.00\"> 11</text>\n",
       "</g>\n",
       "<!--  0, 5, 12 -->\n",
       "<g id=\"node127\" class=\"node\">\n",
       "<title> 0, 5, 12</title>\n",
       "<polygon fill=\"none\" stroke=\"black\" points=\"92315,-18 92188,-9 92315,0 92442,-9 92315,-18\"/>\n",
       "<text text-anchor=\"middle\" x=\"92315\" y=\"-7.1\" font-family=\"Times,serif\" font-size=\"8.00\">0.7840425027777778, &#45;0.7840425027777778</text>\n",
       "</g>\n",
       "<!--  0, 5&#45;&gt; 0, 5, 12 -->\n",
       "<g id=\"edge93\" class=\"edge\">\n",
       "<title> 0, 5&#45;&gt; 0, 5, 12</title>\n",
       "<path fill=\"none\" stroke=\"red\" d=\"M91274,-73.69C91436,-63.75 92047,-26.39 92249,-14.01\"/>\n",
       "<polygon fill=\"red\" stroke=\"red\" points=\"92249.11,-15.76 92254,-13.71 92248.9,-12.27 92249.11,-15.76\"/>\n",
       "<text text-anchor=\"middle\" x=\"91877\" y=\"-38.6\" font-family=\"Times,serif\" font-size=\"8.00\"> 12</text>\n",
       "</g>\n",
       "<!--  0, 5, 13 -->\n",
       "<g id=\"node128\" class=\"node\">\n",
       "<title> 0, 5, 13</title>\n",
       "<polygon fill=\"none\" stroke=\"black\" points=\"92587,-18 92460,-9 92587,0 92714,-9 92587,-18\"/>\n",
       "<text text-anchor=\"middle\" x=\"92587\" y=\"-7.1\" font-family=\"Times,serif\" font-size=\"8.00\">1.1391225027777776, &#45;1.1391225027777776</text>\n",
       "</g>\n",
       "<!--  0, 5&#45;&gt; 0, 5, 13 -->\n",
       "<g id=\"edge94\" class=\"edge\">\n",
       "<title> 0, 5&#45;&gt; 0, 5, 13</title>\n",
       "<path fill=\"none\" stroke=\"red\" d=\"M91274,-74.37C91428,-67.62 91989,-42.63 92451,-18 92474,-16.78 92499,-15.33 92521,-14.01\"/>\n",
       "<polygon fill=\"red\" stroke=\"red\" points=\"92521.11,-15.75 92526,-13.71 92520.9,-12.26 92521.11,-15.75\"/>\n",
       "<text text-anchor=\"middle\" x=\"92089\" y=\"-38.6\" font-family=\"Times,serif\" font-size=\"8.00\"> 13</text>\n",
       "</g>\n",
       "<!--  0, 5, 14 -->\n",
       "<g id=\"node129\" class=\"node\">\n",
       "<title> 0, 5, 14</title>\n",
       "<polygon fill=\"none\" stroke=\"black\" points=\"92859,-18 92732,-9 92859,0 92986,-9 92859,-18\"/>\n",
       "<text text-anchor=\"middle\" x=\"92859\" y=\"-7.1\" font-family=\"Times,serif\" font-size=\"8.00\">1.7991225027777775, &#45;1.7991225027777775</text>\n",
       "</g>\n",
       "<!--  0, 5&#45;&gt; 0, 5, 14 -->\n",
       "<g id=\"edge95\" class=\"edge\">\n",
       "<title> 0, 5&#45;&gt; 0, 5, 14</title>\n",
       "<path fill=\"none\" stroke=\"red\" d=\"M91274,-74.91C91448,-69.57 92148,-47.31 92723,-18 92746,-16.82 92771,-15.38 92793,-14.05\"/>\n",
       "<polygon fill=\"red\" stroke=\"red\" points=\"92793.11,-15.79 92798,-13.75 92792.9,-12.3 92793.11,-15.79\"/>\n",
       "<text text-anchor=\"middle\" x=\"92320\" y=\"-38.6\" font-family=\"Times,serif\" font-size=\"8.00\"> 14</text>\n",
       "</g>\n",
       "<!--  0, 5, 15 -->\n",
       "<g id=\"node130\" class=\"node\">\n",
       "<title> 0, 5, 15</title>\n",
       "<polygon fill=\"none\" stroke=\"black\" points=\"93124,-18 93003.3,-9 93124,0 93244.7,-9 93124,-18\"/>\n",
       "<text text-anchor=\"middle\" x=\"93124\" y=\"-7.1\" font-family=\"Times,serif\" font-size=\"8.00\">2.764042502777778, &#45;2.764042502777778</text>\n",
       "</g>\n",
       "<!--  0, 5&#45;&gt; 0, 5, 15 -->\n",
       "<g id=\"edge96\" class=\"edge\">\n",
       "<title> 0, 5&#45;&gt; 0, 5, 15</title>\n",
       "<path fill=\"none\" stroke=\"red\" d=\"M91275,-75.34C91468,-71.45 92307,-53.24 92995,-18 93016,-16.88 93040,-15.45 93062,-14.11\"/>\n",
       "<polygon fill=\"red\" stroke=\"red\" points=\"93062.12,-15.85 93067,-13.79 93061.9,-12.36 93062.12,-15.85\"/>\n",
       "<text text-anchor=\"middle\" x=\"92566\" y=\"-38.6\" font-family=\"Times,serif\" font-size=\"8.00\"> 15</text>\n",
       "</g>\n",
       "<!--  0, 6 -->\n",
       "<g id=\"node7\" class=\"node\">\n",
       "<title> 0, 6</title>\n",
       "<ellipse fill=\"none\" stroke=\"red\" cx=\"95525\" cy=\"-77.14\" rx=\"41.02\" ry=\"14.29\"/>\n",
       "<text text-anchor=\"middle\" x=\"95525\" y=\"-79.74\" font-family=\"Times,serif\" font-size=\"8.00\">Current player: 1</text>\n",
       "<text text-anchor=\"middle\" x=\"95525\" y=\"-70.74\" font-family=\"Times,serif\" font-size=\"8.00\">us: op:</text>\n",
       "</g>\n",
       "<!--  0, 6, 0 -->\n",
       "<g id=\"node131\" class=\"node\">\n",
       "<title> 0, 6, 0</title>\n",
       "<polygon fill=\"none\" stroke=\"black\" points=\"93383,-18 93262.3,-9 93383,0 93503.7,-9 93383,-18\"/>\n",
       "<text text-anchor=\"middle\" x=\"93383\" y=\"-7.1\" font-family=\"Times,serif\" font-size=\"8.00\">&#45;2.837290830555556, 2.837290830555556</text>\n",
       "</g>\n",
       "<!--  0, 6&#45;&gt; 0, 6, 0 -->\n",
       "<g id=\"edge97\" class=\"edge\">\n",
       "<title> 0, 6&#45;&gt; 0, 6, 0</title>\n",
       "<path fill=\"none\" stroke=\"red\" d=\"M95484,-75.43C95321,-72.53 94702,-61.05 94193,-45 93890,-35.46 93814,-33.38 93512,-18 93490,-16.89 93466,-15.46 93444,-14.12\"/>\n",
       "<polygon fill=\"red\" stroke=\"red\" points=\"93444.1,-12.37 93439,-13.8 93443.88,-15.86 93444.1,-12.37\"/>\n",
       "<text text-anchor=\"middle\" x=\"94196\" y=\"-38.6\" font-family=\"Times,serif\" font-size=\"8.00\"> 0</text>\n",
       "</g>\n",
       "<!--  0, 6, 1 -->\n",
       "<g id=\"node132\" class=\"node\">\n",
       "<title> 0, 6, 1</title>\n",
       "<polygon fill=\"none\" stroke=\"black\" points=\"93642,-18 93521.3,-9 93642,0 93762.7,-9 93642,-18\"/>\n",
       "<text text-anchor=\"middle\" x=\"93642\" y=\"-7.1\" font-family=\"Times,serif\" font-size=\"8.00\">&#45;2.482210830555556, 2.482210830555556</text>\n",
       "</g>\n",
       "<!--  0, 6&#45;&gt; 0, 6, 1 -->\n",
       "<g id=\"edge98\" class=\"edge\">\n",
       "<title> 0, 6&#45;&gt; 0, 6, 1</title>\n",
       "<path fill=\"none\" stroke=\"red\" d=\"M95484,-75.33C95291,-71.41 94455,-53.06 93771,-18 93749,-16.88 93725,-15.45 93703,-14.11\"/>\n",
       "<polygon fill=\"red\" stroke=\"red\" points=\"93703.1,-12.36 93698,-13.79 93702.88,-15.85 93703.1,-12.36\"/>\n",
       "<text text-anchor=\"middle\" x=\"94401\" y=\"-38.6\" font-family=\"Times,serif\" font-size=\"8.00\"> 1</text>\n",
       "</g>\n",
       "<!--  0, 6, 2 -->\n",
       "<g id=\"node133\" class=\"node\">\n",
       "<title> 0, 6, 2</title>\n",
       "<polygon fill=\"none\" stroke=\"black\" points=\"93907,-18 93780,-9 93907,0 94034,-9 93907,-18\"/>\n",
       "<text text-anchor=\"middle\" x=\"93907\" y=\"-7.1\" font-family=\"Times,serif\" font-size=\"8.00\">&#45;1.8222108305555562, 1.8222108305555562</text>\n",
       "</g>\n",
       "<!--  0, 6&#45;&gt; 0, 6, 2 -->\n",
       "<g id=\"edge99\" class=\"edge\">\n",
       "<title> 0, 6&#45;&gt; 0, 6, 2</title>\n",
       "<path fill=\"none\" stroke=\"red\" d=\"M95484,-74.91C95310,-69.58 94613,-47.42 94042,-18 94019,-16.83 93994,-15.41 93972,-14.08\"/>\n",
       "<polygon fill=\"red\" stroke=\"red\" points=\"93972.1,-12.33 93967,-13.77 93971.88,-15.83 93972.1,-12.33\"/>\n",
       "<text text-anchor=\"middle\" x=\"94616\" y=\"-38.6\" font-family=\"Times,serif\" font-size=\"8.00\"> 2</text>\n",
       "</g>\n",
       "<!--  0, 6, 3 -->\n",
       "<g id=\"node134\" class=\"node\">\n",
       "<title> 0, 6, 3</title>\n",
       "<polygon fill=\"none\" stroke=\"black\" points=\"94172,-18 94051.3,-9 94172,0 94292.7,-9 94172,-18\"/>\n",
       "<text text-anchor=\"middle\" x=\"94172\" y=\"-7.1\" font-family=\"Times,serif\" font-size=\"8.00\">&#45;0.857290830555556, 0.857290830555556</text>\n",
       "</g>\n",
       "<!--  0, 6&#45;&gt; 0, 6, 3 -->\n",
       "<g id=\"edge100\" class=\"edge\">\n",
       "<title> 0, 6&#45;&gt; 0, 6, 3</title>\n",
       "<path fill=\"none\" stroke=\"red\" d=\"M95484,-74.44C95330,-67.89 94766,-43.46 94301,-18 94279,-16.81 94255,-15.38 94234,-14.06\"/>\n",
       "<polygon fill=\"red\" stroke=\"red\" points=\"94234.1,-12.31 94229,-13.74 94233.88,-15.8 94234.1,-12.31\"/>\n",
       "<text text-anchor=\"middle\" x=\"94809\" y=\"-38.6\" font-family=\"Times,serif\" font-size=\"8.00\"> 3</text>\n",
       "</g>\n",
       "<!--  0, 6, 4 -->\n",
       "<g id=\"node135\" class=\"node\">\n",
       "<title> 0, 6, 4</title>\n",
       "<polygon fill=\"none\" stroke=\"black\" points=\"94437,-18 94310,-9 94437,0 94564,-9 94437,-18\"/>\n",
       "<text text-anchor=\"middle\" x=\"94437\" y=\"-7.1\" font-family=\"Times,serif\" font-size=\"8.00\">&#45;2.7686508305555564, 2.7686508305555564</text>\n",
       "</g>\n",
       "<!--  0, 6&#45;&gt; 0, 6, 4 -->\n",
       "<g id=\"edge101\" class=\"edge\">\n",
       "<title> 0, 6&#45;&gt; 0, 6, 4</title>\n",
       "<path fill=\"none\" stroke=\"red\" d=\"M95485,-73.71C95321,-63.79 94706,-26.37 94502,-14\"/>\n",
       "<polygon fill=\"red\" stroke=\"red\" points=\"94502.1,-12.25 94497,-13.69 94501.88,-15.74 94502.1,-12.25\"/>\n",
       "<text text-anchor=\"middle\" x=\"94984\" y=\"-38.6\" font-family=\"Times,serif\" font-size=\"8.00\"> 4</text>\n",
       "</g>\n",
       "<!--  0, 6, 5 -->\n",
       "<g id=\"node136\" class=\"node\">\n",
       "<title> 0, 6, 5</title>\n",
       "<polygon fill=\"none\" stroke=\"black\" points=\"94709,-18 94582,-9 94709,0 94836,-9 94709,-18\"/>\n",
       "<text text-anchor=\"middle\" x=\"94709\" y=\"-7.1\" font-family=\"Times,serif\" font-size=\"8.00\">&#45;2.4135708305555563, 2.4135708305555563</text>\n",
       "</g>\n",
       "<!--  0, 6&#45;&gt; 0, 6, 5 -->\n",
       "<g id=\"edge102\" class=\"edge\">\n",
       "<title> 0, 6&#45;&gt; 0, 6, 5</title>\n",
       "<path fill=\"none\" stroke=\"red\" d=\"M95485,-72.95C95353,-62.22 94923,-27.37 94766,-14.68\"/>\n",
       "<polygon fill=\"red\" stroke=\"red\" points=\"94766.12,-12.93 94761,-14.27 94765.84,-16.42 94766.12,-12.93\"/>\n",
       "<text text-anchor=\"middle\" x=\"95120\" y=\"-38.6\" font-family=\"Times,serif\" font-size=\"8.00\"> 5</text>\n",
       "</g>\n",
       "<!--  0, 6, 6 -->\n",
       "<g id=\"node137\" class=\"node\">\n",
       "<title> 0, 6, 6</title>\n",
       "<polygon fill=\"none\" stroke=\"black\" points=\"94981,-18 94854,-9 94981,0 95108,-9 94981,-18\"/>\n",
       "<text text-anchor=\"middle\" x=\"94981\" y=\"-7.1\" font-family=\"Times,serif\" font-size=\"8.00\">&#45;1.7535708305555562, 1.7535708305555562</text>\n",
       "</g>\n",
       "<!--  0, 6&#45;&gt; 0, 6, 6 -->\n",
       "<g id=\"edge103\" class=\"edge\">\n",
       "<title> 0, 6&#45;&gt; 0, 6, 6</title>\n",
       "<path fill=\"none\" stroke=\"red\" d=\"M95487,-71.54C95390,-59.77 95133,-28.59 95027,-15.7\"/>\n",
       "<polygon fill=\"red\" stroke=\"red\" points=\"95027.18,-13.96 95022,-15.06 95026.74,-17.43 95027.18,-13.96\"/>\n",
       "<text text-anchor=\"middle\" x=\"95256\" y=\"-38.6\" font-family=\"Times,serif\" font-size=\"8.00\"> 6</text>\n",
       "</g>\n",
       "<!--  0, 6, 7 -->\n",
       "<g id=\"node138\" class=\"node\">\n",
       "<title> 0, 6, 7</title>\n",
       "<polygon fill=\"none\" stroke=\"black\" points=\"95253,-18 95126,-9 95253,0 95380,-9 95253,-18\"/>\n",
       "<text text-anchor=\"middle\" x=\"95253\" y=\"-7.1\" font-family=\"Times,serif\" font-size=\"8.00\">&#45;0.7886508305555563, 0.7886508305555563</text>\n",
       "</g>\n",
       "<!--  0, 6&#45;&gt; 0, 6, 7 -->\n",
       "<g id=\"edge104\" class=\"edge\">\n",
       "<title> 0, 6&#45;&gt; 0, 6, 7</title>\n",
       "<path fill=\"none\" stroke=\"red\" d=\"M95492,-68.3C95440,-55.46 95335,-30.14 95284,-17.52\"/>\n",
       "<polygon fill=\"red\" stroke=\"red\" points=\"95283.25,-15.58 95278,-16.27 95282.53,-19 95283.25,-15.58\"/>\n",
       "<text text-anchor=\"middle\" x=\"95392\" y=\"-38.6\" font-family=\"Times,serif\" font-size=\"8.00\"> 7</text>\n",
       "</g>\n",
       "<!--  0, 6, 8 -->\n",
       "<g id=\"node139\" class=\"node\">\n",
       "<title> 0, 6, 8</title>\n",
       "<polygon fill=\"none\" stroke=\"black\" points=\"95525,-18 95398,-9 95525,0 95652,-9 95525,-18\"/>\n",
       "<text text-anchor=\"middle\" x=\"95525\" y=\"-7.1\" font-family=\"Times,serif\" font-size=\"8.00\">&#45;2.4386508305555563, 2.4386508305555563</text>\n",
       "</g>\n",
       "<!--  0, 6&#45;&gt; 0, 6, 8 -->\n",
       "<g id=\"edge105\" class=\"edge\">\n",
       "<title> 0, 6&#45;&gt; 0, 6, 8</title>\n",
       "<path fill=\"none\" stroke=\"red\" d=\"M95525,-62.76C95525,-51.34 95525,-35 95525,-23.54\"/>\n",
       "<polygon fill=\"red\" stroke=\"red\" points=\"95526.75,-23.34 95525,-18.34 95523.25,-23.34 95526.75,-23.34\"/>\n",
       "<text text-anchor=\"middle\" x=\"95528\" y=\"-38.6\" font-family=\"Times,serif\" font-size=\"8.00\"> 8</text>\n",
       "</g>\n",
       "<!--  0, 6, 9 -->\n",
       "<g id=\"node140\" class=\"node\">\n",
       "<title> 0, 6, 9</title>\n",
       "<polygon fill=\"none\" stroke=\"black\" points=\"95797,-18 95670,-9 95797,0 95924,-9 95797,-18\"/>\n",
       "<text text-anchor=\"middle\" x=\"95797\" y=\"-7.1\" font-family=\"Times,serif\" font-size=\"8.00\">&#45;2.0835708305555567, 2.0835708305555567</text>\n",
       "</g>\n",
       "<!--  0, 6&#45;&gt; 0, 6, 9 -->\n",
       "<g id=\"edge106\" class=\"edge\">\n",
       "<title> 0, 6&#45;&gt; 0, 6, 9</title>\n",
       "<path fill=\"none\" stroke=\"red\" d=\"M95557,-68.3C95610,-55.46 95714,-30.14 95766,-17.52\"/>\n",
       "<polygon fill=\"red\" stroke=\"red\" points=\"95766.58,-19.18 95771,-16.27 95765.72,-15.78 95766.58,-19.18\"/>\n",
       "<text text-anchor=\"middle\" x=\"95689\" y=\"-38.6\" font-family=\"Times,serif\" font-size=\"8.00\"> 9</text>\n",
       "</g>\n",
       "<!--  0, 6, 10 -->\n",
       "<g id=\"node141\" class=\"node\">\n",
       "<title> 0, 6, 10</title>\n",
       "<polygon fill=\"none\" stroke=\"black\" points=\"96062,-18 95941.3,-9 96062,0 96182.7,-9 96062,-18\"/>\n",
       "<text text-anchor=\"middle\" x=\"96062\" y=\"-7.1\" font-family=\"Times,serif\" font-size=\"8.00\">&#45;1.423570830555556, 1.423570830555556</text>\n",
       "</g>\n",
       "<!--  0, 6&#45;&gt; 0, 6, 10 -->\n",
       "<g id=\"edge107\" class=\"edge\">\n",
       "<title> 0, 6&#45;&gt; 0, 6, 10</title>\n",
       "<path fill=\"none\" stroke=\"red\" d=\"M95562,-71.49C95658,-59.66 95912,-28.47 96016,-15.64\"/>\n",
       "<polygon fill=\"red\" stroke=\"red\" points=\"96016.26,-17.37 96021,-15 96015.82,-13.9 96016.26,-17.37\"/>\n",
       "<text text-anchor=\"middle\" x=\"95847\" y=\"-38.6\" font-family=\"Times,serif\" font-size=\"8.00\"> 10</text>\n",
       "</g>\n",
       "<!--  0, 6, 11 -->\n",
       "<g id=\"node142\" class=\"node\">\n",
       "<title> 0, 6, 11</title>\n",
       "<polygon fill=\"none\" stroke=\"black\" points=\"96335,-18 96201,-9 96335,0 96469,-9 96335,-18\"/>\n",
       "<text text-anchor=\"middle\" x=\"96335\" y=\"-7.1\" font-family=\"Times,serif\" font-size=\"8.00\">&#45;0.45865083055555583, 0.45865083055555583</text>\n",
       "</g>\n",
       "<!--  0, 6&#45;&gt; 0, 6, 11 -->\n",
       "<g id=\"edge108\" class=\"edge\">\n",
       "<title> 0, 6&#45;&gt; 0, 6, 11</title>\n",
       "<path fill=\"none\" stroke=\"red\" d=\"M95564,-72.93C95695,-62.21 96119,-27.6 96276,-14.81\"/>\n",
       "<polygon fill=\"red\" stroke=\"red\" points=\"96276.16,-16.55 96281,-14.4 96275.87,-13.06 96276.16,-16.55\"/>\n",
       "<text text-anchor=\"middle\" x=\"96008\" y=\"-38.6\" font-family=\"Times,serif\" font-size=\"8.00\"> 11</text>\n",
       "</g>\n",
       "<!--  0, 6, 12 -->\n",
       "<g id=\"node143\" class=\"node\">\n",
       "<title> 0, 6, 12</title>\n",
       "<polygon fill=\"none\" stroke=\"black\" points=\"96608,-18 96487.3,-9 96608,0 96728.7,-9 96608,-18\"/>\n",
       "<text text-anchor=\"middle\" x=\"96608\" y=\"-7.1\" font-family=\"Times,serif\" font-size=\"8.00\">&#45;1.847290830555556, 1.847290830555556</text>\n",
       "</g>\n",
       "<!--  0, 6&#45;&gt; 0, 6, 12 -->\n",
       "<g id=\"edge109\" class=\"edge\">\n",
       "<title> 0, 6&#45;&gt; 0, 6, 12</title>\n",
       "<path fill=\"none\" stroke=\"red\" d=\"M95565,-73.71C95695,-65.75 96124,-39.7 96478,-18 96499,-16.68 96523,-15.23 96544,-13.94\"/>\n",
       "<polygon fill=\"red\" stroke=\"red\" points=\"96544.12,-15.69 96549,-13.63 96543.9,-12.19 96544.12,-15.69\"/>\n",
       "<text text-anchor=\"middle\" x=\"96169\" y=\"-38.6\" font-family=\"Times,serif\" font-size=\"8.00\"> 12</text>\n",
       "</g>\n",
       "<!--  0, 6, 13 -->\n",
       "<g id=\"node144\" class=\"node\">\n",
       "<title> 0, 6, 13</title>\n",
       "<polygon fill=\"none\" stroke=\"black\" points=\"96873,-18 96746,-9 96873,0 97000,-9 96873,-18\"/>\n",
       "<text text-anchor=\"middle\" x=\"96873\" y=\"-7.1\" font-family=\"Times,serif\" font-size=\"8.00\">&#45;1.4922108305555564, 1.4922108305555564</text>\n",
       "</g>\n",
       "<!--  0, 6&#45;&gt; 0, 6, 13 -->\n",
       "<g id=\"edge110\" class=\"edge\">\n",
       "<title> 0, 6&#45;&gt; 0, 6, 13</title>\n",
       "<path fill=\"none\" stroke=\"red\" d=\"M95565,-74.38C95718,-67.66 96277,-42.75 96738,-18 96760,-16.79 96785,-15.36 96807,-14.04\"/>\n",
       "<polygon fill=\"red\" stroke=\"red\" points=\"96807.12,-15.79 96812,-13.73 96806.9,-12.29 96807.12,-15.79\"/>\n",
       "<text text-anchor=\"middle\" x=\"96377\" y=\"-38.6\" font-family=\"Times,serif\" font-size=\"8.00\"> 13</text>\n",
       "</g>\n",
       "<!--  0, 6, 14 -->\n",
       "<g id=\"node145\" class=\"node\">\n",
       "<title> 0, 6, 14</title>\n",
       "<polygon fill=\"none\" stroke=\"black\" points=\"97145,-18 97018,-9 97145,0 97272,-9 97145,-18\"/>\n",
       "<text text-anchor=\"middle\" x=\"97145\" y=\"-7.1\" font-family=\"Times,serif\" font-size=\"8.00\">&#45;0.8322108305555563, 0.8322108305555563</text>\n",
       "</g>\n",
       "<!--  0, 6&#45;&gt; 0, 6, 14 -->\n",
       "<g id=\"edge111\" class=\"edge\">\n",
       "<title> 0, 6&#45;&gt; 0, 6, 14</title>\n",
       "<path fill=\"none\" stroke=\"red\" d=\"M95565,-74.9C95739,-69.53 96436,-47.23 97009,-18 97032,-16.82 97057,-15.38 97079,-14.04\"/>\n",
       "<polygon fill=\"red\" stroke=\"red\" points=\"97079.11,-15.79 97084,-13.74 97078.9,-12.3 97079.11,-15.79\"/>\n",
       "<text text-anchor=\"middle\" x=\"96607\" y=\"-38.6\" font-family=\"Times,serif\" font-size=\"8.00\"> 14</text>\n",
       "</g>\n",
       "<!--  0, 6, 15 -->\n",
       "<g id=\"node146\" class=\"node\">\n",
       "<title> 0, 6, 15</title>\n",
       "<polygon fill=\"none\" stroke=\"black\" points=\"97424,-18 97290,-9 97424,0 97558,-9 97424,-18\"/>\n",
       "<text text-anchor=\"middle\" x=\"97424\" y=\"-7.1\" font-family=\"Times,serif\" font-size=\"8.00\">0.13270916944444425, &#45;0.13270916944444425</text>\n",
       "</g>\n",
       "<!--  0, 6&#45;&gt; 0, 6, 15 -->\n",
       "<g id=\"edge112\" class=\"edge\">\n",
       "<title> 0, 6&#45;&gt; 0, 6, 15</title>\n",
       "<path fill=\"none\" stroke=\"red\" d=\"M95565,-75.25C95758,-70.93 96595,-51.09 97281,-18 97305,-16.82 97332,-15.38 97355,-14.04\"/>\n",
       "<polygon fill=\"red\" stroke=\"red\" points=\"97355.11,-15.78 97360,-13.75 97354.91,-12.29 97355.11,-15.78\"/>\n",
       "<text text-anchor=\"middle\" x=\"96853\" y=\"-38.6\" font-family=\"Times,serif\" font-size=\"8.00\"> 15</text>\n",
       "</g>\n",
       "<!--  0, 7 -->\n",
       "<g id=\"node8\" class=\"node\">\n",
       "<title> 0, 7</title>\n",
       "<ellipse fill=\"none\" stroke=\"red\" cx=\"98451\" cy=\"-77.14\" rx=\"41.02\" ry=\"14.29\"/>\n",
       "<text text-anchor=\"middle\" x=\"98451\" y=\"-79.74\" font-family=\"Times,serif\" font-size=\"8.00\">Current player: 1</text>\n",
       "<text text-anchor=\"middle\" x=\"98451\" y=\"-70.74\" font-family=\"Times,serif\" font-size=\"8.00\">us: op:</text>\n",
       "</g>\n",
       "<!--  0, 7, 0 -->\n",
       "<g id=\"node147\" class=\"node\">\n",
       "<title> 0, 7, 0</title>\n",
       "<polygon fill=\"none\" stroke=\"black\" points=\"97656,-18 97575.5,-9 97656,0 97736.5,-9 97656,-18\"/>\n",
       "<text text-anchor=\"middle\" x=\"97656\" y=\"-7.1\" font-family=\"Times,serif\" font-size=\"8.00\">&#45;4.435075225, 4.435075225</text>\n",
       "</g>\n",
       "<!--  0, 7&#45;&gt; 0, 7, 0 -->\n",
       "<g id=\"edge113\" class=\"edge\">\n",
       "<title> 0, 7&#45;&gt; 0, 7, 0</title>\n",
       "<path fill=\"none\" stroke=\"red\" d=\"M98411,-73C98304,-64.44 97999,-39.87 97745,-18 97730,-16.75 97714,-15.35 97700,-14.07\"/>\n",
       "<polygon fill=\"red\" stroke=\"red\" points=\"97700.14,-12.33 97695,-13.61 97699.82,-15.81 97700.14,-12.33\"/>\n",
       "<text text-anchor=\"middle\" x=\"98057\" y=\"-38.6\" font-family=\"Times,serif\" font-size=\"8.00\"> 0</text>\n",
       "</g>\n",
       "<!--  0, 7, 1 -->\n",
       "<g id=\"node148\" class=\"node\">\n",
       "<title> 0, 7, 1</title>\n",
       "<polygon fill=\"none\" stroke=\"black\" points=\"97875,-18 97754.3,-9 97875,0 97995.7,-9 97875,-18\"/>\n",
       "<text text-anchor=\"middle\" x=\"97875\" y=\"-7.1\" font-family=\"Times,serif\" font-size=\"8.00\">&#45;4.079995224999999, 4.079995224999999</text>\n",
       "</g>\n",
       "<!--  0, 7&#45;&gt; 0, 7, 1 -->\n",
       "<g id=\"edge114\" class=\"edge\">\n",
       "<title> 0, 7&#45;&gt; 0, 7, 1</title>\n",
       "<path fill=\"none\" stroke=\"red\" d=\"M98412,-71.75C98311,-60.08 98034,-28.3 97922,-15.47\"/>\n",
       "<polygon fill=\"red\" stroke=\"red\" points=\"97922.17,-13.73 97917,-14.88 97921.76,-17.21 97922.17,-13.73\"/>\n",
       "<text text-anchor=\"middle\" x=\"98166\" y=\"-38.6\" font-family=\"Times,serif\" font-size=\"8.00\"> 1</text>\n",
       "</g>\n",
       "<!--  0, 7, 2 -->\n",
       "<g id=\"node149\" class=\"node\">\n",
       "<title> 0, 7, 2</title>\n",
       "<polygon fill=\"none\" stroke=\"black\" points=\"98094,-18 98013.5,-9 98094,0 98174.5,-9 98094,-18\"/>\n",
       "<text text-anchor=\"middle\" x=\"98094\" y=\"-7.1\" font-family=\"Times,serif\" font-size=\"8.00\">&#45;3.419995225, 3.419995225</text>\n",
       "</g>\n",
       "<!--  0, 7&#45;&gt; 0, 7, 2 -->\n",
       "<g id=\"edge115\" class=\"edge\">\n",
       "<title> 0, 7&#45;&gt; 0, 7, 2</title>\n",
       "<path fill=\"none\" stroke=\"red\" d=\"M98416,-69.68C98346,-56.85 98193,-28.33 98126,-15.94\"/>\n",
       "<polygon fill=\"red\" stroke=\"red\" points=\"98126.24,-14.2 98121,-15.01 98125.59,-17.64 98126.24,-14.2\"/>\n",
       "<text text-anchor=\"middle\" x=\"98275\" y=\"-38.6\" font-family=\"Times,serif\" font-size=\"8.00\"> 2</text>\n",
       "</g>\n",
       "<!--  0, 7, 3 -->\n",
       "<g id=\"node150\" class=\"node\">\n",
       "<title> 0, 7, 3</title>\n",
       "<polygon fill=\"none\" stroke=\"black\" points=\"98319,-18 98192,-9 98319,0 98446,-9 98319,-18\"/>\n",
       "<text text-anchor=\"middle\" x=\"98319\" y=\"-7.1\" font-family=\"Times,serif\" font-size=\"8.00\">&#45;2.4550752249999994, 2.4550752249999994</text>\n",
       "</g>\n",
       "<!--  0, 7&#45;&gt; 0, 7, 3 -->\n",
       "<g id=\"edge116\" class=\"edge\">\n",
       "<title> 0, 7&#45;&gt; 0, 7, 3</title>\n",
       "<path fill=\"none\" stroke=\"red\" d=\"M98429,-65.07C98403,-52.25 98361,-31.34 98337,-19.31\"/>\n",
       "<polygon fill=\"red\" stroke=\"red\" points=\"98338.21,-17.99 98333,-17.03 98336.47,-21.03 98338.21,-17.99\"/>\n",
       "<text text-anchor=\"middle\" x=\"98388\" y=\"-38.6\" font-family=\"Times,serif\" font-size=\"8.00\"> 3</text>\n",
       "</g>\n",
       "<!--  0, 7, 4 -->\n",
       "<g id=\"node151\" class=\"node\">\n",
       "<title> 0, 7, 4</title>\n",
       "<polygon fill=\"none\" stroke=\"black\" points=\"98584,-18 98463.3,-9 98584,0 98704.7,-9 98584,-18\"/>\n",
       "<text text-anchor=\"middle\" x=\"98584\" y=\"-7.1\" font-family=\"Times,serif\" font-size=\"8.00\">&#45;4.366435224999999, 4.366435224999999</text>\n",
       "</g>\n",
       "<!--  0, 7&#45;&gt; 0, 7, 4 -->\n",
       "<g id=\"edge117\" class=\"edge\">\n",
       "<title> 0, 7&#45;&gt; 0, 7, 4</title>\n",
       "<path fill=\"none\" stroke=\"red\" d=\"M98473,-65.07C98499,-52.25 98541,-31.34 98565,-19.31\"/>\n",
       "<polygon fill=\"red\" stroke=\"red\" points=\"98565.52,-21.03 98569,-17.03 98563.79,-17.99 98565.52,-21.03\"/>\n",
       "<text text-anchor=\"middle\" x=\"98532\" y=\"-38.6\" font-family=\"Times,serif\" font-size=\"8.00\"> 4</text>\n",
       "</g>\n",
       "<!--  0, 7, 5 -->\n",
       "<g id=\"node152\" class=\"node\">\n",
       "<title> 0, 7, 5</title>\n",
       "<polygon fill=\"none\" stroke=\"black\" points=\"98803,-18 98722.5,-9 98803,0 98883.5,-9 98803,-18\"/>\n",
       "<text text-anchor=\"middle\" x=\"98803\" y=\"-7.1\" font-family=\"Times,serif\" font-size=\"8.00\">&#45;4.011355225, 4.011355225</text>\n",
       "</g>\n",
       "<!--  0, 7&#45;&gt; 0, 7, 5 -->\n",
       "<g id=\"edge118\" class=\"edge\">\n",
       "<title> 0, 7&#45;&gt; 0, 7, 5</title>\n",
       "<path fill=\"none\" stroke=\"red\" d=\"M98473,-65.22C98482,-61.49 98491,-57.6 98501,-55 98549,-41.39 98692,-23.22 98762,-14.74\"/>\n",
       "<polygon fill=\"red\" stroke=\"red\" points=\"98763.21,-16.37 98768,-14.1 98762.84,-12.89 98763.21,-16.37\"/>\n",
       "<text text-anchor=\"middle\" x=\"98598\" y=\"-38.6\" font-family=\"Times,serif\" font-size=\"8.00\"> 5</text>\n",
       "</g>\n",
       "<!--  0, 7, 6 -->\n",
       "<g id=\"node153\" class=\"node\">\n",
       "<title> 0, 7, 6</title>\n",
       "<polygon fill=\"none\" stroke=\"black\" points=\"99028,-18 98901,-9 99028,0 99155,-9 99028,-18\"/>\n",
       "<text text-anchor=\"middle\" x=\"99028\" y=\"-7.1\" font-family=\"Times,serif\" font-size=\"8.00\">&#45;3.3513552249999994, 3.3513552249999994</text>\n",
       "</g>\n",
       "<!--  0, 7&#45;&gt; 0, 7, 6 -->\n",
       "<g id=\"edge119\" class=\"edge\">\n",
       "<title> 0, 7&#45;&gt; 0, 7, 6</title>\n",
       "<path fill=\"none\" stroke=\"red\" d=\"M98472,-65.12C98481,-61.29 98491,-57.35 98501,-55 98512,-52.21 98836,-25.64 98970,-14.69\"/>\n",
       "<polygon fill=\"red\" stroke=\"red\" points=\"98970.16,-16.43 98975,-14.27 98969.87,-12.94 98970.16,-16.43\"/>\n",
       "<text text-anchor=\"middle\" x=\"98710\" y=\"-38.6\" font-family=\"Times,serif\" font-size=\"8.00\"> 6</text>\n",
       "</g>\n",
       "<!--  0, 7, 7 -->\n",
       "<g id=\"node154\" class=\"node\">\n",
       "<title> 0, 7, 7</title>\n",
       "<polygon fill=\"none\" stroke=\"black\" points=\"99300,-18 99173,-9 99300,0 99427,-9 99300,-18\"/>\n",
       "<text text-anchor=\"middle\" x=\"99300\" y=\"-7.1\" font-family=\"Times,serif\" font-size=\"8.00\">&#45;2.3864352249999996, 2.3864352249999996</text>\n",
       "</g>\n",
       "<!--  0, 7&#45;&gt; 0, 7, 7 -->\n",
       "<g id=\"edge120\" class=\"edge\">\n",
       "<title> 0, 7&#45;&gt; 0, 7, 7</title>\n",
       "<path fill=\"none\" stroke=\"red\" d=\"M98472,-64.93C98481,-61.06 98491,-57.17 98501,-55 98548,-44.32 98669,-47.56 98718,-45 98906,-35 99128,-21.02 99236,-14.15\"/>\n",
       "<polygon fill=\"red\" stroke=\"red\" points=\"99236.12,-15.89 99241,-13.83 99235.9,-12.4 99236.12,-15.89\"/>\n",
       "<text text-anchor=\"middle\" x=\"98880\" y=\"-38.6\" font-family=\"Times,serif\" font-size=\"8.00\"> 7</text>\n",
       "</g>\n",
       "<!--  0, 7, 8 -->\n",
       "<g id=\"node155\" class=\"node\">\n",
       "<title> 0, 7, 8</title>\n",
       "<polygon fill=\"none\" stroke=\"black\" points=\"99525,-18 99444.5,-9 99525,0 99605.5,-9 99525,-18\"/>\n",
       "<text text-anchor=\"middle\" x=\"99525\" y=\"-7.1\" font-family=\"Times,serif\" font-size=\"8.00\">&#45;4.036435225, 4.036435225</text>\n",
       "</g>\n",
       "<!--  0, 7&#45;&gt; 0, 7, 8 -->\n",
       "<g id=\"edge121\" class=\"edge\">\n",
       "<title> 0, 7&#45;&gt; 0, 7, 8</title>\n",
       "<path fill=\"none\" stroke=\"red\" d=\"M98472,-65.05C98481,-61.1 98491,-57.11 98501,-55 98543,-45.91 98845,-46.61 98888,-45 99131,-35.85 99192,-34.92 99436,-18 99450,-16.96 99467,-15.58 99481,-14.25\"/>\n",
       "<polygon fill=\"red\" stroke=\"red\" points=\"99482.16,-15.91 99487,-13.76 99481.87,-12.42 99482.16,-15.91\"/>\n",
       "<text text-anchor=\"middle\" x=\"99128\" y=\"-38.6\" font-family=\"Times,serif\" font-size=\"8.00\"> 8</text>\n",
       "</g>\n",
       "<!--  0, 7, 9 -->\n",
       "<g id=\"node156\" class=\"node\">\n",
       "<title> 0, 7, 9</title>\n",
       "<polygon fill=\"none\" stroke=\"black\" points=\"99750,-18 99623,-9 99750,0 99877,-9 99750,-18\"/>\n",
       "<text text-anchor=\"middle\" x=\"99750\" y=\"-7.1\" font-family=\"Times,serif\" font-size=\"8.00\">&#45;3.6813552249999995, 3.6813552249999995</text>\n",
       "</g>\n",
       "<!--  0, 7&#45;&gt; 0, 7, 9 -->\n",
       "<g id=\"edge122\" class=\"edge\">\n",
       "<title> 0, 7&#45;&gt; 0, 7, 9</title>\n",
       "<path fill=\"none\" stroke=\"red\" d=\"M98472,-65C98481,-61.04 98491,-57.06 98501,-55 98570,-40.44 99065,-47.55 99136,-45 99348,-37.32 99401,-30.25 99614,-18 99636,-16.7 99661,-15.26 99683,-13.96\"/>\n",
       "<polygon fill=\"red\" stroke=\"red\" points=\"99683.12,-15.71 99688,-13.65 99682.9,-12.22 99683.12,-15.71\"/>\n",
       "<text text-anchor=\"middle\" x=\"99329\" y=\"-38.6\" font-family=\"Times,serif\" font-size=\"8.00\"> 9</text>\n",
       "</g>\n",
       "<!--  0, 7, 10 -->\n",
       "<g id=\"node157\" class=\"node\">\n",
       "<title> 0, 7, 10</title>\n",
       "<polygon fill=\"none\" stroke=\"black\" points=\"100020,-18 99893,-9 100020,0 100147,-9 100020,-18\"/>\n",
       "<text text-anchor=\"middle\" x=\"100020\" y=\"-7.1\" font-family=\"Times,serif\" font-size=\"8.00\">&#45;3.0213552249999993, 3.0213552249999993</text>\n",
       "</g>\n",
       "<!--  0, 7&#45;&gt; 0, 7, 10 -->\n",
       "<g id=\"edge123\" class=\"edge\">\n",
       "<title> 0, 7&#45;&gt; 0, 7, 10</title>\n",
       "<path fill=\"none\" stroke=\"red\" d=\"M98472,-64.98C98481,-61.02 98491,-57.04 98501,-55 98546,-45.5 99290,-46.42 99337,-45 99581,-37.54 99642,-31.17 99886,-18 99908,-16.77 99933,-15.32 99956,-14.01\"/>\n",
       "<polygon fill=\"red\" stroke=\"red\" points=\"99956.11,-15.75 99961,-13.71 99955.9,-12.26 99956.11,-15.75\"/>\n",
       "<text text-anchor=\"middle\" x=\"99570\" y=\"-38.6\" font-family=\"Times,serif\" font-size=\"8.00\"> 10</text>\n",
       "</g>\n",
       "<!--  0, 7, 11 -->\n",
       "<g id=\"node158\" class=\"node\">\n",
       "<title> 0, 7, 11</title>\n",
       "<polygon fill=\"none\" stroke=\"black\" points=\"100290,-18 100169.3,-9 100290,0 100410.7,-9 100290,-18\"/>\n",
       "<text text-anchor=\"middle\" x=\"100290\" y=\"-7.1\" font-family=\"Times,serif\" font-size=\"8.00\">&#45;2.056435224999999, 2.056435224999999</text>\n",
       "</g>\n",
       "<!--  0, 7&#45;&gt; 0, 7, 11 -->\n",
       "<g id=\"edge124\" class=\"edge\">\n",
       "<title> 0, 7&#45;&gt; 0, 7, 11</title>\n",
       "<path fill=\"none\" stroke=\"red\" d=\"M98472,-64.96C98481,-61 98491,-57.03 98501,-55 98559,-42.83 99519,-46.67 99579,-45 99836,-37.8 99900,-31.97 100160,-18 100180,-16.82 100200,-15.39 100220,-14.07\"/>\n",
       "<polygon fill=\"red\" stroke=\"red\" points=\"100225.06,-15.66 100230,-13.75 100224.95,-12.16 100225.06,-15.66\"/>\n",
       "<text text-anchor=\"middle\" x=\"99824\" y=\"-38.6\" font-family=\"Times,serif\" font-size=\"8.00\"> 11</text>\n",
       "</g>\n",
       "<!--  0, 7, 12 -->\n",
       "<g id=\"node159\" class=\"node\">\n",
       "<title> 0, 7, 12</title>\n",
       "<polygon fill=\"none\" stroke=\"black\" points=\"100550,-18 100423,-9 100550,0 100677,-9 100550,-18\"/>\n",
       "<text text-anchor=\"middle\" x=\"100550\" y=\"-7.1\" font-family=\"Times,serif\" font-size=\"8.00\">&#45;3.4450752249999996, 3.4450752249999996</text>\n",
       "</g>\n",
       "<!--  0, 7&#45;&gt; 0, 7, 12 -->\n",
       "<g id=\"edge125\" class=\"edge\">\n",
       "<title> 0, 7&#45;&gt; 0, 7, 12</title>\n",
       "<path fill=\"none\" stroke=\"red\" d=\"M98472,-64.95C98481,-60.99 98491,-57.02 98501,-55 98573,-40.02 99759,-46.99 99833,-45 100070,-38.51 100360,-21.86 100490,-14.1\"/>\n",
       "<polygon fill=\"red\" stroke=\"red\" points=\"100491.75,-18.78 100490,-13.78 100488.25,-18.78 100491.75,-18.78\"/>\n",
       "<text text-anchor=\"middle\" x=\"100070\" y=\"-38.6\" font-family=\"Times,serif\" font-size=\"8.00\"> 12</text>\n",
       "</g>\n",
       "<!--  0, 7, 13 -->\n",
       "<g id=\"node160\" class=\"node\">\n",
       "<title> 0, 7, 13</title>\n",
       "<polygon fill=\"none\" stroke=\"black\" points=\"100780,-18 100699.5,-9 100780,0 100860.5,-9 100780,-18\"/>\n",
       "<text text-anchor=\"middle\" x=\"100780\" y=\"-7.1\" font-family=\"Times,serif\" font-size=\"8.00\">&#45;3.089995225, 3.089995225</text>\n",
       "</g>\n",
       "<!--  0, 7&#45;&gt; 0, 7, 13 -->\n",
       "<g id=\"edge126\" class=\"edge\">\n",
       "<title> 0, 7&#45;&gt; 0, 7, 13</title>\n",
       "<path fill=\"none\" stroke=\"red\" d=\"M98472,-64.95C98481,-60.99 98491,-57.02 98501,-55 98544,-46.13 100040,-46.12 100080,-45 100350,-38.15 100420,-36.03 100690,-18 100700,-17 100720,-15.62 100730,-14.29\"/>\n",
       "<polygon fill=\"red\" stroke=\"red\" points=\"100735.09,-15.79 100740,-13.8 100734.92,-12.3 100735.09,-15.79\"/>\n",
       "<text text-anchor=\"middle\" x=\"100380\" y=\"-38.6\" font-family=\"Times,serif\" font-size=\"8.00\"> 13</text>\n",
       "</g>\n",
       "<!--  0, 7, 14 -->\n",
       "<g id=\"node161\" class=\"node\">\n",
       "<title> 0, 7, 14</title>\n",
       "<polygon fill=\"none\" stroke=\"black\" points=\"100960,-18 100879.5,-9 100960,0 101040.5,-9 100960,-18\"/>\n",
       "<text text-anchor=\"middle\" x=\"100960\" y=\"-7.1\" font-family=\"Times,serif\" font-size=\"8.00\">&#45;2.429995225, 2.429995225</text>\n",
       "</g>\n",
       "<!--  0, 7&#45;&gt; 0, 7, 14 -->\n",
       "<g id=\"edge127\" class=\"edge\">\n",
       "<title> 0, 7&#45;&gt; 0, 7, 14</title>\n",
       "<path fill=\"none\" stroke=\"red\" d=\"M98472,-64.94C98481,-60.98 98491,-57.01 98501,-55 98552,-44.44 100340,-46.62 100390,-45 100600,-38.44 100650,-33.38 100870,-18 100880,-16.91 100900,-15.5 100910,-14.18\"/>\n",
       "<polygon fill=\"red\" stroke=\"red\" points=\"100915.09,-15.69 100920,-13.7 100914.92,-12.19 100915.09,-15.69\"/>\n",
       "<text text-anchor=\"middle\" x=\"100610\" y=\"-38.6\" font-family=\"Times,serif\" font-size=\"8.00\"> 14</text>\n",
       "</g>\n",
       "<!--  0, 7, 15 -->\n",
       "<g id=\"node162\" class=\"node\">\n",
       "<title> 0, 7, 15</title>\n",
       "<polygon fill=\"none\" stroke=\"black\" points=\"101180,-18 101053,-9 101180,0 101307,-9 101180,-18\"/>\n",
       "<text text-anchor=\"middle\" x=\"101180\" y=\"-7.1\" font-family=\"Times,serif\" font-size=\"8.00\">&#45;1.4650752249999992, 1.4650752249999992</text>\n",
       "</g>\n",
       "<!--  0, 7&#45;&gt; 0, 7, 15 -->\n",
       "<g id=\"edge128\" class=\"edge\">\n",
       "<title> 0, 7&#45;&gt; 0, 7, 15</title>\n",
       "<path fill=\"none\" stroke=\"red\" d=\"M98472,-64.94C98481,-60.98 98491,-57.01 98501,-55 98558,-43.18 100560,-46.96 100620,-45 100800,-38.82 101020,-22.72 101120,-14.69\"/>\n",
       "<polygon fill=\"red\" stroke=\"red\" points=\"101125.07,-16.24 101130,-14.29 101124.93,-12.74 101125.07,-16.24\"/>\n",
       "<text text-anchor=\"middle\" x=\"100810\" y=\"-38.6\" font-family=\"Times,serif\" font-size=\"8.00\"> 15</text>\n",
       "</g>\n",
       "<!--  0, 8 -->\n",
       "<g id=\"node9\" class=\"node\">\n",
       "<title> 0, 8</title>\n",
       "<ellipse fill=\"none\" stroke=\"red\" cx=\"98551\" cy=\"-77.14\" rx=\"41.02\" ry=\"14.29\"/>\n",
       "<text text-anchor=\"middle\" x=\"98551\" y=\"-79.74\" font-family=\"Times,serif\" font-size=\"8.00\">Current player: 1</text>\n",
       "<text text-anchor=\"middle\" x=\"98551\" y=\"-70.74\" font-family=\"Times,serif\" font-size=\"8.00\">us: op:</text>\n",
       "</g>\n",
       "<!--  0, 8, 0 -->\n",
       "<g id=\"node163\" class=\"node\">\n",
       "<title> 0, 8, 0</title>\n",
       "<polygon fill=\"none\" stroke=\"black\" points=\"101410,-18 101329.5,-9 101410,0 101490.5,-9 101410,-18\"/>\n",
       "<text text-anchor=\"middle\" x=\"101410\" y=\"-7.1\" font-family=\"Times,serif\" font-size=\"8.00\">&#45;0.105075225, 0.105075225</text>\n",
       "</g>\n",
       "<!--  0, 8&#45;&gt; 0, 8, 0 -->\n",
       "<g id=\"edge129\" class=\"edge\">\n",
       "<title> 0, 8&#45;&gt; 0, 8, 0</title>\n",
       "<path fill=\"none\" stroke=\"red\" d=\"M98572,-64.94C98581,-60.98 98591,-57.01 98601,-55 98661,-42.63 100760,-46.8 100820,-45 101040,-38.5 101090,-33.96 101320,-18 101330,-16.94 101350,-15.56 101360,-14.25\"/>\n",
       "<polygon fill=\"red\" stroke=\"red\" points=\"101365.09,-15.75 101370,-13.77 101364.92,-12.26 101365.09,-15.75\"/>\n",
       "<text text-anchor=\"middle\" x=\"101050\" y=\"-38.6\" font-family=\"Times,serif\" font-size=\"8.00\"> 0</text>\n",
       "</g>\n",
       "<!--  0, 8, 1 -->\n",
       "<g id=\"node164\" class=\"node\">\n",
       "<title> 0, 8, 1</title>\n",
       "<polygon fill=\"none\" stroke=\"black\" points=\"101630,-18 101503,-9 101630,0 101757,-9 101630,-18\"/>\n",
       "<text text-anchor=\"middle\" x=\"101630\" y=\"-7.1\" font-family=\"Times,serif\" font-size=\"8.00\">0.2500047749999999, &#45;0.2500047749999999</text>\n",
       "</g>\n",
       "<!--  0, 8&#45;&gt; 0, 8, 1 -->\n",
       "<g id=\"edge130\" class=\"edge\">\n",
       "<title> 0, 8&#45;&gt; 0, 8, 1</title>\n",
       "<path fill=\"none\" stroke=\"red\" d=\"M98572,-64.94C98581,-60.97 98591,-57.01 98601,-55 98667,-41.33 100980,-47.2 101050,-45 101240,-38.86 101470,-22.66 101570,-14.64\"/>\n",
       "<polygon fill=\"red\" stroke=\"red\" points=\"101575.07,-16.19 101580,-14.24 101574.93,-12.69 101575.07,-16.19\"/>\n",
       "<text text-anchor=\"middle\" x=\"101250\" y=\"-38.6\" font-family=\"Times,serif\" font-size=\"8.00\"> 1</text>\n",
       "</g>\n",
       "<!--  0, 8, 2 -->\n",
       "<g id=\"node165\" class=\"node\">\n",
       "<title> 0, 8, 2</title>\n",
       "<polygon fill=\"none\" stroke=\"black\" points=\"101900,-18 101773,-9 101900,0 102027,-9 101900,-18\"/>\n",
       "<text text-anchor=\"middle\" x=\"101900\" y=\"-7.1\" font-family=\"Times,serif\" font-size=\"8.00\">0.9100047749999999, &#45;0.9100047749999999</text>\n",
       "</g>\n",
       "<!--  0, 8&#45;&gt; 0, 8, 2 -->\n",
       "<g id=\"edge131\" class=\"edge\">\n",
       "<title> 0, 8&#45;&gt; 0, 8, 2</title>\n",
       "<path fill=\"none\" stroke=\"red\" d=\"M98572,-64.94C98581,-60.97 98591,-57 98601,-55 98673,-40.22 101180,-47.08 101250,-45 101470,-38.91 101730,-22.32 101840,-14.37\"/>\n",
       "<polygon fill=\"red\" stroke=\"red\" points=\"101845.06,-15.94 101850,-14.02 101844.94,-12.44 101845.06,-15.94\"/>\n",
       "<text text-anchor=\"middle\" x=\"101470\" y=\"-38.6\" font-family=\"Times,serif\" font-size=\"8.00\"> 2</text>\n",
       "</g>\n",
       "<!--  0, 8, 3 -->\n",
       "<g id=\"node166\" class=\"node\">\n",
       "<title> 0, 8, 3</title>\n",
       "<polygon fill=\"none\" stroke=\"black\" points=\"102170,-18 102043,-9 102170,0 102297,-9 102170,-18\"/>\n",
       "<text text-anchor=\"middle\" x=\"102170\" y=\"-7.1\" font-family=\"Times,serif\" font-size=\"8.00\">1.8749247750000002, &#45;1.8749247750000002</text>\n",
       "</g>\n",
       "<!--  0, 8&#45;&gt; 0, 8, 3 -->\n",
       "<g id=\"edge132\" class=\"edge\">\n",
       "<title> 0, 8&#45;&gt; 0, 8, 3</title>\n",
       "<path fill=\"none\" stroke=\"red\" d=\"M98572,-64.93C98581,-60.97 98591,-57 98601,-55 98640,-46.99 101440,-46.03 101480,-45 101710,-38.97 101990,-22.13 102110,-14.21\"/>\n",
       "<polygon fill=\"red\" stroke=\"red\" points=\"102115.06,-15.8 102120,-13.89 102114.94,-12.3 102115.06,-15.8\"/>\n",
       "<text text-anchor=\"middle\" x=\"101710\" y=\"-38.6\" font-family=\"Times,serif\" font-size=\"8.00\"> 3</text>\n",
       "</g>\n",
       "<!--  0, 8, 4 -->\n",
       "<g id=\"node167\" class=\"node\">\n",
       "<title> 0, 8, 4</title>\n",
       "<polygon fill=\"none\" stroke=\"black\" points=\"102460,-18 102319.5,-9 102460,0 102600.5,-9 102460,-18\"/>\n",
       "<text text-anchor=\"middle\" x=\"102460\" y=\"-7.1\" font-family=\"Times,serif\" font-size=\"8.00\">&#45;0.036435224999999904, 0.036435224999999904</text>\n",
       "</g>\n",
       "<!--  0, 8&#45;&gt; 0, 8, 4 -->\n",
       "<g id=\"edge133\" class=\"edge\">\n",
       "<title> 0, 8&#45;&gt; 0, 8, 4</title>\n",
       "<path fill=\"none\" stroke=\"red\" d=\"M98572,-64.93C98581,-60.97 98591,-57 98601,-55 98643,-46.33 101680,-46.06 101720,-45 101970,-38.96 102260,-22.24 102390,-14.3\"/>\n",
       "<polygon fill=\"red\" stroke=\"red\" points=\"102395.06,-15.88 102400,-13.97 102394.94,-12.38 102395.06,-15.88\"/>\n",
       "<text text-anchor=\"middle\" x=\"101970\" y=\"-38.6\" font-family=\"Times,serif\" font-size=\"8.00\"> 4</text>\n",
       "</g>\n",
       "<!--  0, 8, 5 -->\n",
       "<g id=\"node168\" class=\"node\">\n",
       "<title> 0, 8, 5</title>\n",
       "<polygon fill=\"none\" stroke=\"black\" points=\"102740,-18 102613,-9 102740,0 102867,-9 102740,-18\"/>\n",
       "<text text-anchor=\"middle\" x=\"102740\" y=\"-7.1\" font-family=\"Times,serif\" font-size=\"8.00\">0.3186447749999999, &#45;0.3186447749999999</text>\n",
       "</g>\n",
       "<!--  0, 8&#45;&gt; 0, 8, 5 -->\n",
       "<g id=\"edge134\" class=\"edge\">\n",
       "<title> 0, 8&#45;&gt; 0, 8, 5</title>\n",
       "<path fill=\"none\" stroke=\"red\" d=\"M98572,-64.93C98581,-60.97 98591,-57 98601,-55 98646,-45.62 101930,-46.06 101970,-45 102230,-39.06 102550,-21.86 102680,-14\"/>\n",
       "<polygon fill=\"red\" stroke=\"red\" points=\"102681.75,-18.71 102680,-13.71 102678.25,-18.71 102681.75,-18.71\"/>\n",
       "<text text-anchor=\"middle\" x=\"102230\" y=\"-38.6\" font-family=\"Times,serif\" font-size=\"8.00\"> 5</text>\n",
       "</g>\n",
       "<!--  0, 8, 6 -->\n",
       "<g id=\"node169\" class=\"node\">\n",
       "<title> 0, 8, 6</title>\n",
       "<polygon fill=\"none\" stroke=\"black\" points=\"103020,-18 102893,-9 103020,0 103147,-9 103020,-18\"/>\n",
       "<text text-anchor=\"middle\" x=\"103020\" y=\"-7.1\" font-family=\"Times,serif\" font-size=\"8.00\">0.9786447749999999, &#45;0.9786447749999999</text>\n",
       "</g>\n",
       "<!--  0, 8&#45;&gt; 0, 8, 6 -->\n",
       "<g id=\"edge135\" class=\"edge\">\n",
       "<title> 0, 8&#45;&gt; 0, 8, 6</title>\n",
       "<path fill=\"none\" stroke=\"red\" d=\"M98572,-64.93C98581,-60.97 98591,-57 98601,-55 98650,-44.89 102190,-46.13 102240,-45 102520,-38.61 102600,-32.39 102880,-18 102900,-16.84 102930,-15.4 102950,-14.06\"/>\n",
       "<polygon fill=\"red\" stroke=\"red\" points=\"102955.05,-15.66 102960,-13.76 102954.95,-12.16 102955.05,-15.66\"/>\n",
       "<text text-anchor=\"middle\" x=\"102520\" y=\"-38.6\" font-family=\"Times,serif\" font-size=\"8.00\"> 6</text>\n",
       "</g>\n",
       "<!--  0, 8, 7 -->\n",
       "<g id=\"node170\" class=\"node\">\n",
       "<title> 0, 8, 7</title>\n",
       "<polygon fill=\"none\" stroke=\"black\" points=\"103290,-18 103163,-9 103290,0 103417,-9 103290,-18\"/>\n",
       "<text text-anchor=\"middle\" x=\"103290\" y=\"-7.1\" font-family=\"Times,serif\" font-size=\"8.00\">1.9435647749999998, &#45;1.9435647749999998</text>\n",
       "</g>\n",
       "<!--  0, 8&#45;&gt; 0, 8, 7 -->\n",
       "<g id=\"edge136\" class=\"edge\">\n",
       "<title> 0, 8&#45;&gt; 0, 8, 7</title>\n",
       "<path fill=\"none\" stroke=\"red\" d=\"M98572,-64.93C98581,-60.97 98591,-57 98601,-55 98654,-44.09 102470,-46.25 102530,-45 102790,-39.11 103090,-21.93 103220,-14.04\"/>\n",
       "<polygon fill=\"red\" stroke=\"red\" points=\"103225.05,-15.64 103230,-13.74 103224.95,-12.14 103225.05,-15.64\"/>\n",
       "<text text-anchor=\"middle\" x=\"102780\" y=\"-38.6\" font-family=\"Times,serif\" font-size=\"8.00\"> 7</text>\n",
       "</g>\n",
       "<!--  0, 8, 8 -->\n",
       "<g id=\"node171\" class=\"node\">\n",
       "<title> 0, 8, 8</title>\n",
       "<polygon fill=\"none\" stroke=\"black\" points=\"103570,-18 103436,-9 103570,0 103704,-9 103570,-18\"/>\n",
       "<text text-anchor=\"middle\" x=\"103570\" y=\"-7.1\" font-family=\"Times,serif\" font-size=\"8.00\">0.29356477500000006, &#45;0.29356477500000006</text>\n",
       "</g>\n",
       "<!--  0, 8&#45;&gt; 0, 8, 8 -->\n",
       "<g id=\"edge137\" class=\"edge\">\n",
       "<title> 0, 8&#45;&gt; 0, 8, 8</title>\n",
       "<path fill=\"none\" stroke=\"red\" d=\"M98572,-64.93C98581,-60.97 98591,-57 98601,-55 98658,-43.37 102730,-46.31 102790,-45 103050,-39.11 103360,-22 103500,-14.1\"/>\n",
       "<polygon fill=\"red\" stroke=\"red\" points=\"103501.75,-18.8 103500,-13.8 103498.25,-18.8 103501.75,-18.8\"/>\n",
       "<text text-anchor=\"middle\" x=\"103050\" y=\"-38.6\" font-family=\"Times,serif\" font-size=\"8.00\"> 8</text>\n",
       "</g>\n",
       "<!--  0, 8, 9 -->\n",
       "<g id=\"node172\" class=\"node\">\n",
       "<title> 0, 8, 9</title>\n",
       "<polygon fill=\"none\" stroke=\"black\" points=\"103850,-18 103723,-9 103850,0 103977,-9 103850,-18\"/>\n",
       "<text text-anchor=\"middle\" x=\"103850\" y=\"-7.1\" font-family=\"Times,serif\" font-size=\"8.00\">0.6486447749999998, &#45;0.6486447749999998</text>\n",
       "</g>\n",
       "<!--  0, 8&#45;&gt; 0, 8, 9 -->\n",
       "<g id=\"edge138\" class=\"edge\">\n",
       "<title> 0, 8&#45;&gt; 0, 8, 9</title>\n",
       "<path fill=\"none\" stroke=\"red\" d=\"M98572,-64.93C98581,-60.96 98591,-57 98601,-55 98661,-42.63 102990,-46.35 103060,-45 103350,-38.67 103420,-32.54 103710,-18 103730,-16.84 103760,-15.39 103780,-14.05\"/>\n",
       "<polygon fill=\"red\" stroke=\"red\" points=\"103785.05,-15.65 103790,-13.75 103784.95,-12.15 103785.05,-15.65\"/>\n",
       "<text text-anchor=\"middle\" x=\"103350\" y=\"-38.6\" font-family=\"Times,serif\" font-size=\"8.00\"> 9</text>\n",
       "</g>\n",
       "<!--  0, 8, 10 -->\n",
       "<g id=\"node173\" class=\"node\">\n",
       "<title> 0, 8, 10</title>\n",
       "<polygon fill=\"none\" stroke=\"black\" points=\"104120,-18 103993,-9 104120,0 104247,-9 104120,-18\"/>\n",
       "<text text-anchor=\"middle\" x=\"104120\" y=\"-7.1\" font-family=\"Times,serif\" font-size=\"8.00\">1.3086447749999999, &#45;1.3086447749999999</text>\n",
       "</g>\n",
       "<!--  0, 8&#45;&gt; 0, 8, 10 -->\n",
       "<g id=\"edge139\" class=\"edge\">\n",
       "<title> 0, 8&#45;&gt; 0, 8, 10</title>\n",
       "<path fill=\"none\" stroke=\"red\" d=\"M98572,-64.93C98581,-60.96 98591,-56.99 98601,-55 98665,-41.79 103300,-46.51 103360,-45 103620,-39.17 103920,-21.99 104050,-14.07\"/>\n",
       "<polygon fill=\"red\" stroke=\"red\" points=\"104055.06,-15.66 104060,-13.75 104054.94,-12.16 104055.06,-15.66\"/>\n",
       "<text text-anchor=\"middle\" x=\"103620\" y=\"-38.6\" font-family=\"Times,serif\" font-size=\"8.00\"> 10</text>\n",
       "</g>\n",
       "<!--  0, 8, 11 -->\n",
       "<g id=\"node174\" class=\"node\">\n",
       "<title> 0, 8, 11</title>\n",
       "<polygon fill=\"none\" stroke=\"black\" points=\"104390,-18 104263,-9 104390,0 104517,-9 104390,-18\"/>\n",
       "<text text-anchor=\"middle\" x=\"104390\" y=\"-7.1\" font-family=\"Times,serif\" font-size=\"8.00\">2.2735647750000005, &#45;2.2735647750000005</text>\n",
       "</g>\n",
       "<!--  0, 8&#45;&gt; 0, 8, 11 -->\n",
       "<g id=\"edge140\" class=\"edge\">\n",
       "<title> 0, 8&#45;&gt; 0, 8, 11</title>\n",
       "<path fill=\"none\" stroke=\"red\" d=\"M98572,-64.93C98581,-60.96 98591,-56.99 98601,-55 98669,-41.07 103550,-46.56 103620,-45 103880,-39.18 104190,-21.92 104330,-14.03\"/>\n",
       "<polygon fill=\"red\" stroke=\"red\" points=\"104331.75,-18.72 104330,-13.72 104328.25,-18.73 104331.75,-18.72\"/>\n",
       "<text text-anchor=\"middle\" x=\"103880\" y=\"-38.6\" font-family=\"Times,serif\" font-size=\"8.00\"> 11</text>\n",
       "</g>\n",
       "<!--  0, 8, 12 -->\n",
       "<g id=\"node175\" class=\"node\">\n",
       "<title> 0, 8, 12</title>\n",
       "<polygon fill=\"none\" stroke=\"black\" points=\"104660,-18 104533,-9 104660,0 104787,-9 104660,-18\"/>\n",
       "<text text-anchor=\"middle\" x=\"104660\" y=\"-7.1\" font-family=\"Times,serif\" font-size=\"8.00\">0.8849247750000002, &#45;0.8849247750000002</text>\n",
       "</g>\n",
       "<!--  0, 8&#45;&gt; 0, 8, 12 -->\n",
       "<g id=\"edge141\" class=\"edge\">\n",
       "<title> 0, 8&#45;&gt; 0, 8, 12</title>\n",
       "<path fill=\"none\" stroke=\"red\" d=\"M98572,-64.93C98581,-60.96 98591,-56.99 98601,-55 98637,-47.67 103850,-45.81 103890,-45 104150,-39.2 104460,-21.93 104600,-14.03\"/>\n",
       "<polygon fill=\"red\" stroke=\"red\" points=\"104601.75,-18.73 104600,-13.73 104598.25,-18.73 104601.75,-18.73\"/>\n",
       "<text text-anchor=\"middle\" x=\"104150\" y=\"-38.6\" font-family=\"Times,serif\" font-size=\"8.00\"> 12</text>\n",
       "</g>\n",
       "<!--  0, 8, 13 -->\n",
       "<g id=\"node176\" class=\"node\">\n",
       "<title> 0, 8, 13</title>\n",
       "<polygon fill=\"none\" stroke=\"black\" points=\"104930,-18 104803,-9 104930,0 105057,-9 104930,-18\"/>\n",
       "<text text-anchor=\"middle\" x=\"104930\" y=\"-7.1\" font-family=\"Times,serif\" font-size=\"8.00\">1.2400047749999998, &#45;1.2400047749999998</text>\n",
       "</g>\n",
       "<!--  0, 8&#45;&gt; 0, 8, 13 -->\n",
       "<g id=\"edge142\" class=\"edge\">\n",
       "<title> 0, 8&#45;&gt; 0, 8, 13</title>\n",
       "<path fill=\"none\" stroke=\"red\" d=\"M98572,-64.93C98581,-60.96 98591,-56.99 98601,-55 98638,-47.3 104120,-45.85 104160,-45 104420,-39.21 104730,-21.89 104870,-14\"/>\n",
       "<polygon fill=\"red\" stroke=\"red\" points=\"104871.75,-18.7 104870,-13.7 104868.25,-18.7 104871.75,-18.7\"/>\n",
       "<text text-anchor=\"middle\" x=\"104420\" y=\"-38.6\" font-family=\"Times,serif\" font-size=\"8.00\"> 13</text>\n",
       "</g>\n",
       "<!--  0, 8, 14 -->\n",
       "<g id=\"node177\" class=\"node\">\n",
       "<title> 0, 8, 14</title>\n",
       "<polygon fill=\"none\" stroke=\"black\" points=\"105210,-18 105083,-9 105210,0 105337,-9 105210,-18\"/>\n",
       "<text text-anchor=\"middle\" x=\"105210\" y=\"-7.1\" font-family=\"Times,serif\" font-size=\"8.00\">1.9000047749999998, &#45;1.9000047749999998</text>\n",
       "</g>\n",
       "<!--  0, 8&#45;&gt; 0, 8, 14 -->\n",
       "<g id=\"edge143\" class=\"edge\">\n",
       "<title> 0, 8&#45;&gt; 0, 8, 14</title>\n",
       "<path fill=\"none\" stroke=\"red\" d=\"M98572,-64.93C98581,-60.96 98591,-56.99 98601,-55 98640,-46.92 104390,-45.88 104430,-45 104690,-39.23 105010,-21.9 105140,-14\"/>\n",
       "<polygon fill=\"red\" stroke=\"red\" points=\"105145.05,-15.6 105150,-13.7 105144.95,-12.1 105145.05,-15.6\"/>\n",
       "<text text-anchor=\"middle\" x=\"104690\" y=\"-38.6\" font-family=\"Times,serif\" font-size=\"8.00\"> 14</text>\n",
       "</g>\n",
       "<!--  0, 8, 15 -->\n",
       "<g id=\"node178\" class=\"node\">\n",
       "<title> 0, 8, 15</title>\n",
       "<polygon fill=\"none\" stroke=\"black\" points=\"105480,-18 105353,-9 105480,0 105607,-9 105480,-18\"/>\n",
       "<text text-anchor=\"middle\" x=\"105480\" y=\"-7.1\" font-family=\"Times,serif\" font-size=\"8.00\">2.8649247750000004, &#45;2.8649247750000004</text>\n",
       "</g>\n",
       "<!--  0, 8&#45;&gt; 0, 8, 15 -->\n",
       "<g id=\"edge144\" class=\"edge\">\n",
       "<title> 0, 8&#45;&gt; 0, 8, 15</title>\n",
       "<path fill=\"none\" stroke=\"red\" d=\"M98572,-64.92C98581,-60.96 98591,-56.99 98601,-55 98642,-46.55 104660,-45.92 104700,-45 104960,-39.24 105280,-21.91 105410,-14.01\"/>\n",
       "<polygon fill=\"red\" stroke=\"red\" points=\"105415.05,-15.6 105420,-13.71 105414.95,-12.11 105415.05,-15.6\"/>\n",
       "<text text-anchor=\"middle\" x=\"104960\" y=\"-38.6\" font-family=\"Times,serif\" font-size=\"8.00\"> 15</text>\n",
       "</g>\n",
       "<!--  0, 9 -->\n",
       "<g id=\"node10\" class=\"node\">\n",
       "<title> 0, 9</title>\n",
       "<ellipse fill=\"none\" stroke=\"red\" cx=\"98651\" cy=\"-77.14\" rx=\"41.02\" ry=\"14.29\"/>\n",
       "<text text-anchor=\"middle\" x=\"98651\" y=\"-79.74\" font-family=\"Times,serif\" font-size=\"8.00\">Current player: 1</text>\n",
       "<text text-anchor=\"middle\" x=\"98651\" y=\"-70.74\" font-family=\"Times,serif\" font-size=\"8.00\">us: op:</text>\n",
       "</g>\n",
       "<!--  0, 9, 0 -->\n",
       "<g id=\"node179\" class=\"node\">\n",
       "<title> 0, 9, 0</title>\n",
       "<polygon fill=\"none\" stroke=\"black\" points=\"105750,-18 105623,-9 105750,0 105877,-9 105750,-18\"/>\n",
       "<text text-anchor=\"middle\" x=\"105750\" y=\"-7.1\" font-family=\"Times,serif\" font-size=\"8.00\">0.1240425027777777, &#45;0.1240425027777777</text>\n",
       "</g>\n",
       "<!--  0, 9&#45;&gt; 0, 9, 0 -->\n",
       "<g id=\"edge145\" class=\"edge\">\n",
       "<title> 0, 9&#45;&gt; 0, 9, 0</title>\n",
       "<path fill=\"none\" stroke=\"red\" d=\"M98672,-64.92C98681,-60.96 98691,-56.99 98701,-55 98743,-46.32 104930,-45.95 104970,-45 105230,-39.24 105550,-21.89 105680,-13.99\"/>\n",
       "<polygon fill=\"red\" stroke=\"red\" points=\"105685.05,-15.59 105690,-13.69 105684.95,-12.09 105685.05,-15.59\"/>\n",
       "<text text-anchor=\"middle\" x=\"105230\" y=\"-38.6\" font-family=\"Times,serif\" font-size=\"8.00\"> 0</text>\n",
       "</g>\n",
       "<!--  0, 9, 1 -->\n",
       "<g id=\"node180\" class=\"node\">\n",
       "<title> 0, 9, 1</title>\n",
       "<polygon fill=\"none\" stroke=\"black\" points=\"106020,-18 105893,-9 106020,0 106147,-9 106020,-18\"/>\n",
       "<text text-anchor=\"middle\" x=\"106020\" y=\"-7.1\" font-family=\"Times,serif\" font-size=\"8.00\">0.4791225027777777, &#45;0.4791225027777777</text>\n",
       "</g>\n",
       "<!--  0, 9&#45;&gt; 0, 9, 1 -->\n",
       "<g id=\"edge146\" class=\"edge\">\n",
       "<title> 0, 9&#45;&gt; 0, 9, 1</title>\n",
       "<path fill=\"none\" stroke=\"red\" d=\"M98672,-64.92C98681,-60.96 98691,-56.99 98701,-55 98745,-45.95 105190,-45.98 105240,-45 105530,-38.78 105600,-32.48 105890,-18 105910,-16.84 105940,-15.39 105960,-14.05\"/>\n",
       "<polygon fill=\"red\" stroke=\"red\" points=\"105961.75,-18.75 105960,-13.75 105958.25,-18.75 105961.75,-18.75\"/>\n",
       "<text text-anchor=\"middle\" x=\"105530\" y=\"-38.6\" font-family=\"Times,serif\" font-size=\"8.00\"> 1</text>\n",
       "</g>\n",
       "<!--  0, 9, 2 -->\n",
       "<g id=\"node181\" class=\"node\">\n",
       "<title> 0, 9, 2</title>\n",
       "<polygon fill=\"none\" stroke=\"black\" points=\"106290,-18 106163,-9 106290,0 106417,-9 106290,-18\"/>\n",
       "<text text-anchor=\"middle\" x=\"106290\" y=\"-7.1\" font-family=\"Times,serif\" font-size=\"8.00\">1.1391225027777776, &#45;1.1391225027777776</text>\n",
       "</g>\n",
       "<!--  0, 9&#45;&gt; 0, 9, 2 -->\n",
       "<g id=\"edge147\" class=\"edge\">\n",
       "<title> 0, 9&#45;&gt; 0, 9, 2</title>\n",
       "<path fill=\"none\" stroke=\"red\" d=\"M98672,-64.92C98681,-60.96 98691,-56.99 98701,-55 98747,-45.53 105490,-46.07 105540,-45 105800,-39.25 106100,-22.02 106230,-14.09\"/>\n",
       "<polygon fill=\"red\" stroke=\"red\" points=\"106231.75,-18.76 106230,-13.76 106228.25,-18.76 106231.75,-18.76\"/>\n",
       "<text text-anchor=\"middle\" x=\"105790\" y=\"-38.6\" font-family=\"Times,serif\" font-size=\"8.00\"> 2</text>\n",
       "</g>\n",
       "<!--  0, 9, 3 -->\n",
       "<g id=\"node182\" class=\"node\">\n",
       "<title> 0, 9, 3</title>\n",
       "<polygon fill=\"none\" stroke=\"black\" points=\"106570,-18 106443,-9 106570,0 106697,-9 106570,-18\"/>\n",
       "<text text-anchor=\"middle\" x=\"106570\" y=\"-7.1\" font-family=\"Times,serif\" font-size=\"8.00\">2.1040425027777783, &#45;2.1040425027777783</text>\n",
       "</g>\n",
       "<!--  0, 9&#45;&gt; 0, 9, 3 -->\n",
       "<g id=\"edge148\" class=\"edge\">\n",
       "<title> 0, 9&#45;&gt; 0, 9, 3</title>\n",
       "<path fill=\"none\" stroke=\"red\" d=\"M98672,-64.92C98681,-60.96 98691,-56.99 98701,-55 98749,-45.17 105750,-46.09 105800,-45 106060,-39.26 106370,-21.96 106500,-14.04\"/>\n",
       "<polygon fill=\"red\" stroke=\"red\" points=\"106505.05,-15.64 106510,-13.74 106504.95,-12.14 106505.05,-15.64\"/>\n",
       "<text text-anchor=\"middle\" x=\"106060\" y=\"-38.6\" font-family=\"Times,serif\" font-size=\"8.00\"> 3</text>\n",
       "</g>\n",
       "<!--  0, 9, 4 -->\n",
       "<g id=\"node183\" class=\"node\">\n",
       "<title> 0, 9, 4</title>\n",
       "<polygon fill=\"none\" stroke=\"black\" points=\"106850,-18 106716,-9 106850,0 106984,-9 106850,-18\"/>\n",
       "<text text-anchor=\"middle\" x=\"106850\" y=\"-7.1\" font-family=\"Times,serif\" font-size=\"8.00\">0.19268250277777782, &#45;0.19268250277777782</text>\n",
       "</g>\n",
       "<!--  0, 9&#45;&gt; 0, 9, 4 -->\n",
       "<g id=\"edge149\" class=\"edge\">\n",
       "<title> 0, 9&#45;&gt; 0, 9, 4</title>\n",
       "<path fill=\"none\" stroke=\"red\" d=\"M98672,-64.92C98681,-60.96 98691,-56.99 98701,-55 98751,-44.81 106010,-46.11 106060,-45 106330,-39.24 106640,-22.03 106780,-14.09\"/>\n",
       "<polygon fill=\"red\" stroke=\"red\" points=\"106781.75,-18.79 106780,-13.79 106778.25,-18.79 106781.75,-18.79\"/>\n",
       "<text text-anchor=\"middle\" x=\"106330\" y=\"-38.6\" font-family=\"Times,serif\" font-size=\"8.00\"> 4</text>\n",
       "</g>\n",
       "<!--  0, 9, 5 -->\n",
       "<g id=\"node184\" class=\"node\">\n",
       "<title> 0, 9, 5</title>\n",
       "<polygon fill=\"none\" stroke=\"black\" points=\"107120,-18 106993,-9 107120,0 107247,-9 107120,-18\"/>\n",
       "<text text-anchor=\"middle\" x=\"107120\" y=\"-7.1\" font-family=\"Times,serif\" font-size=\"8.00\">0.5477625027777777, &#45;0.5477625027777777</text>\n",
       "</g>\n",
       "<!--  0, 9&#45;&gt; 0, 9, 5 -->\n",
       "<g id=\"edge150\" class=\"edge\">\n",
       "<title> 0, 9&#45;&gt; 0, 9, 5</title>\n",
       "<path fill=\"none\" stroke=\"red\" d=\"M98672,-64.92C98681,-60.96 98691,-56.99 98701,-55 98753,-44.44 106280,-46.12 106330,-45 106620,-38.81 106700,-32.57 106990,-18 107010,-16.84 107040,-15.4 107060,-14.05\"/>\n",
       "<polygon fill=\"red\" stroke=\"red\" points=\"107061.75,-18.75 107060,-13.75 107058.25,-18.75 107061.75,-18.75\"/>\n",
       "<text text-anchor=\"middle\" x=\"106630\" y=\"-38.6\" font-family=\"Times,serif\" font-size=\"8.00\"> 5</text>\n",
       "</g>\n",
       "<!--  0, 9, 6 -->\n",
       "<g id=\"node185\" class=\"node\">\n",
       "<title> 0, 9, 6</title>\n",
       "<polygon fill=\"none\" stroke=\"black\" points=\"107400,-18 107273,-9 107400,0 107527,-9 107400,-18\"/>\n",
       "<text text-anchor=\"middle\" x=\"107400\" y=\"-7.1\" font-family=\"Times,serif\" font-size=\"8.00\">1.2077625027777776, &#45;1.2077625027777776</text>\n",
       "</g>\n",
       "<!--  0, 9&#45;&gt; 0, 9, 6 -->\n",
       "<g id=\"edge151\" class=\"edge\">\n",
       "<title> 0, 9&#45;&gt; 0, 9, 6</title>\n",
       "<path fill=\"none\" stroke=\"red\" d=\"M98672,-64.92C98681,-60.96 98691,-56.99 98701,-55 98755,-44.01 106580,-46.23 106640,-45 106890,-39.28 107200,-22.04 107330,-14.09\"/>\n",
       "<polygon fill=\"red\" stroke=\"red\" points=\"107335.06,-15.68 107340,-13.77 107334.94,-12.18 107335.06,-15.68\"/>\n",
       "<text text-anchor=\"middle\" x=\"106890\" y=\"-38.6\" font-family=\"Times,serif\" font-size=\"8.00\"> 6</text>\n",
       "</g>\n",
       "<!--  0, 9, 7 -->\n",
       "<g id=\"node186\" class=\"node\">\n",
       "<title> 0, 9, 7</title>\n",
       "<polygon fill=\"none\" stroke=\"black\" points=\"107670,-18 107543,-9 107670,0 107797,-9 107670,-18\"/>\n",
       "<text text-anchor=\"middle\" x=\"107670\" y=\"-7.1\" font-family=\"Times,serif\" font-size=\"8.00\">2.1726825027777776, &#45;2.1726825027777776</text>\n",
       "</g>\n",
       "<!--  0, 9&#45;&gt; 0, 9, 7 -->\n",
       "<g id=\"edge152\" class=\"edge\">\n",
       "<title> 0, 9&#45;&gt; 0, 9, 7</title>\n",
       "<path fill=\"none\" stroke=\"red\" d=\"M98672,-64.92C98681,-60.96 98691,-56.99 98701,-55 98756,-43.65 106840,-46.25 106900,-45 107160,-39.29 107470,-21.97 107600,-14.04\"/>\n",
       "<polygon fill=\"red\" stroke=\"red\" points=\"107605.05,-15.64 107610,-13.74 107604.95,-12.14 107605.05,-15.64\"/>\n",
       "<text text-anchor=\"middle\" x=\"107160\" y=\"-38.6\" font-family=\"Times,serif\" font-size=\"8.00\"> 7</text>\n",
       "</g>\n",
       "<!--  0, 9, 8 -->\n",
       "<g id=\"node187\" class=\"node\">\n",
       "<title> 0, 9, 8</title>\n",
       "<polygon fill=\"none\" stroke=\"black\" points=\"107940,-18 107813,-9 107940,0 108067,-9 107940,-18\"/>\n",
       "<text text-anchor=\"middle\" x=\"107940\" y=\"-7.1\" font-family=\"Times,serif\" font-size=\"8.00\">0.5226825027777778, &#45;0.5226825027777778</text>\n",
       "</g>\n",
       "<!--  0, 9&#45;&gt; 0, 9, 8 -->\n",
       "<g id=\"edge153\" class=\"edge\">\n",
       "<title> 0, 9&#45;&gt; 0, 9, 8</title>\n",
       "<path fill=\"none\" stroke=\"red\" d=\"M98672,-64.92C98681,-60.96 98691,-56.99 98701,-55 98758,-43.29 107100,-46.27 107160,-45 107430,-39.3 107740,-21.93 107870,-14.02\"/>\n",
       "<polygon fill=\"red\" stroke=\"red\" points=\"107875.05,-15.61 107880,-13.71 107874.95,-12.12 107875.05,-15.61\"/>\n",
       "<text text-anchor=\"middle\" x=\"107420\" y=\"-38.6\" font-family=\"Times,serif\" font-size=\"8.00\"> 8</text>\n",
       "</g>\n",
       "<!--  0, 9, 9 -->\n",
       "<g id=\"node188\" class=\"node\">\n",
       "<title> 0, 9, 9</title>\n",
       "<polygon fill=\"none\" stroke=\"black\" points=\"108210,-18 108083,-9 108210,0 108337,-9 108210,-18\"/>\n",
       "<text text-anchor=\"middle\" x=\"108210\" y=\"-7.1\" font-family=\"Times,serif\" font-size=\"8.00\">0.8777625027777777, &#45;0.8777625027777777</text>\n",
       "</g>\n",
       "<!--  0, 9&#45;&gt; 0, 9, 9 -->\n",
       "<g id=\"edge154\" class=\"edge\">\n",
       "<title> 0, 9&#45;&gt; 0, 9, 9</title>\n",
       "<path fill=\"none\" stroke=\"red\" d=\"M98672,-64.92C98681,-60.96 98691,-56.99 98701,-55 98760,-42.92 107370,-46.3 107430,-45 107700,-39.3 108010,-21.9 108150,-13.99\"/>\n",
       "<polygon fill=\"red\" stroke=\"red\" points=\"108151.75,-18.69 108150,-13.69 108148.25,-18.69 108151.75,-18.69\"/>\n",
       "<text text-anchor=\"middle\" x=\"107690\" y=\"-38.6\" font-family=\"Times,serif\" font-size=\"8.00\"> 9</text>\n",
       "</g>\n",
       "<!--  0, 9, 10 -->\n",
       "<g id=\"node189\" class=\"node\">\n",
       "<title> 0, 9, 10</title>\n",
       "<polygon fill=\"none\" stroke=\"black\" points=\"108480,-18 108353,-9 108480,0 108607,-9 108480,-18\"/>\n",
       "<text text-anchor=\"middle\" x=\"108480\" y=\"-7.1\" font-family=\"Times,serif\" font-size=\"8.00\">1.5377625027777777, &#45;1.5377625027777777</text>\n",
       "</g>\n",
       "<!--  0, 9&#45;&gt; 0, 9, 10 -->\n",
       "<g id=\"edge155\" class=\"edge\">\n",
       "<title> 0, 9&#45;&gt; 0, 9, 10</title>\n",
       "<path fill=\"none\" stroke=\"red\" d=\"M98672,-64.92C98681,-60.96 98691,-56.99 98701,-55 98762,-42.55 107640,-46.33 107700,-45 107990,-38.84 108060,-32.48 108350,-18 108370,-16.84 108400,-15.39 108420,-14.05\"/>\n",
       "<polygon fill=\"red\" stroke=\"red\" points=\"108421.75,-18.75 108420,-13.75 108418.25,-18.75 108421.75,-18.75\"/>\n",
       "<text text-anchor=\"middle\" x=\"108000\" y=\"-38.6\" font-family=\"Times,serif\" font-size=\"8.00\"> 10</text>\n",
       "</g>\n",
       "<!--  0, 9, 11 -->\n",
       "<g id=\"node190\" class=\"node\">\n",
       "<title> 0, 9, 11</title>\n",
       "<polygon fill=\"none\" stroke=\"black\" points=\"108750,-18 108629.3,-9 108750,0 108870.7,-9 108750,-18\"/>\n",
       "<text text-anchor=\"middle\" x=\"108750\" y=\"-7.1\" font-family=\"Times,serif\" font-size=\"8.00\">2.502682502777778, &#45;2.502682502777778</text>\n",
       "</g>\n",
       "<!--  0, 9&#45;&gt; 0, 9, 11 -->\n",
       "<g id=\"edge156\" class=\"edge\">\n",
       "<title> 0, 9&#45;&gt; 0, 9, 11</title>\n",
       "<path fill=\"none\" stroke=\"red\" d=\"M98672,-64.92C98681,-60.96 98691,-56.99 98701,-55 98764,-42.13 107940,-46.45 108010,-45 108280,-38.85 108350,-32.47 108620,-18 108640,-16.85 108670,-15.42 108690,-14.08\"/>\n",
       "<polygon fill=\"red\" stroke=\"red\" points=\"108691.75,-18.77 108690,-13.77 108688.25,-18.77 108691.75,-18.77\"/>\n",
       "<text text-anchor=\"middle\" x=\"108290\" y=\"-38.6\" font-family=\"Times,serif\" font-size=\"8.00\"> 11</text>\n",
       "</g>\n",
       "<!--  0, 9, 12 -->\n",
       "<g id=\"node191\" class=\"node\">\n",
       "<title> 0, 9, 12</title>\n",
       "<polygon fill=\"none\" stroke=\"black\" points=\"109010,-18 108883,-9 109010,0 109137,-9 109010,-18\"/>\n",
       "<text text-anchor=\"middle\" x=\"109010\" y=\"-7.1\" font-family=\"Times,serif\" font-size=\"8.00\">1.1140425027777778, &#45;1.1140425027777778</text>\n",
       "</g>\n",
       "<!--  0, 9&#45;&gt; 0, 9, 12 -->\n",
       "<g id=\"edge157\" class=\"edge\">\n",
       "<title> 0, 9&#45;&gt; 0, 9, 12</title>\n",
       "<path fill=\"none\" stroke=\"red\" d=\"M98672,-64.92C98681,-60.96 98691,-56.99 98701,-55 98766,-41.73 108230,-46.57 108300,-45 108540,-39.28 108830,-22.16 108950,-14.18\"/>\n",
       "<polygon fill=\"red\" stroke=\"red\" points=\"108955.06,-15.77 108960,-13.85 108954.94,-12.27 108955.06,-15.77\"/>\n",
       "<text text-anchor=\"middle\" x=\"108540\" y=\"-38.6\" font-family=\"Times,serif\" font-size=\"8.00\"> 12</text>\n",
       "</g>\n",
       "<!--  0, 9, 13 -->\n",
       "<g id=\"node192\" class=\"node\">\n",
       "<title> 0, 9, 13</title>\n",
       "<polygon fill=\"none\" stroke=\"black\" points=\"109290,-18 109163,-9 109290,0 109417,-9 109290,-18\"/>\n",
       "<text text-anchor=\"middle\" x=\"109290\" y=\"-7.1\" font-family=\"Times,serif\" font-size=\"8.00\">1.4691225027777777, &#45;1.4691225027777777</text>\n",
       "</g>\n",
       "<!--  0, 9&#45;&gt; 0, 9, 13 -->\n",
       "<g id=\"edge158\" class=\"edge\">\n",
       "<title> 0, 9&#45;&gt; 0, 9, 13</title>\n",
       "<path fill=\"none\" stroke=\"red\" d=\"M98672,-64.92C98681,-60.96 98691,-56.99 98701,-55 98768,-41.38 108480,-46.56 108550,-45 108800,-39.29 109090,-22.09 109220,-14.12\"/>\n",
       "<polygon fill=\"red\" stroke=\"red\" points=\"109225.06,-15.71 109230,-13.8 109224.94,-12.21 109225.06,-15.71\"/>\n",
       "<text text-anchor=\"middle\" x=\"108800\" y=\"-38.6\" font-family=\"Times,serif\" font-size=\"8.00\"> 13</text>\n",
       "</g>\n",
       "<!--  0, 9, 14 -->\n",
       "<g id=\"node193\" class=\"node\">\n",
       "<title> 0, 9, 14</title>\n",
       "<polygon fill=\"none\" stroke=\"black\" points=\"109550,-18 109429.3,-9 109550,0 109670.7,-9 109550,-18\"/>\n",
       "<text text-anchor=\"middle\" x=\"109550\" y=\"-7.1\" font-family=\"Times,serif\" font-size=\"8.00\">2.129122502777778, &#45;2.129122502777778</text>\n",
       "</g>\n",
       "<!--  0, 9&#45;&gt; 0, 9, 14 -->\n",
       "<g id=\"edge159\" class=\"edge\">\n",
       "<title> 0, 9&#45;&gt; 0, 9, 14</title>\n",
       "<path fill=\"none\" stroke=\"red\" d=\"M98672,-64.92C98681,-60.96 98691,-56.99 98701,-55 98769,-41.02 108730,-46.57 108800,-45 109080,-38.86 109150,-32.51 109420,-18 109440,-16.85 109470,-15.42 109490,-14.09\"/>\n",
       "<polygon fill=\"red\" stroke=\"red\" points=\"109491.75,-18.77 109490,-13.77 109488.25,-18.77 109491.75,-18.77\"/>\n",
       "<text text-anchor=\"middle\" x=\"109090\" y=\"-38.6\" font-family=\"Times,serif\" font-size=\"8.00\"> 14</text>\n",
       "</g>\n",
       "<!--  0, 9, 15 -->\n",
       "<g id=\"node194\" class=\"node\">\n",
       "<title> 0, 9, 15</title>\n",
       "<polygon fill=\"none\" stroke=\"black\" points=\"109820,-18 109693,-9 109820,0 109947,-9 109820,-18\"/>\n",
       "<text text-anchor=\"middle\" x=\"109820\" y=\"-7.1\" font-family=\"Times,serif\" font-size=\"8.00\">3.0940425027777785, &#45;3.0940425027777785</text>\n",
       "</g>\n",
       "<!--  0, 9&#45;&gt; 0, 9, 15 -->\n",
       "<g id=\"edge160\" class=\"edge\">\n",
       "<title> 0, 9&#45;&gt; 0, 9, 15</title>\n",
       "<path fill=\"none\" stroke=\"red\" d=\"M98672,-64.92C98681,-60.96 98691,-56.99 98701,-55 98771,-40.62 109020,-46.7 109100,-45 109340,-39.29 109630,-22.16 109750,-14.18\"/>\n",
       "<polygon fill=\"red\" stroke=\"red\" points=\"109755.06,-15.77 109760,-13.86 109754.94,-12.27 109755.06,-15.77\"/>\n",
       "<text text-anchor=\"middle\" x=\"109340\" y=\"-38.6\" font-family=\"Times,serif\" font-size=\"8.00\"> 15</text>\n",
       "</g>\n",
       "<!--  0, 10 -->\n",
       "<g id=\"node11\" class=\"node\">\n",
       "<title> 0, 10</title>\n",
       "<ellipse fill=\"none\" stroke=\"red\" cx=\"98751\" cy=\"-77.14\" rx=\"41.02\" ry=\"14.29\"/>\n",
       "<text text-anchor=\"middle\" x=\"98751\" y=\"-79.74\" font-family=\"Times,serif\" font-size=\"8.00\">Current player: 1</text>\n",
       "<text text-anchor=\"middle\" x=\"98751\" y=\"-70.74\" font-family=\"Times,serif\" font-size=\"8.00\">us: op:</text>\n",
       "</g>\n",
       "<!--  0, 10, 0 -->\n",
       "<g id=\"node195\" class=\"node\">\n",
       "<title> 0, 10, 0</title>\n",
       "<polygon fill=\"none\" stroke=\"black\" points=\"110080,-18 109959.3,-9 110080,0 110200.7,-9 110080,-18\"/>\n",
       "<text text-anchor=\"middle\" x=\"110080\" y=\"-7.1\" font-family=\"Times,serif\" font-size=\"8.00\">&#45;2.507290830555556, 2.507290830555556</text>\n",
       "</g>\n",
       "<!--  0, 10&#45;&gt; 0, 10, 0 -->\n",
       "<g id=\"edge161\" class=\"edge\">\n",
       "<title> 0, 10&#45;&gt; 0, 10, 0</title>\n",
       "<path fill=\"none\" stroke=\"red\" d=\"M98772,-64.92C98781,-60.96 98791,-56.99 98801,-55 98872,-40.41 109270,-46.67 109350,-45 109600,-39.33 109890,-21.98 110020,-14.04\"/>\n",
       "<polygon fill=\"red\" stroke=\"red\" points=\"110021.75,-18.72 110020,-13.72 110018.25,-18.72 110021.75,-18.72\"/>\n",
       "<text text-anchor=\"middle\" x=\"109590\" y=\"-38.6\" font-family=\"Times,serif\" font-size=\"8.00\"> 0</text>\n",
       "</g>\n",
       "<!--  0, 10, 1 -->\n",
       "<g id=\"node196\" class=\"node\">\n",
       "<title> 0, 10, 1</title>\n",
       "<polygon fill=\"none\" stroke=\"black\" points=\"110340,-18 110219.3,-9 110340,0 110460.7,-9 110340,-18\"/>\n",
       "<text text-anchor=\"middle\" x=\"110340\" y=\"-7.1\" font-family=\"Times,serif\" font-size=\"8.00\">&#45;2.152210830555556, 2.152210830555556</text>\n",
       "</g>\n",
       "<!--  0, 10&#45;&gt; 0, 10, 1 -->\n",
       "<g id=\"edge162\" class=\"edge\">\n",
       "<title> 0, 10&#45;&gt; 0, 10, 1</title>\n",
       "<path fill=\"none\" stroke=\"red\" d=\"M98772,-64.92C98781,-60.96 98791,-56.99 98801,-55 98837,-47.53 109560,-45.84 109600,-45 109850,-39.34 110150,-21.99 110280,-14.05\"/>\n",
       "<polygon fill=\"red\" stroke=\"red\" points=\"110281.75,-18.72 110280,-13.72 110278.25,-18.72 110281.75,-18.72\"/>\n",
       "<text text-anchor=\"middle\" x=\"109850\" y=\"-38.6\" font-family=\"Times,serif\" font-size=\"8.00\"> 1</text>\n",
       "</g>\n",
       "<!--  0, 10, 2 -->\n",
       "<g id=\"node197\" class=\"node\">\n",
       "<title> 0, 10, 2</title>\n",
       "<polygon fill=\"none\" stroke=\"black\" points=\"110610,-18 110483,-9 110610,0 110737,-9 110610,-18\"/>\n",
       "<text text-anchor=\"middle\" x=\"110610\" y=\"-7.1\" font-family=\"Times,serif\" font-size=\"8.00\">&#45;1.4922108305555564, 1.4922108305555564</text>\n",
       "</g>\n",
       "<!--  0, 10&#45;&gt; 0, 10, 2 -->\n",
       "<g id=\"edge163\" class=\"edge\">\n",
       "<title> 0, 10&#45;&gt; 0, 10, 2</title>\n",
       "<path fill=\"none\" stroke=\"red\" d=\"M98772,-64.92C98781,-60.96 98791,-56.99 98801,-55 98838,-47.36 109820,-45.86 109860,-45 110110,-39.32 110410,-22.06 110540,-14.1\"/>\n",
       "<polygon fill=\"red\" stroke=\"red\" points=\"110545.06,-15.69 110550,-13.77 110544.94,-12.19 110545.06,-15.69\"/>\n",
       "<text text-anchor=\"middle\" x=\"110110\" y=\"-38.6\" font-family=\"Times,serif\" font-size=\"8.00\"> 2</text>\n",
       "</g>\n",
       "<!--  0, 10, 3 -->\n",
       "<g id=\"node198\" class=\"node\">\n",
       "<title> 0, 10, 3</title>\n",
       "<polygon fill=\"none\" stroke=\"black\" points=\"110880,-18 110753,-9 110880,0 111007,-9 110880,-18\"/>\n",
       "<text text-anchor=\"middle\" x=\"110880\" y=\"-7.1\" font-family=\"Times,serif\" font-size=\"8.00\">&#45;0.5272908305555559, 0.5272908305555559</text>\n",
       "</g>\n",
       "<!--  0, 10&#45;&gt; 0, 10, 3 -->\n",
       "<g id=\"edge164\" class=\"edge\">\n",
       "<title> 0, 10&#45;&gt; 0, 10, 3</title>\n",
       "<path fill=\"none\" stroke=\"red\" d=\"M98772,-64.92C98781,-60.96 98791,-56.99 98801,-55 98839,-47.18 110070,-45.86 110110,-45 110370,-39.32 110680,-21.99 110810,-14.05\"/>\n",
       "<polygon fill=\"red\" stroke=\"red\" points=\"110815.05,-15.65 110820,-13.75 110814.95,-12.15 110815.05,-15.65\"/>\n",
       "<text text-anchor=\"middle\" x=\"110370\" y=\"-38.6\" font-family=\"Times,serif\" font-size=\"8.00\"> 3</text>\n",
       "</g>\n",
       "<!--  0, 10, 4 -->\n",
       "<g id=\"node199\" class=\"node\">\n",
       "<title> 0, 10, 4</title>\n",
       "<polygon fill=\"none\" stroke=\"black\" points=\"111150,-18 111023,-9 111150,0 111277,-9 111150,-18\"/>\n",
       "<text text-anchor=\"middle\" x=\"111150\" y=\"-7.1\" font-family=\"Times,serif\" font-size=\"8.00\">&#45;2.4386508305555563, 2.4386508305555563</text>\n",
       "</g>\n",
       "<!--  0, 10&#45;&gt; 0, 10, 4 -->\n",
       "<g id=\"edge165\" class=\"edge\">\n",
       "<title> 0, 10&#45;&gt; 0, 10, 4</title>\n",
       "<path fill=\"none\" stroke=\"red\" d=\"M98772,-64.92C98781,-60.96 98791,-56.99 98801,-55 98840,-47 110340,-45.87 110380,-45 110640,-39.33 110950,-21.95 111080,-14.02\"/>\n",
       "<polygon fill=\"red\" stroke=\"red\" points=\"111085.05,-15.62 111090,-13.72 111084.95,-12.12 111085.05,-15.62\"/>\n",
       "<text text-anchor=\"middle\" x=\"110640\" y=\"-38.6\" font-family=\"Times,serif\" font-size=\"8.00\"> 4</text>\n",
       "</g>\n",
       "<!--  0, 10, 5 -->\n",
       "<g id=\"node200\" class=\"node\">\n",
       "<title> 0, 10, 5</title>\n",
       "<polygon fill=\"none\" stroke=\"black\" points=\"111420,-18 111293,-9 111420,0 111547,-9 111420,-18\"/>\n",
       "<text text-anchor=\"middle\" x=\"111420\" y=\"-7.1\" font-family=\"Times,serif\" font-size=\"8.00\">&#45;2.0835708305555563, 2.0835708305555563</text>\n",
       "</g>\n",
       "<!--  0, 10&#45;&gt; 0, 10, 5 -->\n",
       "<g id=\"edge166\" class=\"edge\">\n",
       "<title> 0, 10&#45;&gt; 0, 10, 5</title>\n",
       "<path fill=\"none\" stroke=\"red\" d=\"M98772,-64.92C98781,-60.96 98791,-56.99 98801,-55 98841,-46.81 110600,-45.88 110640,-45 110910,-39.34 111220,-21.96 111360,-14.02\"/>\n",
       "<polygon fill=\"red\" stroke=\"red\" points=\"111361.75,-18.72 111360,-13.72 111358.25,-18.72 111361.75,-18.72\"/>\n",
       "<text text-anchor=\"middle\" x=\"110900\" y=\"-38.6\" font-family=\"Times,serif\" font-size=\"8.00\"> 5</text>\n",
       "</g>\n",
       "<!--  0, 10, 6 -->\n",
       "<g id=\"node201\" class=\"node\">\n",
       "<title> 0, 10, 6</title>\n",
       "<polygon fill=\"none\" stroke=\"black\" points=\"111690,-18 111569.3,-9 111690,0 111810.7,-9 111690,-18\"/>\n",
       "<text text-anchor=\"middle\" x=\"111690\" y=\"-7.1\" font-family=\"Times,serif\" font-size=\"8.00\">&#45;1.423570830555556, 1.423570830555556</text>\n",
       "</g>\n",
       "<!--  0, 10&#45;&gt; 0, 10, 6 -->\n",
       "<g id=\"edge167\" class=\"edge\">\n",
       "<title> 0, 10&#45;&gt; 0, 10, 6</title>\n",
       "<path fill=\"none\" stroke=\"red\" d=\"M98772,-64.92C98781,-60.96 98791,-56.99 98801,-55 98842,-46.63 110870,-45.89 110910,-45 111200,-38.88 111270,-32.91 111560,-18 111580,-16.86 111600,-15.43 111620,-14.09\"/>\n",
       "<polygon fill=\"red\" stroke=\"red\" points=\"111625.06,-15.68 111630,-13.77 111624.95,-12.18 111625.06,-15.68\"/>\n",
       "<text text-anchor=\"middle\" x=\"111210\" y=\"-38.6\" font-family=\"Times,serif\" font-size=\"8.00\"> 6</text>\n",
       "</g>\n",
       "<!--  0, 10, 7 -->\n",
       "<g id=\"node202\" class=\"node\">\n",
       "<title> 0, 10, 7</title>\n",
       "<polygon fill=\"none\" stroke=\"black\" points=\"111950,-18 111823,-9 111950,0 112077,-9 111950,-18\"/>\n",
       "<text text-anchor=\"middle\" x=\"111950\" y=\"-7.1\" font-family=\"Times,serif\" font-size=\"8.00\">&#45;0.4586508305555563, 0.4586508305555563</text>\n",
       "</g>\n",
       "<!--  0, 10&#45;&gt; 0, 10, 7 -->\n",
       "<g id=\"edge168\" class=\"edge\">\n",
       "<title> 0, 10&#45;&gt; 0, 10, 7</title>\n",
       "<path fill=\"none\" stroke=\"red\" d=\"M98772,-64.92C98781,-60.96 98791,-56.99 98801,-55 98843,-46.42 111170,-45.98 111210,-45 111460,-39.33 111760,-22.1 111890,-14.13\"/>\n",
       "<polygon fill=\"red\" stroke=\"red\" points=\"111891.75,-18.8 111890,-13.8 111888.25,-18.8 111891.75,-18.8\"/>\n",
       "<text text-anchor=\"middle\" x=\"111460\" y=\"-38.6\" font-family=\"Times,serif\" font-size=\"8.00\"> 7</text>\n",
       "</g>\n",
       "<!--  0, 10, 8 -->\n",
       "<g id=\"node203\" class=\"node\">\n",
       "<title> 0, 10, 8</title>\n",
       "<polygon fill=\"none\" stroke=\"black\" points=\"112220,-18 112093,-9 112220,0 112347,-9 112220,-18\"/>\n",
       "<text text-anchor=\"middle\" x=\"112220\" y=\"-7.1\" font-family=\"Times,serif\" font-size=\"8.00\">&#45;2.1086508305555562, 2.1086508305555562</text>\n",
       "</g>\n",
       "<!--  0, 10&#45;&gt; 0, 10, 8 -->\n",
       "<g id=\"edge169\" class=\"edge\">\n",
       "<title> 0, 10&#45;&gt; 0, 10, 8</title>\n",
       "<path fill=\"none\" stroke=\"red\" d=\"M98772,-64.92C98781,-60.95 98791,-56.99 98801,-55 98844,-46.24 111420,-45.97 111470,-45 111720,-39.34 112030,-22.07 112160,-14.1\"/>\n",
       "<polygon fill=\"red\" stroke=\"red\" points=\"112161.75,-18.78 112160,-13.78 112158.25,-18.78 112161.75,-18.78\"/>\n",
       "<text text-anchor=\"middle\" x=\"111720\" y=\"-38.6\" font-family=\"Times,serif\" font-size=\"8.00\"> 8</text>\n",
       "</g>\n",
       "<!--  0, 10, 9 -->\n",
       "<g id=\"node204\" class=\"node\">\n",
       "<title> 0, 10, 9</title>\n",
       "<polygon fill=\"none\" stroke=\"black\" points=\"112500,-18 112373,-9 112500,0 112627,-9 112500,-18\"/>\n",
       "<text text-anchor=\"middle\" x=\"112500\" y=\"-7.1\" font-family=\"Times,serif\" font-size=\"8.00\">&#45;1.7535708305555562, 1.7535708305555562</text>\n",
       "</g>\n",
       "<!--  0, 10&#45;&gt; 0, 10, 9 -->\n",
       "<g id=\"edge170\" class=\"edge\">\n",
       "<title> 0, 10&#45;&gt; 0, 10, 9</title>\n",
       "<path fill=\"none\" stroke=\"red\" d=\"M98772,-64.92C98781,-60.95 98791,-56.99 98801,-55 98845,-46.06 111680,-45.97 111730,-45 111990,-39.34 112300,-21.95 112430,-14.02\"/>\n",
       "<polygon fill=\"red\" stroke=\"red\" points=\"112435.05,-15.62 112440,-13.72 112434.95,-12.12 112435.05,-15.62\"/>\n",
       "<text text-anchor=\"middle\" x=\"111980\" y=\"-38.6\" font-family=\"Times,serif\" font-size=\"8.00\"> 9</text>\n",
       "</g>\n",
       "<!--  0, 10, 10 -->\n",
       "<g id=\"node205\" class=\"node\">\n",
       "<title> 0, 10, 10</title>\n",
       "<polygon fill=\"none\" stroke=\"black\" points=\"112760,-18 112639.3,-9 112760,0 112880.7,-9 112760,-18\"/>\n",
       "<text text-anchor=\"middle\" x=\"112760\" y=\"-7.1\" font-family=\"Times,serif\" font-size=\"8.00\">&#45;1.093570830555556, 1.093570830555556</text>\n",
       "</g>\n",
       "<!--  0, 10&#45;&gt; 0, 10, 10 -->\n",
       "<g id=\"edge171\" class=\"edge\">\n",
       "<title> 0, 10&#45;&gt; 0, 10, 10</title>\n",
       "<path fill=\"none\" stroke=\"red\" d=\"M98772,-64.92C98781,-60.95 98791,-56.99 98801,-55 98845,-45.88 111940,-45.98 111990,-45 112280,-38.89 112350,-32.83 112630,-18 112650,-16.86 112680,-15.43 112700,-14.09\"/>\n",
       "<polygon fill=\"red\" stroke=\"red\" points=\"112701.75,-18.77 112700,-13.77 112698.25,-18.77 112701.75,-18.77\"/>\n",
       "<text text-anchor=\"middle\" x=\"112280\" y=\"-38.6\" font-family=\"Times,serif\" font-size=\"8.00\"> 10</text>\n",
       "</g>\n",
       "<!--  0, 10, 11 -->\n",
       "<g id=\"node206\" class=\"node\">\n",
       "<title> 0, 10, 11</title>\n",
       "<polygon fill=\"none\" stroke=\"black\" points=\"113030,-18 112896,-9 113030,0 113164,-9 113030,-18\"/>\n",
       "<text text-anchor=\"middle\" x=\"113030\" y=\"-7.1\" font-family=\"Times,serif\" font-size=\"8.00\">&#45;0.12865083055555576, 0.12865083055555576</text>\n",
       "</g>\n",
       "<!--  0, 10&#45;&gt; 0, 10, 11 -->\n",
       "<g id=\"edge172\" class=\"edge\">\n",
       "<title> 0, 10&#45;&gt; 0, 10, 11</title>\n",
       "<path fill=\"none\" stroke=\"red\" d=\"M98772,-64.92C98781,-60.95 98791,-56.99 98801,-55 98847,-45.67 112250,-46.07 112290,-45 112540,-39.29 112840,-22.25 112970,-14.24\"/>\n",
       "<polygon fill=\"red\" stroke=\"red\" points=\"112971.75,-18.91 112970,-13.91 112968.25,-18.91 112971.75,-18.91\"/>\n",
       "<text text-anchor=\"middle\" x=\"112540\" y=\"-38.6\" font-family=\"Times,serif\" font-size=\"8.00\"> 11</text>\n",
       "</g>\n",
       "<!--  0, 10, 12 -->\n",
       "<g id=\"node207\" class=\"node\">\n",
       "<title> 0, 10, 12</title>\n",
       "<polygon fill=\"none\" stroke=\"black\" points=\"113310,-18 113189.3,-9 113310,0 113430.7,-9 113310,-18\"/>\n",
       "<text text-anchor=\"middle\" x=\"113310\" y=\"-7.1\" font-family=\"Times,serif\" font-size=\"8.00\">&#45;1.517290830555556, 1.517290830555556</text>\n",
       "</g>\n",
       "<!--  0, 10&#45;&gt; 0, 10, 12 -->\n",
       "<g id=\"edge173\" class=\"edge\">\n",
       "<title> 0, 10&#45;&gt; 0, 10, 12</title>\n",
       "<path fill=\"none\" stroke=\"red\" d=\"M98772,-64.92C98781,-60.95 98791,-56.99 98801,-55 98847,-45.5 112500,-46.05 112550,-45 112830,-38.9 112900,-32.55 113180,-18 113200,-16.85 113220,-15.41 113240,-14.07\"/>\n",
       "<polygon fill=\"red\" stroke=\"red\" points=\"113245.06,-15.66 113250,-13.75 113244.95,-12.16 113245.06,-15.66\"/>\n",
       "<text text-anchor=\"middle\" x=\"112840\" y=\"-38.6\" font-family=\"Times,serif\" font-size=\"8.00\"> 12</text>\n",
       "</g>\n",
       "<!--  0, 10, 13 -->\n",
       "<g id=\"node208\" class=\"node\">\n",
       "<title> 0, 10, 13</title>\n",
       "<polygon fill=\"none\" stroke=\"black\" points=\"113570,-18 113443,-9 113570,0 113697,-9 113570,-18\"/>\n",
       "<text text-anchor=\"middle\" x=\"113570\" y=\"-7.1\" font-family=\"Times,serif\" font-size=\"8.00\">&#45;1.1622108305555563, 1.1622108305555563</text>\n",
       "</g>\n",
       "<!--  0, 10&#45;&gt; 0, 10, 13 -->\n",
       "<g id=\"edge174\" class=\"edge\">\n",
       "<title> 0, 10&#45;&gt; 0, 10, 13</title>\n",
       "<path fill=\"none\" stroke=\"red\" d=\"M98772,-64.92C98781,-60.95 98791,-56.99 98801,-55 98848,-45.29 112800,-46.13 112850,-45 113090,-39.32 113380,-22.14 113510,-14.16\"/>\n",
       "<polygon fill=\"red\" stroke=\"red\" points=\"113511.75,-18.83 113510,-13.83 113508.25,-18.83 113511.75,-18.83\"/>\n",
       "<text text-anchor=\"middle\" x=\"113090\" y=\"-38.6\" font-family=\"Times,serif\" font-size=\"8.00\"> 13</text>\n",
       "</g>\n",
       "<!--  0, 10, 14 -->\n",
       "<g id=\"node209\" class=\"node\">\n",
       "<title> 0, 10, 14</title>\n",
       "<polygon fill=\"none\" stroke=\"black\" points=\"113840,-18 113713,-9 113840,0 113967,-9 113840,-18\"/>\n",
       "<text text-anchor=\"middle\" x=\"113840\" y=\"-7.1\" font-family=\"Times,serif\" font-size=\"8.00\">&#45;0.5022108305555563, 0.5022108305555563</text>\n",
       "</g>\n",
       "<!--  0, 10&#45;&gt; 0, 10, 14 -->\n",
       "<g id=\"edge175\" class=\"edge\">\n",
       "<title> 0, 10&#45;&gt; 0, 10, 14</title>\n",
       "<path fill=\"none\" stroke=\"red\" d=\"M98772,-64.92C98781,-60.95 98791,-56.99 98801,-55 98849,-45.12 113050,-46.12 113100,-45 113350,-39.34 113650,-22.11 113780,-14.13\"/>\n",
       "<polygon fill=\"red\" stroke=\"red\" points=\"113781.75,-18.81 113780,-13.81 113778.25,-18.81 113781.75,-18.81\"/>\n",
       "<text text-anchor=\"middle\" x=\"113350\" y=\"-38.6\" font-family=\"Times,serif\" font-size=\"8.00\"> 14</text>\n",
       "</g>\n",
       "<!--  0, 10, 15 -->\n",
       "<g id=\"node210\" class=\"node\">\n",
       "<title> 0, 10, 15</title>\n",
       "<polygon fill=\"none\" stroke=\"black\" points=\"114120,-18 113993,-9 114120,0 114247,-9 114120,-18\"/>\n",
       "<text text-anchor=\"middle\" x=\"114120\" y=\"-7.1\" font-family=\"Times,serif\" font-size=\"8.00\">0.4627091694444443, &#45;0.4627091694444443</text>\n",
       "</g>\n",
       "<!--  0, 10&#45;&gt; 0, 10, 15 -->\n",
       "<g id=\"edge176\" class=\"edge\">\n",
       "<title> 0, 10&#45;&gt; 0, 10, 15</title>\n",
       "<path fill=\"none\" stroke=\"red\" d=\"M98772,-64.92C98781,-60.95 98791,-56.99 98801,-55 98850,-44.94 113310,-46.11 113360,-45 113610,-39.35 113920,-22.03 114050,-14.07\"/>\n",
       "<polygon fill=\"red\" stroke=\"red\" points=\"114055.06,-15.66 114060,-13.75 114054.94,-12.16 114055.06,-15.66\"/>\n",
       "<text text-anchor=\"middle\" x=\"113610\" y=\"-38.6\" font-family=\"Times,serif\" font-size=\"8.00\"> 15</text>\n",
       "</g>\n",
       "<!--  0, 11 -->\n",
       "<g id=\"node12\" class=\"node\">\n",
       "<title> 0, 11</title>\n",
       "<ellipse fill=\"none\" stroke=\"red\" cx=\"98851\" cy=\"-77.14\" rx=\"41.02\" ry=\"14.29\"/>\n",
       "<text text-anchor=\"middle\" x=\"98851\" y=\"-79.74\" font-family=\"Times,serif\" font-size=\"8.00\">Current player: 1</text>\n",
       "<text text-anchor=\"middle\" x=\"98851\" y=\"-70.74\" font-family=\"Times,serif\" font-size=\"8.00\">us: op:</text>\n",
       "</g>\n",
       "<!--  0, 11, 0 -->\n",
       "<g id=\"node211\" class=\"node\">\n",
       "<title> 0, 11, 0</title>\n",
       "<polygon fill=\"none\" stroke=\"black\" points=\"114340,-18 114259.5,-9 114340,0 114420.5,-9 114340,-18\"/>\n",
       "<text text-anchor=\"middle\" x=\"114340\" y=\"-7.1\" font-family=\"Times,serif\" font-size=\"8.00\">&#45;4.105075225, 4.105075225</text>\n",
       "</g>\n",
       "<!--  0, 11&#45;&gt; 0, 11, 0 -->\n",
       "<g id=\"edge177\" class=\"edge\">\n",
       "<title> 0, 11&#45;&gt; 0, 11, 0</title>\n",
       "<path fill=\"none\" stroke=\"red\" d=\"M98872,-64.92C98881,-60.95 98891,-56.99 98901,-55 98951,-44.83 113570,-46.11 113620,-45 113900,-38.9 113970,-36.55 114250,-18 114270,-17.01 114280,-15.64 114300,-14.31\"/>\n",
       "<polygon fill=\"red\" stroke=\"red\" points=\"114301.75,-18.82 114300,-13.82 114298.25,-18.82 114301.75,-18.82\"/>\n",
       "<text text-anchor=\"middle\" x=\"113940\" y=\"-38.6\" font-family=\"Times,serif\" font-size=\"8.00\"> 0</text>\n",
       "</g>\n",
       "<!--  0, 11, 1 -->\n",
       "<g id=\"node212\" class=\"node\">\n",
       "<title> 0, 11, 1</title>\n",
       "<polygon fill=\"none\" stroke=\"black\" points=\"114570,-18 114443,-9 114570,0 114697,-9 114570,-18\"/>\n",
       "<text text-anchor=\"middle\" x=\"114570\" y=\"-7.1\" font-family=\"Times,serif\" font-size=\"8.00\">&#45;3.7499952249999997, 3.7499952249999997</text>\n",
       "</g>\n",
       "<!--  0, 11&#45;&gt; 0, 11, 1 -->\n",
       "<g id=\"edge178\" class=\"edge\">\n",
       "<title> 0, 11&#45;&gt; 0, 11, 1</title>\n",
       "<path fill=\"none\" stroke=\"red\" d=\"M98872,-64.92C98881,-60.95 98891,-56.99 98901,-55 98952,-44.6 113900,-46.48 113950,-45 114150,-39.2 114400,-22.61 114510,-14.54\"/>\n",
       "<polygon fill=\"red\" stroke=\"red\" points=\"114511.75,-19.16 114510,-14.16 114508.25,-19.16 114511.75,-19.16\"/>\n",
       "<text text-anchor=\"middle\" x=\"114160\" y=\"-38.6\" font-family=\"Times,serif\" font-size=\"8.00\"> 1</text>\n",
       "</g>\n",
       "<!--  0, 11, 2 -->\n",
       "<g id=\"node213\" class=\"node\">\n",
       "<title> 0, 11, 2</title>\n",
       "<polygon fill=\"none\" stroke=\"black\" points=\"114790,-18 114709.5,-9 114790,0 114870.5,-9 114790,-18\"/>\n",
       "<text text-anchor=\"middle\" x=\"114790\" y=\"-7.1\" font-family=\"Times,serif\" font-size=\"8.00\">&#45;3.089995225, 3.089995225</text>\n",
       "</g>\n",
       "<!--  0, 11&#45;&gt; 0, 11, 2 -->\n",
       "<g id=\"edge179\" class=\"edge\">\n",
       "<title> 0, 11&#45;&gt; 0, 11, 2</title>\n",
       "<path fill=\"none\" stroke=\"red\" d=\"M98872,-64.92C98881,-60.95 98891,-56.99 98901,-55 98953,-44.45 114110,-46.34 114160,-45 114400,-38.92 114460,-34.74 114700,-18 114720,-16.96 114730,-15.57 114750,-14.24\"/>\n",
       "<polygon fill=\"red\" stroke=\"red\" points=\"114751.75,-18.76 114750,-13.76 114748.25,-18.76 114751.75,-18.76\"/>\n",
       "<text text-anchor=\"middle\" x=\"114420\" y=\"-38.6\" font-family=\"Times,serif\" font-size=\"8.00\"> 2</text>\n",
       "</g>\n",
       "<!--  0, 11, 3 -->\n",
       "<g id=\"node214\" class=\"node\">\n",
       "<title> 0, 11, 3</title>\n",
       "<polygon fill=\"none\" stroke=\"black\" points=\"115020,-18 114893,-9 115020,0 115147,-9 115020,-18\"/>\n",
       "<text text-anchor=\"middle\" x=\"115020\" y=\"-7.1\" font-family=\"Times,serif\" font-size=\"8.00\">&#45;2.1250752249999993, 2.1250752249999993</text>\n",
       "</g>\n",
       "<!--  0, 11&#45;&gt; 0, 11, 3 -->\n",
       "<g id=\"edge180\" class=\"edge\">\n",
       "<title> 0, 11&#45;&gt; 0, 11, 3</title>\n",
       "<path fill=\"none\" stroke=\"red\" d=\"M98872,-64.92C98881,-60.95 98891,-56.99 98901,-55 98953,-44.27 114370,-46.61 114420,-45 114620,-39.17 114850,-22.75 114960,-14.64\"/>\n",
       "<polygon fill=\"red\" stroke=\"red\" points=\"114961.75,-19.24 114960,-14.24 114958.25,-19.24 114961.75,-19.24\"/>\n",
       "<text text-anchor=\"middle\" x=\"114620\" y=\"-38.6\" font-family=\"Times,serif\" font-size=\"8.00\"> 3</text>\n",
       "</g>\n",
       "<!--  0, 11, 4 -->\n",
       "<g id=\"node215\" class=\"node\">\n",
       "<title> 0, 11, 4</title>\n",
       "<polygon fill=\"none\" stroke=\"black\" points=\"115280,-18 115159.3,-9 115280,0 115400.7,-9 115280,-18\"/>\n",
       "<text text-anchor=\"middle\" x=\"115280\" y=\"-7.1\" font-family=\"Times,serif\" font-size=\"8.00\">&#45;4.036435224999999, 4.036435224999999</text>\n",
       "</g>\n",
       "<!--  0, 11&#45;&gt; 0, 11, 4 -->\n",
       "<g id=\"edge181\" class=\"edge\">\n",
       "<title> 0, 11&#45;&gt; 0, 11, 4</title>\n",
       "<path fill=\"none\" stroke=\"red\" d=\"M98872,-64.92C98881,-60.95 98891,-56.99 98901,-55 98954,-44.13 114580,-46.43 114630,-45 114850,-39.3 115110,-22.36 115220,-14.32\"/>\n",
       "<polygon fill=\"red\" stroke=\"red\" points=\"115225.06,-15.9 115230,-13.97 115224.94,-12.4 115225.06,-15.9\"/>\n",
       "<text text-anchor=\"middle\" x=\"114850\" y=\"-38.6\" font-family=\"Times,serif\" font-size=\"8.00\"> 4</text>\n",
       "</g>\n",
       "<!--  0, 11, 5 -->\n",
       "<g id=\"node216\" class=\"node\">\n",
       "<title> 0, 11, 5</title>\n",
       "<polygon fill=\"none\" stroke=\"black\" points=\"115550,-18 115423,-9 115550,0 115677,-9 115550,-18\"/>\n",
       "<text text-anchor=\"middle\" x=\"115550\" y=\"-7.1\" font-family=\"Times,serif\" font-size=\"8.00\">&#45;3.6813552249999995, 3.6813552249999995</text>\n",
       "</g>\n",
       "<!--  0, 11&#45;&gt; 0, 11, 5 -->\n",
       "<g id=\"edge182\" class=\"edge\">\n",
       "<title> 0, 11&#45;&gt; 0, 11, 5</title>\n",
       "<path fill=\"none\" stroke=\"red\" d=\"M98872,-64.92C98881,-60.95 98891,-56.99 98901,-55 98955,-43.98 114800,-46.36 114860,-45 115090,-39.3 115360,-22.32 115480,-14.29\"/>\n",
       "<polygon fill=\"red\" stroke=\"red\" points=\"115485.06,-15.87 115490,-13.94 115484.94,-12.37 115485.06,-15.87\"/>\n",
       "<text text-anchor=\"middle\" x=\"115090\" y=\"-38.6\" font-family=\"Times,serif\" font-size=\"8.00\"> 5</text>\n",
       "</g>\n",
       "<!--  0, 11, 6 -->\n",
       "<g id=\"node217\" class=\"node\">\n",
       "<title> 0, 11, 6</title>\n",
       "<polygon fill=\"none\" stroke=\"black\" points=\"115820,-18 115693,-9 115820,0 115947,-9 115820,-18\"/>\n",
       "<text text-anchor=\"middle\" x=\"115820\" y=\"-7.1\" font-family=\"Times,serif\" font-size=\"8.00\">&#45;3.0213552249999993, 3.0213552249999993</text>\n",
       "</g>\n",
       "<!--  0, 11&#45;&gt; 0, 11, 6 -->\n",
       "<g id=\"edge183\" class=\"edge\">\n",
       "<title> 0, 11&#45;&gt; 0, 11, 6</title>\n",
       "<path fill=\"none\" stroke=\"red\" d=\"M98872,-64.92C98881,-60.95 98891,-56.99 98901,-55 98956,-43.81 115040,-46.31 115090,-45 115340,-39.33 115630,-22.18 115750,-14.19\"/>\n",
       "<polygon fill=\"red\" stroke=\"red\" points=\"115755.06,-15.77 115760,-13.86 115754.94,-12.28 115755.06,-15.77\"/>\n",
       "<text text-anchor=\"middle\" x=\"115340\" y=\"-38.6\" font-family=\"Times,serif\" font-size=\"8.00\"> 6</text>\n",
       "</g>\n",
       "<!--  0, 11, 7 -->\n",
       "<g id=\"node218\" class=\"node\">\n",
       "<title> 0, 11, 7</title>\n",
       "<polygon fill=\"none\" stroke=\"black\" points=\"116090,-18 115963,-9 116090,0 116217,-9 116090,-18\"/>\n",
       "<text text-anchor=\"middle\" x=\"116090\" y=\"-7.1\" font-family=\"Times,serif\" font-size=\"8.00\">&#45;2.0564352249999995, 2.0564352249999995</text>\n",
       "</g>\n",
       "<!--  0, 11&#45;&gt; 0, 11, 7 -->\n",
       "<g id=\"edge184\" class=\"edge\">\n",
       "<title> 0, 11&#45;&gt; 0, 11, 7</title>\n",
       "<path fill=\"none\" stroke=\"red\" d=\"M98872,-64.92C98881,-60.95 98891,-56.99 98901,-55 98957,-43.64 115290,-46.28 115340,-45 115600,-39.35 115890,-22.11 116020,-14.13\"/>\n",
       "<polygon fill=\"red\" stroke=\"red\" points=\"116025.06,-15.72 116030,-13.81 116024.94,-12.22 116025.06,-15.72\"/>\n",
       "<text text-anchor=\"middle\" x=\"115590\" y=\"-38.6\" font-family=\"Times,serif\" font-size=\"8.00\"> 7</text>\n",
       "</g>\n",
       "<!--  0, 11, 8 -->\n",
       "<g id=\"node219\" class=\"node\">\n",
       "<title> 0, 11, 8</title>\n",
       "<polygon fill=\"none\" stroke=\"black\" points=\"116360,-18 116233,-9 116360,0 116487,-9 116360,-18\"/>\n",
       "<text text-anchor=\"middle\" x=\"116360\" y=\"-7.1\" font-family=\"Times,serif\" font-size=\"8.00\">&#45;3.7064352249999994, 3.7064352249999994</text>\n",
       "</g>\n",
       "<!--  0, 11&#45;&gt; 0, 11, 8 -->\n",
       "<g id=\"edge185\" class=\"edge\">\n",
       "<title> 0, 11&#45;&gt; 0, 11, 8</title>\n",
       "<path fill=\"none\" stroke=\"red\" d=\"M98872,-64.92C98881,-60.95 98891,-56.99 98901,-55 98957,-43.46 115540,-46.27 115600,-45 115860,-39.36 116160,-22.04 116300,-14.08\"/>\n",
       "<polygon fill=\"red\" stroke=\"red\" points=\"116301.75,-18.75 116300,-13.75 116298.25,-18.75 116301.75,-18.75\"/>\n",
       "<text text-anchor=\"middle\" x=\"115860\" y=\"-38.6\" font-family=\"Times,serif\" font-size=\"8.00\"> 8</text>\n",
       "</g>\n",
       "<!--  0, 11, 9 -->\n",
       "<g id=\"node220\" class=\"node\">\n",
       "<title> 0, 11, 9</title>\n",
       "<polygon fill=\"none\" stroke=\"black\" points=\"116630,-18 116503,-9 116630,0 116757,-9 116630,-18\"/>\n",
       "<text text-anchor=\"middle\" x=\"116630\" y=\"-7.1\" font-family=\"Times,serif\" font-size=\"8.00\">&#45;3.3513552249999994, 3.3513552249999994</text>\n",
       "</g>\n",
       "<!--  0, 11&#45;&gt; 0, 11, 9 -->\n",
       "<g id=\"edge186\" class=\"edge\">\n",
       "<title> 0, 11&#45;&gt; 0, 11, 9</title>\n",
       "<path fill=\"none\" stroke=\"red\" d=\"M98872,-64.92C98881,-60.95 98891,-56.99 98901,-55 98958,-43.28 115800,-46.27 115860,-45 116120,-39.37 116440,-21.97 116570,-14.03\"/>\n",
       "<polygon fill=\"red\" stroke=\"red\" points=\"116571.75,-18.72 116570,-13.72 116568.25,-18.73 116571.75,-18.72\"/>\n",
       "<text text-anchor=\"middle\" x=\"116120\" y=\"-38.6\" font-family=\"Times,serif\" font-size=\"8.00\"> 9</text>\n",
       "</g>\n",
       "<!--  0, 11, 10 -->\n",
       "<g id=\"node221\" class=\"node\">\n",
       "<title> 0, 11, 10</title>\n",
       "<polygon fill=\"none\" stroke=\"black\" points=\"116910,-18 116783,-9 116910,0 117037,-9 116910,-18\"/>\n",
       "<text text-anchor=\"middle\" x=\"116910\" y=\"-7.1\" font-family=\"Times,serif\" font-size=\"8.00\">&#45;2.6913552249999992, 2.6913552249999992</text>\n",
       "</g>\n",
       "<!--  0, 11&#45;&gt; 0, 11, 10 -->\n",
       "<g id=\"edge187\" class=\"edge\">\n",
       "<title> 0, 11&#45;&gt; 0, 11, 10</title>\n",
       "<path fill=\"none\" stroke=\"red\" d=\"M98872,-64.92C98881,-60.95 98891,-56.99 98901,-55 98959,-43.1 116070,-46.27 116130,-45 116390,-39.38 116710,-21.97 116840,-14.03\"/>\n",
       "<polygon fill=\"red\" stroke=\"red\" points=\"116841.75,-18.73 116840,-13.73 116838.25,-18.73 116841.75,-18.73\"/>\n",
       "<text text-anchor=\"middle\" x=\"116390\" y=\"-38.6\" font-family=\"Times,serif\" font-size=\"8.00\"> 10</text>\n",
       "</g>\n",
       "<!--  0, 11, 11 -->\n",
       "<g id=\"node222\" class=\"node\">\n",
       "<title> 0, 11, 11</title>\n",
       "<polygon fill=\"none\" stroke=\"black\" points=\"117180,-18 117053,-9 117180,0 117307,-9 117180,-18\"/>\n",
       "<text text-anchor=\"middle\" x=\"117180\" y=\"-7.1\" font-family=\"Times,serif\" font-size=\"8.00\">&#45;1.7264352249999992, 1.7264352249999992</text>\n",
       "</g>\n",
       "<!--  0, 11&#45;&gt; 0, 11, 11 -->\n",
       "<g id=\"edge188\" class=\"edge\">\n",
       "<title> 0, 11&#45;&gt; 0, 11, 11</title>\n",
       "<path fill=\"none\" stroke=\"red\" d=\"M98872,-64.92C98881,-60.95 98891,-56.99 98901,-55 98960,-42.91 116340,-46.29 116400,-45 116660,-39.37 116980,-21.93 117110,-14\"/>\n",
       "<polygon fill=\"red\" stroke=\"red\" points=\"117115.05,-15.6 117120,-13.7 117114.95,-12.1 117115.05,-15.6\"/>\n",
       "<text text-anchor=\"middle\" x=\"116660\" y=\"-38.6\" font-family=\"Times,serif\" font-size=\"8.00\"> 11</text>\n",
       "</g>\n",
       "<!--  0, 11, 12 -->\n",
       "<g id=\"node223\" class=\"node\">\n",
       "<title> 0, 11, 12</title>\n",
       "<polygon fill=\"none\" stroke=\"black\" points=\"117450,-18 117323,-9 117450,0 117577,-9 117450,-18\"/>\n",
       "<text text-anchor=\"middle\" x=\"117450\" y=\"-7.1\" font-family=\"Times,serif\" font-size=\"8.00\">&#45;3.1150752249999996, 3.1150752249999996</text>\n",
       "</g>\n",
       "<!--  0, 11&#45;&gt; 0, 11, 12 -->\n",
       "<g id=\"edge189\" class=\"edge\">\n",
       "<title> 0, 11&#45;&gt; 0, 11, 12</title>\n",
       "<path fill=\"none\" stroke=\"red\" d=\"M98872,-64.92C98881,-60.95 98891,-56.99 98901,-55 98961,-42.73 116610,-46.31 116670,-45 116930,-39.38 117250,-21.93 117380,-14\"/>\n",
       "<polygon fill=\"red\" stroke=\"red\" points=\"117385.05,-15.6 117390,-13.7 117384.95,-12.1 117385.05,-15.6\"/>\n",
       "<text text-anchor=\"middle\" x=\"116930\" y=\"-38.6\" font-family=\"Times,serif\" font-size=\"8.00\"> 12</text>\n",
       "</g>\n",
       "<!--  0, 11, 13 -->\n",
       "<g id=\"node224\" class=\"node\">\n",
       "<title> 0, 11, 13</title>\n",
       "<polygon fill=\"none\" stroke=\"black\" points=\"117670,-18 117589.5,-9 117670,0 117750.5,-9 117670,-18\"/>\n",
       "<text text-anchor=\"middle\" x=\"117670\" y=\"-7.1\" font-family=\"Times,serif\" font-size=\"8.00\">&#45;2.759995225, 2.759995225</text>\n",
       "</g>\n",
       "<!--  0, 11&#45;&gt; 0, 11, 13 -->\n",
       "<g id=\"edge190\" class=\"edge\">\n",
       "<title> 0, 11&#45;&gt; 0, 11, 13</title>\n",
       "<path fill=\"none\" stroke=\"red\" d=\"M98872,-64.92C98881,-60.95 98891,-56.99 98901,-55 98962,-42.54 116880,-46.33 116940,-45 117230,-38.92 117300,-36.87 117590,-18 117600,-17.01 117620,-15.62 117630,-14.28\"/>\n",
       "<polygon fill=\"red\" stroke=\"red\" points=\"117635.09,-15.78 117640,-13.79 117634.92,-12.28 117635.09,-15.78\"/>\n",
       "<text text-anchor=\"middle\" x=\"117270\" y=\"-38.6\" font-family=\"Times,serif\" font-size=\"8.00\"> 13</text>\n",
       "</g>\n",
       "<!--  0, 11, 14 -->\n",
       "<g id=\"node225\" class=\"node\">\n",
       "<title> 0, 11, 14</title>\n",
       "<polygon fill=\"none\" stroke=\"black\" points=\"117850,-18 117769.5,-9 117850,0 117930.5,-9 117850,-18\"/>\n",
       "<text text-anchor=\"middle\" x=\"117850\" y=\"-7.1\" font-family=\"Times,serif\" font-size=\"8.00\">&#45;2.099995225, 2.099995225</text>\n",
       "</g>\n",
       "<!--  0, 11&#45;&gt; 0, 11, 14 -->\n",
       "<g id=\"edge191\" class=\"edge\">\n",
       "<title> 0, 11&#45;&gt; 0, 11, 14</title>\n",
       "<path fill=\"none\" stroke=\"red\" d=\"M98872,-64.92C98881,-60.95 98891,-56.99 98901,-55 98963,-42.3 117210,-46.78 117280,-45 117490,-38.94 117550,-33.6 117760,-18 117780,-16.91 117800,-15.52 117810,-14.19\"/>\n",
       "<polygon fill=\"red\" stroke=\"red\" points=\"117815.09,-15.7 117820,-13.71 117814.92,-12.2 117815.09,-15.7\"/>\n",
       "<text text-anchor=\"middle\" x=\"117510\" y=\"-38.6\" font-family=\"Times,serif\" font-size=\"8.00\"> 14</text>\n",
       "</g>\n",
       "<!--  0, 11, 15 -->\n",
       "<g id=\"node226\" class=\"node\">\n",
       "<title> 0, 11, 15</title>\n",
       "<polygon fill=\"none\" stroke=\"black\" points=\"118080,-18 117953,-9 118080,0 118207,-9 118080,-18\"/>\n",
       "<text text-anchor=\"middle\" x=\"118080\" y=\"-7.1\" font-family=\"Times,serif\" font-size=\"8.00\">&#45;1.1350752249999991, 1.1350752249999991</text>\n",
       "</g>\n",
       "<!--  0, 11&#45;&gt; 0, 11, 15 -->\n",
       "<g id=\"edge192\" class=\"edge\">\n",
       "<title> 0, 11&#45;&gt; 0, 11, 15</title>\n",
       "<path fill=\"none\" stroke=\"red\" d=\"M98872,-64.92C98881,-60.95 98891,-56.99 98901,-55 98964,-42.14 117450,-47.03 117520,-45 117700,-39.2 117920,-22.88 118020,-14.74\"/>\n",
       "<polygon fill=\"red\" stroke=\"red\" points=\"118025.07,-16.28 118030,-14.33 118024.93,-12.79 118025.07,-16.28\"/>\n",
       "<text text-anchor=\"middle\" x=\"117710\" y=\"-38.6\" font-family=\"Times,serif\" font-size=\"8.00\"> 15</text>\n",
       "</g>\n",
       "<!--  0, 12 -->\n",
       "<g id=\"node13\" class=\"node\">\n",
       "<title> 0, 12</title>\n",
       "<ellipse fill=\"none\" stroke=\"red\" cx=\"98951\" cy=\"-77.14\" rx=\"41.02\" ry=\"14.29\"/>\n",
       "<text text-anchor=\"middle\" x=\"98951\" y=\"-79.74\" font-family=\"Times,serif\" font-size=\"8.00\">Current player: 1</text>\n",
       "<text text-anchor=\"middle\" x=\"98951\" y=\"-70.74\" font-family=\"Times,serif\" font-size=\"8.00\">us: op:</text>\n",
       "</g>\n",
       "<!--  0, 12, 0 -->\n",
       "<g id=\"node227\" class=\"node\">\n",
       "<title> 0, 12, 0</title>\n",
       "<polygon fill=\"none\" stroke=\"black\" points=\"118360,-18 118226,-9 118360,0 118494,-9 118360,-18\"/>\n",
       "<text text-anchor=\"middle\" x=\"118360\" y=\"-7.1\" font-family=\"Times,serif\" font-size=\"8.00\">&#45;0.03643522500000007, 0.03643522500000007</text>\n",
       "</g>\n",
       "<!--  0, 12&#45;&gt; 0, 12, 0 -->\n",
       "<g id=\"edge193\" class=\"edge\">\n",
       "<title> 0, 12&#45;&gt; 0, 12, 0</title>\n",
       "<path fill=\"none\" stroke=\"red\" d=\"M98972,-64.92C98981,-60.95 98991,-56.99 99001,-55 99064,-42.07 117650,-46.78 117720,-45 117930,-39.19 118180,-22.62 118300,-14.54\"/>\n",
       "<polygon fill=\"red\" stroke=\"red\" points=\"118301.75,-19.18 118300,-14.19 118298.25,-19.19 118301.75,-19.18\"/>\n",
       "<text text-anchor=\"middle\" x=\"117930\" y=\"-38.6\" font-family=\"Times,serif\" font-size=\"8.00\"> 0</text>\n",
       "</g>\n",
       "<!--  0, 12, 1 -->\n",
       "<g id=\"node228\" class=\"node\">\n",
       "<title> 0, 12, 1</title>\n",
       "<polygon fill=\"none\" stroke=\"black\" points=\"118640,-18 118513,-9 118640,0 118767,-9 118640,-18\"/>\n",
       "<text text-anchor=\"middle\" x=\"118640\" y=\"-7.1\" font-family=\"Times,serif\" font-size=\"8.00\">0.3186447749999998, &#45;0.3186447749999998</text>\n",
       "</g>\n",
       "<!--  0, 12&#45;&gt; 0, 12, 1 -->\n",
       "<g id=\"edge194\" class=\"edge\">\n",
       "<title> 0, 12&#45;&gt; 0, 12, 1</title>\n",
       "<path fill=\"none\" stroke=\"red\" d=\"M98972,-64.92C98981,-60.95 98991,-56.99 99001,-55 99065,-41.92 117870,-46.6 117940,-45 118170,-39.31 118450,-22.25 118570,-14.24\"/>\n",
       "<polygon fill=\"red\" stroke=\"red\" points=\"118575.06,-15.83 118580,-13.92 118574.94,-12.33 118575.06,-15.83\"/>\n",
       "<text text-anchor=\"middle\" x=\"118170\" y=\"-38.6\" font-family=\"Times,serif\" font-size=\"8.00\"> 1</text>\n",
       "</g>\n",
       "<!--  0, 12, 2 -->\n",
       "<g id=\"node229\" class=\"node\">\n",
       "<title> 0, 12, 2</title>\n",
       "<polygon fill=\"none\" stroke=\"black\" points=\"118910,-18 118783,-9 118910,0 119037,-9 118910,-18\"/>\n",
       "<text text-anchor=\"middle\" x=\"118910\" y=\"-7.1\" font-family=\"Times,serif\" font-size=\"8.00\">0.9786447749999999, &#45;0.9786447749999999</text>\n",
       "</g>\n",
       "<!--  0, 12&#45;&gt; 0, 12, 2 -->\n",
       "<g id=\"edge195\" class=\"edge\">\n",
       "<title> 0, 12&#45;&gt; 0, 12, 2</title>\n",
       "<path fill=\"none\" stroke=\"red\" d=\"M98972,-64.92C98981,-60.95 98991,-56.99 99001,-55 99066,-41.75 118110,-46.53 118180,-45 118430,-39.34 118720,-22.15 118840,-14.16\"/>\n",
       "<polygon fill=\"red\" stroke=\"red\" points=\"118845.06,-15.75 118850,-13.84 118844.94,-12.25 118845.06,-15.75\"/>\n",
       "<text text-anchor=\"middle\" x=\"118420\" y=\"-38.6\" font-family=\"Times,serif\" font-size=\"8.00\"> 2</text>\n",
       "</g>\n",
       "<!--  0, 12, 3 -->\n",
       "<g id=\"node230\" class=\"node\">\n",
       "<title> 0, 12, 3</title>\n",
       "<polygon fill=\"none\" stroke=\"black\" points=\"119180,-18 119053,-9 119180,0 119307,-9 119180,-18\"/>\n",
       "<text text-anchor=\"middle\" x=\"119180\" y=\"-7.1\" font-family=\"Times,serif\" font-size=\"8.00\">1.9435647750000002, &#45;1.9435647750000002</text>\n",
       "</g>\n",
       "<!--  0, 12&#45;&gt; 0, 12, 3 -->\n",
       "<g id=\"edge196\" class=\"edge\">\n",
       "<title> 0, 12&#45;&gt; 0, 12, 3</title>\n",
       "<path fill=\"none\" stroke=\"red\" d=\"M98972,-64.92C98981,-60.95 98991,-56.99 99001,-55 99067,-41.58 118360,-46.5 118430,-45 118680,-39.36 118990,-22.08 119120,-14.11\"/>\n",
       "<polygon fill=\"red\" stroke=\"red\" points=\"119121.75,-18.78 119120,-13.78 119118.25,-18.78 119121.75,-18.78\"/>\n",
       "<text text-anchor=\"middle\" x=\"118680\" y=\"-38.6\" font-family=\"Times,serif\" font-size=\"8.00\"> 3</text>\n",
       "</g>\n",
       "<!--  0, 12, 4 -->\n",
       "<g id=\"node231\" class=\"node\">\n",
       "<title> 0, 12, 4</title>\n",
       "<polygon fill=\"none\" stroke=\"black\" points=\"119460,-18 119326,-9 119460,0 119594,-9 119460,-18\"/>\n",
       "<text text-anchor=\"middle\" x=\"119460\" y=\"-7.1\" font-family=\"Times,serif\" font-size=\"8.00\">0.03220477500000002, &#45;0.03220477500000002</text>\n",
       "</g>\n",
       "<!--  0, 12&#45;&gt; 0, 12, 4 -->\n",
       "<g id=\"edge197\" class=\"edge\">\n",
       "<title> 0, 12&#45;&gt; 0, 12, 4</title>\n",
       "<path fill=\"none\" stroke=\"red\" d=\"M98972,-64.92C98981,-60.95 98991,-56.99 99001,-55 99068,-41.4 118620,-46.49 118690,-45 118950,-39.34 119260,-22.12 119390,-14.14\"/>\n",
       "<polygon fill=\"red\" stroke=\"red\" points=\"119395.05,-15.74 119400,-13.84 119394.95,-12.24 119395.05,-15.74\"/>\n",
       "<text text-anchor=\"middle\" x=\"118950\" y=\"-38.6\" font-family=\"Times,serif\" font-size=\"8.00\"> 4</text>\n",
       "</g>\n",
       "<!--  0, 12, 5 -->\n",
       "<g id=\"node232\" class=\"node\">\n",
       "<title> 0, 12, 5</title>\n",
       "<polygon fill=\"none\" stroke=\"black\" points=\"119740,-18 119613,-9 119740,0 119867,-9 119740,-18\"/>\n",
       "<text text-anchor=\"middle\" x=\"119740\" y=\"-7.1\" font-family=\"Times,serif\" font-size=\"8.00\">0.3872847749999998, &#45;0.3872847749999998</text>\n",
       "</g>\n",
       "<!--  0, 12&#45;&gt; 0, 12, 5 -->\n",
       "<g id=\"edge198\" class=\"edge\">\n",
       "<title> 0, 12&#45;&gt; 0, 12, 5</title>\n",
       "<path fill=\"none\" stroke=\"red\" d=\"M98972,-64.92C98981,-60.95 98991,-56.99 99001,-55 99068,-41.22 118880,-46.46 118950,-45 119220,-39.39 119540,-21.94 119670,-14\"/>\n",
       "<polygon fill=\"red\" stroke=\"red\" points=\"119675.05,-15.6 119680,-13.7 119674.95,-12.1 119675.05,-15.6\"/>\n",
       "<text text-anchor=\"middle\" x=\"119220\" y=\"-38.6\" font-family=\"Times,serif\" font-size=\"8.00\"> 5</text>\n",
       "</g>\n",
       "<!--  0, 12, 6 -->\n",
       "<g id=\"node233\" class=\"node\">\n",
       "<title> 0, 12, 6</title>\n",
       "<polygon fill=\"none\" stroke=\"black\" points=\"119960,-18 119879.5,-9 119960,0 120040.5,-9 119960,-18\"/>\n",
       "<text text-anchor=\"middle\" x=\"119960\" y=\"-7.1\" font-family=\"Times,serif\" font-size=\"8.00\">1.047284775, &#45;1.047284775</text>\n",
       "</g>\n",
       "<!--  0, 12&#45;&gt; 0, 12, 6 -->\n",
       "<g id=\"edge199\" class=\"edge\">\n",
       "<title> 0, 12&#45;&gt; 0, 12, 6</title>\n",
       "<path fill=\"none\" stroke=\"red\" d=\"M98972,-64.92C98981,-60.95 98991,-56.99 99001,-55 99069,-41.03 119150,-46.47 119220,-45 119510,-38.93 119590,-36.97 119870,-18 119890,-17.01 119910,-15.62 119920,-14.28\"/>\n",
       "<polygon fill=\"red\" stroke=\"red\" points=\"119925.09,-15.78 119930,-13.79 119924.92,-12.29 119925.09,-15.78\"/>\n",
       "<text text-anchor=\"middle\" x=\"119550\" y=\"-38.6\" font-family=\"Times,serif\" font-size=\"8.00\"> 6</text>\n",
       "</g>\n",
       "<!--  0, 12, 7 -->\n",
       "<g id=\"node234\" class=\"node\">\n",
       "<title> 0, 12, 7</title>\n",
       "<polygon fill=\"none\" stroke=\"black\" points=\"120140,-18 120059.5,-9 120140,0 120220.5,-9 120140,-18\"/>\n",
       "<text text-anchor=\"middle\" x=\"120140\" y=\"-7.1\" font-family=\"Times,serif\" font-size=\"8.00\">2.012204775, &#45;2.012204775</text>\n",
       "</g>\n",
       "<!--  0, 12&#45;&gt; 0, 12, 7 -->\n",
       "<g id=\"edge200\" class=\"edge\">\n",
       "<title> 0, 12&#45;&gt; 0, 12, 7</title>\n",
       "<path fill=\"none\" stroke=\"red\" d=\"M98972,-64.92C98981,-60.95 98991,-56.99 99001,-55 99071,-40.8 119490,-46.97 119560,-45 119780,-38.94 119830,-33.72 120050,-18 120070,-16.92 120080,-15.52 120100,-14.2\"/>\n",
       "<polygon fill=\"red\" stroke=\"red\" points=\"120101.75,-18.71 120100,-13.71 120098.25,-18.71 120101.75,-18.71\"/>\n",
       "<text text-anchor=\"middle\" x=\"119790\" y=\"-38.6\" font-family=\"Times,serif\" font-size=\"8.00\"> 7</text>\n",
       "</g>\n",
       "<!--  0, 12, 8 -->\n",
       "<g id=\"node235\" class=\"node\">\n",
       "<title> 0, 12, 8</title>\n",
       "<polygon fill=\"none\" stroke=\"black\" points=\"120320,-18 120239.5,-9 120320,0 120400.5,-9 120320,-18\"/>\n",
       "<text text-anchor=\"middle\" x=\"120320\" y=\"-7.1\" font-family=\"Times,serif\" font-size=\"8.00\">0.362204775, &#45;0.362204775</text>\n",
       "</g>\n",
       "<!--  0, 12&#45;&gt; 0, 12, 8 -->\n",
       "<g id=\"edge201\" class=\"edge\">\n",
       "<title> 0, 12&#45;&gt; 0, 12, 8</title>\n",
       "<path fill=\"none\" stroke=\"red\" d=\"M98972,-64.92C98981,-60.95 98991,-56.99 99001,-55 99071,-40.63 119730,-47.28 119800,-45 119980,-39.43 120190,-22.06 120280,-14.08\"/>\n",
       "<polygon fill=\"red\" stroke=\"red\" points=\"120281.75,-18.62 120280,-13.62 120278.25,-18.62 120281.75,-18.62\"/>\n",
       "<text text-anchor=\"middle\" x=\"119990\" y=\"-38.6\" font-family=\"Times,serif\" font-size=\"8.00\"> 8</text>\n",
       "</g>\n",
       "<!--  0, 12, 9 -->\n",
       "<g id=\"node236\" class=\"node\">\n",
       "<title> 0, 12, 9</title>\n",
       "<polygon fill=\"none\" stroke=\"black\" points=\"120550,-18 120423,-9 120550,0 120677,-9 120550,-18\"/>\n",
       "<text text-anchor=\"middle\" x=\"120550\" y=\"-7.1\" font-family=\"Times,serif\" font-size=\"8.00\">0.7172847749999999, &#45;0.7172847749999999</text>\n",
       "</g>\n",
       "<!--  0, 12&#45;&gt; 0, 12, 9 -->\n",
       "<g id=\"edge202\" class=\"edge\">\n",
       "<title> 0, 12&#45;&gt; 0, 12, 9</title>\n",
       "<path fill=\"none\" stroke=\"red\" d=\"M98972,-64.92C98981,-60.95 98991,-56.99 99001,-55 99072,-40.5 119920,-47.34 120000,-45 120180,-39.22 120390,-22.96 120490,-14.8\"/>\n",
       "<polygon fill=\"red\" stroke=\"red\" points=\"120495.08,-16.33 120500,-14.37 120494.93,-12.83 120495.08,-16.33\"/>\n",
       "<text text-anchor=\"middle\" x=\"120180\" y=\"-38.6\" font-family=\"Times,serif\" font-size=\"8.00\"> 9</text>\n",
       "</g>\n",
       "<!--  0, 12, 10 -->\n",
       "<g id=\"node237\" class=\"node\">\n",
       "<title> 0, 12, 10</title>\n",
       "<polygon fill=\"none\" stroke=\"black\" points=\"120820,-18 120693,-9 120820,0 120947,-9 120820,-18\"/>\n",
       "<text text-anchor=\"middle\" x=\"120820\" y=\"-7.1\" font-family=\"Times,serif\" font-size=\"8.00\">1.3772847750000001, &#45;1.3772847750000001</text>\n",
       "</g>\n",
       "<!--  0, 12&#45;&gt; 0, 12, 10 -->\n",
       "<g id=\"edge203\" class=\"edge\">\n",
       "<title> 0, 12&#45;&gt; 0, 12, 10</title>\n",
       "<path fill=\"none\" stroke=\"red\" d=\"M98972,-64.92C98981,-60.95 98991,-56.99 99001,-55 99073,-40.37 120120,-47.03 120190,-45 120400,-39.23 120650,-22.55 120760,-14.48\"/>\n",
       "<polygon fill=\"red\" stroke=\"red\" points=\"120761.75,-19.1 120760,-14.1 120758.25,-19.1 120761.75,-19.1\"/>\n",
       "<text text-anchor=\"middle\" x=\"120400\" y=\"-38.6\" font-family=\"Times,serif\" font-size=\"8.00\"> 10</text>\n",
       "</g>\n",
       "<!--  0, 12, 11 -->\n",
       "<g id=\"node238\" class=\"node\">\n",
       "<title> 0, 12, 11</title>\n",
       "<polygon fill=\"none\" stroke=\"black\" points=\"121090,-18 120963,-9 121090,0 121217,-9 121090,-18\"/>\n",
       "<text text-anchor=\"middle\" x=\"121090\" y=\"-7.1\" font-family=\"Times,serif\" font-size=\"8.00\">2.3422047750000003, &#45;2.3422047750000003</text>\n",
       "</g>\n",
       "<!--  0, 12&#45;&gt; 0, 12, 11 -->\n",
       "<g id=\"edge204\" class=\"edge\">\n",
       "<title> 0, 12&#45;&gt; 0, 12, 11</title>\n",
       "<path fill=\"none\" stroke=\"red\" d=\"M98972,-64.92C98981,-60.95 98991,-56.99 99001,-55 99073,-40.21 120340,-46.86 120410,-45 120640,-39.3 120910,-22.36 121030,-14.32\"/>\n",
       "<polygon fill=\"red\" stroke=\"red\" points=\"121031.75,-18.97 121030,-13.97 121028.25,-18.97 121031.75,-18.97\"/>\n",
       "<text text-anchor=\"middle\" x=\"120640\" y=\"-38.6\" font-family=\"Times,serif\" font-size=\"8.00\"> 11</text>\n",
       "</g>\n",
       "<!--  0, 12, 12 -->\n",
       "<g id=\"node239\" class=\"node\">\n",
       "<title> 0, 12, 12</title>\n",
       "<polygon fill=\"none\" stroke=\"black\" points=\"121360,-18 121233,-9 121360,0 121487,-9 121360,-18\"/>\n",
       "<text text-anchor=\"middle\" x=\"121360\" y=\"-7.1\" font-family=\"Times,serif\" font-size=\"8.00\">0.9535647750000003, &#45;0.9535647750000003</text>\n",
       "</g>\n",
       "<!--  0, 12&#45;&gt; 0, 12, 12 -->\n",
       "<g id=\"edge205\" class=\"edge\">\n",
       "<title> 0, 12&#45;&gt; 0, 12, 12</title>\n",
       "<path fill=\"none\" stroke=\"red\" d=\"M98972,-64.92C98981,-60.95 98991,-56.99 99001,-55 99037,-47.52 120610,-45.89 120650,-45 120890,-39.33 121170,-22.18 121300,-14.19\"/>\n",
       "<polygon fill=\"red\" stroke=\"red\" points=\"121301.75,-18.86 121300,-13.86 121298.25,-18.86 121301.75,-18.86\"/>\n",
       "<text text-anchor=\"middle\" x=\"120890\" y=\"-38.6\" font-family=\"Times,serif\" font-size=\"8.00\"> 12</text>\n",
       "</g>\n",
       "<!--  0, 12, 13 -->\n",
       "<g id=\"node240\" class=\"node\">\n",
       "<title> 0, 12, 13</title>\n",
       "<polygon fill=\"none\" stroke=\"black\" points=\"121630,-18 121503,-9 121630,0 121757,-9 121630,-18\"/>\n",
       "<text text-anchor=\"middle\" x=\"121630\" y=\"-7.1\" font-family=\"Times,serif\" font-size=\"8.00\">1.3086447749999999, &#45;1.3086447749999999</text>\n",
       "</g>\n",
       "<!--  0, 12&#45;&gt; 0, 12, 13 -->\n",
       "<g id=\"edge206\" class=\"edge\">\n",
       "<title> 0, 12&#45;&gt; 0, 12, 13</title>\n",
       "<path fill=\"none\" stroke=\"red\" d=\"M98972,-64.92C98981,-60.95 98991,-56.99 99001,-55 99038,-47.44 120860,-45.86 120900,-45 121150,-39.36 121440,-22.12 121570,-14.13\"/>\n",
       "<polygon fill=\"red\" stroke=\"red\" points=\"121575.06,-15.72 121580,-13.81 121574.94,-12.22 121575.06,-15.72\"/>\n",
       "<text text-anchor=\"middle\" x=\"121150\" y=\"-38.6\" font-family=\"Times,serif\" font-size=\"8.00\"> 13</text>\n",
       "</g>\n",
       "<!--  0, 12, 14 -->\n",
       "<g id=\"node241\" class=\"node\">\n",
       "<title> 0, 12, 14</title>\n",
       "<polygon fill=\"none\" stroke=\"black\" points=\"121860,-18 121779.5,-9 121860,0 121940.5,-9 121860,-18\"/>\n",
       "<text text-anchor=\"middle\" x=\"121860\" y=\"-7.1\" font-family=\"Times,serif\" font-size=\"8.00\">1.968644775, &#45;1.968644775</text>\n",
       "</g>\n",
       "<!--  0, 12&#45;&gt; 0, 12, 14 -->\n",
       "<g id=\"edge207\" class=\"edge\">\n",
       "<title> 0, 12&#45;&gt; 0, 12, 14</title>\n",
       "<path fill=\"none\" stroke=\"red\" d=\"M98972,-64.92C98981,-60.95 98991,-56.99 99001,-55 99038,-47.35 121120,-45.85 121150,-45 121430,-38.94 121500,-36.27 121770,-18 121790,-17 121800,-15.63 121820,-14.3\"/>\n",
       "<polygon fill=\"red\" stroke=\"red\" points=\"121821.75,-18.81 121820,-13.81 121818.25,-18.81 121821.75,-18.81\"/>\n",
       "<text text-anchor=\"middle\" x=\"121470\" y=\"-38.6\" font-family=\"Times,serif\" font-size=\"8.00\"> 14</text>\n",
       "</g>\n",
       "<!--  0, 12, 15 -->\n",
       "<g id=\"node242\" class=\"node\">\n",
       "<title> 0, 12, 15</title>\n",
       "<polygon fill=\"none\" stroke=\"black\" points=\"122080,-18 121953,-9 122080,0 122207,-9 122080,-18\"/>\n",
       "<text text-anchor=\"middle\" x=\"122080\" y=\"-7.1\" font-family=\"Times,serif\" font-size=\"8.00\">2.9335647750000007, &#45;2.9335647750000007</text>\n",
       "</g>\n",
       "<!--  0, 12&#45;&gt; 0, 12, 15 -->\n",
       "<g id=\"edge208\" class=\"edge\">\n",
       "<title> 0, 12&#45;&gt; 0, 12, 15</title>\n",
       "<path fill=\"none\" stroke=\"red\" d=\"M98972,-64.92C98981,-60.95 98991,-56.99 99001,-55 99039,-47.24 121440,-46.12 121480,-45 121680,-39.2 121920,-22.66 122030,-14.56\"/>\n",
       "<polygon fill=\"red\" stroke=\"red\" points=\"122031.75,-19.19 122030,-14.19 122028.25,-19.19 122031.75,-19.19\"/>\n",
       "<text text-anchor=\"middle\" x=\"121680\" y=\"-38.6\" font-family=\"Times,serif\" font-size=\"8.00\"> 15</text>\n",
       "</g>\n",
       "<!--  0, 13 -->\n",
       "<g id=\"node14\" class=\"node\">\n",
       "<title> 0, 13</title>\n",
       "<ellipse fill=\"none\" stroke=\"red\" cx=\"99051\" cy=\"-77.14\" rx=\"41.02\" ry=\"14.29\"/>\n",
       "<text text-anchor=\"middle\" x=\"99051\" y=\"-79.74\" font-family=\"Times,serif\" font-size=\"8.00\">Current player: 1</text>\n",
       "<text text-anchor=\"middle\" x=\"99051\" y=\"-70.74\" font-family=\"Times,serif\" font-size=\"8.00\">us: op:</text>\n",
       "</g>\n",
       "<!--  0, 13, 0 -->\n",
       "<g id=\"node243\" class=\"node\">\n",
       "<title> 0, 13, 0</title>\n",
       "<polygon fill=\"none\" stroke=\"black\" points=\"122360,-18 122233,-9 122360,0 122487,-9 122360,-18\"/>\n",
       "<text text-anchor=\"middle\" x=\"122360\" y=\"-7.1\" font-family=\"Times,serif\" font-size=\"8.00\">0.1926825027777777, &#45;0.1926825027777777</text>\n",
       "</g>\n",
       "<!--  0, 13&#45;&gt; 0, 13, 0 -->\n",
       "<g id=\"edge209\" class=\"edge\">\n",
       "<title> 0, 13&#45;&gt; 0, 13, 0</title>\n",
       "<path fill=\"none\" stroke=\"red\" d=\"M99072,-64.92C99081,-60.95 99091,-56.99 99101,-55 99139,-47.2 121650,-46.01 121690,-45 121910,-39.28 122180,-22.39 122290,-14.35\"/>\n",
       "<polygon fill=\"red\" stroke=\"red\" points=\"122295.06,-15.92 122300,-14 122294.94,-12.42 122295.06,-15.92\"/>\n",
       "<text text-anchor=\"middle\" x=\"121910\" y=\"-38.6\" font-family=\"Times,serif\" font-size=\"8.00\"> 0</text>\n",
       "</g>\n",
       "<!--  0, 13, 1 -->\n",
       "<g id=\"node244\" class=\"node\">\n",
       "<title> 0, 13, 1</title>\n",
       "<polygon fill=\"none\" stroke=\"black\" points=\"122630,-18 122503,-9 122630,0 122757,-9 122630,-18\"/>\n",
       "<text text-anchor=\"middle\" x=\"122630\" y=\"-7.1\" font-family=\"Times,serif\" font-size=\"8.00\">0.5477625027777777, &#45;0.5477625027777777</text>\n",
       "</g>\n",
       "<!--  0, 13&#45;&gt; 0, 13, 1 -->\n",
       "<g id=\"edge210\" class=\"edge\">\n",
       "<title> 0, 13&#45;&gt; 0, 13, 1</title>\n",
       "<path fill=\"none\" stroke=\"red\" d=\"M99072,-64.92C99081,-60.95 99091,-56.99 99101,-55 99139,-47.12 121880,-45.94 121920,-45 122160,-39.33 122440,-22.22 122570,-14.22\"/>\n",
       "<polygon fill=\"red\" stroke=\"red\" points=\"122571.75,-18.89 122570,-13.89 122568.25,-18.89 122571.75,-18.89\"/>\n",
       "<text text-anchor=\"middle\" x=\"122160\" y=\"-38.6\" font-family=\"Times,serif\" font-size=\"8.00\"> 1</text>\n",
       "</g>\n",
       "<!--  0, 13, 2 -->\n",
       "<g id=\"node245\" class=\"node\">\n",
       "<title> 0, 13, 2</title>\n",
       "<polygon fill=\"none\" stroke=\"black\" points=\"122900,-18 122773,-9 122900,0 123027,-9 122900,-18\"/>\n",
       "<text text-anchor=\"middle\" x=\"122900\" y=\"-7.1\" font-family=\"Times,serif\" font-size=\"8.00\">1.2077625027777776, &#45;1.2077625027777776</text>\n",
       "</g>\n",
       "<!--  0, 13&#45;&gt; 0, 13, 2 -->\n",
       "<g id=\"edge211\" class=\"edge\">\n",
       "<title> 0, 13&#45;&gt; 0, 13, 2</title>\n",
       "<path fill=\"none\" stroke=\"red\" d=\"M99072,-64.92C99081,-60.95 99091,-56.99 99101,-55 99140,-47.04 122120,-45.91 122160,-45 122410,-39.36 122710,-22.12 122840,-14.13\"/>\n",
       "<polygon fill=\"red\" stroke=\"red\" points=\"122841.75,-18.81 122840,-13.81 122838.25,-18.81 122841.75,-18.81\"/>\n",
       "<text text-anchor=\"middle\" x=\"122410\" y=\"-38.6\" font-family=\"Times,serif\" font-size=\"8.00\"> 2</text>\n",
       "</g>\n",
       "<!--  0, 13, 3 -->\n",
       "<g id=\"node246\" class=\"node\">\n",
       "<title> 0, 13, 3</title>\n",
       "<polygon fill=\"none\" stroke=\"black\" points=\"123170,-18 123043,-9 123170,0 123297,-9 123170,-18\"/>\n",
       "<text text-anchor=\"middle\" x=\"123170\" y=\"-7.1\" font-family=\"Times,serif\" font-size=\"8.00\">2.1726825027777776, &#45;2.1726825027777776</text>\n",
       "</g>\n",
       "<!--  0, 13&#45;&gt; 0, 13, 3 -->\n",
       "<g id=\"edge212\" class=\"edge\">\n",
       "<title> 0, 13&#45;&gt; 0, 13, 3</title>\n",
       "<path fill=\"none\" stroke=\"red\" d=\"M99072,-64.92C99081,-60.95 99091,-56.99 99101,-55 99140,-46.95 122380,-45.89 122420,-45 122670,-39.38 122980,-22.09 123110,-14.11\"/>\n",
       "<polygon fill=\"red\" stroke=\"red\" points=\"123111.75,-18.78 123110,-13.78 123108.25,-18.78 123111.75,-18.78\"/>\n",
       "<text text-anchor=\"middle\" x=\"122670\" y=\"-38.6\" font-family=\"Times,serif\" font-size=\"8.00\"> 3</text>\n",
       "</g>\n",
       "<!--  0, 13, 4 -->\n",
       "<g id=\"node247\" class=\"node\">\n",
       "<title> 0, 13, 4</title>\n",
       "<polygon fill=\"none\" stroke=\"black\" points=\"123440,-18 123313,-9 123440,0 123567,-9 123440,-18\"/>\n",
       "<text text-anchor=\"middle\" x=\"123440\" y=\"-7.1\" font-family=\"Times,serif\" font-size=\"8.00\">0.2613225027777778, &#45;0.2613225027777778</text>\n",
       "</g>\n",
       "<!--  0, 13&#45;&gt; 0, 13, 4 -->\n",
       "<g id=\"edge213\" class=\"edge\">\n",
       "<title> 0, 13&#45;&gt; 0, 13, 4</title>\n",
       "<path fill=\"none\" stroke=\"red\" d=\"M99072,-64.92C99081,-60.95 99091,-56.99 99101,-55 99141,-46.86 122640,-45.88 122680,-45 122940,-39.39 123250,-22.02 123380,-14.06\"/>\n",
       "<polygon fill=\"red\" stroke=\"red\" points=\"123381.75,-18.76 123380,-13.76 123378.25,-18.76 123381.75,-18.76\"/>\n",
       "<text text-anchor=\"middle\" x=\"122930\" y=\"-38.6\" font-family=\"Times,serif\" font-size=\"8.00\"> 4</text>\n",
       "</g>\n",
       "<!--  0, 13, 5 -->\n",
       "<g id=\"node248\" class=\"node\">\n",
       "<title> 0, 13, 5</title>\n",
       "<polygon fill=\"none\" stroke=\"black\" points=\"123720,-18 123593,-9 123720,0 123847,-9 123720,-18\"/>\n",
       "<text text-anchor=\"middle\" x=\"123720\" y=\"-7.1\" font-family=\"Times,serif\" font-size=\"8.00\">0.6164025027777776, &#45;0.6164025027777776</text>\n",
       "</g>\n",
       "<!--  0, 13&#45;&gt; 0, 13, 5 -->\n",
       "<g id=\"edge214\" class=\"edge\">\n",
       "<title> 0, 13&#45;&gt; 0, 13, 5</title>\n",
       "<path fill=\"none\" stroke=\"red\" d=\"M99072,-64.92C99081,-60.95 99091,-56.99 99101,-55 99141,-46.77 122900,-45.88 122940,-45 123200,-39.39 123520,-21.98 123650,-14.03\"/>\n",
       "<polygon fill=\"red\" stroke=\"red\" points=\"123655.05,-15.63 123660,-13.73 123654.95,-12.13 123655.05,-15.63\"/>\n",
       "<text text-anchor=\"middle\" x=\"123200\" y=\"-38.6\" font-family=\"Times,serif\" font-size=\"8.00\"> 5</text>\n",
       "</g>\n",
       "<!--  0, 13, 6 -->\n",
       "<g id=\"node249\" class=\"node\">\n",
       "<title> 0, 13, 6</title>\n",
       "<polygon fill=\"none\" stroke=\"black\" points=\"123990,-18 123863,-9 123990,0 124117,-9 123990,-18\"/>\n",
       "<text text-anchor=\"middle\" x=\"123990\" y=\"-7.1\" font-family=\"Times,serif\" font-size=\"8.00\">1.2764025027777777, &#45;1.2764025027777777</text>\n",
       "</g>\n",
       "<!--  0, 13&#45;&gt; 0, 13, 6 -->\n",
       "<g id=\"edge215\" class=\"edge\">\n",
       "<title> 0, 13&#45;&gt; 0, 13, 6</title>\n",
       "<path fill=\"none\" stroke=\"red\" d=\"M99072,-64.92C99081,-60.95 99091,-56.99 99101,-55 99142,-46.68 123170,-45.88 123210,-45 123470,-39.4 123790,-21.94 123920,-14\"/>\n",
       "<polygon fill=\"red\" stroke=\"red\" points=\"123925.05,-15.6 123930,-13.7 123924.95,-12.1 123925.05,-15.6\"/>\n",
       "<text text-anchor=\"middle\" x=\"123470\" y=\"-38.6\" font-family=\"Times,serif\" font-size=\"8.00\"> 6</text>\n",
       "</g>\n",
       "<!--  0, 13, 7 -->\n",
       "<g id=\"node250\" class=\"node\">\n",
       "<title> 0, 13, 7</title>\n",
       "<polygon fill=\"none\" stroke=\"black\" points=\"124260,-18 124133,-9 124260,0 124387,-9 124260,-18\"/>\n",
       "<text text-anchor=\"middle\" x=\"124260\" y=\"-7.1\" font-family=\"Times,serif\" font-size=\"8.00\">2.2413225027777774, &#45;2.2413225027777774</text>\n",
       "</g>\n",
       "<!--  0, 13&#45;&gt; 0, 13, 7 -->\n",
       "<g id=\"edge216\" class=\"edge\">\n",
       "<title> 0, 13&#45;&gt; 0, 13, 7</title>\n",
       "<path fill=\"none\" stroke=\"red\" d=\"M99072,-64.92C99081,-60.95 99091,-56.99 99101,-55 99142,-46.58 123430,-45.89 123480,-45 123740,-39.4 124060,-21.94 124190,-14\"/>\n",
       "<polygon fill=\"red\" stroke=\"red\" points=\"124195.05,-15.6 124200,-13.7 124194.95,-12.1 124195.05,-15.6\"/>\n",
       "<text text-anchor=\"middle\" x=\"123760\" y=\"-38.6\" font-family=\"Times,serif\" font-size=\"8.00\"> 7</text>\n",
       "</g>\n",
       "<!--  0, 13, 8 -->\n",
       "<g id=\"node251\" class=\"node\">\n",
       "<title> 0, 13, 8</title>\n",
       "<polygon fill=\"none\" stroke=\"black\" points=\"124530,-18 124403,-9 124530,0 124657,-9 124530,-18\"/>\n",
       "<text text-anchor=\"middle\" x=\"124530\" y=\"-7.1\" font-family=\"Times,serif\" font-size=\"8.00\">0.5913225027777778, &#45;0.5913225027777778</text>\n",
       "</g>\n",
       "<!--  0, 13&#45;&gt; 0, 13, 8 -->\n",
       "<g id=\"edge217\" class=\"edge\">\n",
       "<title> 0, 13&#45;&gt; 0, 13, 8</title>\n",
       "<path fill=\"none\" stroke=\"red\" d=\"M99072,-64.92C99081,-60.95 99091,-56.99 99101,-55 99143,-46.48 123720,-45.93 123770,-45 124030,-39.39 124330,-22.02 124470,-14.06\"/>\n",
       "<polygon fill=\"red\" stroke=\"red\" points=\"124471.75,-18.76 124470,-13.76 124468.25,-18.76 124471.75,-18.76\"/>\n",
       "<text text-anchor=\"middle\" x=\"124020\" y=\"-38.6\" font-family=\"Times,serif\" font-size=\"8.00\"> 8</text>\n",
       "</g>\n",
       "<!--  0, 13, 9 -->\n",
       "<g id=\"node252\" class=\"node\">\n",
       "<title> 0, 13, 9</title>\n",
       "<polygon fill=\"none\" stroke=\"black\" points=\"124800,-18 124673,-9 124800,0 124927,-9 124800,-18\"/>\n",
       "<text text-anchor=\"middle\" x=\"124800\" y=\"-7.1\" font-family=\"Times,serif\" font-size=\"8.00\">0.9464025027777776, &#45;0.9464025027777776</text>\n",
       "</g>\n",
       "<!--  0, 13&#45;&gt; 0, 13, 9 -->\n",
       "<g id=\"edge218\" class=\"edge\">\n",
       "<title> 0, 13&#45;&gt; 0, 13, 9</title>\n",
       "<path fill=\"none\" stroke=\"red\" d=\"M99072,-64.92C99081,-60.95 99091,-56.99 99101,-55 99143,-46.39 123990,-45.92 124030,-45 124290,-39.4 124610,-21.98 124740,-14.03\"/>\n",
       "<polygon fill=\"red\" stroke=\"red\" points=\"124741.75,-18.73 124740,-13.73 124738.25,-18.73 124741.75,-18.73\"/>\n",
       "<text text-anchor=\"middle\" x=\"124290\" y=\"-38.6\" font-family=\"Times,serif\" font-size=\"8.00\"> 9</text>\n",
       "</g>\n",
       "<!--  0, 13, 10 -->\n",
       "<g id=\"node253\" class=\"node\">\n",
       "<title> 0, 13, 10</title>\n",
       "<polygon fill=\"none\" stroke=\"black\" points=\"125080,-18 124953,-9 125080,0 125207,-9 125080,-18\"/>\n",
       "<text text-anchor=\"middle\" x=\"125080\" y=\"-7.1\" font-family=\"Times,serif\" font-size=\"8.00\">1.6064025027777777, &#45;1.6064025027777777</text>\n",
       "</g>\n",
       "<!--  0, 13&#45;&gt; 0, 13, 10 -->\n",
       "<g id=\"edge219\" class=\"edge\">\n",
       "<title> 0, 13&#45;&gt; 0, 13, 10</title>\n",
       "<path fill=\"none\" stroke=\"red\" d=\"M99072,-64.92C99081,-60.95 99091,-56.99 99101,-55 99143,-46.3 124250,-45.92 124300,-45 124560,-39.4 124880,-21.94 125010,-14\"/>\n",
       "<polygon fill=\"red\" stroke=\"red\" points=\"125015.05,-15.6 125020,-13.7 125014.95,-12.1 125015.05,-15.6\"/>\n",
       "<text text-anchor=\"middle\" x=\"124560\" y=\"-38.6\" font-family=\"Times,serif\" font-size=\"8.00\"> 10</text>\n",
       "</g>\n",
       "<!--  0, 13, 11 -->\n",
       "<g id=\"node254\" class=\"node\">\n",
       "<title> 0, 13, 11</title>\n",
       "<polygon fill=\"none\" stroke=\"black\" points=\"125340,-18 125219.3,-9 125340,0 125460.7,-9 125340,-18\"/>\n",
       "<text text-anchor=\"middle\" x=\"125340\" y=\"-7.1\" font-family=\"Times,serif\" font-size=\"8.00\">2.571322502777778, &#45;2.571322502777778</text>\n",
       "</g>\n",
       "<!--  0, 13&#45;&gt; 0, 13, 11 -->\n",
       "<g id=\"edge220\" class=\"edge\">\n",
       "<title> 0, 13&#45;&gt; 0, 13, 11</title>\n",
       "<path fill=\"none\" stroke=\"red\" d=\"M99072,-64.92C99081,-60.95 99091,-56.99 99101,-55 99144,-46.21 124520,-45.93 124570,-45 124850,-38.94 124930,-32.89 125210,-18 125230,-16.86 125260,-15.43 125280,-14.09\"/>\n",
       "<polygon fill=\"red\" stroke=\"red\" points=\"125281.75,-18.77 125280,-13.77 125278.25,-18.77 125281.75,-18.77\"/>\n",
       "<text text-anchor=\"middle\" x=\"124860\" y=\"-38.6\" font-family=\"Times,serif\" font-size=\"8.00\"> 11</text>\n",
       "</g>\n",
       "<!--  0, 13, 12 -->\n",
       "<g id=\"node255\" class=\"node\">\n",
       "<title> 0, 13, 12</title>\n",
       "<polygon fill=\"none\" stroke=\"black\" points=\"125610,-18 125483,-9 125610,0 125737,-9 125610,-18\"/>\n",
       "<text text-anchor=\"middle\" x=\"125610\" y=\"-7.1\" font-family=\"Times,serif\" font-size=\"8.00\">1.1826825027777779, &#45;1.1826825027777779</text>\n",
       "</g>\n",
       "<!--  0, 13&#45;&gt; 0, 13, 12 -->\n",
       "<g id=\"edge221\" class=\"edge\">\n",
       "<title> 0, 13&#45;&gt; 0, 13, 12</title>\n",
       "<path fill=\"none\" stroke=\"red\" d=\"M99072,-64.92C99081,-60.95 99091,-56.99 99101,-55 99144,-46.1 124830,-46.01 124870,-45 125120,-39.37 125410,-22.12 125540,-14.14\"/>\n",
       "<polygon fill=\"red\" stroke=\"red\" points=\"125545.06,-15.72 125550,-13.81 125544.94,-12.23 125545.06,-15.72\"/>\n",
       "<text text-anchor=\"middle\" x=\"125120\" y=\"-38.6\" font-family=\"Times,serif\" font-size=\"8.00\"> 12</text>\n",
       "</g>\n",
       "<!--  0, 13, 13 -->\n",
       "<g id=\"node256\" class=\"node\">\n",
       "<title> 0, 13, 13</title>\n",
       "<polygon fill=\"none\" stroke=\"black\" points=\"125880,-18 125753,-9 125880,0 126007,-9 125880,-18\"/>\n",
       "<text text-anchor=\"middle\" x=\"125880\" y=\"-7.1\" font-family=\"Times,serif\" font-size=\"8.00\">1.5377625027777777, &#45;1.5377625027777777</text>\n",
       "</g>\n",
       "<!--  0, 13&#45;&gt; 0, 13, 13 -->\n",
       "<g id=\"edge222\" class=\"edge\">\n",
       "<title> 0, 13&#45;&gt; 0, 13, 13</title>\n",
       "<path fill=\"none\" stroke=\"red\" d=\"M99072,-64.92C99081,-60.95 99091,-56.99 99101,-55 99145,-46.01 125080,-46 125130,-45 125380,-39.38 125680,-22.09 125810,-14.11\"/>\n",
       "<polygon fill=\"red\" stroke=\"red\" points=\"125815.06,-15.7 125820,-13.78 125814.94,-12.2 125815.06,-15.7\"/>\n",
       "<text text-anchor=\"middle\" x=\"125380\" y=\"-38.6\" font-family=\"Times,serif\" font-size=\"8.00\"> 13</text>\n",
       "</g>\n",
       "<!--  0, 13, 14 -->\n",
       "<g id=\"node257\" class=\"node\">\n",
       "<title> 0, 13, 14</title>\n",
       "<polygon fill=\"none\" stroke=\"black\" points=\"126140,-18 126019.3,-9 126140,0 126260.7,-9 126140,-18\"/>\n",
       "<text text-anchor=\"middle\" x=\"126140\" y=\"-7.1\" font-family=\"Times,serif\" font-size=\"8.00\">2.197762502777777, &#45;2.197762502777777</text>\n",
       "</g>\n",
       "<!--  0, 13&#45;&gt; 0, 13, 14 -->\n",
       "<g id=\"edge223\" class=\"edge\">\n",
       "<title> 0, 13&#45;&gt; 0, 13, 14</title>\n",
       "<path fill=\"none\" stroke=\"red\" d=\"M99072,-64.92C99081,-60.95 99091,-56.99 99101,-55 99145,-45.92 125340,-45.99 125390,-45 125670,-38.95 125740,-32.62 126010,-18 126040,-16.86 126060,-15.43 126080,-14.09\"/>\n",
       "<polygon fill=\"red\" stroke=\"red\" points=\"126085.06,-15.68 126090,-13.78 126084.95,-12.19 126085.06,-15.68\"/>\n",
       "<text text-anchor=\"middle\" x=\"125670\" y=\"-38.6\" font-family=\"Times,serif\" font-size=\"8.00\"> 14</text>\n",
       "</g>\n",
       "<!--  0, 13, 15 -->\n",
       "<g id=\"node258\" class=\"node\">\n",
       "<title> 0, 13, 15</title>\n",
       "<polygon fill=\"none\" stroke=\"black\" points=\"126400,-18 126279.3,-9 126400,0 126520.7,-9 126400,-18\"/>\n",
       "<text text-anchor=\"middle\" x=\"126400\" y=\"-7.1\" font-family=\"Times,serif\" font-size=\"8.00\">3.162682502777778, &#45;3.162682502777778</text>\n",
       "</g>\n",
       "<!--  0, 13&#45;&gt; 0, 13, 15 -->\n",
       "<g id=\"edge224\" class=\"edge\">\n",
       "<title> 0, 13&#45;&gt; 0, 13, 15</title>\n",
       "<path fill=\"none\" stroke=\"red\" d=\"M99072,-64.92C99081,-60.95 99091,-56.99 99101,-55 99146,-45.82 125640,-46.06 125680,-45 125930,-39.4 126220,-22.09 126340,-14.11\"/>\n",
       "<polygon fill=\"red\" stroke=\"red\" points=\"126345.06,-15.7 126350,-13.79 126344.94,-12.2 126345.06,-15.7\"/>\n",
       "<text text-anchor=\"middle\" x=\"125930\" y=\"-38.6\" font-family=\"Times,serif\" font-size=\"8.00\"> 15</text>\n",
       "</g>\n",
       "<!--  0, 14 -->\n",
       "<g id=\"node15\" class=\"node\">\n",
       "<title> 0, 14</title>\n",
       "<ellipse fill=\"none\" stroke=\"red\" cx=\"99151\" cy=\"-77.14\" rx=\"41.02\" ry=\"14.29\"/>\n",
       "<text text-anchor=\"middle\" x=\"99151\" y=\"-79.74\" font-family=\"Times,serif\" font-size=\"8.00\">Current player: 1</text>\n",
       "<text text-anchor=\"middle\" x=\"99151\" y=\"-70.74\" font-family=\"Times,serif\" font-size=\"8.00\">us: op:</text>\n",
       "</g>\n",
       "<!--  0, 14, 0 -->\n",
       "<g id=\"node259\" class=\"node\">\n",
       "<title> 0, 14, 0</title>\n",
       "<polygon fill=\"none\" stroke=\"black\" points=\"126660,-18 126539.3,-9 126660,0 126780.7,-9 126660,-18\"/>\n",
       "<text text-anchor=\"middle\" x=\"126660\" y=\"-7.1\" font-family=\"Times,serif\" font-size=\"8.00\">&#45;2.438650830555556, 2.438650830555556</text>\n",
       "</g>\n",
       "<!--  0, 14&#45;&gt; 0, 14, 0 -->\n",
       "<g id=\"edge225\" class=\"edge\">\n",
       "<title> 0, 14&#45;&gt; 0, 14, 0</title>\n",
       "<path fill=\"none\" stroke=\"red\" d=\"M99172,-64.92C99181,-60.95 99191,-56.99 99201,-55 99246,-45.77 125890,-46.06 125930,-45 126180,-39.4 126470,-22.06 126600,-14.09\"/>\n",
       "<polygon fill=\"red\" stroke=\"red\" points=\"126601.75,-18.76 126600,-13.76 126598.25,-18.76 126601.75,-18.76\"/>\n",
       "<text text-anchor=\"middle\" x=\"126180\" y=\"-38.6\" font-family=\"Times,serif\" font-size=\"8.00\"> 0</text>\n",
       "</g>\n",
       "<!--  0, 14, 1 -->\n",
       "<g id=\"node260\" class=\"node\">\n",
       "<title> 0, 14, 1</title>\n",
       "<polygon fill=\"none\" stroke=\"black\" points=\"126920,-18 126799.3,-9 126920,0 127040.7,-9 126920,-18\"/>\n",
       "<text text-anchor=\"middle\" x=\"126920\" y=\"-7.1\" font-family=\"Times,serif\" font-size=\"8.00\">&#45;2.083570830555556, 2.083570830555556</text>\n",
       "</g>\n",
       "<!--  0, 14&#45;&gt; 0, 14, 1 -->\n",
       "<g id=\"edge226\" class=\"edge\">\n",
       "<title> 0, 14&#45;&gt; 0, 14, 1</title>\n",
       "<path fill=\"none\" stroke=\"red\" d=\"M99172,-64.92C99181,-60.95 99191,-56.99 99201,-55 99247,-45.68 126140,-46.05 126190,-45 126430,-39.41 126730,-22.02 126860,-14.06\"/>\n",
       "<polygon fill=\"red\" stroke=\"red\" points=\"126861.75,-18.73 126860,-13.73 126858.25,-18.73 126861.75,-18.73\"/>\n",
       "<text text-anchor=\"middle\" x=\"126430\" y=\"-38.6\" font-family=\"Times,serif\" font-size=\"8.00\"> 1</text>\n",
       "</g>\n",
       "<!--  0, 14, 2 -->\n",
       "<g id=\"node261\" class=\"node\">\n",
       "<title> 0, 14, 2</title>\n",
       "<polygon fill=\"none\" stroke=\"black\" points=\"127190,-18 127063,-9 127190,0 127317,-9 127190,-18\"/>\n",
       "<text text-anchor=\"middle\" x=\"127190\" y=\"-7.1\" font-family=\"Times,serif\" font-size=\"8.00\">&#45;1.4235708305555557, 1.4235708305555557</text>\n",
       "</g>\n",
       "<!--  0, 14&#45;&gt; 0, 14, 2 -->\n",
       "<g id=\"edge227\" class=\"edge\">\n",
       "<title> 0, 14&#45;&gt; 0, 14, 2</title>\n",
       "<path fill=\"none\" stroke=\"red\" d=\"M99172,-64.92C99181,-60.95 99191,-56.99 99201,-55 99247,-45.6 126390,-46.05 126440,-45 126690,-39.39 126990,-22.09 127120,-14.11\"/>\n",
       "<polygon fill=\"red\" stroke=\"red\" points=\"127125.06,-15.7 127130,-13.79 127124.94,-12.2 127125.06,-15.7\"/>\n",
       "<text text-anchor=\"middle\" x=\"126690\" y=\"-38.6\" font-family=\"Times,serif\" font-size=\"8.00\"> 2</text>\n",
       "</g>\n",
       "<!--  0, 14, 3 -->\n",
       "<g id=\"node262\" class=\"node\">\n",
       "<title> 0, 14, 3</title>\n",
       "<polygon fill=\"none\" stroke=\"black\" points=\"127460,-18 127326,-9 127460,0 127594,-9 127460,-18\"/>\n",
       "<text text-anchor=\"middle\" x=\"127460\" y=\"-7.1\" font-family=\"Times,serif\" font-size=\"8.00\">&#45;0.45865083055555533, 0.45865083055555533</text>\n",
       "</g>\n",
       "<!--  0, 14&#45;&gt; 0, 14, 3 -->\n",
       "<g id=\"edge228\" class=\"edge\">\n",
       "<title> 0, 14&#45;&gt; 0, 14, 3</title>\n",
       "<path fill=\"none\" stroke=\"red\" d=\"M99172,-64.92C99181,-60.95 99191,-56.99 99201,-55 99247,-45.51 126650,-46.04 126700,-45 126960,-39.36 127260,-22.13 127400,-14.14\"/>\n",
       "<polygon fill=\"red\" stroke=\"red\" points=\"127401.75,-18.84 127400,-13.84 127398.25,-18.84 127401.75,-18.84\"/>\n",
       "<text text-anchor=\"middle\" x=\"126950\" y=\"-38.6\" font-family=\"Times,serif\" font-size=\"8.00\"> 3</text>\n",
       "</g>\n",
       "<!--  0, 14, 4 -->\n",
       "<g id=\"node263\" class=\"node\">\n",
       "<title> 0, 14, 4</title>\n",
       "<polygon fill=\"none\" stroke=\"black\" points=\"127740,-18 127613,-9 127740,0 127867,-9 127740,-18\"/>\n",
       "<text text-anchor=\"middle\" x=\"127740\" y=\"-7.1\" font-family=\"Times,serif\" font-size=\"8.00\">&#45;2.3700108305555556, 2.3700108305555556</text>\n",
       "</g>\n",
       "<!--  0, 14&#45;&gt; 0, 14, 4 -->\n",
       "<g id=\"edge229\" class=\"edge\">\n",
       "<title> 0, 14&#45;&gt; 0, 14, 4</title>\n",
       "<path fill=\"none\" stroke=\"red\" d=\"M99172,-64.92C99181,-60.95 99191,-56.99 99201,-55 99248,-45.42 126910,-46.01 126960,-45 127230,-39.41 127540,-21.95 127680,-14.01\"/>\n",
       "<polygon fill=\"red\" stroke=\"red\" points=\"127681.75,-18.7 127680,-13.7 127678.25,-18.7 127681.75,-18.7\"/>\n",
       "<text text-anchor=\"middle\" x=\"127240\" y=\"-38.6\" font-family=\"Times,serif\" font-size=\"8.00\"> 4</text>\n",
       "</g>\n",
       "<!--  0, 14, 5 -->\n",
       "<g id=\"node264\" class=\"node\">\n",
       "<title> 0, 14, 5</title>\n",
       "<polygon fill=\"none\" stroke=\"black\" points=\"128020,-18 127893,-9 128020,0 128147,-9 128020,-18\"/>\n",
       "<text text-anchor=\"middle\" x=\"128020\" y=\"-7.1\" font-family=\"Times,serif\" font-size=\"8.00\">&#45;2.0149308305555556, 2.0149308305555556</text>\n",
       "</g>\n",
       "<!--  0, 14&#45;&gt; 0, 14, 5 -->\n",
       "<g id=\"edge230\" class=\"edge\">\n",
       "<title> 0, 14&#45;&gt; 0, 14, 5</title>\n",
       "<path fill=\"none\" stroke=\"red\" d=\"M99172,-64.92C99181,-60.95 99191,-56.99 99201,-55 99248,-45.32 127200,-46.05 127250,-45 127510,-39.39 127820,-22.02 127950,-14.06\"/>\n",
       "<polygon fill=\"red\" stroke=\"red\" points=\"127955.05,-15.66 127960,-13.76 127954.95,-12.16 127955.05,-15.66\"/>\n",
       "<text text-anchor=\"middle\" x=\"127510\" y=\"-38.6\" font-family=\"Times,serif\" font-size=\"8.00\"> 5</text>\n",
       "</g>\n",
       "<!--  0, 14, 6 -->\n",
       "<g id=\"node265\" class=\"node\">\n",
       "<title> 0, 14, 6</title>\n",
       "<polygon fill=\"none\" stroke=\"black\" points=\"128290,-18 128163,-9 128290,0 128417,-9 128290,-18\"/>\n",
       "<text text-anchor=\"middle\" x=\"128290\" y=\"-7.1\" font-family=\"Times,serif\" font-size=\"8.00\">&#45;1.3549308305555556, 1.3549308305555556</text>\n",
       "</g>\n",
       "<!--  0, 14&#45;&gt; 0, 14, 6 -->\n",
       "<g id=\"edge231\" class=\"edge\">\n",
       "<title> 0, 14&#45;&gt; 0, 14, 6</title>\n",
       "<path fill=\"none\" stroke=\"red\" d=\"M99172,-64.92C99181,-60.95 99191,-56.99 99201,-55 99249,-45.23 127460,-46.05 127510,-45 127780,-39.4 128090,-21.98 128220,-14.03\"/>\n",
       "<polygon fill=\"red\" stroke=\"red\" points=\"128225.05,-15.63 128230,-13.73 128224.95,-12.13 128225.05,-15.63\"/>\n",
       "<text text-anchor=\"middle\" x=\"127770\" y=\"-38.6\" font-family=\"Times,serif\" font-size=\"8.00\"> 6</text>\n",
       "</g>\n",
       "<!--  0, 14, 7 -->\n",
       "<g id=\"node266\" class=\"node\">\n",
       "<title> 0, 14, 7</title>\n",
       "<polygon fill=\"none\" stroke=\"black\" points=\"128570,-18 128436,-9 128570,0 128704,-9 128570,-18\"/>\n",
       "<text text-anchor=\"middle\" x=\"128570\" y=\"-7.1\" font-family=\"Times,serif\" font-size=\"8.00\">&#45;0.39001083055555574, 0.39001083055555574</text>\n",
       "</g>\n",
       "<!--  0, 14&#45;&gt; 0, 14, 7 -->\n",
       "<g id=\"edge232\" class=\"edge\">\n",
       "<title> 0, 14&#45;&gt; 0, 14, 7</title>\n",
       "<path fill=\"none\" stroke=\"red\" d=\"M99172,-64.92C99181,-60.95 99191,-56.99 99201,-55 99249,-45.13 127730,-46.05 127780,-45 128050,-39.38 128360,-22.07 128500,-14.1\"/>\n",
       "<polygon fill=\"red\" stroke=\"red\" points=\"128501.75,-18.8 128500,-13.8 128498.25,-18.8 128501.75,-18.8\"/>\n",
       "<text text-anchor=\"middle\" x=\"128040\" y=\"-38.6\" font-family=\"Times,serif\" font-size=\"8.00\"> 7</text>\n",
       "</g>\n",
       "<!--  0, 14, 8 -->\n",
       "<g id=\"node267\" class=\"node\">\n",
       "<title> 0, 14, 8</title>\n",
       "<polygon fill=\"none\" stroke=\"black\" points=\"128850,-18 128723,-9 128850,0 128977,-9 128850,-18\"/>\n",
       "<text text-anchor=\"middle\" x=\"128850\" y=\"-7.1\" font-family=\"Times,serif\" font-size=\"8.00\">&#45;2.0400108305555555, 2.0400108305555555</text>\n",
       "</g>\n",
       "<!--  0, 14&#45;&gt; 0, 14, 8 -->\n",
       "<g id=\"edge233\" class=\"edge\">\n",
       "<title> 0, 14&#45;&gt; 0, 14, 8</title>\n",
       "<path fill=\"none\" stroke=\"red\" d=\"M99172,-64.92C99181,-60.95 99191,-56.99 99201,-55 99250,-45.04 128000,-46.03 128050,-45 128340,-38.95 128420,-32.62 128710,-18 128730,-16.84 128760,-15.4 128780,-14.06\"/>\n",
       "<polygon fill=\"red\" stroke=\"red\" points=\"128785.05,-15.66 128790,-13.76 128784.95,-12.16 128785.05,-15.66\"/>\n",
       "<text text-anchor=\"middle\" x=\"128350\" y=\"-38.6\" font-family=\"Times,serif\" font-size=\"8.00\"> 8</text>\n",
       "</g>\n",
       "<!--  0, 14, 9 -->\n",
       "<g id=\"node268\" class=\"node\">\n",
       "<title> 0, 14, 9</title>\n",
       "<polygon fill=\"none\" stroke=\"black\" points=\"129120,-18 128993,-9 129120,0 129247,-9 129120,-18\"/>\n",
       "<text text-anchor=\"middle\" x=\"129120\" y=\"-7.1\" font-family=\"Times,serif\" font-size=\"8.00\">&#45;1.6849308305555557, 1.6849308305555557</text>\n",
       "</g>\n",
       "<!--  0, 14&#45;&gt; 0, 14, 9 -->\n",
       "<g id=\"edge234\" class=\"edge\">\n",
       "<title> 0, 14&#45;&gt; 0, 14, 9</title>\n",
       "<path fill=\"none\" stroke=\"red\" d=\"M99172,-64.92C99181,-60.95 99191,-56.99 99201,-55 99250,-44.93 128310,-46.1 128360,-45 128610,-39.39 128920,-22.05 129050,-14.08\"/>\n",
       "<polygon fill=\"red\" stroke=\"red\" points=\"129055.06,-15.67 129060,-13.76 129054.94,-12.17 129055.06,-15.67\"/>\n",
       "<text text-anchor=\"middle\" x=\"128610\" y=\"-38.6\" font-family=\"Times,serif\" font-size=\"8.00\"> 9</text>\n",
       "</g>\n",
       "<!--  0, 14, 10 -->\n",
       "<g id=\"node269\" class=\"node\">\n",
       "<title> 0, 14, 10</title>\n",
       "<polygon fill=\"none\" stroke=\"black\" points=\"129390,-18 129263,-9 129390,0 129517,-9 129390,-18\"/>\n",
       "<text text-anchor=\"middle\" x=\"129390\" y=\"-7.1\" font-family=\"Times,serif\" font-size=\"8.00\">&#45;1.0249308305555556, 1.0249308305555556</text>\n",
       "</g>\n",
       "<!--  0, 14&#45;&gt; 0, 14, 10 -->\n",
       "<g id=\"edge235\" class=\"edge\">\n",
       "<title> 0, 14&#45;&gt; 0, 14, 10</title>\n",
       "<path fill=\"none\" stroke=\"red\" d=\"M99172,-64.92C99181,-60.95 99191,-56.99 99201,-55 99251,-44.84 128570,-46.09 128620,-45 128880,-39.4 129190,-21.98 129320,-14.03\"/>\n",
       "<polygon fill=\"red\" stroke=\"red\" points=\"129325.05,-15.63 129330,-13.73 129324.95,-12.13 129325.05,-15.63\"/>\n",
       "<text text-anchor=\"middle\" x=\"128880\" y=\"-38.6\" font-family=\"Times,serif\" font-size=\"8.00\"> 10</text>\n",
       "</g>\n",
       "<!--  0, 14, 11 -->\n",
       "<g id=\"node270\" class=\"node\">\n",
       "<title> 0, 14, 11</title>\n",
       "<polygon fill=\"none\" stroke=\"black\" points=\"129670,-18 129529.5,-9 129670,0 129810.5,-9 129670,-18\"/>\n",
       "<text text-anchor=\"middle\" x=\"129670\" y=\"-7.1\" font-family=\"Times,serif\" font-size=\"8.00\">&#45;0.060010830555555214, 0.060010830555555214</text>\n",
       "</g>\n",
       "<!--  0, 14&#45;&gt; 0, 14, 11 -->\n",
       "<g id=\"edge236\" class=\"edge\">\n",
       "<title> 0, 14&#45;&gt; 0, 14, 11</title>\n",
       "<path fill=\"none\" stroke=\"red\" d=\"M99172,-64.92C99181,-60.95 99191,-56.99 99201,-55 99251,-44.75 128840,-46.1 128890,-45 129150,-39.35 129470,-22.18 129600,-14.18\"/>\n",
       "<polygon fill=\"red\" stroke=\"red\" points=\"129605.05,-15.78 129610,-13.88 129604.95,-12.28 129605.05,-15.78\"/>\n",
       "<text text-anchor=\"middle\" x=\"129150\" y=\"-38.6\" font-family=\"Times,serif\" font-size=\"8.00\"> 11</text>\n",
       "</g>\n",
       "<!--  0, 14, 12 -->\n",
       "<g id=\"node271\" class=\"node\">\n",
       "<title> 0, 14, 12</title>\n",
       "<polygon fill=\"none\" stroke=\"black\" points=\"129960,-18 129833,-9 129960,0 130087,-9 129960,-18\"/>\n",
       "<text text-anchor=\"middle\" x=\"129960\" y=\"-7.1\" font-family=\"Times,serif\" font-size=\"8.00\">&#45;1.4486508305555554, 1.4486508305555554</text>\n",
       "</g>\n",
       "<!--  0, 14&#45;&gt; 0, 14, 12 -->\n",
       "<g id=\"edge237\" class=\"edge\">\n",
       "<title> 0, 14&#45;&gt; 0, 14, 12</title>\n",
       "<path fill=\"none\" stroke=\"red\" d=\"M99172,-64.92C99181,-60.95 99191,-56.99 99201,-55 99252,-44.66 129110,-46.07 129160,-45 129460,-38.95 129530,-32.66 129820,-18 129850,-16.85 129870,-15.4 129890,-14.06\"/>\n",
       "<polygon fill=\"red\" stroke=\"red\" points=\"129895.05,-15.66 129900,-13.76 129894.95,-12.16 129895.05,-15.66\"/>\n",
       "<text text-anchor=\"middle\" x=\"129460\" y=\"-38.6\" font-family=\"Times,serif\" font-size=\"8.00\"> 12</text>\n",
       "</g>\n",
       "<!--  0, 14, 13 -->\n",
       "<g id=\"node272\" class=\"node\">\n",
       "<title> 0, 14, 13</title>\n",
       "<polygon fill=\"none\" stroke=\"black\" points=\"130230,-18 130103,-9 130230,0 130357,-9 130230,-18\"/>\n",
       "<text text-anchor=\"middle\" x=\"130230\" y=\"-7.1\" font-family=\"Times,serif\" font-size=\"8.00\">&#45;1.0935708305555556, 1.0935708305555556</text>\n",
       "</g>\n",
       "<!--  0, 14&#45;&gt; 0, 14, 13 -->\n",
       "<g id=\"edge238\" class=\"edge\">\n",
       "<title> 0, 14&#45;&gt; 0, 14, 13</title>\n",
       "<path fill=\"none\" stroke=\"red\" d=\"M99172,-64.92C99181,-60.95 99191,-56.99 99201,-55 99252,-44.55 129420,-46.15 129470,-45 129730,-39.39 130030,-22.05 130170,-14.08\"/>\n",
       "<polygon fill=\"red\" stroke=\"red\" points=\"130171.75,-18.76 130170,-13.76 130168.25,-18.76 130171.75,-18.76\"/>\n",
       "<text text-anchor=\"middle\" x=\"129730\" y=\"-38.6\" font-family=\"Times,serif\" font-size=\"8.00\"> 13</text>\n",
       "</g>\n",
       "<!--  0, 14, 14 -->\n",
       "<g id=\"node273\" class=\"node\">\n",
       "<title> 0, 14, 14</title>\n",
       "<polygon fill=\"none\" stroke=\"black\" points=\"130510,-18 130376,-9 130510,0 130644,-9 130510,-18\"/>\n",
       "<text text-anchor=\"middle\" x=\"130510\" y=\"-7.1\" font-family=\"Times,serif\" font-size=\"8.00\">&#45;0.43357083055555573, 0.43357083055555573</text>\n",
       "</g>\n",
       "<!--  0, 14&#45;&gt; 0, 14, 14 -->\n",
       "<g id=\"edge239\" class=\"edge\">\n",
       "<title> 0, 14&#45;&gt; 0, 14, 14</title>\n",
       "<path fill=\"none\" stroke=\"red\" d=\"M99172,-64.92C99181,-60.95 99191,-56.99 99201,-55 99253,-44.46 129680,-46.14 129740,-45 130000,-39.37 130310,-22.11 130440,-14.13\"/>\n",
       "<polygon fill=\"red\" stroke=\"red\" points=\"130445.05,-15.73 130450,-13.82 130444.95,-12.23 130445.05,-15.73\"/>\n",
       "<text text-anchor=\"middle\" x=\"130000\" y=\"-38.6\" font-family=\"Times,serif\" font-size=\"8.00\"> 14</text>\n",
       "</g>\n",
       "<!--  0, 14, 15 -->\n",
       "<g id=\"node274\" class=\"node\">\n",
       "<title> 0, 14, 15</title>\n",
       "<polygon fill=\"none\" stroke=\"black\" points=\"130790,-18 130663,-9 130790,0 130917,-9 130790,-18\"/>\n",
       "<text text-anchor=\"middle\" x=\"130790\" y=\"-7.1\" font-family=\"Times,serif\" font-size=\"8.00\">0.5313491694444449, &#45;0.5313491694444449</text>\n",
       "</g>\n",
       "<!--  0, 14&#45;&gt; 0, 14, 15 -->\n",
       "<g id=\"edge240\" class=\"edge\">\n",
       "<title> 0, 14&#45;&gt; 0, 14, 15</title>\n",
       "<path fill=\"none\" stroke=\"red\" d=\"M99172,-64.92C99181,-60.95 99191,-56.99 99201,-55 99253,-44.37 129950,-46.12 130010,-45 130270,-39.41 130590,-21.95 130720,-14.01\"/>\n",
       "<polygon fill=\"red\" stroke=\"red\" points=\"130725.05,-15.6 130730,-13.7 130724.95,-12.11 130725.05,-15.6\"/>\n",
       "<text text-anchor=\"middle\" x=\"130290\" y=\"-38.6\" font-family=\"Times,serif\" font-size=\"8.00\"> 15</text>\n",
       "</g>\n",
       "<!--  0, 15 -->\n",
       "<g id=\"node16\" class=\"node\">\n",
       "<title> 0, 15</title>\n",
       "<ellipse fill=\"none\" stroke=\"red\" cx=\"99251\" cy=\"-77.14\" rx=\"41.02\" ry=\"14.29\"/>\n",
       "<text text-anchor=\"middle\" x=\"99251\" y=\"-79.74\" font-family=\"Times,serif\" font-size=\"8.00\">Current player: 1</text>\n",
       "<text text-anchor=\"middle\" x=\"99251\" y=\"-70.74\" font-family=\"Times,serif\" font-size=\"8.00\">us: op:</text>\n",
       "</g>\n",
       "<!--  0, 15, 0 -->\n",
       "<g id=\"node275\" class=\"node\">\n",
       "<title> 0, 15, 0</title>\n",
       "<polygon fill=\"none\" stroke=\"black\" points=\"131050,-18 130929.3,-9 131050,0 131170.7,-9 131050,-18\"/>\n",
       "<text text-anchor=\"middle\" x=\"131050\" y=\"-7.1\" font-family=\"Times,serif\" font-size=\"8.00\">&#45;4.036435224999999, 4.036435224999999</text>\n",
       "</g>\n",
       "<!--  0, 15&#45;&gt; 0, 15, 0 -->\n",
       "<g id=\"edge241\" class=\"edge\">\n",
       "<title> 0, 15&#45;&gt; 0, 15, 0</title>\n",
       "<path fill=\"none\" stroke=\"red\" d=\"M99292,-76.15C100510,-76.42 128610,-82.21 130300,-45 130580,-38.86 130650,-32.62 130930,-18 130950,-16.86 130970,-15.43 130990,-14.09\"/>\n",
       "<polygon fill=\"red\" stroke=\"red\" points=\"130995.06,-15.68 131000,-13.78 130994.95,-12.19 130995.06,-15.68\"/>\n",
       "<text text-anchor=\"middle\" x=\"130580\" y=\"-38.6\" font-family=\"Times,serif\" font-size=\"8.00\"> 0</text>\n",
       "</g>\n",
       "<!--  0, 15, 1 -->\n",
       "<g id=\"node276\" class=\"node\">\n",
       "<title> 0, 15, 1</title>\n",
       "<polygon fill=\"none\" stroke=\"black\" points=\"131310,-18 131189.3,-9 131310,0 131430.7,-9 131310,-18\"/>\n",
       "<text text-anchor=\"middle\" x=\"131310\" y=\"-7.1\" font-family=\"Times,serif\" font-size=\"8.00\">&#45;3.681355224999999, 3.681355224999999</text>\n",
       "</g>\n",
       "<!--  0, 15&#45;&gt; 0, 15, 1 -->\n",
       "<g id=\"edge242\" class=\"edge\">\n",
       "<title> 0, 15&#45;&gt; 0, 15, 1</title>\n",
       "<path fill=\"none\" stroke=\"red\" d=\"M99292,-76.16C100520,-76.52 128890,-84.59 130590,-45 130840,-39.33 131130,-22.06 131250,-14.1\"/>\n",
       "<polygon fill=\"red\" stroke=\"red\" points=\"131255.06,-15.69 131260,-13.78 131254.94,-12.19 131255.06,-15.69\"/>\n",
       "<text text-anchor=\"middle\" x=\"130830\" y=\"-38.6\" font-family=\"Times,serif\" font-size=\"8.00\"> 1</text>\n",
       "</g>\n",
       "<!--  0, 15, 2 -->\n",
       "<g id=\"node277\" class=\"node\">\n",
       "<title> 0, 15, 2</title>\n",
       "<polygon fill=\"none\" stroke=\"black\" points=\"131580,-18 131453,-9 131580,0 131707,-9 131580,-18\"/>\n",
       "<text text-anchor=\"middle\" x=\"131580\" y=\"-7.1\" font-family=\"Times,serif\" font-size=\"8.00\">&#45;3.0213552249999993, 3.0213552249999993</text>\n",
       "</g>\n",
       "<!--  0, 15&#45;&gt; 0, 15, 2 -->\n",
       "<g id=\"edge243\" class=\"edge\">\n",
       "<title> 0, 15&#45;&gt; 0, 15, 2</title>\n",
       "<path fill=\"none\" stroke=\"red\" d=\"M99292,-76.15C100530,-76.51 129120,-84.26 130840,-45 131090,-39.3 131390,-22.09 131510,-14.12\"/>\n",
       "<polygon fill=\"red\" stroke=\"red\" points=\"131515.06,-15.71 131520,-13.8 131514.94,-12.21 131515.06,-15.71\"/>\n",
       "<text text-anchor=\"middle\" x=\"131090\" y=\"-38.6\" font-family=\"Times,serif\" font-size=\"8.00\"> 2</text>\n",
       "</g>\n",
       "<!--  0, 15, 3 -->\n",
       "<g id=\"node278\" class=\"node\">\n",
       "<title> 0, 15, 3</title>\n",
       "<polygon fill=\"none\" stroke=\"black\" points=\"131850,-18 131723,-9 131850,0 131977,-9 131850,-18\"/>\n",
       "<text text-anchor=\"middle\" x=\"131850\" y=\"-7.1\" font-family=\"Times,serif\" font-size=\"8.00\">&#45;2.0564352249999986, 2.0564352249999986</text>\n",
       "</g>\n",
       "<!--  0, 15&#45;&gt; 0, 15, 3 -->\n",
       "<g id=\"edge244\" class=\"edge\">\n",
       "<title> 0, 15&#45;&gt; 0, 15, 3</title>\n",
       "<path fill=\"none\" stroke=\"red\" d=\"M99292,-76.15C100530,-76.47 129360,-83.51 131090,-45 131350,-39.31 131650,-22.05 131790,-14.1\"/>\n",
       "<polygon fill=\"red\" stroke=\"red\" points=\"131791.75,-18.77 131790,-13.77 131788.25,-18.77 131791.75,-18.77\"/>\n",
       "<text text-anchor=\"middle\" x=\"131350\" y=\"-38.6\" font-family=\"Times,serif\" font-size=\"8.00\"> 3</text>\n",
       "</g>\n",
       "<!--  0, 15, 4 -->\n",
       "<g id=\"node279\" class=\"node\">\n",
       "<title> 0, 15, 4</title>\n",
       "<polygon fill=\"none\" stroke=\"black\" points=\"132120,-18 131999.3,-9 132120,0 132240.7,-9 132120,-18\"/>\n",
       "<text text-anchor=\"middle\" x=\"132120\" y=\"-7.1\" font-family=\"Times,serif\" font-size=\"8.00\">&#45;3.967795224999999, 3.967795224999999</text>\n",
       "</g>\n",
       "<!--  0, 15&#45;&gt; 0, 15, 4 -->\n",
       "<g id=\"edge245\" class=\"edge\">\n",
       "<title> 0, 15&#45;&gt; 0, 15, 4</title>\n",
       "<path fill=\"none\" stroke=\"red\" d=\"M99292,-76.15C100530,-76.45 129610,-83.11 131350,-45 131640,-38.86 131710,-32.7 131990,-18 132010,-16.86 132030,-15.43 132050,-14.1\"/>\n",
       "<polygon fill=\"red\" stroke=\"red\" points=\"132055.06,-15.69 132060,-13.78 132054.95,-12.19 132055.06,-15.69\"/>\n",
       "<text text-anchor=\"middle\" x=\"131640\" y=\"-38.6\" font-family=\"Times,serif\" font-size=\"8.00\"> 4</text>\n",
       "</g>\n",
       "<!--  0, 15, 5 -->\n",
       "<g id=\"node280\" class=\"node\">\n",
       "<title> 0, 15, 5</title>\n",
       "<polygon fill=\"none\" stroke=\"black\" points=\"132370,-18 132249.3,-9 132370,0 132490.7,-9 132370,-18\"/>\n",
       "<text text-anchor=\"middle\" x=\"132370\" y=\"-7.1\" font-family=\"Times,serif\" font-size=\"8.00\">&#45;3.612715224999999, 3.612715224999999</text>\n",
       "</g>\n",
       "<!--  0, 15&#45;&gt; 0, 15, 5 -->\n",
       "<g id=\"edge246\" class=\"edge\">\n",
       "<title> 0, 15&#45;&gt; 0, 15, 5</title>\n",
       "<path fill=\"none\" stroke=\"red\" d=\"M99292,-76.13C100560,-75.7 130770,-65.36 131650,-45 131900,-39.33 132190,-22.02 132310,-14.07\"/>\n",
       "<polygon fill=\"red\" stroke=\"red\" points=\"132315.06,-15.66 132320,-13.75 132314.94,-12.16 132315.06,-15.66\"/>\n",
       "<text text-anchor=\"middle\" x=\"131890\" y=\"-38.6\" font-family=\"Times,serif\" font-size=\"8.00\"> 5</text>\n",
       "</g>\n",
       "<!--  0, 15, 6 -->\n",
       "<g id=\"node281\" class=\"node\">\n",
       "<title> 0, 15, 6</title>\n",
       "<polygon fill=\"none\" stroke=\"black\" points=\"132630,-18 132509.3,-9 132630,0 132750.7,-9 132630,-18\"/>\n",
       "<text text-anchor=\"middle\" x=\"132630\" y=\"-7.1\" font-family=\"Times,serif\" font-size=\"8.00\">&#45;2.952715224999999, 2.952715224999999</text>\n",
       "</g>\n",
       "<!--  0, 15&#45;&gt; 0, 15, 6 -->\n",
       "<g id=\"edge247\" class=\"edge\">\n",
       "<title> 0, 15&#45;&gt; 0, 15, 6</title>\n",
       "<path fill=\"none\" stroke=\"red\" d=\"M99292,-76.13C100560,-75.7 131010,-65.22 131900,-45 132150,-39.33 132440,-21.98 132570,-14.04\"/>\n",
       "<polygon fill=\"red\" stroke=\"red\" points=\"132575.06,-15.63 132580,-13.72 132574.94,-12.13 132575.06,-15.63\"/>\n",
       "<text text-anchor=\"middle\" x=\"132150\" y=\"-38.6\" font-family=\"Times,serif\" font-size=\"8.00\"> 6</text>\n",
       "</g>\n",
       "<!--  0, 15, 7 -->\n",
       "<g id=\"node282\" class=\"node\">\n",
       "<title> 0, 15, 7</title>\n",
       "<polygon fill=\"none\" stroke=\"black\" points=\"132900,-18 132773,-9 132900,0 133027,-9 132900,-18\"/>\n",
       "<text text-anchor=\"middle\" x=\"132900\" y=\"-7.1\" font-family=\"Times,serif\" font-size=\"8.00\">&#45;1.9877952249999993, 1.9877952249999993</text>\n",
       "</g>\n",
       "<!--  0, 15&#45;&gt; 0, 15, 7 -->\n",
       "<g id=\"edge248\" class=\"edge\">\n",
       "<title> 0, 15&#45;&gt; 0, 15, 7</title>\n",
       "<path fill=\"none\" stroke=\"red\" d=\"M99292,-76.13C100570,-75.7 131260,-65.18 132150,-45 132400,-39.32 132700,-22.1 132830,-14.13\"/>\n",
       "<polygon fill=\"red\" stroke=\"red\" points=\"132835.06,-15.71 132840,-13.8 132834.94,-12.22 132835.06,-15.71\"/>\n",
       "<text text-anchor=\"middle\" x=\"132400\" y=\"-38.6\" font-family=\"Times,serif\" font-size=\"8.00\"> 7</text>\n",
       "</g>\n",
       "<!--  0, 15, 8 -->\n",
       "<g id=\"node283\" class=\"node\">\n",
       "<title> 0, 15, 8</title>\n",
       "<polygon fill=\"none\" stroke=\"black\" points=\"133160,-18 133039.3,-9 133160,0 133280.7,-9 133160,-18\"/>\n",
       "<text text-anchor=\"middle\" x=\"133160\" y=\"-7.1\" font-family=\"Times,serif\" font-size=\"8.00\">&#45;3.637795224999999, 3.637795224999999</text>\n",
       "</g>\n",
       "<!--  0, 15&#45;&gt; 0, 15, 8 -->\n",
       "<g id=\"edge249\" class=\"edge\">\n",
       "<title> 0, 15&#45;&gt; 0, 15, 8</title>\n",
       "<path fill=\"none\" stroke=\"red\" d=\"M99292,-76.15C100560,-76.52 130610,-84.77 132410,-45 132690,-38.87 132760,-32.6 133030,-18 133060,-16.85 133080,-15.43 133100,-14.09\"/>\n",
       "<polygon fill=\"red\" stroke=\"red\" points=\"133105.06,-15.68 133110,-13.78 133104.95,-12.18 133105.06,-15.68\"/>\n",
       "<text text-anchor=\"middle\" x=\"132690\" y=\"-38.6\" font-family=\"Times,serif\" font-size=\"8.00\"> 8</text>\n",
       "</g>\n",
       "<!--  0, 15, 9 -->\n",
       "<g id=\"node284\" class=\"node\">\n",
       "<title> 0, 15, 9</title>\n",
       "<polygon fill=\"none\" stroke=\"black\" points=\"133420,-18 133299.3,-9 133420,0 133540.7,-9 133420,-18\"/>\n",
       "<text text-anchor=\"middle\" x=\"133420\" y=\"-7.1\" font-family=\"Times,serif\" font-size=\"8.00\">&#45;3.282715224999999, 3.282715224999999</text>\n",
       "</g>\n",
       "<!--  0, 15&#45;&gt; 0, 15, 9 -->\n",
       "<g id=\"edge250\" class=\"edge\">\n",
       "<title> 0, 15&#45;&gt; 0, 15, 9</title>\n",
       "<path fill=\"none\" stroke=\"red\" d=\"M99292,-76.13C100580,-75.74 131790,-66.16 132700,-45 132950,-39.33 133240,-22.06 133360,-14.1\"/>\n",
       "<polygon fill=\"red\" stroke=\"red\" points=\"133365.06,-15.69 133370,-13.78 133364.94,-12.19 133365.06,-15.69\"/>\n",
       "<text text-anchor=\"middle\" x=\"132940\" y=\"-38.6\" font-family=\"Times,serif\" font-size=\"8.00\"> 9</text>\n",
       "</g>\n",
       "<!--  0, 15, 10 -->\n",
       "<g id=\"node285\" class=\"node\">\n",
       "<title> 0, 15, 10</title>\n",
       "<polygon fill=\"none\" stroke=\"black\" points=\"133680,-18 133559.3,-9 133680,0 133800.7,-9 133680,-18\"/>\n",
       "<text text-anchor=\"middle\" x=\"133680\" y=\"-7.1\" font-family=\"Times,serif\" font-size=\"8.00\">&#45;2.622715224999999, 2.622715224999999</text>\n",
       "</g>\n",
       "<!--  0, 15&#45;&gt; 0, 15, 10 -->\n",
       "<g id=\"edge251\" class=\"edge\">\n",
       "<title> 0, 15&#45;&gt; 0, 15, 10</title>\n",
       "<path fill=\"none\" stroke=\"red\" d=\"M99292,-76.13C100590,-75.74 132030,-65.97 132950,-45 133200,-39.34 133490,-22.03 133620,-14.07\"/>\n",
       "<polygon fill=\"red\" stroke=\"red\" points=\"133621.75,-18.75 133620,-13.75 133618.25,-18.75 133621.75,-18.75\"/>\n",
       "<text text-anchor=\"middle\" x=\"133200\" y=\"-38.6\" font-family=\"Times,serif\" font-size=\"8.00\"> 10</text>\n",
       "</g>\n",
       "<!--  0, 15, 11 -->\n",
       "<g id=\"node286\" class=\"node\">\n",
       "<title> 0, 15, 11</title>\n",
       "<polygon fill=\"none\" stroke=\"black\" points=\"133950,-18 133823,-9 133950,0 134077,-9 133950,-18\"/>\n",
       "<text text-anchor=\"middle\" x=\"133950\" y=\"-7.1\" font-family=\"Times,serif\" font-size=\"8.00\">&#45;1.6577952249999988, 1.6577952249999988</text>\n",
       "</g>\n",
       "<!--  0, 15&#45;&gt; 0, 15, 11 -->\n",
       "<g id=\"edge252\" class=\"edge\">\n",
       "<title> 0, 15&#45;&gt; 0, 15, 11</title>\n",
       "<path fill=\"none\" stroke=\"red\" d=\"M99292,-76.13C100590,-75.74 132280,-65.99 133210,-45 133460,-39.31 133750,-22.1 133880,-14.13\"/>\n",
       "<polygon fill=\"red\" stroke=\"red\" points=\"133885.06,-15.71 133890,-13.8 133884.94,-12.22 133885.06,-15.71\"/>\n",
       "<text text-anchor=\"middle\" x=\"133450\" y=\"-38.6\" font-family=\"Times,serif\" font-size=\"8.00\"> 11</text>\n",
       "</g>\n",
       "<!--  0, 15, 12 -->\n",
       "<g id=\"node287\" class=\"node\">\n",
       "<title> 0, 15, 12</title>\n",
       "<polygon fill=\"none\" stroke=\"black\" points=\"134210,-18 134089.3,-9 134210,0 134330.7,-9 134210,-18\"/>\n",
       "<text text-anchor=\"middle\" x=\"134210\" y=\"-7.1\" font-family=\"Times,serif\" font-size=\"8.00\">&#45;3.046435224999999, 3.046435224999999</text>\n",
       "</g>\n",
       "<!--  0, 15&#45;&gt; 0, 15, 12 -->\n",
       "<g id=\"edge253\" class=\"edge\">\n",
       "<title> 0, 15&#45;&gt; 0, 15, 12</title>\n",
       "<path fill=\"none\" stroke=\"red\" d=\"M99292,-76.13C100590,-75.73 132530,-65.71 133460,-45 133740,-38.87 133810,-32.52 134080,-18 134100,-16.85 134130,-15.42 134150,-14.09\"/>\n",
       "<polygon fill=\"red\" stroke=\"red\" points=\"134151.75,-18.77 134150,-13.77 134148.25,-18.77 134151.75,-18.77\"/>\n",
       "<text text-anchor=\"middle\" x=\"133750\" y=\"-38.6\" font-family=\"Times,serif\" font-size=\"8.00\"> 12</text>\n",
       "</g>\n",
       "<!--  0, 15, 13 -->\n",
       "<g id=\"node288\" class=\"node\">\n",
       "<title> 0, 15, 13</title>\n",
       "<polygon fill=\"none\" stroke=\"black\" points=\"134480,-18 134353,-9 134480,0 134607,-9 134480,-18\"/>\n",
       "<text text-anchor=\"middle\" x=\"134480\" y=\"-7.1\" font-family=\"Times,serif\" font-size=\"8.00\">&#45;2.6913552249999992, 2.6913552249999992</text>\n",
       "</g>\n",
       "<!--  0, 15&#45;&gt; 0, 15, 13 -->\n",
       "<g id=\"edge254\" class=\"edge\">\n",
       "<title> 0, 15&#45;&gt; 0, 15, 13</title>\n",
       "<path fill=\"none\" stroke=\"red\" d=\"M99292,-76.13C100600,-75.78 132820,-67.04 133760,-45 134000,-39.3 134290,-22.17 134410,-14.18\"/>\n",
       "<polygon fill=\"red\" stroke=\"red\" points=\"134415.06,-15.77 134420,-13.86 134414.94,-12.27 134415.06,-15.77\"/>\n",
       "<text text-anchor=\"middle\" x=\"134000\" y=\"-38.6\" font-family=\"Times,serif\" font-size=\"8.00\"> 13</text>\n",
       "</g>\n",
       "<!--  0, 15, 14 -->\n",
       "<g id=\"node289\" class=\"node\">\n",
       "<title> 0, 15, 14</title>\n",
       "<polygon fill=\"none\" stroke=\"black\" points=\"134740,-18 134619.3,-9 134740,0 134860.7,-9 134740,-18\"/>\n",
       "<text text-anchor=\"middle\" x=\"134740\" y=\"-7.1\" font-family=\"Times,serif\" font-size=\"8.00\">&#45;2.031355224999999, 2.031355224999999</text>\n",
       "</g>\n",
       "<!--  0, 15&#45;&gt; 0, 15, 14 -->\n",
       "<g id=\"edge255\" class=\"edge\">\n",
       "<title> 0, 15&#45;&gt; 0, 15, 14</title>\n",
       "<path fill=\"none\" stroke=\"red\" d=\"M99292,-76.13C100610,-75.77 133060,-66.52 134010,-45 134260,-39.34 134550,-21.99 134680,-14.04\"/>\n",
       "<polygon fill=\"red\" stroke=\"red\" points=\"134681.75,-18.72 134680,-13.72 134678.25,-18.72 134681.75,-18.72\"/>\n",
       "<text text-anchor=\"middle\" x=\"134250\" y=\"-38.6\" font-family=\"Times,serif\" font-size=\"8.00\"> 14</text>\n",
       "</g>\n",
       "<!--  0, 15, 15 -->\n",
       "<g id=\"node290\" class=\"node\">\n",
       "<title> 0, 15, 15</title>\n",
       "<polygon fill=\"none\" stroke=\"black\" points=\"135010,-18 134883,-9 135010,0 135137,-9 135010,-18\"/>\n",
       "<text text-anchor=\"middle\" x=\"135010\" y=\"-7.1\" font-family=\"Times,serif\" font-size=\"8.00\">&#45;1.0664352249999987, 1.0664352249999987</text>\n",
       "</g>\n",
       "<!--  0, 15&#45;&gt; 0, 15, 15 -->\n",
       "<g id=\"edge256\" class=\"edge\">\n",
       "<title> 0, 15&#45;&gt; 0, 15, 15</title>\n",
       "<path fill=\"none\" stroke=\"red\" d=\"M99292,-76.13C100620,-75.77 133310,-66.57 134260,-45 134510,-39.32 134810,-22.1 134940,-14.13\"/>\n",
       "<polygon fill=\"red\" stroke=\"red\" points=\"134945.06,-15.72 134950,-13.8 134944.94,-12.22 134945.06,-15.72\"/>\n",
       "<text text-anchor=\"middle\" x=\"134510\" y=\"-38.6\" font-family=\"Times,serif\" font-size=\"8.00\"> 15</text>\n",
       "</g>\n",
       "<!--  1, 0 -->\n",
       "<g id=\"node17\" class=\"node\">\n",
       "<title> 1, 0</title>\n",
       "<ellipse fill=\"none\" stroke=\"red\" cx=\"35994\" cy=\"-77.14\" rx=\"41.02\" ry=\"14.29\"/>\n",
       "<text text-anchor=\"middle\" x=\"35994\" y=\"-79.74\" font-family=\"Times,serif\" font-size=\"8.00\">Current player: 1</text>\n",
       "<text text-anchor=\"middle\" x=\"35994\" y=\"-70.74\" font-family=\"Times,serif\" font-size=\"8.00\">us: op:</text>\n",
       "</g>\n",
       "<!--  1, 0, 0 -->\n",
       "<g id=\"node291\" class=\"node\">\n",
       "<title> 1, 0, 0</title>\n",
       "<polygon fill=\"none\" stroke=\"black\" points=\"120.6,-18 -0.1,-9 120.6,0 241.3,-9 120.6,-18\"/>\n",
       "<text text-anchor=\"middle\" x=\"120.6\" y=\"-7.1\" font-family=\"Times,serif\" font-size=\"8.00\">&#45;3.046435224999999, 3.046435224999999</text>\n",
       "</g>\n",
       "<!--  1, 0&#45;&gt; 1, 0, 0 -->\n",
       "<g id=\"edge257\" class=\"edge\">\n",
       "<title> 1, 0&#45;&gt; 1, 0, 0</title>\n",
       "<path fill=\"none\" stroke=\"red\" d=\"M35952,-76.14C34626,-76.01 1689,-72.44 729.6,-45 526.92,-39.2 286.76,-22.5 178.56,-14.45\"/>\n",
       "<polygon fill=\"red\" stroke=\"red\" points=\"178.62,-12.7 173.5,-14.07 178.35,-16.19 178.62,-12.7\"/>\n",
       "<text text-anchor=\"middle\" x=\"733.1\" y=\"-38.6\" font-family=\"Times,serif\" font-size=\"8.00\"> 0</text>\n",
       "</g>\n",
       "<!--  1, 0, 1 -->\n",
       "<g id=\"node292\" class=\"node\">\n",
       "<title> 1, 0, 1</title>\n",
       "<polygon fill=\"none\" stroke=\"black\" points=\"339.6,-18 259.1,-9 339.6,0 420.1,-9 339.6,-18\"/>\n",
       "<text text-anchor=\"middle\" x=\"339.6\" y=\"-7.1\" font-family=\"Times,serif\" font-size=\"8.00\">&#45;4.011355225, 4.011355225</text>\n",
       "</g>\n",
       "<!--  1, 0&#45;&gt; 1, 0, 1 -->\n",
       "<g id=\"edge258\" class=\"edge\">\n",
       "<title> 1, 0&#45;&gt; 1, 0, 1</title>\n",
       "<path fill=\"none\" stroke=\"red\" d=\"M35952,-76.13C34630,-75.77 1983.8,-66.67 1032.6,-45 763.96,-38.88 696.71,-36.03 428.6,-18 413.71,-17 397.45,-15.62 382.94,-14.29\"/>\n",
       "<polygon fill=\"red\" stroke=\"red\" points=\"382.82,-12.52 377.68,-13.8 382.5,-16.01 382.82,-12.52\"/>\n",
       "<text text-anchor=\"middle\" x=\"1036.1\" y=\"-38.6\" font-family=\"Times,serif\" font-size=\"8.00\"> 1</text>\n",
       "</g>\n",
       "<!--  1, 0, 2 -->\n",
       "<g id=\"node293\" class=\"node\">\n",
       "<title> 1, 0, 2</title>\n",
       "<polygon fill=\"none\" stroke=\"black\" points=\"558.6,-18 437.9,-9 558.6,0 679.3,-9 558.6,-18\"/>\n",
       "<text text-anchor=\"middle\" x=\"558.6\" y=\"-7.1\" font-family=\"Times,serif\" font-size=\"8.00\">&#45;4.671355224999999, 4.671355224999999</text>\n",
       "</g>\n",
       "<!--  1, 0&#45;&gt; 1, 0, 2 -->\n",
       "<g id=\"edge259\" class=\"edge\">\n",
       "<title> 1, 0&#45;&gt; 1, 0, 2</title>\n",
       "<path fill=\"none\" stroke=\"red\" d=\"M35953,-76.13C34639,-75.78 2227,-66.84 1282.6,-45 1037.5,-39.33 746.21,-22.02 620.93,-14.07\"/>\n",
       "<polygon fill=\"red\" stroke=\"red\" points=\"620.92,-12.32 615.82,-13.75 620.7,-15.81 620.92,-12.32\"/>\n",
       "<text text-anchor=\"middle\" x=\"1286.1\" y=\"-38.6\" font-family=\"Times,serif\" font-size=\"8.00\"> 2</text>\n",
       "</g>\n",
       "<!--  1, 0, 3 -->\n",
       "<g id=\"node294\" class=\"node\">\n",
       "<title> 1, 0, 3</title>\n",
       "<polygon fill=\"none\" stroke=\"black\" points=\"817.6,-18 696.9,-9 817.6,0 938.3,-9 817.6,-18\"/>\n",
       "<text text-anchor=\"middle\" x=\"817.6\" y=\"-7.1\" font-family=\"Times,serif\" font-size=\"8.00\">&#45;5.026435224999999, 5.026435224999999</text>\n",
       "</g>\n",
       "<!--  1, 0&#45;&gt; 1, 0, 3 -->\n",
       "<g id=\"edge260\" class=\"edge\">\n",
       "<title> 1, 0&#45;&gt; 1, 0, 3</title>\n",
       "<path fill=\"none\" stroke=\"red\" d=\"M35952,-76.13C34643,-75.72 2512.9,-65.48 1576.6,-45 1296.4,-38.87 1226.5,-32.67 946.6,-18 924.82,-16.86 900.98,-15.43 879.78,-14.1\"/>\n",
       "<polygon fill=\"red\" stroke=\"red\" points=\"879.84,-12.35 874.74,-13.78 879.62,-15.84 879.84,-12.35\"/>\n",
       "<text text-anchor=\"middle\" x=\"1580.1\" y=\"-38.6\" font-family=\"Times,serif\" font-size=\"8.00\"> 3</text>\n",
       "</g>\n",
       "<!--  1, 0, 4 -->\n",
       "<g id=\"node295\" class=\"node\">\n",
       "<title> 1, 0, 4</title>\n",
       "<polygon fill=\"none\" stroke=\"black\" points=\"1082.6,-18 955.6,-9 1082.6,0 1209.6,-9 1082.6,-18\"/>\n",
       "<text text-anchor=\"middle\" x=\"1082.6\" y=\"-7.1\" font-family=\"Times,serif\" font-size=\"8.00\">&#45;2.9777952249999995, 2.9777952249999995</text>\n",
       "</g>\n",
       "<!--  1, 0&#45;&gt; 1, 0, 4 -->\n",
       "<g id=\"edge261\" class=\"edge\">\n",
       "<title> 1, 0&#45;&gt; 1, 0, 4</title>\n",
       "<path fill=\"none\" stroke=\"red\" d=\"M35952,-76.13C34645,-75.73 2764.7,-65.74 1835.6,-45 1581,-39.32 1278.5,-22.06 1147.9,-14.1\"/>\n",
       "<polygon fill=\"red\" stroke=\"red\" points=\"1147.7,-12.33 1142.6,-13.77 1147.48,-15.83 1147.7,-12.33\"/>\n",
       "<text text-anchor=\"middle\" x=\"1839.1\" y=\"-38.6\" font-family=\"Times,serif\" font-size=\"8.00\"> 4</text>\n",
       "</g>\n",
       "<!--  1, 0, 5 -->\n",
       "<g id=\"node296\" class=\"node\">\n",
       "<title> 1, 0, 5</title>\n",
       "<polygon fill=\"none\" stroke=\"black\" points=\"1354.6,-18 1227.6,-9 1354.6,0 1481.6,-9 1354.6,-18\"/>\n",
       "<text text-anchor=\"middle\" x=\"1354.6\" y=\"-7.1\" font-family=\"Times,serif\" font-size=\"8.00\">&#45;3.9427152249999993, 3.9427152249999993</text>\n",
       "</g>\n",
       "<!--  1, 0&#45;&gt; 1, 0, 5 -->\n",
       "<g id=\"edge262\" class=\"edge\">\n",
       "<title> 1, 0&#45;&gt; 1, 0, 5</title>\n",
       "<path fill=\"none\" stroke=\"red\" d=\"M35953,-76.13C34655,-75.75 3010.8,-66.2 2088.6,-45 1841.1,-39.31 1547,-22.14 1419.2,-14.16\"/>\n",
       "<polygon fill=\"red\" stroke=\"red\" points=\"1419.1,-12.4 1414,-13.83 1418.88,-15.89 1419.1,-12.4\"/>\n",
       "<text text-anchor=\"middle\" x=\"2092.1\" y=\"-38.6\" font-family=\"Times,serif\" font-size=\"8.00\"> 5</text>\n",
       "</g>\n",
       "<!--  1, 0, 6 -->\n",
       "<g id=\"node297\" class=\"node\">\n",
       "<title> 1, 0, 6</title>\n",
       "<polygon fill=\"none\" stroke=\"black\" points=\"1619.6,-18 1498.9,-9 1619.6,0 1740.3,-9 1619.6,-18\"/>\n",
       "<text text-anchor=\"middle\" x=\"1619.6\" y=\"-7.1\" font-family=\"Times,serif\" font-size=\"8.00\">&#45;4.602715224999999, 4.602715224999999</text>\n",
       "</g>\n",
       "<!--  1, 0&#45;&gt; 1, 0, 6 -->\n",
       "<g id=\"edge263\" class=\"edge\">\n",
       "<title> 1, 0&#45;&gt; 1, 0, 6</title>\n",
       "<path fill=\"none\" stroke=\"red\" d=\"M35952,-76.13C34657,-75.76 3251,-66.47 2335.6,-45 2093.5,-39.32 1805.9,-22.06 1681.7,-14.1\"/>\n",
       "<polygon fill=\"red\" stroke=\"red\" points=\"1681.7,-12.35 1676.6,-13.78 1681.48,-15.84 1681.7,-12.35\"/>\n",
       "<text text-anchor=\"middle\" x=\"2339.1\" y=\"-38.6\" font-family=\"Times,serif\" font-size=\"8.00\"> 6</text>\n",
       "</g>\n",
       "<!--  1, 0, 7 -->\n",
       "<g id=\"node298\" class=\"node\">\n",
       "<title> 1, 0, 7</title>\n",
       "<polygon fill=\"none\" stroke=\"black\" points=\"1878.6,-18 1757.9,-9 1878.6,0 1999.3,-9 1878.6,-18\"/>\n",
       "<text text-anchor=\"middle\" x=\"1878.6\" y=\"-7.1\" font-family=\"Times,serif\" font-size=\"8.00\">&#45;4.957795224999999, 4.957795224999999</text>\n",
       "</g>\n",
       "<!--  1, 0&#45;&gt; 1, 0, 7 -->\n",
       "<g id=\"edge264\" class=\"edge\">\n",
       "<title> 1, 0&#45;&gt; 1, 0, 7</title>\n",
       "<path fill=\"none\" stroke=\"red\" d=\"M35952,-76.13C34661,-75.71 3530.1,-65.33 2622.6,-45 2349.1,-38.87 2280.8,-32.47 2007.6,-18 1985.8,-16.85 1962,-15.42 1940.8,-14.08\"/>\n",
       "<polygon fill=\"red\" stroke=\"red\" points=\"1940.8,-12.33 1935.7,-13.77 1940.58,-15.82 1940.8,-12.33\"/>\n",
       "<text text-anchor=\"middle\" x=\"2626.1\" y=\"-38.6\" font-family=\"Times,serif\" font-size=\"8.00\"> 7</text>\n",
       "</g>\n",
       "<!--  1, 0, 8 -->\n",
       "<g id=\"node299\" class=\"node\">\n",
       "<title> 1, 0, 8</title>\n",
       "<polygon fill=\"none\" stroke=\"black\" points=\"2137.6,-18 2016.9,-9 2137.6,0 2258.3,-9 2137.6,-18\"/>\n",
       "<text text-anchor=\"middle\" x=\"2137.6\" y=\"-7.1\" font-family=\"Times,serif\" font-size=\"8.00\">&#45;2.647795224999999, 2.647795224999999</text>\n",
       "</g>\n",
       "<!--  1, 0&#45;&gt; 1, 0, 8 -->\n",
       "<g id=\"edge265\" class=\"edge\">\n",
       "<title> 1, 0&#45;&gt; 1, 0, 8</title>\n",
       "<path fill=\"none\" stroke=\"red\" d=\"M35953,-76.13C34671,-75.71 3778.2,-65.31 2877.6,-45 2626.8,-39.34 2328.6,-21.99 2200.8,-14.05\"/>\n",
       "<polygon fill=\"red\" stroke=\"red\" points=\"2200.7,-12.29 2195.6,-13.72 2200.48,-15.78 2200.7,-12.29\"/>\n",
       "<text text-anchor=\"middle\" x=\"2881.1\" y=\"-38.6\" font-family=\"Times,serif\" font-size=\"8.00\"> 8</text>\n",
       "</g>\n",
       "<!--  1, 0, 9 -->\n",
       "<g id=\"node300\" class=\"node\">\n",
       "<title> 1, 0, 9</title>\n",
       "<polygon fill=\"none\" stroke=\"black\" points=\"2396.6,-18 2275.9,-9 2396.6,0 2517.3,-9 2396.6,-18\"/>\n",
       "<text text-anchor=\"middle\" x=\"2396.6\" y=\"-7.1\" font-family=\"Times,serif\" font-size=\"8.00\">&#45;3.612715224999999, 3.612715224999999</text>\n",
       "</g>\n",
       "<!--  1, 0&#45;&gt; 1, 0, 9 -->\n",
       "<g id=\"edge266\" class=\"edge\">\n",
       "<title> 1, 0&#45;&gt; 1, 0, 9</title>\n",
       "<path fill=\"none\" stroke=\"red\" d=\"M35952,-76.13C34673,-75.7 4024.2,-65.35 3130.6,-45 2881.8,-39.33 2586.1,-21.98 2459.3,-14.04\"/>\n",
       "<polygon fill=\"red\" stroke=\"red\" points=\"2459.2,-12.28 2454.1,-13.72 2458.98,-15.78 2459.2,-12.28\"/>\n",
       "<text text-anchor=\"middle\" x=\"3134.1\" y=\"-38.6\" font-family=\"Times,serif\" font-size=\"8.00\"> 9</text>\n",
       "</g>\n",
       "<!--  1, 0, 10 -->\n",
       "<g id=\"node301\" class=\"node\">\n",
       "<title> 1, 0, 10</title>\n",
       "<polygon fill=\"none\" stroke=\"black\" points=\"2655.6,-18 2534.9,-9 2655.6,0 2776.3,-9 2655.6,-18\"/>\n",
       "<text text-anchor=\"middle\" x=\"2655.6\" y=\"-7.1\" font-family=\"Times,serif\" font-size=\"8.00\">&#45;4.272715224999999, 4.272715224999999</text>\n",
       "</g>\n",
       "<!--  1, 0&#45;&gt; 1, 0, 10 -->\n",
       "<g id=\"edge267\" class=\"edge\">\n",
       "<title> 1, 0&#45;&gt; 1, 0, 10</title>\n",
       "<path fill=\"none\" stroke=\"red\" d=\"M35952,-76.13C34676,-75.71 4267.3,-65.5 3380.6,-45 3135.2,-39.33 2843.5,-22.02 2718,-14.07\"/>\n",
       "<polygon fill=\"red\" stroke=\"red\" points=\"2718,-12.32 2712.9,-13.75 2717.78,-15.81 2718,-12.32\"/>\n",
       "<text text-anchor=\"middle\" x=\"3385.6\" y=\"-38.6\" font-family=\"Times,serif\" font-size=\"8.00\"> 10</text>\n",
       "</g>\n",
       "<!--  1, 0, 11 -->\n",
       "<g id=\"node302\" class=\"node\">\n",
       "<title> 1, 0, 11</title>\n",
       "<polygon fill=\"none\" stroke=\"black\" points=\"2914.6,-18 2793.9,-9 2914.6,0 3035.3,-9 2914.6,-18\"/>\n",
       "<text text-anchor=\"middle\" x=\"2914.6\" y=\"-7.1\" font-family=\"Times,serif\" font-size=\"8.00\">&#45;4.627795224999999, 4.627795224999999</text>\n",
       "</g>\n",
       "<!--  1, 0&#45;&gt; 1, 0, 11 -->\n",
       "<g id=\"edge268\" class=\"edge\">\n",
       "<title> 1, 0&#45;&gt; 1, 0, 11</title>\n",
       "<path fill=\"none\" stroke=\"red\" d=\"M35952,-76.15C34703,-76.45 5437,-83.05 3680.6,-45 3397.3,-38.86 3326.6,-32.77 3043.6,-18 3021.7,-16.86 2997.7,-15.42 2976.5,-14.08\"/>\n",
       "<polygon fill=\"red\" stroke=\"red\" points=\"2976.5,-12.33 2971.4,-13.76 2976.28,-15.82 2976.5,-12.33\"/>\n",
       "<text text-anchor=\"middle\" x=\"3685.6\" y=\"-38.6\" font-family=\"Times,serif\" font-size=\"8.00\"> 11</text>\n",
       "</g>\n",
       "<!--  1, 0, 12 -->\n",
       "<g id=\"node303\" class=\"node\">\n",
       "<title> 1, 0, 12</title>\n",
       "<polygon fill=\"none\" stroke=\"black\" points=\"3179.6,-18 3052.6,-9 3179.6,0 3306.6,-9 3179.6,-18\"/>\n",
       "<text text-anchor=\"middle\" x=\"3179.6\" y=\"-7.1\" font-family=\"Times,serif\" font-size=\"8.00\">&#45;2.0564352249999986, 2.0564352249999986</text>\n",
       "</g>\n",
       "<!--  1, 0&#45;&gt; 1, 0, 12 -->\n",
       "<g id=\"edge269\" class=\"edge\">\n",
       "<title> 1, 0&#45;&gt; 1, 0, 12</title>\n",
       "<path fill=\"none\" stroke=\"red\" d=\"M35952,-76.15C34706,-76.45 5689.3,-83.03 3947.6,-45 3687.4,-39.32 3378,-21.99 3245.3,-14.05\"/>\n",
       "<polygon fill=\"red\" stroke=\"red\" points=\"3245.4,-12.3 3240.3,-13.75 3245.18,-15.79 3245.4,-12.3\"/>\n",
       "<text text-anchor=\"middle\" x=\"3952.6\" y=\"-38.6\" font-family=\"Times,serif\" font-size=\"8.00\"> 12</text>\n",
       "</g>\n",
       "<!--  1, 0, 13 -->\n",
       "<g id=\"node304\" class=\"node\">\n",
       "<title> 1, 0, 13</title>\n",
       "<polygon fill=\"none\" stroke=\"black\" points=\"3451.6,-18 3324.6,-9 3451.6,0 3578.6,-9 3451.6,-18\"/>\n",
       "<text text-anchor=\"middle\" x=\"3451.6\" y=\"-7.1\" font-family=\"Times,serif\" font-size=\"8.00\">&#45;3.0213552249999993, 3.0213552249999993</text>\n",
       "</g>\n",
       "<!--  1, 0&#45;&gt; 1, 0, 13 -->\n",
       "<g id=\"edge270\" class=\"edge\">\n",
       "<title> 1, 0&#45;&gt; 1, 0, 13</title>\n",
       "<path fill=\"none\" stroke=\"red\" d=\"M35953,-76.15C34717,-76.46 5938.9,-83.2 4211.6,-45 3954.4,-39.31 3648.5,-22.01 3517,-14.07\"/>\n",
       "<polygon fill=\"red\" stroke=\"red\" points=\"3516.8,-12.3 3511.7,-13.74 3516.58,-15.8 3516.8,-12.3\"/>\n",
       "<text text-anchor=\"middle\" x=\"4216.6\" y=\"-38.6\" font-family=\"Times,serif\" font-size=\"8.00\"> 13</text>\n",
       "</g>\n",
       "<!--  1, 0, 14 -->\n",
       "<g id=\"node305\" class=\"node\">\n",
       "<title> 1, 0, 14</title>\n",
       "<polygon fill=\"none\" stroke=\"black\" points=\"3723.6,-18 3596.6,-9 3723.6,0 3850.6,-9 3723.6,-18\"/>\n",
       "<text text-anchor=\"middle\" x=\"3723.6\" y=\"-7.1\" font-family=\"Times,serif\" font-size=\"8.00\">&#45;3.6813552249999995, 3.6813552249999995</text>\n",
       "</g>\n",
       "<!--  1, 0&#45;&gt; 1, 0, 14 -->\n",
       "<g id=\"edge271\" class=\"edge\">\n",
       "<title> 1, 0&#45;&gt; 1, 0, 14</title>\n",
       "<path fill=\"none\" stroke=\"red\" d=\"M35952,-76.15C34720,-76.47 6185.5,-83.49 4472.6,-45 4219.4,-39.31 3918.5,-22.05 3788.6,-14.1\"/>\n",
       "<polygon fill=\"red\" stroke=\"red\" points=\"3788.4,-12.33 3783.3,-13.77 3788.18,-15.83 3788.4,-12.33\"/>\n",
       "<text text-anchor=\"middle\" x=\"4477.6\" y=\"-38.6\" font-family=\"Times,serif\" font-size=\"8.00\"> 14</text>\n",
       "</g>\n",
       "<!--  1, 0, 15 -->\n",
       "<g id=\"node306\" class=\"node\">\n",
       "<title> 1, 0, 15</title>\n",
       "<polygon fill=\"none\" stroke=\"black\" points=\"3988.6,-18 3867.9,-9 3988.6,0 4109.3,-9 3988.6,-18\"/>\n",
       "<text text-anchor=\"middle\" x=\"3988.6\" y=\"-7.1\" font-family=\"Times,serif\" font-size=\"8.00\">&#45;4.036435224999999, 4.036435224999999</text>\n",
       "</g>\n",
       "<!--  1, 0&#45;&gt; 1, 0, 15 -->\n",
       "<g id=\"edge272\" class=\"edge\">\n",
       "<title> 1, 0&#45;&gt; 1, 0, 15</title>\n",
       "<path fill=\"none\" stroke=\"red\" d=\"M35952,-76.15C34724,-76.46 6430.2,-83.18 4731.6,-45 4479.8,-39.34 4180.4,-21.99 4052.1,-14.04\"/>\n",
       "<polygon fill=\"red\" stroke=\"red\" points=\"4051.9,-12.28 4046.8,-13.72 4051.68,-15.77 4051.9,-12.28\"/>\n",
       "<text text-anchor=\"middle\" x=\"4736.6\" y=\"-38.6\" font-family=\"Times,serif\" font-size=\"8.00\"> 15</text>\n",
       "</g>\n",
       "<!--  1, 1 -->\n",
       "<g id=\"node18\" class=\"node\">\n",
       "<title> 1, 1</title>\n",
       "<ellipse fill=\"none\" stroke=\"red\" cx=\"36094\" cy=\"-77.14\" rx=\"41.02\" ry=\"14.29\"/>\n",
       "<text text-anchor=\"middle\" x=\"36094\" y=\"-79.74\" font-family=\"Times,serif\" font-size=\"8.00\">Current player: 1</text>\n",
       "<text text-anchor=\"middle\" x=\"36094\" y=\"-70.74\" font-family=\"Times,serif\" font-size=\"8.00\">us: op:</text>\n",
       "</g>\n",
       "<!--  1, 1, 0 -->\n",
       "<g id=\"node307\" class=\"node\">\n",
       "<title> 1, 1, 0</title>\n",
       "<polygon fill=\"none\" stroke=\"black\" points=\"4253.6,-18 4126.6,-9 4253.6,0 4380.6,-9 4253.6,-18\"/>\n",
       "<text text-anchor=\"middle\" x=\"4253.6\" y=\"-7.1\" font-family=\"Times,serif\" font-size=\"8.00\">&#45;1.4486508305555552, 1.4486508305555552</text>\n",
       "</g>\n",
       "<!--  1, 1&#45;&gt; 1, 1, 0 -->\n",
       "<g id=\"edge273\" class=\"edge\">\n",
       "<title> 1, 1&#45;&gt; 1, 1, 0</title>\n",
       "<path fill=\"none\" stroke=\"red\" d=\"M36072,-64.92C36064,-60.95 36053,-56.99 36044,-55 35991,-44.28 5041.5,-46.22 4987.6,-45 4740.1,-39.38 4446,-22.17 4318.2,-14.17\"/>\n",
       "<polygon fill=\"red\" stroke=\"red\" points=\"4318.1,-12.41 4313,-13.84 4317.88,-15.9 4318.1,-12.41\"/>\n",
       "<text text-anchor=\"middle\" x=\"4991.1\" y=\"-38.6\" font-family=\"Times,serif\" font-size=\"8.00\"> 0</text>\n",
       "</g>\n",
       "<!--  1, 1, 1 -->\n",
       "<g id=\"node308\" class=\"node\">\n",
       "<title> 1, 1, 1</title>\n",
       "<polygon fill=\"none\" stroke=\"black\" points=\"4518.6,-18 4397.9,-9 4518.6,0 4639.3,-9 4518.6,-18\"/>\n",
       "<text text-anchor=\"middle\" x=\"4518.6\" y=\"-7.1\" font-family=\"Times,serif\" font-size=\"8.00\">&#45;2.413570830555556, 2.413570830555556</text>\n",
       "</g>\n",
       "<!--  1, 1&#45;&gt; 1, 1, 1 -->\n",
       "<g id=\"edge274\" class=\"edge\">\n",
       "<title> 1, 1&#45;&gt; 1, 1, 1</title>\n",
       "<path fill=\"none\" stroke=\"red\" d=\"M36072,-64.92C36064,-60.95 36053,-56.99 36044,-55 35991,-44.38 5338,-46.14 5284.6,-45 5001.3,-38.95 4930.6,-32.77 4647.6,-18 4625.7,-16.86 4601.7,-15.42 4580.5,-14.08\"/>\n",
       "<polygon fill=\"red\" stroke=\"red\" points=\"4580.5,-12.33 4575.4,-13.76 4580.28,-15.82 4580.5,-12.33\"/>\n",
       "<text text-anchor=\"middle\" x=\"5288.1\" y=\"-38.6\" font-family=\"Times,serif\" font-size=\"8.00\"> 1</text>\n",
       "</g>\n",
       "<!--  1, 1, 2 -->\n",
       "<g id=\"node309\" class=\"node\">\n",
       "<title> 1, 1, 2</title>\n",
       "<polygon fill=\"none\" stroke=\"black\" points=\"4783.6,-18 4656.6,-9 4783.6,0 4910.6,-9 4783.6,-18\"/>\n",
       "<text text-anchor=\"middle\" x=\"4783.6\" y=\"-7.1\" font-family=\"Times,serif\" font-size=\"8.00\">&#45;3.0735708305555556, 3.0735708305555556</text>\n",
       "</g>\n",
       "<!--  1, 1&#45;&gt; 1, 1, 2 -->\n",
       "<g id=\"edge275\" class=\"edge\">\n",
       "<title> 1, 1&#45;&gt; 1, 1, 2</title>\n",
       "<path fill=\"none\" stroke=\"red\" d=\"M36072,-64.92C36064,-60.95 36053,-56.99 36044,-55 35992,-44.47 5600.5,-46.15 5547.6,-45 5288.8,-39.4 4981,-22.02 4849,-14.06\"/>\n",
       "<polygon fill=\"red\" stroke=\"red\" points=\"4849.1,-12.31 4844,-13.76 4848.88,-15.81 4849.1,-12.31\"/>\n",
       "<text text-anchor=\"middle\" x=\"5551.1\" y=\"-38.6\" font-family=\"Times,serif\" font-size=\"8.00\"> 2</text>\n",
       "</g>\n",
       "<!--  1, 1, 3 -->\n",
       "<g id=\"node310\" class=\"node\">\n",
       "<title> 1, 1, 3</title>\n",
       "<polygon fill=\"none\" stroke=\"black\" points=\"5055.6,-18 4928.6,-9 5055.6,0 5182.6,-9 5055.6,-18\"/>\n",
       "<text text-anchor=\"middle\" x=\"5055.6\" y=\"-7.1\" font-family=\"Times,serif\" font-size=\"8.00\">&#45;3.4286508305555556, 3.4286508305555556</text>\n",
       "</g>\n",
       "<!--  1, 1&#45;&gt; 1, 1, 3 -->\n",
       "<g id=\"edge276\" class=\"edge\">\n",
       "<title> 1, 1&#45;&gt; 1, 1, 3</title>\n",
       "<path fill=\"none\" stroke=\"red\" d=\"M36072,-64.92C36064,-60.95 36053,-56.99 36044,-55 35992,-44.56 5858.1,-46.16 5805.6,-45 5552.1,-39.39 5250.7,-22.09 5120.7,-14.11\"/>\n",
       "<polygon fill=\"red\" stroke=\"red\" points=\"5120.5,-12.35 5115.4,-13.79 5120.28,-15.84 5120.5,-12.35\"/>\n",
       "<text text-anchor=\"middle\" x=\"5809.1\" y=\"-38.6\" font-family=\"Times,serif\" font-size=\"8.00\"> 3</text>\n",
       "</g>\n",
       "<!--  1, 1, 4 -->\n",
       "<g id=\"node311\" class=\"node\">\n",
       "<title> 1, 1, 4</title>\n",
       "<polygon fill=\"none\" stroke=\"black\" points=\"5327.6,-18 5200.6,-9 5327.6,0 5454.6,-9 5327.6,-18\"/>\n",
       "<text text-anchor=\"middle\" x=\"5327.6\" y=\"-7.1\" font-family=\"Times,serif\" font-size=\"8.00\">&#45;1.3800108305555554, 1.3800108305555554</text>\n",
       "</g>\n",
       "<!--  1, 1&#45;&gt; 1, 1, 4 -->\n",
       "<g id=\"edge277\" class=\"edge\">\n",
       "<title> 1, 1&#45;&gt; 1, 1, 4</title>\n",
       "<path fill=\"none\" stroke=\"red\" d=\"M36072,-64.92C36064,-60.95 36053,-56.99 36044,-55 35993,-44.65 6108.6,-46.19 6056.6,-45 5810.8,-39.38 5518.7,-22.17 5391.8,-14.17\"/>\n",
       "<polygon fill=\"red\" stroke=\"red\" points=\"5391.7,-12.41 5386.6,-13.84 5391.48,-15.9 5391.7,-12.41\"/>\n",
       "<text text-anchor=\"middle\" x=\"6060.1\" y=\"-38.6\" font-family=\"Times,serif\" font-size=\"8.00\"> 4</text>\n",
       "</g>\n",
       "<!--  1, 1, 5 -->\n",
       "<g id=\"node312\" class=\"node\">\n",
       "<title> 1, 1, 5</title>\n",
       "<polygon fill=\"none\" stroke=\"black\" points=\"5592.6,-18 5471.9,-9 5592.6,0 5713.3,-9 5592.6,-18\"/>\n",
       "<text text-anchor=\"middle\" x=\"5592.6\" y=\"-7.1\" font-family=\"Times,serif\" font-size=\"8.00\">&#45;2.344930830555555, 2.344930830555555</text>\n",
       "</g>\n",
       "<!--  1, 1&#45;&gt; 1, 1, 5 -->\n",
       "<g id=\"edge278\" class=\"edge\">\n",
       "<title> 1, 1&#45;&gt; 1, 1, 5</title>\n",
       "<path fill=\"none\" stroke=\"red\" d=\"M36072,-64.92C36064,-60.95 36053,-56.99 36044,-55 35993,-44.74 6383.2,-46.15 6331.6,-45 6081.1,-39.42 5783.3,-22.02 5655.7,-14.06\"/>\n",
       "<polygon fill=\"red\" stroke=\"red\" points=\"5655.6,-12.3 5650.5,-13.73 5655.38,-15.79 5655.6,-12.3\"/>\n",
       "<text text-anchor=\"middle\" x=\"6335.1\" y=\"-38.6\" font-family=\"Times,serif\" font-size=\"8.00\"> 5</text>\n",
       "</g>\n",
       "<!--  1, 1, 6 -->\n",
       "<g id=\"node313\" class=\"node\">\n",
       "<title> 1, 1, 6</title>\n",
       "<polygon fill=\"none\" stroke=\"black\" points=\"5857.6,-18 5730.6,-9 5857.6,0 5984.6,-9 5857.6,-18\"/>\n",
       "<text text-anchor=\"middle\" x=\"5857.6\" y=\"-7.1\" font-family=\"Times,serif\" font-size=\"8.00\">&#45;3.0049308305555553, 3.0049308305555553</text>\n",
       "</g>\n",
       "<!--  1, 1&#45;&gt; 1, 1, 6 -->\n",
       "<g id=\"edge279\" class=\"edge\">\n",
       "<title> 1, 1&#45;&gt; 1, 1, 6</title>\n",
       "<path fill=\"none\" stroke=\"red\" d=\"M36072,-64.92C36064,-60.95 36053,-56.99 36044,-55 35993,-44.83 6631.7,-46.18 6580.6,-45 6337.1,-39.37 6047.9,-22.2 5921.8,-14.2\"/>\n",
       "<polygon fill=\"red\" stroke=\"red\" points=\"5921.7,-12.44 5916.6,-13.87 5921.48,-15.93 5921.7,-12.44\"/>\n",
       "<text text-anchor=\"middle\" x=\"6584.1\" y=\"-38.6\" font-family=\"Times,serif\" font-size=\"8.00\"> 6</text>\n",
       "</g>\n",
       "<!--  1, 1, 7 -->\n",
       "<g id=\"node314\" class=\"node\">\n",
       "<title> 1, 1, 7</title>\n",
       "<polygon fill=\"none\" stroke=\"black\" points=\"6122.6,-18 6001.9,-9 6122.6,0 6243.3,-9 6122.6,-18\"/>\n",
       "<text text-anchor=\"middle\" x=\"6122.6\" y=\"-7.1\" font-family=\"Times,serif\" font-size=\"8.00\">&#45;3.360010830555555, 3.360010830555555</text>\n",
       "</g>\n",
       "<!--  1, 1&#45;&gt; 1, 1, 7 -->\n",
       "<g id=\"edge280\" class=\"edge\">\n",
       "<title> 1, 1&#45;&gt; 1, 1, 7</title>\n",
       "<path fill=\"none\" stroke=\"red\" d=\"M36072,-64.92C36064,-60.95 36053,-56.99 36044,-55 35994,-44.93 6920.2,-46.11 6869.6,-45 6594.7,-38.95 6526.1,-32.51 6251.6,-18 6229.8,-16.85 6206,-15.42 6184.8,-14.09\"/>\n",
       "<polygon fill=\"red\" stroke=\"red\" points=\"6184.8,-12.33 6179.7,-13.77 6184.58,-15.83 6184.8,-12.33\"/>\n",
       "<text text-anchor=\"middle\" x=\"6873.1\" y=\"-38.6\" font-family=\"Times,serif\" font-size=\"8.00\"> 7</text>\n",
       "</g>\n",
       "<!--  1, 1, 8 -->\n",
       "<g id=\"node315\" class=\"node\">\n",
       "<title> 1, 1, 8</title>\n",
       "<polygon fill=\"none\" stroke=\"black\" points=\"6387.6,-18 6260.6,-9 6387.6,0 6514.6,-9 6387.6,-18\"/>\n",
       "<text text-anchor=\"middle\" x=\"6387.6\" y=\"-7.1\" font-family=\"Times,serif\" font-size=\"8.00\">&#45;1.0500108305555549, 1.0500108305555549</text>\n",
       "</g>\n",
       "<!--  1, 1&#45;&gt; 1, 1, 8 -->\n",
       "<g id=\"edge281\" class=\"edge\">\n",
       "<title> 1, 1&#45;&gt; 1, 1, 8</title>\n",
       "<path fill=\"none\" stroke=\"red\" d=\"M36072,-64.92C36064,-60.95 36053,-56.99 36044,-55 35994,-45.02 7172.8,-46.14 7122.6,-45 6874.4,-39.38 6579.6,-22.13 6451.8,-14.14\"/>\n",
       "<polygon fill=\"red\" stroke=\"red\" points=\"6451.7,-12.38 6446.6,-13.81 6451.48,-15.87 6451.7,-12.38\"/>\n",
       "<text text-anchor=\"middle\" x=\"7126.1\" y=\"-38.6\" font-family=\"Times,serif\" font-size=\"8.00\"> 8</text>\n",
       "</g>\n",
       "<!--  1, 1, 9 -->\n",
       "<g id=\"node316\" class=\"node\">\n",
       "<title> 1, 1, 9</title>\n",
       "<polygon fill=\"none\" stroke=\"black\" points=\"6652.6,-18 6531.9,-9 6652.6,0 6773.3,-9 6652.6,-18\"/>\n",
       "<text text-anchor=\"middle\" x=\"6652.6\" y=\"-7.1\" font-family=\"Times,serif\" font-size=\"8.00\">&#45;2.014930830555555, 2.014930830555555</text>\n",
       "</g>\n",
       "<!--  1, 1&#45;&gt; 1, 1, 9 -->\n",
       "<g id=\"edge282\" class=\"edge\">\n",
       "<title> 1, 1&#45;&gt; 1, 1, 9</title>\n",
       "<path fill=\"none\" stroke=\"red\" d=\"M36072,-64.92C36064,-60.95 36053,-56.99 36044,-55 35995,-45.12 7470.3,-46.06 7420.6,-45 7136.4,-38.95 7065.5,-32.8 6781.6,-18 6759.7,-16.86 6735.7,-15.42 6714.5,-14.09\"/>\n",
       "<polygon fill=\"red\" stroke=\"red\" points=\"6714.5,-12.33 6709.4,-13.77 6714.28,-15.83 6714.5,-12.33\"/>\n",
       "<text text-anchor=\"middle\" x=\"7424.1\" y=\"-38.6\" font-family=\"Times,serif\" font-size=\"8.00\"> 9</text>\n",
       "</g>\n",
       "<!--  1, 1, 10 -->\n",
       "<g id=\"node317\" class=\"node\">\n",
       "<title> 1, 1, 10</title>\n",
       "<polygon fill=\"none\" stroke=\"black\" points=\"6917.6,-18 6790.6,-9 6917.6,0 7044.6,-9 6917.6,-18\"/>\n",
       "<text text-anchor=\"middle\" x=\"6917.6\" y=\"-7.1\" font-family=\"Times,serif\" font-size=\"8.00\">&#45;2.6749308305555553, 2.6749308305555553</text>\n",
       "</g>\n",
       "<!--  1, 1&#45;&gt; 1, 1, 10 -->\n",
       "<g id=\"edge283\" class=\"edge\">\n",
       "<title> 1, 1&#45;&gt; 1, 1, 10</title>\n",
       "<path fill=\"none\" stroke=\"red\" d=\"M36072,-64.92C36064,-60.95 36053,-56.99 36044,-55 35995,-45.21 7732.8,-46.06 7683.6,-45 7424.1,-39.4 7115.5,-22.02 6983.2,-14.06\"/>\n",
       "<polygon fill=\"red\" stroke=\"red\" points=\"6983.19,-12.31 6978.1,-13.76 6982.99,-15.8 6983.19,-12.31\"/>\n",
       "<text text-anchor=\"middle\" x=\"7688.6\" y=\"-38.6\" font-family=\"Times,serif\" font-size=\"8.00\"> 10</text>\n",
       "</g>\n",
       "<!--  1, 1, 11 -->\n",
       "<g id=\"node318\" class=\"node\">\n",
       "<title> 1, 1, 11</title>\n",
       "<polygon fill=\"none\" stroke=\"black\" points=\"7189.6,-18 7062.6,-9 7189.6,0 7316.6,-9 7189.6,-18\"/>\n",
       "<text text-anchor=\"middle\" x=\"7189.6\" y=\"-7.1\" font-family=\"Times,serif\" font-size=\"8.00\">&#45;3.0300108305555553, 3.0300108305555553</text>\n",
       "</g>\n",
       "<!--  1, 1&#45;&gt; 1, 1, 11 -->\n",
       "<g id=\"edge284\" class=\"edge\">\n",
       "<title> 1, 1&#45;&gt; 1, 1, 11</title>\n",
       "<path fill=\"none\" stroke=\"red\" d=\"M36072,-64.92C36064,-60.95 36053,-56.99 36044,-55 35996,-45.3 7996.4,-46.07 7947.6,-45 7691,-39.39 7386,-22.05 7254.9,-14.08\"/>\n",
       "<polygon fill=\"red\" stroke=\"red\" points=\"7254.6,-12.31 7249.5,-13.76 7254.38,-15.8 7254.6,-12.31\"/>\n",
       "<text text-anchor=\"middle\" x=\"7952.6\" y=\"-38.6\" font-family=\"Times,serif\" font-size=\"8.00\"> 11</text>\n",
       "</g>\n",
       "<!--  1, 1, 12 -->\n",
       "<g id=\"node319\" class=\"node\">\n",
       "<title> 1, 1, 12</title>\n",
       "<polygon fill=\"none\" stroke=\"black\" points=\"7461.6,-18 7334.6,-9 7461.6,0 7588.6,-9 7461.6,-18\"/>\n",
       "<text text-anchor=\"middle\" x=\"7461.6\" y=\"-7.1\" font-family=\"Times,serif\" font-size=\"8.00\">&#45;0.4586508305555549, 0.4586508305555549</text>\n",
       "</g>\n",
       "<!--  1, 1&#45;&gt; 1, 1, 12 -->\n",
       "<g id=\"edge285\" class=\"edge\">\n",
       "<title> 1, 1&#45;&gt; 1, 1, 12</title>\n",
       "<path fill=\"none\" stroke=\"red\" d=\"M36072,-64.92C36064,-60.95 36053,-56.99 36044,-55 35996,-45.39 8254.9,-46.08 8206.6,-45 7955.1,-39.38 7656.2,-22.13 7526.7,-14.14\"/>\n",
       "<polygon fill=\"red\" stroke=\"red\" points=\"7526.5,-12.37 7521.4,-13.81 7526.28,-15.87 7526.5,-12.37\"/>\n",
       "<text text-anchor=\"middle\" x=\"8211.6\" y=\"-38.6\" font-family=\"Times,serif\" font-size=\"8.00\"> 12</text>\n",
       "</g>\n",
       "<!--  1, 1, 13 -->\n",
       "<g id=\"node320\" class=\"node\">\n",
       "<title> 1, 1, 13</title>\n",
       "<polygon fill=\"none\" stroke=\"black\" points=\"7733.6,-18 7606.6,-9 7733.6,0 7860.6,-9 7733.6,-18\"/>\n",
       "<text text-anchor=\"middle\" x=\"7733.6\" y=\"-7.1\" font-family=\"Times,serif\" font-size=\"8.00\">&#45;1.4235708305555554, 1.4235708305555554</text>\n",
       "</g>\n",
       "<!--  1, 1&#45;&gt; 1, 1, 13 -->\n",
       "<g id=\"edge286\" class=\"edge\">\n",
       "<title> 1, 1&#45;&gt; 1, 1, 13</title>\n",
       "<path fill=\"none\" stroke=\"red\" d=\"M36072,-64.92C36064,-60.95 36053,-56.99 36044,-55 35997,-45.48 8507.5,-46.1 8459.6,-45 8214.8,-39.37 7923.9,-22.16 7797.5,-14.17\"/>\n",
       "<polygon fill=\"red\" stroke=\"red\" points=\"7797.5,-12.41 7792.4,-13.84 7797.28,-15.91 7797.5,-12.41\"/>\n",
       "<text text-anchor=\"middle\" x=\"8464.6\" y=\"-38.6\" font-family=\"Times,serif\" font-size=\"8.00\"> 13</text>\n",
       "</g>\n",
       "<!--  1, 1, 14 -->\n",
       "<g id=\"node321\" class=\"node\">\n",
       "<title> 1, 1, 14</title>\n",
       "<polygon fill=\"none\" stroke=\"black\" points=\"7998.6,-18 7877.9,-9 7998.6,0 8119.3,-9 7998.6,-18\"/>\n",
       "<text text-anchor=\"middle\" x=\"7998.6\" y=\"-7.1\" font-family=\"Times,serif\" font-size=\"8.00\">&#45;2.083570830555556, 2.083570830555556</text>\n",
       "</g>\n",
       "<!--  1, 1&#45;&gt; 1, 1, 14 -->\n",
       "<g id=\"edge287\" class=\"edge\">\n",
       "<title> 1, 1&#45;&gt; 1, 1, 14</title>\n",
       "<path fill=\"none\" stroke=\"red\" d=\"M36072,-64.92C36064,-60.95 36053,-56.99 36044,-55 35997,-45.57 8785,-46.06 8737.6,-45 8487.1,-39.41 8189.3,-22.02 8061.7,-14.06\"/>\n",
       "<polygon fill=\"red\" stroke=\"red\" points=\"8061.6,-12.3 8056.5,-13.73 8061.38,-15.79 8061.6,-12.3\"/>\n",
       "<text text-anchor=\"middle\" x=\"8742.6\" y=\"-38.6\" font-family=\"Times,serif\" font-size=\"8.00\"> 14</text>\n",
       "</g>\n",
       "<!--  1, 1, 15 -->\n",
       "<g id=\"node322\" class=\"node\">\n",
       "<title> 1, 1, 15</title>\n",
       "<polygon fill=\"none\" stroke=\"black\" points=\"8263.6,-18 8136.6,-9 8263.6,0 8390.6,-9 8263.6,-18\"/>\n",
       "<text text-anchor=\"middle\" x=\"8263.6\" y=\"-7.1\" font-family=\"Times,serif\" font-size=\"8.00\">&#45;2.4386508305555554, 2.4386508305555554</text>\n",
       "</g>\n",
       "<!--  1, 1&#45;&gt; 1, 1, 15 -->\n",
       "<g id=\"edge288\" class=\"edge\">\n",
       "<title> 1, 1&#45;&gt; 1, 1, 15</title>\n",
       "<path fill=\"none\" stroke=\"red\" d=\"M36072,-64.92C36064,-60.95 36053,-56.99 36044,-55 35998,-45.66 9038.6,-46.08 8991.6,-45 8746.1,-39.37 8454.5,-22.16 8327.7,-14.17\"/>\n",
       "<polygon fill=\"red\" stroke=\"red\" points=\"8327.6,-12.41 8322.5,-13.84 8327.38,-15.9 8327.6,-12.41\"/>\n",
       "<text text-anchor=\"middle\" x=\"8996.6\" y=\"-38.6\" font-family=\"Times,serif\" font-size=\"8.00\"> 15</text>\n",
       "</g>\n",
       "<!--  1, 2 -->\n",
       "<g id=\"node19\" class=\"node\">\n",
       "<title> 1, 2</title>\n",
       "<ellipse fill=\"none\" stroke=\"red\" cx=\"36194\" cy=\"-77.14\" rx=\"41.02\" ry=\"14.29\"/>\n",
       "<text text-anchor=\"middle\" x=\"36194\" y=\"-79.74\" font-family=\"Times,serif\" font-size=\"8.00\">Current player: 1</text>\n",
       "<text text-anchor=\"middle\" x=\"36194\" y=\"-70.74\" font-family=\"Times,serif\" font-size=\"8.00\">us: op:</text>\n",
       "</g>\n",
       "<!--  1, 2, 0 -->\n",
       "<g id=\"node323\" class=\"node\">\n",
       "<title> 1, 2, 0</title>\n",
       "<polygon fill=\"none\" stroke=\"black\" points=\"8528.6,-18 8407.9,-9 8528.6,0 8649.3,-9 8528.6,-18\"/>\n",
       "<text text-anchor=\"middle\" x=\"8528.6\" y=\"-7.1\" font-family=\"Times,serif\" font-size=\"8.00\">1.182682502777778, &#45;1.182682502777778</text>\n",
       "</g>\n",
       "<!--  1, 2&#45;&gt; 1, 2, 0 -->\n",
       "<g id=\"edge289\" class=\"edge\">\n",
       "<title> 1, 2&#45;&gt; 1, 2, 0</title>\n",
       "<path fill=\"none\" stroke=\"red\" d=\"M36172,-64.92C36164,-60.95 36153,-56.99 36144,-55 36098,-45.73 9335.2,-46.01 9288.6,-45 9008,-38.95 8937.9,-32.69 8657.6,-18 8635.8,-16.86 8612,-15.43 8590.8,-14.1\"/>\n",
       "<polygon fill=\"red\" stroke=\"red\" points=\"8590.8,-12.34 8585.7,-13.78 8590.58,-15.84 8590.8,-12.34\"/>\n",
       "<text text-anchor=\"middle\" x=\"9292.1\" y=\"-38.6\" font-family=\"Times,serif\" font-size=\"8.00\"> 0</text>\n",
       "</g>\n",
       "<!--  1, 2, 1 -->\n",
       "<g id=\"node324\" class=\"node\">\n",
       "<title> 1, 2, 1</title>\n",
       "<polygon fill=\"none\" stroke=\"black\" points=\"8793.6,-18 8666.6,-9 8793.6,0 8920.6,-9 8793.6,-18\"/>\n",
       "<text text-anchor=\"middle\" x=\"8793.6\" y=\"-7.1\" font-family=\"Times,serif\" font-size=\"8.00\">0.2177625027777778, &#45;0.2177625027777778</text>\n",
       "</g>\n",
       "<!--  1, 2&#45;&gt; 1, 2, 1 -->\n",
       "<g id=\"edge290\" class=\"edge\">\n",
       "<title> 1, 2&#45;&gt; 1, 2, 1</title>\n",
       "<path fill=\"none\" stroke=\"red\" d=\"M36172,-64.92C36164,-60.95 36153,-56.99 36144,-55 36098,-45.82 9594.8,-46.02 9548.6,-45 9293.4,-39.39 8990,-22.09 8859.1,-14.11\"/>\n",
       "<polygon fill=\"red\" stroke=\"red\" points=\"8858.9,-12.35 8853.8,-13.79 8858.68,-15.84 8858.9,-12.35\"/>\n",
       "<text text-anchor=\"middle\" x=\"9552.1\" y=\"-38.6\" font-family=\"Times,serif\" font-size=\"8.00\"> 1</text>\n",
       "</g>\n",
       "<!--  1, 2, 2 -->\n",
       "<g id=\"node325\" class=\"node\">\n",
       "<title> 1, 2, 2</title>\n",
       "<polygon fill=\"none\" stroke=\"black\" points=\"9065.6,-18 8938.6,-9 9065.6,0 9192.6,-9 9065.6,-18\"/>\n",
       "<text text-anchor=\"middle\" x=\"9065.6\" y=\"-7.1\" font-family=\"Times,serif\" font-size=\"8.00\">&#45;0.4422374972222221, 0.4422374972222221</text>\n",
       "</g>\n",
       "<!--  1, 2&#45;&gt; 1, 2, 2 -->\n",
       "<g id=\"edge291\" class=\"edge\">\n",
       "<title> 1, 2&#45;&gt; 1, 2, 2</title>\n",
       "<path fill=\"none\" stroke=\"red\" d=\"M36172,-64.92C36164,-60.95 36153,-56.99 36144,-55 36099,-45.91 9847.3,-46.03 9801.6,-45 9553.1,-39.37 9257.8,-22.12 9129.9,-14.14\"/>\n",
       "<polygon fill=\"red\" stroke=\"red\" points=\"9129.8,-12.38 9124.7,-13.81 9129.58,-15.87 9129.8,-12.38\"/>\n",
       "<text text-anchor=\"middle\" x=\"9805.1\" y=\"-38.6\" font-family=\"Times,serif\" font-size=\"8.00\"> 2</text>\n",
       "</g>\n",
       "<!--  1, 2, 3 -->\n",
       "<g id=\"node326\" class=\"node\">\n",
       "<title> 1, 2, 3</title>\n",
       "<polygon fill=\"none\" stroke=\"black\" points=\"9330.6,-18 9209.9,-9 9330.6,0 9451.3,-9 9330.6,-18\"/>\n",
       "<text text-anchor=\"middle\" x=\"9330.6\" y=\"-7.1\" font-family=\"Times,serif\" font-size=\"8.00\">&#45;0.797317497222222, 0.797317497222222</text>\n",
       "</g>\n",
       "<!--  1, 2&#45;&gt; 1, 2, 3 -->\n",
       "<g id=\"edge292\" class=\"edge\">\n",
       "<title> 1, 2&#45;&gt; 1, 2, 3</title>\n",
       "<path fill=\"none\" stroke=\"red\" d=\"M36172,-64.92C36164,-60.95 36153,-56.99 36144,-55 36099,-46.01 10146,-45.96 10101,-45 9815.5,-38.94 9744.4,-32.83 9459.6,-18 9437.7,-16.86 9413.7,-15.43 9392.5,-14.09\"/>\n",
       "<polygon fill=\"red\" stroke=\"red\" points=\"9392.5,-12.33 9387.4,-13.77 9392.28,-15.83 9392.5,-12.33\"/>\n",
       "<text text-anchor=\"middle\" x=\"10104\" y=\"-38.6\" font-family=\"Times,serif\" font-size=\"8.00\"> 3</text>\n",
       "</g>\n",
       "<!--  1, 2, 4 -->\n",
       "<g id=\"node327\" class=\"node\">\n",
       "<title> 1, 2, 4</title>\n",
       "<polygon fill=\"none\" stroke=\"black\" points=\"9595.6,-18 9468.6,-9 9595.6,0 9722.6,-9 9595.6,-18\"/>\n",
       "<text text-anchor=\"middle\" x=\"9595.6\" y=\"-7.1\" font-family=\"Times,serif\" font-size=\"8.00\">1.2513225027777777, &#45;1.2513225027777777</text>\n",
       "</g>\n",
       "<!--  1, 2&#45;&gt; 1, 2, 4 -->\n",
       "<g id=\"edge293\" class=\"edge\">\n",
       "<title> 1, 2&#45;&gt; 1, 2, 4</title>\n",
       "<path fill=\"none\" stroke=\"red\" d=\"M36172,-64.92C36164,-60.95 36153,-56.99 36144,-55 36100,-46.1 10409,-45.96 10365,-45 10104,-39.39 9793.5,-21.98 9660.9,-14.03\"/>\n",
       "<polygon fill=\"red\" stroke=\"red\" points=\"9661,-12.28 9655.9,-13.73 9660.78,-15.78 9661,-12.28\"/>\n",
       "<text text-anchor=\"middle\" x=\"10368\" y=\"-38.6\" font-family=\"Times,serif\" font-size=\"8.00\"> 4</text>\n",
       "</g>\n",
       "<!--  1, 2, 5 -->\n",
       "<g id=\"node328\" class=\"node\">\n",
       "<title> 1, 2, 5</title>\n",
       "<polygon fill=\"none\" stroke=\"black\" points=\"9867.6,-18 9740.6,-9 9867.6,0 9994.6,-9 9867.6,-18\"/>\n",
       "<text text-anchor=\"middle\" x=\"9867.6\" y=\"-7.1\" font-family=\"Times,serif\" font-size=\"8.00\">0.2864025027777779, &#45;0.2864025027777779</text>\n",
       "</g>\n",
       "<!--  1, 2&#45;&gt; 1, 2, 5 -->\n",
       "<g id=\"edge294\" class=\"edge\">\n",
       "<title> 1, 2&#45;&gt; 1, 2, 5</title>\n",
       "<path fill=\"none\" stroke=\"red\" d=\"M36172,-64.92C36164,-60.95 36153,-56.99 36144,-55 36100,-46.19 10670,-45.97 10626,-45 10369,-39.38 10064,-22.05 9932.9,-14.08\"/>\n",
       "<polygon fill=\"red\" stroke=\"red\" points=\"9932.6,-12.31 9927.5,-13.76 9932.38,-15.8 9932.6,-12.31\"/>\n",
       "<text text-anchor=\"middle\" x=\"10629\" y=\"-38.6\" font-family=\"Times,serif\" font-size=\"8.00\"> 5</text>\n",
       "</g>\n",
       "<!--  1, 2, 6 -->\n",
       "<g id=\"node329\" class=\"node\">\n",
       "<title> 1, 2, 6</title>\n",
       "<polygon fill=\"none\" stroke=\"black\" points=\"10147,-18 10013,-9 10147,0 10281,-9 10147,-18\"/>\n",
       "<text text-anchor=\"middle\" x=\"10147\" y=\"-7.1\" font-family=\"Times,serif\" font-size=\"8.00\">&#45;0.37359749722222213, 0.37359749722222213</text>\n",
       "</g>\n",
       "<!--  1, 2&#45;&gt; 1, 2, 6 -->\n",
       "<g id=\"edge295\" class=\"edge\">\n",
       "<title> 1, 2&#45;&gt; 1, 2, 6</title>\n",
       "<path fill=\"none\" stroke=\"red\" d=\"M36172,-64.92C36164,-60.95 36153,-56.99 36144,-55 36101,-46.28 10921,-46.02 10878,-45 10632,-39.32 10341,-22.3 10213,-14.28\"/>\n",
       "<polygon fill=\"red\" stroke=\"red\" points=\"10213.1,-12.53 10208,-13.95 10212.87,-16.02 10213.1,-12.53\"/>\n",
       "<text text-anchor=\"middle\" x=\"10881\" y=\"-38.6\" font-family=\"Times,serif\" font-size=\"8.00\"> 6</text>\n",
       "</g>\n",
       "<!--  1, 2, 7 -->\n",
       "<g id=\"node330\" class=\"node\">\n",
       "<title> 1, 2, 7</title>\n",
       "<polygon fill=\"none\" stroke=\"black\" points=\"10420,-18 10299.3,-9 10420,0 10540.7,-9 10420,-18\"/>\n",
       "<text text-anchor=\"middle\" x=\"10420\" y=\"-7.1\" font-family=\"Times,serif\" font-size=\"8.00\">&#45;0.728677497222222, 0.728677497222222</text>\n",
       "</g>\n",
       "<!--  1, 2&#45;&gt; 1, 2, 7 -->\n",
       "<g id=\"edge296\" class=\"edge\">\n",
       "<title> 1, 2&#45;&gt; 1, 2, 7</title>\n",
       "<path fill=\"none\" stroke=\"red\" d=\"M36172,-64.92C36164,-60.95 36153,-56.99 36144,-55 36101,-46.38 11210,-45.95 11167,-45 10892,-38.94 10823,-32.51 10549,-18 10527,-16.85 10503,-15.42 10482,-14.09\"/>\n",
       "<polygon fill=\"red\" stroke=\"red\" points=\"10482.1,-12.34 10477,-13.77 10481.88,-15.83 10482.1,-12.34\"/>\n",
       "<text text-anchor=\"middle\" x=\"11170\" y=\"-38.6\" font-family=\"Times,serif\" font-size=\"8.00\"> 7</text>\n",
       "</g>\n",
       "<!--  1, 2, 8 -->\n",
       "<g id=\"node331\" class=\"node\">\n",
       "<title> 1, 2, 8</title>\n",
       "<polygon fill=\"none\" stroke=\"black\" points=\"10685,-18 10558,-9 10685,0 10812,-9 10685,-18\"/>\n",
       "<text text-anchor=\"middle\" x=\"10685\" y=\"-7.1\" font-family=\"Times,serif\" font-size=\"8.00\">1.5813225027777784, &#45;1.5813225027777784</text>\n",
       "</g>\n",
       "<!--  1, 2&#45;&gt; 1, 2, 8 -->\n",
       "<g id=\"edge297\" class=\"edge\">\n",
       "<title> 1, 2&#45;&gt; 1, 2, 8</title>\n",
       "<path fill=\"none\" stroke=\"red\" d=\"M36172,-64.92C36164,-60.95 36153,-56.99 36144,-55 36102,-46.46 11463,-45.97 11420,-45 11171,-39.37 10877,-22.12 10749,-14.14\"/>\n",
       "<polygon fill=\"red\" stroke=\"red\" points=\"10749.1,-12.39 10744,-13.81 10748.87,-15.88 10749.1,-12.39\"/>\n",
       "<text text-anchor=\"middle\" x=\"11423\" y=\"-38.6\" font-family=\"Times,serif\" font-size=\"8.00\"> 8</text>\n",
       "</g>\n",
       "<!--  1, 2, 9 -->\n",
       "<g id=\"node332\" class=\"node\">\n",
       "<title> 1, 2, 9</title>\n",
       "<polygon fill=\"none\" stroke=\"black\" points=\"10950,-18 10829.3,-9 10950,0 11070.7,-9 10950,-18\"/>\n",
       "<text text-anchor=\"middle\" x=\"10950\" y=\"-7.1\" font-family=\"Times,serif\" font-size=\"8.00\">0.616402502777778, &#45;0.616402502777778</text>\n",
       "</g>\n",
       "<!--  1, 2&#45;&gt; 1, 2, 9 -->\n",
       "<g id=\"edge298\" class=\"edge\">\n",
       "<title> 1, 2&#45;&gt; 1, 2, 9</title>\n",
       "<path fill=\"none\" stroke=\"red\" d=\"M36172,-64.92C36164,-60.95 36153,-56.99 36144,-55 36102,-46.57 11760,-45.91 11718,-45 11434,-38.94 11363,-32.72 11080,-18 11058,-16.86 11033,-15.42 11012,-14.08\"/>\n",
       "<polygon fill=\"red\" stroke=\"red\" points=\"11012.1,-12.33 11007,-13.76 11011.88,-15.83 11012.1,-12.33\"/>\n",
       "<text text-anchor=\"middle\" x=\"11721\" y=\"-38.6\" font-family=\"Times,serif\" font-size=\"8.00\"> 9</text>\n",
       "</g>\n",
       "<!--  1, 2, 10 -->\n",
       "<g id=\"node333\" class=\"node\">\n",
       "<title> 1, 2, 10</title>\n",
       "<polygon fill=\"none\" stroke=\"black\" points=\"11223,-18 11089,-9 11223,0 11357,-9 11223,-18\"/>\n",
       "<text text-anchor=\"middle\" x=\"11223\" y=\"-7.1\" font-family=\"Times,serif\" font-size=\"8.00\">&#45;0.04359749722222217, 0.04359749722222217</text>\n",
       "</g>\n",
       "<!--  1, 2&#45;&gt; 1, 2, 10 -->\n",
       "<g id=\"edge299\" class=\"edge\">\n",
       "<title> 1, 2&#45;&gt; 1, 2, 10</title>\n",
       "<path fill=\"none\" stroke=\"red\" d=\"M36172,-64.92C36164,-60.95 36153,-56.99 36144,-55 36102,-46.66 12020,-45.93 11978,-45 11723,-39.34 11421,-22.19 11290,-14.19\"/>\n",
       "<polygon fill=\"red\" stroke=\"red\" points=\"11289.09,-12.39 11284,-13.86 11288.9,-15.88 11289.09,-12.39\"/>\n",
       "<text text-anchor=\"middle\" x=\"11983\" y=\"-38.6\" font-family=\"Times,serif\" font-size=\"8.00\"> 10</text>\n",
       "</g>\n",
       "<!--  1, 2, 11 -->\n",
       "<g id=\"node334\" class=\"node\">\n",
       "<title> 1, 2, 11</title>\n",
       "<polygon fill=\"none\" stroke=\"black\" points=\"11496,-18 11375.3,-9 11496,0 11616.7,-9 11496,-18\"/>\n",
       "<text text-anchor=\"middle\" x=\"11496\" y=\"-7.1\" font-family=\"Times,serif\" font-size=\"8.00\">&#45;0.398677497222222, 0.398677497222222</text>\n",
       "</g>\n",
       "<!--  1, 2&#45;&gt; 1, 2, 11 -->\n",
       "<g id=\"edge300\" class=\"edge\">\n",
       "<title> 1, 2&#45;&gt; 1, 2, 11</title>\n",
       "<path fill=\"none\" stroke=\"red\" d=\"M36172,-64.92C36164,-60.95 36153,-56.99 36144,-55 36103,-46.74 12276,-45.93 12235,-45 11984,-39.41 11686,-22.02 11559,-14.06\"/>\n",
       "<polygon fill=\"red\" stroke=\"red\" points=\"11559.1,-12.31 11554,-13.73 11558.87,-15.8 11559.1,-12.31\"/>\n",
       "<text text-anchor=\"middle\" x=\"12240\" y=\"-38.6\" font-family=\"Times,serif\" font-size=\"8.00\"> 11</text>\n",
       "</g>\n",
       "<!--  1, 2, 12 -->\n",
       "<g id=\"node335\" class=\"node\">\n",
       "<title> 1, 2, 12</title>\n",
       "<polygon fill=\"none\" stroke=\"black\" points=\"11755,-18 11634.3,-9 11755,0 11875.7,-9 11755,-18\"/>\n",
       "<text text-anchor=\"middle\" x=\"11755\" y=\"-7.1\" font-family=\"Times,serif\" font-size=\"8.00\">2.172682502777778, &#45;2.172682502777778</text>\n",
       "</g>\n",
       "<!--  1, 2&#45;&gt; 1, 2, 12 -->\n",
       "<g id=\"edge301\" class=\"edge\">\n",
       "<title> 1, 2&#45;&gt; 1, 2, 12</title>\n",
       "<path fill=\"none\" stroke=\"red\" d=\"M36172,-64.92C36164,-60.95 36153,-56.99 36144,-55 36103,-46.83 12532,-45.92 12491,-45 12241,-39.4 11945,-22.02 11817,-14.06\"/>\n",
       "<polygon fill=\"red\" stroke=\"red\" points=\"11817.1,-12.31 11812,-13.73 11816.87,-15.8 11817.1,-12.31\"/>\n",
       "<text text-anchor=\"middle\" x=\"12496\" y=\"-38.6\" font-family=\"Times,serif\" font-size=\"8.00\"> 12</text>\n",
       "</g>\n",
       "<!--  1, 2, 13 -->\n",
       "<g id=\"node336\" class=\"node\">\n",
       "<title> 1, 2, 13</title>\n",
       "<polygon fill=\"none\" stroke=\"black\" points=\"12020,-18 11893,-9 12020,0 12147,-9 12020,-18\"/>\n",
       "<text text-anchor=\"middle\" x=\"12020\" y=\"-7.1\" font-family=\"Times,serif\" font-size=\"8.00\">1.2077625027777779, &#45;1.2077625027777779</text>\n",
       "</g>\n",
       "<!--  1, 2&#45;&gt; 1, 2, 13 -->\n",
       "<g id=\"edge302\" class=\"edge\">\n",
       "<title> 1, 2&#45;&gt; 1, 2, 13</title>\n",
       "<path fill=\"none\" stroke=\"red\" d=\"M36172,-64.92C36164,-60.95 36153,-56.99 36144,-55 36104,-46.92 12784,-45.94 12744,-45 12500,-39.35 12210,-22.2 12084,-14.19\"/>\n",
       "<polygon fill=\"red\" stroke=\"red\" points=\"12084.1,-12.45 12079,-13.87 12083.87,-15.94 12084.1,-12.45\"/>\n",
       "<text text-anchor=\"middle\" x=\"12749\" y=\"-38.6\" font-family=\"Times,serif\" font-size=\"8.00\"> 13</text>\n",
       "</g>\n",
       "<!--  1, 2, 14 -->\n",
       "<g id=\"node337\" class=\"node\">\n",
       "<title> 1, 2, 14</title>\n",
       "<polygon fill=\"none\" stroke=\"black\" points=\"12292,-18 12165,-9 12292,0 12419,-9 12292,-18\"/>\n",
       "<text text-anchor=\"middle\" x=\"12292\" y=\"-7.1\" font-family=\"Times,serif\" font-size=\"8.00\">0.5477625027777779, &#45;0.5477625027777779</text>\n",
       "</g>\n",
       "<!--  1, 2&#45;&gt; 1, 2, 14 -->\n",
       "<g id=\"edge303\" class=\"edge\">\n",
       "<title> 1, 2&#45;&gt; 1, 2, 14</title>\n",
       "<path fill=\"none\" stroke=\"red\" d=\"M36172,-64.92C36164,-60.95 36153,-56.99 36144,-55 36104,-47 13027,-45.98 12987,-45 12753,-39.32 12476,-22.29 12355,-14.27\"/>\n",
       "<polygon fill=\"red\" stroke=\"red\" points=\"12354.09,-12.46 12349,-13.92 12353.89,-15.96 12354.09,-12.46\"/>\n",
       "<text text-anchor=\"middle\" x=\"12992\" y=\"-38.6\" font-family=\"Times,serif\" font-size=\"8.00\"> 14</text>\n",
       "</g>\n",
       "<!--  1, 2, 15 -->\n",
       "<g id=\"node338\" class=\"node\">\n",
       "<title> 1, 2, 15</title>\n",
       "<polygon fill=\"none\" stroke=\"black\" points=\"12571,-18 12437,-9 12571,0 12705,-9 12571,-18\"/>\n",
       "<text text-anchor=\"middle\" x=\"12571\" y=\"-7.1\" font-family=\"Times,serif\" font-size=\"8.00\">0.19268250277777818, &#45;0.19268250277777818</text>\n",
       "</g>\n",
       "<!--  1, 2&#45;&gt; 1, 2, 15 -->\n",
       "<g id=\"edge304\" class=\"edge\">\n",
       "<title> 1, 2&#45;&gt; 1, 2, 15</title>\n",
       "<path fill=\"none\" stroke=\"red\" d=\"M36172,-64.92C36164,-60.95 36153,-56.99 36144,-55 36105,-47.08 13251,-46.09 13212,-45 12999,-39.2 12748,-22.62 12633,-14.54\"/>\n",
       "<polygon fill=\"red\" stroke=\"red\" points=\"12633.11,-12.8 12628,-14.19 12632.86,-16.29 12633.11,-12.8\"/>\n",
       "<text text-anchor=\"middle\" x=\"13217\" y=\"-38.6\" font-family=\"Times,serif\" font-size=\"8.00\"> 15</text>\n",
       "</g>\n",
       "<!--  1, 3 -->\n",
       "<g id=\"node20\" class=\"node\">\n",
       "<title> 1, 3</title>\n",
       "<ellipse fill=\"none\" stroke=\"red\" cx=\"36294\" cy=\"-77.14\" rx=\"41.02\" ry=\"14.29\"/>\n",
       "<text text-anchor=\"middle\" x=\"36294\" y=\"-79.74\" font-family=\"Times,serif\" font-size=\"8.00\">Current player: 1</text>\n",
       "<text text-anchor=\"middle\" x=\"36294\" y=\"-70.74\" font-family=\"Times,serif\" font-size=\"8.00\">us: op:</text>\n",
       "</g>\n",
       "<!--  1, 3, 0 -->\n",
       "<g id=\"node339\" class=\"node\">\n",
       "<title> 1, 3, 0</title>\n",
       "<polygon fill=\"none\" stroke=\"black\" points=\"12803,-18 12722.5,-9 12803,0 12883.5,-9 12803,-18\"/>\n",
       "<text text-anchor=\"middle\" x=\"12803\" y=\"-7.1\" font-family=\"Times,serif\" font-size=\"8.00\">0.953564775, &#45;0.953564775</text>\n",
       "</g>\n",
       "<!--  1, 3&#45;&gt; 1, 3, 0 -->\n",
       "<g id=\"edge305\" class=\"edge\">\n",
       "<title> 1, 3&#45;&gt; 1, 3, 0</title>\n",
       "<path fill=\"none\" stroke=\"red\" d=\"M36272,-64.92C36264,-60.95 36253,-56.99 36244,-55 36205,-47.17 13597,-45.81 13558,-45 13262,-38.93 13188,-37.1 12893,-18 12877,-17.02 12861,-15.63 12846,-14.28\"/>\n",
       "<polygon fill=\"red\" stroke=\"red\" points=\"12846.15,-12.54 12841,-13.79 12845.8,-16.02 12846.15,-12.54\"/>\n",
       "<text text-anchor=\"middle\" x=\"13561\" y=\"-38.6\" font-family=\"Times,serif\" font-size=\"8.00\"> 0</text>\n",
       "</g>\n",
       "<!--  1, 3, 1 -->\n",
       "<g id=\"node340\" class=\"node\">\n",
       "<title> 1, 3, 1</title>\n",
       "<polygon fill=\"none\" stroke=\"black\" points=\"13042,-18 12901.5,-9 13042,0 13182.5,-9 13042,-18\"/>\n",
       "<text text-anchor=\"middle\" x=\"13042\" y=\"-7.1\" font-family=\"Times,serif\" font-size=\"8.00\">&#45;0.011355225000000246, 0.011355225000000246</text>\n",
       "</g>\n",
       "<!--  1, 3&#45;&gt; 1, 3, 1 -->\n",
       "<g id=\"edge306\" class=\"edge\">\n",
       "<title> 1, 3&#45;&gt; 1, 3, 1</title>\n",
       "<path fill=\"none\" stroke=\"red\" d=\"M36272,-64.92C36264,-60.95 36253,-56.99 36244,-55 36205,-47.26 13867,-45.83 13828,-45 13563,-39.33 13248,-22.17 13111,-14.18\"/>\n",
       "<polygon fill=\"red\" stroke=\"red\" points=\"13111.1,-12.43 13106,-13.88 13110.88,-15.93 13111.1,-12.43\"/>\n",
       "<text text-anchor=\"middle\" x=\"13831\" y=\"-38.6\" font-family=\"Times,serif\" font-size=\"8.00\"> 1</text>\n",
       "</g>\n",
       "<!--  1, 3, 2 -->\n",
       "<g id=\"node341\" class=\"node\">\n",
       "<title> 1, 3, 2</title>\n",
       "<polygon fill=\"none\" stroke=\"black\" points=\"13327,-18 13200,-9 13327,0 13454,-9 13327,-18\"/>\n",
       "<text text-anchor=\"middle\" x=\"13327\" y=\"-7.1\" font-family=\"Times,serif\" font-size=\"8.00\">&#45;0.6713552250000001, 0.6713552250000001</text>\n",
       "</g>\n",
       "<!--  1, 3&#45;&gt; 1, 3, 2 -->\n",
       "<g id=\"edge307\" class=\"edge\">\n",
       "<title> 1, 3&#45;&gt; 1, 3, 2</title>\n",
       "<path fill=\"none\" stroke=\"red\" d=\"M36272,-64.92C36264,-60.95 36253,-56.99 36244,-55 36206,-47.35 14129,-45.84 14091,-45 13832,-39.38 13524,-22.02 13392,-14.06\"/>\n",
       "<polygon fill=\"red\" stroke=\"red\" points=\"13392.1,-12.31 13387,-13.76 13391.88,-15.8 13392.1,-12.31\"/>\n",
       "<text text-anchor=\"middle\" x=\"14094\" y=\"-38.6\" font-family=\"Times,serif\" font-size=\"8.00\"> 2</text>\n",
       "</g>\n",
       "<!--  1, 3, 3 -->\n",
       "<g id=\"node342\" class=\"node\">\n",
       "<title> 1, 3, 3</title>\n",
       "<polygon fill=\"none\" stroke=\"black\" points=\"13599,-18 13472,-9 13599,0 13726,-9 13599,-18\"/>\n",
       "<text text-anchor=\"middle\" x=\"13599\" y=\"-7.1\" font-family=\"Times,serif\" font-size=\"8.00\">&#45;1.0264352250000002, 1.0264352250000002</text>\n",
       "</g>\n",
       "<!--  1, 3&#45;&gt; 1, 3, 3 -->\n",
       "<g id=\"edge308\" class=\"edge\">\n",
       "<title> 1, 3&#45;&gt; 1, 3, 3</title>\n",
       "<path fill=\"none\" stroke=\"red\" d=\"M36272,-64.92C36264,-60.95 36253,-56.99 36244,-55 36206,-47.44 14387,-45.84 14349,-45 14095,-39.37 13794,-22.08 13664,-14.11\"/>\n",
       "<polygon fill=\"red\" stroke=\"red\" points=\"13663.09,-12.31 13658,-13.78 13662.9,-15.8 13663.09,-12.31\"/>\n",
       "<text text-anchor=\"middle\" x=\"14352\" y=\"-38.6\" font-family=\"Times,serif\" font-size=\"8.00\"> 3</text>\n",
       "</g>\n",
       "<!--  1, 3, 4 -->\n",
       "<g id=\"node343\" class=\"node\">\n",
       "<title> 1, 3, 4</title>\n",
       "<polygon fill=\"none\" stroke=\"black\" points=\"13871,-18 13744,-9 13871,0 13998,-9 13871,-18\"/>\n",
       "<text text-anchor=\"middle\" x=\"13871\" y=\"-7.1\" font-family=\"Times,serif\" font-size=\"8.00\">1.0222047749999996, &#45;1.0222047749999996</text>\n",
       "</g>\n",
       "<!--  1, 3&#45;&gt; 1, 3, 4 -->\n",
       "<g id=\"edge309\" class=\"edge\">\n",
       "<title> 1, 3&#45;&gt; 1, 3, 4</title>\n",
       "<path fill=\"none\" stroke=\"red\" d=\"M36272,-64.92C36264,-60.95 36253,-56.99 36244,-55 36207,-47.53 14638,-45.86 14601,-45 14354,-39.35 14062,-22.15 13935,-14.16\"/>\n",
       "<polygon fill=\"red\" stroke=\"red\" points=\"13935.1,-12.42 13930,-13.84 13934.87,-15.91 13935.1,-12.42\"/>\n",
       "<text text-anchor=\"middle\" x=\"14604\" y=\"-38.6\" font-family=\"Times,serif\" font-size=\"8.00\"> 4</text>\n",
       "</g>\n",
       "<!--  1, 3, 5 -->\n",
       "<g id=\"node344\" class=\"node\">\n",
       "<title> 1, 3, 5</title>\n",
       "<polygon fill=\"none\" stroke=\"black\" points=\"14150,-18 14016,-9 14150,0 14284,-9 14150,-18\"/>\n",
       "<text text-anchor=\"middle\" x=\"14150\" y=\"-7.1\" font-family=\"Times,serif\" font-size=\"8.00\">0.05728477499999984, &#45;0.05728477499999984</text>\n",
       "</g>\n",
       "<!--  1, 3&#45;&gt; 1, 3, 5 -->\n",
       "<g id=\"edge310\" class=\"edge\">\n",
       "<title> 1, 3&#45;&gt; 1, 3, 5</title>\n",
       "<path fill=\"none\" stroke=\"red\" d=\"M36272,-64.92C36264,-60.95 36253,-56.99 36244,-55 36171,-40.22 14913,-46.85 14839,-45 14609,-39.27 14336,-22.46 14214,-14.41\"/>\n",
       "<polygon fill=\"red\" stroke=\"red\" points=\"14214.11,-12.66 14209,-14.05 14213.86,-16.15 14214.11,-12.66\"/>\n",
       "<text text-anchor=\"middle\" x=\"14842\" y=\"-38.6\" font-family=\"Times,serif\" font-size=\"8.00\"> 5</text>\n",
       "</g>\n",
       "<!--  1, 3, 6 -->\n",
       "<g id=\"node345\" class=\"node\">\n",
       "<title> 1, 3, 6</title>\n",
       "<polygon fill=\"none\" stroke=\"black\" points=\"14429,-18 14302,-9 14429,0 14556,-9 14429,-18\"/>\n",
       "<text text-anchor=\"middle\" x=\"14429\" y=\"-7.1\" font-family=\"Times,serif\" font-size=\"8.00\">&#45;0.6027152250000002, 0.6027152250000002</text>\n",
       "</g>\n",
       "<!--  1, 3&#45;&gt; 1, 3, 6 -->\n",
       "<g id=\"edge311\" class=\"edge\">\n",
       "<title> 1, 3&#45;&gt; 1, 3, 6</title>\n",
       "<path fill=\"none\" stroke=\"red\" d=\"M36272,-64.92C36264,-60.95 36253,-56.99 36244,-55 36172,-40.37 15130,-47.03 15057,-45 14848,-39.23 14601,-22.55 14489,-14.48\"/>\n",
       "<polygon fill=\"red\" stroke=\"red\" points=\"14489.12,-12.73 14484,-14.1 14488.85,-16.23 14489.12,-12.73\"/>\n",
       "<text text-anchor=\"middle\" x=\"15060\" y=\"-38.6\" font-family=\"Times,serif\" font-size=\"8.00\"> 6</text>\n",
       "</g>\n",
       "<!--  1, 3, 7 -->\n",
       "<g id=\"node346\" class=\"node\">\n",
       "<title> 1, 3, 7</title>\n",
       "<polygon fill=\"none\" stroke=\"black\" points=\"14654,-18 14573.5,-9 14654,0 14734.5,-9 14654,-18\"/>\n",
       "<text text-anchor=\"middle\" x=\"14654\" y=\"-7.1\" font-family=\"Times,serif\" font-size=\"8.00\">&#45;0.957795225, 0.957795225</text>\n",
       "</g>\n",
       "<!--  1, 3&#45;&gt; 1, 3, 7 -->\n",
       "<g id=\"edge312\" class=\"edge\">\n",
       "<title> 1, 3&#45;&gt; 1, 3, 7</title>\n",
       "<path fill=\"none\" stroke=\"red\" d=\"M36272,-64.92C36264,-60.95 36253,-56.99 36244,-55 36173,-40.6 15464,-46.52 15392,-45 15103,-38.93 15031,-36.93 14743,-18 14728,-17.01 14711,-15.62 14697,-14.28\"/>\n",
       "<polygon fill=\"red\" stroke=\"red\" points=\"14696.13,-12.45 14691,-13.79 14695.84,-15.94 14696.13,-12.45\"/>\n",
       "<text text-anchor=\"middle\" x=\"15395\" y=\"-38.6\" font-family=\"Times,serif\" font-size=\"8.00\"> 7</text>\n",
       "</g>\n",
       "<!--  1, 3, 8 -->\n",
       "<g id=\"node347\" class=\"node\">\n",
       "<title> 1, 3, 8</title>\n",
       "<polygon fill=\"none\" stroke=\"black\" points=\"14879,-18 14752,-9 14879,0 15006,-9 14879,-18\"/>\n",
       "<text text-anchor=\"middle\" x=\"14879\" y=\"-7.1\" font-family=\"Times,serif\" font-size=\"8.00\">1.3522047750000001, &#45;1.3522047750000001</text>\n",
       "</g>\n",
       "<!--  1, 3&#45;&gt; 1, 3, 8 -->\n",
       "<g id=\"edge313\" class=\"edge\">\n",
       "<title> 1, 3&#45;&gt; 1, 3, 8</title>\n",
       "<path fill=\"none\" stroke=\"red\" d=\"M36272,-64.92C36264,-60.95 36253,-56.99 36244,-55 36174,-40.78 15731,-46.51 15660,-45 15394,-39.39 15079,-21.94 14944,-14\"/>\n",
       "<polygon fill=\"red\" stroke=\"red\" points=\"14944.1,-12.25 14939,-13.7 14943.88,-15.75 14944.1,-12.25\"/>\n",
       "<text text-anchor=\"middle\" x=\"15663\" y=\"-38.6\" font-family=\"Times,serif\" font-size=\"8.00\"> 8</text>\n",
       "</g>\n",
       "<!--  1, 3, 9 -->\n",
       "<g id=\"node348\" class=\"node\">\n",
       "<title> 1, 3, 9</title>\n",
       "<polygon fill=\"none\" stroke=\"black\" points=\"15151,-18 15024,-9 15151,0 15278,-9 15151,-18\"/>\n",
       "<text text-anchor=\"middle\" x=\"15151\" y=\"-7.1\" font-family=\"Times,serif\" font-size=\"8.00\">0.3872847749999999, &#45;0.3872847749999999</text>\n",
       "</g>\n",
       "<!--  1, 3&#45;&gt; 1, 3, 9 -->\n",
       "<g id=\"edge314\" class=\"edge\">\n",
       "<title> 1, 3&#45;&gt; 1, 3, 9</title>\n",
       "<path fill=\"none\" stroke=\"red\" d=\"M36272,-64.92C36264,-60.95 36253,-56.99 36244,-55 36174,-40.97 15996,-46.51 15926,-45 15663,-39.38 15350,-21.98 15216,-14.03\"/>\n",
       "<polygon fill=\"red\" stroke=\"red\" points=\"15216.1,-12.28 15211,-13.73 15215.88,-15.78 15216.1,-12.28\"/>\n",
       "<text text-anchor=\"middle\" x=\"15929\" y=\"-38.6\" font-family=\"Times,serif\" font-size=\"8.00\"> 9</text>\n",
       "</g>\n",
       "<!--  1, 3, 10 -->\n",
       "<g id=\"node349\" class=\"node\">\n",
       "<title> 1, 3, 10</title>\n",
       "<polygon fill=\"none\" stroke=\"black\" points=\"15423,-18 15296,-9 15423,0 15550,-9 15423,-18\"/>\n",
       "<text text-anchor=\"middle\" x=\"15423\" y=\"-7.1\" font-family=\"Times,serif\" font-size=\"8.00\">&#45;0.2727152250000002, 0.2727152250000002</text>\n",
       "</g>\n",
       "<!--  1, 3&#45;&gt; 1, 3, 10 -->\n",
       "<g id=\"edge315\" class=\"edge\">\n",
       "<title> 1, 3&#45;&gt; 1, 3, 10</title>\n",
       "<path fill=\"none\" stroke=\"red\" d=\"M36272,-64.92C36264,-60.95 36253,-56.99 36244,-55 36175,-41.15 16259,-46.51 16190,-45 15930,-39.38 15621,-22.01 15488,-14.06\"/>\n",
       "<polygon fill=\"red\" stroke=\"red\" points=\"15488.1,-12.31 15483,-13.76 15487.88,-15.8 15488.1,-12.31\"/>\n",
       "<text text-anchor=\"middle\" x=\"16195\" y=\"-38.6\" font-family=\"Times,serif\" font-size=\"8.00\"> 10</text>\n",
       "</g>\n",
       "<!--  1, 3, 11 -->\n",
       "<g id=\"node350\" class=\"node\">\n",
       "<title> 1, 3, 11</title>\n",
       "<polygon fill=\"none\" stroke=\"black\" points=\"15695,-18 15568,-9 15695,0 15822,-9 15695,-18\"/>\n",
       "<text text-anchor=\"middle\" x=\"15695\" y=\"-7.1\" font-family=\"Times,serif\" font-size=\"8.00\">&#45;0.6277952250000001, 0.6277952250000001</text>\n",
       "</g>\n",
       "<!--  1, 3&#45;&gt; 1, 3, 11 -->\n",
       "<g id=\"edge316\" class=\"edge\">\n",
       "<title> 1, 3&#45;&gt; 1, 3, 11</title>\n",
       "<path fill=\"none\" stroke=\"red\" d=\"M36272,-64.92C36264,-60.95 36253,-56.99 36244,-55 36176,-41.33 16522,-46.51 16454,-45 16197,-39.37 15891,-22.04 15760,-14.08\"/>\n",
       "<polygon fill=\"red\" stroke=\"red\" points=\"15760.1,-12.33 15755,-13.75 15759.87,-15.82 15760.1,-12.33\"/>\n",
       "<text text-anchor=\"middle\" x=\"16459\" y=\"-38.6\" font-family=\"Times,serif\" font-size=\"8.00\"> 11</text>\n",
       "</g>\n",
       "<!--  1, 3, 12 -->\n",
       "<g id=\"node351\" class=\"node\">\n",
       "<title> 1, 3, 12</title>\n",
       "<polygon fill=\"none\" stroke=\"black\" points=\"15967,-18 15840,-9 15967,0 16094,-9 15967,-18\"/>\n",
       "<text text-anchor=\"middle\" x=\"15967\" y=\"-7.1\" font-family=\"Times,serif\" font-size=\"8.00\">1.9435647750000002, &#45;1.9435647750000002</text>\n",
       "</g>\n",
       "<!--  1, 3&#45;&gt; 1, 3, 12 -->\n",
       "<g id=\"edge317\" class=\"edge\">\n",
       "<title> 1, 3&#45;&gt; 1, 3, 12</title>\n",
       "<path fill=\"none\" stroke=\"red\" d=\"M36272,-64.92C36264,-60.95 36253,-56.99 36244,-55 36177,-41.51 16781,-46.52 16714,-45 16461,-39.36 16161,-22.08 16031,-14.11\"/>\n",
       "<polygon fill=\"red\" stroke=\"red\" points=\"16031.1,-12.36 16026,-13.78 16030.87,-15.85 16031.1,-12.36\"/>\n",
       "<text text-anchor=\"middle\" x=\"16719\" y=\"-38.6\" font-family=\"Times,serif\" font-size=\"8.00\"> 12</text>\n",
       "</g>\n",
       "<!--  1, 3, 13 -->\n",
       "<g id=\"node352\" class=\"node\">\n",
       "<title> 1, 3, 13</title>\n",
       "<polygon fill=\"none\" stroke=\"black\" points=\"16239,-18 16112,-9 16239,0 16366,-9 16239,-18\"/>\n",
       "<text text-anchor=\"middle\" x=\"16239\" y=\"-7.1\" font-family=\"Times,serif\" font-size=\"8.00\">0.9786447749999996, &#45;0.9786447749999996</text>\n",
       "</g>\n",
       "<!--  1, 3&#45;&gt; 1, 3, 13 -->\n",
       "<g id=\"edge318\" class=\"edge\">\n",
       "<title> 1, 3&#45;&gt; 1, 3, 13</title>\n",
       "<path fill=\"none\" stroke=\"red\" d=\"M36272,-64.92C36264,-60.95 36253,-56.99 36244,-55 36178,-41.69 17035,-46.54 16968,-45 16722,-39.34 16430,-22.15 16303,-14.16\"/>\n",
       "<polygon fill=\"red\" stroke=\"red\" points=\"16303.1,-12.42 16298,-13.84 16302.87,-15.91 16303.1,-12.42\"/>\n",
       "<text text-anchor=\"middle\" x=\"16973\" y=\"-38.6\" font-family=\"Times,serif\" font-size=\"8.00\"> 13</text>\n",
       "</g>\n",
       "<!--  1, 3, 14 -->\n",
       "<g id=\"node353\" class=\"node\">\n",
       "<title> 1, 3, 14</title>\n",
       "<polygon fill=\"none\" stroke=\"black\" points=\"16511,-18 16384,-9 16511,0 16638,-9 16511,-18\"/>\n",
       "<text text-anchor=\"middle\" x=\"16511\" y=\"-7.1\" font-family=\"Times,serif\" font-size=\"8.00\">0.3186447749999999, &#45;0.3186447749999999</text>\n",
       "</g>\n",
       "<!--  1, 3&#45;&gt; 1, 3, 14 -->\n",
       "<g id=\"edge319\" class=\"edge\">\n",
       "<title> 1, 3&#45;&gt; 1, 3, 14</title>\n",
       "<path fill=\"none\" stroke=\"red\" d=\"M36272,-64.92C36264,-60.95 36253,-56.99 36244,-55 36179,-41.85 17280,-46.59 17214,-45 16977,-39.32 16697,-22.26 16574,-14.24\"/>\n",
       "<polygon fill=\"red\" stroke=\"red\" points=\"16574.1,-12.5 16569,-13.92 16573.87,-15.99 16574.1,-12.5\"/>\n",
       "<text text-anchor=\"middle\" x=\"17219\" y=\"-38.6\" font-family=\"Times,serif\" font-size=\"8.00\"> 14</text>\n",
       "</g>\n",
       "<!--  1, 3, 15 -->\n",
       "<g id=\"node354\" class=\"node\">\n",
       "<title> 1, 3, 15</title>\n",
       "<polygon fill=\"none\" stroke=\"black\" points=\"16790,-18 16656,-9 16790,0 16924,-9 16790,-18\"/>\n",
       "<text text-anchor=\"middle\" x=\"16790\" y=\"-7.1\" font-family=\"Times,serif\" font-size=\"8.00\">&#45;0.03643522499999985, 0.03643522499999985</text>\n",
       "</g>\n",
       "<!--  1, 3&#45;&gt; 1, 3, 15 -->\n",
       "<g id=\"edge320\" class=\"edge\">\n",
       "<title> 1, 3&#45;&gt; 1, 3, 15</title>\n",
       "<path fill=\"none\" stroke=\"red\" d=\"M36272,-64.92C36264,-60.95 36253,-56.99 36244,-55 36180,-42.01 17508,-46.74 17443,-45 17226,-39.21 16969,-22.59 16853,-14.51\"/>\n",
       "<polygon fill=\"red\" stroke=\"red\" points=\"16853.11,-12.77 16848,-14.16 16852.86,-16.26 16853.11,-12.77\"/>\n",
       "<text text-anchor=\"middle\" x=\"17448\" y=\"-38.6\" font-family=\"Times,serif\" font-size=\"8.00\"> 15</text>\n",
       "</g>\n",
       "<!--  1, 4 -->\n",
       "<g id=\"node21\" class=\"node\">\n",
       "<title> 1, 4</title>\n",
       "<ellipse fill=\"none\" stroke=\"red\" cx=\"36394\" cy=\"-77.14\" rx=\"41.02\" ry=\"14.29\"/>\n",
       "<text text-anchor=\"middle\" x=\"36394\" y=\"-79.74\" font-family=\"Times,serif\" font-size=\"8.00\">Current player: 1</text>\n",
       "<text text-anchor=\"middle\" x=\"36394\" y=\"-70.74\" font-family=\"Times,serif\" font-size=\"8.00\">us: op:</text>\n",
       "</g>\n",
       "<!--  1, 4, 0 -->\n",
       "<g id=\"node355\" class=\"node\">\n",
       "<title> 1, 4, 0</title>\n",
       "<polygon fill=\"none\" stroke=\"black\" points=\"17069,-18 16942,-9 17069,0 17196,-9 17069,-18\"/>\n",
       "<text text-anchor=\"middle\" x=\"17069\" y=\"-7.1\" font-family=\"Times,serif\" font-size=\"8.00\">&#45;2.4550752249999994, 2.4550752249999994</text>\n",
       "</g>\n",
       "<!--  1, 4&#45;&gt; 1, 4, 0 -->\n",
       "<g id=\"edge321\" class=\"edge\">\n",
       "<title> 1, 4&#45;&gt; 1, 4, 0</title>\n",
       "<path fill=\"none\" stroke=\"red\" d=\"M36372,-64.92C36364,-60.95 36353,-56.99 36344,-55 36280,-42.09 17712,-46.98 17648,-45 17457,-39.19 17231,-22.79 17127,-14.68\"/>\n",
       "<polygon fill=\"red\" stroke=\"red\" points=\"17127.12,-12.93 17122,-14.27 17126.84,-16.42 17127.12,-12.93\"/>\n",
       "<text text-anchor=\"middle\" x=\"17651\" y=\"-38.6\" font-family=\"Times,serif\" font-size=\"8.00\"> 0</text>\n",
       "</g>\n",
       "<!--  1, 4, 1 -->\n",
       "<g id=\"node356\" class=\"node\">\n",
       "<title> 1, 4, 1</title>\n",
       "<polygon fill=\"none\" stroke=\"black\" points=\"17294,-18 17213.5,-9 17294,0 17374.5,-9 17294,-18\"/>\n",
       "<text text-anchor=\"middle\" x=\"17294\" y=\"-7.1\" font-family=\"Times,serif\" font-size=\"8.00\">&#45;3.419995225, 3.419995225</text>\n",
       "</g>\n",
       "<!--  1, 4&#45;&gt; 1, 4, 1 -->\n",
       "<g id=\"edge322\" class=\"edge\">\n",
       "<title> 1, 4&#45;&gt; 1, 4, 1</title>\n",
       "<path fill=\"none\" stroke=\"red\" d=\"M36372,-64.92C36364,-60.95 36353,-56.99 36344,-55 36281,-42.26 17964,-46.69 17900,-45 17670,-38.94 17612,-34.3 17383,-18 17368,-16.94 17351,-15.55 17337,-14.22\"/>\n",
       "<polygon fill=\"red\" stroke=\"red\" points=\"17337.14,-12.48 17332,-13.74 17336.81,-15.96 17337.14,-12.48\"/>\n",
       "<text text-anchor=\"middle\" x=\"17903\" y=\"-38.6\" font-family=\"Times,serif\" font-size=\"8.00\"> 1</text>\n",
       "</g>\n",
       "<!--  1, 4, 2 -->\n",
       "<g id=\"node357\" class=\"node\">\n",
       "<title> 1, 4, 2</title>\n",
       "<polygon fill=\"none\" stroke=\"black\" points=\"17513,-18 17392.3,-9 17513,0 17633.7,-9 17513,-18\"/>\n",
       "<text text-anchor=\"middle\" x=\"17513\" y=\"-7.1\" font-family=\"Times,serif\" font-size=\"8.00\">&#45;4.079995224999999, 4.079995224999999</text>\n",
       "</g>\n",
       "<!--  1, 4&#45;&gt; 1, 4, 2 -->\n",
       "<g id=\"edge323\" class=\"edge\">\n",
       "<title> 1, 4&#45;&gt; 1, 4, 2</title>\n",
       "<path fill=\"none\" stroke=\"red\" d=\"M36372,-64.92C36364,-60.95 36353,-56.99 36344,-55 36282,-42.4 18170,-46.86 18107,-45 17910,-39.22 17676,-22.62 17570,-14.53\"/>\n",
       "<polygon fill=\"red\" stroke=\"red\" points=\"17570.12,-12.79 17565,-14.13 17569.84,-16.28 17570.12,-12.79\"/>\n",
       "<text text-anchor=\"middle\" x=\"18110\" y=\"-38.6\" font-family=\"Times,serif\" font-size=\"8.00\"> 2</text>\n",
       "</g>\n",
       "<!--  1, 4, 3 -->\n",
       "<g id=\"node358\" class=\"node\">\n",
       "<title> 1, 4, 3</title>\n",
       "<polygon fill=\"none\" stroke=\"black\" points=\"17732,-18 17651.5,-9 17732,0 17812.5,-9 17732,-18\"/>\n",
       "<text text-anchor=\"middle\" x=\"17732\" y=\"-7.1\" font-family=\"Times,serif\" font-size=\"8.00\">&#45;4.435075225, 4.435075225</text>\n",
       "</g>\n",
       "<!--  1, 4&#45;&gt; 1, 4, 3 -->\n",
       "<g id=\"edge324\" class=\"edge\">\n",
       "<title> 1, 4&#45;&gt; 1, 4, 3</title>\n",
       "<path fill=\"none\" stroke=\"red\" d=\"M36372,-64.92C36364,-60.95 36353,-56.99 36344,-55 36283,-42.6 18457,-46.48 18395,-45 18139,-38.93 18075,-35.44 17821,-18 17806,-16.98 17789,-15.6 17775,-14.27\"/>\n",
       "<polygon fill=\"red\" stroke=\"red\" points=\"17775.14,-12.53 17770,-13.78 17774.81,-16.01 17775.14,-12.53\"/>\n",
       "<text text-anchor=\"middle\" x=\"18398\" y=\"-38.6\" font-family=\"Times,serif\" font-size=\"8.00\"> 3</text>\n",
       "</g>\n",
       "<!--  1, 4, 4 -->\n",
       "<g id=\"node359\" class=\"node\">\n",
       "<title> 1, 4, 4</title>\n",
       "<polygon fill=\"none\" stroke=\"black\" points=\"17957,-18 17830,-9 17957,0 18084,-9 17957,-18\"/>\n",
       "<text text-anchor=\"middle\" x=\"17957\" y=\"-7.1\" font-family=\"Times,serif\" font-size=\"8.00\">&#45;2.3864352249999996, 2.3864352249999996</text>\n",
       "</g>\n",
       "<!--  1, 4&#45;&gt; 1, 4, 4 -->\n",
       "<g id=\"edge325\" class=\"edge\">\n",
       "<title> 1, 4&#45;&gt; 1, 4, 4</title>\n",
       "<path fill=\"none\" stroke=\"red\" d=\"M36372,-64.92C36364,-60.95 36353,-56.99 36344,-55 36283,-42.76 18688,-46.57 18627,-45 18403,-39.28 18137,-22.39 18019,-14.35\"/>\n",
       "<polygon fill=\"red\" stroke=\"red\" points=\"18018.09,-12.54 18013,-14 18017.89,-16.04 18018.09,-12.54\"/>\n",
       "<text text-anchor=\"middle\" x=\"18630\" y=\"-38.6\" font-family=\"Times,serif\" font-size=\"8.00\"> 4</text>\n",
       "</g>\n",
       "<!--  1, 4, 5 -->\n",
       "<g id=\"node360\" class=\"node\">\n",
       "<title> 1, 4, 5</title>\n",
       "<polygon fill=\"none\" stroke=\"black\" points=\"18229,-18 18102,-9 18229,0 18356,-9 18229,-18\"/>\n",
       "<text text-anchor=\"middle\" x=\"18229\" y=\"-7.1\" font-family=\"Times,serif\" font-size=\"8.00\">&#45;3.3513552249999994, 3.3513552249999994</text>\n",
       "</g>\n",
       "<!--  1, 4&#45;&gt; 1, 4, 5 -->\n",
       "<g id=\"edge326\" class=\"edge\">\n",
       "<title> 1, 4&#45;&gt; 1, 4, 5</title>\n",
       "<path fill=\"none\" stroke=\"red\" d=\"M36372,-64.92C36364,-60.95 36353,-56.99 36344,-55 36284,-42.91 18899,-46.75 18839,-45 18636,-39.19 18397,-22.61 18288,-14.53\"/>\n",
       "<polygon fill=\"red\" stroke=\"red\" points=\"18288.12,-12.79 18283,-14.15 18287.85,-16.28 18288.12,-12.79\"/>\n",
       "<text text-anchor=\"middle\" x=\"18842\" y=\"-38.6\" font-family=\"Times,serif\" font-size=\"8.00\"> 5</text>\n",
       "</g>\n",
       "<!--  1, 4, 6 -->\n",
       "<g id=\"node361\" class=\"node\">\n",
       "<title> 1, 4, 6</title>\n",
       "<polygon fill=\"none\" stroke=\"black\" points=\"18454,-18 18373.5,-9 18454,0 18534.5,-9 18454,-18\"/>\n",
       "<text text-anchor=\"middle\" x=\"18454\" y=\"-7.1\" font-family=\"Times,serif\" font-size=\"8.00\">&#45;4.011355225, 4.011355225</text>\n",
       "</g>\n",
       "<!--  1, 4&#45;&gt; 1, 4, 6 -->\n",
       "<g id=\"edge327\" class=\"edge\">\n",
       "<title> 1, 4&#45;&gt; 1, 4, 6</title>\n",
       "<path fill=\"none\" stroke=\"red\" d=\"M36372,-64.92C36364,-60.95 36353,-56.99 36344,-55 36285,-43.11 19195,-46.38 19136,-45 18872,-38.92 18806,-35.81 18543,-18 18528,-16.99 18511,-15.61 18497,-14.28\"/>\n",
       "<polygon fill=\"red\" stroke=\"red\" points=\"18497.15,-12.54 18492,-13.8 18496.81,-16.02 18497.15,-12.54\"/>\n",
       "<text text-anchor=\"middle\" x=\"19139\" y=\"-38.6\" font-family=\"Times,serif\" font-size=\"8.00\"> 6</text>\n",
       "</g>\n",
       "<!--  1, 4, 7 -->\n",
       "<g id=\"node362\" class=\"node\">\n",
       "<title> 1, 4, 7</title>\n",
       "<polygon fill=\"none\" stroke=\"black\" points=\"18673,-18 18552.3,-9 18673,0 18793.7,-9 18673,-18\"/>\n",
       "<text text-anchor=\"middle\" x=\"18673\" y=\"-7.1\" font-family=\"Times,serif\" font-size=\"8.00\">&#45;4.366435224999999, 4.366435224999999</text>\n",
       "</g>\n",
       "<!--  1, 4&#45;&gt; 1, 4, 7 -->\n",
       "<g id=\"edge328\" class=\"edge\">\n",
       "<title> 1, 4&#45;&gt; 1, 4, 7</title>\n",
       "<path fill=\"none\" stroke=\"red\" d=\"M36372,-64.92C36364,-60.95 36353,-56.99 36344,-55 36286,-43.28 19438,-46.39 19380,-45 19141,-39.36 18857,-22.12 18734,-14.13\"/>\n",
       "<polygon fill=\"red\" stroke=\"red\" points=\"18734.1,-12.39 18729,-13.81 18733.87,-15.88 18734.1,-12.39\"/>\n",
       "<text text-anchor=\"middle\" x=\"19383\" y=\"-38.6\" font-family=\"Times,serif\" font-size=\"8.00\"> 7</text>\n",
       "</g>\n",
       "<!--  1, 4, 8 -->\n",
       "<g id=\"node363\" class=\"node\">\n",
       "<title> 1, 4, 8</title>\n",
       "<polygon fill=\"none\" stroke=\"black\" points=\"18932,-18 18811.3,-9 18932,0 19052.7,-9 18932,-18\"/>\n",
       "<text text-anchor=\"middle\" x=\"18932\" y=\"-7.1\" font-family=\"Times,serif\" font-size=\"8.00\">&#45;2.056435224999999, 2.056435224999999</text>\n",
       "</g>\n",
       "<!--  1, 4&#45;&gt; 1, 4, 8 -->\n",
       "<g id=\"edge329\" class=\"edge\">\n",
       "<title> 1, 4&#45;&gt; 1, 4, 8</title>\n",
       "<path fill=\"none\" stroke=\"red\" d=\"M36372,-64.92C36364,-60.95 36353,-56.99 36344,-55 36287,-43.44 19674,-46.43 19616,-45 19385,-39.34 19112,-22.22 18993,-14.21\"/>\n",
       "<polygon fill=\"red\" stroke=\"red\" points=\"18992.09,-12.41 18987,-13.86 18991.89,-15.9 18992.09,-12.41\"/>\n",
       "<text text-anchor=\"middle\" x=\"19619\" y=\"-38.6\" font-family=\"Times,serif\" font-size=\"8.00\"> 8</text>\n",
       "</g>\n",
       "<!--  1, 4, 9 -->\n",
       "<g id=\"node364\" class=\"node\">\n",
       "<title> 1, 4, 9</title>\n",
       "<polygon fill=\"none\" stroke=\"black\" points=\"19197,-18 19070,-9 19197,0 19324,-9 19197,-18\"/>\n",
       "<text text-anchor=\"middle\" x=\"19197\" y=\"-7.1\" font-family=\"Times,serif\" font-size=\"8.00\">&#45;3.0213552249999993, 3.0213552249999993</text>\n",
       "</g>\n",
       "<!--  1, 4&#45;&gt; 1, 4, 9 -->\n",
       "<g id=\"edge330\" class=\"edge\">\n",
       "<title> 1, 4&#45;&gt; 1, 4, 9</title>\n",
       "<path fill=\"none\" stroke=\"red\" d=\"M36372,-64.92C36364,-60.95 36353,-56.99 36344,-55 36287,-43.6 19895,-46.55 19838,-45 19624,-39.24 19372,-22.52 19258,-14.45\"/>\n",
       "<polygon fill=\"red\" stroke=\"red\" points=\"19257.1,-12.64 19252,-14.08 19256.88,-16.14 19257.1,-12.64\"/>\n",
       "<text text-anchor=\"middle\" x=\"19841\" y=\"-38.6\" font-family=\"Times,serif\" font-size=\"8.00\"> 9</text>\n",
       "</g>\n",
       "<!--  1, 4, 10 -->\n",
       "<g id=\"node365\" class=\"node\">\n",
       "<title> 1, 4, 10</title>\n",
       "<polygon fill=\"none\" stroke=\"black\" points=\"19469,-18 19342,-9 19469,0 19596,-9 19469,-18\"/>\n",
       "<text text-anchor=\"middle\" x=\"19469\" y=\"-7.1\" font-family=\"Times,serif\" font-size=\"8.00\">&#45;3.6813552249999995, 3.6813552249999995</text>\n",
       "</g>\n",
       "<!--  1, 4&#45;&gt; 1, 4, 10 -->\n",
       "<g id=\"edge331\" class=\"edge\">\n",
       "<title> 1, 4&#45;&gt; 1, 4, 10</title>\n",
       "<path fill=\"none\" stroke=\"red\" d=\"M36372,-64.92C36364,-60.95 36353,-56.99 36344,-55 36288,-43.73 20091,-46.77 20035,-45 19848,-39.19 19628,-22.83 19526,-14.71\"/>\n",
       "<polygon fill=\"red\" stroke=\"red\" points=\"19526.12,-12.96 19521,-14.3 19525.84,-16.45 19526.12,-12.96\"/>\n",
       "<text text-anchor=\"middle\" x=\"20040\" y=\"-38.6\" font-family=\"Times,serif\" font-size=\"8.00\"> 10</text>\n",
       "</g>\n",
       "<!--  1, 4, 11 -->\n",
       "<g id=\"node366\" class=\"node\">\n",
       "<title> 1, 4, 11</title>\n",
       "<polygon fill=\"none\" stroke=\"black\" points=\"19694,-18 19613.5,-9 19694,0 19774.5,-9 19694,-18\"/>\n",
       "<text text-anchor=\"middle\" x=\"19694\" y=\"-7.1\" font-family=\"Times,serif\" font-size=\"8.00\">&#45;4.036435225, 4.036435225</text>\n",
       "</g>\n",
       "<!--  1, 4&#45;&gt; 1, 4, 11 -->\n",
       "<g id=\"edge332\" class=\"edge\">\n",
       "<title> 1, 4&#45;&gt; 1, 4, 11</title>\n",
       "<path fill=\"none\" stroke=\"red\" d=\"M36372,-64.92C36364,-60.95 36353,-56.99 36344,-55 36289,-43.9 20337,-46.52 20282,-45 20060,-38.93 20004,-33.95 19783,-18 19768,-16.94 19752,-15.56 19737,-14.24\"/>\n",
       "<polygon fill=\"red\" stroke=\"red\" points=\"19737.14,-12.5 19732,-13.76 19736.81,-15.98 19737.14,-12.5\"/>\n",
       "<text text-anchor=\"middle\" x=\"20287\" y=\"-38.6\" font-family=\"Times,serif\" font-size=\"8.00\"> 11</text>\n",
       "</g>\n",
       "<!--  1, 4, 12 -->\n",
       "<g id=\"node367\" class=\"node\">\n",
       "<title> 1, 4, 12</title>\n",
       "<polygon fill=\"none\" stroke=\"black\" points=\"19919,-18 19792,-9 19919,0 20046,-9 19919,-18\"/>\n",
       "<text text-anchor=\"middle\" x=\"19919\" y=\"-7.1\" font-family=\"Times,serif\" font-size=\"8.00\">&#45;1.4650752249999992, 1.4650752249999992</text>\n",
       "</g>\n",
       "<!--  1, 4&#45;&gt; 1, 4, 12 -->\n",
       "<g id=\"edge333\" class=\"edge\">\n",
       "<title> 1, 4&#45;&gt; 1, 4, 12</title>\n",
       "<path fill=\"none\" stroke=\"red\" d=\"M36372,-64.92C36364,-60.95 36353,-56.99 36344,-55 36290,-44.04 20536,-46.73 20481,-45 20296,-39.2 20077,-22.88 19976,-14.74\"/>\n",
       "<polygon fill=\"red\" stroke=\"red\" points=\"19976.12,-12.99 19971,-14.33 19975.84,-16.48 19976.12,-12.99\"/>\n",
       "<text text-anchor=\"middle\" x=\"20486\" y=\"-38.6\" font-family=\"Times,serif\" font-size=\"8.00\"> 12</text>\n",
       "</g>\n",
       "<!--  1, 4, 13 -->\n",
       "<g id=\"node368\" class=\"node\">\n",
       "<title> 1, 4, 13</title>\n",
       "<polygon fill=\"none\" stroke=\"black\" points=\"20144,-18 20063.5,-9 20144,0 20224.5,-9 20144,-18\"/>\n",
       "<text text-anchor=\"middle\" x=\"20144\" y=\"-7.1\" font-family=\"Times,serif\" font-size=\"8.00\">&#45;2.429995225, 2.429995225</text>\n",
       "</g>\n",
       "<!--  1, 4&#45;&gt; 1, 4, 13 -->\n",
       "<g id=\"edge334\" class=\"edge\">\n",
       "<title> 1, 4&#45;&gt; 1, 4, 13</title>\n",
       "<path fill=\"none\" stroke=\"red\" d=\"M36372,-64.92C36364,-60.95 36353,-56.99 36344,-55 36290,-44.2 20776,-46.52 20722,-45 20504,-38.93 20450,-33.62 20234,-18 20219,-16.91 20202,-15.52 20187,-14.19\"/>\n",
       "<polygon fill=\"red\" stroke=\"red\" points=\"20187.14,-12.45 20182,-13.71 20186.81,-15.93 20187.14,-12.45\"/>\n",
       "<text text-anchor=\"middle\" x=\"20727\" y=\"-38.6\" font-family=\"Times,serif\" font-size=\"8.00\"> 13</text>\n",
       "</g>\n",
       "<!--  1, 4, 14 -->\n",
       "<g id=\"node369\" class=\"node\">\n",
       "<title> 1, 4, 14</title>\n",
       "<polygon fill=\"none\" stroke=\"black\" points=\"20323,-18 20242.5,-9 20323,0 20403.5,-9 20323,-18\"/>\n",
       "<text text-anchor=\"middle\" x=\"20323\" y=\"-7.1\" font-family=\"Times,serif\" font-size=\"8.00\">&#45;3.089995225, 3.089995225</text>\n",
       "</g>\n",
       "<!--  1, 4&#45;&gt; 1, 4, 14 -->\n",
       "<g id=\"edge335\" class=\"edge\">\n",
       "<title> 1, 4&#45;&gt; 1, 4, 14</title>\n",
       "<path fill=\"none\" stroke=\"red\" d=\"M36372,-64.92C36364,-60.95 36353,-56.99 36344,-55 36292,-44.44 21113,-46.12 21060,-45 20771,-38.9 20699,-36.91 20412,-18 20397,-17.01 20380,-15.62 20366,-14.28\"/>\n",
       "<polygon fill=\"red\" stroke=\"red\" points=\"20365.13,-12.45 20360,-13.79 20364.84,-15.94 20365.13,-12.45\"/>\n",
       "<text text-anchor=\"middle\" x=\"21065\" y=\"-38.6\" font-family=\"Times,serif\" font-size=\"8.00\"> 14</text>\n",
       "</g>\n",
       "<!--  1, 4, 15 -->\n",
       "<g id=\"node370\" class=\"node\">\n",
       "<title> 1, 4, 15</title>\n",
       "<polygon fill=\"none\" stroke=\"black\" points=\"20548,-18 20421,-9 20548,0 20675,-9 20548,-18\"/>\n",
       "<text text-anchor=\"middle\" x=\"20548\" y=\"-7.1\" font-family=\"Times,serif\" font-size=\"8.00\">&#45;3.4450752249999996, 3.4450752249999996</text>\n",
       "</g>\n",
       "<!--  1, 4&#45;&gt; 1, 4, 15 -->\n",
       "<g id=\"edge336\" class=\"edge\">\n",
       "<title> 1, 4&#45;&gt; 1, 4, 15</title>\n",
       "<path fill=\"none\" stroke=\"red\" d=\"M36372,-64.92C36364,-60.95 36353,-56.99 36344,-55 36293,-44.63 21384,-46.1 21332,-45 21065,-39.37 20749,-21.93 20614,-14\"/>\n",
       "<polygon fill=\"red\" stroke=\"red\" points=\"20614.1,-12.25 20609,-13.7 20613.88,-15.74 20614.1,-12.25\"/>\n",
       "<text text-anchor=\"middle\" x=\"21337\" y=\"-38.6\" font-family=\"Times,serif\" font-size=\"8.00\"> 15</text>\n",
       "</g>\n",
       "<!--  1, 5 -->\n",
       "<g id=\"node22\" class=\"node\">\n",
       "<title> 1, 5</title>\n",
       "<ellipse fill=\"none\" stroke=\"red\" cx=\"36494\" cy=\"-77.14\" rx=\"41.02\" ry=\"14.29\"/>\n",
       "<text text-anchor=\"middle\" x=\"36494\" y=\"-79.74\" font-family=\"Times,serif\" font-size=\"8.00\">Current player: 1</text>\n",
       "<text text-anchor=\"middle\" x=\"36494\" y=\"-70.74\" font-family=\"Times,serif\" font-size=\"8.00\">us: op:</text>\n",
       "</g>\n",
       "<!--  1, 5, 0 -->\n",
       "<g id=\"node371\" class=\"node\">\n",
       "<title> 1, 5, 0</title>\n",
       "<polygon fill=\"none\" stroke=\"black\" points=\"20820,-18 20693,-9 20820,0 20947,-9 20820,-18\"/>\n",
       "<text text-anchor=\"middle\" x=\"20820\" y=\"-7.1\" font-family=\"Times,serif\" font-size=\"8.00\">&#45;0.8572908305555555, 0.8572908305555555</text>\n",
       "</g>\n",
       "<!--  1, 5&#45;&gt; 1, 5, 0 -->\n",
       "<g id=\"edge337\" class=\"edge\">\n",
       "<title> 1, 5&#45;&gt; 1, 5, 0</title>\n",
       "<path fill=\"none\" stroke=\"red\" d=\"M36472,-64.92C36464,-60.95 36453,-56.99 36444,-55 36393,-44.75 21656,-46.09 21605,-45 21338,-39.37 21021,-21.93 20886,-14\"/>\n",
       "<polygon fill=\"red\" stroke=\"red\" points=\"20886.1,-12.25 20881,-13.7 20885.88,-15.74 20886.1,-12.25\"/>\n",
       "<text text-anchor=\"middle\" x=\"21608\" y=\"-38.6\" font-family=\"Times,serif\" font-size=\"8.00\"> 0</text>\n",
       "</g>\n",
       "<!--  1, 5, 1 -->\n",
       "<g id=\"node372\" class=\"node\">\n",
       "<title> 1, 5, 1</title>\n",
       "<polygon fill=\"none\" stroke=\"black\" points=\"21092,-18 20965,-9 21092,0 21219,-9 21092,-18\"/>\n",
       "<text text-anchor=\"middle\" x=\"21092\" y=\"-7.1\" font-family=\"Times,serif\" font-size=\"8.00\">&#45;1.8222108305555558, 1.8222108305555558</text>\n",
       "</g>\n",
       "<!--  1, 5&#45;&gt; 1, 5, 1 -->\n",
       "<g id=\"edge338\" class=\"edge\">\n",
       "<title> 1, 5&#45;&gt; 1, 5, 1</title>\n",
       "<path fill=\"none\" stroke=\"red\" d=\"M36472,-64.92C36464,-60.95 36453,-56.99 36444,-55 36394,-44.93 21924,-46.07 21874,-45 21608,-39.36 21292,-21.93 21158,-14\"/>\n",
       "<polygon fill=\"red\" stroke=\"red\" points=\"21157.08,-12.2 21152,-13.7 21156.9,-15.69 21157.08,-12.2\"/>\n",
       "<text text-anchor=\"middle\" x=\"21877\" y=\"-38.6\" font-family=\"Times,serif\" font-size=\"8.00\"> 1</text>\n",
       "</g>\n",
       "<!--  1, 5, 2 -->\n",
       "<g id=\"node373\" class=\"node\">\n",
       "<title> 1, 5, 2</title>\n",
       "<polygon fill=\"none\" stroke=\"black\" points=\"21364,-18 21237,-9 21364,0 21491,-9 21364,-18\"/>\n",
       "<text text-anchor=\"middle\" x=\"21364\" y=\"-7.1\" font-family=\"Times,serif\" font-size=\"8.00\">&#45;2.4822108305555557, 2.4822108305555557</text>\n",
       "</g>\n",
       "<!--  1, 5&#45;&gt; 1, 5, 2 -->\n",
       "<g id=\"edge339\" class=\"edge\">\n",
       "<title> 1, 5&#45;&gt; 1, 5, 2</title>\n",
       "<path fill=\"none\" stroke=\"red\" d=\"M36472,-64.92C36464,-60.95 36453,-56.99 36444,-55 36395,-45.12 22190,-46.06 22141,-45 21877,-39.36 21564,-21.96 21430,-14.03\"/>\n",
       "<polygon fill=\"red\" stroke=\"red\" points=\"21430.1,-12.28 21425,-13.72 21429.88,-15.77 21430.1,-12.28\"/>\n",
       "<text text-anchor=\"middle\" x=\"22144\" y=\"-38.6\" font-family=\"Times,serif\" font-size=\"8.00\"> 2</text>\n",
       "</g>\n",
       "<!--  1, 5, 3 -->\n",
       "<g id=\"node374\" class=\"node\">\n",
       "<title> 1, 5, 3</title>\n",
       "<polygon fill=\"none\" stroke=\"black\" points=\"21636,-18 21509,-9 21636,0 21763,-9 21636,-18\"/>\n",
       "<text text-anchor=\"middle\" x=\"21636\" y=\"-7.1\" font-family=\"Times,serif\" font-size=\"8.00\">&#45;2.8372908305555558, 2.8372908305555558</text>\n",
       "</g>\n",
       "<!--  1, 5&#45;&gt; 1, 5, 3 -->\n",
       "<g id=\"edge340\" class=\"edge\">\n",
       "<title> 1, 5&#45;&gt; 1, 5, 3</title>\n",
       "<path fill=\"none\" stroke=\"red\" d=\"M36472,-64.92C36464,-60.95 36453,-56.99 36444,-55 36396,-45.3 22453,-46.06 22405,-45 22144,-39.35 21833,-21.96 21701,-14.02\"/>\n",
       "<polygon fill=\"red\" stroke=\"red\" points=\"21701.1,-12.28 21696,-13.72 21700.88,-15.77 21701.1,-12.28\"/>\n",
       "<text text-anchor=\"middle\" x=\"22408\" y=\"-38.6\" font-family=\"Times,serif\" font-size=\"8.00\"> 3</text>\n",
       "</g>\n",
       "<!--  1, 5, 4 -->\n",
       "<g id=\"node375\" class=\"node\">\n",
       "<title> 1, 5, 4</title>\n",
       "<polygon fill=\"none\" stroke=\"black\" points=\"21908,-18 21781,-9 21908,0 22035,-9 21908,-18\"/>\n",
       "<text text-anchor=\"middle\" x=\"21908\" y=\"-7.1\" font-family=\"Times,serif\" font-size=\"8.00\">&#45;0.7886508305555558, 0.7886508305555558</text>\n",
       "</g>\n",
       "<!--  1, 5&#45;&gt; 1, 5, 4 -->\n",
       "<g id=\"edge341\" class=\"edge\">\n",
       "<title> 1, 5&#45;&gt; 1, 5, 4</title>\n",
       "<path fill=\"none\" stroke=\"red\" d=\"M36472,-64.92C36464,-60.95 36453,-56.99 36444,-55 36397,-45.48 22712,-46.06 22665,-45 22409,-39.35 22105,-22.07 21973,-14.1\"/>\n",
       "<polygon fill=\"red\" stroke=\"red\" points=\"21973.1,-12.36 21968,-13.78 21972.87,-15.85 21973.1,-12.36\"/>\n",
       "<text text-anchor=\"middle\" x=\"22668\" y=\"-38.6\" font-family=\"Times,serif\" font-size=\"8.00\"> 4</text>\n",
       "</g>\n",
       "<!--  1, 5, 5 -->\n",
       "<g id=\"node376\" class=\"node\">\n",
       "<title> 1, 5, 5</title>\n",
       "<polygon fill=\"none\" stroke=\"black\" points=\"22180,-18 22053,-9 22180,0 22307,-9 22180,-18\"/>\n",
       "<text text-anchor=\"middle\" x=\"22180\" y=\"-7.1\" font-family=\"Times,serif\" font-size=\"8.00\">&#45;1.7535708305555557, 1.7535708305555557</text>\n",
       "</g>\n",
       "<!--  1, 5&#45;&gt; 1, 5, 5 -->\n",
       "<g id=\"edge342\" class=\"edge\">\n",
       "<title> 1, 5&#45;&gt; 1, 5, 5</title>\n",
       "<path fill=\"none\" stroke=\"red\" d=\"M36472,-64.92C36464,-60.95 36453,-56.99 36444,-55 36398,-45.65 22967,-46.06 22920,-45 22670,-39.34 22373,-22.11 22244,-14.13\"/>\n",
       "<polygon fill=\"red\" stroke=\"red\" points=\"22244.1,-12.38 22239,-13.8 22243.87,-15.88 22244.1,-12.38\"/>\n",
       "<text text-anchor=\"middle\" x=\"22923\" y=\"-38.6\" font-family=\"Times,serif\" font-size=\"8.00\"> 5</text>\n",
       "</g>\n",
       "<!--  1, 5, 6 -->\n",
       "<g id=\"node377\" class=\"node\">\n",
       "<title> 1, 5, 6</title>\n",
       "<polygon fill=\"none\" stroke=\"black\" points=\"22445,-18 22324.3,-9 22445,0 22565.7,-9 22445,-18\"/>\n",
       "<text text-anchor=\"middle\" x=\"22445\" y=\"-7.1\" font-family=\"Times,serif\" font-size=\"8.00\">&#45;2.413570830555556, 2.413570830555556</text>\n",
       "</g>\n",
       "<!--  1, 5&#45;&gt; 1, 5, 6 -->\n",
       "<g id=\"edge343\" class=\"edge\">\n",
       "<title> 1, 5&#45;&gt; 1, 5, 6</title>\n",
       "<path fill=\"none\" stroke=\"red\" d=\"M36472,-64.92C36464,-60.95 36453,-56.99 36444,-55 36399,-45.86 23268,-45.97 23223,-45 22934,-38.89 22862,-32.94 22574,-18 22552,-16.87 22528,-15.43 22506,-14.09\"/>\n",
       "<polygon fill=\"red\" stroke=\"red\" points=\"22506.1,-12.35 22501,-13.77 22505.88,-15.84 22506.1,-12.35\"/>\n",
       "<text text-anchor=\"middle\" x=\"23226\" y=\"-38.6\" font-family=\"Times,serif\" font-size=\"8.00\"> 6</text>\n",
       "</g>\n",
       "<!--  1, 5, 7 -->\n",
       "<g id=\"node378\" class=\"node\">\n",
       "<title> 1, 5, 7</title>\n",
       "<polygon fill=\"none\" stroke=\"black\" points=\"22710,-18 22583,-9 22710,0 22837,-9 22710,-18\"/>\n",
       "<text text-anchor=\"middle\" x=\"22710\" y=\"-7.1\" font-family=\"Times,serif\" font-size=\"8.00\">&#45;2.7686508305555555, 2.7686508305555555</text>\n",
       "</g>\n",
       "<!--  1, 5&#45;&gt; 1, 5, 7 -->\n",
       "<g id=\"edge344\" class=\"edge\">\n",
       "<title> 1, 5&#45;&gt; 1, 5, 7</title>\n",
       "<path fill=\"none\" stroke=\"red\" d=\"M36472,-64.92C36464,-60.95 36453,-56.99 36444,-55 36400,-46.05 23537,-45.96 23492,-45 23226,-39.35 22910,-21.92 22776,-13.99\"/>\n",
       "<polygon fill=\"red\" stroke=\"red\" points=\"22775.08,-12.2 22770,-13.69 22774.9,-15.69 22775.08,-12.2\"/>\n",
       "<text text-anchor=\"middle\" x=\"23495\" y=\"-38.6\" font-family=\"Times,serif\" font-size=\"8.00\"> 7</text>\n",
       "</g>\n",
       "<!--  1, 5, 8 -->\n",
       "<g id=\"node379\" class=\"node\">\n",
       "<title> 1, 5, 8</title>\n",
       "<polygon fill=\"none\" stroke=\"black\" points=\"22989,-18 22855,-9 22989,0 23123,-9 22989,-18\"/>\n",
       "<text text-anchor=\"middle\" x=\"22989\" y=\"-7.1\" font-family=\"Times,serif\" font-size=\"8.00\">&#45;0.45865083055555533, 0.45865083055555533</text>\n",
       "</g>\n",
       "<!--  1, 5&#45;&gt; 1, 5, 8 -->\n",
       "<g id=\"edge345\" class=\"edge\">\n",
       "<title> 1, 5&#45;&gt; 1, 5, 8</title>\n",
       "<path fill=\"none\" stroke=\"red\" d=\"M36472,-64.92C36464,-60.95 36453,-56.99 36444,-55 36400,-46.23 23800,-45.97 23756,-45 23497,-39.3 23189,-22.1 23056,-14.13\"/>\n",
       "<polygon fill=\"red\" stroke=\"red\" points=\"23056.1,-12.38 23051,-13.83 23055.88,-15.88 23056.1,-12.38\"/>\n",
       "<text text-anchor=\"middle\" x=\"23759\" y=\"-38.6\" font-family=\"Times,serif\" font-size=\"8.00\"> 8</text>\n",
       "</g>\n",
       "<!--  1, 5, 9 -->\n",
       "<g id=\"node380\" class=\"node\">\n",
       "<title> 1, 5, 9</title>\n",
       "<polygon fill=\"none\" stroke=\"black\" points=\"23268,-18 23141,-9 23268,0 23395,-9 23268,-18\"/>\n",
       "<text text-anchor=\"middle\" x=\"23268\" y=\"-7.1\" font-family=\"Times,serif\" font-size=\"8.00\">&#45;1.4235708305555557, 1.4235708305555557</text>\n",
       "</g>\n",
       "<!--  1, 5&#45;&gt; 1, 5, 9 -->\n",
       "<g id=\"edge346\" class=\"edge\">\n",
       "<title> 1, 5&#45;&gt; 1, 5, 9</title>\n",
       "<path fill=\"none\" stroke=\"red\" d=\"M36472,-64.92C36464,-60.95 36453,-56.99 36444,-55 36401,-46.41 24055,-45.97 24012,-45 23760,-39.33 23462,-22.11 23333,-14.13\"/>\n",
       "<polygon fill=\"red\" stroke=\"red\" points=\"23332.09,-12.33 23327,-13.8 23331.9,-15.82 23332.09,-12.33\"/>\n",
       "<text text-anchor=\"middle\" x=\"24015\" y=\"-38.6\" font-family=\"Times,serif\" font-size=\"8.00\"> 9</text>\n",
       "</g>\n",
       "<!--  1, 5, 10 -->\n",
       "<g id=\"node381\" class=\"node\">\n",
       "<title> 1, 5, 10</title>\n",
       "<polygon fill=\"none\" stroke=\"black\" points=\"23533,-18 23412.3,-9 23533,0 23653.7,-9 23533,-18\"/>\n",
       "<text text-anchor=\"middle\" x=\"23533\" y=\"-7.1\" font-family=\"Times,serif\" font-size=\"8.00\">&#45;2.083570830555556, 2.083570830555556</text>\n",
       "</g>\n",
       "<!--  1, 5&#45;&gt; 1, 5, 10 -->\n",
       "<g id=\"edge347\" class=\"edge\">\n",
       "<title> 1, 5&#45;&gt; 1, 5, 10</title>\n",
       "<path fill=\"none\" stroke=\"red\" d=\"M36472,-64.92C36464,-60.96 36453,-56.99 36444,-55 36402,-46.58 24306,-45.97 24264,-45 24016,-39.35 23722,-22.03 23596,-14.08\"/>\n",
       "<polygon fill=\"red\" stroke=\"red\" points=\"23595.09,-12.27 23590,-13.75 23594.9,-15.77 23595.09,-12.27\"/>\n",
       "<text text-anchor=\"middle\" x=\"24269\" y=\"-38.6\" font-family=\"Times,serif\" font-size=\"8.00\"> 10</text>\n",
       "</g>\n",
       "<!--  1, 5, 11 -->\n",
       "<g id=\"node382\" class=\"node\">\n",
       "<title> 1, 5, 11</title>\n",
       "<polygon fill=\"none\" stroke=\"black\" points=\"23792,-18 23671.3,-9 23792,0 23912.7,-9 23792,-18\"/>\n",
       "<text text-anchor=\"middle\" x=\"23792\" y=\"-7.1\" font-family=\"Times,serif\" font-size=\"8.00\">&#45;2.438650830555556, 2.438650830555556</text>\n",
       "</g>\n",
       "<!--  1, 5&#45;&gt; 1, 5, 11 -->\n",
       "<g id=\"edge348\" class=\"edge\">\n",
       "<title> 1, 5&#45;&gt; 1, 5, 11</title>\n",
       "<path fill=\"none\" stroke=\"red\" d=\"M36472,-64.92C36464,-60.96 36453,-56.99 36444,-55 36403,-46.79 24610,-45.88 24569,-45 24281,-38.88 24209,-32.84 23922,-18 23900,-16.86 23875,-15.43 23854,-14.09\"/>\n",
       "<polygon fill=\"red\" stroke=\"red\" points=\"23854.1,-12.34 23849,-13.77 23853.88,-15.83 23854.1,-12.34\"/>\n",
       "<text text-anchor=\"middle\" x=\"24574\" y=\"-38.6\" font-family=\"Times,serif\" font-size=\"8.00\"> 11</text>\n",
       "</g>\n",
       "<!--  1, 5, 12 -->\n",
       "<g id=\"node383\" class=\"node\">\n",
       "<title> 1, 5, 12</title>\n",
       "<polygon fill=\"none\" stroke=\"black\" points=\"24065,-18 23931,-9 24065,0 24199,-9 24065,-18\"/>\n",
       "<text text-anchor=\"middle\" x=\"24065\" y=\"-7.1\" font-family=\"Times,serif\" font-size=\"8.00\">0.13270916944444472, &#45;0.13270916944444472</text>\n",
       "</g>\n",
       "<!--  1, 5&#45;&gt; 1, 5, 12 -->\n",
       "<g id=\"edge349\" class=\"edge\">\n",
       "<title> 1, 5&#45;&gt; 1, 5, 12</title>\n",
       "<path fill=\"none\" stroke=\"red\" d=\"M36472,-64.92C36464,-60.96 36453,-56.99 36444,-55 36404,-46.98 24878,-45.88 24838,-45 24577,-39.3 24266,-22.08 24132,-14.12\"/>\n",
       "<polygon fill=\"red\" stroke=\"red\" points=\"24132.1,-12.37 24127,-13.81 24131.88,-15.86 24132.1,-12.37\"/>\n",
       "<text text-anchor=\"middle\" x=\"24843\" y=\"-38.6\" font-family=\"Times,serif\" font-size=\"8.00\"> 12</text>\n",
       "</g>\n",
       "<!--  1, 5, 13 -->\n",
       "<g id=\"node384\" class=\"node\">\n",
       "<title> 1, 5, 13</title>\n",
       "<polygon fill=\"none\" stroke=\"black\" points=\"24344,-18 24217,-9 24344,0 24471,-9 24344,-18\"/>\n",
       "<text text-anchor=\"middle\" x=\"24344\" y=\"-7.1\" font-family=\"Times,serif\" font-size=\"8.00\">&#45;0.8322108305555559, 0.8322108305555559</text>\n",
       "</g>\n",
       "<!--  1, 5&#45;&gt; 1, 5, 13 -->\n",
       "<g id=\"edge350\" class=\"edge\">\n",
       "<title> 1, 5&#45;&gt; 1, 5, 13</title>\n",
       "<path fill=\"none\" stroke=\"red\" d=\"M36472,-64.92C36464,-60.96 36453,-56.99 36444,-55 36405,-47.16 25141,-45.87 25102,-45 24845,-39.32 24540,-22.02 24409,-14.07\"/>\n",
       "<polygon fill=\"red\" stroke=\"red\" points=\"24409.1,-12.32 24404,-13.75 24408.87,-15.82 24409.1,-12.32\"/>\n",
       "<text text-anchor=\"middle\" x=\"25107\" y=\"-38.6\" font-family=\"Times,serif\" font-size=\"8.00\"> 13</text>\n",
       "</g>\n",
       "<!--  1, 5, 14 -->\n",
       "<g id=\"node385\" class=\"node\">\n",
       "<title> 1, 5, 14</title>\n",
       "<polygon fill=\"none\" stroke=\"black\" points=\"24616,-18 24489,-9 24616,0 24743,-9 24616,-18\"/>\n",
       "<text text-anchor=\"middle\" x=\"24616\" y=\"-7.1\" font-family=\"Times,serif\" font-size=\"8.00\">&#45;1.4922108305555557, 1.4922108305555557</text>\n",
       "</g>\n",
       "<!--  1, 5&#45;&gt; 1, 5, 14 -->\n",
       "<g id=\"edge351\" class=\"edge\">\n",
       "<title> 1, 5&#45;&gt; 1, 5, 14</title>\n",
       "<path fill=\"none\" stroke=\"red\" d=\"M36472,-64.92C36464,-60.96 36453,-56.99 36444,-55 36406,-47.34 25400,-45.87 25362,-45 25110,-39.31 24810,-22.1 24681,-14.13\"/>\n",
       "<polygon fill=\"red\" stroke=\"red\" points=\"24681.1,-12.38 24676,-13.8 24680.87,-15.87 24681.1,-12.38\"/>\n",
       "<text text-anchor=\"middle\" x=\"25367\" y=\"-38.6\" font-family=\"Times,serif\" font-size=\"8.00\"> 14</text>\n",
       "</g>\n",
       "<!--  1, 5, 15 -->\n",
       "<g id=\"node386\" class=\"node\">\n",
       "<title> 1, 5, 15</title>\n",
       "<polygon fill=\"none\" stroke=\"black\" points=\"24888,-18 24761,-9 24888,0 25015,-9 24888,-18\"/>\n",
       "<text text-anchor=\"middle\" x=\"24888\" y=\"-7.1\" font-family=\"Times,serif\" font-size=\"8.00\">&#45;1.8472908305555555, 1.8472908305555555</text>\n",
       "</g>\n",
       "<!--  1, 5&#45;&gt; 1, 5, 15 -->\n",
       "<g id=\"edge352\" class=\"edge\">\n",
       "<title> 1, 5&#45;&gt; 1, 5, 15</title>\n",
       "<path fill=\"none\" stroke=\"red\" d=\"M36472,-64.92C36464,-60.96 36453,-56.99 36444,-55 36407,-47.51 25653,-45.87 25616,-45 25370,-39.3 25078,-22.13 24952,-14.15\"/>\n",
       "<polygon fill=\"red\" stroke=\"red\" points=\"24952.1,-12.41 24947,-13.83 24951.87,-15.9 24952.1,-12.41\"/>\n",
       "<text text-anchor=\"middle\" x=\"25621\" y=\"-38.6\" font-family=\"Times,serif\" font-size=\"8.00\"> 15</text>\n",
       "</g>\n",
       "<!--  1, 6 -->\n",
       "<g id=\"node23\" class=\"node\">\n",
       "<title> 1, 6</title>\n",
       "<ellipse fill=\"none\" stroke=\"red\" cx=\"36594\" cy=\"-77.14\" rx=\"41.02\" ry=\"14.29\"/>\n",
       "<text text-anchor=\"middle\" x=\"36594\" y=\"-79.74\" font-family=\"Times,serif\" font-size=\"8.00\">Current player: 1</text>\n",
       "<text text-anchor=\"middle\" x=\"36594\" y=\"-70.74\" font-family=\"Times,serif\" font-size=\"8.00\">us: op:</text>\n",
       "</g>\n",
       "<!--  1, 6, 0 -->\n",
       "<g id=\"node387\" class=\"node\">\n",
       "<title> 1, 6, 0</title>\n",
       "<polygon fill=\"none\" stroke=\"black\" points=\"25153,-18 25032.3,-9 25153,0 25273.7,-9 25153,-18\"/>\n",
       "<text text-anchor=\"middle\" x=\"25153\" y=\"-7.1\" font-family=\"Times,serif\" font-size=\"8.00\">1.774042502777778, &#45;1.774042502777778</text>\n",
       "</g>\n",
       "<!--  1, 6&#45;&gt; 1, 6, 0 -->\n",
       "<g id=\"edge353\" class=\"edge\">\n",
       "<title> 1, 6&#45;&gt; 1, 6, 0</title>\n",
       "<path fill=\"none\" stroke=\"red\" d=\"M36572,-64.92C36564,-60.96 36553,-56.99 36544,-55 36507,-47.65 25950,-45.81 25913,-45 25632,-38.87 25562,-32.69 25282,-18 25260,-16.86 25236,-15.43 25215,-14.1\"/>\n",
       "<polygon fill=\"red\" stroke=\"red\" points=\"25215.1,-12.35 25210,-13.78 25214.88,-15.84 25215.1,-12.35\"/>\n",
       "<text text-anchor=\"middle\" x=\"25916\" y=\"-38.6\" font-family=\"Times,serif\" font-size=\"8.00\"> 0</text>\n",
       "</g>\n",
       "<!--  1, 6, 1 -->\n",
       "<g id=\"node388\" class=\"node\">\n",
       "<title> 1, 6, 1</title>\n",
       "<polygon fill=\"none\" stroke=\"black\" points=\"25418,-18 25291,-9 25418,0 25545,-9 25418,-18\"/>\n",
       "<text text-anchor=\"middle\" x=\"25418\" y=\"-7.1\" font-family=\"Times,serif\" font-size=\"8.00\">0.8091225027777776, &#45;0.8091225027777776</text>\n",
       "</g>\n",
       "<!--  1, 6&#45;&gt; 1, 6, 1 -->\n",
       "<g id=\"edge354\" class=\"edge\">\n",
       "<title> 1, 6&#45;&gt; 1, 6, 1</title>\n",
       "<path fill=\"none\" stroke=\"red\" d=\"M36572,-64.92C36564,-60.96 36553,-56.99 36544,-55 36473,-40.73 26297,-46.47 26226,-45 25927,-38.85 25852,-32.78 25554,-18 25530,-16.85 25505,-15.41 25483,-14.07\"/>\n",
       "<polygon fill=\"red\" stroke=\"red\" points=\"25483.1,-12.32 25478,-13.77 25482.88,-15.81 25483.1,-12.32\"/>\n",
       "<text text-anchor=\"middle\" x=\"26229\" y=\"-38.6\" font-family=\"Times,serif\" font-size=\"8.00\"> 1</text>\n",
       "</g>\n",
       "<!--  1, 6, 2 -->\n",
       "<g id=\"node389\" class=\"node\">\n",
       "<title> 1, 6, 2</title>\n",
       "<polygon fill=\"none\" stroke=\"black\" points=\"25697,-18 25563,-9 25697,0 25831,-9 25697,-18\"/>\n",
       "<text text-anchor=\"middle\" x=\"25697\" y=\"-7.1\" font-family=\"Times,serif\" font-size=\"8.00\">0.14912250277777772, &#45;0.14912250277777772</text>\n",
       "</g>\n",
       "<!--  1, 6&#45;&gt; 1, 6, 2 -->\n",
       "<g id=\"edge355\" class=\"edge\">\n",
       "<title> 1, 6&#45;&gt; 1, 6, 2</title>\n",
       "<path fill=\"none\" stroke=\"red\" d=\"M36572,-64.92C36564,-60.96 36553,-56.99 36544,-55 36475,-41.11 26571,-46.46 26502,-45 26229,-39.3 25905,-21.98 25765,-14.04\"/>\n",
       "<polygon fill=\"red\" stroke=\"red\" points=\"25765.1,-12.3 25760,-13.74 25764.88,-15.79 25765.1,-12.3\"/>\n",
       "<text text-anchor=\"middle\" x=\"26505\" y=\"-38.6\" font-family=\"Times,serif\" font-size=\"8.00\"> 2</text>\n",
       "</g>\n",
       "<!--  1, 6, 3 -->\n",
       "<g id=\"node390\" class=\"node\">\n",
       "<title> 1, 6, 3</title>\n",
       "<polygon fill=\"none\" stroke=\"black\" points=\"25983,-18 25849,-9 25983,0 26117,-9 25983,-18\"/>\n",
       "<text text-anchor=\"middle\" x=\"25983\" y=\"-7.1\" font-family=\"Times,serif\" font-size=\"8.00\">&#45;0.20595749722222226, 0.20595749722222226</text>\n",
       "</g>\n",
       "<!--  1, 6&#45;&gt; 1, 6, 3 -->\n",
       "<g id=\"edge356\" class=\"edge\">\n",
       "<title> 1, 6&#45;&gt; 1, 6, 3</title>\n",
       "<path fill=\"none\" stroke=\"red\" d=\"M36572,-64.92C36564,-60.96 36553,-56.99 36544,-55 36477,-41.48 26840,-46.45 26773,-45 26505,-39.29 26188,-22.03 26051,-14.09\"/>\n",
       "<polygon fill=\"red\" stroke=\"red\" points=\"26051.1,-12.34 26046,-13.79 26050.88,-15.83 26051.1,-12.34\"/>\n",
       "<text text-anchor=\"middle\" x=\"26776\" y=\"-38.6\" font-family=\"Times,serif\" font-size=\"8.00\"> 3</text>\n",
       "</g>\n",
       "<!--  1, 6, 4 -->\n",
       "<g id=\"node391\" class=\"node\">\n",
       "<title> 1, 6, 4</title>\n",
       "<polygon fill=\"none\" stroke=\"black\" points=\"26262,-18 26135,-9 26262,0 26389,-9 26262,-18\"/>\n",
       "<text text-anchor=\"middle\" x=\"26262\" y=\"-7.1\" font-family=\"Times,serif\" font-size=\"8.00\">1.8426825027777776, &#45;1.8426825027777776</text>\n",
       "</g>\n",
       "<!--  1, 6&#45;&gt; 1, 6, 4 -->\n",
       "<g id=\"edge357\" class=\"edge\">\n",
       "<title> 1, 6&#45;&gt; 1, 6, 4</title>\n",
       "<path fill=\"none\" stroke=\"red\" d=\"M36572,-64.92C36564,-60.96 36553,-56.99 36544,-55 36479,-41.85 27107,-46.42 27041,-45 26776,-39.31 26462,-21.94 26328,-14.02\"/>\n",
       "<polygon fill=\"red\" stroke=\"red\" points=\"26328.1,-12.27 26323,-13.72 26327.88,-15.76 26328.1,-12.27\"/>\n",
       "<text text-anchor=\"middle\" x=\"27044\" y=\"-38.6\" font-family=\"Times,serif\" font-size=\"8.00\"> 4</text>\n",
       "</g>\n",
       "<!--  1, 6, 5 -->\n",
       "<g id=\"node392\" class=\"node\">\n",
       "<title> 1, 6, 5</title>\n",
       "<polygon fill=\"none\" stroke=\"black\" points=\"26534,-18 26407,-9 26534,0 26661,-9 26534,-18\"/>\n",
       "<text text-anchor=\"middle\" x=\"26534\" y=\"-7.1\" font-family=\"Times,serif\" font-size=\"8.00\">0.8777625027777777, &#45;0.8777625027777777</text>\n",
       "</g>\n",
       "<!--  1, 6&#45;&gt; 1, 6, 5 -->\n",
       "<g id=\"edge358\" class=\"edge\">\n",
       "<title> 1, 6&#45;&gt; 1, 6, 5</title>\n",
       "<path fill=\"none\" stroke=\"red\" d=\"M36572,-64.92C36564,-60.96 36553,-56.99 36544,-55 36481,-42.22 27371,-46.39 27307,-45 27044,-39.3 26733,-21.94 26599,-14.02\"/>\n",
       "<polygon fill=\"red\" stroke=\"red\" points=\"26599.1,-12.27 26594,-13.71 26598.88,-15.76 26599.1,-12.27\"/>\n",
       "<text text-anchor=\"middle\" x=\"27310\" y=\"-38.6\" font-family=\"Times,serif\" font-size=\"8.00\"> 5</text>\n",
       "</g>\n",
       "<!--  1, 6, 6 -->\n",
       "<g id=\"node393\" class=\"node\">\n",
       "<title> 1, 6, 6</title>\n",
       "<polygon fill=\"none\" stroke=\"black\" points=\"26806,-18 26679,-9 26806,0 26933,-9 26806,-18\"/>\n",
       "<text text-anchor=\"middle\" x=\"26806\" y=\"-7.1\" font-family=\"Times,serif\" font-size=\"8.00\">0.2177625027777777, &#45;0.2177625027777777</text>\n",
       "</g>\n",
       "<!--  1, 6&#45;&gt; 1, 6, 6 -->\n",
       "<g id=\"edge359\" class=\"edge\">\n",
       "<title> 1, 6&#45;&gt; 1, 6, 6</title>\n",
       "<path fill=\"none\" stroke=\"red\" d=\"M36572,-64.92C36564,-60.96 36553,-56.99 36544,-55 36483,-42.58 27631,-46.38 27569,-45 27310,-39.29 27003,-21.97 26871,-14.04\"/>\n",
       "<polygon fill=\"red\" stroke=\"red\" points=\"26871.1,-12.3 26866,-13.74 26870.88,-15.79 26871.1,-12.3\"/>\n",
       "<text text-anchor=\"middle\" x=\"27572\" y=\"-38.6\" font-family=\"Times,serif\" font-size=\"8.00\"> 6</text>\n",
       "</g>\n",
       "<!--  1, 6, 7 -->\n",
       "<g id=\"node394\" class=\"node\">\n",
       "<title> 1, 6, 7</title>\n",
       "<polygon fill=\"none\" stroke=\"black\" points=\"27085,-18 26951,-9 27085,0 27219,-9 27085,-18\"/>\n",
       "<text text-anchor=\"middle\" x=\"27085\" y=\"-7.1\" font-family=\"Times,serif\" font-size=\"8.00\">&#45;0.13731749722222214, 0.13731749722222214</text>\n",
       "</g>\n",
       "<!--  1, 6&#45;&gt; 1, 6, 7 -->\n",
       "<g id=\"edge360\" class=\"edge\">\n",
       "<title> 1, 6&#45;&gt; 1, 6, 7</title>\n",
       "<path fill=\"none\" stroke=\"red\" d=\"M36572,-64.92C36564,-60.96 36553,-56.99 36544,-55 36484,-42.93 27883,-46.41 27823,-45 27575,-39.24 27280,-22.22 27151,-14.23\"/>\n",
       "<polygon fill=\"red\" stroke=\"red\" points=\"27151.1,-12.48 27146,-13.9 27150.87,-15.98 27151.1,-12.48\"/>\n",
       "<text text-anchor=\"middle\" x=\"27826\" y=\"-38.6\" font-family=\"Times,serif\" font-size=\"8.00\"> 7</text>\n",
       "</g>\n",
       "<!--  1, 6, 8 -->\n",
       "<g id=\"node395\" class=\"node\">\n",
       "<title> 1, 6, 8</title>\n",
       "<polygon fill=\"none\" stroke=\"black\" points=\"27358,-18 27237.3,-9 27358,0 27478.7,-9 27358,-18\"/>\n",
       "<text text-anchor=\"middle\" x=\"27358\" y=\"-7.1\" font-family=\"Times,serif\" font-size=\"8.00\">2.172682502777778, &#45;2.172682502777778</text>\n",
       "</g>\n",
       "<!--  1, 6&#45;&gt; 1, 6, 8 -->\n",
       "<g id=\"edge361\" class=\"edge\">\n",
       "<title> 1, 6&#45;&gt; 1, 6, 8</title>\n",
       "<path fill=\"none\" stroke=\"red\" d=\"M36572,-64.92C36564,-60.96 36553,-56.99 36544,-55 36486,-43.34 28175,-46.29 28117,-45 27836,-38.83 27766,-32.67 27487,-18 27465,-16.86 27441,-15.43 27420,-14.1\"/>\n",
       "<polygon fill=\"red\" stroke=\"red\" points=\"27420.1,-12.35 27415,-13.78 27419.88,-15.84 27420.1,-12.35\"/>\n",
       "<text text-anchor=\"middle\" x=\"28120\" y=\"-38.6\" font-family=\"Times,serif\" font-size=\"8.00\"> 8</text>\n",
       "</g>\n",
       "<!--  1, 6, 9 -->\n",
       "<g id=\"node396\" class=\"node\">\n",
       "<title> 1, 6, 9</title>\n",
       "<polygon fill=\"none\" stroke=\"black\" points=\"27623,-18 27496,-9 27623,0 27750,-9 27623,-18\"/>\n",
       "<text text-anchor=\"middle\" x=\"27623\" y=\"-7.1\" font-family=\"Times,serif\" font-size=\"8.00\">1.2077625027777779, &#45;1.2077625027777779</text>\n",
       "</g>\n",
       "<!--  1, 6&#45;&gt; 1, 6, 9 -->\n",
       "<g id=\"edge362\" class=\"edge\">\n",
       "<title> 1, 6&#45;&gt; 1, 6, 9</title>\n",
       "<path fill=\"none\" stroke=\"red\" d=\"M36572,-64.92C36564,-60.96 36553,-56.99 36544,-55 36488,-43.7 28432,-46.27 28376,-45 28121,-39.28 27818,-22.04 27688,-14.09\"/>\n",
       "<polygon fill=\"red\" stroke=\"red\" points=\"27688.1,-12.35 27683,-13.77 27687.87,-15.84 27688.1,-12.35\"/>\n",
       "<text text-anchor=\"middle\" x=\"28379\" y=\"-38.6\" font-family=\"Times,serif\" font-size=\"8.00\"> 9</text>\n",
       "</g>\n",
       "<!--  1, 6, 10 -->\n",
       "<g id=\"node397\" class=\"node\">\n",
       "<title> 1, 6, 10</title>\n",
       "<polygon fill=\"none\" stroke=\"black\" points=\"27895,-18 27768,-9 27895,0 28022,-9 27895,-18\"/>\n",
       "<text text-anchor=\"middle\" x=\"27895\" y=\"-7.1\" font-family=\"Times,serif\" font-size=\"8.00\">0.5477625027777777, &#45;0.5477625027777777</text>\n",
       "</g>\n",
       "<!--  1, 6&#45;&gt; 1, 6, 10 -->\n",
       "<g id=\"edge363\" class=\"edge\">\n",
       "<title> 1, 6&#45;&gt; 1, 6, 10</title>\n",
       "<path fill=\"none\" stroke=\"red\" d=\"M36572,-64.92C36564,-60.96 36553,-56.99 36544,-55 36490,-44.11 28732,-46.17 28678,-45 28390,-38.82 28318,-32.45 28031,-18 28008,-16.84 27982,-15.4 27960,-14.07\"/>\n",
       "<polygon fill=\"red\" stroke=\"red\" points=\"27960.1,-12.32 27955,-13.77 27959.88,-15.81 27960.1,-12.32\"/>\n",
       "<text text-anchor=\"middle\" x=\"28683\" y=\"-38.6\" font-family=\"Times,serif\" font-size=\"8.00\"> 10</text>\n",
       "</g>\n",
       "<!--  1, 6, 11 -->\n",
       "<g id=\"node398\" class=\"node\">\n",
       "<title> 1, 6, 11</title>\n",
       "<polygon fill=\"none\" stroke=\"black\" points=\"28174,-18 28040,-9 28174,0 28308,-9 28174,-18\"/>\n",
       "<text text-anchor=\"middle\" x=\"28174\" y=\"-7.1\" font-family=\"Times,serif\" font-size=\"8.00\">0.19268250277777785, &#45;0.19268250277777785</text>\n",
       "</g>\n",
       "<!--  1, 6&#45;&gt; 1, 6, 11 -->\n",
       "<g id=\"edge364\" class=\"edge\">\n",
       "<title> 1, 6&#45;&gt; 1, 6, 11</title>\n",
       "<path fill=\"none\" stroke=\"red\" d=\"M36572,-64.92C36564,-60.96 36553,-56.99 36544,-55 36492,-44.48 28999,-46.16 28947,-45 28686,-39.24 28376,-22.07 28241,-14.12\"/>\n",
       "<polygon fill=\"red\" stroke=\"red\" points=\"28241.1,-12.37 28236,-13.82 28240.88,-15.87 28241.1,-12.37\"/>\n",
       "<text text-anchor=\"middle\" x=\"28952\" y=\"-38.6\" font-family=\"Times,serif\" font-size=\"8.00\"> 11</text>\n",
       "</g>\n",
       "<!--  1, 6, 12 -->\n",
       "<g id=\"node399\" class=\"node\">\n",
       "<title> 1, 6, 12</title>\n",
       "<polygon fill=\"none\" stroke=\"black\" points=\"28453,-18 28326,-9 28453,0 28580,-9 28453,-18\"/>\n",
       "<text text-anchor=\"middle\" x=\"28453\" y=\"-7.1\" font-family=\"Times,serif\" font-size=\"8.00\">2.7640425027777784, &#45;2.7640425027777784</text>\n",
       "</g>\n",
       "<!--  1, 6&#45;&gt; 1, 6, 12 -->\n",
       "<g id=\"edge365\" class=\"edge\">\n",
       "<title> 1, 6&#45;&gt; 1, 6, 12</title>\n",
       "<path fill=\"none\" stroke=\"red\" d=\"M36572,-64.92C36564,-60.96 36553,-56.99 36544,-55 36494,-44.85 29262,-46.14 29211,-45 28954,-39.27 28650,-22.03 28518,-14.09\"/>\n",
       "<polygon fill=\"red\" stroke=\"red\" points=\"28518.1,-12.34 28513,-13.77 28517.87,-15.84 28518.1,-12.34\"/>\n",
       "<text text-anchor=\"middle\" x=\"29216\" y=\"-38.6\" font-family=\"Times,serif\" font-size=\"8.00\"> 12</text>\n",
       "</g>\n",
       "<!--  1, 6, 13 -->\n",
       "<g id=\"node400\" class=\"node\">\n",
       "<title> 1, 6, 13</title>\n",
       "<polygon fill=\"none\" stroke=\"black\" points=\"28725,-18 28598,-9 28725,0 28852,-9 28725,-18\"/>\n",
       "<text text-anchor=\"middle\" x=\"28725\" y=\"-7.1\" font-family=\"Times,serif\" font-size=\"8.00\">1.7991225027777777, &#45;1.7991225027777777</text>\n",
       "</g>\n",
       "<!--  1, 6&#45;&gt; 1, 6, 13 -->\n",
       "<g id=\"edge366\" class=\"edge\">\n",
       "<title> 1, 6&#45;&gt; 1, 6, 13</title>\n",
       "<path fill=\"none\" stroke=\"red\" d=\"M36572,-64.92C36564,-60.96 36553,-56.99 36544,-55 36495,-45.21 29520,-46.12 29471,-45 29219,-39.25 28919,-22.07 28790,-14.12\"/>\n",
       "<polygon fill=\"red\" stroke=\"red\" points=\"28790.1,-12.37 28785,-13.79 28789.87,-15.86 28790.1,-12.37\"/>\n",
       "<text text-anchor=\"middle\" x=\"29476\" y=\"-38.6\" font-family=\"Times,serif\" font-size=\"8.00\"> 13</text>\n",
       "</g>\n",
       "<!--  1, 6, 14 -->\n",
       "<g id=\"node401\" class=\"node\">\n",
       "<title> 1, 6, 14</title>\n",
       "<polygon fill=\"none\" stroke=\"black\" points=\"28997,-18 28870,-9 28997,0 29124,-9 28997,-18\"/>\n",
       "<text text-anchor=\"middle\" x=\"28997\" y=\"-7.1\" font-family=\"Times,serif\" font-size=\"8.00\">1.1391225027777778, &#45;1.1391225027777778</text>\n",
       "</g>\n",
       "<!--  1, 6&#45;&gt; 1, 6, 14 -->\n",
       "<g id=\"edge367\" class=\"edge\">\n",
       "<title> 1, 6&#45;&gt; 1, 6, 14</title>\n",
       "<path fill=\"none\" stroke=\"red\" d=\"M36572,-64.92C36564,-60.96 36553,-56.99 36544,-55 36497,-45.56 29772,-46.11 29725,-45 29479,-39.23 29187,-22.1 29061,-14.14\"/>\n",
       "<polygon fill=\"red\" stroke=\"red\" points=\"29061.1,-12.4 29056,-13.82 29060.87,-15.89 29061.1,-12.4\"/>\n",
       "<text text-anchor=\"middle\" x=\"29730\" y=\"-38.6\" font-family=\"Times,serif\" font-size=\"8.00\"> 14</text>\n",
       "</g>\n",
       "<!--  1, 6, 15 -->\n",
       "<g id=\"node402\" class=\"node\">\n",
       "<title> 1, 6, 15</title>\n",
       "<polygon fill=\"none\" stroke=\"black\" points=\"29262,-18 29141.3,-9 29262,0 29382.7,-9 29262,-18\"/>\n",
       "<text text-anchor=\"middle\" x=\"29262\" y=\"-7.1\" font-family=\"Times,serif\" font-size=\"8.00\">0.784042502777778, &#45;0.784042502777778</text>\n",
       "</g>\n",
       "<!--  1, 6&#45;&gt; 1, 6, 15 -->\n",
       "<g id=\"edge368\" class=\"edge\">\n",
       "<title> 1, 6&#45;&gt; 1, 6, 15</title>\n",
       "<path fill=\"none\" stroke=\"red\" d=\"M36572,-64.92C36564,-60.96 36553,-56.99 36544,-55 36499,-45.97 30067,-46 30022,-45 29741,-38.78 29671,-32.69 29391,-18 29369,-16.86 29345,-15.43 29324,-14.1\"/>\n",
       "<polygon fill=\"red\" stroke=\"red\" points=\"29324.1,-12.35 29319,-13.78 29323.88,-15.84 29324.1,-12.35\"/>\n",
       "<text text-anchor=\"middle\" x=\"30027\" y=\"-38.6\" font-family=\"Times,serif\" font-size=\"8.00\"> 15</text>\n",
       "</g>\n",
       "<!--  1, 7 -->\n",
       "<g id=\"node24\" class=\"node\">\n",
       "<title> 1, 7</title>\n",
       "<ellipse fill=\"none\" stroke=\"red\" cx=\"36694\" cy=\"-77.14\" rx=\"41.02\" ry=\"14.29\"/>\n",
       "<text text-anchor=\"middle\" x=\"36694\" y=\"-79.74\" font-family=\"Times,serif\" font-size=\"8.00\">Current player: 1</text>\n",
       "<text text-anchor=\"middle\" x=\"36694\" y=\"-70.74\" font-family=\"Times,serif\" font-size=\"8.00\">us: op:</text>\n",
       "</g>\n",
       "<!--  1, 7, 0 -->\n",
       "<g id=\"node403\" class=\"node\">\n",
       "<title> 1, 7, 0</title>\n",
       "<polygon fill=\"none\" stroke=\"black\" points=\"29527,-18 29400,-9 29527,0 29654,-9 29527,-18\"/>\n",
       "<text text-anchor=\"middle\" x=\"29527\" y=\"-7.1\" font-family=\"Times,serif\" font-size=\"8.00\">1.5449247750000001, &#45;1.5449247750000001</text>\n",
       "</g>\n",
       "<!--  1, 7&#45;&gt; 1, 7, 0 -->\n",
       "<g id=\"edge369\" class=\"edge\">\n",
       "<title> 1, 7&#45;&gt; 1, 7, 0</title>\n",
       "<path fill=\"none\" stroke=\"red\" d=\"M36672,-64.92C36664,-60.96 36653,-56.99 36644,-55 36600,-46.19 30330,-45.99 30286,-45 30029,-39.24 29724,-22.02 29592,-14.09\"/>\n",
       "<polygon fill=\"red\" stroke=\"red\" points=\"29592.1,-12.34 29587,-13.76 29591.87,-15.83 29592.1,-12.34\"/>\n",
       "<text text-anchor=\"middle\" x=\"30289\" y=\"-38.6\" font-family=\"Times,serif\" font-size=\"8.00\"> 0</text>\n",
       "</g>\n",
       "<!--  1, 7, 1 -->\n",
       "<g id=\"node404\" class=\"node\">\n",
       "<title> 1, 7, 1</title>\n",
       "<polygon fill=\"none\" stroke=\"black\" points=\"29799,-18 29672,-9 29799,0 29926,-9 29799,-18\"/>\n",
       "<text text-anchor=\"middle\" x=\"29799\" y=\"-7.1\" font-family=\"Times,serif\" font-size=\"8.00\">0.5800047749999997, &#45;0.5800047749999997</text>\n",
       "</g>\n",
       "<!--  1, 7&#45;&gt; 1, 7, 1 -->\n",
       "<g id=\"edge370\" class=\"edge\">\n",
       "<title> 1, 7&#45;&gt; 1, 7, 1</title>\n",
       "<path fill=\"none\" stroke=\"red\" d=\"M36672,-64.92C36664,-60.96 36653,-56.99 36644,-55 36602,-46.62 30634,-45.9 30592,-45 30299,-38.76 30226,-32.58 29935,-18 29911,-16.84 29886,-15.4 29864,-14.06\"/>\n",
       "<polygon fill=\"red\" stroke=\"red\" points=\"29864.1,-12.31 29859,-13.75 29863.88,-15.8 29864.1,-12.31\"/>\n",
       "<text text-anchor=\"middle\" x=\"30595\" y=\"-38.6\" font-family=\"Times,serif\" font-size=\"8.00\"> 1</text>\n",
       "</g>\n",
       "<!--  1, 7, 2 -->\n",
       "<g id=\"node405\" class=\"node\">\n",
       "<title> 1, 7, 2</title>\n",
       "<polygon fill=\"none\" stroke=\"black\" points=\"30078,-18 29944,-9 30078,0 30212,-9 30078,-18\"/>\n",
       "<text text-anchor=\"middle\" x=\"30078\" y=\"-7.1\" font-family=\"Times,serif\" font-size=\"8.00\">&#45;0.07999522500000006, 0.07999522500000006</text>\n",
       "</g>\n",
       "<!--  1, 7&#45;&gt; 1, 7, 2 -->\n",
       "<g id=\"edge371\" class=\"edge\">\n",
       "<title> 1, 7&#45;&gt; 1, 7, 2</title>\n",
       "<path fill=\"none\" stroke=\"red\" d=\"M36672,-64.93C36664,-60.96 36653,-56.99 36644,-55 36604,-46.99 30901,-45.88 30861,-45 30596,-39.19 30281,-22.01 30146,-14.08\"/>\n",
       "<polygon fill=\"red\" stroke=\"red\" points=\"30145.08,-12.29 30140,-13.78 30144.9,-15.78 30145.08,-12.29\"/>\n",
       "<text text-anchor=\"middle\" x=\"30864\" y=\"-38.6\" font-family=\"Times,serif\" font-size=\"8.00\"> 2</text>\n",
       "</g>\n",
       "<!--  1, 7, 3 -->\n",
       "<g id=\"node406\" class=\"node\">\n",
       "<title> 1, 7, 3</title>\n",
       "<polygon fill=\"none\" stroke=\"black\" points=\"30364,-18 30230,-9 30364,0 30498,-9 30364,-18\"/>\n",
       "<text text-anchor=\"middle\" x=\"30364\" y=\"-7.1\" font-family=\"Times,serif\" font-size=\"8.00\">&#45;0.43507522500000007, 0.43507522500000007</text>\n",
       "</g>\n",
       "<!--  1, 7&#45;&gt; 1, 7, 3 -->\n",
       "<g id=\"edge372\" class=\"edge\">\n",
       "<title> 1, 7&#45;&gt; 1, 7, 3</title>\n",
       "<path fill=\"none\" stroke=\"red\" d=\"M36672,-64.93C36664,-60.96 36653,-56.99 36644,-55 36606,-47.34 31159,-45.88 31121,-45 30866,-39.17 30563,-22.11 30431,-14.17\"/>\n",
       "<polygon fill=\"red\" stroke=\"red\" points=\"30431.1,-12.42 30426,-13.87 30430.88,-15.91 30431.1,-12.42\"/>\n",
       "<text text-anchor=\"middle\" x=\"31124\" y=\"-38.6\" font-family=\"Times,serif\" font-size=\"8.00\"> 3</text>\n",
       "</g>\n",
       "<!--  1, 7, 4 -->\n",
       "<g id=\"node407\" class=\"node\">\n",
       "<title> 1, 7, 4</title>\n",
       "<polygon fill=\"none\" stroke=\"black\" points=\"30643,-18 30516,-9 30643,0 30770,-9 30643,-18\"/>\n",
       "<text text-anchor=\"middle\" x=\"30643\" y=\"-7.1\" font-family=\"Times,serif\" font-size=\"8.00\">1.6135647749999997, &#45;1.6135647749999997</text>\n",
       "</g>\n",
       "<!--  1, 7&#45;&gt; 1, 7, 4 -->\n",
       "<g id=\"edge373\" class=\"edge\">\n",
       "<title> 1, 7&#45;&gt; 1, 7, 4</title>\n",
       "<path fill=\"none\" stroke=\"red\" d=\"M36672,-64.93C36664,-60.96 36653,-56.99 36644,-55 36572,-40.39 31446,-46.73 31373,-45 31126,-39.17 30834,-22.07 30707,-14.13\"/>\n",
       "<polygon fill=\"red\" stroke=\"red\" points=\"30707.1,-12.39 30702,-13.81 30706.88,-15.88 30707.1,-12.39\"/>\n",
       "<text text-anchor=\"middle\" x=\"31376\" y=\"-38.6\" font-family=\"Times,serif\" font-size=\"8.00\"> 4</text>\n",
       "</g>\n",
       "<!--  1, 7, 5 -->\n",
       "<g id=\"node408\" class=\"node\">\n",
       "<title> 1, 7, 5</title>\n",
       "<polygon fill=\"none\" stroke=\"black\" points=\"30915,-18 30788,-9 30915,0 31042,-9 30915,-18\"/>\n",
       "<text text-anchor=\"middle\" x=\"30915\" y=\"-7.1\" font-family=\"Times,serif\" font-size=\"8.00\">0.6486447749999998, &#45;0.6486447749999998</text>\n",
       "</g>\n",
       "<!--  1, 7&#45;&gt; 1, 7, 5 -->\n",
       "<g id=\"edge374\" class=\"edge\">\n",
       "<title> 1, 7&#45;&gt; 1, 7, 5</title>\n",
       "<path fill=\"none\" stroke=\"red\" d=\"M36672,-64.93C36664,-60.96 36653,-56.99 36644,-55 36575,-41.05 31683,-46.74 31614,-45 31379,-39.14 31100,-22.17 30978,-14.21\"/>\n",
       "<polygon fill=\"red\" stroke=\"red\" points=\"30978.1,-12.47 30973,-13.89 30977.87,-15.96 30978.1,-12.47\"/>\n",
       "<text text-anchor=\"middle\" x=\"31617\" y=\"-38.6\" font-family=\"Times,serif\" font-size=\"8.00\"> 5</text>\n",
       "</g>\n",
       "<!--  1, 7, 6 -->\n",
       "<g id=\"node409\" class=\"node\">\n",
       "<title> 1, 7, 6</title>\n",
       "<polygon fill=\"none\" stroke=\"black\" points=\"31200,-18 31059.5,-9 31200,0 31340.5,-9 31200,-18\"/>\n",
       "<text text-anchor=\"middle\" x=\"31200\" y=\"-7.1\" font-family=\"Times,serif\" font-size=\"8.00\">&#45;0.011355225000000135, 0.011355225000000135</text>\n",
       "</g>\n",
       "<!--  1, 7&#45;&gt; 1, 7, 6 -->\n",
       "<g id=\"edge375\" class=\"edge\">\n",
       "<title> 1, 7&#45;&gt; 1, 7, 6</title>\n",
       "<path fill=\"none\" stroke=\"red\" d=\"M36672,-64.93C36664,-60.96 36653,-56.99 36644,-55 36578,-41.66 31900,-46.91 31834,-45 31625,-39.02 31377,-22.69 31263,-14.62\"/>\n",
       "<polygon fill=\"red\" stroke=\"red\" points=\"31263.11,-12.88 31258,-14.27 31262.86,-16.37 31263.11,-12.88\"/>\n",
       "<text text-anchor=\"middle\" x=\"31837\" y=\"-38.6\" font-family=\"Times,serif\" font-size=\"8.00\"> 6</text>\n",
       "</g>\n",
       "<!--  1, 7, 7 -->\n",
       "<g id=\"node410\" class=\"node\">\n",
       "<title> 1, 7, 7</title>\n",
       "<polygon fill=\"none\" stroke=\"black\" points=\"31439,-18 31358.5,-9 31439,0 31519.5,-9 31439,-18\"/>\n",
       "<text text-anchor=\"middle\" x=\"31439\" y=\"-7.1\" font-family=\"Times,serif\" font-size=\"8.00\">&#45;0.366435225, 0.366435225</text>\n",
       "</g>\n",
       "<!--  1, 7&#45;&gt; 1, 7, 7 -->\n",
       "<g id=\"edge376\" class=\"edge\">\n",
       "<title> 1, 7&#45;&gt; 1, 7, 7</title>\n",
       "<path fill=\"none\" stroke=\"red\" d=\"M36672,-64.93C36664,-60.96 36653,-57 36644,-55 36583,-42.56 32224,-46.39 32162,-45 31880,-38.68 31809,-36.63 31528,-18 31513,-17.01 31496,-15.64 31482,-14.31\"/>\n",
       "<polygon fill=\"red\" stroke=\"red\" points=\"31482.15,-12.56 31477,-13.82 31481.81,-16.05 31482.15,-12.56\"/>\n",
       "<text text-anchor=\"middle\" x=\"32165\" y=\"-38.6\" font-family=\"Times,serif\" font-size=\"8.00\"> 7</text>\n",
       "</g>\n",
       "<!--  1, 7, 8 -->\n",
       "<g id=\"node411\" class=\"node\">\n",
       "<title> 1, 7, 8</title>\n",
       "<polygon fill=\"none\" stroke=\"black\" points=\"31664,-18 31537,-9 31664,0 31791,-9 31664,-18\"/>\n",
       "<text text-anchor=\"middle\" x=\"31664\" y=\"-7.1\" font-family=\"Times,serif\" font-size=\"8.00\">1.9435647750000002, &#45;1.9435647750000002</text>\n",
       "</g>\n",
       "<!--  1, 7&#45;&gt; 1, 7, 8 -->\n",
       "<g id=\"edge377\" class=\"edge\">\n",
       "<title> 1, 7&#45;&gt; 1, 7, 8</title>\n",
       "<path fill=\"none\" stroke=\"red\" d=\"M36672,-64.93C36664,-60.96 36653,-57 36644,-55 36586,-43.28 32481,-46.34 32423,-45 32166,-39.14 31861,-21.97 31729,-14.07\"/>\n",
       "<polygon fill=\"red\" stroke=\"red\" points=\"31729.1,-12.32 31724,-13.74 31728.88,-15.81 31729.1,-12.32\"/>\n",
       "<text text-anchor=\"middle\" x=\"32426\" y=\"-38.6\" font-family=\"Times,serif\" font-size=\"8.00\"> 8</text>\n",
       "</g>\n",
       "<!--  1, 7, 9 -->\n",
       "<g id=\"node412\" class=\"node\">\n",
       "<title> 1, 7, 9</title>\n",
       "<polygon fill=\"none\" stroke=\"black\" points=\"31936,-18 31809,-9 31936,0 32063,-9 31936,-18\"/>\n",
       "<text text-anchor=\"middle\" x=\"31936\" y=\"-7.1\" font-family=\"Times,serif\" font-size=\"8.00\">0.9786447749999999, &#45;0.9786447749999999</text>\n",
       "</g>\n",
       "<!--  1, 7&#45;&gt; 1, 7, 9 -->\n",
       "<g id=\"edge378\" class=\"edge\">\n",
       "<title> 1, 7&#45;&gt; 1, 7, 9</title>\n",
       "<path fill=\"none\" stroke=\"red\" d=\"M36672,-64.93C36664,-60.97 36653,-57 36644,-55 36590,-44.13 32784,-46.18 32730,-45 32437,-38.62 32364,-32.59 32072,-18 32048,-16.84 32023,-15.4 32001,-14.06\"/>\n",
       "<polygon fill=\"red\" stroke=\"red\" points=\"32001.1,-12.31 31996,-13.75 32000.88,-15.8 32001.1,-12.31\"/>\n",
       "<text text-anchor=\"middle\" x=\"32733\" y=\"-38.6\" font-family=\"Times,serif\" font-size=\"8.00\"> 9</text>\n",
       "</g>\n",
       "<!--  1, 7, 10 -->\n",
       "<g id=\"node413\" class=\"node\">\n",
       "<title> 1, 7, 10</title>\n",
       "<polygon fill=\"none\" stroke=\"black\" points=\"32215,-18 32081,-9 32215,0 32349,-9 32215,-18\"/>\n",
       "<text text-anchor=\"middle\" x=\"32215\" y=\"-7.1\" font-family=\"Times,serif\" font-size=\"8.00\">0.31864477499999977, &#45;0.31864477499999977</text>\n",
       "</g>\n",
       "<!--  1, 7&#45;&gt; 1, 7, 10 -->\n",
       "<g id=\"edge379\" class=\"edge\">\n",
       "<title> 1, 7&#45;&gt; 1, 7, 10</title>\n",
       "<path fill=\"none\" stroke=\"red\" d=\"M36672,-64.93C36664,-60.97 36653,-57 36644,-55 36594,-44.87 33049,-46.13 32999,-45 32734,-39.06 32419,-21.96 32283,-14.08\"/>\n",
       "<polygon fill=\"red\" stroke=\"red\" points=\"32283.09,-12.33 32278,-13.78 32282.89,-15.82 32283.09,-12.33\"/>\n",
       "<text text-anchor=\"middle\" x=\"33004\" y=\"-38.6\" font-family=\"Times,serif\" font-size=\"8.00\"> 10</text>\n",
       "</g>\n",
       "<!--  1, 7, 11 -->\n",
       "<g id=\"node414\" class=\"node\">\n",
       "<title> 1, 7, 11</title>\n",
       "<polygon fill=\"none\" stroke=\"black\" points=\"32501,-18 32367,-9 32501,0 32635,-9 32501,-18\"/>\n",
       "<text text-anchor=\"middle\" x=\"32501\" y=\"-7.1\" font-family=\"Times,serif\" font-size=\"8.00\">&#45;0.03643522499999996, 0.03643522499999996</text>\n",
       "</g>\n",
       "<!--  1, 7&#45;&gt; 1, 7, 11 -->\n",
       "<g id=\"edge380\" class=\"edge\">\n",
       "<title> 1, 7&#45;&gt; 1, 7, 11</title>\n",
       "<path fill=\"none\" stroke=\"red\" d=\"M36672,-64.93C36664,-60.97 36653,-57 36644,-55 36598,-45.61 33312,-46.09 33265,-45 33007,-39.02 32701,-22 32568,-14.11\"/>\n",
       "<polygon fill=\"red\" stroke=\"red\" points=\"32568.09,-12.36 32563,-13.81 32567.89,-15.86 32568.09,-12.36\"/>\n",
       "<text text-anchor=\"middle\" x=\"33270\" y=\"-38.6\" font-family=\"Times,serif\" font-size=\"8.00\"> 11</text>\n",
       "</g>\n",
       "<!--  1, 7, 12 -->\n",
       "<g id=\"node415\" class=\"node\">\n",
       "<title> 1, 7, 12</title>\n",
       "<polygon fill=\"none\" stroke=\"black\" points=\"32780,-18 32653,-9 32780,0 32907,-9 32780,-18\"/>\n",
       "<text text-anchor=\"middle\" x=\"32780\" y=\"-7.1\" font-family=\"Times,serif\" font-size=\"8.00\">2.5349247750000004, &#45;2.5349247750000004</text>\n",
       "</g>\n",
       "<!--  1, 7&#45;&gt; 1, 7, 12 -->\n",
       "<g id=\"edge381\" class=\"edge\">\n",
       "<title> 1, 7&#45;&gt; 1, 7, 12</title>\n",
       "<path fill=\"none\" stroke=\"red\" d=\"M36672,-64.93C36664,-60.97 36653,-57 36644,-55 36601,-46.32 33567,-46.03 33524,-45 33273,-39.03 32975,-22 32845,-14.11\"/>\n",
       "<polygon fill=\"red\" stroke=\"red\" points=\"32845.1,-12.36 32840,-13.78 32844.88,-15.85 32845.1,-12.36\"/>\n",
       "<text text-anchor=\"middle\" x=\"33529\" y=\"-38.6\" font-family=\"Times,serif\" font-size=\"8.00\"> 12</text>\n",
       "</g>\n",
       "<!--  1, 7, 13 -->\n",
       "<g id=\"node416\" class=\"node\">\n",
       "<title> 1, 7, 13</title>\n",
       "<polygon fill=\"none\" stroke=\"black\" points=\"33052,-18 32925,-9 33052,0 33179,-9 33052,-18\"/>\n",
       "<text text-anchor=\"middle\" x=\"33052\" y=\"-7.1\" font-family=\"Times,serif\" font-size=\"8.00\">1.5700047749999997, &#45;1.5700047749999997</text>\n",
       "</g>\n",
       "<!--  1, 7&#45;&gt; 1, 7, 13 -->\n",
       "<g id=\"edge382\" class=\"edge\">\n",
       "<title> 1, 7&#45;&gt; 1, 7, 13</title>\n",
       "<path fill=\"none\" stroke=\"red\" d=\"M36672,-64.94C36664,-60.97 36653,-57 36644,-55 36605,-47.02 33816,-45.98 33777,-45 33532,-38.98 33242,-22.01 33116,-14.13\"/>\n",
       "<polygon fill=\"red\" stroke=\"red\" points=\"33116.1,-12.38 33111,-13.8 33115.88,-15.87 33116.1,-12.38\"/>\n",
       "<text text-anchor=\"middle\" x=\"33782\" y=\"-38.6\" font-family=\"Times,serif\" font-size=\"8.00\"> 13</text>\n",
       "</g>\n",
       "<!--  1, 7, 14 -->\n",
       "<g id=\"node417\" class=\"node\">\n",
       "<title> 1, 7, 14</title>\n",
       "<polygon fill=\"none\" stroke=\"black\" points=\"33324,-18 33197,-9 33324,0 33451,-9 33324,-18\"/>\n",
       "<text text-anchor=\"middle\" x=\"33324\" y=\"-7.1\" font-family=\"Times,serif\" font-size=\"8.00\">0.9100047749999999, &#45;0.9100047749999999</text>\n",
       "</g>\n",
       "<!--  1, 7&#45;&gt; 1, 7, 14 -->\n",
       "<g id=\"edge383\" class=\"edge\">\n",
       "<title> 1, 7&#45;&gt; 1, 7, 14</title>\n",
       "<path fill=\"none\" stroke=\"red\" d=\"M36672,-64.94C36664,-60.97 36653,-57 36644,-55 36572,-40.39 34093,-46.89 34021,-45 33787,-38.93 33509,-22.11 33387,-14.2\"/>\n",
       "<polygon fill=\"red\" stroke=\"red\" points=\"33387.1,-12.46 33382,-13.88 33386.88,-15.95 33387.1,-12.46\"/>\n",
       "<text text-anchor=\"middle\" x=\"34026\" y=\"-38.6\" font-family=\"Times,serif\" font-size=\"8.00\"> 14</text>\n",
       "</g>\n",
       "<!--  1, 7, 15 -->\n",
       "<g id=\"node418\" class=\"node\">\n",
       "<title> 1, 7, 15</title>\n",
       "<polygon fill=\"none\" stroke=\"black\" points=\"33596,-18 33469,-9 33596,0 33723,-9 33596,-18\"/>\n",
       "<text text-anchor=\"middle\" x=\"33596\" y=\"-7.1\" font-family=\"Times,serif\" font-size=\"8.00\">0.5549247750000001, &#45;0.5549247750000001</text>\n",
       "</g>\n",
       "<!--  1, 7&#45;&gt; 1, 7, 15 -->\n",
       "<g id=\"edge384\" class=\"edge\">\n",
       "<title> 1, 7&#45;&gt; 1, 7, 15</title>\n",
       "<path fill=\"none\" stroke=\"red\" d=\"M36672,-64.94C36664,-60.98 36653,-57.01 36644,-55 36578,-41.66 34317,-46.87 34251,-45 34032,-38.87 33774,-22.3 33658,-14.36\"/>\n",
       "<polygon fill=\"red\" stroke=\"red\" points=\"33658.11,-12.61 33653,-14.01 33657.87,-16.11 33658.11,-12.61\"/>\n",
       "<text text-anchor=\"middle\" x=\"34256\" y=\"-38.6\" font-family=\"Times,serif\" font-size=\"8.00\"> 15</text>\n",
       "</g>\n",
       "<!--  1, 8 -->\n",
       "<g id=\"node25\" class=\"node\">\n",
       "<title> 1, 8</title>\n",
       "<ellipse fill=\"none\" stroke=\"red\" cx=\"36794\" cy=\"-77.14\" rx=\"41.02\" ry=\"14.29\"/>\n",
       "<text text-anchor=\"middle\" x=\"36794\" y=\"-79.74\" font-family=\"Times,serif\" font-size=\"8.00\">Current player: 1</text>\n",
       "<text text-anchor=\"middle\" x=\"36794\" y=\"-70.74\" font-family=\"Times,serif\" font-size=\"8.00\">us: op:</text>\n",
       "</g>\n",
       "<!--  1, 8, 0 -->\n",
       "<g id=\"node419\" class=\"node\">\n",
       "<title> 1, 8, 0</title>\n",
       "<polygon fill=\"none\" stroke=\"black\" points=\"33868,-18 33741,-9 33868,0 33995,-9 33868,-18\"/>\n",
       "<text text-anchor=\"middle\" x=\"33868\" y=\"-7.1\" font-family=\"Times,serif\" font-size=\"8.00\">&#45;2.1250752249999993, 2.1250752249999993</text>\n",
       "</g>\n",
       "<!--  1, 8&#45;&gt; 1, 8, 0 -->\n",
       "<g id=\"edge385\" class=\"edge\">\n",
       "<title> 1, 8&#45;&gt; 1, 8, 0</title>\n",
       "<path fill=\"none\" stroke=\"red\" d=\"M36772,-64.94C36764,-60.98 36753,-57.01 36744,-55 36681,-42.26 34523,-47.01 34460,-45 34265,-38.81 34034,-22.6 33927,-14.6\"/>\n",
       "<polygon fill=\"red\" stroke=\"red\" points=\"33927.12,-12.85 33922,-14.2 33926.84,-16.34 33927.12,-12.85\"/>\n",
       "<text text-anchor=\"middle\" x=\"34463\" y=\"-38.6\" font-family=\"Times,serif\" font-size=\"8.00\"> 0</text>\n",
       "</g>\n",
       "<!--  1, 8, 1 -->\n",
       "<g id=\"node420\" class=\"node\">\n",
       "<title> 1, 8, 1</title>\n",
       "<polygon fill=\"none\" stroke=\"black\" points=\"34093,-18 34012.5,-9 34093,0 34173.5,-9 34093,-18\"/>\n",
       "<text text-anchor=\"middle\" x=\"34093\" y=\"-7.1\" font-family=\"Times,serif\" font-size=\"8.00\">&#45;3.089995225, 3.089995225</text>\n",
       "</g>\n",
       "<!--  1, 8&#45;&gt; 1, 8, 1 -->\n",
       "<g id=\"edge386\" class=\"edge\">\n",
       "<title> 1, 8&#45;&gt; 1, 8, 1</title>\n",
       "<path fill=\"none\" stroke=\"red\" d=\"M36772,-64.94C36764,-60.98 36753,-57.01 36744,-55 36689,-43.71 34779,-46.54 34723,-45 34482,-38.4 34422,-34.78 34182,-18 34167,-16.96 34150,-15.57 34136,-14.24\"/>\n",
       "<polygon fill=\"red\" stroke=\"red\" points=\"34136.14,-12.5 34131,-13.76 34135.81,-15.98 34136.14,-12.5\"/>\n",
       "<text text-anchor=\"middle\" x=\"34726\" y=\"-38.6\" font-family=\"Times,serif\" font-size=\"8.00\"> 1</text>\n",
       "</g>\n",
       "<!--  1, 8, 2 -->\n",
       "<g id=\"node421\" class=\"node\">\n",
       "<title> 1, 8, 2</title>\n",
       "<polygon fill=\"none\" stroke=\"black\" points=\"34318,-18 34191,-9 34318,0 34445,-9 34318,-18\"/>\n",
       "<text text-anchor=\"middle\" x=\"34318\" y=\"-7.1\" font-family=\"Times,serif\" font-size=\"8.00\">&#45;3.7499952249999997, 3.7499952249999997</text>\n",
       "</g>\n",
       "<!--  1, 8&#45;&gt; 1, 8, 2 -->\n",
       "<g id=\"edge387\" class=\"edge\">\n",
       "<title> 1, 8&#45;&gt; 1, 8, 2</title>\n",
       "<path fill=\"none\" stroke=\"red\" d=\"M36772,-64.94C36764,-60.98 36753,-57.01 36744,-55 36694,-44.9 34988,-46.54 34938,-45 34732,-38.71 34489,-22.4 34378,-14.47\"/>\n",
       "<polygon fill=\"red\" stroke=\"red\" points=\"34378.11,-12.72 34373,-14.1 34377.86,-16.21 34378.11,-12.72\"/>\n",
       "<text text-anchor=\"middle\" x=\"34941\" y=\"-38.6\" font-family=\"Times,serif\" font-size=\"8.00\"> 2</text>\n",
       "</g>\n",
       "<!--  1, 8, 3 -->\n",
       "<g id=\"node422\" class=\"node\">\n",
       "<title> 1, 8, 3</title>\n",
       "<polygon fill=\"none\" stroke=\"black\" points=\"34543,-18 34462.5,-9 34543,0 34623.5,-9 34543,-18\"/>\n",
       "<text text-anchor=\"middle\" x=\"34543\" y=\"-7.1\" font-family=\"Times,serif\" font-size=\"8.00\">&#45;4.105075225, 4.105075225</text>\n",
       "</g>\n",
       "<!--  1, 8&#45;&gt; 1, 8, 3 -->\n",
       "<g id=\"edge388\" class=\"edge\">\n",
       "<title> 1, 8&#45;&gt; 1, 8, 3</title>\n",
       "<path fill=\"none\" stroke=\"red\" d=\"M36772,-64.95C36764,-60.99 36753,-57.02 36744,-55 36703,-46.59 35285,-46.06 35244,-45 34971,-38.09 34903,-36.19 34632,-18 34617,-17 34600,-15.63 34586,-14.29\"/>\n",
       "<polygon fill=\"red\" stroke=\"red\" points=\"34586.15,-12.55 34581,-13.81 34585.81,-16.03 34586.15,-12.55\"/>\n",
       "<text text-anchor=\"middle\" x=\"35247\" y=\"-38.6\" font-family=\"Times,serif\" font-size=\"8.00\"> 3</text>\n",
       "</g>\n",
       "<!--  1, 8, 4 -->\n",
       "<g id=\"node423\" class=\"node\">\n",
       "<title> 1, 8, 4</title>\n",
       "<polygon fill=\"none\" stroke=\"black\" points=\"34768,-18 34641,-9 34768,0 34895,-9 34768,-18\"/>\n",
       "<text text-anchor=\"middle\" x=\"34768\" y=\"-7.1\" font-family=\"Times,serif\" font-size=\"8.00\">&#45;2.0564352249999995, 2.0564352249999995</text>\n",
       "</g>\n",
       "<!--  1, 8&#45;&gt; 1, 8, 4 -->\n",
       "<g id=\"edge389\" class=\"edge\">\n",
       "<title> 1, 8&#45;&gt; 1, 8, 4</title>\n",
       "<path fill=\"none\" stroke=\"red\" d=\"M36772,-64.96C36764,-61 36753,-57.02 36744,-55 36677,-41.24 35589,-46.76 35522,-45 35247,-37.87 35178,-32.07 34904,-18 34881,-16.82 34855,-15.37 34833,-14.04\"/>\n",
       "<polygon fill=\"red\" stroke=\"red\" points=\"34833.09,-12.29 34828,-13.74 34832.89,-15.79 34833.09,-12.29\"/>\n",
       "<text text-anchor=\"middle\" x=\"35525\" y=\"-38.6\" font-family=\"Times,serif\" font-size=\"8.00\"> 4</text>\n",
       "</g>\n",
       "<!--  1, 8, 5 -->\n",
       "<g id=\"node424\" class=\"node\">\n",
       "<title> 1, 8, 5</title>\n",
       "<polygon fill=\"none\" stroke=\"black\" points=\"35040,-18 34913,-9 35040,0 35167,-9 35040,-18\"/>\n",
       "<text text-anchor=\"middle\" x=\"35040\" y=\"-7.1\" font-family=\"Times,serif\" font-size=\"8.00\">&#45;3.0213552249999993, 3.0213552249999993</text>\n",
       "</g>\n",
       "<!--  1, 8&#45;&gt; 1, 8, 5 -->\n",
       "<g id=\"edge390\" class=\"edge\">\n",
       "<title> 1, 8&#45;&gt; 1, 8, 5</title>\n",
       "<path fill=\"none\" stroke=\"red\" d=\"M36772,-64.97C36764,-61.01 36753,-57.04 36744,-55 36692,-44.16 35840,-46.45 35787,-45 35515,-37.58 35447,-31.98 35176,-18 35153,-16.81 35127,-15.37 35105,-14.03\"/>\n",
       "<polygon fill=\"red\" stroke=\"red\" points=\"35105.1,-12.29 35100,-13.73 35104.88,-15.78 35105.1,-12.29\"/>\n",
       "<text text-anchor=\"middle\" x=\"35790\" y=\"-38.6\" font-family=\"Times,serif\" font-size=\"8.00\"> 5</text>\n",
       "</g>\n",
       "<!--  1, 8, 6 -->\n",
       "<g id=\"node425\" class=\"node\">\n",
       "<title> 1, 8, 6</title>\n",
       "<polygon fill=\"none\" stroke=\"black\" points=\"35312,-18 35185,-9 35312,0 35439,-9 35312,-18\"/>\n",
       "<text text-anchor=\"middle\" x=\"35312\" y=\"-7.1\" font-family=\"Times,serif\" font-size=\"8.00\">&#45;3.6813552249999995, 3.6813552249999995</text>\n",
       "</g>\n",
       "<!--  1, 8&#45;&gt; 1, 8, 6 -->\n",
       "<g id=\"edge391\" class=\"edge\">\n",
       "<title> 1, 8&#45;&gt; 1, 8, 6</title>\n",
       "<path fill=\"none\" stroke=\"red\" d=\"M36772,-64.99C36764,-61.03 36753,-57.05 36744,-55 36706,-47.03 36085,-46.15 36047,-45 35780,-37.08 35713,-31.9 35447,-18 35424,-16.82 35399,-15.39 35377,-14.06\"/>\n",
       "<polygon fill=\"red\" stroke=\"red\" points=\"35377.1,-12.32 35372,-13.75 35376.88,-15.81 35377.1,-12.32\"/>\n",
       "<text text-anchor=\"middle\" x=\"36050\" y=\"-38.6\" font-family=\"Times,serif\" font-size=\"8.00\"> 6</text>\n",
       "</g>\n",
       "<!--  1, 8, 7 -->\n",
       "<g id=\"node426\" class=\"node\">\n",
       "<title> 1, 8, 7</title>\n",
       "<polygon fill=\"none\" stroke=\"black\" points=\"35577,-18 35456.3,-9 35577,0 35697.7,-9 35577,-18\"/>\n",
       "<text text-anchor=\"middle\" x=\"35577\" y=\"-7.1\" font-family=\"Times,serif\" font-size=\"8.00\">&#45;4.036435224999999, 4.036435224999999</text>\n",
       "</g>\n",
       "<!--  1, 8&#45;&gt; 1, 8, 7 -->\n",
       "<g id=\"edge392\" class=\"edge\">\n",
       "<title> 1, 8&#45;&gt; 1, 8, 7</title>\n",
       "<path fill=\"none\" stroke=\"red\" d=\"M36772,-65.03C36764,-61.08 36753,-57.09 36744,-55 36694,-44.45 36341,-46.72 36291,-45 36030,-36.13 35965,-32.06 35706,-18 35684,-16.83 35660,-15.4 35639,-14.07\"/>\n",
       "<polygon fill=\"red\" stroke=\"red\" points=\"35639.1,-12.33 35634,-13.76 35638.88,-15.82 35639.1,-12.33\"/>\n",
       "<text text-anchor=\"middle\" x=\"36294\" y=\"-38.6\" font-family=\"Times,serif\" font-size=\"8.00\"> 7</text>\n",
       "</g>\n",
       "<!--  1, 8, 8 -->\n",
       "<g id=\"node427\" class=\"node\">\n",
       "<title> 1, 8, 8</title>\n",
       "<polygon fill=\"none\" stroke=\"black\" points=\"35842,-18 35715,-9 35842,0 35969,-9 35842,-18\"/>\n",
       "<text text-anchor=\"middle\" x=\"35842\" y=\"-7.1\" font-family=\"Times,serif\" font-size=\"8.00\">&#45;1.7264352249999992, 1.7264352249999992</text>\n",
       "</g>\n",
       "<!--  1, 8&#45;&gt; 1, 8, 8 -->\n",
       "<g id=\"edge393\" class=\"edge\">\n",
       "<title> 1, 8&#45;&gt; 1, 8, 8</title>\n",
       "<path fill=\"none\" stroke=\"red\" d=\"M36772,-64.89C36763,-61.02 36753,-57.13 36744,-55 36688,-42.51 36543,-47.63 36486,-45 36260,-34.62 36203,-30.64 35978,-18 35955,-16.73 35930,-15.29 35908,-13.99\"/>\n",
       "<polygon fill=\"red\" stroke=\"red\" points=\"35908.1,-12.24 35903,-13.68 35907.88,-15.74 35908.1,-12.24\"/>\n",
       "<text text-anchor=\"middle\" x=\"36489\" y=\"-38.6\" font-family=\"Times,serif\" font-size=\"8.00\"> 8</text>\n",
       "</g>\n",
       "<!--  1, 8, 9 -->\n",
       "<g id=\"node428\" class=\"node\">\n",
       "<title> 1, 8, 9</title>\n",
       "<polygon fill=\"none\" stroke=\"black\" points=\"36114,-18 35987,-9 36114,0 36241,-9 36114,-18\"/>\n",
       "<text text-anchor=\"middle\" x=\"36114\" y=\"-7.1\" font-family=\"Times,serif\" font-size=\"8.00\">&#45;2.6913552249999992, 2.6913552249999992</text>\n",
       "</g>\n",
       "<!--  1, 8&#45;&gt; 1, 8, 9 -->\n",
       "<g id=\"edge394\" class=\"edge\">\n",
       "<title> 1, 8&#45;&gt; 1, 8, 9</title>\n",
       "<path fill=\"none\" stroke=\"red\" d=\"M36772,-65.05C36763,-61.21 36753,-57.29 36744,-55 36730,-51.72 36334,-24.8 36177,-14.23\"/>\n",
       "<polygon fill=\"red\" stroke=\"red\" points=\"36177.11,-12.49 36172,-13.89 36176.87,-15.98 36177.11,-12.49\"/>\n",
       "<text text-anchor=\"middle\" x=\"36620\" y=\"-38.6\" font-family=\"Times,serif\" font-size=\"8.00\"> 9</text>\n",
       "</g>\n",
       "<!--  1, 8, 10 -->\n",
       "<g id=\"node429\" class=\"node\">\n",
       "<title> 1, 8, 10</title>\n",
       "<polygon fill=\"none\" stroke=\"black\" points=\"36386,-18 36259,-9 36386,0 36513,-9 36386,-18\"/>\n",
       "<text text-anchor=\"middle\" x=\"36386\" y=\"-7.1\" font-family=\"Times,serif\" font-size=\"8.00\">&#45;3.3513552249999994, 3.3513552249999994</text>\n",
       "</g>\n",
       "<!--  1, 8&#45;&gt; 1, 8, 10 -->\n",
       "<g id=\"edge395\" class=\"edge\">\n",
       "<title> 1, 8&#45;&gt; 1, 8, 10</title>\n",
       "<path fill=\"none\" stroke=\"red\" d=\"M36771,-65.1C36763,-61.36 36753,-57.49 36744,-55 36688,-39.96 36525,-23.15 36440,-14.98\"/>\n",
       "<polygon fill=\"red\" stroke=\"red\" points=\"36440.14,-13.24 36435,-14.51 36439.81,-16.73 36440.14,-13.24\"/>\n",
       "<text text-anchor=\"middle\" x=\"36699\" y=\"-38.6\" font-family=\"Times,serif\" font-size=\"8.00\"> 10</text>\n",
       "</g>\n",
       "<!--  1, 8, 11 -->\n",
       "<g id=\"node430\" class=\"node\">\n",
       "<title> 1, 8, 11</title>\n",
       "<polygon fill=\"none\" stroke=\"black\" points=\"36658,-18 36531,-9 36658,0 36785,-9 36658,-18\"/>\n",
       "<text text-anchor=\"middle\" x=\"36658\" y=\"-7.1\" font-family=\"Times,serif\" font-size=\"8.00\">&#45;3.7064352249999994, 3.7064352249999994</text>\n",
       "</g>\n",
       "<!--  1, 8&#45;&gt; 1, 8, 11 -->\n",
       "<g id=\"edge396\" class=\"edge\">\n",
       "<title> 1, 8&#45;&gt; 1, 8, 11</title>\n",
       "<path fill=\"none\" stroke=\"red\" d=\"M36771,-65.22C36745,-52.42 36702,-31.44 36677,-19.36\"/>\n",
       "<polygon fill=\"red\" stroke=\"red\" points=\"36677.27,-17.56 36672,-17.07 36675.81,-20.74 36677.27,-17.56\"/>\n",
       "<text text-anchor=\"middle\" x=\"36731\" y=\"-38.6\" font-family=\"Times,serif\" font-size=\"8.00\"> 11</text>\n",
       "</g>\n",
       "<!--  1, 8, 12 -->\n",
       "<g id=\"node431\" class=\"node\">\n",
       "<title> 1, 8, 12</title>\n",
       "<polygon fill=\"none\" stroke=\"black\" points=\"36930,-18 36803,-9 36930,0 37057,-9 36930,-18\"/>\n",
       "<text text-anchor=\"middle\" x=\"36930\" y=\"-7.1\" font-family=\"Times,serif\" font-size=\"8.00\">&#45;1.1350752249999991, 1.1350752249999991</text>\n",
       "</g>\n",
       "<!--  1, 8&#45;&gt; 1, 8, 12 -->\n",
       "<g id=\"edge397\" class=\"edge\">\n",
       "<title> 1, 8&#45;&gt; 1, 8, 12</title>\n",
       "<path fill=\"none\" stroke=\"red\" d=\"M36816,-65.22C36842,-52.42 36886,-31.44 36910,-19.36\"/>\n",
       "<polygon fill=\"red\" stroke=\"red\" points=\"36911.18,-20.74 36915,-17.07 36909.72,-17.56 36911.18,-20.74\"/>\n",
       "<text text-anchor=\"middle\" x=\"36880\" y=\"-38.6\" font-family=\"Times,serif\" font-size=\"8.00\"> 12</text>\n",
       "</g>\n",
       "<!--  1, 8, 13 -->\n",
       "<g id=\"node432\" class=\"node\">\n",
       "<title> 1, 8, 13</title>\n",
       "<polygon fill=\"none\" stroke=\"black\" points=\"37155,-18 37074.5,-9 37155,0 37235.5,-9 37155,-18\"/>\n",
       "<text text-anchor=\"middle\" x=\"37155\" y=\"-7.1\" font-family=\"Times,serif\" font-size=\"8.00\">&#45;2.099995225, 2.099995225</text>\n",
       "</g>\n",
       "<!--  1, 8&#45;&gt; 1, 8, 13 -->\n",
       "<g id=\"edge398\" class=\"edge\">\n",
       "<title> 1, 8&#45;&gt; 1, 8, 13</title>\n",
       "<path fill=\"none\" stroke=\"red\" d=\"M36829,-69.68C36899,-56.85 37055,-28.33 37122,-15.94\"/>\n",
       "<polygon fill=\"red\" stroke=\"red\" points=\"37122.41,-17.64 37127,-15.01 37121.76,-14.2 37122.41,-17.64\"/>\n",
       "<text text-anchor=\"middle\" x=\"37012\" y=\"-38.6\" font-family=\"Times,serif\" font-size=\"8.00\"> 13</text>\n",
       "</g>\n",
       "<!--  1, 8, 14 -->\n",
       "<g id=\"node433\" class=\"node\">\n",
       "<title> 1, 8, 14</title>\n",
       "<polygon fill=\"none\" stroke=\"black\" points=\"37334,-18 37253.5,-9 37334,0 37414.5,-9 37334,-18\"/>\n",
       "<text text-anchor=\"middle\" x=\"37334\" y=\"-7.1\" font-family=\"Times,serif\" font-size=\"8.00\">&#45;2.759995225, 2.759995225</text>\n",
       "</g>\n",
       "<!--  1, 8&#45;&gt; 1, 8, 14 -->\n",
       "<g id=\"edge399\" class=\"edge\">\n",
       "<title> 1, 8&#45;&gt; 1, 8, 14</title>\n",
       "<path fill=\"none\" stroke=\"red\" d=\"M36832,-71.49C36930,-59.42 37194,-27.15 37294,-14.86\"/>\n",
       "<polygon fill=\"red\" stroke=\"red\" points=\"37294.26,-16.59 37299,-14.21 37293.82,-13.11 37294.26,-16.59\"/>\n",
       "<text text-anchor=\"middle\" x=\"37118\" y=\"-38.6\" font-family=\"Times,serif\" font-size=\"8.00\"> 14</text>\n",
       "</g>\n",
       "<!--  1, 8, 15 -->\n",
       "<g id=\"node434\" class=\"node\">\n",
       "<title> 1, 8, 15</title>\n",
       "<polygon fill=\"none\" stroke=\"black\" points=\"37559,-18 37432,-9 37559,0 37686,-9 37559,-18\"/>\n",
       "<text text-anchor=\"middle\" x=\"37559\" y=\"-7.1\" font-family=\"Times,serif\" font-size=\"8.00\">&#45;3.1150752249999996, 3.1150752249999996</text>\n",
       "</g>\n",
       "<!--  1, 8&#45;&gt; 1, 8, 15 -->\n",
       "<g id=\"edge400\" class=\"edge\">\n",
       "<title> 1, 8&#45;&gt; 1, 8, 15</title>\n",
       "<path fill=\"none\" stroke=\"red\" d=\"M36833,-72.75C36959,-61.83 37355,-27.61 37502,-14.85\"/>\n",
       "<polygon fill=\"red\" stroke=\"red\" points=\"37503.14,-16.52 37508,-14.41 37502.88,-13.03 37503.14,-16.52\"/>\n",
       "<text text-anchor=\"middle\" x=\"37251\" y=\"-38.6\" font-family=\"Times,serif\" font-size=\"8.00\"> 15</text>\n",
       "</g>\n",
       "<!--  1, 9 -->\n",
       "<g id=\"node26\" class=\"node\">\n",
       "<title> 1, 9</title>\n",
       "<ellipse fill=\"none\" stroke=\"red\" cx=\"39721\" cy=\"-77.14\" rx=\"41.02\" ry=\"14.29\"/>\n",
       "<text text-anchor=\"middle\" x=\"39721\" y=\"-79.74\" font-family=\"Times,serif\" font-size=\"8.00\">Current player: 1</text>\n",
       "<text text-anchor=\"middle\" x=\"39721\" y=\"-70.74\" font-family=\"Times,serif\" font-size=\"8.00\">us: op:</text>\n",
       "</g>\n",
       "<!--  1, 9, 0 -->\n",
       "<g id=\"node435\" class=\"node\">\n",
       "<title> 1, 9, 0</title>\n",
       "<polygon fill=\"none\" stroke=\"black\" points=\"37831,-18 37704,-9 37831,0 37958,-9 37831,-18\"/>\n",
       "<text text-anchor=\"middle\" x=\"37831\" y=\"-7.1\" font-family=\"Times,serif\" font-size=\"8.00\">&#45;0.5272908305555555, 0.5272908305555555</text>\n",
       "</g>\n",
       "<!--  1, 9&#45;&gt; 1, 9, 0 -->\n",
       "<g id=\"edge401\" class=\"edge\">\n",
       "<title> 1, 9&#45;&gt; 1, 9, 0</title>\n",
       "<path fill=\"none\" stroke=\"red\" d=\"M39680,-75.28C39487,-71.14 38651,-51.97 37967,-18 37943,-16.85 37918,-15.41 37896,-14.06\"/>\n",
       "<polygon fill=\"red\" stroke=\"red\" points=\"37896.1,-12.32 37891,-13.76 37895.88,-15.81 37896.1,-12.32\"/>\n",
       "<text text-anchor=\"middle\" x=\"38597\" y=\"-38.6\" font-family=\"Times,serif\" font-size=\"8.00\"> 0</text>\n",
       "</g>\n",
       "<!--  1, 9, 1 -->\n",
       "<g id=\"node436\" class=\"node\">\n",
       "<title> 1, 9, 1</title>\n",
       "<polygon fill=\"none\" stroke=\"black\" points=\"38103,-18 37976,-9 38103,0 38230,-9 38103,-18\"/>\n",
       "<text text-anchor=\"middle\" x=\"38103\" y=\"-7.1\" font-family=\"Times,serif\" font-size=\"8.00\">&#45;1.4922108305555557, 1.4922108305555557</text>\n",
       "</g>\n",
       "<!--  1, 9&#45;&gt; 1, 9, 1 -->\n",
       "<g id=\"edge402\" class=\"edge\">\n",
       "<title> 1, 9&#45;&gt; 1, 9, 1</title>\n",
       "<path fill=\"none\" stroke=\"red\" d=\"M39680,-74.89C39506,-69.5 38810,-47.11 38239,-18 38216,-16.82 38190,-15.38 38168,-14.05\"/>\n",
       "<polygon fill=\"red\" stroke=\"red\" points=\"38168.1,-12.3 38163,-13.75 38167.88,-15.8 38168.1,-12.3\"/>\n",
       "<text text-anchor=\"middle\" x=\"38813\" y=\"-38.6\" font-family=\"Times,serif\" font-size=\"8.00\"> 1</text>\n",
       "</g>\n",
       "<!--  1, 9, 2 -->\n",
       "<g id=\"node437\" class=\"node\">\n",
       "<title> 1, 9, 2</title>\n",
       "<polygon fill=\"none\" stroke=\"black\" points=\"38375,-18 38248,-9 38375,0 38502,-9 38375,-18\"/>\n",
       "<text text-anchor=\"middle\" x=\"38375\" y=\"-7.1\" font-family=\"Times,serif\" font-size=\"8.00\">&#45;2.1522108305555556, 2.1522108305555556</text>\n",
       "</g>\n",
       "<!--  1, 9&#45;&gt; 1, 9, 2 -->\n",
       "<g id=\"edge403\" class=\"edge\">\n",
       "<title> 1, 9&#45;&gt; 1, 9, 2</title>\n",
       "<path fill=\"none\" stroke=\"red\" d=\"M39680,-74.37C39528,-67.6 38970,-42.55 38511,-18 38488,-16.77 38463,-15.33 38440,-14\"/>\n",
       "<polygon fill=\"red\" stroke=\"red\" points=\"38440.09,-12.25 38435,-13.7 38439.89,-15.75 38440.09,-12.25\"/>\n",
       "<text text-anchor=\"middle\" x=\"39046\" y=\"-38.6\" font-family=\"Times,serif\" font-size=\"8.00\"> 2</text>\n",
       "</g>\n",
       "<!--  1, 9, 3 -->\n",
       "<g id=\"node438\" class=\"node\">\n",
       "<title> 1, 9, 3</title>\n",
       "<polygon fill=\"none\" stroke=\"black\" points=\"38647,-18 38520,-9 38647,0 38774,-9 38647,-18\"/>\n",
       "<text text-anchor=\"middle\" x=\"38647\" y=\"-7.1\" font-family=\"Times,serif\" font-size=\"8.00\">&#45;2.5072908305555557, 2.5072908305555557</text>\n",
       "</g>\n",
       "<!--  1, 9&#45;&gt; 1, 9, 3 -->\n",
       "<g id=\"edge404\" class=\"edge\">\n",
       "<title> 1, 9&#45;&gt; 1, 9, 3</title>\n",
       "<path fill=\"none\" stroke=\"red\" d=\"M39681,-73.69C39520,-63.76 38914,-26.48 38712,-14.05\"/>\n",
       "<polygon fill=\"red\" stroke=\"red\" points=\"38712.1,-12.31 38707,-13.73 38711.87,-15.8 38712.1,-12.31\"/>\n",
       "<text text-anchor=\"middle\" x=\"39187\" y=\"-38.6\" font-family=\"Times,serif\" font-size=\"8.00\"> 3</text>\n",
       "</g>\n",
       "<!--  1, 9, 4 -->\n",
       "<g id=\"node439\" class=\"node\">\n",
       "<title> 1, 9, 4</title>\n",
       "<polygon fill=\"none\" stroke=\"black\" points=\"38919,-18 38792,-9 38919,0 39046,-9 38919,-18\"/>\n",
       "<text text-anchor=\"middle\" x=\"38919\" y=\"-7.1\" font-family=\"Times,serif\" font-size=\"8.00\">&#45;0.4586508305555558, 0.4586508305555558</text>\n",
       "</g>\n",
       "<!--  1, 9&#45;&gt; 1, 9, 4 -->\n",
       "<g id=\"edge405\" class=\"edge\">\n",
       "<title> 1, 9&#45;&gt; 1, 9, 4</title>\n",
       "<path fill=\"none\" stroke=\"red\" d=\"M39681,-72.91C39551,-62.14 39131,-27.49 38976,-14.75\"/>\n",
       "<polygon fill=\"red\" stroke=\"red\" points=\"38976.13,-13.01 38971,-14.31 38975.82,-16.49 38976.13,-13.01\"/>\n",
       "<text text-anchor=\"middle\" x=\"39323\" y=\"-38.6\" font-family=\"Times,serif\" font-size=\"8.00\"> 4</text>\n",
       "</g>\n",
       "<!--  1, 9, 5 -->\n",
       "<g id=\"node440\" class=\"node\">\n",
       "<title> 1, 9, 5</title>\n",
       "<polygon fill=\"none\" stroke=\"black\" points=\"39191,-18 39064,-9 39191,0 39318,-9 39191,-18\"/>\n",
       "<text text-anchor=\"middle\" x=\"39191\" y=\"-7.1\" font-family=\"Times,serif\" font-size=\"8.00\">&#45;1.4235708305555557, 1.4235708305555557</text>\n",
       "</g>\n",
       "<!--  1, 9&#45;&gt; 1, 9, 5 -->\n",
       "<g id=\"edge406\" class=\"edge\">\n",
       "<title> 1, 9&#45;&gt; 1, 9, 5</title>\n",
       "<path fill=\"none\" stroke=\"red\" d=\"M39683,-71.44C39588,-59.61 39340,-28.66 39237,-15.77\"/>\n",
       "<polygon fill=\"red\" stroke=\"red\" points=\"39237.18,-14.03 39232,-15.13 39236.74,-17.5 39237.18,-14.03\"/>\n",
       "<text text-anchor=\"middle\" x=\"39459\" y=\"-38.6\" font-family=\"Times,serif\" font-size=\"8.00\"> 5</text>\n",
       "</g>\n",
       "<!--  1, 9, 6 -->\n",
       "<g id=\"node441\" class=\"node\">\n",
       "<title> 1, 9, 6</title>\n",
       "<polygon fill=\"none\" stroke=\"black\" points=\"39456,-18 39335.3,-9 39456,0 39576.7,-9 39456,-18\"/>\n",
       "<text text-anchor=\"middle\" x=\"39456\" y=\"-7.1\" font-family=\"Times,serif\" font-size=\"8.00\">&#45;2.083570830555556, 2.083570830555556</text>\n",
       "</g>\n",
       "<!--  1, 9&#45;&gt; 1, 9, 6 -->\n",
       "<g id=\"edge407\" class=\"edge\">\n",
       "<title> 1, 9&#45;&gt; 1, 9, 6</title>\n",
       "<path fill=\"none\" stroke=\"red\" d=\"M39689,-68.16C39637,-55.27 39536,-30.05 39486,-17.48\"/>\n",
       "<polygon fill=\"red\" stroke=\"red\" points=\"39486.27,-15.75 39481,-16.24 39485.43,-19.15 39486.27,-15.75\"/>\n",
       "<text text-anchor=\"middle\" x=\"39592\" y=\"-38.6\" font-family=\"Times,serif\" font-size=\"8.00\"> 6</text>\n",
       "</g>\n",
       "<!--  1, 9, 7 -->\n",
       "<g id=\"node442\" class=\"node\">\n",
       "<title> 1, 9, 7</title>\n",
       "<polygon fill=\"none\" stroke=\"black\" points=\"39721,-18 39594,-9 39721,0 39848,-9 39721,-18\"/>\n",
       "<text text-anchor=\"middle\" x=\"39721\" y=\"-7.1\" font-family=\"Times,serif\" font-size=\"8.00\">&#45;2.4386508305555554, 2.4386508305555554</text>\n",
       "</g>\n",
       "<!--  1, 9&#45;&gt; 1, 9, 7 -->\n",
       "<g id=\"edge408\" class=\"edge\">\n",
       "<title> 1, 9&#45;&gt; 1, 9, 7</title>\n",
       "<path fill=\"none\" stroke=\"red\" d=\"M39721,-62.76C39721,-51.34 39721,-35 39721,-23.54\"/>\n",
       "<polygon fill=\"red\" stroke=\"red\" points=\"39722.75,-23.34 39721,-18.34 39719.25,-23.34 39722.75,-23.34\"/>\n",
       "<text text-anchor=\"middle\" x=\"39724\" y=\"-38.6\" font-family=\"Times,serif\" font-size=\"8.00\"> 7</text>\n",
       "</g>\n",
       "<!--  1, 9, 8 -->\n",
       "<g id=\"node443\" class=\"node\">\n",
       "<title> 1, 9, 8</title>\n",
       "<polygon fill=\"none\" stroke=\"black\" points=\"40000,-18 39866,-9 40000,0 40134,-9 40000,-18\"/>\n",
       "<text text-anchor=\"middle\" x=\"40000\" y=\"-7.1\" font-family=\"Times,serif\" font-size=\"8.00\">&#45;0.12865083055555526, 0.12865083055555526</text>\n",
       "</g>\n",
       "<!--  1, 9&#45;&gt; 1, 9, 8 -->\n",
       "<g id=\"edge409\" class=\"edge\">\n",
       "<title> 1, 9&#45;&gt; 1, 9, 8</title>\n",
       "<path fill=\"none\" stroke=\"red\" d=\"M39753,-68.42C39807,-55.62 39915,-30.13 39968,-17.48\"/>\n",
       "<polygon fill=\"red\" stroke=\"red\" points=\"39968.54,-19.15 39973,-16.29 39967.73,-15.74 39968.54,-19.15\"/>\n",
       "<text text-anchor=\"middle\" x=\"39889\" y=\"-38.6\" font-family=\"Times,serif\" font-size=\"8.00\"> 8</text>\n",
       "</g>\n",
       "<!--  1, 9, 9 -->\n",
       "<g id=\"node444\" class=\"node\">\n",
       "<title> 1, 9, 9</title>\n",
       "<polygon fill=\"none\" stroke=\"black\" points=\"40279,-18 40152,-9 40279,0 40406,-9 40279,-18\"/>\n",
       "<text text-anchor=\"middle\" x=\"40279\" y=\"-7.1\" font-family=\"Times,serif\" font-size=\"8.00\">&#45;1.0935708305555556, 1.0935708305555556</text>\n",
       "</g>\n",
       "<!--  1, 9&#45;&gt; 1, 9, 9 -->\n",
       "<g id=\"edge410\" class=\"edge\">\n",
       "<title> 1, 9&#45;&gt; 1, 9, 9</title>\n",
       "<path fill=\"none\" stroke=\"red\" d=\"M39759,-71.65C39857,-59.94 40122,-28.53 40231,-15.64\"/>\n",
       "<polygon fill=\"red\" stroke=\"red\" points=\"40231.24,-17.37 40236,-15.04 40230.83,-13.9 40231.24,-17.37\"/>\n",
       "<text text-anchor=\"middle\" x=\"40053\" y=\"-38.6\" font-family=\"Times,serif\" font-size=\"8.00\"> 9</text>\n",
       "</g>\n",
       "<!--  1, 9, 10 -->\n",
       "<g id=\"node445\" class=\"node\">\n",
       "<title> 1, 9, 10</title>\n",
       "<polygon fill=\"none\" stroke=\"black\" points=\"40551,-18 40424,-9 40551,0 40678,-9 40551,-18\"/>\n",
       "<text text-anchor=\"middle\" x=\"40551\" y=\"-7.1\" font-family=\"Times,serif\" font-size=\"8.00\">&#45;1.7535708305555557, 1.7535708305555557</text>\n",
       "</g>\n",
       "<!--  1, 9&#45;&gt; 1, 9, 10 -->\n",
       "<g id=\"edge411\" class=\"edge\">\n",
       "<title> 1, 9&#45;&gt; 1, 9, 10</title>\n",
       "<path fill=\"none\" stroke=\"red\" d=\"M39760,-73C39894,-62.3 40333,-27.32 40492,-14.64\"/>\n",
       "<polygon fill=\"red\" stroke=\"red\" points=\"40492.16,-16.39 40497,-14.24 40491.87,-12.9 40492.16,-16.39\"/>\n",
       "<text text-anchor=\"middle\" x=\"40216\" y=\"-38.6\" font-family=\"Times,serif\" font-size=\"8.00\"> 10</text>\n",
       "</g>\n",
       "<!--  1, 9, 11 -->\n",
       "<g id=\"node446\" class=\"node\">\n",
       "<title> 1, 9, 11</title>\n",
       "<polygon fill=\"none\" stroke=\"black\" points=\"40816,-18 40695.3,-9 40816,0 40936.7,-9 40816,-18\"/>\n",
       "<text text-anchor=\"middle\" x=\"40816\" y=\"-7.1\" font-family=\"Times,serif\" font-size=\"8.00\">&#45;2.108650830555556, 2.108650830555556</text>\n",
       "</g>\n",
       "<!--  1, 9&#45;&gt; 1, 9, 11 -->\n",
       "<g id=\"edge412\" class=\"edge\">\n",
       "<title> 1, 9&#45;&gt; 1, 9, 11</title>\n",
       "<path fill=\"none\" stroke=\"red\" d=\"M39761,-73.76C39893,-65.89 40327,-39.95 40687,-18 40708,-16.7 40731,-15.26 40752,-13.97\"/>\n",
       "<polygon fill=\"red\" stroke=\"red\" points=\"40752.12,-15.72 40757,-13.65 40751.9,-12.23 40752.12,-15.72\"/>\n",
       "<text text-anchor=\"middle\" x=\"40374\" y=\"-38.6\" font-family=\"Times,serif\" font-size=\"8.00\"> 11</text>\n",
       "</g>\n",
       "<!--  1, 9, 12 -->\n",
       "<g id=\"node447\" class=\"node\">\n",
       "<title> 1, 9, 12</title>\n",
       "<polygon fill=\"none\" stroke=\"black\" points=\"41081,-18 40954,-9 41081,0 41208,-9 41081,-18\"/>\n",
       "<text text-anchor=\"middle\" x=\"41081\" y=\"-7.1\" font-family=\"Times,serif\" font-size=\"8.00\">0.4627091694444448, &#45;0.4627091694444448</text>\n",
       "</g>\n",
       "<!--  1, 9&#45;&gt; 1, 9, 12 -->\n",
       "<g id=\"edge413\" class=\"edge\">\n",
       "<title> 1, 9&#45;&gt; 1, 9, 12</title>\n",
       "<path fill=\"none\" stroke=\"red\" d=\"M39761,-74.4C39915,-67.74 40480,-42.95 40946,-18 40968,-16.79 40993,-15.36 41015,-14.04\"/>\n",
       "<polygon fill=\"red\" stroke=\"red\" points=\"41015.12,-15.79 41020,-13.73 41014.9,-12.3 41015.12,-15.79\"/>\n",
       "<text text-anchor=\"middle\" x=\"40581\" y=\"-38.6\" font-family=\"Times,serif\" font-size=\"8.00\"> 12</text>\n",
       "</g>\n",
       "<!--  1, 9, 13 -->\n",
       "<g id=\"node448\" class=\"node\">\n",
       "<title> 1, 9, 13</title>\n",
       "<polygon fill=\"none\" stroke=\"black\" points=\"41353,-18 41226,-9 41353,0 41480,-9 41353,-18\"/>\n",
       "<text text-anchor=\"middle\" x=\"41353\" y=\"-7.1\" font-family=\"Times,serif\" font-size=\"8.00\">&#45;0.5022108305555558, 0.5022108305555558</text>\n",
       "</g>\n",
       "<!--  1, 9&#45;&gt; 1, 9, 13 -->\n",
       "<g id=\"edge414\" class=\"edge\">\n",
       "<title> 1, 9&#45;&gt; 1, 9, 13</title>\n",
       "<path fill=\"none\" stroke=\"red\" d=\"M39761,-74.92C39936,-69.6 40639,-47.41 41217,-18 41240,-16.82 41265,-15.38 41287,-14.05\"/>\n",
       "<polygon fill=\"red\" stroke=\"red\" points=\"41287.11,-15.8 41292,-13.75 41286.9,-12.3 41287.11,-15.8\"/>\n",
       "<text text-anchor=\"middle\" x=\"40812\" y=\"-38.6\" font-family=\"Times,serif\" font-size=\"8.00\"> 13</text>\n",
       "</g>\n",
       "<!--  1, 9, 14 -->\n",
       "<g id=\"node449\" class=\"node\">\n",
       "<title> 1, 9, 14</title>\n",
       "<polygon fill=\"none\" stroke=\"black\" points=\"41625,-18 41498,-9 41625,0 41752,-9 41625,-18\"/>\n",
       "<text text-anchor=\"middle\" x=\"41625\" y=\"-7.1\" font-family=\"Times,serif\" font-size=\"8.00\">&#45;1.1622108305555556, 1.1622108305555556</text>\n",
       "</g>\n",
       "<!--  1, 9&#45;&gt; 1, 9, 14 -->\n",
       "<g id=\"edge415\" class=\"edge\">\n",
       "<title> 1, 9&#45;&gt; 1, 9, 14</title>\n",
       "<path fill=\"none\" stroke=\"red\" d=\"M39761,-75.3C39955,-71.23 40798,-52.26 41489,-18 41512,-16.85 41537,-15.41 41560,-14.06\"/>\n",
       "<polygon fill=\"red\" stroke=\"red\" points=\"41560.11,-15.81 41565,-13.76 41559.9,-12.32 41560.11,-15.81\"/>\n",
       "<text text-anchor=\"middle\" x=\"41058\" y=\"-38.6\" font-family=\"Times,serif\" font-size=\"8.00\"> 14</text>\n",
       "</g>\n",
       "<!--  1, 9, 15 -->\n",
       "<g id=\"node450\" class=\"node\">\n",
       "<title> 1, 9, 15</title>\n",
       "<polygon fill=\"none\" stroke=\"black\" points=\"41897,-18 41770,-9 41897,0 42024,-9 41897,-18\"/>\n",
       "<text text-anchor=\"middle\" x=\"41897\" y=\"-7.1\" font-family=\"Times,serif\" font-size=\"8.00\">&#45;1.5172908305555555, 1.5172908305555555</text>\n",
       "</g>\n",
       "<!--  1, 9&#45;&gt; 1, 9, 15 -->\n",
       "<g id=\"edge416\" class=\"edge\">\n",
       "<title> 1, 9&#45;&gt; 1, 9, 15</title>\n",
       "<path fill=\"none\" stroke=\"red\" d=\"M39761,-75.43C39925,-72.54 40551,-60.98 41067,-45 41375,-35.43 41452,-33.06 41761,-18 41784,-16.87 41809,-15.43 41832,-14.08\"/>\n",
       "<polygon fill=\"red\" stroke=\"red\" points=\"41832.11,-15.83 41837,-13.78 41831.9,-12.34 41832.11,-15.83\"/>\n",
       "<text text-anchor=\"middle\" x=\"41349\" y=\"-38.6\" font-family=\"Times,serif\" font-size=\"8.00\"> 15</text>\n",
       "</g>\n",
       "<!--  1, 10 -->\n",
       "<g id=\"node27\" class=\"node\">\n",
       "<title> 1, 10</title>\n",
       "<ellipse fill=\"none\" stroke=\"red\" cx=\"44094\" cy=\"-77.14\" rx=\"41.02\" ry=\"14.29\"/>\n",
       "<text text-anchor=\"middle\" x=\"44094\" y=\"-79.74\" font-family=\"Times,serif\" font-size=\"8.00\">Current player: 1</text>\n",
       "<text text-anchor=\"middle\" x=\"44094\" y=\"-70.74\" font-family=\"Times,serif\" font-size=\"8.00\">us: op:</text>\n",
       "</g>\n",
       "<!--  1, 10, 0 -->\n",
       "<g id=\"node451\" class=\"node\">\n",
       "<title> 1, 10, 0</title>\n",
       "<polygon fill=\"none\" stroke=\"black\" points=\"42169,-18 42042,-9 42169,0 42296,-9 42169,-18\"/>\n",
       "<text text-anchor=\"middle\" x=\"42169\" y=\"-7.1\" font-family=\"Times,serif\" font-size=\"8.00\">2.1040425027777783, &#45;2.1040425027777783</text>\n",
       "</g>\n",
       "<!--  1, 10&#45;&gt; 1, 10, 0 -->\n",
       "<g id=\"edge417\" class=\"edge\">\n",
       "<title> 1, 10&#45;&gt; 1, 10, 0</title>\n",
       "<path fill=\"none\" stroke=\"red\" d=\"M44053,-75.32C43858,-71.3 43004,-52.48 42305,-18 42281,-16.86 42256,-15.42 42234,-14.07\"/>\n",
       "<polygon fill=\"red\" stroke=\"red\" points=\"42234.1,-12.32 42229,-13.77 42233.88,-15.82 42234.1,-12.32\"/>\n",
       "<text text-anchor=\"middle\" x=\"42948\" y=\"-38.6\" font-family=\"Times,serif\" font-size=\"8.00\"> 0</text>\n",
       "</g>\n",
       "<!--  1, 10, 1 -->\n",
       "<g id=\"node452\" class=\"node\">\n",
       "<title> 1, 10, 1</title>\n",
       "<polygon fill=\"none\" stroke=\"black\" points=\"42441,-18 42314,-9 42441,0 42568,-9 42441,-18\"/>\n",
       "<text text-anchor=\"middle\" x=\"42441\" y=\"-7.1\" font-family=\"Times,serif\" font-size=\"8.00\">1.1391225027777776, &#45;1.1391225027777776</text>\n",
       "</g>\n",
       "<!--  1, 10&#45;&gt; 1, 10, 1 -->\n",
       "<g id=\"edge418\" class=\"edge\">\n",
       "<title> 1, 10&#45;&gt; 1, 10, 1</title>\n",
       "<path fill=\"none\" stroke=\"red\" d=\"M44053,-74.95C43877,-69.7 43163,-47.63 42577,-18 42554,-16.83 42528,-15.39 42506,-14.06\"/>\n",
       "<polygon fill=\"red\" stroke=\"red\" points=\"42506.1,-12.31 42501,-13.76 42505.88,-15.8 42506.1,-12.31\"/>\n",
       "<text text-anchor=\"middle\" x=\"43164\" y=\"-38.6\" font-family=\"Times,serif\" font-size=\"8.00\"> 1</text>\n",
       "</g>\n",
       "<!--  1, 10, 2 -->\n",
       "<g id=\"node453\" class=\"node\">\n",
       "<title> 1, 10, 2</title>\n",
       "<polygon fill=\"none\" stroke=\"black\" points=\"42713,-18 42586,-9 42713,0 42840,-9 42713,-18\"/>\n",
       "<text text-anchor=\"middle\" x=\"42713\" y=\"-7.1\" font-family=\"Times,serif\" font-size=\"8.00\">0.4791225027777778, &#45;0.4791225027777778</text>\n",
       "</g>\n",
       "<!--  1, 10&#45;&gt; 1, 10, 2 -->\n",
       "<g id=\"edge419\" class=\"edge\">\n",
       "<title> 1, 10&#45;&gt; 1, 10, 2</title>\n",
       "<path fill=\"none\" stroke=\"red\" d=\"M44053,-74.44C43898,-67.82 43322,-42.99 42849,-18 42826,-16.79 42801,-15.35 42778,-14.02\"/>\n",
       "<polygon fill=\"red\" stroke=\"red\" points=\"42778.09,-12.27 42773,-13.72 42777.89,-15.77 42778.09,-12.27\"/>\n",
       "<text text-anchor=\"middle\" x=\"43365\" y=\"-38.6\" font-family=\"Times,serif\" font-size=\"8.00\"> 2</text>\n",
       "</g>\n",
       "<!--  1, 10, 3 -->\n",
       "<g id=\"node454\" class=\"node\">\n",
       "<title> 1, 10, 3</title>\n",
       "<polygon fill=\"none\" stroke=\"black\" points=\"42992,-18 42858,-9 42992,0 43126,-9 42992,-18\"/>\n",
       "<text text-anchor=\"middle\" x=\"42992\" y=\"-7.1\" font-family=\"Times,serif\" font-size=\"8.00\">0.12404250277777781, &#45;0.12404250277777781</text>\n",
       "</g>\n",
       "<!--  1, 10&#45;&gt; 1, 10, 3 -->\n",
       "<g id=\"edge420\" class=\"edge\">\n",
       "<title> 1, 10&#45;&gt; 1, 10, 3</title>\n",
       "<path fill=\"none\" stroke=\"red\" d=\"M44054,-73.75C43890,-63.92 43268,-26.58 43060,-14.09\"/>\n",
       "<polygon fill=\"red\" stroke=\"red\" points=\"43060.1,-12.34 43055,-13.78 43059.88,-15.84 43060.1,-12.34\"/>\n",
       "<text text-anchor=\"middle\" x=\"43546\" y=\"-38.6\" font-family=\"Times,serif\" font-size=\"8.00\"> 3</text>\n",
       "</g>\n",
       "<!--  1, 10, 4 -->\n",
       "<g id=\"node455\" class=\"node\">\n",
       "<title> 1, 10, 4</title>\n",
       "<polygon fill=\"none\" stroke=\"black\" points=\"43271,-18 43144,-9 43271,0 43398,-9 43271,-18\"/>\n",
       "<text text-anchor=\"middle\" x=\"43271\" y=\"-7.1\" font-family=\"Times,serif\" font-size=\"8.00\">2.1726825027777776, &#45;2.1726825027777776</text>\n",
       "</g>\n",
       "<!--  1, 10&#45;&gt; 1, 10, 4 -->\n",
       "<g id=\"edge421\" class=\"edge\">\n",
       "<title> 1, 10&#45;&gt; 1, 10, 4</title>\n",
       "<path fill=\"none\" stroke=\"red\" d=\"M44054,-72.97C43921,-62.26 43486,-27.35 43329,-14.66\"/>\n",
       "<polygon fill=\"red\" stroke=\"red\" points=\"43329.12,-12.92 43324,-14.26 43328.84,-16.4 43329.12,-12.92\"/>\n",
       "<text text-anchor=\"middle\" x=\"43686\" y=\"-38.6\" font-family=\"Times,serif\" font-size=\"8.00\"> 4</text>\n",
       "</g>\n",
       "<!--  1, 10, 5 -->\n",
       "<g id=\"node456\" class=\"node\">\n",
       "<title> 1, 10, 5</title>\n",
       "<polygon fill=\"none\" stroke=\"black\" points=\"43543,-18 43416,-9 43543,0 43670,-9 43543,-18\"/>\n",
       "<text text-anchor=\"middle\" x=\"43543\" y=\"-7.1\" font-family=\"Times,serif\" font-size=\"8.00\">1.2077625027777779, &#45;1.2077625027777779</text>\n",
       "</g>\n",
       "<!--  1, 10&#45;&gt; 1, 10, 5 -->\n",
       "<g id=\"edge422\" class=\"edge\">\n",
       "<title> 1, 10&#45;&gt; 1, 10, 5</title>\n",
       "<path fill=\"none\" stroke=\"red\" d=\"M44056,-71.6C43958,-59.84 43697,-28.49 43589,-15.62\"/>\n",
       "<polygon fill=\"red\" stroke=\"red\" points=\"43589.17,-13.88 43584,-15.03 43588.76,-17.36 43589.17,-13.88\"/>\n",
       "<text text-anchor=\"middle\" x=\"43822\" y=\"-38.6\" font-family=\"Times,serif\" font-size=\"8.00\"> 5</text>\n",
       "</g>\n",
       "<!--  1, 10, 6 -->\n",
       "<g id=\"node457\" class=\"node\">\n",
       "<title> 1, 10, 6</title>\n",
       "<polygon fill=\"none\" stroke=\"black\" points=\"43815,-18 43688,-9 43815,0 43942,-9 43815,-18\"/>\n",
       "<text text-anchor=\"middle\" x=\"43815\" y=\"-7.1\" font-family=\"Times,serif\" font-size=\"8.00\">0.5477625027777777, &#45;0.5477625027777777</text>\n",
       "</g>\n",
       "<!--  1, 10&#45;&gt; 1, 10, 6 -->\n",
       "<g id=\"edge423\" class=\"edge\">\n",
       "<title> 1, 10&#45;&gt; 1, 10, 6</title>\n",
       "<path fill=\"none\" stroke=\"red\" d=\"M44061,-68.42C44007,-55.58 43899,-30 43846,-17.38\"/>\n",
       "<polygon fill=\"red\" stroke=\"red\" points=\"43846.27,-15.65 43841,-16.2 43845.46,-19.05 43846.27,-15.65\"/>\n",
       "<text text-anchor=\"middle\" x=\"43958\" y=\"-38.6\" font-family=\"Times,serif\" font-size=\"8.00\"> 6</text>\n",
       "</g>\n",
       "<!--  1, 10, 7 -->\n",
       "<g id=\"node458\" class=\"node\">\n",
       "<title> 1, 10, 7</title>\n",
       "<polygon fill=\"none\" stroke=\"black\" points=\"44094,-18 43960,-9 44094,0 44228,-9 44094,-18\"/>\n",
       "<text text-anchor=\"middle\" x=\"44094\" y=\"-7.1\" font-family=\"Times,serif\" font-size=\"8.00\">0.19268250277777793, &#45;0.19268250277777793</text>\n",
       "</g>\n",
       "<!--  1, 10&#45;&gt; 1, 10, 7 -->\n",
       "<g id=\"edge424\" class=\"edge\">\n",
       "<title> 1, 10&#45;&gt; 1, 10, 7</title>\n",
       "<path fill=\"none\" stroke=\"red\" d=\"M44094,-62.76C44094,-51.34 44094,-35 44094,-23.54\"/>\n",
       "<polygon fill=\"red\" stroke=\"red\" points=\"44095.75,-23.34 44094,-18.34 44092.25,-23.34 44095.75,-23.34\"/>\n",
       "<text text-anchor=\"middle\" x=\"44097\" y=\"-38.6\" font-family=\"Times,serif\" font-size=\"8.00\"> 7</text>\n",
       "</g>\n",
       "<!--  1, 10, 8 -->\n",
       "<g id=\"node459\" class=\"node\">\n",
       "<title> 1, 10, 8</title>\n",
       "<polygon fill=\"none\" stroke=\"black\" points=\"44367,-18 44246.3,-9 44367,0 44487.7,-9 44367,-18\"/>\n",
       "<text text-anchor=\"middle\" x=\"44367\" y=\"-7.1\" font-family=\"Times,serif\" font-size=\"8.00\">2.502682502777778, &#45;2.502682502777778</text>\n",
       "</g>\n",
       "<!--  1, 10&#45;&gt; 1, 10, 8 -->\n",
       "<g id=\"edge425\" class=\"edge\">\n",
       "<title> 1, 10&#45;&gt; 1, 10, 8</title>\n",
       "<path fill=\"none\" stroke=\"red\" d=\"M44126,-68.3C44179,-55.43 44284,-30.01 44336,-17.42\"/>\n",
       "<polygon fill=\"red\" stroke=\"red\" points=\"44336.57,-19.08 44341,-16.17 44335.72,-15.69 44336.57,-19.08\"/>\n",
       "<text text-anchor=\"middle\" x=\"44258\" y=\"-38.6\" font-family=\"Times,serif\" font-size=\"8.00\"> 8</text>\n",
       "</g>\n",
       "<!--  1, 10, 9 -->\n",
       "<g id=\"node460\" class=\"node\">\n",
       "<title> 1, 10, 9</title>\n",
       "<polygon fill=\"none\" stroke=\"black\" points=\"44626,-18 44505.3,-9 44626,0 44746.7,-9 44626,-18\"/>\n",
       "<text text-anchor=\"middle\" x=\"44626\" y=\"-7.1\" font-family=\"Times,serif\" font-size=\"8.00\">1.537762502777778, &#45;1.537762502777778</text>\n",
       "</g>\n",
       "<!--  1, 10&#45;&gt; 1, 10, 9 -->\n",
       "<g id=\"edge426\" class=\"edge\">\n",
       "<title> 1, 10&#45;&gt; 1, 10, 9</title>\n",
       "<path fill=\"none\" stroke=\"red\" d=\"M44131,-71.44C44227,-59.58 44477,-28.51 44580,-15.67\"/>\n",
       "<polygon fill=\"red\" stroke=\"red\" points=\"44580.26,-17.4 44585,-15.04 44579.82,-13.93 44580.26,-17.4\"/>\n",
       "<text text-anchor=\"middle\" x=\"44411\" y=\"-38.6\" font-family=\"Times,serif\" font-size=\"8.00\"> 9</text>\n",
       "</g>\n",
       "<!--  1, 10, 10 -->\n",
       "<g id=\"node461\" class=\"node\">\n",
       "<title> 1, 10, 10</title>\n",
       "<polygon fill=\"none\" stroke=\"black\" points=\"44891,-18 44764,-9 44891,0 45018,-9 44891,-18\"/>\n",
       "<text text-anchor=\"middle\" x=\"44891\" y=\"-7.1\" font-family=\"Times,serif\" font-size=\"8.00\">0.8777625027777777, &#45;0.8777625027777777</text>\n",
       "</g>\n",
       "<!--  1, 10&#45;&gt; 1, 10, 10 -->\n",
       "<g id=\"edge427\" class=\"edge\">\n",
       "<title> 1, 10&#45;&gt; 1, 10, 10</title>\n",
       "<path fill=\"none\" stroke=\"red\" d=\"M44133,-72.89C44263,-62.1 44680,-27.51 44833,-14.77\"/>\n",
       "<polygon fill=\"red\" stroke=\"red\" points=\"44833.17,-16.51 44838,-14.33 44832.86,-13.03 44833.17,-16.51\"/>\n",
       "<text text-anchor=\"middle\" x=\"44569\" y=\"-38.6\" font-family=\"Times,serif\" font-size=\"8.00\"> 10</text>\n",
       "</g>\n",
       "<!--  1, 10, 11 -->\n",
       "<g id=\"node462\" class=\"node\">\n",
       "<title> 1, 10, 11</title>\n",
       "<polygon fill=\"none\" stroke=\"black\" points=\"45156,-18 45035.3,-9 45156,0 45276.7,-9 45156,-18\"/>\n",
       "<text text-anchor=\"middle\" x=\"45156\" y=\"-7.1\" font-family=\"Times,serif\" font-size=\"8.00\">0.522682502777778, &#45;0.522682502777778</text>\n",
       "</g>\n",
       "<!--  1, 10&#45;&gt; 1, 10, 11 -->\n",
       "<g id=\"edge428\" class=\"edge\">\n",
       "<title> 1, 10&#45;&gt; 1, 10, 11</title>\n",
       "<path fill=\"none\" stroke=\"red\" d=\"M44134,-73.65C44294,-63.64 44894,-26.31 45092,-13.98\"/>\n",
       "<polygon fill=\"red\" stroke=\"red\" points=\"45092.12,-15.73 45097,-13.66 45091.9,-12.23 45092.12,-15.73\"/>\n",
       "<text text-anchor=\"middle\" x=\"44726\" y=\"-38.6\" font-family=\"Times,serif\" font-size=\"8.00\"> 11</text>\n",
       "</g>\n",
       "<!--  1, 10, 12 -->\n",
       "<g id=\"node463\" class=\"node\">\n",
       "<title> 1, 10, 12</title>\n",
       "<polygon fill=\"none\" stroke=\"black\" points=\"45421,-18 45294,-9 45421,0 45548,-9 45421,-18\"/>\n",
       "<text text-anchor=\"middle\" x=\"45421\" y=\"-7.1\" font-family=\"Times,serif\" font-size=\"8.00\">3.0940425027777785, &#45;3.0940425027777785</text>\n",
       "</g>\n",
       "<!--  1, 10&#45;&gt; 1, 10, 12 -->\n",
       "<g id=\"edge429\" class=\"edge\">\n",
       "<title> 1, 10&#45;&gt; 1, 10, 12</title>\n",
       "<path fill=\"none\" stroke=\"red\" d=\"M44134,-74.33C44285,-67.5 44834,-42.45 45286,-18 45308,-16.78 45333,-15.34 45355,-14.03\"/>\n",
       "<polygon fill=\"red\" stroke=\"red\" points=\"45355.12,-15.78 45360,-13.72 45354.9,-12.28 45355.12,-15.78\"/>\n",
       "<text text-anchor=\"middle\" x=\"44931\" y=\"-38.6\" font-family=\"Times,serif\" font-size=\"8.00\"> 12</text>\n",
       "</g>\n",
       "<!--  1, 10, 13 -->\n",
       "<g id=\"node464\" class=\"node\">\n",
       "<title> 1, 10, 13</title>\n",
       "<polygon fill=\"none\" stroke=\"black\" points=\"45686,-18 45565.3,-9 45686,0 45806.7,-9 45686,-18\"/>\n",
       "<text text-anchor=\"middle\" x=\"45686\" y=\"-7.1\" font-family=\"Times,serif\" font-size=\"8.00\">2.129122502777778, &#45;2.129122502777778</text>\n",
       "</g>\n",
       "<!--  1, 10&#45;&gt; 1, 10, 13 -->\n",
       "<g id=\"edge430\" class=\"edge\">\n",
       "<title> 1, 10&#45;&gt; 1, 10, 13</title>\n",
       "<path fill=\"none\" stroke=\"red\" d=\"M44134,-74.92C44307,-69.64 44993,-47.8 45557,-18 45578,-16.85 45602,-15.42 45623,-14.09\"/>\n",
       "<polygon fill=\"red\" stroke=\"red\" points=\"45623.12,-15.83 45628,-13.77 45622.9,-12.34 45623.12,-15.83\"/>\n",
       "<text text-anchor=\"middle\" x=\"45161\" y=\"-38.6\" font-family=\"Times,serif\" font-size=\"8.00\"> 13</text>\n",
       "</g>\n",
       "<!--  1, 10, 14 -->\n",
       "<g id=\"node465\" class=\"node\">\n",
       "<title> 1, 10, 14</title>\n",
       "<polygon fill=\"none\" stroke=\"black\" points=\"45951,-18 45824,-9 45951,0 46078,-9 45951,-18\"/>\n",
       "<text text-anchor=\"middle\" x=\"45951\" y=\"-7.1\" font-family=\"Times,serif\" font-size=\"8.00\">1.4691225027777777, &#45;1.4691225027777777</text>\n",
       "</g>\n",
       "<!--  1, 10&#45;&gt; 1, 10, 14 -->\n",
       "<g id=\"edge431\" class=\"edge\">\n",
       "<title> 1, 10&#45;&gt; 1, 10, 14</title>\n",
       "<path fill=\"none\" stroke=\"red\" d=\"M44134,-75.27C44324,-71.1 45144,-51.92 45816,-18 45838,-16.84 45864,-15.41 45886,-14.07\"/>\n",
       "<polygon fill=\"red\" stroke=\"red\" points=\"45886.11,-15.82 45891,-13.77 45885.9,-12.32 45886.11,-15.82\"/>\n",
       "<text text-anchor=\"middle\" x=\"45397\" y=\"-38.6\" font-family=\"Times,serif\" font-size=\"8.00\"> 14</text>\n",
       "</g>\n",
       "<!--  1, 10, 15 -->\n",
       "<g id=\"node466\" class=\"node\">\n",
       "<title> 1, 10, 15</title>\n",
       "<polygon fill=\"none\" stroke=\"black\" points=\"46216,-18 46095.3,-9 46216,0 46336.7,-9 46216,-18\"/>\n",
       "<text text-anchor=\"middle\" x=\"46216\" y=\"-7.1\" font-family=\"Times,serif\" font-size=\"8.00\">1.114042502777778, &#45;1.114042502777778</text>\n",
       "</g>\n",
       "<!--  1, 10&#45;&gt; 1, 10, 15 -->\n",
       "<g id=\"edge432\" class=\"edge\">\n",
       "<title> 1, 10&#45;&gt; 1, 10, 15</title>\n",
       "<path fill=\"none\" stroke=\"red\" d=\"M44134,-75.41C44296,-72.47 44905,-60.88 45406,-45 45708,-35.41 45784,-33.38 46087,-18 46108,-16.89 46132,-15.46 46154,-14.12\"/>\n",
       "<polygon fill=\"red\" stroke=\"red\" points=\"46154.12,-15.86 46159,-13.8 46153.9,-12.37 46154.12,-15.86\"/>\n",
       "<text text-anchor=\"middle\" x=\"45683\" y=\"-38.6\" font-family=\"Times,serif\" font-size=\"8.00\"> 15</text>\n",
       "</g>\n",
       "<!--  1, 11 -->\n",
       "<g id=\"node28\" class=\"node\">\n",
       "<title> 1, 11</title>\n",
       "<ellipse fill=\"none\" stroke=\"red\" cx=\"48318\" cy=\"-77.14\" rx=\"41.02\" ry=\"14.29\"/>\n",
       "<text text-anchor=\"middle\" x=\"48318\" y=\"-79.74\" font-family=\"Times,serif\" font-size=\"8.00\">Current player: 1</text>\n",
       "<text text-anchor=\"middle\" x=\"48318\" y=\"-70.74\" font-family=\"Times,serif\" font-size=\"8.00\">us: op:</text>\n",
       "</g>\n",
       "<!--  1, 11, 0 -->\n",
       "<g id=\"node467\" class=\"node\">\n",
       "<title> 1, 11, 0</title>\n",
       "<polygon fill=\"none\" stroke=\"black\" points=\"46481,-18 46354,-9 46481,0 46608,-9 46481,-18\"/>\n",
       "<text text-anchor=\"middle\" x=\"46481\" y=\"-7.1\" font-family=\"Times,serif\" font-size=\"8.00\">1.8749247750000002, &#45;1.8749247750000002</text>\n",
       "</g>\n",
       "<!--  1, 11&#45;&gt; 1, 11, 0 -->\n",
       "<g id=\"edge433\" class=\"edge\">\n",
       "<title> 1, 11&#45;&gt; 1, 11, 0</title>\n",
       "<path fill=\"none\" stroke=\"red\" d=\"M48277,-75.2C48132,-71.84 47637,-59.88 47228,-45 46956,-35.12 46888,-31.98 46617,-18 46594,-16.81 46568,-15.37 46546,-14.03\"/>\n",
       "<polygon fill=\"red\" stroke=\"red\" points=\"46546.1,-12.29 46541,-13.73 46545.88,-15.78 46546.1,-12.29\"/>\n",
       "<text text-anchor=\"middle\" x=\"47231\" y=\"-38.6\" font-family=\"Times,serif\" font-size=\"8.00\"> 0</text>\n",
       "</g>\n",
       "<!--  1, 11, 1 -->\n",
       "<g id=\"node468\" class=\"node\">\n",
       "<title> 1, 11, 1</title>\n",
       "<polygon fill=\"none\" stroke=\"black\" points=\"46753,-18 46626,-9 46753,0 46880,-9 46753,-18\"/>\n",
       "<text text-anchor=\"middle\" x=\"46753\" y=\"-7.1\" font-family=\"Times,serif\" font-size=\"8.00\">0.9100047749999998, &#45;0.9100047749999998</text>\n",
       "</g>\n",
       "<!--  1, 11&#45;&gt; 1, 11, 1 -->\n",
       "<g id=\"edge434\" class=\"edge\">\n",
       "<title> 1, 11&#45;&gt; 1, 11, 1</title>\n",
       "<path fill=\"none\" stroke=\"red\" d=\"M48277,-74.9C48152,-71.03 47762,-58.65 47439,-45 47194,-34.67 47133,-31.19 46889,-18 46866,-16.77 46841,-15.32 46819,-14.01\"/>\n",
       "<polygon fill=\"red\" stroke=\"red\" points=\"46819.09,-12.26 46814,-13.71 46818.89,-15.75 46819.09,-12.26\"/>\n",
       "<text text-anchor=\"middle\" x=\"47442\" y=\"-38.6\" font-family=\"Times,serif\" font-size=\"8.00\"> 1</text>\n",
       "</g>\n",
       "<!--  1, 11, 2 -->\n",
       "<g id=\"node469\" class=\"node\">\n",
       "<title> 1, 11, 2</title>\n",
       "<polygon fill=\"none\" stroke=\"black\" points=\"47032,-18 46898,-9 47032,0 47166,-9 47032,-18\"/>\n",
       "<text text-anchor=\"middle\" x=\"47032\" y=\"-7.1\" font-family=\"Times,serif\" font-size=\"8.00\">0.25000477499999996, &#45;0.25000477499999996</text>\n",
       "</g>\n",
       "<!--  1, 11&#45;&gt; 1, 11, 2 -->\n",
       "<g id=\"edge435\" class=\"edge\">\n",
       "<title> 1, 11&#45;&gt; 1, 11, 2</title>\n",
       "<path fill=\"none\" stroke=\"red\" d=\"M48277,-74.61C48169,-70.45 47862,-58.35 47607,-45 47422,-35.32 47204,-21.34 47097,-14.34\"/>\n",
       "<polygon fill=\"red\" stroke=\"red\" points=\"47097.11,-12.59 47092,-13.99 47096.86,-16.08 47097.11,-12.59\"/>\n",
       "<text text-anchor=\"middle\" x=\"47610\" y=\"-38.6\" font-family=\"Times,serif\" font-size=\"8.00\"> 2</text>\n",
       "</g>\n",
       "<!--  1, 11, 3 -->\n",
       "<g id=\"node470\" class=\"node\">\n",
       "<title> 1, 11, 3</title>\n",
       "<polygon fill=\"none\" stroke=\"black\" points=\"47264,-18 47183.5,-9 47264,0 47344.5,-9 47264,-18\"/>\n",
       "<text text-anchor=\"middle\" x=\"47264\" y=\"-7.1\" font-family=\"Times,serif\" font-size=\"8.00\">&#45;0.105075225, 0.105075225</text>\n",
       "</g>\n",
       "<!--  1, 11&#45;&gt; 1, 11, 3 -->\n",
       "<g id=\"edge436\" class=\"edge\">\n",
       "<title> 1, 11&#45;&gt; 1, 11, 3</title>\n",
       "<path fill=\"none\" stroke=\"red\" d=\"M48277,-74.13C48144,-67.45 47711,-44.88 47353,-18 47338,-16.89 47322,-15.5 47307,-14.19\"/>\n",
       "<polygon fill=\"red\" stroke=\"red\" points=\"47307.14,-12.45 47302,-13.71 47306.81,-15.93 47307.14,-12.45\"/>\n",
       "<text text-anchor=\"middle\" x=\"47754\" y=\"-38.6\" font-family=\"Times,serif\" font-size=\"8.00\"> 3</text>\n",
       "</g>\n",
       "<!--  1, 11, 4 -->\n",
       "<g id=\"node471\" class=\"node\">\n",
       "<title> 1, 11, 4</title>\n",
       "<polygon fill=\"none\" stroke=\"black\" points=\"47489,-18 47362,-9 47489,0 47616,-9 47489,-18\"/>\n",
       "<text text-anchor=\"middle\" x=\"47489\" y=\"-7.1\" font-family=\"Times,serif\" font-size=\"8.00\">1.9435647749999998, &#45;1.9435647749999998</text>\n",
       "</g>\n",
       "<!--  1, 11&#45;&gt; 1, 11, 4 -->\n",
       "<g id=\"edge437\" class=\"edge\">\n",
       "<title> 1, 11&#45;&gt; 1, 11, 4</title>\n",
       "<path fill=\"none\" stroke=\"red\" d=\"M48278,-73C48144,-62.3 47706,-27.32 47547,-14.64\"/>\n",
       "<polygon fill=\"red\" stroke=\"red\" points=\"47547.12,-12.9 47542,-14.24 47546.84,-16.39 47547.12,-12.9\"/>\n",
       "<text text-anchor=\"middle\" x=\"47907\" y=\"-38.6\" font-family=\"Times,serif\" font-size=\"8.00\"> 4</text>\n",
       "</g>\n",
       "<!--  1, 11, 5 -->\n",
       "<g id=\"node472\" class=\"node\">\n",
       "<title> 1, 11, 5</title>\n",
       "<polygon fill=\"none\" stroke=\"black\" points=\"47761,-18 47634,-9 47761,0 47888,-9 47761,-18\"/>\n",
       "<text text-anchor=\"middle\" x=\"47761\" y=\"-7.1\" font-family=\"Times,serif\" font-size=\"8.00\">0.9786447749999999, &#45;0.9786447749999999</text>\n",
       "</g>\n",
       "<!--  1, 11&#45;&gt; 1, 11, 5 -->\n",
       "<g id=\"edge438\" class=\"edge\">\n",
       "<title> 1, 11&#45;&gt; 1, 11, 5</title>\n",
       "<path fill=\"none\" stroke=\"red\" d=\"M48280,-71.65C48181,-59.94 47917,-28.53 47808,-15.64\"/>\n",
       "<polygon fill=\"red\" stroke=\"red\" points=\"47808.17,-13.9 47803,-15.04 47807.75,-17.37 47808.17,-13.9\"/>\n",
       "<text text-anchor=\"middle\" x=\"48043\" y=\"-38.6\" font-family=\"Times,serif\" font-size=\"8.00\"> 5</text>\n",
       "</g>\n",
       "<!--  1, 11, 6 -->\n",
       "<g id=\"node473\" class=\"node\">\n",
       "<title> 1, 11, 6</title>\n",
       "<polygon fill=\"none\" stroke=\"black\" points=\"48033,-18 47906,-9 48033,0 48160,-9 48033,-18\"/>\n",
       "<text text-anchor=\"middle\" x=\"48033\" y=\"-7.1\" font-family=\"Times,serif\" font-size=\"8.00\">0.3186447749999999, &#45;0.3186447749999999</text>\n",
       "</g>\n",
       "<!--  1, 11&#45;&gt; 1, 11, 6 -->\n",
       "<g id=\"edge439\" class=\"edge\">\n",
       "<title> 1, 11&#45;&gt; 1, 11, 6</title>\n",
       "<path fill=\"none\" stroke=\"red\" d=\"M48285,-68.56C48230,-55.73 48119,-29.95 48064,-17.32\"/>\n",
       "<polygon fill=\"red\" stroke=\"red\" points=\"48064.27,-15.58 48059,-16.14 48063.46,-18.99 48064.27,-15.58\"/>\n",
       "<text text-anchor=\"middle\" x=\"48179\" y=\"-38.6\" font-family=\"Times,serif\" font-size=\"8.00\"> 6</text>\n",
       "</g>\n",
       "<!--  1, 11, 7 -->\n",
       "<g id=\"node474\" class=\"node\">\n",
       "<title> 1, 11, 7</title>\n",
       "<polygon fill=\"none\" stroke=\"black\" points=\"48318,-18 48177.5,-9 48318,0 48458.5,-9 48318,-18\"/>\n",
       "<text text-anchor=\"middle\" x=\"48318\" y=\"-7.1\" font-family=\"Times,serif\" font-size=\"8.00\">&#45;0.036435224999999904, 0.036435224999999904</text>\n",
       "</g>\n",
       "<!--  1, 11&#45;&gt; 1, 11, 7 -->\n",
       "<g id=\"edge440\" class=\"edge\">\n",
       "<title> 1, 11&#45;&gt; 1, 11, 7</title>\n",
       "<path fill=\"none\" stroke=\"red\" d=\"M48318,-62.76C48318,-51.34 48318,-35 48318,-23.54\"/>\n",
       "<polygon fill=\"red\" stroke=\"red\" points=\"48319.75,-23.34 48318,-18.34 48316.25,-23.34 48319.75,-23.34\"/>\n",
       "<text text-anchor=\"middle\" x=\"48321\" y=\"-38.6\" font-family=\"Times,serif\" font-size=\"8.00\"> 7</text>\n",
       "</g>\n",
       "<!--  1, 11, 8 -->\n",
       "<g id=\"node475\" class=\"node\">\n",
       "<title> 1, 11, 8</title>\n",
       "<polygon fill=\"none\" stroke=\"black\" points=\"48603,-18 48476,-9 48603,0 48730,-9 48603,-18\"/>\n",
       "<text text-anchor=\"middle\" x=\"48603\" y=\"-7.1\" font-family=\"Times,serif\" font-size=\"8.00\">2.2735647750000005, &#45;2.2735647750000005</text>\n",
       "</g>\n",
       "<!--  1, 11&#45;&gt; 1, 11, 8 -->\n",
       "<g id=\"edge441\" class=\"edge\">\n",
       "<title> 1, 11&#45;&gt; 1, 11, 8</title>\n",
       "<path fill=\"none\" stroke=\"red\" d=\"M48350,-68.56C48406,-55.73 48517,-29.95 48571,-17.32\"/>\n",
       "<polygon fill=\"red\" stroke=\"red\" points=\"48571.54,-18.99 48576,-16.14 48570.73,-15.58 48571.54,-18.99\"/>\n",
       "<text text-anchor=\"middle\" x=\"48490\" y=\"-38.6\" font-family=\"Times,serif\" font-size=\"8.00\"> 8</text>\n",
       "</g>\n",
       "<!--  1, 11, 9 -->\n",
       "<g id=\"node476\" class=\"node\">\n",
       "<title> 1, 11, 9</title>\n",
       "<polygon fill=\"none\" stroke=\"black\" points=\"48875,-18 48748,-9 48875,0 49002,-9 48875,-18\"/>\n",
       "<text text-anchor=\"middle\" x=\"48875\" y=\"-7.1\" font-family=\"Times,serif\" font-size=\"8.00\">1.3086447749999999, &#45;1.3086447749999999</text>\n",
       "</g>\n",
       "<!--  1, 11&#45;&gt; 1, 11, 9 -->\n",
       "<g id=\"edge442\" class=\"edge\">\n",
       "<title> 1, 11&#45;&gt; 1, 11, 9</title>\n",
       "<path fill=\"none\" stroke=\"red\" d=\"M48355,-71.65C48454,-59.94 48719,-28.53 48827,-15.64\"/>\n",
       "<polygon fill=\"red\" stroke=\"red\" points=\"48827.24,-17.37 48832,-15.04 48826.83,-13.9 48827.24,-17.37\"/>\n",
       "<text text-anchor=\"middle\" x=\"48650\" y=\"-38.6\" font-family=\"Times,serif\" font-size=\"8.00\"> 9</text>\n",
       "</g>\n",
       "<!--  1, 11, 10 -->\n",
       "<g id=\"node477\" class=\"node\">\n",
       "<title> 1, 11, 10</title>\n",
       "<polygon fill=\"none\" stroke=\"black\" points=\"49147,-18 49020,-9 49147,0 49274,-9 49147,-18\"/>\n",
       "<text text-anchor=\"middle\" x=\"49147\" y=\"-7.1\" font-family=\"Times,serif\" font-size=\"8.00\">0.6486447749999998, &#45;0.6486447749999998</text>\n",
       "</g>\n",
       "<!--  1, 11&#45;&gt; 1, 11, 10 -->\n",
       "<g id=\"edge443\" class=\"edge\">\n",
       "<title> 1, 11&#45;&gt; 1, 11, 10</title>\n",
       "<path fill=\"none\" stroke=\"red\" d=\"M48357,-73C48491,-62.3 48929,-27.32 49088,-14.64\"/>\n",
       "<polygon fill=\"red\" stroke=\"red\" points=\"49088.16,-16.39 49093,-14.24 49087.87,-12.9 49088.16,-16.39\"/>\n",
       "<text text-anchor=\"middle\" x=\"48812\" y=\"-38.6\" font-family=\"Times,serif\" font-size=\"8.00\"> 10</text>\n",
       "</g>\n",
       "<!--  1, 11, 11 -->\n",
       "<g id=\"node478\" class=\"node\">\n",
       "<title> 1, 11, 11</title>\n",
       "<polygon fill=\"none\" stroke=\"black\" points=\"49426,-18 49292,-9 49426,0 49560,-9 49426,-18\"/>\n",
       "<text text-anchor=\"middle\" x=\"49426\" y=\"-7.1\" font-family=\"Times,serif\" font-size=\"8.00\">0.29356477500000006, &#45;0.29356477500000006</text>\n",
       "</g>\n",
       "<!--  1, 11&#45;&gt; 1, 11, 11 -->\n",
       "<g id=\"edge444\" class=\"edge\">\n",
       "<title> 1, 11&#45;&gt; 1, 11, 11</title>\n",
       "<path fill=\"none\" stroke=\"red\" d=\"M48358,-73.75C48522,-63.92 49148,-26.58 49357,-14.09\"/>\n",
       "<polygon fill=\"red\" stroke=\"red\" points=\"49357.12,-15.84 49362,-13.78 49356.9,-12.34 49357.12,-15.84\"/>\n",
       "<text text-anchor=\"middle\" x=\"48977\" y=\"-38.6\" font-family=\"Times,serif\" font-size=\"8.00\"> 11</text>\n",
       "</g>\n",
       "<!--  1, 11, 12 -->\n",
       "<g id=\"node479\" class=\"node\">\n",
       "<title> 1, 11, 12</title>\n",
       "<polygon fill=\"none\" stroke=\"black\" points=\"49705,-18 49578,-9 49705,0 49832,-9 49705,-18\"/>\n",
       "<text text-anchor=\"middle\" x=\"49705\" y=\"-7.1\" font-family=\"Times,serif\" font-size=\"8.00\">2.8649247750000004, &#45;2.8649247750000004</text>\n",
       "</g>\n",
       "<!--  1, 11&#45;&gt; 1, 11, 12 -->\n",
       "<g id=\"edge445\" class=\"edge\">\n",
       "<title> 1, 11&#45;&gt; 1, 11, 12</title>\n",
       "<path fill=\"none\" stroke=\"red\" d=\"M48358,-74.44C48514,-67.84 49093,-43.06 49569,-18 49592,-16.79 49617,-15.35 49639,-14.02\"/>\n",
       "<polygon fill=\"red\" stroke=\"red\" points=\"49639.11,-15.77 49644,-13.72 49638.9,-12.28 49639.11,-15.77\"/>\n",
       "<text text-anchor=\"middle\" x=\"49196\" y=\"-38.6\" font-family=\"Times,serif\" font-size=\"8.00\"> 12</text>\n",
       "</g>\n",
       "<!--  1, 11, 13 -->\n",
       "<g id=\"node480\" class=\"node\">\n",
       "<title> 1, 11, 13</title>\n",
       "<polygon fill=\"none\" stroke=\"black\" points=\"49977,-18 49850,-9 49977,0 50104,-9 49977,-18\"/>\n",
       "<text text-anchor=\"middle\" x=\"49977\" y=\"-7.1\" font-family=\"Times,serif\" font-size=\"8.00\">1.9000047749999998, &#45;1.9000047749999998</text>\n",
       "</g>\n",
       "<!--  1, 11&#45;&gt; 1, 11, 13 -->\n",
       "<g id=\"edge446\" class=\"edge\">\n",
       "<title> 1, 11&#45;&gt; 1, 11, 13</title>\n",
       "<path fill=\"none\" stroke=\"red\" d=\"M48358,-74.96C48535,-69.76 49252,-47.81 49841,-18 49864,-16.83 49889,-15.39 49911,-14.06\"/>\n",
       "<polygon fill=\"red\" stroke=\"red\" points=\"49911.11,-15.8 49916,-13.76 49910.9,-12.31 49911.11,-15.8\"/>\n",
       "<text text-anchor=\"middle\" x=\"49428\" y=\"-38.6\" font-family=\"Times,serif\" font-size=\"8.00\"> 13</text>\n",
       "</g>\n",
       "<!--  1, 11, 14 -->\n",
       "<g id=\"node481\" class=\"node\">\n",
       "<title> 1, 11, 14</title>\n",
       "<polygon fill=\"none\" stroke=\"black\" points=\"50202,-18 50121.5,-9 50202,0 50282.5,-9 50202,-18\"/>\n",
       "<text text-anchor=\"middle\" x=\"50202\" y=\"-7.1\" font-family=\"Times,serif\" font-size=\"8.00\">1.240004775, &#45;1.240004775</text>\n",
       "</g>\n",
       "<!--  1, 11&#45;&gt; 1, 11, 14 -->\n",
       "<g id=\"edge447\" class=\"edge\">\n",
       "<title> 1, 11&#45;&gt; 1, 11, 14</title>\n",
       "<path fill=\"none\" stroke=\"red\" d=\"M48358,-75.19C48504,-71.73 49015,-59.28 49437,-45 49737,-34.82 49813,-37.47 50113,-18 50128,-17.02 50144,-15.64 50159,-14.29\"/>\n",
       "<polygon fill=\"red\" stroke=\"red\" points=\"50159.19,-16.03 50164,-13.8 50158.85,-12.55 50159.19,-16.03\"/>\n",
       "<text text-anchor=\"middle\" x=\"49747\" y=\"-38.6\" font-family=\"Times,serif\" font-size=\"8.00\"> 14</text>\n",
       "</g>\n",
       "<!--  1, 11, 15 -->\n",
       "<g id=\"node482\" class=\"node\">\n",
       "<title> 1, 11, 15</title>\n",
       "<polygon fill=\"none\" stroke=\"black\" points=\"50427,-18 50300,-9 50427,0 50554,-9 50427,-18\"/>\n",
       "<text text-anchor=\"middle\" x=\"50427\" y=\"-7.1\" font-family=\"Times,serif\" font-size=\"8.00\">0.8849247750000002, &#45;0.8849247750000002</text>\n",
       "</g>\n",
       "<!--  1, 11&#45;&gt; 1, 11, 15 -->\n",
       "<g id=\"edge448\" class=\"edge\">\n",
       "<title> 1, 11&#45;&gt; 1, 11, 15</title>\n",
       "<path fill=\"none\" stroke=\"red\" d=\"M48359,-75.69C48529,-73.69 49203,-64.94 49756,-45 49978,-36.99 50241,-21.5 50361,-14.11\"/>\n",
       "<polygon fill=\"red\" stroke=\"red\" points=\"50361.12,-15.86 50366,-13.79 50360.9,-12.36 50361.12,-15.86\"/>\n",
       "<text text-anchor=\"middle\" x=\"49964\" y=\"-38.6\" font-family=\"Times,serif\" font-size=\"8.00\"> 15</text>\n",
       "</g>\n",
       "<!--  1, 12 -->\n",
       "<g id=\"node29\" class=\"node\">\n",
       "<title> 1, 12</title>\n",
       "<ellipse fill=\"none\" stroke=\"red\" cx=\"52543\" cy=\"-77.14\" rx=\"41.02\" ry=\"14.29\"/>\n",
       "<text text-anchor=\"middle\" x=\"52543\" y=\"-79.74\" font-family=\"Times,serif\" font-size=\"8.00\">Current player: 1</text>\n",
       "<text text-anchor=\"middle\" x=\"52543\" y=\"-70.74\" font-family=\"Times,serif\" font-size=\"8.00\">us: op:</text>\n",
       "</g>\n",
       "<!--  1, 12, 0 -->\n",
       "<g id=\"node483\" class=\"node\">\n",
       "<title> 1, 12, 0</title>\n",
       "<polygon fill=\"none\" stroke=\"black\" points=\"50699,-18 50572,-9 50699,0 50826,-9 50699,-18\"/>\n",
       "<text text-anchor=\"middle\" x=\"50699\" y=\"-7.1\" font-family=\"Times,serif\" font-size=\"8.00\">&#45;2.0564352249999986, 2.0564352249999986</text>\n",
       "</g>\n",
       "<!--  1, 12&#45;&gt; 1, 12, 0 -->\n",
       "<g id=\"edge449\" class=\"edge\">\n",
       "<title> 1, 12&#45;&gt; 1, 12, 0</title>\n",
       "<path fill=\"none\" stroke=\"red\" d=\"M52502,-75.24C52313,-70.92 51500,-51.29 50835,-18 50811,-16.84 50786,-15.4 50764,-14.05\"/>\n",
       "<polygon fill=\"red\" stroke=\"red\" points=\"50764.1,-12.31 50759,-13.75 50763.88,-15.8 50764.1,-12.31\"/>\n",
       "<text text-anchor=\"middle\" x=\"51449\" y=\"-38.6\" font-family=\"Times,serif\" font-size=\"8.00\"> 0</text>\n",
       "</g>\n",
       "<!--  1, 12, 1 -->\n",
       "<g id=\"node484\" class=\"node\">\n",
       "<title> 1, 12, 1</title>\n",
       "<polygon fill=\"none\" stroke=\"black\" points=\"50971,-18 50844,-9 50971,0 51098,-9 50971,-18\"/>\n",
       "<text text-anchor=\"middle\" x=\"50971\" y=\"-7.1\" font-family=\"Times,serif\" font-size=\"8.00\">&#45;3.0213552249999993, 3.0213552249999993</text>\n",
       "</g>\n",
       "<!--  1, 12&#45;&gt; 1, 12, 1 -->\n",
       "<g id=\"edge450\" class=\"edge\">\n",
       "<title> 1, 12&#45;&gt; 1, 12, 1</title>\n",
       "<path fill=\"none\" stroke=\"red\" d=\"M52502,-74.84C52332,-69.31 51659,-46.72 51106,-18 51083,-16.82 51058,-15.39 51036,-14.07\"/>\n",
       "<polygon fill=\"red\" stroke=\"red\" points=\"51036.1,-12.32 51031,-13.75 51035.88,-15.81 51036.1,-12.32\"/>\n",
       "<text text-anchor=\"middle\" x=\"51662\" y=\"-38.6\" font-family=\"Times,serif\" font-size=\"8.00\"> 1</text>\n",
       "</g>\n",
       "<!--  1, 12, 2 -->\n",
       "<g id=\"node485\" class=\"node\">\n",
       "<title> 1, 12, 2</title>\n",
       "<polygon fill=\"none\" stroke=\"black\" points=\"51236,-18 51115.3,-9 51236,0 51356.7,-9 51236,-18\"/>\n",
       "<text text-anchor=\"middle\" x=\"51236\" y=\"-7.1\" font-family=\"Times,serif\" font-size=\"8.00\">&#45;3.681355224999999, 3.681355224999999</text>\n",
       "</g>\n",
       "<!--  1, 12&#45;&gt; 1, 12, 2 -->\n",
       "<g id=\"edge451\" class=\"edge\">\n",
       "<title> 1, 12&#45;&gt; 1, 12, 2</title>\n",
       "<path fill=\"none\" stroke=\"red\" d=\"M52502,-74.33C52352,-67.56 51811,-42.83 51365,-18 51343,-16.79 51319,-15.36 51298,-14.04\"/>\n",
       "<polygon fill=\"red\" stroke=\"red\" points=\"51298.1,-12.29 51293,-13.72 51297.88,-15.78 51298.1,-12.29\"/>\n",
       "<text text-anchor=\"middle\" x=\"51886\" y=\"-38.6\" font-family=\"Times,serif\" font-size=\"8.00\"> 2</text>\n",
       "</g>\n",
       "<!--  1, 12, 3 -->\n",
       "<g id=\"node486\" class=\"node\">\n",
       "<title> 1, 12, 3</title>\n",
       "<polygon fill=\"none\" stroke=\"black\" points=\"51495,-18 51374.3,-9 51495,0 51615.7,-9 51495,-18\"/>\n",
       "<text text-anchor=\"middle\" x=\"51495\" y=\"-7.1\" font-family=\"Times,serif\" font-size=\"8.00\">&#45;4.036435224999999, 4.036435224999999</text>\n",
       "</g>\n",
       "<!--  1, 12&#45;&gt; 1, 12, 3 -->\n",
       "<g id=\"edge452\" class=\"edge\">\n",
       "<title> 1, 12&#45;&gt; 1, 12, 3</title>\n",
       "<path fill=\"none\" stroke=\"red\" d=\"M52503,-73.63C52344,-63.6 51753,-26.34 51558,-14\"/>\n",
       "<polygon fill=\"red\" stroke=\"red\" points=\"51558.1,-12.25 51553,-13.68 51557.88,-15.74 51558.1,-12.25\"/>\n",
       "<text text-anchor=\"middle\" x=\"52022\" y=\"-38.6\" font-family=\"Times,serif\" font-size=\"8.00\"> 3</text>\n",
       "</g>\n",
       "<!--  1, 12, 4 -->\n",
       "<g id=\"node487\" class=\"node\">\n",
       "<title> 1, 12, 4</title>\n",
       "<polygon fill=\"none\" stroke=\"black\" points=\"51760,-18 51633,-9 51760,0 51887,-9 51760,-18\"/>\n",
       "<text text-anchor=\"middle\" x=\"51760\" y=\"-7.1\" font-family=\"Times,serif\" font-size=\"8.00\">&#45;1.9877952249999993, 1.9877952249999993</text>\n",
       "</g>\n",
       "<!--  1, 12&#45;&gt; 1, 12, 4 -->\n",
       "<g id=\"edge453\" class=\"edge\">\n",
       "<title> 1, 12&#45;&gt; 1, 12, 4</title>\n",
       "<path fill=\"none\" stroke=\"red\" d=\"M52504,-72.84C52375,-62.01 51967,-27.56 51816,-14.8\"/>\n",
       "<polygon fill=\"red\" stroke=\"red\" points=\"51816.13,-13.06 51811,-14.36 51815.82,-16.55 51816.13,-13.06\"/>\n",
       "<text text-anchor=\"middle\" x=\"52155\" y=\"-38.6\" font-family=\"Times,serif\" font-size=\"8.00\"> 4</text>\n",
       "</g>\n",
       "<!--  1, 12, 5 -->\n",
       "<g id=\"node488\" class=\"node\">\n",
       "<title> 1, 12, 5</title>\n",
       "<polygon fill=\"none\" stroke=\"black\" points=\"52025,-18 51904.3,-9 52025,0 52145.7,-9 52025,-18\"/>\n",
       "<text text-anchor=\"middle\" x=\"52025\" y=\"-7.1\" font-family=\"Times,serif\" font-size=\"8.00\">&#45;2.952715224999999, 2.952715224999999</text>\n",
       "</g>\n",
       "<!--  1, 12&#45;&gt; 1, 12, 5 -->\n",
       "<g id=\"edge454\" class=\"edge\">\n",
       "<title> 1, 12&#45;&gt; 1, 12, 5</title>\n",
       "<path fill=\"none\" stroke=\"red\" d=\"M52505,-71.33C52412,-59.42 52170,-28.57 52070,-15.73\"/>\n",
       "<polygon fill=\"red\" stroke=\"red\" points=\"52069.16,-13.88 52064,-15.06 52068.77,-17.36 52069.16,-13.88\"/>\n",
       "<text text-anchor=\"middle\" x=\"52287\" y=\"-38.6\" font-family=\"Times,serif\" font-size=\"8.00\"> 5</text>\n",
       "</g>\n",
       "<!--  1, 12, 6 -->\n",
       "<g id=\"node489\" class=\"node\">\n",
       "<title> 1, 12, 6</title>\n",
       "<polygon fill=\"none\" stroke=\"black\" points=\"52284,-18 52163.3,-9 52284,0 52404.7,-9 52284,-18\"/>\n",
       "<text text-anchor=\"middle\" x=\"52284\" y=\"-7.1\" font-family=\"Times,serif\" font-size=\"8.00\">&#45;3.612715224999999, 3.612715224999999</text>\n",
       "</g>\n",
       "<!--  1, 12&#45;&gt; 1, 12, 6 -->\n",
       "<g id=\"edge455\" class=\"edge\">\n",
       "<title> 1, 12&#45;&gt; 1, 12, 6</title>\n",
       "<path fill=\"none\" stroke=\"red\" d=\"M52511,-68.03C52460,-55.09 52362,-29.96 52313,-17.45\"/>\n",
       "<polygon fill=\"red\" stroke=\"red\" points=\"52313.27,-15.72 52308,-16.21 52312.43,-19.11 52313.27,-15.72\"/>\n",
       "<text text-anchor=\"middle\" x=\"52417\" y=\"-38.6\" font-family=\"Times,serif\" font-size=\"8.00\"> 6</text>\n",
       "</g>\n",
       "<!--  1, 12, 7 -->\n",
       "<g id=\"node490\" class=\"node\">\n",
       "<title> 1, 12, 7</title>\n",
       "<polygon fill=\"none\" stroke=\"black\" points=\"52543,-18 52422.3,-9 52543,0 52663.7,-9 52543,-18\"/>\n",
       "<text text-anchor=\"middle\" x=\"52543\" y=\"-7.1\" font-family=\"Times,serif\" font-size=\"8.00\">&#45;3.967795224999999, 3.967795224999999</text>\n",
       "</g>\n",
       "<!--  1, 12&#45;&gt; 1, 12, 7 -->\n",
       "<g id=\"edge456\" class=\"edge\">\n",
       "<title> 1, 12&#45;&gt; 1, 12, 7</title>\n",
       "<path fill=\"none\" stroke=\"red\" d=\"M52543,-62.76C52543,-51.34 52543,-35 52543,-23.54\"/>\n",
       "<polygon fill=\"red\" stroke=\"red\" points=\"52544.75,-23.34 52543,-18.34 52541.25,-23.34 52544.75,-23.34\"/>\n",
       "<text text-anchor=\"middle\" x=\"52546\" y=\"-38.6\" font-family=\"Times,serif\" font-size=\"8.00\"> 7</text>\n",
       "</g>\n",
       "<!--  1, 12, 8 -->\n",
       "<g id=\"node491\" class=\"node\">\n",
       "<title> 1, 12, 8</title>\n",
       "<polygon fill=\"none\" stroke=\"black\" points=\"52808,-18 52681,-9 52808,0 52935,-9 52808,-18\"/>\n",
       "<text text-anchor=\"middle\" x=\"52808\" y=\"-7.1\" font-family=\"Times,serif\" font-size=\"8.00\">&#45;1.6577952249999988, 1.6577952249999988</text>\n",
       "</g>\n",
       "<!--  1, 12&#45;&gt; 1, 12, 8 -->\n",
       "<g id=\"edge457\" class=\"edge\">\n",
       "<title> 1, 12&#45;&gt; 1, 12, 8</title>\n",
       "<path fill=\"none\" stroke=\"red\" d=\"M52575,-68.16C52626,-55.27 52727,-30.05 52778,-17.48\"/>\n",
       "<polygon fill=\"red\" stroke=\"red\" points=\"52778.57,-19.15 52783,-16.24 52777.72,-15.75 52778.57,-19.15\"/>\n",
       "<text text-anchor=\"middle\" x=\"52703\" y=\"-38.6\" font-family=\"Times,serif\" font-size=\"8.00\"> 8</text>\n",
       "</g>\n",
       "<!--  1, 12, 9 -->\n",
       "<g id=\"node492\" class=\"node\">\n",
       "<title> 1, 12, 9</title>\n",
       "<polygon fill=\"none\" stroke=\"black\" points=\"53073,-18 52952.3,-9 53073,0 53193.7,-9 53073,-18\"/>\n",
       "<text text-anchor=\"middle\" x=\"53073\" y=\"-7.1\" font-family=\"Times,serif\" font-size=\"8.00\">&#45;2.622715224999999, 2.622715224999999</text>\n",
       "</g>\n",
       "<!--  1, 12&#45;&gt; 1, 12, 9 -->\n",
       "<g id=\"edge458\" class=\"edge\">\n",
       "<title> 1, 12&#45;&gt; 1, 12, 9</title>\n",
       "<path fill=\"none\" stroke=\"red\" d=\"M52580,-71.44C52675,-59.58 52924,-28.51 53027,-15.67\"/>\n",
       "<polygon fill=\"red\" stroke=\"red\" points=\"53027.26,-17.4 53032,-15.04 53026.82,-13.93 53027.26,-17.4\"/>\n",
       "<text text-anchor=\"middle\" x=\"52859\" y=\"-38.6\" font-family=\"Times,serif\" font-size=\"8.00\"> 9</text>\n",
       "</g>\n",
       "<!--  1, 12, 10 -->\n",
       "<g id=\"node493\" class=\"node\">\n",
       "<title> 1, 12, 10</title>\n",
       "<polygon fill=\"none\" stroke=\"black\" points=\"53332,-18 53211.3,-9 53332,0 53452.7,-9 53332,-18\"/>\n",
       "<text text-anchor=\"middle\" x=\"53332\" y=\"-7.1\" font-family=\"Times,serif\" font-size=\"8.00\">&#45;3.282715224999999, 3.282715224999999</text>\n",
       "</g>\n",
       "<!--  1, 12&#45;&gt; 1, 12, 10 -->\n",
       "<g id=\"edge459\" class=\"edge\">\n",
       "<title> 1, 12&#45;&gt; 1, 12, 10</title>\n",
       "<path fill=\"none\" stroke=\"red\" d=\"M52582,-72.86C52711,-62.03 53124,-27.37 53276,-14.7\"/>\n",
       "<polygon fill=\"red\" stroke=\"red\" points=\"53276.17,-16.44 53281,-14.26 53275.86,-12.95 53276.17,-16.44\"/>\n",
       "<text text-anchor=\"middle\" x=\"53014\" y=\"-38.6\" font-family=\"Times,serif\" font-size=\"8.00\"> 10</text>\n",
       "</g>\n",
       "<!--  1, 12, 11 -->\n",
       "<g id=\"node494\" class=\"node\">\n",
       "<title> 1, 12, 11</title>\n",
       "<polygon fill=\"none\" stroke=\"black\" points=\"53591,-18 53470.3,-9 53591,0 53711.7,-9 53591,-18\"/>\n",
       "<text text-anchor=\"middle\" x=\"53591\" y=\"-7.1\" font-family=\"Times,serif\" font-size=\"8.00\">&#45;3.637795224999999, 3.637795224999999</text>\n",
       "</g>\n",
       "<!--  1, 12&#45;&gt; 1, 12, 11 -->\n",
       "<g id=\"edge460\" class=\"edge\">\n",
       "<title> 1, 12&#45;&gt; 1, 12, 11</title>\n",
       "<path fill=\"none\" stroke=\"red\" d=\"M52582,-73.63C52741,-63.6 53332,-26.34 53527,-14\"/>\n",
       "<polygon fill=\"red\" stroke=\"red\" points=\"53527.12,-15.74 53532,-13.68 53526.9,-12.25 53527.12,-15.74\"/>\n",
       "<text text-anchor=\"middle\" x=\"53166\" y=\"-38.6\" font-family=\"Times,serif\" font-size=\"8.00\"> 11</text>\n",
       "</g>\n",
       "<!--  1, 12, 12 -->\n",
       "<g id=\"node495\" class=\"node\">\n",
       "<title> 1, 12, 12</title>\n",
       "<polygon fill=\"none\" stroke=\"black\" points=\"53856,-18 53729,-9 53856,0 53983,-9 53856,-18\"/>\n",
       "<text text-anchor=\"middle\" x=\"53856\" y=\"-7.1\" font-family=\"Times,serif\" font-size=\"8.00\">&#45;1.0664352249999987, 1.0664352249999987</text>\n",
       "</g>\n",
       "<!--  1, 12&#45;&gt; 1, 12, 12 -->\n",
       "<g id=\"edge461\" class=\"edge\">\n",
       "<title> 1, 12&#45;&gt; 1, 12, 12</title>\n",
       "<path fill=\"none\" stroke=\"red\" d=\"M52583,-74.3C52733,-67.41 53274,-42.26 53721,-18 53743,-16.77 53768,-15.34 53790,-14.02\"/>\n",
       "<polygon fill=\"red\" stroke=\"red\" points=\"53790.12,-15.77 53795,-13.71 53789.9,-12.28 53790.12,-15.77\"/>\n",
       "<text text-anchor=\"middle\" x=\"53370\" y=\"-38.6\" font-family=\"Times,serif\" font-size=\"8.00\"> 12</text>\n",
       "</g>\n",
       "<!--  1, 12, 13 -->\n",
       "<g id=\"node496\" class=\"node\">\n",
       "<title> 1, 12, 13</title>\n",
       "<polygon fill=\"none\" stroke=\"black\" points=\"54121,-18 54000.3,-9 54121,0 54241.7,-9 54121,-18\"/>\n",
       "<text text-anchor=\"middle\" x=\"54121\" y=\"-7.1\" font-family=\"Times,serif\" font-size=\"8.00\">&#45;2.031355224999999, 2.031355224999999</text>\n",
       "</g>\n",
       "<!--  1, 12&#45;&gt; 1, 12, 13 -->\n",
       "<g id=\"edge462\" class=\"edge\">\n",
       "<title> 1, 12&#45;&gt; 1, 12, 13</title>\n",
       "<path fill=\"none\" stroke=\"red\" d=\"M52583,-74.89C52754,-69.56 53434,-47.58 53992,-18 54013,-16.84 54037,-15.41 54058,-14.08\"/>\n",
       "<polygon fill=\"red\" stroke=\"red\" points=\"54058.12,-15.83 54063,-13.76 54057.9,-12.33 54058.12,-15.83\"/>\n",
       "<text text-anchor=\"middle\" x=\"53600\" y=\"-38.6\" font-family=\"Times,serif\" font-size=\"8.00\"> 13</text>\n",
       "</g>\n",
       "<!--  1, 12, 14 -->\n",
       "<g id=\"node497\" class=\"node\">\n",
       "<title> 1, 12, 14</title>\n",
       "<polygon fill=\"none\" stroke=\"black\" points=\"54386,-18 54259,-9 54386,0 54513,-9 54386,-18\"/>\n",
       "<text text-anchor=\"middle\" x=\"54386\" y=\"-7.1\" font-family=\"Times,serif\" font-size=\"8.00\">&#45;2.6913552249999992, 2.6913552249999992</text>\n",
       "</g>\n",
       "<!--  1, 12&#45;&gt; 1, 12, 14 -->\n",
       "<g id=\"edge463\" class=\"edge\">\n",
       "<title> 1, 12&#45;&gt; 1, 12, 14</title>\n",
       "<path fill=\"none\" stroke=\"red\" d=\"M52583,-75.26C52772,-71.03 53585,-51.72 54251,-18 54273,-16.84 54299,-15.4 54321,-14.07\"/>\n",
       "<polygon fill=\"red\" stroke=\"red\" points=\"54321.11,-15.81 54326,-13.77 54320.9,-12.32 54321.11,-15.81\"/>\n",
       "<text text-anchor=\"middle\" x=\"53835\" y=\"-38.6\" font-family=\"Times,serif\" font-size=\"8.00\"> 14</text>\n",
       "</g>\n",
       "<!--  1, 12, 15 -->\n",
       "<g id=\"node498\" class=\"node\">\n",
       "<title> 1, 12, 15</title>\n",
       "<polygon fill=\"none\" stroke=\"black\" points=\"54651,-18 54530.3,-9 54651,0 54771.7,-9 54651,-18\"/>\n",
       "<text text-anchor=\"middle\" x=\"54651\" y=\"-7.1\" font-family=\"Times,serif\" font-size=\"8.00\">&#45;3.046435224999999, 3.046435224999999</text>\n",
       "</g>\n",
       "<!--  1, 12&#45;&gt; 1, 12, 15 -->\n",
       "<g id=\"edge464\" class=\"edge\">\n",
       "<title> 1, 12&#45;&gt; 1, 12, 15</title>\n",
       "<path fill=\"none\" stroke=\"red\" d=\"M52583,-75.4C52744,-72.44 53347,-60.83 53844,-45 54145,-35.39 54220,-33.33 54522,-18 54543,-16.89 54567,-15.46 54589,-14.12\"/>\n",
       "<polygon fill=\"red\" stroke=\"red\" points=\"54589.12,-15.86 54594,-13.8 54588.9,-12.37 54589.12,-15.86\"/>\n",
       "<text text-anchor=\"middle\" x=\"54120\" y=\"-38.6\" font-family=\"Times,serif\" font-size=\"8.00\"> 15</text>\n",
       "</g>\n",
       "<!--  1, 13 -->\n",
       "<g id=\"node30\" class=\"node\">\n",
       "<title> 1, 13</title>\n",
       "<ellipse fill=\"none\" stroke=\"red\" cx=\"56823\" cy=\"-77.14\" rx=\"41.02\" ry=\"14.29\"/>\n",
       "<text text-anchor=\"middle\" x=\"56823\" y=\"-79.74\" font-family=\"Times,serif\" font-size=\"8.00\">Current player: 1</text>\n",
       "<text text-anchor=\"middle\" x=\"56823\" y=\"-70.74\" font-family=\"Times,serif\" font-size=\"8.00\">us: op:</text>\n",
       "</g>\n",
       "<!--  1, 13, 0 -->\n",
       "<g id=\"node499\" class=\"node\">\n",
       "<title> 1, 13, 0</title>\n",
       "<polygon fill=\"none\" stroke=\"black\" points=\"54924,-18 54790,-9 54924,0 55058,-9 54924,-18\"/>\n",
       "<text text-anchor=\"middle\" x=\"54924\" y=\"-7.1\" font-family=\"Times,serif\" font-size=\"8.00\">&#45;0.45865083055555533, 0.45865083055555533</text>\n",
       "</g>\n",
       "<!--  1, 13&#45;&gt; 1, 13, 0 -->\n",
       "<g id=\"edge465\" class=\"edge\">\n",
       "<title> 1, 13&#45;&gt; 1, 13, 0</title>\n",
       "<path fill=\"none\" stroke=\"red\" d=\"M56782,-75.24C56589,-70.91 55752,-51.03 55067,-18 55042,-16.83 55016,-15.38 54992,-14.04\"/>\n",
       "<polygon fill=\"red\" stroke=\"red\" points=\"54992.09,-12.29 54987,-13.76 54991.89,-15.79 54992.09,-12.29\"/>\n",
       "<text text-anchor=\"middle\" x=\"55698\" y=\"-38.6\" font-family=\"Times,serif\" font-size=\"8.00\"> 0</text>\n",
       "</g>\n",
       "<!--  1, 13, 1 -->\n",
       "<g id=\"node500\" class=\"node\">\n",
       "<title> 1, 13, 1</title>\n",
       "<polygon fill=\"none\" stroke=\"black\" points=\"55203,-18 55076,-9 55203,0 55330,-9 55203,-18\"/>\n",
       "<text text-anchor=\"middle\" x=\"55203\" y=\"-7.1\" font-family=\"Times,serif\" font-size=\"8.00\">&#45;1.4235708305555557, 1.4235708305555557</text>\n",
       "</g>\n",
       "<!--  1, 13&#45;&gt; 1, 13, 1 -->\n",
       "<g id=\"edge466\" class=\"edge\">\n",
       "<title> 1, 13&#45;&gt; 1, 13, 1</title>\n",
       "<path fill=\"none\" stroke=\"red\" d=\"M56782,-74.91C56608,-69.59 55910,-47.46 55338,-18 55315,-16.83 55290,-15.41 55268,-14.08\"/>\n",
       "<polygon fill=\"red\" stroke=\"red\" points=\"55268.1,-12.33 55263,-13.77 55267.88,-15.83 55268.1,-12.33\"/>\n",
       "<text text-anchor=\"middle\" x=\"55913\" y=\"-38.6\" font-family=\"Times,serif\" font-size=\"8.00\"> 1</text>\n",
       "</g>\n",
       "<!--  1, 13, 2 -->\n",
       "<g id=\"node501\" class=\"node\">\n",
       "<title> 1, 13, 2</title>\n",
       "<polygon fill=\"none\" stroke=\"black\" points=\"55468,-18 55347.3,-9 55468,0 55588.7,-9 55468,-18\"/>\n",
       "<text text-anchor=\"middle\" x=\"55468\" y=\"-7.1\" font-family=\"Times,serif\" font-size=\"8.00\">&#45;2.083570830555556, 2.083570830555556</text>\n",
       "</g>\n",
       "<!--  1, 13&#45;&gt; 1, 13, 2 -->\n",
       "<g id=\"edge467\" class=\"edge\">\n",
       "<title> 1, 13&#45;&gt; 1, 13, 2</title>\n",
       "<path fill=\"none\" stroke=\"red\" d=\"M56782,-74.44C56628,-67.9 56062,-43.51 55597,-18 55575,-16.81 55551,-15.38 55530,-14.06\"/>\n",
       "<polygon fill=\"red\" stroke=\"red\" points=\"55530.1,-12.31 55525,-13.74 55529.88,-15.8 55530.1,-12.31\"/>\n",
       "<text text-anchor=\"middle\" x=\"56106\" y=\"-38.6\" font-family=\"Times,serif\" font-size=\"8.00\"> 2</text>\n",
       "</g>\n",
       "<!--  1, 13, 3 -->\n",
       "<g id=\"node502\" class=\"node\">\n",
       "<title> 1, 13, 3</title>\n",
       "<polygon fill=\"none\" stroke=\"black\" points=\"55727,-18 55606.3,-9 55727,0 55847.7,-9 55727,-18\"/>\n",
       "<text text-anchor=\"middle\" x=\"55727\" y=\"-7.1\" font-family=\"Times,serif\" font-size=\"8.00\">&#45;2.438650830555556, 2.438650830555556</text>\n",
       "</g>\n",
       "<!--  1, 13&#45;&gt; 1, 13, 3 -->\n",
       "<g id=\"edge468\" class=\"edge\">\n",
       "<title> 1, 13&#45;&gt; 1, 13, 3</title>\n",
       "<path fill=\"none\" stroke=\"red\" d=\"M56783,-73.75C56650,-65.86 56216,-39.87 55857,-18 55835,-16.69 55812,-15.25 55791,-13.95\"/>\n",
       "<polygon fill=\"red\" stroke=\"red\" points=\"55790.08,-12.15 55785,-13.64 55789.9,-15.65 55790.08,-12.15\"/>\n",
       "<text text-anchor=\"middle\" x=\"56285\" y=\"-38.6\" font-family=\"Times,serif\" font-size=\"8.00\"> 3</text>\n",
       "</g>\n",
       "<!--  1, 13, 4 -->\n",
       "<g id=\"node503\" class=\"node\">\n",
       "<title> 1, 13, 4</title>\n",
       "<polygon fill=\"none\" stroke=\"black\" points=\"56000,-18 55866,-9 56000,0 56134,-9 56000,-18\"/>\n",
       "<text text-anchor=\"middle\" x=\"56000\" y=\"-7.1\" font-family=\"Times,serif\" font-size=\"8.00\">&#45;0.39001083055555574, 0.39001083055555574</text>\n",
       "</g>\n",
       "<!--  1, 13&#45;&gt; 1, 13, 4 -->\n",
       "<g id=\"edge469\" class=\"edge\">\n",
       "<title> 1, 13&#45;&gt; 1, 13, 4</title>\n",
       "<path fill=\"none\" stroke=\"red\" d=\"M56783,-72.97C56650,-62.29 56218,-27.55 56059,-14.78\"/>\n",
       "<polygon fill=\"red\" stroke=\"red\" points=\"56059.12,-13.03 56054,-14.37 56058.84,-16.52 56059.12,-13.03\"/>\n",
       "<text text-anchor=\"middle\" x=\"56415\" y=\"-38.6\" font-family=\"Times,serif\" font-size=\"8.00\"> 4</text>\n",
       "</g>\n",
       "<!--  1, 13, 5 -->\n",
       "<g id=\"node504\" class=\"node\">\n",
       "<title> 1, 13, 5</title>\n",
       "<polygon fill=\"none\" stroke=\"black\" points=\"56279,-18 56152,-9 56279,0 56406,-9 56279,-18\"/>\n",
       "<text text-anchor=\"middle\" x=\"56279\" y=\"-7.1\" font-family=\"Times,serif\" font-size=\"8.00\">&#45;1.3549308305555556, 1.3549308305555556</text>\n",
       "</g>\n",
       "<!--  1, 13&#45;&gt; 1, 13, 5 -->\n",
       "<g id=\"edge470\" class=\"edge\">\n",
       "<title> 1, 13&#45;&gt; 1, 13, 5</title>\n",
       "<path fill=\"none\" stroke=\"red\" d=\"M56785,-71.54C56688,-59.77 56431,-28.59 56325,-15.7\"/>\n",
       "<polygon fill=\"red\" stroke=\"red\" points=\"56325.18,-13.96 56320,-15.06 56324.74,-17.43 56325.18,-13.96\"/>\n",
       "<text text-anchor=\"middle\" x=\"56554\" y=\"-38.6\" font-family=\"Times,serif\" font-size=\"8.00\"> 5</text>\n",
       "</g>\n",
       "<!--  1, 13, 6 -->\n",
       "<g id=\"node505\" class=\"node\">\n",
       "<title> 1, 13, 6</title>\n",
       "<polygon fill=\"none\" stroke=\"black\" points=\"56551,-18 56424,-9 56551,0 56678,-9 56551,-18\"/>\n",
       "<text text-anchor=\"middle\" x=\"56551\" y=\"-7.1\" font-family=\"Times,serif\" font-size=\"8.00\">&#45;2.0149308305555556, 2.0149308305555556</text>\n",
       "</g>\n",
       "<!--  1, 13&#45;&gt; 1, 13, 6 -->\n",
       "<g id=\"edge471\" class=\"edge\">\n",
       "<title> 1, 13&#45;&gt; 1, 13, 6</title>\n",
       "<path fill=\"none\" stroke=\"red\" d=\"M56790,-68.3C56738,-55.46 56633,-30.14 56582,-17.52\"/>\n",
       "<polygon fill=\"red\" stroke=\"red\" points=\"56581.25,-15.58 56576,-16.27 56580.53,-19 56581.25,-15.58\"/>\n",
       "<text text-anchor=\"middle\" x=\"56690\" y=\"-38.6\" font-family=\"Times,serif\" font-size=\"8.00\"> 6</text>\n",
       "</g>\n",
       "<!--  1, 13, 7 -->\n",
       "<g id=\"node506\" class=\"node\">\n",
       "<title> 1, 13, 7</title>\n",
       "<polygon fill=\"none\" stroke=\"black\" points=\"56823,-18 56696,-9 56823,0 56950,-9 56823,-18\"/>\n",
       "<text text-anchor=\"middle\" x=\"56823\" y=\"-7.1\" font-family=\"Times,serif\" font-size=\"8.00\">&#45;2.3700108305555556, 2.3700108305555556</text>\n",
       "</g>\n",
       "<!--  1, 13&#45;&gt; 1, 13, 7 -->\n",
       "<g id=\"edge472\" class=\"edge\">\n",
       "<title> 1, 13&#45;&gt; 1, 13, 7</title>\n",
       "<path fill=\"none\" stroke=\"red\" d=\"M56823,-62.76C56823,-51.34 56823,-35 56823,-23.54\"/>\n",
       "<polygon fill=\"red\" stroke=\"red\" points=\"56824.75,-23.34 56823,-18.34 56821.25,-23.34 56824.75,-23.34\"/>\n",
       "<text text-anchor=\"middle\" x=\"56826\" y=\"-38.6\" font-family=\"Times,serif\" font-size=\"8.00\"> 7</text>\n",
       "</g>\n",
       "<!--  1, 13, 8 -->\n",
       "<g id=\"node507\" class=\"node\">\n",
       "<title> 1, 13, 8</title>\n",
       "<polygon fill=\"none\" stroke=\"black\" points=\"57108,-18 56967.5,-9 57108,0 57248.5,-9 57108,-18\"/>\n",
       "<text text-anchor=\"middle\" x=\"57108\" y=\"-7.1\" font-family=\"Times,serif\" font-size=\"8.00\">&#45;0.060010830555555186, 0.060010830555555186</text>\n",
       "</g>\n",
       "<!--  1, 13&#45;&gt; 1, 13, 8 -->\n",
       "<g id=\"edge473\" class=\"edge\">\n",
       "<title> 1, 13&#45;&gt; 1, 13, 8</title>\n",
       "<path fill=\"none\" stroke=\"red\" d=\"M56855,-68.56C56910,-55.8 57020,-30.21 57075,-17.51\"/>\n",
       "<polygon fill=\"red\" stroke=\"red\" points=\"57075.54,-19.18 57080,-16.32 57074.73,-15.78 57075.54,-19.18\"/>\n",
       "<text text-anchor=\"middle\" x=\"56995\" y=\"-38.6\" font-family=\"Times,serif\" font-size=\"8.00\"> 8</text>\n",
       "</g>\n",
       "<!--  1, 13, 9 -->\n",
       "<g id=\"node508\" class=\"node\">\n",
       "<title> 1, 13, 9</title>\n",
       "<polygon fill=\"none\" stroke=\"black\" points=\"57393,-18 57266,-9 57393,0 57520,-9 57393,-18\"/>\n",
       "<text text-anchor=\"middle\" x=\"57393\" y=\"-7.1\" font-family=\"Times,serif\" font-size=\"8.00\">&#45;1.0249308305555556, 1.0249308305555556</text>\n",
       "</g>\n",
       "<!--  1, 13&#45;&gt; 1, 13, 9 -->\n",
       "<g id=\"edge474\" class=\"edge\">\n",
       "<title> 1, 13&#45;&gt; 1, 13, 9</title>\n",
       "<path fill=\"none\" stroke=\"red\" d=\"M56861,-71.7C56962,-60.02 57233,-28.49 57344,-15.6\"/>\n",
       "<polygon fill=\"red\" stroke=\"red\" points=\"57344.24,-17.34 57349,-15 57343.83,-13.86 57344.24,-17.34\"/>\n",
       "<text text-anchor=\"middle\" x=\"57163\" y=\"-38.6\" font-family=\"Times,serif\" font-size=\"8.00\"> 9</text>\n",
       "</g>\n",
       "<!--  1, 13, 10 -->\n",
       "<g id=\"node509\" class=\"node\">\n",
       "<title> 1, 13, 10</title>\n",
       "<polygon fill=\"none\" stroke=\"black\" points=\"57665,-18 57538,-9 57665,0 57792,-9 57665,-18\"/>\n",
       "<text text-anchor=\"middle\" x=\"57665\" y=\"-7.1\" font-family=\"Times,serif\" font-size=\"8.00\">&#45;1.6849308305555557, 1.6849308305555557</text>\n",
       "</g>\n",
       "<!--  1, 13&#45;&gt; 1, 13, 10 -->\n",
       "<g id=\"edge475\" class=\"edge\">\n",
       "<title> 1, 13&#45;&gt; 1, 13, 10</title>\n",
       "<path fill=\"none\" stroke=\"red\" d=\"M56862,-73.04C56998,-62.39 57445,-27.28 57606,-14.61\"/>\n",
       "<polygon fill=\"red\" stroke=\"red\" points=\"57606.16,-16.35 57611,-14.2 57605.87,-12.86 57606.16,-16.35\"/>\n",
       "<text text-anchor=\"middle\" x=\"57325\" y=\"-38.6\" font-family=\"Times,serif\" font-size=\"8.00\"> 10</text>\n",
       "</g>\n",
       "<!--  1, 13, 11 -->\n",
       "<g id=\"node510\" class=\"node\">\n",
       "<title> 1, 13, 11</title>\n",
       "<polygon fill=\"none\" stroke=\"black\" points=\"57937,-18 57810,-9 57937,0 58064,-9 57937,-18\"/>\n",
       "<text text-anchor=\"middle\" x=\"57937\" y=\"-7.1\" font-family=\"Times,serif\" font-size=\"8.00\">&#45;2.0400108305555555, 2.0400108305555555</text>\n",
       "</g>\n",
       "<!--  1, 13&#45;&gt; 1, 13, 11 -->\n",
       "<g id=\"edge476\" class=\"edge\">\n",
       "<title> 1, 13&#45;&gt; 1, 13, 11</title>\n",
       "<path fill=\"none\" stroke=\"red\" d=\"M56863,-73.77C57028,-63.94 57662,-26.33 57870,-13.97\"/>\n",
       "<polygon fill=\"red\" stroke=\"red\" points=\"57870.11,-15.71 57875,-13.66 57869.9,-12.22 57870.11,-15.71\"/>\n",
       "<text text-anchor=\"middle\" x=\"57485\" y=\"-38.6\" font-family=\"Times,serif\" font-size=\"8.00\"> 11</text>\n",
       "</g>\n",
       "<!--  1, 13, 12 -->\n",
       "<g id=\"node511\" class=\"node\">\n",
       "<title> 1, 13, 12</title>\n",
       "<polygon fill=\"none\" stroke=\"black\" points=\"58209,-18 58082,-9 58209,0 58336,-9 58209,-18\"/>\n",
       "<text text-anchor=\"middle\" x=\"58209\" y=\"-7.1\" font-family=\"Times,serif\" font-size=\"8.00\">0.5313491694444449, &#45;0.5313491694444449</text>\n",
       "</g>\n",
       "<!--  1, 13&#45;&gt; 1, 13, 12 -->\n",
       "<g id=\"edge477\" class=\"edge\">\n",
       "<title> 1, 13&#45;&gt; 1, 13, 12</title>\n",
       "<path fill=\"none\" stroke=\"red\" d=\"M56863,-74.44C57019,-67.85 57597,-43.08 58073,-18 58096,-16.79 58121,-15.35 58143,-14.02\"/>\n",
       "<polygon fill=\"red\" stroke=\"red\" points=\"58143.11,-15.77 58148,-13.72 58142.9,-12.27 58143.11,-15.77\"/>\n",
       "<text text-anchor=\"middle\" x=\"57701\" y=\"-38.6\" font-family=\"Times,serif\" font-size=\"8.00\"> 12</text>\n",
       "</g>\n",
       "<!--  1, 13, 13 -->\n",
       "<g id=\"node512\" class=\"node\">\n",
       "<title> 1, 13, 13</title>\n",
       "<polygon fill=\"none\" stroke=\"black\" points=\"58488,-18 58354,-9 58488,0 58622,-9 58488,-18\"/>\n",
       "<text text-anchor=\"middle\" x=\"58488\" y=\"-7.1\" font-family=\"Times,serif\" font-size=\"8.00\">&#45;0.43357083055555573, 0.43357083055555573</text>\n",
       "</g>\n",
       "<!--  1, 13&#45;&gt; 1, 13, 13 -->\n",
       "<g id=\"edge478\" class=\"edge\">\n",
       "<title> 1, 13&#45;&gt; 1, 13, 13</title>\n",
       "<path fill=\"none\" stroke=\"red\" d=\"M56863,-74.92C57039,-69.54 57756,-46.96 58345,-18 58369,-16.81 58395,-15.37 58419,-14.05\"/>\n",
       "<polygon fill=\"red\" stroke=\"red\" points=\"58419.11,-15.79 58424,-13.75 58418.9,-12.3 58419.11,-15.79\"/>\n",
       "<text text-anchor=\"middle\" x=\"57933\" y=\"-38.6\" font-family=\"Times,serif\" font-size=\"8.00\"> 13</text>\n",
       "</g>\n",
       "<!--  1, 13, 14 -->\n",
       "<g id=\"node513\" class=\"node\">\n",
       "<title> 1, 13, 14</title>\n",
       "<polygon fill=\"none\" stroke=\"black\" points=\"58767,-18 58640,-9 58767,0 58894,-9 58767,-18\"/>\n",
       "<text text-anchor=\"middle\" x=\"58767\" y=\"-7.1\" font-family=\"Times,serif\" font-size=\"8.00\">&#45;1.0935708305555556, 1.0935708305555556</text>\n",
       "</g>\n",
       "<!--  1, 13&#45;&gt; 1, 13, 14 -->\n",
       "<g id=\"edge479\" class=\"edge\">\n",
       "<title> 1, 13&#45;&gt; 1, 13, 14</title>\n",
       "<path fill=\"none\" stroke=\"red\" d=\"M56863,-75.34C57059,-71.37 57923,-52.66 58631,-18 58654,-16.86 58679,-15.43 58702,-14.08\"/>\n",
       "<polygon fill=\"red\" stroke=\"red\" points=\"58702.11,-15.83 58707,-13.78 58701.9,-12.33 58702.11,-15.83\"/>\n",
       "<text text-anchor=\"middle\" x=\"58190\" y=\"-38.6\" font-family=\"Times,serif\" font-size=\"8.00\"> 14</text>\n",
       "</g>\n",
       "<!--  1, 13, 15 -->\n",
       "<g id=\"node514\" class=\"node\">\n",
       "<title> 1, 13, 15</title>\n",
       "<polygon fill=\"none\" stroke=\"black\" points=\"59039,-18 58912,-9 59039,0 59166,-9 59039,-18\"/>\n",
       "<text text-anchor=\"middle\" x=\"59039\" y=\"-7.1\" font-family=\"Times,serif\" font-size=\"8.00\">&#45;1.4486508305555552, 1.4486508305555552</text>\n",
       "</g>\n",
       "<!--  1, 13&#45;&gt; 1, 13, 15 -->\n",
       "<g id=\"edge480\" class=\"edge\">\n",
       "<title> 1, 13&#45;&gt; 1, 13, 15</title>\n",
       "<path fill=\"none\" stroke=\"red\" d=\"M56863,-75.45C57030,-72.6 57671,-61.09 58199,-45 58512,-35.46 58590,-33.19 58903,-18 58926,-16.87 58951,-15.44 58974,-14.09\"/>\n",
       "<polygon fill=\"red\" stroke=\"red\" points=\"58974.11,-15.84 58979,-13.79 58973.9,-12.34 58974.11,-15.84\"/>\n",
       "<text text-anchor=\"middle\" x=\"58485\" y=\"-38.6\" font-family=\"Times,serif\" font-size=\"8.00\"> 15</text>\n",
       "</g>\n",
       "<!--  1, 14 -->\n",
       "<g id=\"node31\" class=\"node\">\n",
       "<title> 1, 14</title>\n",
       "<ellipse fill=\"none\" stroke=\"red\" cx=\"61189\" cy=\"-77.14\" rx=\"41.02\" ry=\"14.29\"/>\n",
       "<text text-anchor=\"middle\" x=\"61189\" y=\"-79.74\" font-family=\"Times,serif\" font-size=\"8.00\">Current player: 1</text>\n",
       "<text text-anchor=\"middle\" x=\"61189\" y=\"-70.74\" font-family=\"Times,serif\" font-size=\"8.00\">us: op:</text>\n",
       "</g>\n",
       "<!--  1, 14, 0 -->\n",
       "<g id=\"node515\" class=\"node\">\n",
       "<title> 1, 14, 0</title>\n",
       "<polygon fill=\"none\" stroke=\"black\" points=\"59304,-18 59183.3,-9 59304,0 59424.7,-9 59304,-18\"/>\n",
       "<text text-anchor=\"middle\" x=\"59304\" y=\"-7.1\" font-family=\"Times,serif\" font-size=\"8.00\">2.172682502777778, &#45;2.172682502777778</text>\n",
       "</g>\n",
       "<!--  1, 14&#45;&gt; 1, 14, 0 -->\n",
       "<g id=\"edge481\" class=\"edge\">\n",
       "<title> 1, 14&#45;&gt; 1, 14, 0</title>\n",
       "<path fill=\"none\" stroke=\"red\" d=\"M61148,-75.33C60955,-71.41 60118,-53.08 59433,-18 59411,-16.88 59387,-15.45 59365,-14.11\"/>\n",
       "<polygon fill=\"red\" stroke=\"red\" points=\"59365.1,-12.36 59360,-13.79 59364.88,-15.86 59365.1,-12.36\"/>\n",
       "<text text-anchor=\"middle\" x=\"60064\" y=\"-38.6\" font-family=\"Times,serif\" font-size=\"8.00\"> 0</text>\n",
       "</g>\n",
       "<!--  1, 14, 1 -->\n",
       "<g id=\"node516\" class=\"node\">\n",
       "<title> 1, 14, 1</title>\n",
       "<polygon fill=\"none\" stroke=\"black\" points=\"59569,-18 59442,-9 59569,0 59696,-9 59569,-18\"/>\n",
       "<text text-anchor=\"middle\" x=\"59569\" y=\"-7.1\" font-family=\"Times,serif\" font-size=\"8.00\">1.2077625027777779, &#45;1.2077625027777779</text>\n",
       "</g>\n",
       "<!--  1, 14&#45;&gt; 1, 14, 1 -->\n",
       "<g id=\"edge482\" class=\"edge\">\n",
       "<title> 1, 14&#45;&gt; 1, 14, 1</title>\n",
       "<path fill=\"none\" stroke=\"red\" d=\"M61148,-74.9C60974,-69.5 60277,-47.13 59705,-18 59682,-16.83 59656,-15.38 59634,-14.05\"/>\n",
       "<polygon fill=\"red\" stroke=\"red\" points=\"59634.1,-12.3 59629,-13.75 59633.88,-15.8 59634.1,-12.3\"/>\n",
       "<text text-anchor=\"middle\" x=\"60279\" y=\"-38.6\" font-family=\"Times,serif\" font-size=\"8.00\"> 1</text>\n",
       "</g>\n",
       "<!--  1, 14, 2 -->\n",
       "<g id=\"node517\" class=\"node\">\n",
       "<title> 1, 14, 2</title>\n",
       "<polygon fill=\"none\" stroke=\"black\" points=\"59841,-18 59714,-9 59841,0 59968,-9 59841,-18\"/>\n",
       "<text text-anchor=\"middle\" x=\"59841\" y=\"-7.1\" font-family=\"Times,serif\" font-size=\"8.00\">0.5477625027777777, &#45;0.5477625027777777</text>\n",
       "</g>\n",
       "<!--  1, 14&#45;&gt; 1, 14, 2 -->\n",
       "<g id=\"edge483\" class=\"edge\">\n",
       "<title> 1, 14&#45;&gt; 1, 14, 2</title>\n",
       "<path fill=\"none\" stroke=\"red\" d=\"M61148,-74.37C60995,-67.6 60437,-42.57 59977,-18 59954,-16.77 59929,-15.33 59906,-14\"/>\n",
       "<polygon fill=\"red\" stroke=\"red\" points=\"59906.09,-12.26 59901,-13.71 59905.89,-15.75 59906.09,-12.26\"/>\n",
       "<text text-anchor=\"middle\" x=\"60512\" y=\"-38.6\" font-family=\"Times,serif\" font-size=\"8.00\"> 2</text>\n",
       "</g>\n",
       "<!--  1, 14, 3 -->\n",
       "<g id=\"node518\" class=\"node\">\n",
       "<title> 1, 14, 3</title>\n",
       "<polygon fill=\"none\" stroke=\"black\" points=\"60120,-18 59986,-9 60120,0 60254,-9 60120,-18\"/>\n",
       "<text text-anchor=\"middle\" x=\"60120\" y=\"-7.1\" font-family=\"Times,serif\" font-size=\"8.00\">0.19268250277777782, &#45;0.19268250277777782</text>\n",
       "</g>\n",
       "<!--  1, 14&#45;&gt; 1, 14, 3 -->\n",
       "<g id=\"edge484\" class=\"edge\">\n",
       "<title> 1, 14&#45;&gt; 1, 14, 3</title>\n",
       "<path fill=\"none\" stroke=\"red\" d=\"M61149,-73.67C60988,-63.74 60389,-26.68 60187,-14.16\"/>\n",
       "<polygon fill=\"red\" stroke=\"red\" points=\"60187.1,-12.42 60182,-13.85 60186.88,-15.91 60187.1,-12.42\"/>\n",
       "<text text-anchor=\"middle\" x=\"60658\" y=\"-38.6\" font-family=\"Times,serif\" font-size=\"8.00\"> 3</text>\n",
       "</g>\n",
       "<!--  1, 14, 4 -->\n",
       "<g id=\"node519\" class=\"node\">\n",
       "<title> 1, 14, 4</title>\n",
       "<polygon fill=\"none\" stroke=\"black\" points=\"60393,-18 60272.3,-9 60393,0 60513.7,-9 60393,-18\"/>\n",
       "<text text-anchor=\"middle\" x=\"60393\" y=\"-7.1\" font-family=\"Times,serif\" font-size=\"8.00\">2.241322502777778, &#45;2.241322502777778</text>\n",
       "</g>\n",
       "<!--  1, 14&#45;&gt; 1, 14, 4 -->\n",
       "<g id=\"edge485\" class=\"edge\">\n",
       "<title> 1, 14&#45;&gt; 1, 14, 4</title>\n",
       "<path fill=\"none\" stroke=\"red\" d=\"M61149,-72.89C61019,-62.07 60601,-27.34 60449,-14.68\"/>\n",
       "<polygon fill=\"red\" stroke=\"red\" points=\"60449.13,-12.93 60444,-14.24 60448.83,-16.42 60449.13,-12.93\"/>\n",
       "<text text-anchor=\"middle\" x=\"60794\" y=\"-38.6\" font-family=\"Times,serif\" font-size=\"8.00\"> 4</text>\n",
       "</g>\n",
       "<!--  1, 14, 5 -->\n",
       "<g id=\"node520\" class=\"node\">\n",
       "<title> 1, 14, 5</title>\n",
       "<polygon fill=\"none\" stroke=\"black\" points=\"60652,-18 60531.3,-9 60652,0 60772.7,-9 60652,-18\"/>\n",
       "<text text-anchor=\"middle\" x=\"60652\" y=\"-7.1\" font-family=\"Times,serif\" font-size=\"8.00\">1.276402502777778, &#45;1.276402502777778</text>\n",
       "</g>\n",
       "<!--  1, 14&#45;&gt; 1, 14, 5 -->\n",
       "<g id=\"edge486\" class=\"edge\">\n",
       "<title> 1, 14&#45;&gt; 1, 14, 5</title>\n",
       "<path fill=\"none\" stroke=\"red\" d=\"M61151,-71.49C61055,-59.66 60802,-28.47 60697,-15.64\"/>\n",
       "<polygon fill=\"red\" stroke=\"red\" points=\"60697.18,-13.9 60692,-15 60696.74,-17.37 60697.18,-13.9\"/>\n",
       "<text text-anchor=\"middle\" x=\"60924\" y=\"-38.6\" font-family=\"Times,serif\" font-size=\"8.00\"> 5</text>\n",
       "</g>\n",
       "<!--  1, 14, 6 -->\n",
       "<g id=\"node521\" class=\"node\">\n",
       "<title> 1, 14, 6</title>\n",
       "<polygon fill=\"none\" stroke=\"black\" points=\"60917,-18 60790,-9 60917,0 61044,-9 60917,-18\"/>\n",
       "<text text-anchor=\"middle\" x=\"60917\" y=\"-7.1\" font-family=\"Times,serif\" font-size=\"8.00\">0.6164025027777777, &#45;0.6164025027777777</text>\n",
       "</g>\n",
       "<!--  1, 14&#45;&gt; 1, 14, 6 -->\n",
       "<g id=\"edge487\" class=\"edge\">\n",
       "<title> 1, 14&#45;&gt; 1, 14, 6</title>\n",
       "<path fill=\"none\" stroke=\"red\" d=\"M61156,-68.3C61104,-55.46 60999,-30.14 60948,-17.52\"/>\n",
       "<polygon fill=\"red\" stroke=\"red\" points=\"60947.25,-15.58 60942,-16.27 60946.53,-19 60947.25,-15.58\"/>\n",
       "<text text-anchor=\"middle\" x=\"61056\" y=\"-38.6\" font-family=\"Times,serif\" font-size=\"8.00\"> 6</text>\n",
       "</g>\n",
       "<!--  1, 14, 7 -->\n",
       "<g id=\"node522\" class=\"node\">\n",
       "<title> 1, 14, 7</title>\n",
       "<polygon fill=\"none\" stroke=\"black\" points=\"61189,-18 61062,-9 61189,0 61316,-9 61189,-18\"/>\n",
       "<text text-anchor=\"middle\" x=\"61189\" y=\"-7.1\" font-family=\"Times,serif\" font-size=\"8.00\">0.2613225027777779, &#45;0.2613225027777779</text>\n",
       "</g>\n",
       "<!--  1, 14&#45;&gt; 1, 14, 7 -->\n",
       "<g id=\"edge488\" class=\"edge\">\n",
       "<title> 1, 14&#45;&gt; 1, 14, 7</title>\n",
       "<path fill=\"none\" stroke=\"red\" d=\"M61189,-62.76C61189,-51.34 61189,-35 61189,-23.54\"/>\n",
       "<polygon fill=\"red\" stroke=\"red\" points=\"61190.75,-23.34 61189,-18.34 61187.25,-23.34 61190.75,-23.34\"/>\n",
       "<text text-anchor=\"middle\" x=\"61192\" y=\"-38.6\" font-family=\"Times,serif\" font-size=\"8.00\"> 7</text>\n",
       "</g>\n",
       "<!--  1, 14, 8 -->\n",
       "<g id=\"node523\" class=\"node\">\n",
       "<title> 1, 14, 8</title>\n",
       "<polygon fill=\"none\" stroke=\"black\" points=\"61461,-18 61334,-9 61461,0 61588,-9 61461,-18\"/>\n",
       "<text text-anchor=\"middle\" x=\"61461\" y=\"-7.1\" font-family=\"Times,serif\" font-size=\"8.00\">2.5713225027777784, &#45;2.5713225027777784</text>\n",
       "</g>\n",
       "<!--  1, 14&#45;&gt; 1, 14, 8 -->\n",
       "<g id=\"edge489\" class=\"edge\">\n",
       "<title> 1, 14&#45;&gt; 1, 14, 8</title>\n",
       "<path fill=\"none\" stroke=\"red\" d=\"M61221,-68.3C61274,-55.46 61378,-30.14 61430,-17.52\"/>\n",
       "<polygon fill=\"red\" stroke=\"red\" points=\"61430.58,-19.18 61435,-16.27 61429.72,-15.78 61430.58,-19.18\"/>\n",
       "<text text-anchor=\"middle\" x=\"61353\" y=\"-38.6\" font-family=\"Times,serif\" font-size=\"8.00\"> 8</text>\n",
       "</g>\n",
       "<!--  1, 14, 9 -->\n",
       "<g id=\"node524\" class=\"node\">\n",
       "<title> 1, 14, 9</title>\n",
       "<polygon fill=\"none\" stroke=\"black\" points=\"61726,-18 61605.3,-9 61726,0 61846.7,-9 61726,-18\"/>\n",
       "<text text-anchor=\"middle\" x=\"61726\" y=\"-7.1\" font-family=\"Times,serif\" font-size=\"8.00\">1.606402502777778, &#45;1.606402502777778</text>\n",
       "</g>\n",
       "<!--  1, 14&#45;&gt; 1, 14, 9 -->\n",
       "<g id=\"edge490\" class=\"edge\">\n",
       "<title> 1, 14&#45;&gt; 1, 14, 9</title>\n",
       "<path fill=\"none\" stroke=\"red\" d=\"M61226,-71.49C61322,-59.66 61576,-28.47 61680,-15.64\"/>\n",
       "<polygon fill=\"red\" stroke=\"red\" points=\"61680.26,-17.37 61685,-15 61679.82,-13.9 61680.26,-17.37\"/>\n",
       "<text text-anchor=\"middle\" x=\"61509\" y=\"-38.6\" font-family=\"Times,serif\" font-size=\"8.00\"> 9</text>\n",
       "</g>\n",
       "<!--  1, 14, 10 -->\n",
       "<g id=\"node525\" class=\"node\">\n",
       "<title> 1, 14, 10</title>\n",
       "<polygon fill=\"none\" stroke=\"black\" points=\"61991,-18 61864,-9 61991,0 62118,-9 61991,-18\"/>\n",
       "<text text-anchor=\"middle\" x=\"61991\" y=\"-7.1\" font-family=\"Times,serif\" font-size=\"8.00\">0.9464025027777778, &#45;0.9464025027777778</text>\n",
       "</g>\n",
       "<!--  1, 14&#45;&gt; 1, 14, 10 -->\n",
       "<g id=\"edge491\" class=\"edge\">\n",
       "<title> 1, 14&#45;&gt; 1, 14, 10</title>\n",
       "<path fill=\"none\" stroke=\"red\" d=\"M61228,-72.91C61358,-62.14 61779,-27.49 61933,-14.75\"/>\n",
       "<polygon fill=\"red\" stroke=\"red\" points=\"61933.17,-16.49 61938,-14.31 61932.86,-13.01 61933.17,-16.49\"/>\n",
       "<text text-anchor=\"middle\" x=\"61667\" y=\"-38.6\" font-family=\"Times,serif\" font-size=\"8.00\"> 10</text>\n",
       "</g>\n",
       "<!--  1, 14, 11 -->\n",
       "<g id=\"node526\" class=\"node\">\n",
       "<title> 1, 14, 11</title>\n",
       "<polygon fill=\"none\" stroke=\"black\" points=\"62263,-18 62136,-9 62263,0 62390,-9 62263,-18\"/>\n",
       "<text text-anchor=\"middle\" x=\"62263\" y=\"-7.1\" font-family=\"Times,serif\" font-size=\"8.00\">0.5913225027777779, &#45;0.5913225027777779</text>\n",
       "</g>\n",
       "<!--  1, 14&#45;&gt; 1, 14, 11 -->\n",
       "<g id=\"edge492\" class=\"edge\">\n",
       "<title> 1, 14&#45;&gt; 1, 14, 11</title>\n",
       "<path fill=\"none\" stroke=\"red\" d=\"M61228,-73.69C61390,-63.76 61995,-26.48 62197,-14.05\"/>\n",
       "<polygon fill=\"red\" stroke=\"red\" points=\"62197.12,-15.8 62202,-13.73 62196.9,-12.31 62197.12,-15.8\"/>\n",
       "<text text-anchor=\"middle\" x=\"61828\" y=\"-38.6\" font-family=\"Times,serif\" font-size=\"8.00\"> 11</text>\n",
       "</g>\n",
       "<!--  1, 14, 12 -->\n",
       "<g id=\"node527\" class=\"node\">\n",
       "<title> 1, 14, 12</title>\n",
       "<polygon fill=\"none\" stroke=\"black\" points=\"62535,-18 62408,-9 62535,0 62662,-9 62535,-18\"/>\n",
       "<text text-anchor=\"middle\" x=\"62535\" y=\"-7.1\" font-family=\"Times,serif\" font-size=\"8.00\">3.1626825027777783, &#45;3.1626825027777783</text>\n",
       "</g>\n",
       "<!--  1, 14&#45;&gt; 1, 14, 12 -->\n",
       "<g id=\"edge493\" class=\"edge\">\n",
       "<title> 1, 14&#45;&gt; 1, 14, 12</title>\n",
       "<path fill=\"none\" stroke=\"red\" d=\"M61229,-74.37C61381,-67.6 61939,-42.55 62399,-18 62422,-16.77 62447,-15.33 62469,-14\"/>\n",
       "<polygon fill=\"red\" stroke=\"red\" points=\"62469.11,-15.75 62474,-13.7 62468.9,-12.25 62469.11,-15.75\"/>\n",
       "<text text-anchor=\"middle\" x=\"62039\" y=\"-38.6\" font-family=\"Times,serif\" font-size=\"8.00\"> 12</text>\n",
       "</g>\n",
       "<!--  1, 14, 13 -->\n",
       "<g id=\"node528\" class=\"node\">\n",
       "<title> 1, 14, 13</title>\n",
       "<polygon fill=\"none\" stroke=\"black\" points=\"62807,-18 62680,-9 62807,0 62934,-9 62807,-18\"/>\n",
       "<text text-anchor=\"middle\" x=\"62807\" y=\"-7.1\" font-family=\"Times,serif\" font-size=\"8.00\">2.1977625027777776, &#45;2.1977625027777776</text>\n",
       "</g>\n",
       "<!--  1, 14&#45;&gt; 1, 14, 13 -->\n",
       "<g id=\"edge494\" class=\"edge\">\n",
       "<title> 1, 14&#45;&gt; 1, 14, 13</title>\n",
       "<path fill=\"none\" stroke=\"red\" d=\"M61229,-74.9C61403,-69.52 62099,-47.19 62671,-18 62694,-16.82 62719,-15.38 62741,-14.04\"/>\n",
       "<polygon fill=\"red\" stroke=\"red\" points=\"62741.11,-15.79 62746,-13.74 62740.9,-12.3 62741.11,-15.79\"/>\n",
       "<text text-anchor=\"middle\" x=\"62270\" y=\"-38.6\" font-family=\"Times,serif\" font-size=\"8.00\"> 13</text>\n",
       "</g>\n",
       "<!--  1, 14, 14 -->\n",
       "<g id=\"node529\" class=\"node\">\n",
       "<title> 1, 14, 14</title>\n",
       "<polygon fill=\"none\" stroke=\"black\" points=\"63072,-18 62951.3,-9 63072,0 63192.7,-9 63072,-18\"/>\n",
       "<text text-anchor=\"middle\" x=\"63072\" y=\"-7.1\" font-family=\"Times,serif\" font-size=\"8.00\">1.537762502777778, &#45;1.537762502777778</text>\n",
       "</g>\n",
       "<!--  1, 14&#45;&gt; 1, 14, 14 -->\n",
       "<g id=\"edge495\" class=\"edge\">\n",
       "<title> 1, 14&#45;&gt; 1, 14, 14</title>\n",
       "<path fill=\"none\" stroke=\"red\" d=\"M61229,-75.34C61422,-71.42 62258,-53.14 62943,-18 62964,-16.88 62988,-15.45 63010,-14.11\"/>\n",
       "<polygon fill=\"red\" stroke=\"red\" points=\"63010.12,-15.85 63015,-13.79 63009.9,-12.36 63010.12,-15.85\"/>\n",
       "<text text-anchor=\"middle\" x=\"62516\" y=\"-38.6\" font-family=\"Times,serif\" font-size=\"8.00\"> 14</text>\n",
       "</g>\n",
       "<!--  1, 14, 15 -->\n",
       "<g id=\"node530\" class=\"node\">\n",
       "<title> 1, 14, 15</title>\n",
       "<polygon fill=\"none\" stroke=\"black\" points=\"63331,-18 63210.3,-9 63331,0 63451.7,-9 63331,-18\"/>\n",
       "<text text-anchor=\"middle\" x=\"63331\" y=\"-7.1\" font-family=\"Times,serif\" font-size=\"8.00\">1.182682502777778, &#45;1.182682502777778</text>\n",
       "</g>\n",
       "<!--  1, 14&#45;&gt; 1, 14, 15 -->\n",
       "<g id=\"edge496\" class=\"edge\">\n",
       "<title> 1, 14&#45;&gt; 1, 14, 15</title>\n",
       "<path fill=\"none\" stroke=\"red\" d=\"M61229,-75.44C61392,-72.57 62014,-61.15 62525,-45 62826,-35.49 62901,-33.32 63202,-18 63223,-16.89 63247,-15.46 63269,-14.12\"/>\n",
       "<polygon fill=\"red\" stroke=\"red\" points=\"63269.12,-15.86 63274,-13.79 63268.9,-12.37 63269.12,-15.86\"/>\n",
       "<text text-anchor=\"middle\" x=\"62801\" y=\"-38.6\" font-family=\"Times,serif\" font-size=\"8.00\"> 15</text>\n",
       "</g>\n",
       "<!--  1, 15 -->\n",
       "<g id=\"node32\" class=\"node\">\n",
       "<title> 1, 15</title>\n",
       "<ellipse fill=\"none\" stroke=\"red\" cx=\"65334\" cy=\"-77.14\" rx=\"41.02\" ry=\"14.29\"/>\n",
       "<text text-anchor=\"middle\" x=\"65334\" y=\"-79.74\" font-family=\"Times,serif\" font-size=\"8.00\">Current player: 1</text>\n",
       "<text text-anchor=\"middle\" x=\"65334\" y=\"-70.74\" font-family=\"Times,serif\" font-size=\"8.00\">us: op:</text>\n",
       "</g>\n",
       "<!--  1, 15, 0 -->\n",
       "<g id=\"node531\" class=\"node\">\n",
       "<title> 1, 15, 0</title>\n",
       "<polygon fill=\"none\" stroke=\"black\" points=\"63596,-18 63469,-9 63596,0 63723,-9 63596,-18\"/>\n",
       "<text text-anchor=\"middle\" x=\"63596\" y=\"-7.1\" font-family=\"Times,serif\" font-size=\"8.00\">1.9435647750000002, &#45;1.9435647750000002</text>\n",
       "</g>\n",
       "<!--  1, 15&#45;&gt; 1, 15, 0 -->\n",
       "<g id=\"edge497\" class=\"edge\">\n",
       "<title> 1, 15&#45;&gt; 1, 15, 0</title>\n",
       "<path fill=\"none\" stroke=\"red\" d=\"M65293,-75.06C65110,-70.16 64353,-48.9 63732,-18 63708,-16.85 63683,-15.4 63661,-14.06\"/>\n",
       "<polygon fill=\"red\" stroke=\"red\" points=\"63661.1,-12.31 63656,-13.76 63660.88,-15.81 63661.1,-12.31\"/>\n",
       "<text text-anchor=\"middle\" x=\"64352\" y=\"-38.6\" font-family=\"Times,serif\" font-size=\"8.00\"> 0</text>\n",
       "</g>\n",
       "<!--  1, 15, 1 -->\n",
       "<g id=\"node532\" class=\"node\">\n",
       "<title> 1, 15, 1</title>\n",
       "<polygon fill=\"none\" stroke=\"black\" points=\"63868,-18 63741,-9 63868,0 63995,-9 63868,-18\"/>\n",
       "<text text-anchor=\"middle\" x=\"63868\" y=\"-7.1\" font-family=\"Times,serif\" font-size=\"8.00\">0.9786447749999998, &#45;0.9786447749999998</text>\n",
       "</g>\n",
       "<!--  1, 15&#45;&gt; 1, 15, 1 -->\n",
       "<g id=\"edge498\" class=\"edge\">\n",
       "<title> 1, 15&#45;&gt; 1, 15, 1</title>\n",
       "<path fill=\"none\" stroke=\"red\" d=\"M65293,-74.6C65131,-68.38 64512,-44.2 64004,-18 63981,-16.81 63955,-15.37 63933,-14.03\"/>\n",
       "<polygon fill=\"red\" stroke=\"red\" points=\"63933.1,-12.29 63928,-13.73 63932.88,-15.78 63933.1,-12.29\"/>\n",
       "<text text-anchor=\"middle\" x=\"64555\" y=\"-38.6\" font-family=\"Times,serif\" font-size=\"8.00\"> 1</text>\n",
       "</g>\n",
       "<!--  1, 15, 2 -->\n",
       "<g id=\"node533\" class=\"node\">\n",
       "<title> 1, 15, 2</title>\n",
       "<polygon fill=\"none\" stroke=\"black\" points=\"64140,-18 64013,-9 64140,0 64267,-9 64140,-18\"/>\n",
       "<text text-anchor=\"middle\" x=\"64140\" y=\"-7.1\" font-family=\"Times,serif\" font-size=\"8.00\">0.3186447749999999, &#45;0.3186447749999999</text>\n",
       "</g>\n",
       "<!--  1, 15&#45;&gt; 1, 15, 2 -->\n",
       "<g id=\"edge499\" class=\"edge\">\n",
       "<title> 1, 15&#45;&gt; 1, 15, 2</title>\n",
       "<path fill=\"none\" stroke=\"red\" d=\"M65293,-73.98C65153,-66.44 64672,-40.57 64276,-18 64253,-16.71 64228,-15.27 64206,-13.96\"/>\n",
       "<polygon fill=\"red\" stroke=\"red\" points=\"64206.1,-12.22 64201,-13.65 64205.88,-15.71 64206.1,-12.22\"/>\n",
       "<text text-anchor=\"middle\" x=\"64744\" y=\"-38.6\" font-family=\"Times,serif\" font-size=\"8.00\"> 2</text>\n",
       "</g>\n",
       "<!--  1, 15, 3 -->\n",
       "<g id=\"node534\" class=\"node\">\n",
       "<title> 1, 15, 3</title>\n",
       "<polygon fill=\"none\" stroke=\"black\" points=\"64419,-18 64285,-9 64419,0 64553,-9 64419,-18\"/>\n",
       "<text text-anchor=\"middle\" x=\"64419\" y=\"-7.1\" font-family=\"Times,serif\" font-size=\"8.00\">&#45;0.03643522500000007, 0.03643522500000007</text>\n",
       "</g>\n",
       "<!--  1, 15&#45;&gt; 1, 15, 3 -->\n",
       "<g id=\"edge500\" class=\"edge\">\n",
       "<title> 1, 15&#45;&gt; 1, 15, 3</title>\n",
       "<path fill=\"none\" stroke=\"red\" d=\"M65294,-73.28C65150,-62.91 64657,-27.23 64481,-14.53\"/>\n",
       "<polygon fill=\"red\" stroke=\"red\" points=\"64481.11,-12.79 64476,-14.16 64480.86,-16.28 64481.11,-12.79\"/>\n",
       "<text text-anchor=\"middle\" x=\"64880\" y=\"-38.6\" font-family=\"Times,serif\" font-size=\"8.00\"> 3</text>\n",
       "</g>\n",
       "<!--  1, 15, 4 -->\n",
       "<g id=\"node535\" class=\"node\">\n",
       "<title> 1, 15, 4</title>\n",
       "<polygon fill=\"none\" stroke=\"black\" points=\"64651,-18 64570.5,-9 64651,0 64731.5,-9 64651,-18\"/>\n",
       "<text text-anchor=\"middle\" x=\"64651\" y=\"-7.1\" font-family=\"Times,serif\" font-size=\"8.00\">2.012204775, &#45;2.012204775</text>\n",
       "</g>\n",
       "<!--  1, 15&#45;&gt; 1, 15, 4 -->\n",
       "<g id=\"edge501\" class=\"edge\">\n",
       "<title> 1, 15&#45;&gt; 1, 15, 4</title>\n",
       "<path fill=\"none\" stroke=\"red\" d=\"M65295,-72.4C65176,-60.93 64819,-26.34 64694,-14.24\"/>\n",
       "<polygon fill=\"red\" stroke=\"red\" points=\"64694.15,-12.49 64689,-13.74 64693.8,-15.98 64694.15,-12.49\"/>\n",
       "<text text-anchor=\"middle\" x=\"64996\" y=\"-38.6\" font-family=\"Times,serif\" font-size=\"8.00\"> 4</text>\n",
       "</g>\n",
       "<!--  1, 15, 5 -->\n",
       "<g id=\"node536\" class=\"node\">\n",
       "<title> 1, 15, 5</title>\n",
       "<polygon fill=\"none\" stroke=\"black\" points=\"64830,-18 64749.5,-9 64830,0 64910.5,-9 64830,-18\"/>\n",
       "<text text-anchor=\"middle\" x=\"64830\" y=\"-7.1\" font-family=\"Times,serif\" font-size=\"8.00\">1.047284775, &#45;1.047284775</text>\n",
       "</g>\n",
       "<!--  1, 15&#45;&gt; 1, 15, 5 -->\n",
       "<g id=\"edge502\" class=\"edge\">\n",
       "<title> 1, 15&#45;&gt; 1, 15, 5</title>\n",
       "<path fill=\"none\" stroke=\"red\" d=\"M65296,-71.22C65203,-59 64962,-27.34 64868,-15.02\"/>\n",
       "<polygon fill=\"red\" stroke=\"red\" points=\"64868.19,-13.27 64863,-14.34 64867.72,-16.74 64868.19,-13.27\"/>\n",
       "<text text-anchor=\"middle\" x=\"65085\" y=\"-38.6\" font-family=\"Times,serif\" font-size=\"8.00\"> 5</text>\n",
       "</g>\n",
       "<!--  1, 15, 6 -->\n",
       "<g id=\"node537\" class=\"node\">\n",
       "<title> 1, 15, 6</title>\n",
       "<polygon fill=\"none\" stroke=\"black\" points=\"65055,-18 64928,-9 65055,0 65182,-9 65055,-18\"/>\n",
       "<text text-anchor=\"middle\" x=\"65055\" y=\"-7.1\" font-family=\"Times,serif\" font-size=\"8.00\">0.3872847749999998, &#45;0.3872847749999998</text>\n",
       "</g>\n",
       "<!--  1, 15&#45;&gt; 1, 15, 6 -->\n",
       "<g id=\"edge503\" class=\"edge\">\n",
       "<title> 1, 15&#45;&gt; 1, 15, 6</title>\n",
       "<path fill=\"none\" stroke=\"red\" d=\"M65301,-68.42C65247,-55.58 65139,-30 65086,-17.38\"/>\n",
       "<polygon fill=\"red\" stroke=\"red\" points=\"65086.27,-15.65 65081,-16.2 65085.46,-19.05 65086.27,-15.65\"/>\n",
       "<text text-anchor=\"middle\" x=\"65198\" y=\"-38.6\" font-family=\"Times,serif\" font-size=\"8.00\"> 6</text>\n",
       "</g>\n",
       "<!--  1, 15, 7 -->\n",
       "<g id=\"node538\" class=\"node\">\n",
       "<title> 1, 15, 7</title>\n",
       "<polygon fill=\"none\" stroke=\"black\" points=\"65334,-18 65200,-9 65334,0 65468,-9 65334,-18\"/>\n",
       "<text text-anchor=\"middle\" x=\"65334\" y=\"-7.1\" font-family=\"Times,serif\" font-size=\"8.00\">0.03220477500000002, &#45;0.03220477500000002</text>\n",
       "</g>\n",
       "<!--  1, 15&#45;&gt; 1, 15, 7 -->\n",
       "<g id=\"edge504\" class=\"edge\">\n",
       "<title> 1, 15&#45;&gt; 1, 15, 7</title>\n",
       "<path fill=\"none\" stroke=\"red\" d=\"M65334,-62.76C65334,-51.34 65334,-35 65334,-23.54\"/>\n",
       "<polygon fill=\"red\" stroke=\"red\" points=\"65335.75,-23.34 65334,-18.34 65332.25,-23.34 65335.75,-23.34\"/>\n",
       "<text text-anchor=\"middle\" x=\"65337\" y=\"-38.6\" font-family=\"Times,serif\" font-size=\"8.00\"> 7</text>\n",
       "</g>\n",
       "<!--  1, 15, 8 -->\n",
       "<g id=\"node539\" class=\"node\">\n",
       "<title> 1, 15, 8</title>\n",
       "<polygon fill=\"none\" stroke=\"black\" points=\"65613,-18 65486,-9 65613,0 65740,-9 65613,-18\"/>\n",
       "<text text-anchor=\"middle\" x=\"65613\" y=\"-7.1\" font-family=\"Times,serif\" font-size=\"8.00\">2.3422047750000003, &#45;2.3422047750000003</text>\n",
       "</g>\n",
       "<!--  1, 15&#45;&gt; 1, 15, 8 -->\n",
       "<g id=\"edge505\" class=\"edge\">\n",
       "<title> 1, 15&#45;&gt; 1, 15, 8</title>\n",
       "<path fill=\"none\" stroke=\"red\" d=\"M65366,-68.42C65420,-55.58 65528,-30 65581,-17.38\"/>\n",
       "<polygon fill=\"red\" stroke=\"red\" points=\"65581.53,-19.05 65586,-16.2 65580.73,-15.65 65581.53,-19.05\"/>\n",
       "<text text-anchor=\"middle\" x=\"65502\" y=\"-38.6\" font-family=\"Times,serif\" font-size=\"8.00\"> 8</text>\n",
       "</g>\n",
       "<!--  1, 15, 9 -->\n",
       "<g id=\"node540\" class=\"node\">\n",
       "<title> 1, 15, 9</title>\n",
       "<polygon fill=\"none\" stroke=\"black\" points=\"65885,-18 65758,-9 65885,0 66012,-9 65885,-18\"/>\n",
       "<text text-anchor=\"middle\" x=\"65885\" y=\"-7.1\" font-family=\"Times,serif\" font-size=\"8.00\">1.3772847750000001, &#45;1.3772847750000001</text>\n",
       "</g>\n",
       "<!--  1, 15&#45;&gt; 1, 15, 9 -->\n",
       "<g id=\"edge506\" class=\"edge\">\n",
       "<title> 1, 15&#45;&gt; 1, 15, 9</title>\n",
       "<path fill=\"none\" stroke=\"red\" d=\"M65371,-71.6C65469,-59.84 65731,-28.49 65838,-15.62\"/>\n",
       "<polygon fill=\"red\" stroke=\"red\" points=\"65838.24,-17.36 65843,-15.03 65837.83,-13.88 65838.24,-17.36\"/>\n",
       "<text text-anchor=\"middle\" x=\"65662\" y=\"-38.6\" font-family=\"Times,serif\" font-size=\"8.00\"> 9</text>\n",
       "</g>\n",
       "<!--  1, 15, 10 -->\n",
       "<g id=\"node541\" class=\"node\">\n",
       "<title> 1, 15, 10</title>\n",
       "<polygon fill=\"none\" stroke=\"black\" points=\"66157,-18 66030,-9 66157,0 66284,-9 66157,-18\"/>\n",
       "<text text-anchor=\"middle\" x=\"66157\" y=\"-7.1\" font-family=\"Times,serif\" font-size=\"8.00\">0.7172847749999999, &#45;0.7172847749999999</text>\n",
       "</g>\n",
       "<!--  1, 15&#45;&gt; 1, 15, 10 -->\n",
       "<g id=\"edge507\" class=\"edge\">\n",
       "<title> 1, 15&#45;&gt; 1, 15, 10</title>\n",
       "<path fill=\"none\" stroke=\"red\" d=\"M65373,-72.97C65506,-62.26 65941,-27.35 66099,-14.66\"/>\n",
       "<polygon fill=\"red\" stroke=\"red\" points=\"66099.16,-16.4 66104,-14.26 66098.87,-12.92 66099.16,-16.4\"/>\n",
       "<text text-anchor=\"middle\" x=\"65825\" y=\"-38.6\" font-family=\"Times,serif\" font-size=\"8.00\"> 10</text>\n",
       "</g>\n",
       "<!--  1, 15, 11 -->\n",
       "<g id=\"node542\" class=\"node\">\n",
       "<title> 1, 15, 11</title>\n",
       "<polygon fill=\"none\" stroke=\"black\" points=\"66382,-18 66301.5,-9 66382,0 66462.5,-9 66382,-18\"/>\n",
       "<text text-anchor=\"middle\" x=\"66382\" y=\"-7.1\" font-family=\"Times,serif\" font-size=\"8.00\">0.362204775, &#45;0.362204775</text>\n",
       "</g>\n",
       "<!--  1, 15&#45;&gt; 1, 15, 11 -->\n",
       "<g id=\"edge508\" class=\"edge\">\n",
       "<title> 1, 15&#45;&gt; 1, 15, 11</title>\n",
       "<path fill=\"none\" stroke=\"red\" d=\"M65374,-74.12C65506,-67.42 65937,-44.78 66293,-18 66307,-16.89 66323,-15.5 66338,-14.19\"/>\n",
       "<polygon fill=\"red\" stroke=\"red\" points=\"66338.19,-15.93 66343,-13.71 66337.85,-12.44 66338.19,-15.93\"/>\n",
       "<text text-anchor=\"middle\" x=\"66035\" y=\"-38.6\" font-family=\"Times,serif\" font-size=\"8.00\"> 11</text>\n",
       "</g>\n",
       "<!--  1, 15, 12 -->\n",
       "<g id=\"node543\" class=\"node\">\n",
       "<title> 1, 15, 12</title>\n",
       "<polygon fill=\"none\" stroke=\"black\" points=\"66607,-18 66480,-9 66607,0 66734,-9 66607,-18\"/>\n",
       "<text text-anchor=\"middle\" x=\"66607\" y=\"-7.1\" font-family=\"Times,serif\" font-size=\"8.00\">2.9335647750000007, &#45;2.9335647750000007</text>\n",
       "</g>\n",
       "<!--  1, 15&#45;&gt; 1, 15, 12 -->\n",
       "<g id=\"edge509\" class=\"edge\">\n",
       "<title> 1, 15&#45;&gt; 1, 15, 12</title>\n",
       "<path fill=\"none\" stroke=\"red\" d=\"M65374,-74.63C65482,-70.51 65789,-58.5 66044,-45 66225,-35.37 66440,-21.27 66544,-14.27\"/>\n",
       "<polygon fill=\"red\" stroke=\"red\" points=\"66544.13,-16.02 66549,-13.92 66543.89,-12.53 66544.13,-16.02\"/>\n",
       "<text text-anchor=\"middle\" x=\"66204\" y=\"-38.6\" font-family=\"Times,serif\" font-size=\"8.00\"> 12</text>\n",
       "</g>\n",
       "<!--  1, 15, 13 -->\n",
       "<g id=\"node544\" class=\"node\">\n",
       "<title> 1, 15, 13</title>\n",
       "<polygon fill=\"none\" stroke=\"black\" points=\"66879,-18 66752,-9 66879,0 67006,-9 66879,-18\"/>\n",
       "<text text-anchor=\"middle\" x=\"66879\" y=\"-7.1\" font-family=\"Times,serif\" font-size=\"8.00\">1.9686447749999998, &#45;1.9686447749999998</text>\n",
       "</g>\n",
       "<!--  1, 15&#45;&gt; 1, 15, 13 -->\n",
       "<g id=\"edge510\" class=\"edge\">\n",
       "<title> 1, 15&#45;&gt; 1, 15, 13</title>\n",
       "<path fill=\"none\" stroke=\"red\" d=\"M65374,-74.92C65500,-71.13 65890,-58.95 66213,-45 66448,-34.82 66507,-30.93 66743,-18 66765,-16.75 66790,-15.3 66813,-13.98\"/>\n",
       "<polygon fill=\"red\" stroke=\"red\" points=\"66813.11,-15.73 66818,-13.69 66812.9,-12.24 66813.11,-15.73\"/>\n",
       "<text text-anchor=\"middle\" x=\"66411\" y=\"-38.6\" font-family=\"Times,serif\" font-size=\"8.00\"> 13</text>\n",
       "</g>\n",
       "<!--  1, 15, 14 -->\n",
       "<g id=\"node545\" class=\"node\">\n",
       "<title> 1, 15, 14</title>\n",
       "<polygon fill=\"none\" stroke=\"black\" points=\"67151,-18 67024,-9 67151,0 67278,-9 67151,-18\"/>\n",
       "<text text-anchor=\"middle\" x=\"67151\" y=\"-7.1\" font-family=\"Times,serif\" font-size=\"8.00\">1.3086447749999999, &#45;1.3086447749999999</text>\n",
       "</g>\n",
       "<!--  1, 15&#45;&gt; 1, 15, 14 -->\n",
       "<g id=\"edge511\" class=\"edge\">\n",
       "<title> 1, 15&#45;&gt; 1, 15, 14</title>\n",
       "<path fill=\"none\" stroke=\"red\" d=\"M65375,-75.21C65518,-71.91 66012,-60.09 66420,-45 66684,-35.21 66750,-31.77 67015,-18 67038,-16.8 67063,-15.36 67085,-14.04\"/>\n",
       "<polygon fill=\"red\" stroke=\"red\" points=\"67085.11,-15.78 67090,-13.74 67084.9,-12.29 67085.11,-15.78\"/>\n",
       "<text text-anchor=\"middle\" x=\"66653\" y=\"-38.6\" font-family=\"Times,serif\" font-size=\"8.00\"> 14</text>\n",
       "</g>\n",
       "<!--  1, 15, 15 -->\n",
       "<g id=\"node546\" class=\"node\">\n",
       "<title> 1, 15, 15</title>\n",
       "<polygon fill=\"none\" stroke=\"black\" points=\"67423,-18 67296,-9 67423,0 67550,-9 67423,-18\"/>\n",
       "<text text-anchor=\"middle\" x=\"67423\" y=\"-7.1\" font-family=\"Times,serif\" font-size=\"8.00\">0.9535647750000003, &#45;0.9535647750000003</text>\n",
       "</g>\n",
       "<!--  1, 15&#45;&gt; 1, 15, 15 -->\n",
       "<g id=\"edge512\" class=\"edge\">\n",
       "<title> 1, 15&#45;&gt; 1, 15, 15</title>\n",
       "<path fill=\"none\" stroke=\"red\" d=\"M65374,-75.48C65537,-72.78 66154,-61.92 66662,-45 66939,-35.74 67009,-32.16 67287,-18 67310,-16.82 67335,-15.38 67357,-14.05\"/>\n",
       "<polygon fill=\"red\" stroke=\"red\" points=\"67357.11,-15.79 67362,-13.75 67356.9,-12.3 67357.11,-15.79\"/>\n",
       "<text text-anchor=\"middle\" x=\"66917\" y=\"-38.6\" font-family=\"Times,serif\" font-size=\"8.00\"> 15</text>\n",
       "</g>\n",
       "<!--  0 -->\n",
       "<g id=\"node33\" class=\"node\">\n",
       "<title> 0</title>\n",
       "<polygon fill=\"none\" stroke=\"blue\" points=\"98480,-194.28 98422,-194.28 98422,-136.28 98480,-136.28 98480,-194.28\"/>\n",
       "<text text-anchor=\"middle\" x=\"98451\" y=\"-167.88\" font-family=\"Times,serif\" font-size=\"8.00\">Current player: 0</text>\n",
       "<text text-anchor=\"middle\" x=\"98451\" y=\"-158.88\" font-family=\"Times,serif\" font-size=\"8.00\">Goal:2 us: op:</text>\n",
       "</g>\n",
       "<!--  0&#45;&gt; 0, 0 -->\n",
       "<g id=\"edge513\" class=\"edge\">\n",
       "<title> 0&#45;&gt; 0, 0</title>\n",
       "<path fill=\"none\" stroke=\"blue\" d=\"M98422,-164.23C97724,-163 84588,-139.49 74023,-99.28 72263,-92.59 70098,-80.35 69758,-78.41\"/>\n",
       "<polygon fill=\"blue\" stroke=\"blue\" points=\"69758.01,-76.66 69753,-78.38 69757.99,-80.16 69758.01,-76.66\"/>\n",
       "<text text-anchor=\"middle\" x=\"79380\" y=\"-111.88\" font-family=\"Times,serif\" font-size=\"8.00\"> 0</text>\n",
       "</g>\n",
       "<!--  0&#45;&gt; 0, 1 -->\n",
       "<g id=\"edge514\" class=\"edge\">\n",
       "<title> 0&#45;&gt; 0, 1</title>\n",
       "<path fill=\"none\" stroke=\"blue\" d=\"M98421,-164.21C97786,-162.59 86997,-134.94 78314,-99.28 76584,-92.18 74457,-80.31 74119,-78.4\"/>\n",
       "<polygon fill=\"blue\" stroke=\"blue\" points=\"74119.01,-76.65 74114,-78.37 74118.99,-80.15 74119.01,-76.65\"/>\n",
       "<text text-anchor=\"middle\" x=\"83290\" y=\"-111.88\" font-family=\"Times,serif\" font-size=\"8.00\"> 1</text>\n",
       "</g>\n",
       "<!--  0&#45;&gt; 0, 2 -->\n",
       "<g id=\"edge515\" class=\"edge\">\n",
       "<title> 0&#45;&gt; 0, 2</title>\n",
       "<path fill=\"none\" stroke=\"blue\" d=\"M98421,-164.18C97859,-162.12 89344,-130.83 82487,-99.28 80807,-91.56 78742,-80.23 78410,-78.4\"/>\n",
       "<polygon fill=\"blue\" stroke=\"blue\" points=\"78409.01,-76.64 78404,-78.37 78408.99,-80.14 78409.01,-76.64\"/>\n",
       "<text text-anchor=\"middle\" x=\"86432\" y=\"-111.88\" font-family=\"Times,serif\" font-size=\"8.00\"> 2</text>\n",
       "</g>\n",
       "<!--  0&#45;&gt; 0, 3 -->\n",
       "<g id=\"edge516\" class=\"edge\">\n",
       "<title> 0&#45;&gt; 0, 3</title>\n",
       "<path fill=\"none\" stroke=\"blue\" d=\"M98421,-163.99C98059,-160.36 94395,-124.05 91434,-109.28 89351,-98.9 88830,-106.73 86748,-99.28 85031,-93.14 82920,-80.48 82583,-78.42\"/>\n",
       "<polygon fill=\"blue\" stroke=\"blue\" points=\"82583.01,-76.68 82578,-78.39 82582.99,-80.18 82583.01,-76.68\"/>\n",
       "<text text-anchor=\"middle\" x=\"92780\" y=\"-111.88\" font-family=\"Times,serif\" font-size=\"8.00\"> 3</text>\n",
       "</g>\n",
       "<!--  0&#45;&gt; 0, 4 -->\n",
       "<g id=\"edge517\" class=\"edge\">\n",
       "<title> 0&#45;&gt; 0, 4</title>\n",
       "<path fill=\"none\" stroke=\"blue\" d=\"M98422,-163.67C98177,-158.53 96431,-122.47 95014,-109.28 93311,-93.44 92886,-105.61 91184,-99.28 89392,-92.62 87188,-80.34 86844,-78.4\"/>\n",
       "<polygon fill=\"blue\" stroke=\"blue\" points=\"86843.01,-76.65 86838,-78.37 86842.99,-80.15 86843.01,-76.65\"/>\n",
       "<text text-anchor=\"middle\" x=\"95771\" y=\"-111.88\" font-family=\"Times,serif\" font-size=\"8.00\"> 4</text>\n",
       "</g>\n",
       "<!--  0&#45;&gt; 0, 5 -->\n",
       "<g id=\"edge518\" class=\"edge\">\n",
       "<title> 0&#45;&gt; 0, 5</title>\n",
       "<path fill=\"none\" stroke=\"blue\" d=\"M98421,-162.99C98261,-155.95 97467,-122.02 96819,-109.28 96525,-103.53 91799,-80.84 91280,-78.36\"/>\n",
       "<polygon fill=\"blue\" stroke=\"blue\" points=\"91280.01,-76.61 91275,-78.34 91279.99,-80.11 91280.01,-76.61\"/>\n",
       "<text text-anchor=\"middle\" x=\"97179\" y=\"-111.88\" font-family=\"Times,serif\" font-size=\"8.00\"> 5</text>\n",
       "</g>\n",
       "<!--  0&#45;&gt; 0, 6 -->\n",
       "<g id=\"edge519\" class=\"edge\">\n",
       "<title> 0&#45;&gt; 0, 6</title>\n",
       "<path fill=\"none\" stroke=\"blue\" d=\"M98421,-161.37C98324,-151.83 98002,-121.41 97736,-109.28 97293,-89.15 95849,-79.99 95571,-78.4\"/>\n",
       "<polygon fill=\"blue\" stroke=\"blue\" points=\"95571.01,-76.65 95566,-78.37 95570.99,-80.15 95571.01,-76.65\"/>\n",
       "<text text-anchor=\"middle\" x=\"97895\" y=\"-111.88\" font-family=\"Times,serif\" font-size=\"8.00\"> 6</text>\n",
       "</g>\n",
       "<!--  0&#45;&gt; 0, 7 -->\n",
       "<g id=\"edge520\" class=\"edge\">\n",
       "<title> 0&#45;&gt; 0, 7</title>\n",
       "<path fill=\"none\" stroke=\"blue\" d=\"M98451,-136.08C98451,-123.14 98451,-108.17 98451,-96.68\"/>\n",
       "<polygon fill=\"blue\" stroke=\"blue\" points=\"98452.75,-96.67 98451,-91.67 98449.25,-96.67 98452.75,-96.67\"/>\n",
       "<text text-anchor=\"middle\" x=\"98454\" y=\"-111.88\" font-family=\"Times,serif\" font-size=\"8.00\"> 7</text>\n",
       "</g>\n",
       "<!--  0&#45;&gt; 0, 8 -->\n",
       "<g id=\"edge521\" class=\"edge\">\n",
       "<title> 0&#45;&gt; 0, 8</title>\n",
       "<path fill=\"none\" stroke=\"blue\" d=\"M98480,-139.14C98497,-124.52 98518,-106.55 98532,-93.92\"/>\n",
       "<polygon fill=\"blue\" stroke=\"blue\" points=\"98533.33,-95.08 98536,-90.5 98531.06,-92.42 98533.33,-95.08\"/>\n",
       "<text text-anchor=\"middle\" x=\"98515\" y=\"-111.88\" font-family=\"Times,serif\" font-size=\"8.00\"> 8</text>\n",
       "</g>\n",
       "<!--  0&#45;&gt; 0, 9 -->\n",
       "<g id=\"edge522\" class=\"edge\">\n",
       "<title> 0&#45;&gt; 0, 9</title>\n",
       "<path fill=\"none\" stroke=\"blue\" d=\"M98480,-151.76C98518,-135.46 98583,-107.13 98621,-90.78\"/>\n",
       "<polygon fill=\"blue\" stroke=\"blue\" points=\"98622.08,-92.22 98626,-88.65 98620.71,-89 98622.08,-92.22\"/>\n",
       "<text text-anchor=\"middle\" x=\"98577\" y=\"-111.88\" font-family=\"Times,serif\" font-size=\"8.00\"> 9</text>\n",
       "</g>\n",
       "<!--  0&#45;&gt; 0, 10 -->\n",
       "<g id=\"edge523\" class=\"edge\">\n",
       "<title> 0&#45;&gt; 0, 10</title>\n",
       "<path fill=\"none\" stroke=\"blue\" d=\"M98480,-158.13C98527,-147.9 98622,-125.88 98701,-99.28 98708,-96.85 98715,-93.86 98722,-90.9\"/>\n",
       "<polygon fill=\"blue\" stroke=\"blue\" points=\"98723.03,-92.37 98727,-88.86 98721.71,-89.13 98723.03,-92.37\"/>\n",
       "<text text-anchor=\"middle\" x=\"98672\" y=\"-111.88\" font-family=\"Times,serif\" font-size=\"8.00\"> 10</text>\n",
       "</g>\n",
       "<!--  0&#45;&gt; 0, 11 -->\n",
       "<g id=\"edge524\" class=\"edge\">\n",
       "<title> 0&#45;&gt; 0, 11</title>\n",
       "<path fill=\"none\" stroke=\"blue\" d=\"M98480,-161.04C98540,-153.82 98684,-134.22 98801,-99.28 98808,-97.08 98816,-94.15 98823,-91.17\"/>\n",
       "<polygon fill=\"blue\" stroke=\"blue\" points=\"98824.04,-92.63 98828,-89.11 98822.71,-89.39 98824.04,-92.63\"/>\n",
       "<text text-anchor=\"middle\" x=\"98768\" y=\"-111.88\" font-family=\"Times,serif\" font-size=\"8.00\"> 11</text>\n",
       "</g>\n",
       "<!--  0&#45;&gt; 0, 12 -->\n",
       "<g id=\"edge525\" class=\"edge\">\n",
       "<title> 0&#45;&gt; 0, 12</title>\n",
       "<path fill=\"none\" stroke=\"blue\" d=\"M98480,-162.74C98552,-158.35 98746,-143.12 98901,-99.28 98908,-97.16 98916,-94.19 98923,-91.15\"/>\n",
       "<polygon fill=\"blue\" stroke=\"blue\" points=\"98924.07,-92.6 98928,-89.05 98922.71,-89.37 98924.07,-92.6\"/>\n",
       "<text text-anchor=\"middle\" x=\"98858\" y=\"-111.88\" font-family=\"Times,serif\" font-size=\"8.00\"> 12</text>\n",
       "</g>\n",
       "<!--  0&#45;&gt; 0, 13 -->\n",
       "<g id=\"edge526\" class=\"edge\">\n",
       "<title> 0&#45;&gt; 0, 13</title>\n",
       "<path fill=\"none\" stroke=\"blue\" d=\"M98480,-161.38C98547,-154.54 98722,-136.59 98867,-118.28 98926,-110.76 98943,-115.35 99001,-99.28 99008,-97.2 99016,-94.25 99023,-91.21\"/>\n",
       "<polygon fill=\"blue\" stroke=\"blue\" points=\"99024.07,-92.66 99028,-89.1 99022.71,-89.43 99024.07,-92.66\"/>\n",
       "<text text-anchor=\"middle\" x=\"98960\" y=\"-111.88\" font-family=\"Times,serif\" font-size=\"8.00\"> 13</text>\n",
       "</g>\n",
       "<!--  0&#45;&gt; 0, 14 -->\n",
       "<g id=\"edge527\" class=\"edge\">\n",
       "<title> 0&#45;&gt; 0, 14</title>\n",
       "<path fill=\"none\" stroke=\"blue\" d=\"M98480,-162.25C98559,-156.62 98783,-139.87 98969,-118.28 99027,-111.44 99043,-115.18 99101,-99.28 99108,-97.19 99116,-94.23 99123,-91.2\"/>\n",
       "<polygon fill=\"blue\" stroke=\"blue\" points=\"99124.07,-92.65 99128,-89.09 99122.71,-89.42 99124.07,-92.65\"/>\n",
       "<text text-anchor=\"middle\" x=\"99061\" y=\"-111.88\" font-family=\"Times,serif\" font-size=\"8.00\"> 14</text>\n",
       "</g>\n",
       "<!--  0&#45;&gt; 0, 15 -->\n",
       "<g id=\"edge528\" class=\"edge\">\n",
       "<title> 0&#45;&gt; 0, 15</title>\n",
       "<path fill=\"none\" stroke=\"blue\" d=\"M98480,-162.85C98568,-158.31 98843,-143.1 99070,-118.28 99128,-111.88 99144,-115.09 99201,-99.28 99208,-97.19 99216,-94.23 99223,-91.19\"/>\n",
       "<polygon fill=\"blue\" stroke=\"blue\" points=\"99224.07,-92.64 99228,-89.09 99222.71,-89.41 99224.07,-92.64\"/>\n",
       "<text text-anchor=\"middle\" x=\"99161\" y=\"-111.88\" font-family=\"Times,serif\" font-size=\"8.00\"> 15</text>\n",
       "</g>\n",
       "<!--  1 -->\n",
       "<g id=\"node34\" class=\"node\">\n",
       "<title> 1</title>\n",
       "<polygon fill=\"none\" stroke=\"blue\" points=\"36823,-194.28 36765,-194.28 36765,-136.28 36823,-136.28 36823,-194.28\"/>\n",
       "<text text-anchor=\"middle\" x=\"36794\" y=\"-167.88\" font-family=\"Times,serif\" font-size=\"8.00\">Current player: 0</text>\n",
       "<text text-anchor=\"middle\" x=\"36794\" y=\"-158.88\" font-family=\"Times,serif\" font-size=\"8.00\">Goal:1 us: op:</text>\n",
       "</g>\n",
       "<!--  1&#45;&gt; 1, 0 -->\n",
       "<g id=\"edge529\" class=\"edge\">\n",
       "<title> 1&#45;&gt; 1, 0</title>\n",
       "<path fill=\"none\" stroke=\"blue\" d=\"M36764,-162.7C36676,-157.8 36406,-141.79 36184,-118.28 36121,-111.7 36104,-115.88 36044,-99.28 36036,-97.22 36028,-94.28 36021,-91.24\"/>\n",
       "<polygon fill=\"blue\" stroke=\"blue\" points=\"36021.29,-89.46 36016,-89.13 36019.93,-92.69 36021.29,-89.46\"/>\n",
       "<text text-anchor=\"middle\" x=\"36187\" y=\"-111.88\" font-family=\"Times,serif\" font-size=\"8.00\"> 0</text>\n",
       "</g>\n",
       "<!--  1&#45;&gt; 1, 1 -->\n",
       "<g id=\"edge530\" class=\"edge\">\n",
       "<title> 1&#45;&gt; 1, 1</title>\n",
       "<path fill=\"none\" stroke=\"blue\" d=\"M36764,-161.57C36690,-154.62 36488,-135.54 36320,-118.28 36241,-110.26 36220,-119.04 36144,-99.28 36136,-97.32 36128,-94.42 36121,-91.38\"/>\n",
       "<polygon fill=\"blue\" stroke=\"blue\" points=\"36121.29,-89.6 36116,-89.27 36119.92,-92.83 36121.29,-89.6\"/>\n",
       "<text text-anchor=\"middle\" x=\"36323\" y=\"-111.88\" font-family=\"Times,serif\" font-size=\"8.00\"> 1</text>\n",
       "</g>\n",
       "<!--  1&#45;&gt; 1, 2 -->\n",
       "<g id=\"edge531\" class=\"edge\">\n",
       "<title> 1&#45;&gt; 1, 2</title>\n",
       "<path fill=\"none\" stroke=\"blue\" d=\"M36764,-160.95C36652,-148.14 36256,-102.66 36244,-99.28 36236,-97.28 36228,-94.36 36221,-91.33\"/>\n",
       "<polygon fill=\"blue\" stroke=\"blue\" points=\"36221.29,-89.55 36216,-89.22 36219.92,-92.78 36221.29,-89.55\"/>\n",
       "<text text-anchor=\"middle\" x=\"36387\" y=\"-111.88\" font-family=\"Times,serif\" font-size=\"8.00\"> 2</text>\n",
       "</g>\n",
       "<!--  1&#45;&gt; 1, 3 -->\n",
       "<g id=\"edge532\" class=\"edge\">\n",
       "<title> 1&#45;&gt; 1, 3</title>\n",
       "<path fill=\"none\" stroke=\"blue\" d=\"M36764,-157.91C36710,-146.35 36590,-121.99 36488,-109.28 36424,-101.38 36406,-114.2 36344,-99.28 36336,-97.43 36328,-94.5 36320,-91.4\"/>\n",
       "<polygon fill=\"blue\" stroke=\"blue\" points=\"36320.28,-89.62 36315,-89.24 36318.89,-92.83 36320.28,-89.62\"/>\n",
       "<text text-anchor=\"middle\" x=\"36550\" y=\"-111.88\" font-family=\"Times,serif\" font-size=\"8.00\"> 3</text>\n",
       "</g>\n",
       "<!--  1&#45;&gt; 1, 4 -->\n",
       "<g id=\"edge533\" class=\"edge\">\n",
       "<title> 1&#45;&gt; 1, 4</title>\n",
       "<path fill=\"none\" stroke=\"blue\" d=\"M36764,-154.56C36725,-141.85 36652,-119.96 36588,-109.28 36524,-98.74 36506,-114.2 36444,-99.28 36436,-97.43 36428,-94.5 36420,-91.4\"/>\n",
       "<polygon fill=\"blue\" stroke=\"blue\" points=\"36420.28,-89.62 36415,-89.24 36418.89,-92.83 36420.28,-89.62\"/>\n",
       "<text text-anchor=\"middle\" x=\"36632\" y=\"-111.88\" font-family=\"Times,serif\" font-size=\"8.00\"> 4</text>\n",
       "</g>\n",
       "<!--  1&#45;&gt; 1, 5 -->\n",
       "<g id=\"edge534\" class=\"edge\">\n",
       "<title> 1&#45;&gt; 1, 5</title>\n",
       "<path fill=\"none\" stroke=\"blue\" d=\"M36764,-150.1C36736,-137.18 36693,-118.73 36653,-109.28 36605,-98.11 36591,-111.12 36544,-99.28 36536,-97.35 36528,-94.39 36520,-91.29\"/>\n",
       "<polygon fill=\"blue\" stroke=\"blue\" points=\"36520.28,-89.5 36515,-89.13 36518.9,-92.72 36520.28,-89.5\"/>\n",
       "<text text-anchor=\"middle\" x=\"36684\" y=\"-111.88\" font-family=\"Times,serif\" font-size=\"8.00\"> 5</text>\n",
       "</g>\n",
       "<!--  1&#45;&gt; 1, 6 -->\n",
       "<g id=\"edge535\" class=\"edge\">\n",
       "<title> 1&#45;&gt; 1, 6</title>\n",
       "<path fill=\"none\" stroke=\"blue\" d=\"M36764,-143.61C36747,-131.83 36723,-117.78 36700,-109.28 36676,-100.54 36668,-106.47 36644,-99.28 36636,-97.11 36629,-94.18 36621,-91.2\"/>\n",
       "<polygon fill=\"blue\" stroke=\"blue\" points=\"36622.25,-89.88 36617,-89.14 36620.64,-92.99 36622.25,-89.88\"/>\n",
       "<text text-anchor=\"middle\" x=\"36723\" y=\"-111.88\" font-family=\"Times,serif\" font-size=\"8.00\"> 6</text>\n",
       "</g>\n",
       "<!--  1&#45;&gt; 1, 7 -->\n",
       "<g id=\"edge536\" class=\"edge\">\n",
       "<title> 1&#45;&gt; 1, 7</title>\n",
       "<path fill=\"none\" stroke=\"blue\" d=\"M36767,-136.14C36759,-127.2 36748,-117.5 36739,-109.28 36732,-103.54 36724,-97.79 36717,-92.83\"/>\n",
       "<polygon fill=\"blue\" stroke=\"blue\" points=\"36717.19,-90.91 36712,-89.85 36715.4,-93.92 36717.19,-90.91\"/>\n",
       "<text text-anchor=\"middle\" x=\"36752\" y=\"-111.88\" font-family=\"Times,serif\" font-size=\"8.00\"> 7</text>\n",
       "</g>\n",
       "<!--  1&#45;&gt; 1, 8 -->\n",
       "<g id=\"edge537\" class=\"edge\">\n",
       "<title> 1&#45;&gt; 1, 8</title>\n",
       "<path fill=\"none\" stroke=\"blue\" d=\"M36794,-136.08C36794,-123.14 36794,-108.17 36794,-96.68\"/>\n",
       "<polygon fill=\"blue\" stroke=\"blue\" points=\"36795.75,-96.67 36794,-91.67 36792.25,-96.67 36795.75,-96.67\"/>\n",
       "<text text-anchor=\"middle\" x=\"36797\" y=\"-111.88\" font-family=\"Times,serif\" font-size=\"8.00\"> 8</text>\n",
       "</g>\n",
       "<!--  1&#45;&gt; 1, 9 -->\n",
       "<g id=\"edge538\" class=\"edge\">\n",
       "<title> 1&#45;&gt; 1, 9</title>\n",
       "<path fill=\"none\" stroke=\"blue\" d=\"M36823,-163.42C37105,-155.12 39327,-89.73 39675,-79.49\"/>\n",
       "<polygon fill=\"blue\" stroke=\"blue\" points=\"39675.06,-81.24 39680,-79.34 39674.95,-77.74 39675.06,-81.24\"/>\n",
       "<text text-anchor=\"middle\" x=\"38609\" y=\"-111.88\" font-family=\"Times,serif\" font-size=\"8.00\"> 9</text>\n",
       "</g>\n",
       "<!--  1&#45;&gt; 1, 10 -->\n",
       "<g id=\"edge539\" class=\"edge\">\n",
       "<title> 1&#45;&gt; 1, 10</title>\n",
       "<path fill=\"none\" stroke=\"blue\" d=\"M36823,-163.94C37298,-158.34 43452,-85.71 44047,-78.69\"/>\n",
       "<polygon fill=\"blue\" stroke=\"blue\" points=\"44047.02,-80.44 44052,-78.63 44046.98,-76.94 44047.02,-80.44\"/>\n",
       "<text text-anchor=\"middle\" x=\"41318\" y=\"-111.88\" font-family=\"Times,serif\" font-size=\"8.00\"> 10</text>\n",
       "</g>\n",
       "<!--  1&#45;&gt; 1, 11 -->\n",
       "<g id=\"edge540\" class=\"edge\">\n",
       "<title> 1&#45;&gt; 1, 11</title>\n",
       "<path fill=\"none\" stroke=\"blue\" d=\"M36823,-164.07C37435,-159.49 47504,-84.22 48271,-78.49\"/>\n",
       "<polygon fill=\"blue\" stroke=\"blue\" points=\"48272.01,-80.23 48277,-78.45 48271.99,-76.73 48272.01,-80.23\"/>\n",
       "<text text-anchor=\"middle\" x=\"43933\" y=\"-111.88\" font-family=\"Times,serif\" font-size=\"8.00\"> 11</text>\n",
       "</g>\n",
       "<!--  1&#45;&gt; 1, 12 -->\n",
       "<g id=\"edge541\" class=\"edge\">\n",
       "<title> 1&#45;&gt; 1, 12</title>\n",
       "<path fill=\"none\" stroke=\"blue\" d=\"M36823,-164.13C37548,-160.16 51587,-83.37 52496,-78.39\"/>\n",
       "<polygon fill=\"blue\" stroke=\"blue\" points=\"52497.01,-80.14 52502,-78.37 52496.99,-76.64 52497.01,-80.14\"/>\n",
       "<text text-anchor=\"middle\" x=\"46548\" y=\"-111.88\" font-family=\"Times,serif\" font-size=\"8.00\"> 12</text>\n",
       "</g>\n",
       "<!--  1&#45;&gt; 1, 13 -->\n",
       "<g id=\"edge542\" class=\"edge\">\n",
       "<title> 1&#45;&gt; 1, 13</title>\n",
       "<path fill=\"none\" stroke=\"blue\" d=\"M36823,-164.17C37379,-162.08 45806,-130.21 52593,-99.28 54318,-91.42 56439,-80.19 56776,-78.39\"/>\n",
       "<polygon fill=\"blue\" stroke=\"blue\" points=\"56777.01,-80.13 56782,-78.36 56776.99,-76.63 56777.01,-80.13\"/>\n",
       "<text text-anchor=\"middle\" x=\"50013\" y=\"-111.88\" font-family=\"Times,serif\" font-size=\"8.00\"> 13</text>\n",
       "</g>\n",
       "<!--  1&#45;&gt; 1, 14 -->\n",
       "<g id=\"edge543\" class=\"edge\">\n",
       "<title> 1&#45;&gt; 1, 14</title>\n",
       "<path fill=\"none\" stroke=\"blue\" d=\"M36823,-164.21C37456,-162.57 48214,-134.5 56873,-99.28 58635,-92.12 60801,-80.28 61142,-78.4\"/>\n",
       "<polygon fill=\"blue\" stroke=\"blue\" points=\"61143.01,-80.14 61148,-78.37 61142.99,-76.64 61143.01,-80.14\"/>\n",
       "<text text-anchor=\"middle\" x=\"54148\" y=\"-111.88\" font-family=\"Times,serif\" font-size=\"8.00\"> 14</text>\n",
       "</g>\n",
       "<!--  1&#45;&gt; 1, 15 -->\n",
       "<g id=\"edge544\" class=\"edge\">\n",
       "<title> 1&#45;&gt; 1, 15</title>\n",
       "<path fill=\"none\" stroke=\"blue\" d=\"M36823,-164.24C37521,-163.07 50666,-140.76 61239,-99.28 62907,-92.74 64957,-80.43 65288,-78.42\"/>\n",
       "<polygon fill=\"blue\" stroke=\"blue\" points=\"65288.01,-80.17 65293,-78.39 65287.99,-76.67 65288.01,-80.17\"/>\n",
       "<text text-anchor=\"middle\" x=\"57920\" y=\"-111.88\" font-family=\"Times,serif\" font-size=\"8.00\"> 15</text>\n",
       "</g>\n",
       "<!--   -->\n",
       "<g id=\"node547\" class=\"node\">\n",
       "<title> </title>\n",
       "<ellipse fill=\"black\" stroke=\"black\" cx=\"67624\" cy=\"-243.78\" rx=\"4.5\" ry=\"4.5\"/>\n",
       "</g>\n",
       "<!--  &#45;&gt; 0 -->\n",
       "<g id=\"edge545\" class=\"edge\">\n",
       "<title> &#45;&gt; 0</title>\n",
       "<path fill=\"none\" stroke=\"black\" d=\"M67628,-242.77C68050,-241.73 97277,-169.2 98416,-166.37\"/>\n",
       "<polygon fill=\"black\" stroke=\"black\" points=\"98417,-168.12 98422,-166.36 98417,-164.62 98417,-168.12\"/>\n",
       "<text text-anchor=\"middle\" x=\"79382\" y=\"-214.88\" font-family=\"Times,serif\" font-size=\"8.00\"> Goal:2</text>\n",
       "</g>\n",
       "<!--  &#45;&gt; 1 -->\n",
       "<g id=\"edge546\" class=\"edge\">\n",
       "<title> &#45;&gt; 1</title>\n",
       "<path fill=\"none\" stroke=\"black\" d=\"M67619,-242.77C67197,-241.73 37968,-169.2 36828,-166.37\"/>\n",
       "<polygon fill=\"black\" stroke=\"black\" points=\"36828,-164.62 36823,-166.36 36828,-168.12 36828,-164.62\"/>\n",
       "<text text-anchor=\"middle\" x=\"58527\" y=\"-214.88\" font-family=\"Times,serif\" font-size=\"8.00\"> Goal:1</text>\n",
       "</g>\n",
       "</g>\n",
       "</svg>\n"
      ],
      "text/plain": [
       "<AGraph <Swig Object of type 'Agraph_t *' at 0x31b30b690>>"
      ]
     },
     "execution_count": 13,
     "metadata": {},
     "output_type": "execute_result"
    }
   ],
   "source": [
    "treeviz.GameTree(game, group_infosets=True)"
   ]
  },
  {
   "cell_type": "code",
   "execution_count": 14,
   "id": "7cae84c7-459d-4edd-98e4-6bee8da16c3b",
   "metadata": {},
   "outputs": [],
   "source": [
    "cfr_solver= cfr.CFRPlusSolver(game)"
   ]
  },
  {
   "cell_type": "code",
   "execution_count": 15,
   "id": "52b5dd52-6535-4cd5-848b-25e2a49d5ade",
   "metadata": {},
   "outputs": [
    {
     "name": "stderr",
     "output_type": "stream",
     "text": [
      "12it [00:00, 12.18it/s]"
     ]
    },
    {
     "name": "stdout",
     "output_type": "stream",
     "text": [
      "Exploitability: 0.18672762574866997\n"
     ]
    },
    {
     "name": "stderr",
     "output_type": "stream",
     "text": [
      "22it [00:01, 12.04it/s]"
     ]
    },
    {
     "name": "stdout",
     "output_type": "stream",
     "text": [
      "Exploitability: 0.08573564225845831\n"
     ]
    },
    {
     "name": "stderr",
     "output_type": "stream",
     "text": [
      "32it [00:02, 12.34it/s]"
     ]
    },
    {
     "name": "stdout",
     "output_type": "stream",
     "text": [
      "Exploitability: 0.05308287245742749\n"
     ]
    },
    {
     "name": "stderr",
     "output_type": "stream",
     "text": [
      "42it [00:02, 12.33it/s]"
     ]
    },
    {
     "name": "stdout",
     "output_type": "stream",
     "text": [
      "Exploitability: 0.03990108332295095\n"
     ]
    },
    {
     "name": "stderr",
     "output_type": "stream",
     "text": [
      "52it [00:03, 11.47it/s]"
     ]
    },
    {
     "name": "stdout",
     "output_type": "stream",
     "text": [
      "Exploitability: 0.032331532865320645\n"
     ]
    },
    {
     "name": "stderr",
     "output_type": "stream",
     "text": [
      "62it [00:04, 12.33it/s]"
     ]
    },
    {
     "name": "stdout",
     "output_type": "stream",
     "text": [
      "Exploitability: 0.026816718378217308\n"
     ]
    },
    {
     "name": "stderr",
     "output_type": "stream",
     "text": [
      "72it [00:05, 12.34it/s]"
     ]
    },
    {
     "name": "stdout",
     "output_type": "stream",
     "text": [
      "Exploitability: 0.02202743152336195\n"
     ]
    },
    {
     "name": "stderr",
     "output_type": "stream",
     "text": [
      "82it [00:05, 12.32it/s]"
     ]
    },
    {
     "name": "stdout",
     "output_type": "stream",
     "text": [
      "Exploitability: 0.017344614934198588\n"
     ]
    },
    {
     "name": "stderr",
     "output_type": "stream",
     "text": [
      "92it [00:06, 12.68it/s]"
     ]
    },
    {
     "name": "stdout",
     "output_type": "stream",
     "text": [
      "Exploitability: 0.01372321181606917\n"
     ]
    },
    {
     "name": "stderr",
     "output_type": "stream",
     "text": [
      "102it [00:07, 12.67it/s]"
     ]
    },
    {
     "name": "stdout",
     "output_type": "stream",
     "text": [
      "Exploitability: 0.011128030175604708\n"
     ]
    },
    {
     "name": "stderr",
     "output_type": "stream",
     "text": [
      "112it [00:07, 12.73it/s]"
     ]
    },
    {
     "name": "stdout",
     "output_type": "stream",
     "text": [
      "Exploitability: 0.009205004485962842\n"
     ]
    },
    {
     "name": "stderr",
     "output_type": "stream",
     "text": [
      "122it [00:08, 12.60it/s]"
     ]
    },
    {
     "name": "stdout",
     "output_type": "stream",
     "text": [
      "Exploitability: 0.007740571954105269\n"
     ]
    },
    {
     "name": "stderr",
     "output_type": "stream",
     "text": [
      "132it [00:09, 12.56it/s]"
     ]
    },
    {
     "name": "stdout",
     "output_type": "stream",
     "text": [
      "Exploitability: 0.006599712552766146\n"
     ]
    },
    {
     "name": "stderr",
     "output_type": "stream",
     "text": [
      "142it [00:09, 12.65it/s]"
     ]
    },
    {
     "name": "stdout",
     "output_type": "stream",
     "text": [
      "Exploitability: 0.005693672987518217\n"
     ]
    },
    {
     "name": "stderr",
     "output_type": "stream",
     "text": [
      "152it [00:10, 12.61it/s]"
     ]
    },
    {
     "name": "stdout",
     "output_type": "stream",
     "text": [
      "Exploitability: 0.004962167981174659\n"
     ]
    },
    {
     "name": "stderr",
     "output_type": "stream",
     "text": [
      "162it [00:11, 12.71it/s]"
     ]
    },
    {
     "name": "stdout",
     "output_type": "stream",
     "text": [
      "Exploitability: 0.004363086365435143\n"
     ]
    },
    {
     "name": "stderr",
     "output_type": "stream",
     "text": [
      "172it [00:12, 12.00it/s]"
     ]
    },
    {
     "name": "stdout",
     "output_type": "stream",
     "text": [
      "Exploitability: 0.0038662918738772145\n"
     ]
    },
    {
     "name": "stderr",
     "output_type": "stream",
     "text": [
      "182it [00:12, 12.31it/s]"
     ]
    },
    {
     "name": "stdout",
     "output_type": "stream",
     "text": [
      "Exploitability: 0.0034497576664704876\n"
     ]
    },
    {
     "name": "stderr",
     "output_type": "stream",
     "text": [
      "192it [00:13, 12.60it/s]"
     ]
    },
    {
     "name": "stdout",
     "output_type": "stream",
     "text": [
      "Exploitability: 0.003097081972267879\n"
     ]
    },
    {
     "name": "stderr",
     "output_type": "stream",
     "text": [
      "202it [00:14, 12.67it/s]"
     ]
    },
    {
     "name": "stdout",
     "output_type": "stream",
     "text": [
      "Exploitability: 0.0027958483774528364\n"
     ]
    },
    {
     "name": "stderr",
     "output_type": "stream",
     "text": [
      "212it [00:14, 12.01it/s]"
     ]
    },
    {
     "name": "stdout",
     "output_type": "stream",
     "text": [
      "Exploitability: 0.0025365178238232478\n"
     ]
    },
    {
     "name": "stderr",
     "output_type": "stream",
     "text": [
      "222it [00:15, 12.39it/s]"
     ]
    },
    {
     "name": "stdout",
     "output_type": "stream",
     "text": [
      "Exploitability: 0.002311664022492832\n"
     ]
    },
    {
     "name": "stderr",
     "output_type": "stream",
     "text": [
      "232it [00:16, 12.67it/s]"
     ]
    },
    {
     "name": "stdout",
     "output_type": "stream",
     "text": [
      "Exploitability: 0.002115435813544231\n"
     ]
    },
    {
     "name": "stderr",
     "output_type": "stream",
     "text": [
      "242it [00:17, 12.01it/s]"
     ]
    },
    {
     "name": "stdout",
     "output_type": "stream",
     "text": [
      "Exploitability: 0.001943172627482892\n"
     ]
    },
    {
     "name": "stderr",
     "output_type": "stream",
     "text": [
      "252it [00:17, 12.64it/s]"
     ]
    },
    {
     "name": "stdout",
     "output_type": "stream",
     "text": [
      "Exploitability: 0.0017911251756749236\n"
     ]
    },
    {
     "name": "stderr",
     "output_type": "stream",
     "text": [
      "262it [00:18, 12.89it/s]"
     ]
    },
    {
     "name": "stdout",
     "output_type": "stream",
     "text": [
      "Exploitability: 0.0016562497019392275\n"
     ]
    },
    {
     "name": "stderr",
     "output_type": "stream",
     "text": [
      "272it [00:19, 12.82it/s]"
     ]
    },
    {
     "name": "stdout",
     "output_type": "stream",
     "text": [
      "Exploitability: 0.0015360544591170866\n"
     ]
    },
    {
     "name": "stderr",
     "output_type": "stream",
     "text": [
      "282it [00:19, 12.65it/s]"
     ]
    },
    {
     "name": "stdout",
     "output_type": "stream",
     "text": [
      "Exploitability: 0.0014284837922421412\n"
     ]
    },
    {
     "name": "stderr",
     "output_type": "stream",
     "text": [
      "292it [00:20, 11.68it/s]"
     ]
    },
    {
     "name": "stdout",
     "output_type": "stream",
     "text": [
      "Exploitability: 0.0013318296572295552\n"
     ]
    },
    {
     "name": "stderr",
     "output_type": "stream",
     "text": [
      "302it [00:21, 12.58it/s]"
     ]
    },
    {
     "name": "stdout",
     "output_type": "stream",
     "text": [
      "Exploitability: 0.0012446633972713617\n"
     ]
    },
    {
     "name": "stderr",
     "output_type": "stream",
     "text": [
      "312it [00:21, 12.57it/s]"
     ]
    },
    {
     "name": "stdout",
     "output_type": "stream",
     "text": [
      "Exploitability: 0.0011657826446800357\n"
     ]
    },
    {
     "name": "stderr",
     "output_type": "stream",
     "text": [
      "322it [00:22, 12.88it/s]"
     ]
    },
    {
     "name": "stdout",
     "output_type": "stream",
     "text": [
      "Exploitability: 0.00109416963369946\n"
     ]
    },
    {
     "name": "stderr",
     "output_type": "stream",
     "text": [
      "332it [00:23, 12.09it/s]"
     ]
    },
    {
     "name": "stdout",
     "output_type": "stream",
     "text": [
      "Exploitability: 0.0010289582053795154\n"
     ]
    },
    {
     "name": "stderr",
     "output_type": "stream",
     "text": [
      "340it [00:23, 14.23it/s]"
     ]
    },
    {
     "name": "stdout",
     "output_type": "stream",
     "text": [
      "Exploitability: 0.0009694074933035424\n",
      "Total Time: 23.898752212524414\n"
     ]
    },
    {
     "name": "stderr",
     "output_type": "stream",
     "text": [
      "\n"
     ]
    }
   ],
   "source": [
    "from tqdm import tqdm\n",
    "import time\n",
    "convs = []\n",
    "exps = 1e6\n",
    "i = 0\n",
    "time_in = time.time()\n",
    "with tqdm() as pbar:\n",
    "    while exps > 1e-3:\n",
    "        cfr_solver.evaluate_and_update_policy()\n",
    "        av_policy = cfr_solver.average_policy()\n",
    "        i += 1\n",
    "        pbar.update(1)\n",
    "        if i % 10 == 0:\n",
    "            # exps = exploitability.exploitability(game, av_policy)\n",
    "            exps = exploitability.nash_conv(game, av_policy, return_only_nash_conv=False).player_improvements[0]\n",
    "            print(f'Exploitability: {exps}')\n",
    "time_out = time.time()\n",
    "print('Total Time:', time_out - time_in)"
   ]
  },
  {
   "cell_type": "code",
   "execution_count": 16,
   "id": "1df02ee9-d6a2-414d-a591-0834d60f2660",
   "metadata": {},
   "outputs": [
    {
     "data": {
      "text/plain": [
       "dict_keys(['Current player: 0\\nGoal:2 us: op:', 'Current player: 0\\nGoal:1 us: op:', 'Current player: 1\\nus: op:'])"
      ]
     },
     "execution_count": 16,
     "metadata": {},
     "output_type": "execute_result"
    }
   ],
   "source": [
    "av_policy_dict = av_policy.to_dict()\n",
    "av_policy_dict.keys()"
   ]
  },
  {
   "cell_type": "code",
   "execution_count": 17,
   "id": "1cf12adc-a43c-43db-bbac-9c3ab10e2951",
   "metadata": {},
   "outputs": [],
   "source": [
    "import numpy as np\n",
    "pi_1 = av_policy_dict['Current player: 0\\nGoal:1 us: op:']\n",
    "pi_2 = av_policy_dict['Current player: 0\\nGoal:2 us: op:']\n",
    "\n",
    "p2_pi = av_policy_dict['Current player: 1\\nus: op:']\n",
    "\n",
    "pi_1 = np.array(pi_1)[:, 1]\n",
    "pi_2 = np.array(pi_2)[:, 1]\n",
    "\n",
    "p2_pi = np.array(p2_pi)[:, 1]"
   ]
  },
  {
   "cell_type": "code",
   "execution_count": 18,
   "id": "79a52827-89c7-4023-bd15-f3b6d730ec0a",
   "metadata": {},
   "outputs": [
    {
     "data": {
      "text/plain": [
       "array([1.07814387e-06, 1.07814387e-06, 6.28425951e-06, 3.78503720e-06,\n",
       "       1.07814387e-06, 1.07814387e-06, 7.09662463e-05, 1.92912546e-05,\n",
       "       1.07814387e-06, 1.07814387e-06, 1.08845848e-02, 1.71995764e-04,\n",
       "       1.07814387e-06, 1.07814387e-06, 9.88454261e-01, 3.80206105e-04])"
      ]
     },
     "execution_count": 18,
     "metadata": {},
     "output_type": "execute_result"
    }
   ],
   "source": [
    "pi_1"
   ]
  },
  {
   "cell_type": "code",
   "execution_count": 19,
   "id": "937533a1-bf50-42bc-bbb4-0a9af03d03d1",
   "metadata": {},
   "outputs": [],
   "source": [
    "from itertools import product\n",
    "import numpy as np\n",
    "n = 4\n",
    "\n",
    "ux_max = 0.99\n",
    "uy_max = 3.947\n",
    "dx_max = 0.99\n",
    "dy_max = 0.99\n",
    "\n",
    "_uxs = np.linspace(-ux_max, ux_max, n)\n",
    "_uys = np.linspace(-uy_max, uy_max, n)\n",
    "_dxs = np.linspace(-dx_max, dx_max, n)\n",
    "_dys = np.linspace(-dy_max, dy_max, n)\n",
    "_us = list(product(_uxs, _uys))\n",
    "_ds = list(product(_dxs, _dys))"
   ]
  },
  {
   "cell_type": "code",
   "execution_count": 34,
   "id": "91dc8997-c37b-4751-94a3-988060394682",
   "metadata": {},
   "outputs": [],
   "source": [
    "# u1_exp = np.sum(np.array(_us) * pi_1.reshape(-1, 1), axis=0)\n",
    "# u2_exp = np.sum(np.array(_us) * pi_2.reshape(-1, 1), axis=0)\n",
    "\n",
    "# d1_exp = np.sum(np.array(_ds) * p2_pi.reshape(-1, 1), axis=0)\n",
    "norm_diff_1 = np.linalg.norm(np.array(_us) - GT_action_1, axis=1)\n",
    "norm_diff_2 = np.linalg.norm(np.array(_us) - GT_action_2, axis=1)\n",
    "\n",
    "distance_to_gt_4 = norm_diff_1.dot(pi_1) + norm_diff_2.dot(pi_2)"
   ]
  },
  {
   "cell_type": "code",
   "execution_count": 32,
   "id": "356a6744-5c40-4db2-a6e9-70b415193d03",
   "metadata": {},
   "outputs": [
    {
     "data": {
      "text/plain": [
       "1.0588427800973248"
      ]
     },
     "execution_count": 32,
     "metadata": {},
     "output_type": "execute_result"
    }
   ],
   "source": [
    "distance_to_gt_4"
   ]
  },
  {
   "cell_type": "code",
   "execution_count": 33,
   "id": "378c5da4-cdee-4e62-aaa8-361869da07bb",
   "metadata": {},
   "outputs": [
    {
     "data": {
      "text/plain": [
       "0.5227844"
      ]
     },
     "execution_count": 33,
     "metadata": {},
     "output_type": "execute_result"
    }
   ],
   "source": [
    "# np.mean([np.linalg.norm(GT_action_1 - u1_exp), np.linalg.norm(GT_action_2 - u2_exp)])"
   ]
  },
  {
   "cell_type": "code",
   "execution_count": 48,
   "id": "74a76fea-3504-40dd-b21f-48369adbedf4",
   "metadata": {},
   "outputs": [
    {
     "name": "stderr",
     "output_type": "stream",
     "text": [
      "20it [00:05,  3.75it/s]"
     ]
    },
    {
     "name": "stdout",
     "output_type": "stream",
     "text": [
      "Exploitability: 0.12683931755666844\n"
     ]
    },
    {
     "name": "stderr",
     "output_type": "stream",
     "text": [
      "40it [00:11,  3.66it/s]"
     ]
    },
    {
     "name": "stdout",
     "output_type": "stream",
     "text": [
      "Exploitability: 0.04887312157199819\n"
     ]
    },
    {
     "name": "stderr",
     "output_type": "stream",
     "text": [
      "60it [00:17,  3.71it/s]"
     ]
    },
    {
     "name": "stdout",
     "output_type": "stream",
     "text": [
      "Exploitability: 0.025864314873842442\n"
     ]
    },
    {
     "name": "stderr",
     "output_type": "stream",
     "text": [
      "80it [00:23,  3.69it/s]"
     ]
    },
    {
     "name": "stdout",
     "output_type": "stream",
     "text": [
      "Exploitability: 0.0166111271115994\n"
     ]
    },
    {
     "name": "stderr",
     "output_type": "stream",
     "text": [
      "100it [00:30,  3.57it/s]"
     ]
    },
    {
     "name": "stdout",
     "output_type": "stream",
     "text": [
      "Exploitability: 0.012275102705452845\n"
     ]
    },
    {
     "name": "stderr",
     "output_type": "stream",
     "text": [
      "120it [00:36,  3.78it/s]"
     ]
    },
    {
     "name": "stdout",
     "output_type": "stream",
     "text": [
      "Exploitability: 0.009885329901969775\n"
     ]
    },
    {
     "name": "stderr",
     "output_type": "stream",
     "text": [
      "140it [00:42,  3.70it/s]"
     ]
    },
    {
     "name": "stdout",
     "output_type": "stream",
     "text": [
      "Exploitability: 0.008417647591317912\n"
     ]
    },
    {
     "name": "stderr",
     "output_type": "stream",
     "text": [
      "160it [00:48,  3.75it/s]"
     ]
    },
    {
     "name": "stdout",
     "output_type": "stream",
     "text": [
      "Exploitability: 0.007442541141642334\n"
     ]
    },
    {
     "name": "stderr",
     "output_type": "stream",
     "text": [
      "180it [00:54,  3.82it/s]"
     ]
    },
    {
     "name": "stdout",
     "output_type": "stream",
     "text": [
      "Exploitability: 0.0067542255218813185\n"
     ]
    },
    {
     "name": "stderr",
     "output_type": "stream",
     "text": [
      "200it [00:59,  3.81it/s]"
     ]
    },
    {
     "name": "stdout",
     "output_type": "stream",
     "text": [
      "Exploitability: 0.006244070373772392\n"
     ]
    },
    {
     "name": "stderr",
     "output_type": "stream",
     "text": [
      "220it [01:06,  3.17it/s]"
     ]
    },
    {
     "name": "stdout",
     "output_type": "stream",
     "text": [
      "Exploitability: 0.005850326846762344\n"
     ]
    },
    {
     "name": "stderr",
     "output_type": "stream",
     "text": [
      "240it [01:12,  3.82it/s]"
     ]
    },
    {
     "name": "stdout",
     "output_type": "stream",
     "text": [
      "Exploitability: 0.005535780327820539\n"
     ]
    },
    {
     "name": "stderr",
     "output_type": "stream",
     "text": [
      "260it [01:18,  3.71it/s]"
     ]
    },
    {
     "name": "stdout",
     "output_type": "stream",
     "text": [
      "Exploitability: 0.005276910901024334\n"
     ]
    },
    {
     "name": "stderr",
     "output_type": "stream",
     "text": [
      "280it [01:24,  3.69it/s]"
     ]
    },
    {
     "name": "stdout",
     "output_type": "stream",
     "text": [
      "Exploitability: 0.005058255419074453\n"
     ]
    },
    {
     "name": "stderr",
     "output_type": "stream",
     "text": [
      "300it [01:30,  3.76it/s]"
     ]
    },
    {
     "name": "stdout",
     "output_type": "stream",
     "text": [
      "Exploitability: 0.004869302311745538\n"
     ]
    },
    {
     "name": "stderr",
     "output_type": "stream",
     "text": [
      "320it [01:36,  3.74it/s]"
     ]
    },
    {
     "name": "stdout",
     "output_type": "stream",
     "text": [
      "Exploitability: 0.004702697517474874\n"
     ]
    },
    {
     "name": "stderr",
     "output_type": "stream",
     "text": [
      "340it [01:43,  3.39it/s]"
     ]
    },
    {
     "name": "stdout",
     "output_type": "stream",
     "text": [
      "Exploitability: 0.0045531649354687564\n"
     ]
    },
    {
     "name": "stderr",
     "output_type": "stream",
     "text": [
      "360it [01:49,  3.74it/s]"
     ]
    },
    {
     "name": "stdout",
     "output_type": "stream",
     "text": [
      "Exploitability: 0.004416833691246902\n"
     ]
    },
    {
     "name": "stderr",
     "output_type": "stream",
     "text": [
      "380it [01:55,  3.55it/s]"
     ]
    },
    {
     "name": "stdout",
     "output_type": "stream",
     "text": [
      "Exploitability: 0.004290805932631092\n"
     ]
    },
    {
     "name": "stderr",
     "output_type": "stream",
     "text": [
      "400it [02:01,  3.55it/s]"
     ]
    },
    {
     "name": "stdout",
     "output_type": "stream",
     "text": [
      "Exploitability: 0.004172871596078487\n"
     ]
    },
    {
     "name": "stderr",
     "output_type": "stream",
     "text": [
      "420it [02:07,  3.61it/s]"
     ]
    },
    {
     "name": "stdout",
     "output_type": "stream",
     "text": [
      "Exploitability: 0.00406131560907419\n"
     ]
    },
    {
     "name": "stderr",
     "output_type": "stream",
     "text": [
      "440it [02:13,  3.70it/s]"
     ]
    },
    {
     "name": "stdout",
     "output_type": "stream",
     "text": [
      "Exploitability: 0.003954784734756411\n"
     ]
    },
    {
     "name": "stderr",
     "output_type": "stream",
     "text": [
      "460it [02:19,  3.74it/s]"
     ]
    },
    {
     "name": "stdout",
     "output_type": "stream",
     "text": [
      "Exploitability: 0.0038521937829344433\n"
     ]
    },
    {
     "name": "stderr",
     "output_type": "stream",
     "text": [
      "480it [02:25,  3.75it/s]"
     ]
    },
    {
     "name": "stdout",
     "output_type": "stream",
     "text": [
      "Exploitability: 0.003752658334380432\n"
     ]
    },
    {
     "name": "stderr",
     "output_type": "stream",
     "text": [
      "500it [02:31,  3.71it/s]"
     ]
    },
    {
     "name": "stdout",
     "output_type": "stream",
     "text": [
      "Exploitability: 0.0036554456439594762\n"
     ]
    },
    {
     "name": "stderr",
     "output_type": "stream",
     "text": [
      "520it [02:37,  3.71it/s]"
     ]
    },
    {
     "name": "stdout",
     "output_type": "stream",
     "text": [
      "Exploitability: 0.0035599382046009875\n"
     ]
    },
    {
     "name": "stderr",
     "output_type": "stream",
     "text": [
      "540it [02:43,  3.69it/s]"
     ]
    },
    {
     "name": "stdout",
     "output_type": "stream",
     "text": [
      "Exploitability: 0.0034656062470470594\n"
     ]
    },
    {
     "name": "stderr",
     "output_type": "stream",
     "text": [
      "560it [02:49,  3.77it/s]"
     ]
    },
    {
     "name": "stdout",
     "output_type": "stream",
     "text": [
      "Exploitability: 0.0033719866133277154\n"
     ]
    },
    {
     "name": "stderr",
     "output_type": "stream",
     "text": [
      "580it [02:55,  3.62it/s]"
     ]
    },
    {
     "name": "stdout",
     "output_type": "stream",
     "text": [
      "Exploitability: 0.003278666208674008\n"
     ]
    },
    {
     "name": "stderr",
     "output_type": "stream",
     "text": [
      "600it [03:01,  3.70it/s]"
     ]
    },
    {
     "name": "stdout",
     "output_type": "stream",
     "text": [
      "Exploitability: 0.0031852687488203024\n"
     ]
    },
    {
     "name": "stderr",
     "output_type": "stream",
     "text": [
      "620it [03:07,  3.49it/s]"
     ]
    },
    {
     "name": "stdout",
     "output_type": "stream",
     "text": [
      "Exploitability: 0.003091443864914445\n"
     ]
    },
    {
     "name": "stderr",
     "output_type": "stream",
     "text": [
      "640it [03:13,  3.59it/s]"
     ]
    },
    {
     "name": "stdout",
     "output_type": "stream",
     "text": [
      "Exploitability: 0.002996857861384039\n"
     ]
    },
    {
     "name": "stderr",
     "output_type": "stream",
     "text": [
      "660it [03:19,  3.60it/s]"
     ]
    },
    {
     "name": "stdout",
     "output_type": "stream",
     "text": [
      "Exploitability: 0.0029011855777019147\n"
     ]
    },
    {
     "name": "stderr",
     "output_type": "stream",
     "text": [
      "680it [03:26,  3.65it/s]"
     ]
    },
    {
     "name": "stdout",
     "output_type": "stream",
     "text": [
      "Exploitability: 0.0028041029048606614\n"
     ]
    },
    {
     "name": "stderr",
     "output_type": "stream",
     "text": [
      "700it [03:32,  3.69it/s]"
     ]
    },
    {
     "name": "stdout",
     "output_type": "stream",
     "text": [
      "Exploitability: 0.002705279564550689\n"
     ]
    },
    {
     "name": "stderr",
     "output_type": "stream",
     "text": [
      "720it [03:37,  3.79it/s]"
     ]
    },
    {
     "name": "stdout",
     "output_type": "stream",
     "text": [
      "Exploitability: 0.0026043717806212285\n"
     ]
    },
    {
     "name": "stderr",
     "output_type": "stream",
     "text": [
      "740it [03:43,  3.73it/s]"
     ]
    },
    {
     "name": "stdout",
     "output_type": "stream",
     "text": [
      "Exploitability: 0.00250101446031592\n"
     ]
    },
    {
     "name": "stderr",
     "output_type": "stream",
     "text": [
      "760it [03:50,  3.72it/s]"
     ]
    },
    {
     "name": "stdout",
     "output_type": "stream",
     "text": [
      "Exploitability: 0.0023948124542438887\n"
     ]
    },
    {
     "name": "stderr",
     "output_type": "stream",
     "text": [
      "780it [03:56,  3.79it/s]"
     ]
    },
    {
     "name": "stdout",
     "output_type": "stream",
     "text": [
      "Exploitability: 0.002285330370483507\n"
     ]
    },
    {
     "name": "stderr",
     "output_type": "stream",
     "text": [
      "800it [04:02,  3.73it/s]"
     ]
    },
    {
     "name": "stdout",
     "output_type": "stream",
     "text": [
      "Exploitability: 0.0021738671511899454\n"
     ]
    },
    {
     "name": "stderr",
     "output_type": "stream",
     "text": [
      "820it [04:08,  3.61it/s]"
     ]
    },
    {
     "name": "stdout",
     "output_type": "stream",
     "text": [
      "Exploitability: 0.0020691810559438917\n"
     ]
    },
    {
     "name": "stderr",
     "output_type": "stream",
     "text": [
      "840it [04:14,  3.81it/s]"
     ]
    },
    {
     "name": "stdout",
     "output_type": "stream",
     "text": [
      "Exploitability: 0.0019718788155858036\n"
     ]
    },
    {
     "name": "stderr",
     "output_type": "stream",
     "text": [
      "860it [04:20,  3.72it/s]"
     ]
    },
    {
     "name": "stdout",
     "output_type": "stream",
     "text": [
      "Exploitability: 0.0018812820010297715\n"
     ]
    },
    {
     "name": "stderr",
     "output_type": "stream",
     "text": [
      "880it [04:26,  3.56it/s]"
     ]
    },
    {
     "name": "stdout",
     "output_type": "stream",
     "text": [
      "Exploitability: 0.001796788348058187\n"
     ]
    },
    {
     "name": "stderr",
     "output_type": "stream",
     "text": [
      "900it [04:32,  3.77it/s]"
     ]
    },
    {
     "name": "stdout",
     "output_type": "stream",
     "text": [
      "Exploitability: 0.001717861722139058\n"
     ]
    },
    {
     "name": "stderr",
     "output_type": "stream",
     "text": [
      "920it [04:38,  3.78it/s]"
     ]
    },
    {
     "name": "stdout",
     "output_type": "stream",
     "text": [
      "Exploitability: 0.0016440235926008517\n"
     ]
    },
    {
     "name": "stderr",
     "output_type": "stream",
     "text": [
      "940it [04:44,  3.80it/s]"
     ]
    },
    {
     "name": "stdout",
     "output_type": "stream",
     "text": [
      "Exploitability: 0.0015748457621842515\n"
     ]
    },
    {
     "name": "stderr",
     "output_type": "stream",
     "text": [
      "960it [04:50,  3.66it/s]"
     ]
    },
    {
     "name": "stdout",
     "output_type": "stream",
     "text": [
      "Exploitability: 0.0015099441450773243\n"
     ]
    },
    {
     "name": "stderr",
     "output_type": "stream",
     "text": [
      "980it [04:56,  3.76it/s]"
     ]
    },
    {
     "name": "stdout",
     "output_type": "stream",
     "text": [
      "Exploitability: 0.0014489734241222019\n"
     ]
    },
    {
     "name": "stderr",
     "output_type": "stream",
     "text": [
      "1000it [05:02,  3.70it/s]"
     ]
    },
    {
     "name": "stdout",
     "output_type": "stream",
     "text": [
      "Exploitability: 0.0013916224480344797\n"
     ]
    },
    {
     "name": "stderr",
     "output_type": "stream",
     "text": [
      "1020it [05:08,  3.72it/s]"
     ]
    },
    {
     "name": "stdout",
     "output_type": "stream",
     "text": [
      "Exploitability: 0.0013376102537714374\n"
     ]
    },
    {
     "name": "stderr",
     "output_type": "stream",
     "text": [
      "1040it [05:14,  3.63it/s]"
     ]
    },
    {
     "name": "stdout",
     "output_type": "stream",
     "text": [
      "Exploitability: 0.0012866826188598912\n"
     ]
    },
    {
     "name": "stderr",
     "output_type": "stream",
     "text": [
      "1060it [05:20,  3.71it/s]"
     ]
    },
    {
     "name": "stdout",
     "output_type": "stream",
     "text": [
      "Exploitability: 0.0012386090645016834\n"
     ]
    },
    {
     "name": "stderr",
     "output_type": "stream",
     "text": [
      "1080it [05:26,  3.04it/s]"
     ]
    },
    {
     "name": "stdout",
     "output_type": "stream",
     "text": [
      "Exploitability: 0.0011931802433297056\n"
     ]
    },
    {
     "name": "stderr",
     "output_type": "stream",
     "text": [
      "1100it [05:32,  3.80it/s]"
     ]
    },
    {
     "name": "stdout",
     "output_type": "stream",
     "text": [
      "Exploitability: 0.001150205656413772\n"
     ]
    },
    {
     "name": "stderr",
     "output_type": "stream",
     "text": [
      "1120it [05:38,  3.70it/s]"
     ]
    },
    {
     "name": "stdout",
     "output_type": "stream",
     "text": [
      "Exploitability: 0.0011095116529267202\n"
     ]
    },
    {
     "name": "stderr",
     "output_type": "stream",
     "text": [
      "1140it [05:44,  3.69it/s]"
     ]
    },
    {
     "name": "stdout",
     "output_type": "stream",
     "text": [
      "Exploitability: 0.0010709396731726217\n"
     ]
    },
    {
     "name": "stderr",
     "output_type": "stream",
     "text": [
      "1160it [05:50,  3.67it/s]"
     ]
    },
    {
     "name": "stdout",
     "output_type": "stream",
     "text": [
      "Exploitability: 0.001034344701715706\n"
     ]
    },
    {
     "name": "stderr",
     "output_type": "stream",
     "text": [
      "1180it [05:57,  3.30it/s]"
     ]
    },
    {
     "name": "stdout",
     "output_type": "stream",
     "text": [
      "Exploitability: 0.0009995939023826894\n",
      "Total Time: 357.2829360961914\n"
     ]
    },
    {
     "name": "stderr",
     "output_type": "stream",
     "text": [
      "\n"
     ]
    }
   ],
   "source": [
    "## n = 6\n",
    "\n",
    "n = 6\n",
    "\n",
    "import hexner_last_step_n_6\n",
    "\n",
    "initial_state = [-0.5, 0., 0., 0., 0.5, 0., 0., 0., 0.5]\n",
    "game = pyspiel.convert_to_turn_based(hexner_last_step_n_6.HexnerGame(initial_state=initial_state))\n",
    "cfr_solver= cfr.CFRPlusSolver(game)\n",
    "\n",
    "i = 0\n",
    "exps = 1e6\n",
    "time_in = time.time()\n",
    "with tqdm() as pbar:\n",
    "    while exps > 1e-3:\n",
    "        cfr_solver.evaluate_and_update_policy()\n",
    "        av_policy = cfr_solver.average_policy()\n",
    "        i += 1\n",
    "        pbar.update(1)\n",
    "        if i % 20 == 0:\n",
    "            # exps = exploitability.exploitability(game, av_policy)\n",
    "            exps = exploitability.nash_conv(game, av_policy, return_only_nash_conv=False).player_improvements[0]\n",
    "            print(f'Exploitability: {exps}')\n",
    "time_out = time.time()\n",
    "\n",
    "print('Total Time:', time_out - time_in)\n",
    "\n",
    "av_policy = cfr_solver.average_policy()\n",
    "\n",
    "av_policy_dict = av_policy.to_dict()\n",
    "av_policy_dict.keys()\n",
    "\n",
    "pi_1 = av_policy_dict['Current player: 0\\nGoal:1 us: op:']\n",
    "pi_2 = av_policy_dict['Current player: 0\\nGoal:2 us: op:']\n",
    "\n",
    "pi_1 = np.array(pi_1)[:, 1]\n",
    "pi_2 = np.array(pi_2)[:, 1]\n",
    "\n",
    "ux_max = 0.99\n",
    "uy_max = 3.947\n",
    "dx_max = 0.99\n",
    "dy_max = 0.99\n",
    "\n",
    "_uxs = np.linspace(-ux_max, ux_max, n)\n",
    "_uys = np.linspace(-uy_max, uy_max, n)\n",
    "_dxs = np.linspace(-dx_max, dx_max, n)\n",
    "_dys = np.linspace(-dy_max, dy_max, n)\n",
    "_us = list(product(_uxs, _uys))\n",
    "_ds = list(product(_dxs, _dys))\n",
    "\n",
    "# u1_exp = np.sum(np.array(_us) * pi_1.reshape(-1, 1), axis=0)\n",
    "# u2_exp = np.sum(np.array(_us) * pi_2.reshape(-1, 1), axis=0)\n",
    "\n",
    "# distance_to_gt_6 = np.mean([np.linalg.norm(GT_action_1 - u1_exp), np.linalg.norm(GT_action_2 - u2_exp)])\n",
    "norm_diff_1 = np.linalg.norm(np.array(_us) - GT_action_1, axis=1)\n",
    "norm_diff_2 = np.linalg.norm(np.array(_us) - GT_action_2, axis=1)\n",
    "\n",
    "distance_to_gt_6 = norm_diff_1.dot(pi_1) + norm_diff_2.dot(pi_2)"
   ]
  },
  {
   "cell_type": "code",
   "execution_count": 50,
   "id": "03c57f96-d04e-4f93-b087-6005a36670b0",
   "metadata": {},
   "outputs": [
    {
     "data": {
      "text/plain": [
       "1.1494801917079402"
      ]
     },
     "execution_count": 50,
     "metadata": {},
     "output_type": "execute_result"
    }
   ],
   "source": [
    "distance_to_gt_6"
   ]
  },
  {
   "cell_type": "code",
   "execution_count": 36,
   "id": "e6239f4c-d81c-4982-b213-cdc953d01221",
   "metadata": {},
   "outputs": [
    {
     "name": "stderr",
     "output_type": "stream",
     "text": [
      "40it [00:33,  1.17it/s]"
     ]
    },
    {
     "name": "stdout",
     "output_type": "stream",
     "text": [
      "Exploitability: 0.06859038521202987\n"
     ]
    },
    {
     "name": "stderr",
     "output_type": "stream",
     "text": [
      "80it [01:08,  1.20it/s]"
     ]
    },
    {
     "name": "stdout",
     "output_type": "stream",
     "text": [
      "Exploitability: 0.03003752700153417\n"
     ]
    },
    {
     "name": "stderr",
     "output_type": "stream",
     "text": [
      "120it [01:44,  1.20it/s]"
     ]
    },
    {
     "name": "stdout",
     "output_type": "stream",
     "text": [
      "Exploitability: 0.017894689559324606\n"
     ]
    },
    {
     "name": "stderr",
     "output_type": "stream",
     "text": [
      "160it [02:19,  1.20it/s]"
     ]
    },
    {
     "name": "stdout",
     "output_type": "stream",
     "text": [
      "Exploitability: 0.011908702899504187\n"
     ]
    },
    {
     "name": "stderr",
     "output_type": "stream",
     "text": [
      "200it [02:55,  1.22it/s]"
     ]
    },
    {
     "name": "stdout",
     "output_type": "stream",
     "text": [
      "Exploitability: 0.008096227887807728\n"
     ]
    },
    {
     "name": "stderr",
     "output_type": "stream",
     "text": [
      "240it [03:31,  1.18it/s]"
     ]
    },
    {
     "name": "stdout",
     "output_type": "stream",
     "text": [
      "Exploitability: 0.006005975854819212\n"
     ]
    },
    {
     "name": "stderr",
     "output_type": "stream",
     "text": [
      "280it [04:07,  1.22it/s]"
     ]
    },
    {
     "name": "stdout",
     "output_type": "stream",
     "text": [
      "Exploitability: 0.004741831955166864\n"
     ]
    },
    {
     "name": "stderr",
     "output_type": "stream",
     "text": [
      "320it [04:42,  1.22it/s]"
     ]
    },
    {
     "name": "stdout",
     "output_type": "stream",
     "text": [
      "Exploitability: 0.0039185579992515596\n"
     ]
    },
    {
     "name": "stderr",
     "output_type": "stream",
     "text": [
      "360it [05:19,  1.19it/s]"
     ]
    },
    {
     "name": "stdout",
     "output_type": "stream",
     "text": [
      "Exploitability: 0.003351855712953822\n"
     ]
    },
    {
     "name": "stderr",
     "output_type": "stream",
     "text": [
      "400it [05:56,  1.19it/s]"
     ]
    },
    {
     "name": "stdout",
     "output_type": "stream",
     "text": [
      "Exploitability: 0.002944554696194368\n"
     ]
    },
    {
     "name": "stderr",
     "output_type": "stream",
     "text": [
      "440it [06:31,  1.22it/s]"
     ]
    },
    {
     "name": "stdout",
     "output_type": "stream",
     "text": [
      "Exploitability: 0.002641480583187361\n"
     ]
    },
    {
     "name": "stderr",
     "output_type": "stream",
     "text": [
      "480it [07:07,  1.21it/s]"
     ]
    },
    {
     "name": "stdout",
     "output_type": "stream",
     "text": [
      "Exploitability: 0.0024094176401313616\n"
     ]
    },
    {
     "name": "stderr",
     "output_type": "stream",
     "text": [
      "520it [07:42,  1.21it/s]"
     ]
    },
    {
     "name": "stdout",
     "output_type": "stream",
     "text": [
      "Exploitability: 0.002227399045146017\n"
     ]
    },
    {
     "name": "stderr",
     "output_type": "stream",
     "text": [
      "560it [08:18,  1.18it/s]"
     ]
    },
    {
     "name": "stdout",
     "output_type": "stream",
     "text": [
      "Exploitability: 0.002081660636530591\n"
     ]
    },
    {
     "name": "stderr",
     "output_type": "stream",
     "text": [
      "600it [08:55,  1.09it/s]"
     ]
    },
    {
     "name": "stdout",
     "output_type": "stream",
     "text": [
      "Exploitability: 0.0019628634895080266\n"
     ]
    },
    {
     "name": "stderr",
     "output_type": "stream",
     "text": [
      "640it [09:32,  1.16it/s]"
     ]
    },
    {
     "name": "stdout",
     "output_type": "stream",
     "text": [
      "Exploitability: 0.0018644901956275106\n"
     ]
    },
    {
     "name": "stderr",
     "output_type": "stream",
     "text": [
      "680it [10:09,  1.15it/s]"
     ]
    },
    {
     "name": "stdout",
     "output_type": "stream",
     "text": [
      "Exploitability: 0.0017818804094567042\n"
     ]
    },
    {
     "name": "stderr",
     "output_type": "stream",
     "text": [
      "720it [10:47,  1.11it/s]"
     ]
    },
    {
     "name": "stdout",
     "output_type": "stream",
     "text": [
      "Exploitability: 0.0017116301929849254\n"
     ]
    },
    {
     "name": "stderr",
     "output_type": "stream",
     "text": [
      "760it [11:23,  1.18it/s]"
     ]
    },
    {
     "name": "stdout",
     "output_type": "stream",
     "text": [
      "Exploitability: 0.001651206377736969\n"
     ]
    },
    {
     "name": "stderr",
     "output_type": "stream",
     "text": [
      "800it [12:00,  1.16it/s]"
     ]
    },
    {
     "name": "stdout",
     "output_type": "stream",
     "text": [
      "Exploitability: 0.0015986922743206344\n"
     ]
    },
    {
     "name": "stderr",
     "output_type": "stream",
     "text": [
      "840it [12:36,  1.18it/s]"
     ]
    },
    {
     "name": "stdout",
     "output_type": "stream",
     "text": [
      "Exploitability: 0.0015526159826224628\n"
     ]
    },
    {
     "name": "stderr",
     "output_type": "stream",
     "text": [
      "880it [13:13,  1.11it/s]"
     ]
    },
    {
     "name": "stdout",
     "output_type": "stream",
     "text": [
      "Exploitability: 0.0015118320031590748\n"
     ]
    },
    {
     "name": "stderr",
     "output_type": "stream",
     "text": [
      "920it [13:49,  1.19it/s]"
     ]
    },
    {
     "name": "stdout",
     "output_type": "stream",
     "text": [
      "Exploitability: 0.0014754380440415993\n"
     ]
    },
    {
     "name": "stderr",
     "output_type": "stream",
     "text": [
      "960it [14:25,  1.18it/s]"
     ]
    },
    {
     "name": "stdout",
     "output_type": "stream",
     "text": [
      "Exploitability: 0.0014427155542419134\n"
     ]
    },
    {
     "name": "stderr",
     "output_type": "stream",
     "text": [
      "1000it [15:01,  1.14it/s]"
     ]
    },
    {
     "name": "stdout",
     "output_type": "stream",
     "text": [
      "Exploitability: 0.0014130865534740522\n"
     ]
    },
    {
     "name": "stderr",
     "output_type": "stream",
     "text": [
      "1040it [15:37,  1.17it/s]"
     ]
    },
    {
     "name": "stdout",
     "output_type": "stream",
     "text": [
      "Exploitability: 0.001386081847509768\n"
     ]
    },
    {
     "name": "stderr",
     "output_type": "stream",
     "text": [
      "1080it [16:14,  1.16it/s]"
     ]
    },
    {
     "name": "stdout",
     "output_type": "stream",
     "text": [
      "Exploitability: 0.001361317322147948\n"
     ]
    },
    {
     "name": "stderr",
     "output_type": "stream",
     "text": [
      "1120it [16:50,  1.17it/s]"
     ]
    },
    {
     "name": "stdout",
     "output_type": "stream",
     "text": [
      "Exploitability: 0.001338476051583437\n"
     ]
    },
    {
     "name": "stderr",
     "output_type": "stream",
     "text": [
      "1160it [17:27,  1.18it/s]"
     ]
    },
    {
     "name": "stdout",
     "output_type": "stream",
     "text": [
      "Exploitability: 0.0013172946466406543\n"
     ]
    },
    {
     "name": "stderr",
     "output_type": "stream",
     "text": [
      "1200it [18:03,  1.17it/s]"
     ]
    },
    {
     "name": "stdout",
     "output_type": "stream",
     "text": [
      "Exploitability: 0.001297552732237972\n"
     ]
    },
    {
     "name": "stderr",
     "output_type": "stream",
     "text": [
      "1240it [18:39,  1.17it/s]"
     ]
    },
    {
     "name": "stdout",
     "output_type": "stream",
     "text": [
      "Exploitability: 0.001279064760386861\n"
     ]
    },
    {
     "name": "stderr",
     "output_type": "stream",
     "text": [
      "1280it [19:16,  1.17it/s]"
     ]
    },
    {
     "name": "stdout",
     "output_type": "stream",
     "text": [
      "Exploitability: 0.001261673584482259\n"
     ]
    },
    {
     "name": "stderr",
     "output_type": "stream",
     "text": [
      "1320it [19:52,  1.17it/s]"
     ]
    },
    {
     "name": "stdout",
     "output_type": "stream",
     "text": [
      "Exploitability: 0.0012452453747675563\n"
     ]
    },
    {
     "name": "stderr",
     "output_type": "stream",
     "text": [
      "1360it [20:28,  1.18it/s]"
     ]
    },
    {
     "name": "stdout",
     "output_type": "stream",
     "text": [
      "Exploitability: 0.00122966556429438\n"
     ]
    },
    {
     "name": "stderr",
     "output_type": "stream",
     "text": [
      "1400it [21:06,  1.12it/s]"
     ]
    },
    {
     "name": "stdout",
     "output_type": "stream",
     "text": [
      "Exploitability: 0.0012148355933885302\n"
     ]
    },
    {
     "name": "stderr",
     "output_type": "stream",
     "text": [
      "1440it [21:43,  1.16it/s]"
     ]
    },
    {
     "name": "stdout",
     "output_type": "stream",
     "text": [
      "Exploitability: 0.001200670277779925\n"
     ]
    },
    {
     "name": "stderr",
     "output_type": "stream",
     "text": [
      "1480it [22:19,  1.18it/s]"
     ]
    },
    {
     "name": "stdout",
     "output_type": "stream",
     "text": [
      "Exploitability: 0.0011870956674512323\n"
     ]
    },
    {
     "name": "stderr",
     "output_type": "stream",
     "text": [
      "1520it [22:56,  1.17it/s]"
     ]
    },
    {
     "name": "stdout",
     "output_type": "stream",
     "text": [
      "Exploitability: 0.0011740472943357894\n"
     ]
    },
    {
     "name": "stderr",
     "output_type": "stream",
     "text": [
      "1560it [23:33,  1.15it/s]"
     ]
    },
    {
     "name": "stdout",
     "output_type": "stream",
     "text": [
      "Exploitability: 0.0011614687301632065\n"
     ]
    },
    {
     "name": "stderr",
     "output_type": "stream",
     "text": [
      "1600it [24:09,  1.16it/s]"
     ]
    },
    {
     "name": "stdout",
     "output_type": "stream",
     "text": [
      "Exploitability: 0.0011493103932352922\n"
     ]
    },
    {
     "name": "stderr",
     "output_type": "stream",
     "text": [
      "1640it [24:46,  1.14it/s]"
     ]
    },
    {
     "name": "stdout",
     "output_type": "stream",
     "text": [
      "Exploitability: 0.001137528556176437\n"
     ]
    },
    {
     "name": "stderr",
     "output_type": "stream",
     "text": [
      "1680it [25:23,  1.17it/s]"
     ]
    },
    {
     "name": "stdout",
     "output_type": "stream",
     "text": [
      "Exploitability: 0.0011260845168460376\n"
     ]
    },
    {
     "name": "stderr",
     "output_type": "stream",
     "text": [
      "1720it [25:59,  1.16it/s]"
     ]
    },
    {
     "name": "stdout",
     "output_type": "stream",
     "text": [
      "Exploitability: 0.0011149439024257246\n"
     ]
    },
    {
     "name": "stderr",
     "output_type": "stream",
     "text": [
      "1760it [26:36,  1.15it/s]"
     ]
    },
    {
     "name": "stdout",
     "output_type": "stream",
     "text": [
      "Exploitability: 0.0011040760827443208\n"
     ]
    },
    {
     "name": "stderr",
     "output_type": "stream",
     "text": [
      "1800it [27:12,  1.16it/s]"
     ]
    },
    {
     "name": "stdout",
     "output_type": "stream",
     "text": [
      "Exploitability: 0.0010934536736383338\n"
     ]
    },
    {
     "name": "stderr",
     "output_type": "stream",
     "text": [
      "1840it [27:49,  1.17it/s]"
     ]
    },
    {
     "name": "stdout",
     "output_type": "stream",
     "text": [
      "Exploitability: 0.0010830521148629257\n"
     ]
    },
    {
     "name": "stderr",
     "output_type": "stream",
     "text": [
      "1880it [28:26,  1.15it/s]"
     ]
    },
    {
     "name": "stdout",
     "output_type": "stream",
     "text": [
      "Exploitability: 0.0010728493099920744\n"
     ]
    },
    {
     "name": "stderr",
     "output_type": "stream",
     "text": [
      "1920it [29:02,  1.14it/s]"
     ]
    },
    {
     "name": "stdout",
     "output_type": "stream",
     "text": [
      "Exploitability: 0.0010628253180817726\n"
     ]
    },
    {
     "name": "stderr",
     "output_type": "stream",
     "text": [
      "1960it [29:39,  1.10it/s]"
     ]
    },
    {
     "name": "stdout",
     "output_type": "stream",
     "text": [
      "Exploitability: 0.001052962088727738\n"
     ]
    },
    {
     "name": "stderr",
     "output_type": "stream",
     "text": [
      "2000it [30:16,  1.16it/s]"
     ]
    },
    {
     "name": "stdout",
     "output_type": "stream",
     "text": [
      "Exploitability: 0.001043243233629143\n"
     ]
    },
    {
     "name": "stderr",
     "output_type": "stream",
     "text": [
      "2040it [30:53,  1.13it/s]"
     ]
    },
    {
     "name": "stdout",
     "output_type": "stream",
     "text": [
      "Exploitability: 0.0010336538289879016\n"
     ]
    },
    {
     "name": "stderr",
     "output_type": "stream",
     "text": [
      "2080it [31:30,  1.16it/s]"
     ]
    },
    {
     "name": "stdout",
     "output_type": "stream",
     "text": [
      "Exploitability: 0.0010241802440302816\n"
     ]
    },
    {
     "name": "stderr",
     "output_type": "stream",
     "text": [
      "2120it [32:07,  1.16it/s]"
     ]
    },
    {
     "name": "stdout",
     "output_type": "stream",
     "text": [
      "Exploitability: 0.001014809991738752\n"
     ]
    },
    {
     "name": "stderr",
     "output_type": "stream",
     "text": [
      "2160it [32:44,  1.15it/s]"
     ]
    },
    {
     "name": "stdout",
     "output_type": "stream",
     "text": [
      "Exploitability: 0.0010055315985144642\n"
     ]
    },
    {
     "name": "stderr",
     "output_type": "stream",
     "text": [
      "2200it [33:23,  1.10it/s]"
     ]
    },
    {
     "name": "stdout",
     "output_type": "stream",
     "text": [
      "Exploitability: 0.0009963344900408844\n",
      "Total Time: 2003.7073941230774\n"
     ]
    },
    {
     "name": "stderr",
     "output_type": "stream",
     "text": [
      "\n"
     ]
    }
   ],
   "source": [
    "## n = 8\n",
    "\n",
    "n = 8\n",
    "\n",
    "import hexner_last_step_n_8\n",
    "\n",
    "initial_state = [-0.5, 0., 0., 0., 0.5, 0., 0., 0., 0.5]\n",
    "game = pyspiel.convert_to_turn_based(hexner_last_step_n_8.HexnerGame(initial_state=initial_state))\n",
    "cfr_solver= cfr.CFRPlusSolver(game)\n",
    "\n",
    "i = 0\n",
    "exps = 1e6\n",
    "time_in = time.time()\n",
    "with tqdm() as pbar:\n",
    "    while exps > 1e-3:\n",
    "        cfr_solver.evaluate_and_update_policy()\n",
    "        av_policy = cfr_solver.average_policy()\n",
    "        i += 1\n",
    "        pbar.update(1)\n",
    "        if i % 40 == 0:\n",
    "            # exps = exploitability.exploitability(game, av_policy)\n",
    "            exps = exploitability.nash_conv(game, av_policy, return_only_nash_conv=False).player_improvements[0]\n",
    "            print(f'Exploitability: {exps}')\n",
    "time_out = time.time()\n",
    "\n",
    "print('Total Time:', time_out - time_in)\n",
    "\n",
    "av_policy_dict = av_policy.to_dict()\n",
    "av_policy_dict.keys()\n",
    "\n",
    "pi_1 = av_policy_dict['Current player: 0\\nGoal:1 us: op:']\n",
    "pi_2 = av_policy_dict['Current player: 0\\nGoal:2 us: op:']\n",
    "\n",
    "pi_1 = np.array(pi_1)[:, 1]\n",
    "pi_2 = np.array(pi_2)[:, 1]\n",
    "\n",
    "ux_max = 0.99\n",
    "uy_max = 3.947\n",
    "dx_max = 0.99\n",
    "dy_max = 0.99\n",
    "\n",
    "_uxs = np.linspace(-ux_max, ux_max, n)\n",
    "_uys = np.linspace(-uy_max, uy_max, n)\n",
    "_dxs = np.linspace(-dx_max, dx_max, n)\n",
    "_dys = np.linspace(-dy_max, dy_max, n)\n",
    "_us = list(product(_uxs, _uys))\n",
    "_ds = list(product(_dxs, _dys))\n",
    "\n",
    "# u1_exp = np.sum(np.array(_us) * pi_1.reshape(-1, 1), axis=0)\n",
    "# u2_exp = np.sum(np.array(_us) * pi_2.reshape(-1, 1), axis=0)\n",
    "\n",
    "# distance_to_gt_8 = np.mean([np.linalg.norm(GT_action_1 - u1_exp), np.linalg.norm(GT_action_2 - u2_exp)])\n",
    "\n",
    "norm_diff_1 = np.linalg.norm(np.array(_us) - GT_action_1, axis=1)\n",
    "norm_diff_2 = np.linalg.norm(np.array(_us) - GT_action_2, axis=1)\n",
    "\n",
    "distance_to_gt_8 = norm_diff_1.dot(pi_1) + norm_diff_2.dot(pi_2)"
   ]
  },
  {
   "cell_type": "code",
   "execution_count": 49,
   "id": "5012d636-da76-4dc1-a620-28159902a509",
   "metadata": {},
   "outputs": [
    {
     "data": {
      "text/plain": [
       "0.37464195668540257"
      ]
     },
     "execution_count": 49,
     "metadata": {},
     "output_type": "execute_result"
    }
   ],
   "source": [
    "distance_to_gt_8"
   ]
  },
  {
   "cell_type": "code",
   "execution_count": 37,
   "id": "b02f1a40-69c2-4e4a-bffb-2e11e47ba937",
   "metadata": {},
   "outputs": [
    {
     "name": "stderr",
     "output_type": "stream",
     "text": [
      "20it [01:25,  4.25s/it]"
     ]
    },
    {
     "name": "stdout",
     "output_type": "stream",
     "text": [
      "Exploitability: 0.1488812995284754\n"
     ]
    },
    {
     "name": "stderr",
     "output_type": "stream",
     "text": [
      "40it [03:01,  4.23s/it]"
     ]
    },
    {
     "name": "stdout",
     "output_type": "stream",
     "text": [
      "Exploitability: 0.08984875072011522\n"
     ]
    },
    {
     "name": "stderr",
     "output_type": "stream",
     "text": [
      "60it [04:38,  4.50s/it]"
     ]
    },
    {
     "name": "stdout",
     "output_type": "stream",
     "text": [
      "Exploitability: 0.06216912555902909\n"
     ]
    },
    {
     "name": "stderr",
     "output_type": "stream",
     "text": [
      "80it [06:13,  4.27s/it]"
     ]
    },
    {
     "name": "stdout",
     "output_type": "stream",
     "text": [
      "Exploitability: 0.04846874215165031\n"
     ]
    },
    {
     "name": "stderr",
     "output_type": "stream",
     "text": [
      "100it [07:49,  4.24s/it]"
     ]
    },
    {
     "name": "stdout",
     "output_type": "stream",
     "text": [
      "Exploitability: 0.03940908192859682\n"
     ]
    },
    {
     "name": "stderr",
     "output_type": "stream",
     "text": [
      "120it [09:25,  4.32s/it]"
     ]
    },
    {
     "name": "stdout",
     "output_type": "stream",
     "text": [
      "Exploitability: 0.032590985594077915\n"
     ]
    },
    {
     "name": "stderr",
     "output_type": "stream",
     "text": [
      "140it [11:00,  4.26s/it]"
     ]
    },
    {
     "name": "stdout",
     "output_type": "stream",
     "text": [
      "Exploitability: 0.027176645192682702\n"
     ]
    },
    {
     "name": "stderr",
     "output_type": "stream",
     "text": [
      "160it [12:36,  4.24s/it]"
     ]
    },
    {
     "name": "stdout",
     "output_type": "stream",
     "text": [
      "Exploitability: 0.023151083719910703\n"
     ]
    },
    {
     "name": "stderr",
     "output_type": "stream",
     "text": [
      "180it [14:12,  4.30s/it]"
     ]
    },
    {
     "name": "stdout",
     "output_type": "stream",
     "text": [
      "Exploitability: 0.020195432122964818\n"
     ]
    },
    {
     "name": "stderr",
     "output_type": "stream",
     "text": [
      "200it [15:48,  4.22s/it]"
     ]
    },
    {
     "name": "stdout",
     "output_type": "stream",
     "text": [
      "Exploitability: 0.017896901096184914\n"
     ]
    },
    {
     "name": "stderr",
     "output_type": "stream",
     "text": [
      "220it [17:24,  4.23s/it]"
     ]
    },
    {
     "name": "stdout",
     "output_type": "stream",
     "text": [
      "Exploitability: 0.016016603496906145\n"
     ]
    },
    {
     "name": "stderr",
     "output_type": "stream",
     "text": [
      "240it [19:00,  4.24s/it]"
     ]
    },
    {
     "name": "stdout",
     "output_type": "stream",
     "text": [
      "Exploitability: 0.014421876572992098\n"
     ]
    },
    {
     "name": "stderr",
     "output_type": "stream",
     "text": [
      "260it [20:36,  4.30s/it]"
     ]
    },
    {
     "name": "stdout",
     "output_type": "stream",
     "text": [
      "Exploitability: 0.013141872918437936\n"
     ]
    },
    {
     "name": "stderr",
     "output_type": "stream",
     "text": [
      "280it [22:15,  4.38s/it]"
     ]
    },
    {
     "name": "stdout",
     "output_type": "stream",
     "text": [
      "Exploitability: 0.012117583869697413\n"
     ]
    },
    {
     "name": "stderr",
     "output_type": "stream",
     "text": [
      "300it [23:50,  4.20s/it]"
     ]
    },
    {
     "name": "stdout",
     "output_type": "stream",
     "text": [
      "Exploitability: 0.011283213674992298\n"
     ]
    },
    {
     "name": "stderr",
     "output_type": "stream",
     "text": [
      "320it [25:25,  4.23s/it]"
     ]
    },
    {
     "name": "stdout",
     "output_type": "stream",
     "text": [
      "Exploitability: 0.010592828147005795\n"
     ]
    },
    {
     "name": "stderr",
     "output_type": "stream",
     "text": [
      "340it [26:59,  4.22s/it]"
     ]
    },
    {
     "name": "stdout",
     "output_type": "stream",
     "text": [
      "Exploitability: 0.010013570278601724\n"
     ]
    },
    {
     "name": "stderr",
     "output_type": "stream",
     "text": [
      "360it [28:34,  4.25s/it]"
     ]
    },
    {
     "name": "stdout",
     "output_type": "stream",
     "text": [
      "Exploitability: 0.009521433257451806\n"
     ]
    },
    {
     "name": "stderr",
     "output_type": "stream",
     "text": [
      "380it [30:09,  4.26s/it]"
     ]
    },
    {
     "name": "stdout",
     "output_type": "stream",
     "text": [
      "Exploitability: 0.009098545657025725\n"
     ]
    },
    {
     "name": "stderr",
     "output_type": "stream",
     "text": [
      "400it [31:44,  4.22s/it]"
     ]
    },
    {
     "name": "stdout",
     "output_type": "stream",
     "text": [
      "Exploitability: 0.008731380721323179\n"
     ]
    },
    {
     "name": "stderr",
     "output_type": "stream",
     "text": [
      "420it [33:19,  4.24s/it]"
     ]
    },
    {
     "name": "stdout",
     "output_type": "stream",
     "text": [
      "Exploitability: 0.008409546982187988\n"
     ]
    },
    {
     "name": "stderr",
     "output_type": "stream",
     "text": [
      "440it [34:55,  4.30s/it]"
     ]
    },
    {
     "name": "stdout",
     "output_type": "stream",
     "text": [
      "Exploitability: 0.008124954115960037\n"
     ]
    },
    {
     "name": "stderr",
     "output_type": "stream",
     "text": [
      "460it [36:32,  4.29s/it]"
     ]
    },
    {
     "name": "stdout",
     "output_type": "stream",
     "text": [
      "Exploitability: 0.007871226643290985\n"
     ]
    },
    {
     "name": "stderr",
     "output_type": "stream",
     "text": [
      "480it [38:08,  4.29s/it]"
     ]
    },
    {
     "name": "stdout",
     "output_type": "stream",
     "text": [
      "Exploitability: 0.007643284746764789\n"
     ]
    },
    {
     "name": "stderr",
     "output_type": "stream",
     "text": [
      "500it [39:45,  4.41s/it]"
     ]
    },
    {
     "name": "stdout",
     "output_type": "stream",
     "text": [
      "Exploitability: 0.007437039899756415\n"
     ]
    },
    {
     "name": "stderr",
     "output_type": "stream",
     "text": [
      "520it [41:22,  4.43s/it]"
     ]
    },
    {
     "name": "stdout",
     "output_type": "stream",
     "text": [
      "Exploitability: 0.00724917072213882\n"
     ]
    },
    {
     "name": "stderr",
     "output_type": "stream",
     "text": [
      "540it [42:58,  4.36s/it]"
     ]
    },
    {
     "name": "stdout",
     "output_type": "stream",
     "text": [
      "Exploitability: 0.007076955771690541\n"
     ]
    },
    {
     "name": "stderr",
     "output_type": "stream",
     "text": [
      "560it [44:34,  4.29s/it]"
     ]
    },
    {
     "name": "stdout",
     "output_type": "stream",
     "text": [
      "Exploitability: 0.006918147319605938\n"
     ]
    },
    {
     "name": "stderr",
     "output_type": "stream",
     "text": [
      "580it [46:10,  4.24s/it]"
     ]
    },
    {
     "name": "stdout",
     "output_type": "stream",
     "text": [
      "Exploitability: 0.0067708750154342745\n"
     ]
    },
    {
     "name": "stderr",
     "output_type": "stream",
     "text": [
      "600it [47:47,  4.28s/it]"
     ]
    },
    {
     "name": "stdout",
     "output_type": "stream",
     "text": [
      "Exploitability: 0.006633571614323319\n"
     ]
    },
    {
     "name": "stderr",
     "output_type": "stream",
     "text": [
      "620it [49:22,  4.26s/it]"
     ]
    },
    {
     "name": "stdout",
     "output_type": "stream",
     "text": [
      "Exploitability: 0.006504915171750669\n"
     ]
    },
    {
     "name": "stderr",
     "output_type": "stream",
     "text": [
      "640it [50:58,  4.26s/it]"
     ]
    },
    {
     "name": "stdout",
     "output_type": "stream",
     "text": [
      "Exploitability: 0.0063837836575041385\n"
     ]
    },
    {
     "name": "stderr",
     "output_type": "stream",
     "text": [
      "660it [52:34,  4.29s/it]"
     ]
    },
    {
     "name": "stdout",
     "output_type": "stream",
     "text": [
      "Exploitability: 0.006269219026389994\n"
     ]
    },
    {
     "name": "stderr",
     "output_type": "stream",
     "text": [
      "680it [54:11,  4.30s/it]"
     ]
    },
    {
     "name": "stdout",
     "output_type": "stream",
     "text": [
      "Exploitability: 0.006160398554663549\n"
     ]
    },
    {
     "name": "stderr",
     "output_type": "stream",
     "text": [
      "700it [55:47,  4.31s/it]"
     ]
    },
    {
     "name": "stdout",
     "output_type": "stream",
     "text": [
      "Exploitability: 0.00605661180567707\n"
     ]
    },
    {
     "name": "stderr",
     "output_type": "stream",
     "text": [
      "720it [57:23,  4.26s/it]"
     ]
    },
    {
     "name": "stdout",
     "output_type": "stream",
     "text": [
      "Exploitability: 0.005957241991012219\n"
     ]
    },
    {
     "name": "stderr",
     "output_type": "stream",
     "text": [
      "740it [59:02,  4.42s/it]"
     ]
    },
    {
     "name": "stdout",
     "output_type": "stream",
     "text": [
      "Exploitability: 0.0058617507888959475\n"
     ]
    },
    {
     "name": "stderr",
     "output_type": "stream",
     "text": [
      "760it [1:00:40,  4.51s/it]"
     ]
    },
    {
     "name": "stdout",
     "output_type": "stream",
     "text": [
      "Exploitability: 0.005769665900488219\n"
     ]
    },
    {
     "name": "stderr",
     "output_type": "stream",
     "text": [
      "780it [1:02:18,  4.31s/it]"
     ]
    },
    {
     "name": "stdout",
     "output_type": "stream",
     "text": [
      "Exploitability: 0.005680570788137995\n"
     ]
    },
    {
     "name": "stderr",
     "output_type": "stream",
     "text": [
      "800it [1:03:56,  4.29s/it]"
     ]
    },
    {
     "name": "stdout",
     "output_type": "stream",
     "text": [
      "Exploitability: 0.005594096162786499\n"
     ]
    },
    {
     "name": "stderr",
     "output_type": "stream",
     "text": [
      "820it [1:05:33,  4.39s/it]"
     ]
    },
    {
     "name": "stdout",
     "output_type": "stream",
     "text": [
      "Exploitability: 0.005509912881165202\n"
     ]
    },
    {
     "name": "stderr",
     "output_type": "stream",
     "text": [
      "840it [1:07:11,  4.39s/it]"
     ]
    },
    {
     "name": "stdout",
     "output_type": "stream",
     "text": [
      "Exploitability: 0.0054277259848738435\n"
     ]
    },
    {
     "name": "stderr",
     "output_type": "stream",
     "text": [
      "860it [1:08:51,  4.47s/it]"
     ]
    },
    {
     "name": "stdout",
     "output_type": "stream",
     "text": [
      "Exploitability: 0.005347269668369403\n"
     ]
    },
    {
     "name": "stderr",
     "output_type": "stream",
     "text": [
      "880it [1:10:31,  4.50s/it]"
     ]
    },
    {
     "name": "stdout",
     "output_type": "stream",
     "text": [
      "Exploitability: 0.005268303005508623\n"
     ]
    },
    {
     "name": "stderr",
     "output_type": "stream",
     "text": [
      "900it [1:12:10,  4.47s/it]"
     ]
    },
    {
     "name": "stdout",
     "output_type": "stream",
     "text": [
      "Exploitability: 0.005190606297388434\n"
     ]
    },
    {
     "name": "stderr",
     "output_type": "stream",
     "text": [
      "920it [1:13:48,  4.35s/it]"
     ]
    },
    {
     "name": "stdout",
     "output_type": "stream",
     "text": [
      "Exploitability: 0.005113977930199853\n"
     ]
    },
    {
     "name": "stderr",
     "output_type": "stream",
     "text": [
      "940it [1:15:27,  4.38s/it]"
     ]
    },
    {
     "name": "stdout",
     "output_type": "stream",
     "text": [
      "Exploitability: 0.00503823165214734\n"
     ]
    },
    {
     "name": "stderr",
     "output_type": "stream",
     "text": [
      "960it [1:17:03,  4.21s/it]"
     ]
    },
    {
     "name": "stdout",
     "output_type": "stream",
     "text": [
      "Exploitability: 0.004963194194566922\n"
     ]
    },
    {
     "name": "stderr",
     "output_type": "stream",
     "text": [
      "980it [1:18:39,  4.31s/it]"
     ]
    },
    {
     "name": "stdout",
     "output_type": "stream",
     "text": [
      "Exploitability: 0.004888703175002118\n"
     ]
    },
    {
     "name": "stderr",
     "output_type": "stream",
     "text": [
      "1000it [1:20:17,  4.55s/it]"
     ]
    },
    {
     "name": "stdout",
     "output_type": "stream",
     "text": [
      "Exploitability: 0.004814605229982227\n"
     ]
    },
    {
     "name": "stderr",
     "output_type": "stream",
     "text": [
      "1020it [1:21:53,  4.23s/it]"
     ]
    },
    {
     "name": "stdout",
     "output_type": "stream",
     "text": [
      "Exploitability: 0.004740754333068198\n"
     ]
    },
    {
     "name": "stderr",
     "output_type": "stream",
     "text": [
      "1040it [1:23:29,  4.24s/it]"
     ]
    },
    {
     "name": "stdout",
     "output_type": "stream",
     "text": [
      "Exploitability: 0.0046670102597661245\n"
     ]
    },
    {
     "name": "stderr",
     "output_type": "stream",
     "text": [
      "1060it [1:25:05,  4.19s/it]"
     ]
    },
    {
     "name": "stdout",
     "output_type": "stream",
     "text": [
      "Exploitability: 0.004593237165544606\n"
     ]
    },
    {
     "name": "stderr",
     "output_type": "stream",
     "text": [
      "1080it [1:26:40,  4.28s/it]"
     ]
    },
    {
     "name": "stdout",
     "output_type": "stream",
     "text": [
      "Exploitability: 0.004519302246525303\n"
     ]
    },
    {
     "name": "stderr",
     "output_type": "stream",
     "text": [
      "1100it [1:28:16,  4.34s/it]"
     ]
    },
    {
     "name": "stdout",
     "output_type": "stream",
     "text": [
      "Exploitability: 0.00444507445468767\n"
     ]
    },
    {
     "name": "stderr",
     "output_type": "stream",
     "text": [
      "1120it [1:29:54,  4.32s/it]"
     ]
    },
    {
     "name": "stdout",
     "output_type": "stream",
     "text": [
      "Exploitability: 0.0043704232406746035\n"
     ]
    },
    {
     "name": "stderr",
     "output_type": "stream",
     "text": [
      "1140it [1:31:29,  4.22s/it]"
     ]
    },
    {
     "name": "stdout",
     "output_type": "stream",
     "text": [
      "Exploitability: 0.004295217297553222\n"
     ]
    },
    {
     "name": "stderr",
     "output_type": "stream",
     "text": [
      "1160it [1:33:05,  4.31s/it]"
     ]
    },
    {
     "name": "stdout",
     "output_type": "stream",
     "text": [
      "Exploitability: 0.004220175904148915\n"
     ]
    },
    {
     "name": "stderr",
     "output_type": "stream",
     "text": [
      "1180it [1:34:42,  4.33s/it]"
     ]
    },
    {
     "name": "stdout",
     "output_type": "stream",
     "text": [
      "Exploitability: 0.004147709628577356\n"
     ]
    },
    {
     "name": "stderr",
     "output_type": "stream",
     "text": [
      "1200it [1:36:19,  4.36s/it]"
     ]
    },
    {
     "name": "stdout",
     "output_type": "stream",
     "text": [
      "Exploitability: 0.004077803585891049\n"
     ]
    },
    {
     "name": "stderr",
     "output_type": "stream",
     "text": [
      "1220it [1:37:56,  4.30s/it]"
     ]
    },
    {
     "name": "stdout",
     "output_type": "stream",
     "text": [
      "Exploitability: 0.004010281592565557\n"
     ]
    },
    {
     "name": "stderr",
     "output_type": "stream",
     "text": [
      "1240it [1:39:35,  4.32s/it]"
     ]
    },
    {
     "name": "stdout",
     "output_type": "stream",
     "text": [
      "Exploitability: 0.003944981232287814\n"
     ]
    },
    {
     "name": "stderr",
     "output_type": "stream",
     "text": [
      "1260it [1:41:12,  4.32s/it]"
     ]
    },
    {
     "name": "stdout",
     "output_type": "stream",
     "text": [
      "Exploitability: 0.0038817525442831347\n"
     ]
    },
    {
     "name": "stderr",
     "output_type": "stream",
     "text": [
      "1280it [1:42:50,  4.25s/it]"
     ]
    },
    {
     "name": "stdout",
     "output_type": "stream",
     "text": [
      "Exploitability: 0.0038204568533173333\n"
     ]
    },
    {
     "name": "stderr",
     "output_type": "stream",
     "text": [
      "1300it [1:44:25,  4.26s/it]"
     ]
    },
    {
     "name": "stdout",
     "output_type": "stream",
     "text": [
      "Exploitability: 0.0037609657240260663\n"
     ]
    },
    {
     "name": "stderr",
     "output_type": "stream",
     "text": [
      "1320it [1:46:03,  4.24s/it]"
     ]
    },
    {
     "name": "stdout",
     "output_type": "stream",
     "text": [
      "Exploitability: 0.003703160024589036\n"
     ]
    },
    {
     "name": "stderr",
     "output_type": "stream",
     "text": [
      "1340it [1:47:40,  4.36s/it]"
     ]
    },
    {
     "name": "stdout",
     "output_type": "stream",
     "text": [
      "Exploitability: 0.0036469290867581217\n"
     ]
    },
    {
     "name": "stderr",
     "output_type": "stream",
     "text": [
      "1360it [1:49:16,  4.34s/it]"
     ]
    },
    {
     "name": "stdout",
     "output_type": "stream",
     "text": [
      "Exploitability: 0.003592169950937918\n"
     ]
    },
    {
     "name": "stderr",
     "output_type": "stream",
     "text": [
      "1380it [1:50:53,  4.38s/it]"
     ]
    },
    {
     "name": "stdout",
     "output_type": "stream",
     "text": [
      "Exploitability: 0.003538786686489326\n"
     ]
    },
    {
     "name": "stderr",
     "output_type": "stream",
     "text": [
      "1400it [1:52:31,  4.39s/it]"
     ]
    },
    {
     "name": "stdout",
     "output_type": "stream",
     "text": [
      "Exploitability: 0.003486689778678498\n"
     ]
    },
    {
     "name": "stderr",
     "output_type": "stream",
     "text": [
      "1420it [1:54:08,  4.31s/it]"
     ]
    },
    {
     "name": "stdout",
     "output_type": "stream",
     "text": [
      "Exploitability: 0.0034357955747500446\n"
     ]
    },
    {
     "name": "stderr",
     "output_type": "stream",
     "text": [
      "1440it [1:55:47,  4.36s/it]"
     ]
    },
    {
     "name": "stdout",
     "output_type": "stream",
     "text": [
      "Exploitability: 0.003386025782555535\n"
     ]
    },
    {
     "name": "stderr",
     "output_type": "stream",
     "text": [
      "1460it [1:57:26,  4.46s/it]"
     ]
    },
    {
     "name": "stdout",
     "output_type": "stream",
     "text": [
      "Exploitability: 0.0033373070159548046\n"
     ]
    },
    {
     "name": "stderr",
     "output_type": "stream",
     "text": [
      "1480it [1:59:03,  4.23s/it]"
     ]
    },
    {
     "name": "stdout",
     "output_type": "stream",
     "text": [
      "Exploitability: 0.003289570381895923\n"
     ]
    },
    {
     "name": "stderr",
     "output_type": "stream",
     "text": [
      "1500it [2:00:39,  4.32s/it]"
     ]
    },
    {
     "name": "stdout",
     "output_type": "stream",
     "text": [
      "Exploitability: 0.0032427511046934088\n"
     ]
    },
    {
     "name": "stderr",
     "output_type": "stream",
     "text": [
      "1520it [2:02:13,  4.21s/it]"
     ]
    },
    {
     "name": "stdout",
     "output_type": "stream",
     "text": [
      "Exploitability: 0.003196788183539523\n"
     ]
    },
    {
     "name": "stderr",
     "output_type": "stream",
     "text": [
      "1540it [2:03:49,  4.38s/it]"
     ]
    },
    {
     "name": "stdout",
     "output_type": "stream",
     "text": [
      "Exploitability: 0.0031516240797276884\n"
     ]
    },
    {
     "name": "stderr",
     "output_type": "stream",
     "text": [
      "1560it [2:05:24,  4.22s/it]"
     ]
    },
    {
     "name": "stdout",
     "output_type": "stream",
     "text": [
      "Exploitability: 0.003107204430481847\n"
     ]
    },
    {
     "name": "stderr",
     "output_type": "stream",
     "text": [
      "1580it [2:07:01,  4.28s/it]"
     ]
    },
    {
     "name": "stdout",
     "output_type": "stream",
     "text": [
      "Exploitability: 0.0030634777866097584\n"
     ]
    },
    {
     "name": "stderr",
     "output_type": "stream",
     "text": [
      "1600it [2:08:36,  4.24s/it]"
     ]
    },
    {
     "name": "stdout",
     "output_type": "stream",
     "text": [
      "Exploitability: 0.0030203953715149945\n"
     ]
    },
    {
     "name": "stderr",
     "output_type": "stream",
     "text": [
      "1620it [2:10:14,  4.36s/it]"
     ]
    },
    {
     "name": "stdout",
     "output_type": "stream",
     "text": [
      "Exploitability: 0.0029779108593539494\n"
     ]
    },
    {
     "name": "stderr",
     "output_type": "stream",
     "text": [
      "1640it [2:11:52,  4.44s/it]"
     ]
    },
    {
     "name": "stdout",
     "output_type": "stream",
     "text": [
      "Exploitability: 0.002935980170366559\n"
     ]
    },
    {
     "name": "stderr",
     "output_type": "stream",
     "text": [
      "1660it [2:13:29,  4.29s/it]"
     ]
    },
    {
     "name": "stdout",
     "output_type": "stream",
     "text": [
      "Exploitability: 0.0028945612815887145\n"
     ]
    },
    {
     "name": "stderr",
     "output_type": "stream",
     "text": [
      "1680it [2:15:07,  4.31s/it]"
     ]
    },
    {
     "name": "stdout",
     "output_type": "stream",
     "text": [
      "Exploitability: 0.0028536140513668595\n"
     ]
    },
    {
     "name": "stderr",
     "output_type": "stream",
     "text": [
      "1700it [2:16:45,  4.40s/it]"
     ]
    },
    {
     "name": "stdout",
     "output_type": "stream",
     "text": [
      "Exploitability: 0.0028131000562117148\n"
     ]
    },
    {
     "name": "stderr",
     "output_type": "stream",
     "text": [
      "1720it [2:18:20,  4.24s/it]"
     ]
    },
    {
     "name": "stdout",
     "output_type": "stream",
     "text": [
      "Exploitability: 0.0027729824386806268\n"
     ]
    },
    {
     "name": "stderr",
     "output_type": "stream",
     "text": [
      "1740it [2:19:56,  4.27s/it]"
     ]
    },
    {
     "name": "stdout",
     "output_type": "stream",
     "text": [
      "Exploitability: 0.002733225765106706\n"
     ]
    },
    {
     "name": "stderr",
     "output_type": "stream",
     "text": [
      "1760it [2:21:33,  4.23s/it]"
     ]
    },
    {
     "name": "stdout",
     "output_type": "stream",
     "text": [
      "Exploitability: 0.002693795892064199\n"
     ]
    },
    {
     "name": "stderr",
     "output_type": "stream",
     "text": [
      "1780it [2:23:11,  4.34s/it]"
     ]
    },
    {
     "name": "stdout",
     "output_type": "stream",
     "text": [
      "Exploitability: 0.002654659840579998\n"
     ]
    },
    {
     "name": "stderr",
     "output_type": "stream",
     "text": [
      "1800it [2:24:46,  4.27s/it]"
     ]
    },
    {
     "name": "stdout",
     "output_type": "stream",
     "text": [
      "Exploitability: 0.002615785677160809\n"
     ]
    },
    {
     "name": "stderr",
     "output_type": "stream",
     "text": [
      "1820it [2:26:24,  4.49s/it]"
     ]
    },
    {
     "name": "stdout",
     "output_type": "stream",
     "text": [
      "Exploitability: 0.002577142400764232\n"
     ]
    },
    {
     "name": "stderr",
     "output_type": "stream",
     "text": [
      "1840it [2:28:07,  4.64s/it]"
     ]
    },
    {
     "name": "stdout",
     "output_type": "stream",
     "text": [
      "Exploitability: 0.0025386998349169465\n"
     ]
    },
    {
     "name": "stderr",
     "output_type": "stream",
     "text": [
      "1860it [2:29:44,  4.37s/it]"
     ]
    },
    {
     "name": "stdout",
     "output_type": "stream",
     "text": [
      "Exploitability: 0.0025004285242067326\n"
     ]
    },
    {
     "name": "stderr",
     "output_type": "stream",
     "text": [
      "1880it [2:31:21,  4.35s/it]"
     ]
    },
    {
     "name": "stdout",
     "output_type": "stream",
     "text": [
      "Exploitability: 0.0024622996344203507\n"
     ]
    },
    {
     "name": "stderr",
     "output_type": "stream",
     "text": [
      "1900it [2:32:59,  4.43s/it]"
     ]
    },
    {
     "name": "stdout",
     "output_type": "stream",
     "text": [
      "Exploitability: 0.002424284855631509\n"
     ]
    },
    {
     "name": "stderr",
     "output_type": "stream",
     "text": [
      "1920it [2:34:37,  4.33s/it]"
     ]
    },
    {
     "name": "stdout",
     "output_type": "stream",
     "text": [
      "Exploitability: 0.002386356307547688\n"
     ]
    },
    {
     "name": "stderr",
     "output_type": "stream",
     "text": [
      "1940it [2:36:16,  4.41s/it]"
     ]
    },
    {
     "name": "stdout",
     "output_type": "stream",
     "text": [
      "Exploitability: 0.0023484864464387023\n"
     ]
    },
    {
     "name": "stderr",
     "output_type": "stream",
     "text": [
      "1960it [2:37:54,  4.47s/it]"
     ]
    },
    {
     "name": "stdout",
     "output_type": "stream",
     "text": [
      "Exploitability: 0.0023106479729883\n"
     ]
    },
    {
     "name": "stderr",
     "output_type": "stream",
     "text": [
      "1980it [2:39:31,  4.31s/it]"
     ]
    },
    {
     "name": "stdout",
     "output_type": "stream",
     "text": [
      "Exploitability: 0.0022728137403689175\n"
     ]
    },
    {
     "name": "stderr",
     "output_type": "stream",
     "text": [
      "2000it [2:41:09,  4.38s/it]"
     ]
    },
    {
     "name": "stdout",
     "output_type": "stream",
     "text": [
      "Exploitability: 0.002234956661857135\n"
     ]
    },
    {
     "name": "stderr",
     "output_type": "stream",
     "text": [
      "2020it [2:42:48,  4.62s/it]"
     ]
    },
    {
     "name": "stdout",
     "output_type": "stream",
     "text": [
      "Exploitability: 0.002197049617246316\n"
     ]
    },
    {
     "name": "stderr",
     "output_type": "stream",
     "text": [
      "2040it [2:44:28,  4.39s/it]"
     ]
    },
    {
     "name": "stdout",
     "output_type": "stream",
     "text": [
      "Exploitability: 0.002159065357312251\n"
     ]
    },
    {
     "name": "stderr",
     "output_type": "stream",
     "text": [
      "2060it [2:46:03,  4.26s/it]"
     ]
    },
    {
     "name": "stdout",
     "output_type": "stream",
     "text": [
      "Exploitability: 0.0021209764054977986\n"
     ]
    },
    {
     "name": "stderr",
     "output_type": "stream",
     "text": [
      "2080it [2:47:39,  4.27s/it]"
     ]
    },
    {
     "name": "stdout",
     "output_type": "stream",
     "text": [
      "Exploitability: 0.0020827549559423453\n"
     ]
    },
    {
     "name": "stderr",
     "output_type": "stream",
     "text": [
      "2100it [2:49:15,  4.23s/it]"
     ]
    },
    {
     "name": "stdout",
     "output_type": "stream",
     "text": [
      "Exploitability: 0.0020443727668920664\n"
     ]
    },
    {
     "name": "stderr",
     "output_type": "stream",
     "text": [
      "2120it [2:50:53,  4.32s/it]"
     ]
    },
    {
     "name": "stdout",
     "output_type": "stream",
     "text": [
      "Exploitability: 0.002006070707323948\n"
     ]
    },
    {
     "name": "stderr",
     "output_type": "stream",
     "text": [
      "2140it [2:52:28,  4.30s/it]"
     ]
    },
    {
     "name": "stdout",
     "output_type": "stream",
     "text": [
      "Exploitability: 0.001968757951541389\n"
     ]
    },
    {
     "name": "stderr",
     "output_type": "stream",
     "text": [
      "2160it [2:54:04,  4.23s/it]"
     ]
    },
    {
     "name": "stdout",
     "output_type": "stream",
     "text": [
      "Exploitability: 0.0019324766176702646\n"
     ]
    },
    {
     "name": "stderr",
     "output_type": "stream",
     "text": [
      "2180it [2:55:40,  4.34s/it]"
     ]
    },
    {
     "name": "stdout",
     "output_type": "stream",
     "text": [
      "Exploitability: 0.0018971890381264123\n"
     ]
    },
    {
     "name": "stderr",
     "output_type": "stream",
     "text": [
      "2200it [2:57:21,  4.48s/it]"
     ]
    },
    {
     "name": "stdout",
     "output_type": "stream",
     "text": [
      "Exploitability: 0.0018628592492866414\n"
     ]
    },
    {
     "name": "stderr",
     "output_type": "stream",
     "text": [
      "2220it [2:58:58,  4.29s/it]"
     ]
    },
    {
     "name": "stdout",
     "output_type": "stream",
     "text": [
      "Exploitability: 0.0018294528998170634\n"
     ]
    },
    {
     "name": "stderr",
     "output_type": "stream",
     "text": [
      "2240it [3:00:34,  4.33s/it]"
     ]
    },
    {
     "name": "stdout",
     "output_type": "stream",
     "text": [
      "Exploitability: 0.0017969371647095222\n"
     ]
    },
    {
     "name": "stderr",
     "output_type": "stream",
     "text": [
      "2260it [3:02:11,  4.44s/it]"
     ]
    },
    {
     "name": "stdout",
     "output_type": "stream",
     "text": [
      "Exploitability: 0.0017652806646162311\n"
     ]
    },
    {
     "name": "stderr",
     "output_type": "stream",
     "text": [
      "2280it [3:03:49,  4.29s/it]"
     ]
    },
    {
     "name": "stdout",
     "output_type": "stream",
     "text": [
      "Exploitability: 0.0017344533901135772\n"
     ]
    },
    {
     "name": "stderr",
     "output_type": "stream",
     "text": [
      "2300it [3:05:24,  4.18s/it]"
     ]
    },
    {
     "name": "stdout",
     "output_type": "stream",
     "text": [
      "Exploitability: 0.0017044266305570321\n"
     ]
    },
    {
     "name": "stderr",
     "output_type": "stream",
     "text": [
      "2320it [3:06:59,  4.30s/it]"
     ]
    },
    {
     "name": "stdout",
     "output_type": "stream",
     "text": [
      "Exploitability: 0.0016751729072070898\n"
     ]
    },
    {
     "name": "stderr",
     "output_type": "stream",
     "text": [
      "2340it [3:08:32,  4.20s/it]"
     ]
    },
    {
     "name": "stdout",
     "output_type": "stream",
     "text": [
      "Exploitability: 0.0016466659103416825\n"
     ]
    },
    {
     "name": "stderr",
     "output_type": "stream",
     "text": [
      "2360it [3:10:08,  4.34s/it]"
     ]
    },
    {
     "name": "stdout",
     "output_type": "stream",
     "text": [
      "Exploitability: 0.0016188804400781853\n"
     ]
    },
    {
     "name": "stderr",
     "output_type": "stream",
     "text": [
      "2380it [3:11:44,  4.28s/it]"
     ]
    },
    {
     "name": "stdout",
     "output_type": "stream",
     "text": [
      "Exploitability: 0.0015917923506640896\n"
     ]
    },
    {
     "name": "stderr",
     "output_type": "stream",
     "text": [
      "2400it [3:13:21,  4.36s/it]"
     ]
    },
    {
     "name": "stdout",
     "output_type": "stream",
     "text": [
      "Exploitability: 0.0015653784980034224\n"
     ]
    },
    {
     "name": "stderr",
     "output_type": "stream",
     "text": [
      "2420it [3:14:58,  4.28s/it]"
     ]
    },
    {
     "name": "stdout",
     "output_type": "stream",
     "text": [
      "Exploitability: 0.0015396166902034158\n"
     ]
    },
    {
     "name": "stderr",
     "output_type": "stream",
     "text": [
      "2440it [3:16:34,  4.28s/it]"
     ]
    },
    {
     "name": "stdout",
     "output_type": "stream",
     "text": [
      "Exploitability: 0.0015144856409452512\n"
     ]
    },
    {
     "name": "stderr",
     "output_type": "stream",
     "text": [
      "2460it [3:18:10,  4.27s/it]"
     ]
    },
    {
     "name": "stdout",
     "output_type": "stream",
     "text": [
      "Exploitability: 0.001489964925504128\n"
     ]
    },
    {
     "name": "stderr",
     "output_type": "stream",
     "text": [
      "2480it [3:19:46,  4.29s/it]"
     ]
    },
    {
     "name": "stdout",
     "output_type": "stream",
     "text": [
      "Exploitability: 0.0014660349392311423\n"
     ]
    },
    {
     "name": "stderr",
     "output_type": "stream",
     "text": [
      "2500it [3:21:23,  4.28s/it]"
     ]
    },
    {
     "name": "stdout",
     "output_type": "stream",
     "text": [
      "Exploitability: 0.0014426768583601923\n"
     ]
    },
    {
     "name": "stderr",
     "output_type": "stream",
     "text": [
      "2520it [3:22:59,  4.28s/it]"
     ]
    },
    {
     "name": "stdout",
     "output_type": "stream",
     "text": [
      "Exploitability: 0.0014198726029759356\n"
     ]
    },
    {
     "name": "stderr",
     "output_type": "stream",
     "text": [
      "2540it [3:24:36,  4.28s/it]"
     ]
    },
    {
     "name": "stdout",
     "output_type": "stream",
     "text": [
      "Exploitability: 0.0013976048020181153\n"
     ]
    },
    {
     "name": "stderr",
     "output_type": "stream",
     "text": [
      "2560it [3:26:13,  4.31s/it]"
     ]
    },
    {
     "name": "stdout",
     "output_type": "stream",
     "text": [
      "Exploitability: 0.001375856760191696\n"
     ]
    },
    {
     "name": "stderr",
     "output_type": "stream",
     "text": [
      "2580it [3:27:50,  4.35s/it]"
     ]
    },
    {
     "name": "stdout",
     "output_type": "stream",
     "text": [
      "Exploitability: 0.0013546124266623494\n"
     ]
    },
    {
     "name": "stderr",
     "output_type": "stream",
     "text": [
      "2600it [3:29:27,  4.29s/it]"
     ]
    },
    {
     "name": "stdout",
     "output_type": "stream",
     "text": [
      "Exploitability: 0.001333856365436037\n"
     ]
    },
    {
     "name": "stderr",
     "output_type": "stream",
     "text": [
      "2620it [3:31:04,  4.24s/it]"
     ]
    },
    {
     "name": "stdout",
     "output_type": "stream",
     "text": [
      "Exploitability: 0.0013135737273077819\n"
     ]
    },
    {
     "name": "stderr",
     "output_type": "stream",
     "text": [
      "2640it [3:32:39,  4.24s/it]"
     ]
    },
    {
     "name": "stdout",
     "output_type": "stream",
     "text": [
      "Exploitability: 0.0012937502232992504\n"
     ]
    },
    {
     "name": "stderr",
     "output_type": "stream",
     "text": [
      "2660it [3:34:16,  4.26s/it]"
     ]
    },
    {
     "name": "stdout",
     "output_type": "stream",
     "text": [
      "Exploitability: 0.0012743720994843333\n"
     ]
    },
    {
     "name": "stderr",
     "output_type": "stream",
     "text": [
      "2680it [3:35:51,  4.35s/it]"
     ]
    },
    {
     "name": "stdout",
     "output_type": "stream",
     "text": [
      "Exploitability: 0.0012554261131259015\n"
     ]
    },
    {
     "name": "stderr",
     "output_type": "stream",
     "text": [
      "2700it [3:37:28,  4.27s/it]"
     ]
    },
    {
     "name": "stdout",
     "output_type": "stream",
     "text": [
      "Exploitability: 0.0012368995100440205\n"
     ]
    },
    {
     "name": "stderr",
     "output_type": "stream",
     "text": [
      "2720it [3:39:05,  4.23s/it]"
     ]
    },
    {
     "name": "stdout",
     "output_type": "stream",
     "text": [
      "Exploitability: 0.0012187800031475682\n"
     ]
    },
    {
     "name": "stderr",
     "output_type": "stream",
     "text": [
      "2740it [3:40:40,  4.25s/it]"
     ]
    },
    {
     "name": "stdout",
     "output_type": "stream",
     "text": [
      "Exploitability: 0.0012010557520559795\n"
     ]
    },
    {
     "name": "stderr",
     "output_type": "stream",
     "text": [
      "2760it [3:42:15,  4.22s/it]"
     ]
    },
    {
     "name": "stdout",
     "output_type": "stream",
     "text": [
      "Exploitability: 0.001183715343749725\n"
     ]
    },
    {
     "name": "stderr",
     "output_type": "stream",
     "text": [
      "2780it [3:43:53,  4.38s/it]"
     ]
    },
    {
     "name": "stdout",
     "output_type": "stream",
     "text": [
      "Exploitability: 0.0011667477741941212\n"
     ]
    },
    {
     "name": "stderr",
     "output_type": "stream",
     "text": [
      "2800it [3:45:30,  4.37s/it]"
     ]
    },
    {
     "name": "stdout",
     "output_type": "stream",
     "text": [
      "Exploitability: 0.0011501424308790753\n"
     ]
    },
    {
     "name": "stderr",
     "output_type": "stream",
     "text": [
      "2820it [3:47:06,  4.31s/it]"
     ]
    },
    {
     "name": "stdout",
     "output_type": "stream",
     "text": [
      "Exploitability: 0.0011338890762161435\n"
     ]
    },
    {
     "name": "stderr",
     "output_type": "stream",
     "text": [
      "2840it [3:48:47,  4.46s/it]"
     ]
    },
    {
     "name": "stdout",
     "output_type": "stream",
     "text": [
      "Exploitability: 0.0011179778317614852\n"
     ]
    },
    {
     "name": "stderr",
     "output_type": "stream",
     "text": [
      "2860it [3:50:27,  4.64s/it]"
     ]
    },
    {
     "name": "stdout",
     "output_type": "stream",
     "text": [
      "Exploitability: 0.0011023991631973207\n"
     ]
    },
    {
     "name": "stderr",
     "output_type": "stream",
     "text": [
      "2880it [3:52:03,  4.33s/it]"
     ]
    },
    {
     "name": "stdout",
     "output_type": "stream",
     "text": [
      "Exploitability: 0.001087143866049467\n"
     ]
    },
    {
     "name": "stderr",
     "output_type": "stream",
     "text": [
      "2900it [3:53:41,  4.40s/it]"
     ]
    },
    {
     "name": "stdout",
     "output_type": "stream",
     "text": [
      "Exploitability: 0.001072203052085774\n"
     ]
    },
    {
     "name": "stderr",
     "output_type": "stream",
     "text": [
      "2920it [3:55:18,  4.34s/it]"
     ]
    },
    {
     "name": "stdout",
     "output_type": "stream",
     "text": [
      "Exploitability: 0.0010575681363685918\n"
     ]
    },
    {
     "name": "stderr",
     "output_type": "stream",
     "text": [
      "2940it [3:56:54,  4.28s/it]"
     ]
    },
    {
     "name": "stdout",
     "output_type": "stream",
     "text": [
      "Exploitability: 0.0010432308249185285\n"
     ]
    },
    {
     "name": "stderr",
     "output_type": "stream",
     "text": [
      "2960it [3:58:30,  4.25s/it]"
     ]
    },
    {
     "name": "stdout",
     "output_type": "stream",
     "text": [
      "Exploitability: 0.0010291831029616283\n"
     ]
    },
    {
     "name": "stderr",
     "output_type": "stream",
     "text": [
      "2980it [4:00:05,  4.26s/it]"
     ]
    },
    {
     "name": "stdout",
     "output_type": "stream",
     "text": [
      "Exploitability: 0.0010154172237251124\n"
     ]
    },
    {
     "name": "stderr",
     "output_type": "stream",
     "text": [
      "3000it [4:01:40,  4.33s/it]"
     ]
    },
    {
     "name": "stdout",
     "output_type": "stream",
     "text": [
      "Exploitability: 0.0010019256977558122\n"
     ]
    },
    {
     "name": "stderr",
     "output_type": "stream",
     "text": [
      "3020it [4:03:26,  4.84s/it]"
     ]
    },
    {
     "name": "stdout",
     "output_type": "stream",
     "text": [
      "Exploitability: 0.000988701282730986\n",
      "Total Time: 14606.512726068497\n"
     ]
    },
    {
     "name": "stderr",
     "output_type": "stream",
     "text": [
      "\n"
     ]
    }
   ],
   "source": [
    "n = 12\n",
    "\n",
    "import hexner_last_step_n_12\n",
    "\n",
    "initial_state = [-0.5, 0., 0., 0., 0.5, 0., 0., 0., 0.5]\n",
    "game = pyspiel.convert_to_turn_based(hexner_last_step_n_12.HexnerGame(initial_state=initial_state))\n",
    "cfr_solver= cfr.CFRPlusSolver(game)\n",
    "\n",
    "i = 0\n",
    "exps = 1e6\n",
    "time_in = time.time()\n",
    "with tqdm() as pbar:\n",
    "    while exps > 1e-3:\n",
    "        cfr_solver.evaluate_and_update_policy()\n",
    "        av_policy = cfr_solver.average_policy()\n",
    "        i += 1\n",
    "        pbar.update(1)\n",
    "        if i % 20 == 0:\n",
    "            # exps = exploitability.exploitability(game, av_policy)\n",
    "            exps = exploitability.nash_conv(game, av_policy, return_only_nash_conv=False).player_improvements[0]\n",
    "            print(f'Exploitability: {exps}')\n",
    "time_out = time.time()\n",
    "\n",
    "print('Total Time:', time_out - time_in)\n",
    "\n",
    "av_policy_dict = av_policy.to_dict()\n",
    "\n",
    "av_policy_dict = av_policy.to_dict()\n",
    "av_policy_dict.keys()\n",
    "\n",
    "pi_1 = av_policy_dict['Current player: 0\\nGoal:1 us: op:']\n",
    "pi_2 = av_policy_dict['Current player: 0\\nGoal:2 us: op:']\n",
    "\n",
    "pi_1 = np.array(pi_1)[:, 1]\n",
    "pi_2 = np.array(pi_2)[:, 1]\n",
    "\n",
    "ux_max = 0.99\n",
    "uy_max = 3.947\n",
    "dx_max = 0.99\n",
    "dy_max = 0.99\n",
    "\n",
    "_uxs = np.linspace(-ux_max, ux_max, n)\n",
    "_uys = np.linspace(-uy_max, uy_max, n)\n",
    "_dxs = np.linspace(-dx_max, dx_max, n)\n",
    "_dys = np.linspace(-dy_max, dy_max, n)\n",
    "_us = list(product(_uxs, _uys))\n",
    "_ds = list(product(_dxs, _dys))\n",
    "\n",
    "# u1_exp = np.sum(np.array(_us) * pi_1.reshape(-1, 1), axis=0)\n",
    "# u2_exp = np.sum(np.array(_us) * pi_2.reshape(-1, 1), axis=0)\n",
    "\n",
    "# distance_to_gt_12 = np.mean([np.linalg.norm(GT_action_1 - u1_exp), np.linalg.norm(GT_action_2 - u2_exp)])\n",
    "norm_diff_1 = np.linalg.norm(np.array(_us) - GT_action_1, axis=1)\n",
    "norm_diff_2 = np.linalg.norm(np.array(_us) - GT_action_2, axis=1)\n",
    "\n",
    "distance_to_gt_12 = norm_diff_1.dot(pi_1) + norm_diff_2.dot(pi_2)"
   ]
  },
  {
   "cell_type": "code",
   "execution_count": 25,
   "id": "36f4899b-205f-4ef5-9794-37071d76cf64",
   "metadata": {},
   "outputs": [
    {
     "data": {
      "text/plain": [
       "Array([0.8333333, 1.8181818], dtype=float32)"
      ]
     },
     "execution_count": 25,
     "metadata": {},
     "output_type": "execute_result"
    }
   ],
   "source": [
    "GT_action_1"
   ]
  },
  {
   "cell_type": "code",
   "execution_count": 47,
   "id": "61d64ffc-aba8-4bfa-955f-b39ff0b103f7",
   "metadata": {},
   "outputs": [
    {
     "data": {
      "text/plain": [
       "[1.0588427800973248, 0.5626169, 0.37464195668540257, 0.09866226893665803]"
      ]
     },
     "execution_count": 47,
     "metadata": {},
     "output_type": "execute_result"
    }
   ],
   "source": [
    "distances = [distance_to_gt_4, distance_to_gt_6, distance_to_gt_8, distance_to_gt_12]\n",
    "distances"
   ]
  },
  {
   "cell_type": "code",
   "execution_count": 27,
   "id": "17557cd0-06c7-4e41-992f-23442304fff4",
   "metadata": {},
   "outputs": [
    {
     "data": {
      "text/plain": [
       "([<matplotlib.axis.XTick at 0x321832400>,\n",
       "  <matplotlib.axis.XTick at 0x3218323d0>,\n",
       "  <matplotlib.axis.XTick at 0x32181dbb0>,\n",
       "  <matplotlib.axis.XTick at 0x3218bcd90>],\n",
       " [Text(16, 0, '16'),\n",
       "  Text(36, 0, '36'),\n",
       "  Text(64, 0, '64'),\n",
       "  Text(144, 0, '144')])"
      ]
     },
     "execution_count": 27,
     "metadata": {},
     "output_type": "execute_result"
    },
    {
     "data": {
      "image/png": "[encoded data removed]",
      "text/plain": [
       "<Figure size 640x480 with 1 Axes>"
      ]
     },
     "metadata": {},
     "output_type": "display_data"
    }
   ],
   "source": [
    "import numpy as np\n",
    "distances_cams = np.mean([jnp.linalg.norm(GT_action_1 - jnp.array(a_sorted[0])), jnp.linalg.norm(GT_action_2 - jnp.array(a_sorted[1]))])\n",
    "\n",
    "import matplotlib.pyplot as plt\n",
    "plt.plot([16, 36, 64, 144], distances, '-o')\n",
    "plt.plot([16, 36, 64, 144], [distances_cams]*4, '-o', color='red')\n",
    "plt.xlabel('$|\\mathcal{A}|$')\n",
    "plt.ylabel('distance to GT ($||\\cdot||_2$)')\n",
    "plt.xticks([16, 36, 64, 144])"
   ]
  },
  {
   "cell_type": "code",
   "execution_count": 28,
   "id": "d09f179f-f338-4c16-8699-023d1c19be5a",
   "metadata": {},
   "outputs": [
    {
     "data": {
      "text/plain": [
       "[0.5227844, 0.5626169, 0.12863436, 0.025771838]"
      ]
     },
     "execution_count": 28,
     "metadata": {},
     "output_type": "execute_result"
    }
   ],
   "source": [
    "distances"
   ]
  },
  {
   "cell_type": "code",
   "execution_count": 38,
   "id": "4186e16d-8cf4-4c77-b157-1ff983a2ab2b",
   "metadata": {},
   "outputs": [],
   "source": [
    "### now do it using mmd\n",
    "from open_spiel.python.algorithms import mmd_dilated\n",
    "import hexner_last_step, hexner_last_step_n_6, hexner_last_step_n_8, hexner_last_step_n_12"
   ]
  },
  {
   "cell_type": "code",
   "execution_count": 39,
   "id": "f0c5fc1a-f36f-43e1-923a-d06cd4be73e7",
   "metadata": {},
   "outputs": [],
   "source": [
    "# load all games\n",
    "game_16 = pyspiel.convert_to_turn_based(hexner_last_step.HexnerGame(initial_state=initial_state))\n",
    "game_36 = pyspiel.convert_to_turn_based(hexner_last_step_n_6.HexnerGame(initial_state=initial_state))\n",
    "game_64 = pyspiel.convert_to_turn_based(hexner_last_step_n_8.HexnerGame(initial_state=initial_state))\n",
    "game_144 = pyspiel.convert_to_turn_based(hexner_last_step_n_12.HexnerGame(initial_state=initial_state))"
   ]
  },
  {
   "cell_type": "code",
   "execution_count": 40,
   "id": "6990f8c4-20d8-46ac-8221-25ce1e12e449",
   "metadata": {},
   "outputs": [],
   "source": [
    "# prepare solvers\n",
    "mmd_solver_16 = mmd_dilated.MMDDilatedEnt(game_16, alpha=0, stepsize=40) \n",
    "mmd_solver_36 = mmd_dilated.MMDDilatedEnt(game_36, alpha=0, stepsize=40) \n",
    "mmd_solver_64 = mmd_dilated.MMDDilatedEnt(game_64, alpha=0, stepsize=40) \n",
    "mmd_solver_144 = mmd_dilated.MMDDilatedEnt(game_144, alpha=0, stepsize=40) "
   ]
  },
  {
   "cell_type": "code",
   "execution_count": 41,
   "id": "62bade82-94d4-4d84-87f3-d446c99cb244",
   "metadata": {},
   "outputs": [
    {
     "name": "stderr",
     "output_type": "stream",
     "text": [
      "8it [00:00, 11.54it/s]/Users/mghimire/miniconda3/envs/openspiel/lib/python3.9/site-packages/open_spiel/python/algorithms/mmd_dilated.py:254: RuntimeWarning: divide by zero encountered in log\n",
      "  grads[player][seq_idx] += np.log(seq / parent_seq) + 1\n",
      "24it [00:02, 10.35it/s]"
     ]
    },
    {
     "name": "stdout",
     "output_type": "stream",
     "text": [
      "Exploitability: 0.10279321630923421\n"
     ]
    },
    {
     "name": "stderr",
     "output_type": "stream",
     "text": [
      "42it [00:03,  9.55it/s]"
     ]
    },
    {
     "name": "stdout",
     "output_type": "stream",
     "text": [
      "Exploitability: 0.05265018396326704\n"
     ]
    },
    {
     "name": "stderr",
     "output_type": "stream",
     "text": [
      "64it [00:05, 10.12it/s]"
     ]
    },
    {
     "name": "stdout",
     "output_type": "stream",
     "text": [
      "Exploitability: 0.03538782856547462\n"
     ]
    },
    {
     "name": "stderr",
     "output_type": "stream",
     "text": [
      "82it [00:07,  9.58it/s]"
     ]
    },
    {
     "name": "stdout",
     "output_type": "stream",
     "text": [
      "Exploitability: 0.02665009311720934\n"
     ]
    },
    {
     "name": "stderr",
     "output_type": "stream",
     "text": [
      "104it [00:09, 10.25it/s]"
     ]
    },
    {
     "name": "stdout",
     "output_type": "stream",
     "text": [
      "Exploitability: 0.02137284695538555\n"
     ]
    },
    {
     "name": "stderr",
     "output_type": "stream",
     "text": [
      "122it [00:10,  9.38it/s]"
     ]
    },
    {
     "name": "stdout",
     "output_type": "stream",
     "text": [
      "Exploitability: 0.017840144979288874\n"
     ]
    },
    {
     "name": "stderr",
     "output_type": "stream",
     "text": [
      "142it [00:12,  9.61it/s]"
     ]
    },
    {
     "name": "stdout",
     "output_type": "stream",
     "text": [
      "Exploitability: 0.015309627960949923\n"
     ]
    },
    {
     "name": "stderr",
     "output_type": "stream",
     "text": [
      "164it [00:14, 10.17it/s]"
     ]
    },
    {
     "name": "stdout",
     "output_type": "stream",
     "text": [
      "Exploitability: 0.013407810822943733\n"
     ]
    },
    {
     "name": "stderr",
     "output_type": "stream",
     "text": [
      "182it [00:16,  9.65it/s]"
     ]
    },
    {
     "name": "stdout",
     "output_type": "stream",
     "text": [
      "Exploitability: 0.01192628476516\n"
     ]
    },
    {
     "name": "stderr",
     "output_type": "stream",
     "text": [
      "202it [00:18,  9.78it/s]"
     ]
    },
    {
     "name": "stdout",
     "output_type": "stream",
     "text": [
      "Exploitability: 0.010739589763651525\n"
     ]
    },
    {
     "name": "stderr",
     "output_type": "stream",
     "text": [
      "222it [00:19,  9.44it/s]"
     ]
    },
    {
     "name": "stdout",
     "output_type": "stream",
     "text": [
      "Exploitability: 0.009767681187755395\n"
     ]
    },
    {
     "name": "stderr",
     "output_type": "stream",
     "text": [
      "242it [00:21,  8.80it/s]"
     ]
    },
    {
     "name": "stdout",
     "output_type": "stream",
     "text": [
      "Exploitability: 0.008957085238564089\n"
     ]
    },
    {
     "name": "stderr",
     "output_type": "stream",
     "text": [
      "264it [00:23,  9.93it/s]"
     ]
    },
    {
     "name": "stdout",
     "output_type": "stream",
     "text": [
      "Exploitability: 0.008270718553616607\n"
     ]
    },
    {
     "name": "stderr",
     "output_type": "stream",
     "text": [
      "286it [00:25, 10.89it/s]"
     ]
    },
    {
     "name": "stdout",
     "output_type": "stream",
     "text": [
      "Exploitability: 0.007682055311366454\n"
     ]
    },
    {
     "name": "stderr",
     "output_type": "stream",
     "text": [
      "304it [00:27, 10.15it/s]"
     ]
    },
    {
     "name": "stdout",
     "output_type": "stream",
     "text": [
      "Exploitability: 0.007171619742504687\n"
     ]
    },
    {
     "name": "stderr",
     "output_type": "stream",
     "text": [
      "326it [00:29, 10.63it/s]"
     ]
    },
    {
     "name": "stdout",
     "output_type": "stream",
     "text": [
      "Exploitability: 0.006724789852006086\n"
     ]
    },
    {
     "name": "stderr",
     "output_type": "stream",
     "text": [
      "342it [00:31,  9.63it/s]"
     ]
    },
    {
     "name": "stdout",
     "output_type": "stream",
     "text": [
      "Exploitability: 0.00633037402490888\n"
     ]
    },
    {
     "name": "stderr",
     "output_type": "stream",
     "text": [
      "364it [00:33, 10.32it/s]"
     ]
    },
    {
     "name": "stdout",
     "output_type": "stream",
     "text": [
      "Exploitability: 0.005979660782531648\n"
     ]
    },
    {
     "name": "stderr",
     "output_type": "stream",
     "text": [
      "382it [00:34,  9.39it/s]"
     ]
    },
    {
     "name": "stdout",
     "output_type": "stream",
     "text": [
      "Exploitability: 0.005665767828068158\n"
     ]
    },
    {
     "name": "stderr",
     "output_type": "stream",
     "text": [
      "404it [00:36, 10.29it/s]"
     ]
    },
    {
     "name": "stdout",
     "output_type": "stream",
     "text": [
      "Exploitability: 0.005383185891506104\n"
     ]
    },
    {
     "name": "stderr",
     "output_type": "stream",
     "text": [
      "422it [00:38,  9.27it/s]"
     ]
    },
    {
     "name": "stdout",
     "output_type": "stream",
     "text": [
      "Exploitability: 0.0051274525949974725\n"
     ]
    },
    {
     "name": "stderr",
     "output_type": "stream",
     "text": [
      "443it [00:40,  9.85it/s]"
     ]
    },
    {
     "name": "stdout",
     "output_type": "stream",
     "text": [
      "Exploitability: 0.004894915062344518\n"
     ]
    },
    {
     "name": "stderr",
     "output_type": "stream",
     "text": [
      "463it [00:42, 10.23it/s]"
     ]
    },
    {
     "name": "stdout",
     "output_type": "stream",
     "text": [
      "Exploitability: 0.004682554322112731\n"
     ]
    },
    {
     "name": "stderr",
     "output_type": "stream",
     "text": [
      "483it [00:43, 10.12it/s]"
     ]
    },
    {
     "name": "stdout",
     "output_type": "stream",
     "text": [
      "Exploitability: 0.004487853518698293\n"
     ]
    },
    {
     "name": "stderr",
     "output_type": "stream",
     "text": [
      "505it [00:45, 10.78it/s]"
     ]
    },
    {
     "name": "stdout",
     "output_type": "stream",
     "text": [
      "Exploitability: 0.0043086976896087315\n"
     ]
    },
    {
     "name": "stderr",
     "output_type": "stream",
     "text": [
      "523it [00:47, 10.09it/s]"
     ]
    },
    {
     "name": "stdout",
     "output_type": "stream",
     "text": [
      "Exploitability: 0.004143296626667903\n"
     ]
    },
    {
     "name": "stderr",
     "output_type": "stream",
     "text": [
      "541it [00:49,  9.47it/s]"
     ]
    },
    {
     "name": "stdout",
     "output_type": "stream",
     "text": [
      "Exploitability: 0.003990124847493393\n"
     ]
    },
    {
     "name": "stderr",
     "output_type": "stream",
     "text": [
      "561it [00:51,  9.32it/s]"
     ]
    },
    {
     "name": "stdout",
     "output_type": "stream",
     "text": [
      "Exploitability: 0.0038478744072973914\n"
     ]
    },
    {
     "name": "stderr",
     "output_type": "stream",
     "text": [
      "581it [00:52,  9.50it/s]"
     ]
    },
    {
     "name": "stdout",
     "output_type": "stream",
     "text": [
      "Exploitability: 0.003715417456960468\n"
     ]
    },
    {
     "name": "stderr",
     "output_type": "stream",
     "text": [
      "603it [00:54, 10.36it/s]"
     ]
    },
    {
     "name": "stdout",
     "output_type": "stream",
     "text": [
      "Exploitability: 0.0035917762770282247\n"
     ]
    },
    {
     "name": "stderr",
     "output_type": "stream",
     "text": [
      "623it [00:56, 10.03it/s]"
     ]
    },
    {
     "name": "stdout",
     "output_type": "stream",
     "text": [
      "Exploitability: 0.0034760991022444454\n"
     ]
    },
    {
     "name": "stderr",
     "output_type": "stream",
     "text": [
      "643it [00:58, 10.27it/s]"
     ]
    },
    {
     "name": "stdout",
     "output_type": "stream",
     "text": [
      "Exploitability: 0.0033676404719092945\n"
     ]
    },
    {
     "name": "stderr",
     "output_type": "stream",
     "text": [
      "663it [01:00,  9.91it/s]"
     ]
    },
    {
     "name": "stdout",
     "output_type": "stream",
     "text": [
      "Exploitability: 0.0032657451474944477\n"
     ]
    },
    {
     "name": "stderr",
     "output_type": "stream",
     "text": [
      "683it [01:02, 10.25it/s]"
     ]
    },
    {
     "name": "stdout",
     "output_type": "stream",
     "text": [
      "Exploitability: 0.003169834864161336\n"
     ]
    },
    {
     "name": "stderr",
     "output_type": "stream",
     "text": [
      "703it [01:03, 10.09it/s]"
     ]
    },
    {
     "name": "stdout",
     "output_type": "stream",
     "text": [
      "Exploitability: 0.0030793973502054595\n"
     ]
    },
    {
     "name": "stderr",
     "output_type": "stream",
     "text": [
      "723it [01:05, 10.08it/s]"
     ]
    },
    {
     "name": "stdout",
     "output_type": "stream",
     "text": [
      "Exploitability: 0.002993977174055251\n"
     ]
    },
    {
     "name": "stderr",
     "output_type": "stream",
     "text": [
      "741it [01:07,  9.82it/s]"
     ]
    },
    {
     "name": "stdout",
     "output_type": "stream",
     "text": [
      "Exploitability: 0.002913168073541139\n"
     ]
    },
    {
     "name": "stderr",
     "output_type": "stream",
     "text": [
      "763it [01:09,  9.92it/s]"
     ]
    },
    {
     "name": "stdout",
     "output_type": "stream",
     "text": [
      "Exploitability: 0.002836606494735827\n"
     ]
    },
    {
     "name": "stderr",
     "output_type": "stream",
     "text": [
      "783it [01:11, 10.03it/s]"
     ]
    },
    {
     "name": "stdout",
     "output_type": "stream",
     "text": [
      "Exploitability: 0.0027639661235517865\n"
     ]
    },
    {
     "name": "stderr",
     "output_type": "stream",
     "text": [
      "801it [01:12,  9.54it/s]"
     ]
    },
    {
     "name": "stdout",
     "output_type": "stream",
     "text": [
      "Exploitability: 0.002694953236571651\n"
     ]
    },
    {
     "name": "stderr",
     "output_type": "stream",
     "text": [
      "823it [01:14,  9.91it/s]"
     ]
    },
    {
     "name": "stdout",
     "output_type": "stream",
     "text": [
      "Exploitability: 0.002629302731417593\n"
     ]
    },
    {
     "name": "stderr",
     "output_type": "stream",
     "text": [
      "841it [01:16,  9.51it/s]"
     ]
    },
    {
     "name": "stdout",
     "output_type": "stream",
     "text": [
      "Exploitability: 0.0025667747235360583\n"
     ]
    },
    {
     "name": "stderr",
     "output_type": "stream",
     "text": [
      "861it [01:18,  9.62it/s]"
     ]
    },
    {
     "name": "stdout",
     "output_type": "stream",
     "text": [
      "Exploitability: 0.002507151617298531\n"
     ]
    },
    {
     "name": "stderr",
     "output_type": "stream",
     "text": [
      "881it [01:20,  9.43it/s]"
     ]
    },
    {
     "name": "stdout",
     "output_type": "stream",
     "text": [
      "Exploitability: 0.0024502355760430694\n"
     ]
    },
    {
     "name": "stderr",
     "output_type": "stream",
     "text": [
      "901it [01:22,  9.37it/s]"
     ]
    },
    {
     "name": "stdout",
     "output_type": "stream",
     "text": [
      "Exploitability: 0.002395846329072082\n"
     ]
    },
    {
     "name": "stderr",
     "output_type": "stream",
     "text": [
      "921it [01:23,  9.44it/s]"
     ]
    },
    {
     "name": "stdout",
     "output_type": "stream",
     "text": [
      "Exploitability: 0.002343819264379876\n"
     ]
    },
    {
     "name": "stderr",
     "output_type": "stream",
     "text": [
      "941it [01:25,  9.50it/s]"
     ]
    },
    {
     "name": "stdout",
     "output_type": "stream",
     "text": [
      "Exploitability: 0.0022940037646055345\n"
     ]
    },
    {
     "name": "stderr",
     "output_type": "stream",
     "text": [
      "961it [01:27,  9.36it/s]"
     ]
    },
    {
     "name": "stdout",
     "output_type": "stream",
     "text": [
      "Exploitability: 0.0022462617507741367\n"
     ]
    },
    {
     "name": "stderr",
     "output_type": "stream",
     "text": [
      "981it [01:29,  9.43it/s]"
     ]
    },
    {
     "name": "stdout",
     "output_type": "stream",
     "text": [
      "Exploitability: 0.0022004664041732624\n"
     ]
    },
    {
     "name": "stderr",
     "output_type": "stream",
     "text": [
      "1003it [01:31,  9.91it/s]"
     ]
    },
    {
     "name": "stdout",
     "output_type": "stream",
     "text": [
      "Exploitability: 0.0021565010414523744\n"
     ]
    },
    {
     "name": "stderr",
     "output_type": "stream",
     "text": [
      "1023it [01:33,  9.87it/s]"
     ]
    },
    {
     "name": "stdout",
     "output_type": "stream",
     "text": [
      "Exploitability: 0.0021142581219331102\n"
     ]
    },
    {
     "name": "stderr",
     "output_type": "stream",
     "text": [
      "1045it [01:35, 10.53it/s]"
     ]
    },
    {
     "name": "stdout",
     "output_type": "stream",
     "text": [
      "Exploitability: 0.0020736383693505944\n"
     ]
    },
    {
     "name": "stderr",
     "output_type": "stream",
     "text": [
      "1061it [01:36,  9.42it/s]"
     ]
    },
    {
     "name": "stdout",
     "output_type": "stream",
     "text": [
      "Exploitability: 0.002034549992925294\n"
     ]
    },
    {
     "name": "stderr",
     "output_type": "stream",
     "text": [
      "1085it [01:38, 10.69it/s]"
     ]
    },
    {
     "name": "stdout",
     "output_type": "stream",
     "text": [
      "Exploitability: 0.001996907994906705\n"
     ]
    },
    {
     "name": "stderr",
     "output_type": "stream",
     "text": [
      "1105it [01:40, 10.51it/s]"
     ]
    },
    {
     "name": "stdout",
     "output_type": "stream",
     "text": [
      "Exploitability: 0.001960633553582225\n"
     ]
    },
    {
     "name": "stderr",
     "output_type": "stream",
     "text": [
      "1123it [01:42, 10.13it/s]"
     ]
    },
    {
     "name": "stdout",
     "output_type": "stream",
     "text": [
      "Exploitability: 0.0019256534723406382\n"
     ]
    },
    {
     "name": "stderr",
     "output_type": "stream",
     "text": [
      "1141it [01:43,  9.61it/s]"
     ]
    },
    {
     "name": "stdout",
     "output_type": "stream",
     "text": [
      "Exploitability: 0.0018918996866730264\n"
     ]
    },
    {
     "name": "stderr",
     "output_type": "stream",
     "text": [
      "1161it [01:45,  9.28it/s]"
     ]
    },
    {
     "name": "stdout",
     "output_type": "stream",
     "text": [
      "Exploitability: 0.0018593088221308118\n"
     ]
    },
    {
     "name": "stderr",
     "output_type": "stream",
     "text": [
      "1181it [01:47,  9.54it/s]"
     ]
    },
    {
     "name": "stdout",
     "output_type": "stream",
     "text": [
      "Exploitability: 0.001827821797200535\n"
     ]
    },
    {
     "name": "stderr",
     "output_type": "stream",
     "text": [
      "1203it [01:49, 10.04it/s]"
     ]
    },
    {
     "name": "stdout",
     "output_type": "stream",
     "text": [
      "Exploitability: 0.0017973834658566723\n"
     ]
    },
    {
     "name": "stderr",
     "output_type": "stream",
     "text": [
      "1223it [01:51, 10.25it/s]"
     ]
    },
    {
     "name": "stdout",
     "output_type": "stream",
     "text": [
      "Exploitability: 0.0017679422952447954\n"
     ]
    },
    {
     "name": "stderr",
     "output_type": "stream",
     "text": [
      "1241it [01:53,  9.68it/s]"
     ]
    },
    {
     "name": "stdout",
     "output_type": "stream",
     "text": [
      "Exploitability: 0.001739450074531801\n"
     ]
    },
    {
     "name": "stderr",
     "output_type": "stream",
     "text": [
      "1261it [01:54,  9.90it/s]"
     ]
    },
    {
     "name": "stdout",
     "output_type": "stream",
     "text": [
      "Exploitability: 0.0017118616514621987\n"
     ]
    },
    {
     "name": "stderr",
     "output_type": "stream",
     "text": [
      "1281it [01:56,  9.94it/s]"
     ]
    },
    {
     "name": "stdout",
     "output_type": "stream",
     "text": [
      "Exploitability: 0.0016851346935941036\n"
     ]
    },
    {
     "name": "stderr",
     "output_type": "stream",
     "text": [
      "1303it [01:58,  9.98it/s]"
     ]
    },
    {
     "name": "stdout",
     "output_type": "stream",
     "text": [
      "Exploitability: 0.0016592294715557232\n"
     ]
    },
    {
     "name": "stderr",
     "output_type": "stream",
     "text": [
      "1323it [02:00, 10.13it/s]"
     ]
    },
    {
     "name": "stdout",
     "output_type": "stream",
     "text": [
      "Exploitability: 0.0016341086619939826\n"
     ]
    },
    {
     "name": "stderr",
     "output_type": "stream",
     "text": [
      "1341it [02:01,  9.65it/s]"
     ]
    },
    {
     "name": "stdout",
     "output_type": "stream",
     "text": [
      "Exploitability: 0.0016097371681536021\n"
     ]
    },
    {
     "name": "stderr",
     "output_type": "stream",
     "text": [
      "1363it [02:03,  9.91it/s]"
     ]
    },
    {
     "name": "stdout",
     "output_type": "stream",
     "text": [
      "Exploitability: 0.0015860819562777406\n"
     ]
    },
    {
     "name": "stderr",
     "output_type": "stream",
     "text": [
      "1381it [02:05,  9.45it/s]"
     ]
    },
    {
     "name": "stdout",
     "output_type": "stream",
     "text": [
      "Exploitability: 0.001563111906222825\n"
     ]
    },
    {
     "name": "stderr",
     "output_type": "stream",
     "text": [
      "1403it [02:07, 10.31it/s]"
     ]
    },
    {
     "name": "stdout",
     "output_type": "stream",
     "text": [
      "Exploitability: 0.0015407976748706975\n"
     ]
    },
    {
     "name": "stderr",
     "output_type": "stream",
     "text": [
      "1423it [02:09, 10.20it/s]"
     ]
    },
    {
     "name": "stdout",
     "output_type": "stream",
     "text": [
      "Exploitability: 0.001519111571072429\n"
     ]
    },
    {
     "name": "stderr",
     "output_type": "stream",
     "text": [
      "1445it [02:11, 10.42it/s]"
     ]
    },
    {
     "name": "stdout",
     "output_type": "stream",
     "text": [
      "Exploitability: 0.001498027441008909\n"
     ]
    },
    {
     "name": "stderr",
     "output_type": "stream",
     "text": [
      "1461it [02:12,  9.22it/s]"
     ]
    },
    {
     "name": "stdout",
     "output_type": "stream",
     "text": [
      "Exploitability: 0.0014775205629662391\n"
     ]
    },
    {
     "name": "stderr",
     "output_type": "stream",
     "text": [
      "1481it [02:14,  9.20it/s]"
     ]
    },
    {
     "name": "stdout",
     "output_type": "stream",
     "text": [
      "Exploitability: 0.0014575675506374175\n"
     ]
    },
    {
     "name": "stderr",
     "output_type": "stream",
     "text": [
      "1503it [02:16,  9.90it/s]"
     ]
    },
    {
     "name": "stdout",
     "output_type": "stream",
     "text": [
      "Exploitability: 0.0014381462641532838\n"
     ]
    },
    {
     "name": "stderr",
     "output_type": "stream",
     "text": [
      "1523it [02:18, 10.10it/s]"
     ]
    },
    {
     "name": "stdout",
     "output_type": "stream",
     "text": [
      "Exploitability: 0.001419235728135293\n"
     ]
    },
    {
     "name": "stderr",
     "output_type": "stream",
     "text": [
      "1541it [02:20,  9.46it/s]"
     ]
    },
    {
     "name": "stdout",
     "output_type": "stream",
     "text": [
      "Exploitability: 0.0014008160561284067\n"
     ]
    },
    {
     "name": "stderr",
     "output_type": "stream",
     "text": [
      "1561it [02:22,  9.39it/s]"
     ]
    },
    {
     "name": "stdout",
     "output_type": "stream",
     "text": [
      "Exploitability: 0.001382868380841673\n"
     ]
    },
    {
     "name": "stderr",
     "output_type": "stream",
     "text": [
      "1581it [02:23,  9.92it/s]"
     ]
    },
    {
     "name": "stdout",
     "output_type": "stream",
     "text": [
      "Exploitability: 0.0013653747896862356\n"
     ]
    },
    {
     "name": "stderr",
     "output_type": "stream",
     "text": [
      "1603it [02:25,  9.81it/s]"
     ]
    },
    {
     "name": "stdout",
     "output_type": "stream",
     "text": [
      "Exploitability: 0.0013483182651430337\n"
     ]
    },
    {
     "name": "stderr",
     "output_type": "stream",
     "text": [
      "1623it [02:27, 10.16it/s]"
     ]
    },
    {
     "name": "stdout",
     "output_type": "stream",
     "text": [
      "Exploitability: 0.0013316826295458606\n"
     ]
    },
    {
     "name": "stderr",
     "output_type": "stream",
     "text": [
      "1641it [02:29,  9.42it/s]"
     ]
    },
    {
     "name": "stdout",
     "output_type": "stream",
     "text": [
      "Exploitability: 0.0013154524939025247\n"
     ]
    },
    {
     "name": "stderr",
     "output_type": "stream",
     "text": [
      "1663it [02:31,  9.92it/s]"
     ]
    },
    {
     "name": "stdout",
     "output_type": "stream",
     "text": [
      "Exploitability: 0.0012996132104117208\n"
     ]
    },
    {
     "name": "stderr",
     "output_type": "stream",
     "text": [
      "1681it [02:33,  9.83it/s]"
     ]
    },
    {
     "name": "stdout",
     "output_type": "stream",
     "text": [
      "Exploitability: 0.0012841508283724101\n"
     ]
    },
    {
     "name": "stderr",
     "output_type": "stream",
     "text": [
      "1701it [02:34,  9.52it/s]"
     ]
    },
    {
     "name": "stdout",
     "output_type": "stream",
     "text": [
      "Exploitability: 0.0012690520532003813\n"
     ]
    },
    {
     "name": "stderr",
     "output_type": "stream",
     "text": [
      "1721it [02:36,  9.40it/s]"
     ]
    },
    {
     "name": "stdout",
     "output_type": "stream",
     "text": [
      "Exploitability: 0.0012543042083055234\n"
     ]
    },
    {
     "name": "stderr",
     "output_type": "stream",
     "text": [
      "1741it [02:38,  9.27it/s]"
     ]
    },
    {
     "name": "stdout",
     "output_type": "stream",
     "text": [
      "Exploitability: 0.001239895199594332\n"
     ]
    },
    {
     "name": "stderr",
     "output_type": "stream",
     "text": [
      "1761it [02:40,  9.83it/s]"
     ]
    },
    {
     "name": "stdout",
     "output_type": "stream",
     "text": [
      "Exploitability: 0.0012258134823929234\n"
     ]
    },
    {
     "name": "stderr",
     "output_type": "stream",
     "text": [
      "1781it [02:42,  9.35it/s]"
     ]
    },
    {
     "name": "stdout",
     "output_type": "stream",
     "text": [
      "Exploitability: 0.001212048030597268\n"
     ]
    },
    {
     "name": "stderr",
     "output_type": "stream",
     "text": [
      "1803it [02:44,  9.92it/s]"
     ]
    },
    {
     "name": "stdout",
     "output_type": "stream",
     "text": [
      "Exploitability: 0.001198588307881221\n"
     ]
    },
    {
     "name": "stderr",
     "output_type": "stream",
     "text": [
      "1823it [02:45, 10.27it/s]"
     ]
    },
    {
     "name": "stdout",
     "output_type": "stream",
     "text": [
      "Exploitability: 0.0011854242407984827\n"
     ]
    },
    {
     "name": "stderr",
     "output_type": "stream",
     "text": [
      "1841it [02:47,  9.41it/s]"
     ]
    },
    {
     "name": "stdout",
     "output_type": "stream",
     "text": [
      "Exploitability: 0.0011725461936412662\n"
     ]
    },
    {
     "name": "stderr",
     "output_type": "stream",
     "text": [
      "1865it [02:49, 10.61it/s]"
     ]
    },
    {
     "name": "stdout",
     "output_type": "stream",
     "text": [
      "Exploitability: 0.0011599449449187782\n"
     ]
    },
    {
     "name": "stderr",
     "output_type": "stream",
     "text": [
      "1883it [02:51,  9.88it/s]"
     ]
    },
    {
     "name": "stdout",
     "output_type": "stream",
     "text": [
      "Exploitability: 0.0011476116653342805\n"
     ]
    },
    {
     "name": "stderr",
     "output_type": "stream",
     "text": [
      "1903it [02:53,  9.84it/s]"
     ]
    },
    {
     "name": "stdout",
     "output_type": "stream",
     "text": [
      "Exploitability: 0.001135537897156258\n"
     ]
    },
    {
     "name": "stderr",
     "output_type": "stream",
     "text": [
      "1923it [02:55, 10.30it/s]"
     ]
    },
    {
     "name": "stdout",
     "output_type": "stream",
     "text": [
      "Exploitability: 0.0011237155348744476\n"
     ]
    },
    {
     "name": "stderr",
     "output_type": "stream",
     "text": [
      "1941it [02:56,  9.38it/s]"
     ]
    },
    {
     "name": "stdout",
     "output_type": "stream",
     "text": [
      "Exploitability: 0.0011121368070551307\n"
     ]
    },
    {
     "name": "stderr",
     "output_type": "stream",
     "text": [
      "1963it [02:58, 10.07it/s]"
     ]
    },
    {
     "name": "stdout",
     "output_type": "stream",
     "text": [
      "Exploitability: 0.001100794259303317\n"
     ]
    },
    {
     "name": "stderr",
     "output_type": "stream",
     "text": [
      "1981it [03:00,  9.82it/s]"
     ]
    },
    {
     "name": "stdout",
     "output_type": "stream",
     "text": [
      "Exploitability: 0.0010896807382603235\n"
     ]
    },
    {
     "name": "stderr",
     "output_type": "stream",
     "text": [
      "2001it [03:02,  9.83it/s]"
     ]
    },
    {
     "name": "stdout",
     "output_type": "stream",
     "text": [
      "Exploitability: 0.0010787893765585865\n"
     ]
    },
    {
     "name": "stderr",
     "output_type": "stream",
     "text": [
      "2023it [03:04,  9.88it/s]"
     ]
    },
    {
     "name": "stdout",
     "output_type": "stream",
     "text": [
      "Exploitability: 0.0010681135786708706\n"
     ]
    },
    {
     "name": "stderr",
     "output_type": "stream",
     "text": [
      "2041it [03:05,  9.42it/s]"
     ]
    },
    {
     "name": "stdout",
     "output_type": "stream",
     "text": [
      "Exploitability: 0.0010576470075913669\n"
     ]
    },
    {
     "name": "stderr",
     "output_type": "stream",
     "text": [
      "2063it [03:07, 10.28it/s]"
     ]
    },
    {
     "name": "stdout",
     "output_type": "stream",
     "text": [
      "Exploitability: 0.00104738357229206\n"
     ]
    },
    {
     "name": "stderr",
     "output_type": "stream",
     "text": [
      "2081it [03:09,  9.95it/s]"
     ]
    },
    {
     "name": "stdout",
     "output_type": "stream",
     "text": [
      "Exploitability: 0.0010373174159028498\n"
     ]
    },
    {
     "name": "stderr",
     "output_type": "stream",
     "text": [
      "2101it [03:11,  9.26it/s]"
     ]
    },
    {
     "name": "stdout",
     "output_type": "stream",
     "text": [
      "Exploitability: 0.0010274429045664668\n"
     ]
    },
    {
     "name": "stderr",
     "output_type": "stream",
     "text": [
      "2123it [03:13, 10.46it/s]"
     ]
    },
    {
     "name": "stdout",
     "output_type": "stream",
     "text": [
      "Exploitability: 0.0010177546169231055\n"
     ]
    },
    {
     "name": "stderr",
     "output_type": "stream",
     "text": [
      "2143it [03:14, 10.13it/s]"
     ]
    },
    {
     "name": "stdout",
     "output_type": "stream",
     "text": [
      "Exploitability: 0.001008247334186807\n"
     ]
    },
    {
     "name": "stderr",
     "output_type": "stream",
     "text": [
      "2160it [03:16, 10.99it/s]"
     ]
    },
    {
     "name": "stdout",
     "output_type": "stream",
     "text": [
      "Exploitability: 0.0009989160307699585\n",
      "Total Time:  196.47788310050964\n"
     ]
    },
    {
     "name": "stderr",
     "output_type": "stream",
     "text": [
      "\n"
     ]
    }
   ],
   "source": [
    "from open_spiel.python.algorithms import exploitability\n",
    "exps = 1e6\n",
    "i = 0\n",
    "time_in = time.time()\n",
    "with tqdm() as pbar:\n",
    "    while exps > 1e-3:\n",
    "        mmd_solver_16.update_sequences()\n",
    "        av_policy = mmd_solver_16.get_avg_policies()\n",
    "        i += 1\n",
    "        pbar.update(1)\n",
    "        if i % 20 == 0:\n",
    "            # exps = exploitability.exploitability(game_16, av_policy)\n",
    "            exps = exploitability.nash_conv(game_16, av_policy, return_only_nash_conv=False).player_improvements[0]\n",
    "            print(f'Exploitability: {exps}')\n",
    "time_out = time.time()\n",
    "\n",
    "print('Total Time: ', time_out - time_in)\n",
    "# for i in tqdm(range(1000)):\n",
    "#     mmd_solver_16.update_sequences()\n",
    "    # if i % 10 == 0:\n",
    "    #     exps_16.append(exploitability.exploitability(game, mmd_solver_16.get_avg_policies()))\n",
    "\n",
    "mmd_policy_dict = mmd_solver_16.get_avg_policies().to_dict()\n",
    "# mmd_policy_dict.keys()\n",
    "\n",
    "pi_1 = mmd_policy_dict['Current player: 0\\nGoal:1 us: op:']\n",
    "pi_2 = mmd_policy_dict['Current player: 0\\nGoal:2 us: op:']\n",
    "\n",
    "pi_1 = np.array(pi_1)[:, 1]\n",
    "pi_2 = np.array(pi_2)[:, 1]\n",
    "\n",
    "ux_max = 0.99\n",
    "uy_max = 3.947\n",
    "dx_max = 0.99\n",
    "dy_max = 0.99\n",
    "\n",
    "n = 4\n",
    "_uxs = np.linspace(-ux_max, ux_max, n)\n",
    "_uys = np.linspace(-uy_max, uy_max, n)\n",
    "_dxs = np.linspace(-dx_max, dx_max, n)\n",
    "_dys = np.linspace(-dy_max, dy_max, n)\n",
    "_us = list(product(_uxs, _uys))\n",
    "_ds = list(product(_dxs, _dys))\n",
    "\n",
    "# u1_exp = np.sum(np.array(_us) * pi_1.reshape(-1, 1), axis=0)\n",
    "# u2_exp = np.sum(np.array(_us) * pi_2.reshape(-1, 1), axis=0)\n",
    "\n",
    "# distance_to_gt_mmd = np.mean([np.linalg.norm(GT_action_1 - u1_exp), np.linalg.norm(GT_action_2 - u2_exp)])\n",
    "norm_diff_1 = np.linalg.norm(np.array(_us) - GT_action_1, axis=1)\n",
    "norm_diff_2 = np.linalg.norm(np.array(_us) - GT_action_2, axis=1)\n",
    "\n",
    "distance_to_gt_mmd = norm_diff_1.dot(pi_1) + norm_diff_2.dot(pi_2)\n",
    "distance_to_gt_mmd"
   ]
  },
  {
   "cell_type": "code",
   "execution_count": 37,
   "id": "225cd938-5d1c-4d09-b85a-5605916c2c6c",
   "metadata": {},
   "outputs": [
    {
     "data": {
      "text/plain": [
       "array([2.89217955e-05, 2.89217955e-05, 2.89217964e-05, 2.89217955e-05,\n",
       "       2.89217955e-05, 2.89217955e-05, 2.90477901e-05, 2.89230840e-05,\n",
       "       2.89217955e-05, 2.89217955e-05, 1.59374761e-04, 2.98718912e-05,\n",
       "       2.89217955e-05, 2.89217955e-05, 9.99430859e-01, 3.27056772e-05])"
      ]
     },
     "execution_count": 37,
     "metadata": {},
     "output_type": "execute_result"
    }
   ],
   "source": [
    "pi_1"
   ]
  },
  {
   "cell_type": "code",
   "execution_count": 42,
   "id": "7838e745-7e54-4efc-ab61-bdc9f4e9fa32",
   "metadata": {},
   "outputs": [
    {
     "name": "stderr",
     "output_type": "stream",
     "text": [
      "20it [00:08,  2.48it/s]"
     ]
    },
    {
     "name": "stdout",
     "output_type": "stream",
     "text": [
      "Exploitability: 0.10191466539993543\n"
     ]
    },
    {
     "name": "stderr",
     "output_type": "stream",
     "text": [
      "41it [00:17,  1.67it/s]"
     ]
    },
    {
     "name": "stdout",
     "output_type": "stream",
     "text": [
      "Exploitability: 0.05222129322070701\n"
     ]
    },
    {
     "name": "stderr",
     "output_type": "stream",
     "text": [
      "61it [00:26,  1.64it/s]"
     ]
    },
    {
     "name": "stdout",
     "output_type": "stream",
     "text": [
      "Exploitability: 0.03509983924452853\n"
     ]
    },
    {
     "name": "stderr",
     "output_type": "stream",
     "text": [
      "80it [00:34,  2.47it/s]"
     ]
    },
    {
     "name": "stdout",
     "output_type": "stream",
     "text": [
      "Exploitability: 0.02643321644272767\n"
     ]
    },
    {
     "name": "stderr",
     "output_type": "stream",
     "text": [
      "100it [00:42,  2.45it/s]"
     ]
    },
    {
     "name": "stdout",
     "output_type": "stream",
     "text": [
      "Exploitability: 0.021198916222877173\n"
     ]
    },
    {
     "name": "stderr",
     "output_type": "stream",
     "text": [
      "120it [00:51,  2.57it/s]"
     ]
    },
    {
     "name": "stdout",
     "output_type": "stream",
     "text": [
      "Exploitability: 0.017694963129268215\n"
     ]
    },
    {
     "name": "stderr",
     "output_type": "stream",
     "text": [
      "142it [01:02,  1.80it/s]"
     ]
    },
    {
     "name": "stdout",
     "output_type": "stream",
     "text": [
      "Exploitability: 0.015185039281163215\n"
     ]
    },
    {
     "name": "stderr",
     "output_type": "stream",
     "text": [
      "160it [01:09,  2.51it/s]"
     ]
    },
    {
     "name": "stdout",
     "output_type": "stream",
     "text": [
      "Exploitability: 0.013298698997789127\n"
     ]
    },
    {
     "name": "stderr",
     "output_type": "stream",
     "text": [
      "180it [01:18,  2.41it/s]"
     ]
    },
    {
     "name": "stdout",
     "output_type": "stream",
     "text": [
      "Exploitability: 0.011829229495271099\n"
     ]
    },
    {
     "name": "stderr",
     "output_type": "stream",
     "text": [
      "200it [01:26,  2.50it/s]"
     ]
    },
    {
     "name": "stdout",
     "output_type": "stream",
     "text": [
      "Exploitability: 0.010652191734547678\n"
     ]
    },
    {
     "name": "stderr",
     "output_type": "stream",
     "text": [
      "220it [01:35,  2.52it/s]"
     ]
    },
    {
     "name": "stdout",
     "output_type": "stream",
     "text": [
      "Exploitability: 0.009688192482552482\n"
     ]
    },
    {
     "name": "stderr",
     "output_type": "stream",
     "text": [
      "240it [01:44,  2.49it/s]"
     ]
    },
    {
     "name": "stdout",
     "output_type": "stream",
     "text": [
      "Exploitability: 0.008884193106406868\n"
     ]
    },
    {
     "name": "stderr",
     "output_type": "stream",
     "text": [
      "260it [01:52,  2.51it/s]"
     ]
    },
    {
     "name": "stdout",
     "output_type": "stream",
     "text": [
      "Exploitability: 0.008203412025456158\n"
     ]
    },
    {
     "name": "stderr",
     "output_type": "stream",
     "text": [
      "280it [02:01,  2.52it/s]"
     ]
    },
    {
     "name": "stdout",
     "output_type": "stream",
     "text": [
      "Exploitability: 0.007619539283430843\n"
     ]
    },
    {
     "name": "stderr",
     "output_type": "stream",
     "text": [
      "300it [02:10,  2.45it/s]"
     ]
    },
    {
     "name": "stdout",
     "output_type": "stream",
     "text": [
      "Exploitability: 0.007113257603468592\n"
     ]
    },
    {
     "name": "stderr",
     "output_type": "stream",
     "text": [
      "320it [02:19,  2.48it/s]"
     ]
    },
    {
     "name": "stdout",
     "output_type": "stream",
     "text": [
      "Exploitability: 0.006670063983314822\n"
     ]
    },
    {
     "name": "stderr",
     "output_type": "stream",
     "text": [
      "340it [02:27,  2.52it/s]"
     ]
    },
    {
     "name": "stdout",
     "output_type": "stream",
     "text": [
      "Exploitability: 0.006278857884586708\n"
     ]
    },
    {
     "name": "stderr",
     "output_type": "stream",
     "text": [
      "360it [02:36,  2.51it/s]"
     ]
    },
    {
     "name": "stdout",
     "output_type": "stream",
     "text": [
      "Exploitability: 0.005930998722005754\n"
     ]
    },
    {
     "name": "stderr",
     "output_type": "stream",
     "text": [
      "380it [02:45,  2.47it/s]"
     ]
    },
    {
     "name": "stdout",
     "output_type": "stream",
     "text": [
      "Exploitability: 0.0056196602064149115\n"
     ]
    },
    {
     "name": "stderr",
     "output_type": "stream",
     "text": [
      "400it [02:53,  2.42it/s]"
     ]
    },
    {
     "name": "stdout",
     "output_type": "stream",
     "text": [
      "Exploitability: 0.005339377901855569\n"
     ]
    },
    {
     "name": "stderr",
     "output_type": "stream",
     "text": [
      "420it [03:02,  2.50it/s]"
     ]
    },
    {
     "name": "stdout",
     "output_type": "stream",
     "text": [
      "Exploitability: 0.00508572574499766\n"
     ]
    },
    {
     "name": "stderr",
     "output_type": "stream",
     "text": [
      "440it [03:11,  2.42it/s]"
     ]
    },
    {
     "name": "stdout",
     "output_type": "stream",
     "text": [
      "Exploitability: 0.004855080586494531\n"
     ]
    },
    {
     "name": "stderr",
     "output_type": "stream",
     "text": [
      "460it [03:20,  2.43it/s]"
     ]
    },
    {
     "name": "stdout",
     "output_type": "stream",
     "text": [
      "Exploitability: 0.004644448023089054\n"
     ]
    },
    {
     "name": "stderr",
     "output_type": "stream",
     "text": [
      "480it [03:28,  2.48it/s]"
     ]
    },
    {
     "name": "stdout",
     "output_type": "stream",
     "text": [
      "Exploitability: 0.004451331681172621\n"
     ]
    },
    {
     "name": "stderr",
     "output_type": "stream",
     "text": [
      "501it [03:38,  1.65it/s]"
     ]
    },
    {
     "name": "stdout",
     "output_type": "stream",
     "text": [
      "Exploitability: 0.00427363380966872\n"
     ]
    },
    {
     "name": "stderr",
     "output_type": "stream",
     "text": [
      "520it [03:46,  2.47it/s]"
     ]
    },
    {
     "name": "stdout",
     "output_type": "stream",
     "text": [
      "Exploitability: 0.0041095787689906516\n"
     ]
    },
    {
     "name": "stderr",
     "output_type": "stream",
     "text": [
      "540it [03:55,  2.44it/s]"
     ]
    },
    {
     "name": "stdout",
     "output_type": "stream",
     "text": [
      "Exploitability: 0.003957653491024171\n"
     ]
    },
    {
     "name": "stderr",
     "output_type": "stream",
     "text": [
      "560it [04:03,  2.55it/s]"
     ]
    },
    {
     "name": "stdout",
     "output_type": "stream",
     "text": [
      "Exploitability: 0.0038165606749448466\n"
     ]
    },
    {
     "name": "stderr",
     "output_type": "stream",
     "text": [
      "580it [04:12,  2.09it/s]"
     ]
    },
    {
     "name": "stdout",
     "output_type": "stream",
     "text": [
      "Exploitability: 0.003685181649989766\n"
     ]
    },
    {
     "name": "stderr",
     "output_type": "stream",
     "text": [
      "600it [04:21,  2.57it/s]"
     ]
    },
    {
     "name": "stdout",
     "output_type": "stream",
     "text": [
      "Exploitability: 0.0035625466533180106\n"
     ]
    },
    {
     "name": "stderr",
     "output_type": "stream",
     "text": [
      "620it [04:30,  2.49it/s]"
     ]
    },
    {
     "name": "stdout",
     "output_type": "stream",
     "text": [
      "Exploitability: 0.0034478108512787653\n"
     ]
    },
    {
     "name": "stderr",
     "output_type": "stream",
     "text": [
      "640it [04:39,  2.49it/s]"
     ]
    },
    {
     "name": "stdout",
     "output_type": "stream",
     "text": [
      "Exploitability: 0.003340234849678936\n"
     ]
    },
    {
     "name": "stderr",
     "output_type": "stream",
     "text": [
      "661it [04:48,  1.65it/s]"
     ]
    },
    {
     "name": "stdout",
     "output_type": "stream",
     "text": [
      "Exploitability: 0.0032391687422753668\n"
     ]
    },
    {
     "name": "stderr",
     "output_type": "stream",
     "text": [
      "680it [04:56,  2.11it/s]"
     ]
    },
    {
     "name": "stdout",
     "output_type": "stream",
     "text": [
      "Exploitability: 0.00314403897010862\n"
     ]
    },
    {
     "name": "stderr",
     "output_type": "stream",
     "text": [
      "700it [05:06,  2.53it/s]"
     ]
    },
    {
     "name": "stdout",
     "output_type": "stream",
     "text": [
      "Exploitability: 0.003054337430305365\n"
     ]
    },
    {
     "name": "stderr",
     "output_type": "stream",
     "text": [
      "721it [05:16,  1.61it/s]"
     ]
    },
    {
     "name": "stdout",
     "output_type": "stream",
     "text": [
      "Exploitability: 0.002969612397564547\n"
     ]
    },
    {
     "name": "stderr",
     "output_type": "stream",
     "text": [
      "740it [05:23,  2.47it/s]"
     ]
    },
    {
     "name": "stdout",
     "output_type": "stream",
     "text": [
      "Exploitability: 0.0028894609158489626\n"
     ]
    },
    {
     "name": "stderr",
     "output_type": "stream",
     "text": [
      "760it [05:32,  2.58it/s]"
     ]
    },
    {
     "name": "stdout",
     "output_type": "stream",
     "text": [
      "Exploitability: 0.002813522389808032\n"
     ]
    },
    {
     "name": "stderr",
     "output_type": "stream",
     "text": [
      "780it [05:40,  2.52it/s]"
     ]
    },
    {
     "name": "stdout",
     "output_type": "stream",
     "text": [
      "Exploitability: 0.002741473160875807\n"
     ]
    },
    {
     "name": "stderr",
     "output_type": "stream",
     "text": [
      "800it [05:49,  2.45it/s]"
     ]
    },
    {
     "name": "stdout",
     "output_type": "stream",
     "text": [
      "Exploitability: 0.0026730218959352126\n"
     ]
    },
    {
     "name": "stderr",
     "output_type": "stream",
     "text": [
      "820it [05:58,  2.46it/s]"
     ]
    },
    {
     "name": "stdout",
     "output_type": "stream",
     "text": [
      "Exploitability: 0.0026079056499928033\n"
     ]
    },
    {
     "name": "stderr",
     "output_type": "stream",
     "text": [
      "840it [06:06,  2.47it/s]"
     ]
    },
    {
     "name": "stdout",
     "output_type": "stream",
     "text": [
      "Exploitability: 0.0025458864906588996\n"
     ]
    },
    {
     "name": "stderr",
     "output_type": "stream",
     "text": [
      "860it [06:15,  2.50it/s]"
     ]
    },
    {
     "name": "stdout",
     "output_type": "stream",
     "text": [
      "Exploitability: 0.0024867485930826216\n"
     ]
    },
    {
     "name": "stderr",
     "output_type": "stream",
     "text": [
      "880it [06:24,  2.49it/s]"
     ]
    },
    {
     "name": "stdout",
     "output_type": "stream",
     "text": [
      "Exploitability: 0.0024302957305835093\n"
     ]
    },
    {
     "name": "stderr",
     "output_type": "stream",
     "text": [
      "900it [06:33,  2.50it/s]"
     ]
    },
    {
     "name": "stdout",
     "output_type": "stream",
     "text": [
      "Exploitability: 0.002376349099494024\n"
     ]
    },
    {
     "name": "stderr",
     "output_type": "stream",
     "text": [
      "920it [06:41,  2.55it/s]"
     ]
    },
    {
     "name": "stdout",
     "output_type": "stream",
     "text": [
      "Exploitability: 0.002324745427409458\n"
     ]
    },
    {
     "name": "stderr",
     "output_type": "stream",
     "text": [
      "940it [06:50,  2.56it/s]"
     ]
    },
    {
     "name": "stdout",
     "output_type": "stream",
     "text": [
      "Exploitability: 0.0022753353226823148\n"
     ]
    },
    {
     "name": "stderr",
     "output_type": "stream",
     "text": [
      "960it [06:59,  2.32it/s]"
     ]
    },
    {
     "name": "stdout",
     "output_type": "stream",
     "text": [
      "Exploitability: 0.0022279818300146026\n"
     ]
    },
    {
     "name": "stderr",
     "output_type": "stream",
     "text": [
      "980it [07:08,  2.45it/s]"
     ]
    },
    {
     "name": "stdout",
     "output_type": "stream",
     "text": [
      "Exploitability: 0.0021825591627362417\n"
     ]
    },
    {
     "name": "stderr",
     "output_type": "stream",
     "text": [
      "1000it [07:17,  2.39it/s]"
     ]
    },
    {
     "name": "stdout",
     "output_type": "stream",
     "text": [
      "Exploitability: 0.002138951587057014\n"
     ]
    },
    {
     "name": "stderr",
     "output_type": "stream",
     "text": [
      "1020it [07:26,  2.48it/s]"
     ]
    },
    {
     "name": "stdout",
     "output_type": "stream",
     "text": [
      "Exploitability: 0.0020970524374573918\n"
     ]
    },
    {
     "name": "stderr",
     "output_type": "stream",
     "text": [
      "1040it [07:34,  2.53it/s]"
     ]
    },
    {
     "name": "stdout",
     "output_type": "stream",
     "text": [
      "Exploitability: 0.002056763245575355\n"
     ]
    },
    {
     "name": "stderr",
     "output_type": "stream",
     "text": [
      "1060it [07:43,  2.59it/s]"
     ]
    },
    {
     "name": "stdout",
     "output_type": "stream",
     "text": [
      "Exploitability: 0.0020179929676191755\n"
     ]
    },
    {
     "name": "stderr",
     "output_type": "stream",
     "text": [
      "1080it [07:52,  2.51it/s]"
     ]
    },
    {
     "name": "stdout",
     "output_type": "stream",
     "text": [
      "Exploitability: 0.0019806572975430425\n"
     ]
    },
    {
     "name": "stderr",
     "output_type": "stream",
     "text": [
      "1100it [08:00,  2.54it/s]"
     ]
    },
    {
     "name": "stdout",
     "output_type": "stream",
     "text": [
      "Exploitability: 0.0019446780550810283\n"
     ]
    },
    {
     "name": "stderr",
     "output_type": "stream",
     "text": [
      "1120it [08:09,  2.52it/s]"
     ]
    },
    {
     "name": "stdout",
     "output_type": "stream",
     "text": [
      "Exploitability: 0.0019099826392898756\n"
     ]
    },
    {
     "name": "stderr",
     "output_type": "stream",
     "text": [
      "1140it [08:17,  2.59it/s]"
     ]
    },
    {
     "name": "stdout",
     "output_type": "stream",
     "text": [
      "Exploitability: 0.0018765035395652552\n"
     ]
    },
    {
     "name": "stderr",
     "output_type": "stream",
     "text": [
      "1160it [08:26,  2.52it/s]"
     ]
    },
    {
     "name": "stdout",
     "output_type": "stream",
     "text": [
      "Exploitability: 0.001844177897195709\n"
     ]
    },
    {
     "name": "stderr",
     "output_type": "stream",
     "text": [
      "1180it [08:34,  2.54it/s]"
     ]
    },
    {
     "name": "stdout",
     "output_type": "stream",
     "text": [
      "Exploitability: 0.0018129471114682882\n"
     ]
    },
    {
     "name": "stderr",
     "output_type": "stream",
     "text": [
      "1200it [08:43,  2.46it/s]"
     ]
    },
    {
     "name": "stdout",
     "output_type": "stream",
     "text": [
      "Exploitability: 0.0017827564851325972\n"
     ]
    },
    {
     "name": "stderr",
     "output_type": "stream",
     "text": [
      "1220it [08:52,  2.52it/s]"
     ]
    },
    {
     "name": "stdout",
     "output_type": "stream",
     "text": [
      "Exploitability: 0.001753554904704302\n"
     ]
    },
    {
     "name": "stderr",
     "output_type": "stream",
     "text": [
      "1240it [09:01,  2.48it/s]"
     ]
    },
    {
     "name": "stdout",
     "output_type": "stream",
     "text": [
      "Exploitability: 0.0017252945516873508\n"
     ]
    },
    {
     "name": "stderr",
     "output_type": "stream",
     "text": [
      "1260it [09:10,  2.14it/s]"
     ]
    },
    {
     "name": "stdout",
     "output_type": "stream",
     "text": [
      "Exploitability: 0.001697930641271883\n"
     ]
    },
    {
     "name": "stderr",
     "output_type": "stream",
     "text": [
      "1280it [09:19,  2.55it/s]"
     ]
    },
    {
     "name": "stdout",
     "output_type": "stream",
     "text": [
      "Exploitability: 0.0016714211855143324\n"
     ]
    },
    {
     "name": "stderr",
     "output_type": "stream",
     "text": [
      "1300it [09:28,  2.44it/s]"
     ]
    },
    {
     "name": "stdout",
     "output_type": "stream",
     "text": [
      "Exploitability: 0.0016457267783582807\n"
     ]
    },
    {
     "name": "stderr",
     "output_type": "stream",
     "text": [
      "1320it [09:36,  2.38it/s]"
     ]
    },
    {
     "name": "stdout",
     "output_type": "stream",
     "text": [
      "Exploitability: 0.0016208104001849133\n"
     ]
    },
    {
     "name": "stderr",
     "output_type": "stream",
     "text": [
      "1340it [09:45,  2.51it/s]"
     ]
    },
    {
     "name": "stdout",
     "output_type": "stream",
     "text": [
      "Exploitability: 0.0015966372398539264\n"
     ]
    },
    {
     "name": "stderr",
     "output_type": "stream",
     "text": [
      "1360it [09:54,  2.35it/s]"
     ]
    },
    {
     "name": "stdout",
     "output_type": "stream",
     "text": [
      "Exploitability: 0.0015731745324349955\n"
     ]
    },
    {
     "name": "stderr",
     "output_type": "stream",
     "text": [
      "1380it [10:03,  2.49it/s]"
     ]
    },
    {
     "name": "stdout",
     "output_type": "stream",
     "text": [
      "Exploitability: 0.0015503914110382988\n"
     ]
    },
    {
     "name": "stderr",
     "output_type": "stream",
     "text": [
      "1400it [10:12,  2.42it/s]"
     ]
    },
    {
     "name": "stdout",
     "output_type": "stream",
     "text": [
      "Exploitability: 0.001528258771337776\n"
     ]
    },
    {
     "name": "stderr",
     "output_type": "stream",
     "text": [
      "1420it [10:21,  2.52it/s]"
     ]
    },
    {
     "name": "stdout",
     "output_type": "stream",
     "text": [
      "Exploitability: 0.0015067491475326822\n"
     ]
    },
    {
     "name": "stderr",
     "output_type": "stream",
     "text": [
      "1440it [10:30,  2.48it/s]"
     ]
    },
    {
     "name": "stdout",
     "output_type": "stream",
     "text": [
      "Exploitability: 0.0014858365986427646\n"
     ]
    },
    {
     "name": "stderr",
     "output_type": "stream",
     "text": [
      "1460it [10:39,  2.43it/s]"
     ]
    },
    {
     "name": "stdout",
     "output_type": "stream",
     "text": [
      "Exploitability: 0.0014654966041370843\n"
     ]
    },
    {
     "name": "stderr",
     "output_type": "stream",
     "text": [
      "1480it [10:47,  2.56it/s]"
     ]
    },
    {
     "name": "stdout",
     "output_type": "stream",
     "text": [
      "Exploitability: 0.0014457059680244022\n"
     ]
    },
    {
     "name": "stderr",
     "output_type": "stream",
     "text": [
      "1501it [10:57,  1.65it/s]"
     ]
    },
    {
     "name": "stdout",
     "output_type": "stream",
     "text": [
      "Exploitability: 0.00142644273060899\n"
     ]
    },
    {
     "name": "stderr",
     "output_type": "stream",
     "text": [
      "1520it [11:05,  2.47it/s]"
     ]
    },
    {
     "name": "stdout",
     "output_type": "stream",
     "text": [
      "Exploitability: 0.0014076860872084263\n"
     ]
    },
    {
     "name": "stderr",
     "output_type": "stream",
     "text": [
      "1540it [11:14,  2.47it/s]"
     ]
    },
    {
     "name": "stdout",
     "output_type": "stream",
     "text": [
      "Exploitability: 0.0013894163132016635\n"
     ]
    },
    {
     "name": "stderr",
     "output_type": "stream",
     "text": [
      "1560it [11:23,  2.02it/s]"
     ]
    },
    {
     "name": "stdout",
     "output_type": "stream",
     "text": [
      "Exploitability: 0.0013716146948392627\n"
     ]
    },
    {
     "name": "stderr",
     "output_type": "stream",
     "text": [
      "1580it [11:32,  2.53it/s]"
     ]
    },
    {
     "name": "stdout",
     "output_type": "stream",
     "text": [
      "Exploitability: 0.001354263465303096\n"
     ]
    },
    {
     "name": "stderr",
     "output_type": "stream",
     "text": [
      "1600it [11:41,  2.45it/s]"
     ]
    },
    {
     "name": "stdout",
     "output_type": "stream",
     "text": [
      "Exploitability: 0.0013373457455615467\n"
     ]
    },
    {
     "name": "stderr",
     "output_type": "stream",
     "text": [
      "1620it [11:50,  2.45it/s]"
     ]
    },
    {
     "name": "stdout",
     "output_type": "stream",
     "text": [
      "Exploitability: 0.001320845489601541\n"
     ]
    },
    {
     "name": "stderr",
     "output_type": "stream",
     "text": [
      "1640it [11:58,  2.53it/s]"
     ]
    },
    {
     "name": "stdout",
     "output_type": "stream",
     "text": [
      "Exploitability: 0.0013047474336649323\n"
     ]
    },
    {
     "name": "stderr",
     "output_type": "stream",
     "text": [
      "1660it [12:07,  2.52it/s]"
     ]
    },
    {
     "name": "stdout",
     "output_type": "stream",
     "text": [
      "Exploitability: 0.0012890370491535075\n"
     ]
    },
    {
     "name": "stderr",
     "output_type": "stream",
     "text": [
      "1680it [12:16,  2.47it/s]"
     ]
    },
    {
     "name": "stdout",
     "output_type": "stream",
     "text": [
      "Exploitability: 0.0012737004988958578\n"
     ]
    },
    {
     "name": "stderr",
     "output_type": "stream",
     "text": [
      "1700it [12:24,  2.43it/s]"
     ]
    },
    {
     "name": "stdout",
     "output_type": "stream",
     "text": [
      "Exploitability: 0.0012587245964984506\n"
     ]
    },
    {
     "name": "stderr",
     "output_type": "stream",
     "text": [
      "1720it [12:33,  2.52it/s]"
     ]
    },
    {
     "name": "stdout",
     "output_type": "stream",
     "text": [
      "Exploitability: 0.0012440967685323212\n"
     ]
    },
    {
     "name": "stderr",
     "output_type": "stream",
     "text": [
      "1740it [12:42,  2.48it/s]"
     ]
    },
    {
     "name": "stdout",
     "output_type": "stream",
     "text": [
      "Exploitability: 0.0012298050193245702\n"
     ]
    },
    {
     "name": "stderr",
     "output_type": "stream",
     "text": [
      "1760it [12:51,  2.31it/s]"
     ]
    },
    {
     "name": "stdout",
     "output_type": "stream",
     "text": [
      "Exploitability: 0.001215837898151051\n"
     ]
    },
    {
     "name": "stderr",
     "output_type": "stream",
     "text": [
      "1780it [13:00,  2.46it/s]"
     ]
    },
    {
     "name": "stdout",
     "output_type": "stream",
     "text": [
      "Exploitability: 0.0012021844686379568\n"
     ]
    },
    {
     "name": "stderr",
     "output_type": "stream",
     "text": [
      "1800it [13:09,  2.47it/s]"
     ]
    },
    {
     "name": "stdout",
     "output_type": "stream",
     "text": [
      "Exploitability: 0.0011888342802020002\n"
     ]
    },
    {
     "name": "stderr",
     "output_type": "stream",
     "text": [
      "1820it [13:17,  2.54it/s]"
     ]
    },
    {
     "name": "stdout",
     "output_type": "stream",
     "text": [
      "Exploitability: 0.0011757773413750838\n"
     ]
    },
    {
     "name": "stderr",
     "output_type": "stream",
     "text": [
      "1840it [13:26,  2.49it/s]"
     ]
    },
    {
     "name": "stdout",
     "output_type": "stream",
     "text": [
      "Exploitability: 0.0011630040948636955\n"
     ]
    },
    {
     "name": "stderr",
     "output_type": "stream",
     "text": [
      "1860it [13:35,  2.44it/s]"
     ]
    },
    {
     "name": "stdout",
     "output_type": "stream",
     "text": [
      "Exploitability: 0.001150505394220347\n"
     ]
    },
    {
     "name": "stderr",
     "output_type": "stream",
     "text": [
      "1880it [13:44,  2.46it/s]"
     ]
    },
    {
     "name": "stdout",
     "output_type": "stream",
     "text": [
      "Exploitability: 0.001138272482001046\n"
     ]
    },
    {
     "name": "stderr",
     "output_type": "stream",
     "text": [
      "1900it [13:53,  2.43it/s]"
     ]
    },
    {
     "name": "stdout",
     "output_type": "stream",
     "text": [
      "Exploitability: 0.0011262969693026648\n"
     ]
    },
    {
     "name": "stderr",
     "output_type": "stream",
     "text": [
      "1920it [14:01,  2.47it/s]"
     ]
    },
    {
     "name": "stdout",
     "output_type": "stream",
     "text": [
      "Exploitability: 0.001114570816576843\n"
     ]
    },
    {
     "name": "stderr",
     "output_type": "stream",
     "text": [
      "1940it [14:10,  2.47it/s]"
     ]
    },
    {
     "name": "stdout",
     "output_type": "stream",
     "text": [
      "Exploitability: 0.0011030863156331616\n"
     ]
    },
    {
     "name": "stderr",
     "output_type": "stream",
     "text": [
      "1960it [14:19,  2.51it/s]"
     ]
    },
    {
     "name": "stdout",
     "output_type": "stream",
     "text": [
      "Exploitability: 0.0010918360727404375\n"
     ]
    },
    {
     "name": "stderr",
     "output_type": "stream",
     "text": [
      "1980it [14:27,  2.53it/s]"
     ]
    },
    {
     "name": "stdout",
     "output_type": "stream",
     "text": [
      "Exploitability: 0.0010808129927531995\n"
     ]
    },
    {
     "name": "stderr",
     "output_type": "stream",
     "text": [
      "2000it [14:36,  2.49it/s]"
     ]
    },
    {
     "name": "stdout",
     "output_type": "stream",
     "text": [
      "Exploitability: 0.0010700102641900688\n"
     ]
    },
    {
     "name": "stderr",
     "output_type": "stream",
     "text": [
      "2020it [14:45,  2.43it/s]"
     ]
    },
    {
     "name": "stdout",
     "output_type": "stream",
     "text": [
      "Exploitability: 0.00105942134519732\n"
     ]
    },
    {
     "name": "stderr",
     "output_type": "stream",
     "text": [
      "2040it [14:54,  2.51it/s]"
     ]
    },
    {
     "name": "stdout",
     "output_type": "stream",
     "text": [
      "Exploitability: 0.0010490399503400027\n"
     ]
    },
    {
     "name": "stderr",
     "output_type": "stream",
     "text": [
      "2060it [15:03,  2.53it/s]"
     ]
    },
    {
     "name": "stdout",
     "output_type": "stream",
     "text": [
      "Exploitability: 0.0010388600381581181\n"
     ]
    },
    {
     "name": "stderr",
     "output_type": "stream",
     "text": [
      "2080it [15:12,  2.47it/s]"
     ]
    },
    {
     "name": "stdout",
     "output_type": "stream",
     "text": [
      "Exploitability: 0.0010288757994444397\n"
     ]
    },
    {
     "name": "stderr",
     "output_type": "stream",
     "text": [
      "2101it [15:22,  1.57it/s]"
     ]
    },
    {
     "name": "stdout",
     "output_type": "stream",
     "text": [
      "Exploitability: 0.001019081646189246\n"
     ]
    },
    {
     "name": "stderr",
     "output_type": "stream",
     "text": [
      "2120it [15:29,  2.49it/s]"
     ]
    },
    {
     "name": "stdout",
     "output_type": "stream",
     "text": [
      "Exploitability: 0.0010094722011522173\n"
     ]
    },
    {
     "name": "stderr",
     "output_type": "stream",
     "text": [
      "2141it [15:39,  1.65it/s]"
     ]
    },
    {
     "name": "stdout",
     "output_type": "stream",
     "text": [
      "Exploitability: 0.001000042288016867\n"
     ]
    },
    {
     "name": "stderr",
     "output_type": "stream",
     "text": [
      "2160it [15:47,  2.28it/s]"
     ]
    },
    {
     "name": "stdout",
     "output_type": "stream",
     "text": [
      "Exploitability: 0.000990786922093423\n",
      "Total Time:  947.8075520992279\n"
     ]
    },
    {
     "name": "stderr",
     "output_type": "stream",
     "text": [
      "\n"
     ]
    }
   ],
   "source": [
    "n = 6\n",
    "# for _ in tqdm(range(1000)):\n",
    "#     mmd_solver_36.update_sequences()\n",
    "\n",
    "exps = 1e6\n",
    "i = 0\n",
    "time_in = time.time()\n",
    "with tqdm() as pbar:\n",
    "    while exps > 1e-3:\n",
    "        mmd_solver_36.update_sequences()\n",
    "        av_policy = mmd_solver_36.get_avg_policies()\n",
    "        i += 1\n",
    "        pbar.update(1)\n",
    "        if i % 20 == 0:\n",
    "            # exps = exploitability.exploitability(game_36, av_policy)\n",
    "            exps = exploitability.nash_conv(game_36, av_policy, return_only_nash_conv=False).player_improvements[0]\n",
    "            print(f'Exploitability: {exps}')\n",
    "time_out = time.time()\n",
    "\n",
    "print('Total Time: ', time_out - time_in)\n",
    "\n",
    "mmd_policy_dict = mmd_solver_36.get_avg_policies().to_dict()\n",
    "# mmd_policy_dict.keys()\n",
    "\n",
    "pi_1 = mmd_policy_dict['Current player: 0\\nGoal:1 us: op:']\n",
    "pi_2 = mmd_policy_dict['Current player: 0\\nGoal:2 us: op:']\n",
    "\n",
    "pi_1 = np.array(pi_1)[:, 1]\n",
    "pi_2 = np.array(pi_2)[:, 1]\n",
    "\n",
    "ux_max = 0.99\n",
    "uy_max = 3.947\n",
    "dx_max = 0.99\n",
    "dy_max = 0.99\n",
    "\n",
    "_uxs = np.linspace(-ux_max, ux_max, n)\n",
    "_uys = np.linspace(-uy_max, uy_max, n)\n",
    "_dxs = np.linspace(-dx_max, dx_max, n)\n",
    "_dys = np.linspace(-dy_max, dy_max, n)\n",
    "_us = list(product(_uxs, _uys))\n",
    "_ds = list(product(_dxs, _dys))\n",
    "\n",
    "# u1_exp = np.sum(np.array(_us) * pi_1.reshape(-1, 1), axis=0)\n",
    "# u2_exp = np.sum(np.array(_us) * pi_2.reshape(-1, 1), axis=0)\n",
    "\n",
    "# distance_to_gt_mmd_36 = np.mean([np.linalg.norm(GT_action_1 - u1_exp), np.linalg.norm(GT_action_2 - u2_exp)])\n",
    "norm_diff_1 = np.linalg.norm(np.array(_us) - GT_action_1, axis=1)\n",
    "norm_diff_2 = np.linalg.norm(np.array(_us) - GT_action_2, axis=1)\n",
    "\n",
    "distance_to_gt_mmd_36 = norm_diff_1.dot(pi_1) + norm_diff_2.dot(pi_2)\n",
    "distance_to_gt_mmd_36"
   ]
  },
  {
   "cell_type": "code",
   "execution_count": 52,
   "id": "7242e2a2-153f-4776-9af3-3693e109c7c9",
   "metadata": {},
   "outputs": [
    {
     "name": "stderr",
     "output_type": "stream",
     "text": [
      "20it [00:23,  1.14s/it]"
     ]
    },
    {
     "name": "stdout",
     "output_type": "stream",
     "text": [
      "Exploitability: 0.10242629760094102\n"
     ]
    },
    {
     "name": "stderr",
     "output_type": "stream",
     "text": [
      "40it [00:48,  1.18s/it]"
     ]
    },
    {
     "name": "stdout",
     "output_type": "stream",
     "text": [
      "Exploitability: 0.05268333898409305\n"
     ]
    },
    {
     "name": "stderr",
     "output_type": "stream",
     "text": [
      "60it [01:13,  1.18s/it]"
     ]
    },
    {
     "name": "stdout",
     "output_type": "stream",
     "text": [
      "Exploitability: 0.03547016545713677\n"
     ]
    },
    {
     "name": "stderr",
     "output_type": "stream",
     "text": [
      "80it [01:39,  1.18s/it]"
     ]
    },
    {
     "name": "stdout",
     "output_type": "stream",
     "text": [
      "Exploitability: 0.02672900646529952\n"
     ]
    },
    {
     "name": "stderr",
     "output_type": "stream",
     "text": [
      "100it [02:05,  1.19s/it]"
     ]
    },
    {
     "name": "stdout",
     "output_type": "stream",
     "text": [
      "Exploitability: 0.021441043816945338\n"
     ]
    },
    {
     "name": "stderr",
     "output_type": "stream",
     "text": [
      "120it [02:30,  1.18s/it]"
     ]
    },
    {
     "name": "stdout",
     "output_type": "stream",
     "text": [
      "Exploitability: 0.01789853612558423\n"
     ]
    },
    {
     "name": "stderr",
     "output_type": "stream",
     "text": [
      "140it [02:57,  1.24s/it]"
     ]
    },
    {
     "name": "stdout",
     "output_type": "stream",
     "text": [
      "Exploitability: 0.0153601850445928\n"
     ]
    },
    {
     "name": "stderr",
     "output_type": "stream",
     "text": [
      "160it [03:23,  1.24s/it]"
     ]
    },
    {
     "name": "stdout",
     "output_type": "stream",
     "text": [
      "Exploitability: 0.01345222720729189\n"
     ]
    },
    {
     "name": "stderr",
     "output_type": "stream",
     "text": [
      "180it [03:50,  1.23s/it]"
     ]
    },
    {
     "name": "stdout",
     "output_type": "stream",
     "text": [
      "Exploitability: 0.011965837436079818\n"
     ]
    },
    {
     "name": "stderr",
     "output_type": "stream",
     "text": [
      "200it [04:16,  1.23s/it]"
     ]
    },
    {
     "name": "stdout",
     "output_type": "stream",
     "text": [
      "Exploitability: 0.010775220985255296\n"
     ]
    },
    {
     "name": "stderr",
     "output_type": "stream",
     "text": [
      "220it [04:43,  1.21s/it]"
     ]
    },
    {
     "name": "stdout",
     "output_type": "stream",
     "text": [
      "Exploitability: 0.00980009243539759\n"
     ]
    },
    {
     "name": "stderr",
     "output_type": "stream",
     "text": [
      "240it [05:09,  1.22s/it]"
     ]
    },
    {
     "name": "stdout",
     "output_type": "stream",
     "text": [
      "Exploitability: 0.008986808245935451\n"
     ]
    },
    {
     "name": "stderr",
     "output_type": "stream",
     "text": [
      "260it [05:36,  1.21s/it]"
     ]
    },
    {
     "name": "stdout",
     "output_type": "stream",
     "text": [
      "Exploitability: 0.008298164424844323\n"
     ]
    },
    {
     "name": "stderr",
     "output_type": "stream",
     "text": [
      "280it [06:02,  1.23s/it]"
     ]
    },
    {
     "name": "stdout",
     "output_type": "stream",
     "text": [
      "Exploitability: 0.007707547901214529\n"
     ]
    },
    {
     "name": "stderr",
     "output_type": "stream",
     "text": [
      "300it [06:29,  1.22s/it]"
     ]
    },
    {
     "name": "stdout",
     "output_type": "stream",
     "text": [
      "Exploitability: 0.0071954185261203785\n"
     ]
    },
    {
     "name": "stderr",
     "output_type": "stream",
     "text": [
      "320it [06:56,  1.24s/it]"
     ]
    },
    {
     "name": "stdout",
     "output_type": "stream",
     "text": [
      "Exploitability: 0.0067471058632149195\n"
     ]
    },
    {
     "name": "stderr",
     "output_type": "stream",
     "text": [
      "340it [07:22,  1.23s/it]"
     ]
    },
    {
     "name": "stdout",
     "output_type": "stream",
     "text": [
      "Exploitability: 0.006351381185127458\n"
     ]
    },
    {
     "name": "stderr",
     "output_type": "stream",
     "text": [
      "360it [07:49,  1.24s/it]"
     ]
    },
    {
     "name": "stdout",
     "output_type": "stream",
     "text": [
      "Exploitability: 0.005999504113164078\n"
     ]
    },
    {
     "name": "stderr",
     "output_type": "stream",
     "text": [
      "380it [08:15,  1.28s/it]"
     ]
    },
    {
     "name": "stdout",
     "output_type": "stream",
     "text": [
      "Exploitability: 0.005684569514722959\n"
     ]
    },
    {
     "name": "stderr",
     "output_type": "stream",
     "text": [
      "400it [08:42,  1.20s/it]"
     ]
    },
    {
     "name": "stdout",
     "output_type": "stream",
     "text": [
      "Exploitability: 0.005401049838406502\n"
     ]
    },
    {
     "name": "stderr",
     "output_type": "stream",
     "text": [
      "420it [09:08,  1.22s/it]"
     ]
    },
    {
     "name": "stdout",
     "output_type": "stream",
     "text": [
      "Exploitability: 0.005144467898416494\n"
     ]
    },
    {
     "name": "stderr",
     "output_type": "stream",
     "text": [
      "440it [09:35,  1.22s/it]"
     ]
    },
    {
     "name": "stdout",
     "output_type": "stream",
     "text": [
      "Exploitability: 0.004911158696700779\n"
     ]
    },
    {
     "name": "stderr",
     "output_type": "stream",
     "text": [
      "460it [10:01,  1.24s/it]"
     ]
    },
    {
     "name": "stdout",
     "output_type": "stream",
     "text": [
      "Exploitability: 0.004698093243490686\n"
     ]
    },
    {
     "name": "stderr",
     "output_type": "stream",
     "text": [
      "480it [10:28,  1.21s/it]"
     ]
    },
    {
     "name": "stdout",
     "output_type": "stream",
     "text": [
      "Exploitability: 0.004502746331082275\n"
     ]
    },
    {
     "name": "stderr",
     "output_type": "stream",
     "text": [
      "500it [10:54,  1.20s/it]"
     ]
    },
    {
     "name": "stdout",
     "output_type": "stream",
     "text": [
      "Exploitability: 0.004322995978544908\n"
     ]
    },
    {
     "name": "stderr",
     "output_type": "stream",
     "text": [
      "520it [11:20,  1.22s/it]"
     ]
    },
    {
     "name": "stdout",
     "output_type": "stream",
     "text": [
      "Exploitability: 0.004157046036950773\n"
     ]
    },
    {
     "name": "stderr",
     "output_type": "stream",
     "text": [
      "540it [11:47,  1.20s/it]"
     ]
    },
    {
     "name": "stdout",
     "output_type": "stream",
     "text": [
      "Exploitability: 0.004003365961647187\n"
     ]
    },
    {
     "name": "stderr",
     "output_type": "stream",
     "text": [
      "560it [12:13,  1.24s/it]"
     ]
    },
    {
     "name": "stdout",
     "output_type": "stream",
     "text": [
      "Exploitability: 0.003860643467471059\n"
     ]
    },
    {
     "name": "stderr",
     "output_type": "stream",
     "text": [
      "580it [12:40,  1.23s/it]"
     ]
    },
    {
     "name": "stdout",
     "output_type": "stream",
     "text": [
      "Exploitability: 0.0037277469625667248\n"
     ]
    },
    {
     "name": "stderr",
     "output_type": "stream",
     "text": [
      "600it [13:06,  1.22s/it]"
     ]
    },
    {
     "name": "stdout",
     "output_type": "stream",
     "text": [
      "Exploitability: 0.0036036954829473666\n"
     ]
    },
    {
     "name": "stderr",
     "output_type": "stream",
     "text": [
      "620it [13:33,  1.20s/it]"
     ]
    },
    {
     "name": "stdout",
     "output_type": "stream",
     "text": [
      "Exploitability: 0.003487634436797671\n"
     ]
    },
    {
     "name": "stderr",
     "output_type": "stream",
     "text": [
      "640it [13:59,  1.21s/it]"
     ]
    },
    {
     "name": "stdout",
     "output_type": "stream",
     "text": [
      "Exploitability: 0.003378815889627629\n"
     ]
    },
    {
     "name": "stderr",
     "output_type": "stream",
     "text": [
      "660it [14:25,  1.20s/it]"
     ]
    },
    {
     "name": "stdout",
     "output_type": "stream",
     "text": [
      "Exploitability: 0.003276582428519248\n"
     ]
    },
    {
     "name": "stderr",
     "output_type": "stream",
     "text": [
      "680it [14:52,  1.21s/it]"
     ]
    },
    {
     "name": "stdout",
     "output_type": "stream",
     "text": [
      "Exploitability: 0.0031803538696787426\n"
     ]
    },
    {
     "name": "stderr",
     "output_type": "stream",
     "text": [
      "700it [15:18,  1.25s/it]"
     ]
    },
    {
     "name": "stdout",
     "output_type": "stream",
     "text": [
      "Exploitability: 0.00308961624144255\n"
     ]
    },
    {
     "name": "stderr",
     "output_type": "stream",
     "text": [
      "720it [15:45,  1.24s/it]"
     ]
    },
    {
     "name": "stdout",
     "output_type": "stream",
     "text": [
      "Exploitability: 0.003003912600903491\n"
     ]
    },
    {
     "name": "stderr",
     "output_type": "stream",
     "text": [
      "740it [16:11,  1.23s/it]"
     ]
    },
    {
     "name": "stdout",
     "output_type": "stream",
     "text": [
      "Exploitability: 0.002922835337721308\n"
     ]
    },
    {
     "name": "stderr",
     "output_type": "stream",
     "text": [
      "760it [16:38,  1.22s/it]"
     ]
    },
    {
     "name": "stdout",
     "output_type": "stream",
     "text": [
      "Exploitability: 0.0028460196915260916\n"
     ]
    },
    {
     "name": "stderr",
     "output_type": "stream",
     "text": [
      "780it [17:04,  1.23s/it]"
     ]
    },
    {
     "name": "stdout",
     "output_type": "stream",
     "text": [
      "Exploitability: 0.002773138265366959\n"
     ]
    },
    {
     "name": "stderr",
     "output_type": "stream",
     "text": [
      "800it [17:31,  1.23s/it]"
     ]
    },
    {
     "name": "stdout",
     "output_type": "stream",
     "text": [
      "Exploitability: 0.0027038963611127897\n"
     ]
    },
    {
     "name": "stderr",
     "output_type": "stream",
     "text": [
      "820it [17:57,  1.21s/it]"
     ]
    },
    {
     "name": "stdout",
     "output_type": "stream",
     "text": [
      "Exploitability: 0.002638027996651915\n"
     ]
    },
    {
     "name": "stderr",
     "output_type": "stream",
     "text": [
      "840it [18:23,  1.21s/it]"
     ]
    },
    {
     "name": "stdout",
     "output_type": "stream",
     "text": [
      "Exploitability: 0.0025752924913808872\n"
     ]
    },
    {
     "name": "stderr",
     "output_type": "stream",
     "text": [
      "860it [18:50,  1.20s/it]"
     ]
    },
    {
     "name": "stdout",
     "output_type": "stream",
     "text": [
      "Exploitability: 0.0025154715275860218\n"
     ]
    },
    {
     "name": "stderr",
     "output_type": "stream",
     "text": [
      "880it [19:16,  1.22s/it]"
     ]
    },
    {
     "name": "stdout",
     "output_type": "stream",
     "text": [
      "Exploitability: 0.0024583666120899794\n"
     ]
    },
    {
     "name": "stderr",
     "output_type": "stream",
     "text": [
      "900it [19:42,  1.22s/it]"
     ]
    },
    {
     "name": "stdout",
     "output_type": "stream",
     "text": [
      "Exploitability: 0.002403796875972808\n"
     ]
    },
    {
     "name": "stderr",
     "output_type": "stream",
     "text": [
      "920it [20:09,  1.19s/it]"
     ]
    },
    {
     "name": "stdout",
     "output_type": "stream",
     "text": [
      "Exploitability: 0.0023515971609679998\n"
     ]
    },
    {
     "name": "stderr",
     "output_type": "stream",
     "text": [
      "940it [20:35,  1.23s/it]"
     ]
    },
    {
     "name": "stdout",
     "output_type": "stream",
     "text": [
      "Exploitability: 0.002301616349894786\n"
     ]
    },
    {
     "name": "stderr",
     "output_type": "stream",
     "text": [
      "960it [21:02,  1.22s/it]"
     ]
    },
    {
     "name": "stdout",
     "output_type": "stream",
     "text": [
      "Exploitability: 0.002253715905568554\n"
     ]
    },
    {
     "name": "stderr",
     "output_type": "stream",
     "text": [
      "980it [21:28,  1.24s/it]"
     ]
    },
    {
     "name": "stdout",
     "output_type": "stream",
     "text": [
      "Exploitability: 0.0022077685884314135\n"
     ]
    },
    {
     "name": "stderr",
     "output_type": "stream",
     "text": [
      "1000it [21:55,  1.23s/it]"
     ]
    },
    {
     "name": "stdout",
     "output_type": "stream",
     "text": [
      "Exploitability: 0.0021636573279234517\n"
     ]
    },
    {
     "name": "stderr",
     "output_type": "stream",
     "text": [
      "1020it [22:22,  1.26s/it]"
     ]
    },
    {
     "name": "stdout",
     "output_type": "stream",
     "text": [
      "Exploitability: 0.0021212742264947737\n"
     ]
    },
    {
     "name": "stderr",
     "output_type": "stream",
     "text": [
      "1040it [22:49,  1.23s/it]"
     ]
    },
    {
     "name": "stdout",
     "output_type": "stream",
     "text": [
      "Exploitability: 0.0020805196784353663\n"
     ]
    },
    {
     "name": "stderr",
     "output_type": "stream",
     "text": [
      "1060it [23:16,  1.23s/it]"
     ]
    },
    {
     "name": "stdout",
     "output_type": "stream",
     "text": [
      "Exploitability: 0.002041301588361133\n"
     ]
    },
    {
     "name": "stderr",
     "output_type": "stream",
     "text": [
      "1080it [23:42,  1.21s/it]"
     ]
    },
    {
     "name": "stdout",
     "output_type": "stream",
     "text": [
      "Exploitability: 0.0020035346764579742\n"
     ]
    },
    {
     "name": "stderr",
     "output_type": "stream",
     "text": [
      "1100it [24:09,  1.24s/it]"
     ]
    },
    {
     "name": "stdout",
     "output_type": "stream",
     "text": [
      "Exploitability: 0.0019671398594471867\n"
     ]
    },
    {
     "name": "stderr",
     "output_type": "stream",
     "text": [
      "1120it [24:37,  1.28s/it]"
     ]
    },
    {
     "name": "stdout",
     "output_type": "stream",
     "text": [
      "Exploitability: 0.001932043697815744\n"
     ]
    },
    {
     "name": "stderr",
     "output_type": "stream",
     "text": [
      "1140it [25:04,  1.29s/it]"
     ]
    },
    {
     "name": "stdout",
     "output_type": "stream",
     "text": [
      "Exploitability: 0.0018981779011841837\n"
     ]
    },
    {
     "name": "stderr",
     "output_type": "stream",
     "text": [
      "1160it [25:30,  1.24s/it]"
     ]
    },
    {
     "name": "stdout",
     "output_type": "stream",
     "text": [
      "Exploitability: 0.0018654788847988213\n"
     ]
    },
    {
     "name": "stderr",
     "output_type": "stream",
     "text": [
      "1180it [25:58,  1.27s/it]"
     ]
    },
    {
     "name": "stdout",
     "output_type": "stream",
     "text": [
      "Exploitability: 0.0018338873710852521\n"
     ]
    },
    {
     "name": "stderr",
     "output_type": "stream",
     "text": [
      "1200it [26:24,  1.25s/it]"
     ]
    },
    {
     "name": "stdout",
     "output_type": "stream",
     "text": [
      "Exploitability: 0.0018033480310171157\n"
     ]
    },
    {
     "name": "stderr",
     "output_type": "stream",
     "text": [
      "1220it [26:51,  1.21s/it]"
     ]
    },
    {
     "name": "stdout",
     "output_type": "stream",
     "text": [
      "Exploitability: 0.001773809160730111\n"
     ]
    },
    {
     "name": "stderr",
     "output_type": "stream",
     "text": [
      "1240it [27:18,  1.24s/it]"
     ]
    },
    {
     "name": "stdout",
     "output_type": "stream",
     "text": [
      "Exploitability: 0.001745222389404666\n"
     ]
    },
    {
     "name": "stderr",
     "output_type": "stream",
     "text": [
      "1260it [27:45,  1.22s/it]"
     ]
    },
    {
     "name": "stdout",
     "output_type": "stream",
     "text": [
      "Exploitability: 0.0017175424149500351\n"
     ]
    },
    {
     "name": "stderr",
     "output_type": "stream",
     "text": [
      "1280it [28:12,  1.23s/it]"
     ]
    },
    {
     "name": "stdout",
     "output_type": "stream",
     "text": [
      "Exploitability: 0.0016907267644430402\n"
     ]
    },
    {
     "name": "stderr",
     "output_type": "stream",
     "text": [
      "1300it [28:39,  1.26s/it]"
     ]
    },
    {
     "name": "stdout",
     "output_type": "stream",
     "text": [
      "Exploitability: 0.0016647355766730154\n"
     ]
    },
    {
     "name": "stderr",
     "output_type": "stream",
     "text": [
      "1320it [29:06,  1.25s/it]"
     ]
    },
    {
     "name": "stdout",
     "output_type": "stream",
     "text": [
      "Exploitability: 0.0016395314044295173\n"
     ]
    },
    {
     "name": "stderr",
     "output_type": "stream",
     "text": [
      "1340it [29:32,  1.26s/it]"
     ]
    },
    {
     "name": "stdout",
     "output_type": "stream",
     "text": [
      "Exploitability: 0.0016150790344900967\n"
     ]
    },
    {
     "name": "stderr",
     "output_type": "stream",
     "text": [
      "1360it [29:59,  1.26s/it]"
     ]
    },
    {
     "name": "stdout",
     "output_type": "stream",
     "text": [
      "Exploitability: 0.0015913453234761565\n"
     ]
    },
    {
     "name": "stderr",
     "output_type": "stream",
     "text": [
      "1380it [30:26,  1.24s/it]"
     ]
    },
    {
     "name": "stdout",
     "output_type": "stream",
     "text": [
      "Exploitability: 0.0015682990479731762\n"
     ]
    },
    {
     "name": "stderr",
     "output_type": "stream",
     "text": [
      "1400it [30:53,  1.23s/it]"
     ]
    },
    {
     "name": "stdout",
     "output_type": "stream",
     "text": [
      "Exploitability: 0.0015459107674882233\n"
     ]
    },
    {
     "name": "stderr",
     "output_type": "stream",
     "text": [
      "1420it [31:19,  1.22s/it]"
     ]
    },
    {
     "name": "stdout",
     "output_type": "stream",
     "text": [
      "Exploitability: 0.001524152698980652\n"
     ]
    },
    {
     "name": "stderr",
     "output_type": "stream",
     "text": [
      "1440it [31:46,  1.21s/it]"
     ]
    },
    {
     "name": "stdout",
     "output_type": "stream",
     "text": [
      "Exploitability: 0.0015029986018395558\n"
     ]
    },
    {
     "name": "stderr",
     "output_type": "stream",
     "text": [
      "1460it [32:12,  1.20s/it]"
     ]
    },
    {
     "name": "stdout",
     "output_type": "stream",
     "text": [
      "Exploitability: 0.0014824236723143258\n"
     ]
    },
    {
     "name": "stderr",
     "output_type": "stream",
     "text": [
      "1480it [32:39,  1.22s/it]"
     ]
    },
    {
     "name": "stdout",
     "output_type": "stream",
     "text": [
      "Exploitability: 0.0014624044464897068\n"
     ]
    },
    {
     "name": "stderr",
     "output_type": "stream",
     "text": [
      "1500it [33:06,  1.21s/it]"
     ]
    },
    {
     "name": "stdout",
     "output_type": "stream",
     "text": [
      "Exploitability: 0.0014429187110266417\n"
     ]
    },
    {
     "name": "stderr",
     "output_type": "stream",
     "text": [
      "1520it [33:33,  1.24s/it]"
     ]
    },
    {
     "name": "stdout",
     "output_type": "stream",
     "text": [
      "Exploitability: 0.0014239454209411528\n"
     ]
    },
    {
     "name": "stderr",
     "output_type": "stream",
     "text": [
      "1540it [34:00,  1.28s/it]"
     ]
    },
    {
     "name": "stdout",
     "output_type": "stream",
     "text": [
      "Exploitability: 0.0014054646237841029\n"
     ]
    },
    {
     "name": "stderr",
     "output_type": "stream",
     "text": [
      "1560it [34:26,  1.20s/it]"
     ]
    },
    {
     "name": "stdout",
     "output_type": "stream",
     "text": [
      "Exploitability: 0.0013874573896546227\n"
     ]
    },
    {
     "name": "stderr",
     "output_type": "stream",
     "text": [
      "1580it [34:53,  1.24s/it]"
     ]
    },
    {
     "name": "stdout",
     "output_type": "stream",
     "text": [
      "Exploitability: 0.001369905746521849\n"
     ]
    },
    {
     "name": "stderr",
     "output_type": "stream",
     "text": [
      "1600it [35:20,  1.24s/it]"
     ]
    },
    {
     "name": "stdout",
     "output_type": "stream",
     "text": [
      "Exploitability: 0.0013527926203944496\n"
     ]
    },
    {
     "name": "stderr",
     "output_type": "stream",
     "text": [
      "1620it [35:47,  1.21s/it]"
     ]
    },
    {
     "name": "stdout",
     "output_type": "stream",
     "text": [
      "Exploitability: 0.0013361017799209396\n"
     ]
    },
    {
     "name": "stderr",
     "output_type": "stream",
     "text": [
      "1640it [36:13,  1.23s/it]"
     ]
    },
    {
     "name": "stdout",
     "output_type": "stream",
     "text": [
      "Exploitability: 0.0013198177850402004\n"
     ]
    },
    {
     "name": "stderr",
     "output_type": "stream",
     "text": [
      "1660it [36:40,  1.23s/it]"
     ]
    },
    {
     "name": "stdout",
     "output_type": "stream",
     "text": [
      "Exploitability: 0.0013039259393448077\n"
     ]
    },
    {
     "name": "stderr",
     "output_type": "stream",
     "text": [
      "1680it [37:07,  1.29s/it]"
     ]
    },
    {
     "name": "stdout",
     "output_type": "stream",
     "text": [
      "Exploitability: 0.0012884122458364233\n"
     ]
    },
    {
     "name": "stderr",
     "output_type": "stream",
     "text": [
      "1700it [37:34,  1.24s/it]"
     ]
    },
    {
     "name": "stdout",
     "output_type": "stream",
     "text": [
      "Exploitability: 0.0012732633658147918\n"
     ]
    },
    {
     "name": "stderr",
     "output_type": "stream",
     "text": [
      "1720it [38:01,  1.27s/it]"
     ]
    },
    {
     "name": "stdout",
     "output_type": "stream",
     "text": [
      "Exploitability: 0.0012584665806226747\n"
     ]
    },
    {
     "name": "stderr",
     "output_type": "stream",
     "text": [
      "1740it [38:28,  1.24s/it]"
     ]
    },
    {
     "name": "stdout",
     "output_type": "stream",
     "text": [
      "Exploitability: 0.0012440097560320051\n"
     ]
    },
    {
     "name": "stderr",
     "output_type": "stream",
     "text": [
      "1760it [38:55,  1.25s/it]"
     ]
    },
    {
     "name": "stdout",
     "output_type": "stream",
     "text": [
      "Exploitability: 0.0012298813090583227\n"
     ]
    },
    {
     "name": "stderr",
     "output_type": "stream",
     "text": [
      "1780it [39:22,  1.22s/it]"
     ]
    },
    {
     "name": "stdout",
     "output_type": "stream",
     "text": [
      "Exploitability: 0.0012160701770084215\n"
     ]
    },
    {
     "name": "stderr",
     "output_type": "stream",
     "text": [
      "1800it [39:49,  1.22s/it]"
     ]
    },
    {
     "name": "stdout",
     "output_type": "stream",
     "text": [
      "Exploitability: 0.0012025657885903485\n"
     ]
    },
    {
     "name": "stderr",
     "output_type": "stream",
     "text": [
      "1820it [40:16,  1.25s/it]"
     ]
    },
    {
     "name": "stdout",
     "output_type": "stream",
     "text": [
      "Exploitability: 0.0011893580369310985\n"
     ]
    },
    {
     "name": "stderr",
     "output_type": "stream",
     "text": [
      "1840it [40:42,  1.22s/it]"
     ]
    },
    {
     "name": "stdout",
     "output_type": "stream",
     "text": [
      "Exploitability: 0.001176437254346574\n"
     ]
    },
    {
     "name": "stderr",
     "output_type": "stream",
     "text": [
      "1860it [41:09,  1.27s/it]"
     ]
    },
    {
     "name": "stdout",
     "output_type": "stream",
     "text": [
      "Exploitability: 0.001163794188743461\n"
     ]
    },
    {
     "name": "stderr",
     "output_type": "stream",
     "text": [
      "1880it [41:36,  1.21s/it]"
     ]
    },
    {
     "name": "stdout",
     "output_type": "stream",
     "text": [
      "Exploitability: 0.001151419981526458\n"
     ]
    },
    {
     "name": "stderr",
     "output_type": "stream",
     "text": [
      "1900it [42:02,  1.23s/it]"
     ]
    },
    {
     "name": "stdout",
     "output_type": "stream",
     "text": [
      "Exploitability: 0.0011393061468969456\n"
     ]
    },
    {
     "name": "stderr",
     "output_type": "stream",
     "text": [
      "1920it [42:29,  1.21s/it]"
     ]
    },
    {
     "name": "stdout",
     "output_type": "stream",
     "text": [
      "Exploitability: 0.0011274445524473986\n"
     ]
    },
    {
     "name": "stderr",
     "output_type": "stream",
     "text": [
      "1940it [42:55,  1.27s/it]"
     ]
    },
    {
     "name": "stdout",
     "output_type": "stream",
     "text": [
      "Exploitability: 0.0011158274009538394\n"
     ]
    },
    {
     "name": "stderr",
     "output_type": "stream",
     "text": [
      "1960it [43:22,  1.23s/it]"
     ]
    },
    {
     "name": "stdout",
     "output_type": "stream",
     "text": [
      "Exploitability: 0.0011044472132849537\n"
     ]
    },
    {
     "name": "stderr",
     "output_type": "stream",
     "text": [
      "1980it [43:49,  1.27s/it]"
     ]
    },
    {
     "name": "stdout",
     "output_type": "stream",
     "text": [
      "Exploitability: 0.0010932968123429365\n"
     ]
    },
    {
     "name": "stderr",
     "output_type": "stream",
     "text": [
      "2000it [44:16,  1.24s/it]"
     ]
    },
    {
     "name": "stdout",
     "output_type": "stream",
     "text": [
      "Exploitability: 0.0010823693079716756\n"
     ]
    },
    {
     "name": "stderr",
     "output_type": "stream",
     "text": [
      "2020it [44:43,  1.26s/it]"
     ]
    },
    {
     "name": "stdout",
     "output_type": "stream",
     "text": [
      "Exploitability: 0.0010716580827567768\n"
     ]
    },
    {
     "name": "stderr",
     "output_type": "stream",
     "text": [
      "2040it [45:10,  1.32s/it]"
     ]
    },
    {
     "name": "stdout",
     "output_type": "stream",
     "text": [
      "Exploitability: 0.0010611567786629195\n"
     ]
    },
    {
     "name": "stderr",
     "output_type": "stream",
     "text": [
      "2060it [45:37,  1.24s/it]"
     ]
    },
    {
     "name": "stdout",
     "output_type": "stream",
     "text": [
      "Exploitability: 0.0010508592844498121\n"
     ]
    },
    {
     "name": "stderr",
     "output_type": "stream",
     "text": [
      "2080it [46:03,  1.22s/it]"
     ]
    },
    {
     "name": "stdout",
     "output_type": "stream",
     "text": [
      "Exploitability: 0.0010407597238114574\n"
     ]
    },
    {
     "name": "stderr",
     "output_type": "stream",
     "text": [
      "2100it [46:30,  1.23s/it]"
     ]
    },
    {
     "name": "stdout",
     "output_type": "stream",
     "text": [
      "Exploitability: 0.001030852444193986\n"
     ]
    },
    {
     "name": "stderr",
     "output_type": "stream",
     "text": [
      "2120it [46:57,  1.24s/it]"
     ]
    },
    {
     "name": "stdout",
     "output_type": "stream",
     "text": [
      "Exploitability: 0.0010211320062477602\n"
     ]
    },
    {
     "name": "stderr",
     "output_type": "stream",
     "text": [
      "2140it [47:24,  1.26s/it]"
     ]
    },
    {
     "name": "stdout",
     "output_type": "stream",
     "text": [
      "Exploitability: 0.0010115931738678974\n"
     ]
    },
    {
     "name": "stderr",
     "output_type": "stream",
     "text": [
      "2160it [47:51,  1.23s/it]"
     ]
    },
    {
     "name": "stdout",
     "output_type": "stream",
     "text": [
      "Exploitability: 0.0010022309047903466\n"
     ]
    },
    {
     "name": "stderr",
     "output_type": "stream",
     "text": [
      "2180it [48:20,  1.33s/it]"
     ]
    },
    {
     "name": "stdout",
     "output_type": "stream",
     "text": [
      "Exploitability: 0.0009930403417015565\n",
      "Total Time:  2900.53639793396\n"
     ]
    },
    {
     "name": "stderr",
     "output_type": "stream",
     "text": [
      "\n"
     ]
    }
   ],
   "source": [
    "n = 8\n",
    "# for _ in tqdm(range(5000)):\n",
    "#     mmd_solver_64.update_sequences()\n",
    "\n",
    "exps = 1e6\n",
    "i = 0\n",
    "time_in = time.time()\n",
    "with tqdm() as pbar:\n",
    "    while exps > 1e-3:\n",
    "        mmd_solver_64.update_sequences()\n",
    "        av_policy = mmd_solver_64.get_avg_policies()\n",
    "        i += 1\n",
    "        pbar.update(1)\n",
    "        if i % 20 == 0:\n",
    "            # exps = exploitability.exploitability(game_64, av_policy)\n",
    "            exps = exploitability.nash_conv(game_64, av_policy, return_only_nash_conv=False).player_improvements[0]\n",
    "            print(f'Exploitability: {exps}')\n",
    "time_out = time.time()\n",
    "\n",
    "print('Total Time: ', time_out - time_in)\n",
    "\n",
    "mmd_policy_dict = mmd_solver_64.get_avg_policies().to_dict()\n",
    "# mmd_policy_dict.keys()\n",
    "\n",
    "pi_1 = mmd_policy_dict['Current player: 0\\nGoal:1 us: op:']\n",
    "pi_2 = mmd_policy_dict['Current player: 0\\nGoal:2 us: op:']\n",
    "\n",
    "pi_1 = np.array(pi_1)[:, 1]\n",
    "pi_2 = np.array(pi_2)[:, 1]\n",
    "\n",
    "ux_max = 0.99\n",
    "uy_max = 3.947\n",
    "dx_max = 0.99\n",
    "dy_max = 0.99\n",
    "\n",
    "_uxs = np.linspace(-ux_max, ux_max, n)\n",
    "_uys = np.linspace(-uy_max, uy_max, n)\n",
    "_dxs = np.linspace(-dx_max, dx_max, n)\n",
    "_dys = np.linspace(-dy_max, dy_max, n)\n",
    "_us = list(product(_uxs, _uys))\n",
    "_ds = list(product(_dxs, _dys))\n",
    "\n",
    "# u1_exp = np.sum(np.array(_us) * pi_1.reshape(-1, 1), axis=0)\n",
    "# u2_exp = np.sum(np.array(_us) * pi_2.reshape(-1, 1), axis=0)\n",
    "\n",
    "# distance_to_gt_mmd_64 = np.mean([np.linalg.norm(GT_action_1 - u1_exp), np.linalg.norm(GT_action_2 - u2_exp)])\n",
    "norm_diff_1 = np.linalg.norm(np.array(_us) - GT_action_1, axis=1)\n",
    "norm_diff_2 = np.linalg.norm(np.array(_us) - GT_action_2, axis=1)\n",
    "\n",
    "distance_to_gt_mmd_64 = norm_diff_1.dot(pi_1) + norm_diff_2.dot(pi_2)"
   ]
  },
  {
   "cell_type": "code",
   "execution_count": 43,
   "id": "a841e6f7-11a9-4686-9935-c80e46c0d008",
   "metadata": {},
   "outputs": [],
   "source": [
    "mmd_solver_144 = mmd_dilated.MMDDilatedEnt(game_144, alpha=0, stepsize=40) "
   ]
  },
  {
   "cell_type": "code",
   "execution_count": 53,
   "id": "e71ea1cd-54ab-4e2b-9d5a-ec453d204ca0",
   "metadata": {},
   "outputs": [
    {
     "name": "stderr",
     "output_type": "stream",
     "text": [
      "20it [02:03,  6.13s/it]"
     ]
    },
    {
     "name": "stdout",
     "output_type": "stream",
     "text": [
      "Exploitability: 0.04434366373044951\n"
     ]
    },
    {
     "name": "stderr",
     "output_type": "stream",
     "text": [
      "40it [04:16,  6.23s/it]"
     ]
    },
    {
     "name": "stdout",
     "output_type": "stream",
     "text": [
      "Exploitability: 0.03149106576216254\n"
     ]
    },
    {
     "name": "stderr",
     "output_type": "stream",
     "text": [
      "60it [06:29,  6.18s/it]"
     ]
    },
    {
     "name": "stdout",
     "output_type": "stream",
     "text": [
      "Exploitability: 0.024414449356059298\n"
     ]
    },
    {
     "name": "stderr",
     "output_type": "stream",
     "text": [
      "80it [08:42,  6.13s/it]"
     ]
    },
    {
     "name": "stdout",
     "output_type": "stream",
     "text": [
      "Exploitability: 0.01993473514113453\n"
     ]
    },
    {
     "name": "stderr",
     "output_type": "stream",
     "text": [
      "100it [10:55,  6.22s/it]"
     ]
    },
    {
     "name": "stdout",
     "output_type": "stream",
     "text": [
      "Exploitability: 0.016844078590017242\n"
     ]
    },
    {
     "name": "stderr",
     "output_type": "stream",
     "text": [
      "120it [13:10,  6.14s/it]"
     ]
    },
    {
     "name": "stdout",
     "output_type": "stream",
     "text": [
      "Exploitability: 0.014583128446617577\n"
     ]
    },
    {
     "name": "stderr",
     "output_type": "stream",
     "text": [
      "140it [15:24,  6.12s/it]"
     ]
    },
    {
     "name": "stdout",
     "output_type": "stream",
     "text": [
      "Exploitability: 0.01285731442941096\n"
     ]
    },
    {
     "name": "stderr",
     "output_type": "stream",
     "text": [
      "160it [17:39,  6.13s/it]"
     ]
    },
    {
     "name": "stdout",
     "output_type": "stream",
     "text": [
      "Exploitability: 0.011496752055934922\n"
     ]
    },
    {
     "name": "stderr",
     "output_type": "stream",
     "text": [
      "180it [19:53,  6.18s/it]"
     ]
    },
    {
     "name": "stdout",
     "output_type": "stream",
     "text": [
      "Exploitability: 0.010396584395080621\n"
     ]
    },
    {
     "name": "stderr",
     "output_type": "stream",
     "text": [
      "200it [22:09,  6.30s/it]"
     ]
    },
    {
     "name": "stdout",
     "output_type": "stream",
     "text": [
      "Exploitability: 0.009488585757955192\n"
     ]
    },
    {
     "name": "stderr",
     "output_type": "stream",
     "text": [
      "220it [24:21,  6.04s/it]"
     ]
    },
    {
     "name": "stdout",
     "output_type": "stream",
     "text": [
      "Exploitability: 0.008726450355709958\n"
     ]
    },
    {
     "name": "stderr",
     "output_type": "stream",
     "text": [
      "240it [26:34,  6.08s/it]"
     ]
    },
    {
     "name": "stdout",
     "output_type": "stream",
     "text": [
      "Exploitability: 0.008077643637813159\n"
     ]
    },
    {
     "name": "stderr",
     "output_type": "stream",
     "text": [
      "260it [28:46,  6.16s/it]"
     ]
    },
    {
     "name": "stdout",
     "output_type": "stream",
     "text": [
      "Exploitability: 0.0075186371576880795\n"
     ]
    },
    {
     "name": "stderr",
     "output_type": "stream",
     "text": [
      "280it [30:58,  6.15s/it]"
     ]
    },
    {
     "name": "stdout",
     "output_type": "stream",
     "text": [
      "Exploitability: 0.00703199397596066\n"
     ]
    },
    {
     "name": "stderr",
     "output_type": "stream",
     "text": [
      "300it [33:10,  6.09s/it]"
     ]
    },
    {
     "name": "stdout",
     "output_type": "stream",
     "text": [
      "Exploitability: 0.006604517138515842\n"
     ]
    },
    {
     "name": "stderr",
     "output_type": "stream",
     "text": [
      "320it [35:28,  6.29s/it]"
     ]
    },
    {
     "name": "stdout",
     "output_type": "stream",
     "text": [
      "Exploitability: 0.006226034781007916\n"
     ]
    },
    {
     "name": "stderr",
     "output_type": "stream",
     "text": [
      "340it [37:41,  6.18s/it]"
     ]
    },
    {
     "name": "stdout",
     "output_type": "stream",
     "text": [
      "Exploitability: 0.005888580321332437\n"
     ]
    },
    {
     "name": "stderr",
     "output_type": "stream",
     "text": [
      "360it [39:54,  6.11s/it]"
     ]
    },
    {
     "name": "stdout",
     "output_type": "stream",
     "text": [
      "Exploitability: 0.0055858255490279785\n"
     ]
    },
    {
     "name": "stderr",
     "output_type": "stream",
     "text": [
      "380it [42:08,  6.14s/it]"
     ]
    },
    {
     "name": "stdout",
     "output_type": "stream",
     "text": [
      "Exploitability: 0.005312680045407858\n"
     ]
    },
    {
     "name": "stderr",
     "output_type": "stream",
     "text": [
      "400it [44:20,  6.14s/it]"
     ]
    },
    {
     "name": "stdout",
     "output_type": "stream",
     "text": [
      "Exploitability: 0.00506500265401344\n"
     ]
    },
    {
     "name": "stderr",
     "output_type": "stream",
     "text": [
      "420it [46:32,  6.05s/it]"
     ]
    },
    {
     "name": "stdout",
     "output_type": "stream",
     "text": [
      "Exploitability: 0.00483939006363443\n"
     ]
    },
    {
     "name": "stderr",
     "output_type": "stream",
     "text": [
      "440it [48:46,  6.25s/it]"
     ]
    },
    {
     "name": "stdout",
     "output_type": "stream",
     "text": [
      "Exploitability: 0.004633019485227652\n"
     ]
    },
    {
     "name": "stderr",
     "output_type": "stream",
     "text": [
      "460it [51:01,  6.12s/it]"
     ]
    },
    {
     "name": "stdout",
     "output_type": "stream",
     "text": [
      "Exploitability: 0.0044435299357297176\n"
     ]
    },
    {
     "name": "stderr",
     "output_type": "stream",
     "text": [
      "480it [53:16,  6.22s/it]"
     ]
    },
    {
     "name": "stdout",
     "output_type": "stream",
     "text": [
      "Exploitability: 0.004268931509963991\n"
     ]
    },
    {
     "name": "stderr",
     "output_type": "stream",
     "text": [
      "500it [55:32,  6.27s/it]"
     ]
    },
    {
     "name": "stdout",
     "output_type": "stream",
     "text": [
      "Exploitability: 0.004107535233594861\n"
     ]
    },
    {
     "name": "stderr",
     "output_type": "stream",
     "text": [
      "520it [57:47,  6.21s/it]"
     ]
    },
    {
     "name": "stdout",
     "output_type": "stream",
     "text": [
      "Exploitability: 0.003957898248764913\n"
     ]
    },
    {
     "name": "stderr",
     "output_type": "stream",
     "text": [
      "540it [1:00:02,  6.19s/it]"
     ]
    },
    {
     "name": "stdout",
     "output_type": "stream",
     "text": [
      "Exploitability: 0.003818780559880164\n"
     ]
    },
    {
     "name": "stderr",
     "output_type": "stream",
     "text": [
      "560it [1:02:17,  6.28s/it]"
     ]
    },
    {
     "name": "stdout",
     "output_type": "stream",
     "text": [
      "Exploitability: 0.00368911059180288\n"
     ]
    },
    {
     "name": "stderr",
     "output_type": "stream",
     "text": [
      "580it [1:04:29,  6.12s/it]"
     ]
    },
    {
     "name": "stdout",
     "output_type": "stream",
     "text": [
      "Exploitability: 0.0035679575346012626\n"
     ]
    },
    {
     "name": "stderr",
     "output_type": "stream",
     "text": [
      "600it [1:06:45,  6.29s/it]"
     ]
    },
    {
     "name": "stdout",
     "output_type": "stream",
     "text": [
      "Exploitability: 0.0034545089643429616\n"
     ]
    },
    {
     "name": "stderr",
     "output_type": "stream",
     "text": [
      "620it [1:09:02,  6.26s/it]"
     ]
    },
    {
     "name": "stdout",
     "output_type": "stream",
     "text": [
      "Exploitability: 0.0033480526018060397\n"
     ]
    },
    {
     "name": "stderr",
     "output_type": "stream",
     "text": [
      "640it [1:11:14,  6.07s/it]"
     ]
    },
    {
     "name": "stdout",
     "output_type": "stream",
     "text": [
      "Exploitability: 0.0032479613431565246\n"
     ]
    },
    {
     "name": "stderr",
     "output_type": "stream",
     "text": [
      "660it [1:13:30,  6.34s/it]"
     ]
    },
    {
     "name": "stdout",
     "output_type": "stream",
     "text": [
      "Exploitability: 0.0031536808977820074\n"
     ]
    },
    {
     "name": "stderr",
     "output_type": "stream",
     "text": [
      "680it [1:15:46,  6.32s/it]"
     ]
    },
    {
     "name": "stdout",
     "output_type": "stream",
     "text": [
      "Exploitability: 0.003064719518437231\n"
     ]
    },
    {
     "name": "stderr",
     "output_type": "stream",
     "text": [
      "700it [1:18:03,  6.24s/it]"
     ]
    },
    {
     "name": "stdout",
     "output_type": "stream",
     "text": [
      "Exploitability: 0.0029806394219087373\n"
     ]
    },
    {
     "name": "stderr",
     "output_type": "stream",
     "text": [
      "720it [1:20:20,  6.33s/it]"
     ]
    },
    {
     "name": "stdout",
     "output_type": "stream",
     "text": [
      "Exploitability: 0.002901049584208115\n"
     ]
    },
    {
     "name": "stderr",
     "output_type": "stream",
     "text": [
      "740it [1:22:33,  6.14s/it]"
     ]
    },
    {
     "name": "stdout",
     "output_type": "stream",
     "text": [
      "Exploitability: 0.002825599660041034\n"
     ]
    },
    {
     "name": "stderr",
     "output_type": "stream",
     "text": [
      "760it [1:24:45,  6.04s/it]"
     ]
    },
    {
     "name": "stdout",
     "output_type": "stream",
     "text": [
      "Exploitability: 0.002753974827086836\n"
     ]
    },
    {
     "name": "stderr",
     "output_type": "stream",
     "text": [
      "780it [1:26:56,  6.04s/it]"
     ]
    },
    {
     "name": "stdout",
     "output_type": "stream",
     "text": [
      "Exploitability: 0.002685891395020845\n"
     ]
    },
    {
     "name": "stderr",
     "output_type": "stream",
     "text": [
      "800it [1:29:07,  6.04s/it]"
     ]
    },
    {
     "name": "stdout",
     "output_type": "stream",
     "text": [
      "Exploitability: 0.0026210930501472385\n"
     ]
    },
    {
     "name": "stderr",
     "output_type": "stream",
     "text": [
      "820it [1:31:19,  6.06s/it]"
     ]
    },
    {
     "name": "stdout",
     "output_type": "stream",
     "text": [
      "Exploitability: 0.0025593476308269913\n"
     ]
    },
    {
     "name": "stderr",
     "output_type": "stream",
     "text": [
      "840it [1:33:30,  6.03s/it]"
     ]
    },
    {
     "name": "stdout",
     "output_type": "stream",
     "text": [
      "Exploitability: 0.002500444348183861\n"
     ]
    },
    {
     "name": "stderr",
     "output_type": "stream",
     "text": [
      "860it [1:35:42,  6.07s/it]"
     ]
    },
    {
     "name": "stdout",
     "output_type": "stream",
     "text": [
      "Exploitability: 0.0024441913819706063\n"
     ]
    },
    {
     "name": "stderr",
     "output_type": "stream",
     "text": [
      "880it [1:37:55,  6.15s/it]"
     ]
    },
    {
     "name": "stdout",
     "output_type": "stream",
     "text": [
      "Exploitability: 0.0023904137938087766\n"
     ]
    },
    {
     "name": "stderr",
     "output_type": "stream",
     "text": [
      "900it [1:40:07,  6.11s/it]"
     ]
    },
    {
     "name": "stdout",
     "output_type": "stream",
     "text": [
      "Exploitability: 0.0023389517099801083\n"
     ]
    },
    {
     "name": "stderr",
     "output_type": "stream",
     "text": [
      "920it [1:42:21,  6.12s/it]"
     ]
    },
    {
     "name": "stdout",
     "output_type": "stream",
     "text": [
      "Exploitability: 0.002289658734005995\n"
     ]
    },
    {
     "name": "stderr",
     "output_type": "stream",
     "text": [
      "940it [1:44:33,  6.12s/it]"
     ]
    },
    {
     "name": "stdout",
     "output_type": "stream",
     "text": [
      "Exploitability: 0.0022424005558014937\n"
     ]
    },
    {
     "name": "stderr",
     "output_type": "stream",
     "text": [
      "960it [1:46:45,  6.14s/it]"
     ]
    },
    {
     "name": "stdout",
     "output_type": "stream",
     "text": [
      "Exploitability: 0.0021970537295977755\n"
     ]
    },
    {
     "name": "stderr",
     "output_type": "stream",
     "text": [
      "980it [1:48:58,  6.07s/it]"
     ]
    },
    {
     "name": "stdout",
     "output_type": "stream",
     "text": [
      "Exploitability: 0.002153504597197431\n"
     ]
    },
    {
     "name": "stderr",
     "output_type": "stream",
     "text": [
      "1000it [1:51:11,  6.21s/it]"
     ]
    },
    {
     "name": "stdout",
     "output_type": "stream",
     "text": [
      "Exploitability: 0.002111648336804106\n"
     ]
    },
    {
     "name": "stderr",
     "output_type": "stream",
     "text": [
      "1020it [1:53:24,  6.13s/it]"
     ]
    },
    {
     "name": "stdout",
     "output_type": "stream",
     "text": [
      "Exploitability: 0.002071388120659323\n"
     ]
    },
    {
     "name": "stderr",
     "output_type": "stream",
     "text": [
      "1040it [1:55:36,  6.09s/it]"
     ]
    },
    {
     "name": "stdout",
     "output_type": "stream",
     "text": [
      "Exploitability: 0.0020326343672329994\n"
     ]
    },
    {
     "name": "stderr",
     "output_type": "stream",
     "text": [
      "1060it [1:57:48,  6.01s/it]"
     ]
    },
    {
     "name": "stdout",
     "output_type": "stream",
     "text": [
      "Exploitability: 0.0019953040758231566\n"
     ]
    },
    {
     "name": "stderr",
     "output_type": "stream",
     "text": [
      "1080it [2:00:02,  6.16s/it]"
     ]
    },
    {
     "name": "stdout",
     "output_type": "stream",
     "text": [
      "Exploitability: 0.001959320233157591\n"
     ]
    },
    {
     "name": "stderr",
     "output_type": "stream",
     "text": [
      "1100it [2:02:14,  6.10s/it]"
     ]
    },
    {
     "name": "stdout",
     "output_type": "stream",
     "text": [
      "Exploitability: 0.0019246112830575424\n"
     ]
    },
    {
     "name": "stderr",
     "output_type": "stream",
     "text": [
      "1120it [2:04:24,  5.92s/it]"
     ]
    },
    {
     "name": "stdout",
     "output_type": "stream",
     "text": [
      "Exploitability: 0.0018911106514987175\n"
     ]
    },
    {
     "name": "stderr",
     "output_type": "stream",
     "text": [
      "1140it [2:06:32,  5.90s/it]"
     ]
    },
    {
     "name": "stdout",
     "output_type": "stream",
     "text": [
      "Exploitability: 0.0018587563204208735\n"
     ]
    },
    {
     "name": "stderr",
     "output_type": "stream",
     "text": [
      "1160it [2:08:41,  5.95s/it]"
     ]
    },
    {
     "name": "stdout",
     "output_type": "stream",
     "text": [
      "Exploitability: 0.0018274904445516604\n"
     ]
    },
    {
     "name": "stderr",
     "output_type": "stream",
     "text": [
      "1180it [2:10:52,  6.11s/it]"
     ]
    },
    {
     "name": "stdout",
     "output_type": "stream",
     "text": [
      "Exploitability: 0.001797259006262708\n"
     ]
    },
    {
     "name": "stderr",
     "output_type": "stream",
     "text": [
      "1200it [2:13:04,  5.93s/it]"
     ]
    },
    {
     "name": "stdout",
     "output_type": "stream",
     "text": [
      "Exploitability: 0.0017680115041267541\n"
     ]
    },
    {
     "name": "stderr",
     "output_type": "stream",
     "text": [
      "1220it [2:15:14,  5.91s/it]"
     ]
    },
    {
     "name": "stdout",
     "output_type": "stream",
     "text": [
      "Exploitability: 0.0017397006713948393\n"
     ]
    },
    {
     "name": "stderr",
     "output_type": "stream",
     "text": [
      "1240it [2:17:22,  5.98s/it]"
     ]
    },
    {
     "name": "stdout",
     "output_type": "stream",
     "text": [
      "Exploitability: 0.0017122822210972055\n"
     ]
    },
    {
     "name": "stderr",
     "output_type": "stream",
     "text": [
      "1260it [2:19:34,  5.98s/it]"
     ]
    },
    {
     "name": "stdout",
     "output_type": "stream",
     "text": [
      "Exploitability: 0.0016857146148731017\n"
     ]
    },
    {
     "name": "stderr",
     "output_type": "stream",
     "text": [
      "1280it [2:21:42,  5.94s/it]"
     ]
    },
    {
     "name": "stdout",
     "output_type": "stream",
     "text": [
      "Exploitability: 0.0016599588529959686\n"
     ]
    },
    {
     "name": "stderr",
     "output_type": "stream",
     "text": [
      "1300it [2:23:52,  6.02s/it]"
     ]
    },
    {
     "name": "stdout",
     "output_type": "stream",
     "text": [
      "Exploitability: 0.0016349782833497972\n"
     ]
    },
    {
     "name": "stderr",
     "output_type": "stream",
     "text": [
      "1320it [2:26:01,  5.92s/it]"
     ]
    },
    {
     "name": "stdout",
     "output_type": "stream",
     "text": [
      "Exploitability: 0.001610738427406777\n"
     ]
    },
    {
     "name": "stderr",
     "output_type": "stream",
     "text": [
      "1340it [2:28:11,  5.94s/it]"
     ]
    },
    {
     "name": "stdout",
     "output_type": "stream",
     "text": [
      "Exploitability: 0.0015872068214548563\n"
     ]
    },
    {
     "name": "stderr",
     "output_type": "stream",
     "text": [
      "1360it [2:30:23,  6.03s/it]"
     ]
    },
    {
     "name": "stdout",
     "output_type": "stream",
     "text": [
      "Exploitability: 0.0015643528715416632\n"
     ]
    },
    {
     "name": "stderr",
     "output_type": "stream",
     "text": [
      "1380it [2:32:33,  5.93s/it]"
     ]
    },
    {
     "name": "stdout",
     "output_type": "stream",
     "text": [
      "Exploitability: 0.001542147720774767\n"
     ]
    },
    {
     "name": "stderr",
     "output_type": "stream",
     "text": [
      "1400it [2:34:43,  5.92s/it]"
     ]
    },
    {
     "name": "stdout",
     "output_type": "stream",
     "text": [
      "Exploitability: 0.0015205641277622473\n"
     ]
    },
    {
     "name": "stderr",
     "output_type": "stream",
     "text": [
      "1420it [2:36:51,  5.91s/it]"
     ]
    },
    {
     "name": "stdout",
     "output_type": "stream",
     "text": [
      "Exploitability: 0.0014995763551222119\n"
     ]
    },
    {
     "name": "stderr",
     "output_type": "stream",
     "text": [
      "1440it [2:39:03,  6.11s/it]"
     ]
    },
    {
     "name": "stdout",
     "output_type": "stream",
     "text": [
      "Exploitability: 0.0014791600671012484\n"
     ]
    },
    {
     "name": "stderr",
     "output_type": "stream",
     "text": [
      "1460it [2:41:14,  5.98s/it]"
     ]
    },
    {
     "name": "stdout",
     "output_type": "stream",
     "text": [
      "Exploitability: 0.0014592922354411675\n"
     ]
    },
    {
     "name": "stderr",
     "output_type": "stream",
     "text": [
      "1480it [2:43:23,  5.94s/it]"
     ]
    },
    {
     "name": "stdout",
     "output_type": "stream",
     "text": [
      "Exploitability: 0.0014399510527315362\n"
     ]
    },
    {
     "name": "stderr",
     "output_type": "stream",
     "text": [
      "1500it [2:45:31,  5.87s/it]"
     ]
    },
    {
     "name": "stdout",
     "output_type": "stream",
     "text": [
      "Exploitability: 0.0014211158525647694\n"
     ]
    },
    {
     "name": "stderr",
     "output_type": "stream",
     "text": [
      "1520it [2:47:40,  5.94s/it]"
     ]
    },
    {
     "name": "stdout",
     "output_type": "stream",
     "text": [
      "Exploitability: 0.0014027670358758293\n"
     ]
    },
    {
     "name": "stderr",
     "output_type": "stream",
     "text": [
      "1540it [2:49:49,  5.88s/it]"
     ]
    },
    {
     "name": "stdout",
     "output_type": "stream",
     "text": [
      "Exploitability: 0.0013848860029140875\n"
     ]
    },
    {
     "name": "stderr",
     "output_type": "stream",
     "text": [
      "1560it [2:51:57,  5.88s/it]"
     ]
    },
    {
     "name": "stdout",
     "output_type": "stream",
     "text": [
      "Exploitability: 0.0013674550903531868\n"
     ]
    },
    {
     "name": "stderr",
     "output_type": "stream",
     "text": [
      "1580it [2:54:05,  5.88s/it]"
     ]
    },
    {
     "name": "stdout",
     "output_type": "stream",
     "text": [
      "Exploitability: 0.0013504575130955931\n"
     ]
    },
    {
     "name": "stderr",
     "output_type": "stream",
     "text": [
      "1600it [2:56:13,  5.85s/it]"
     ]
    },
    {
     "name": "stdout",
     "output_type": "stream",
     "text": [
      "Exploitability: 0.0013338773103567236\n"
     ]
    },
    {
     "name": "stderr",
     "output_type": "stream",
     "text": [
      "1620it [2:58:20,  5.82s/it]"
     ]
    },
    {
     "name": "stdout",
     "output_type": "stream",
     "text": [
      "Exploitability: 0.001317699295677266\n"
     ]
    },
    {
     "name": "stderr",
     "output_type": "stream",
     "text": [
      "1640it [3:00:29,  5.87s/it]"
     ]
    },
    {
     "name": "stdout",
     "output_type": "stream",
     "text": [
      "Exploitability: 0.0013019090105279574\n"
     ]
    },
    {
     "name": "stderr",
     "output_type": "stream",
     "text": [
      "1660it [3:02:37,  5.91s/it]"
     ]
    },
    {
     "name": "stdout",
     "output_type": "stream",
     "text": [
      "Exploitability: 0.0012864926812150568\n"
     ]
    },
    {
     "name": "stderr",
     "output_type": "stream",
     "text": [
      "1680it [3:04:45,  5.84s/it]"
     ]
    },
    {
     "name": "stdout",
     "output_type": "stream",
     "text": [
      "Exploitability: 0.0012714371788012935\n"
     ]
    },
    {
     "name": "stderr",
     "output_type": "stream",
     "text": [
      "1700it [3:06:52,  5.97s/it]"
     ]
    },
    {
     "name": "stdout",
     "output_type": "stream",
     "text": [
      "Exploitability: 0.0012567299818234678\n"
     ]
    },
    {
     "name": "stderr",
     "output_type": "stream",
     "text": [
      "1720it [3:09:01,  5.94s/it]"
     ]
    },
    {
     "name": "stdout",
     "output_type": "stream",
     "text": [
      "Exploitability: 0.001242359141549798\n"
     ]
    },
    {
     "name": "stderr",
     "output_type": "stream",
     "text": [
      "1740it [3:11:11,  6.06s/it]"
     ]
    },
    {
     "name": "stdout",
     "output_type": "stream",
     "text": [
      "Exploitability: 0.0012283132496169191\n"
     ]
    },
    {
     "name": "stderr",
     "output_type": "stream",
     "text": [
      "1760it [3:13:22,  6.06s/it]"
     ]
    },
    {
     "name": "stdout",
     "output_type": "stream",
     "text": [
      "Exploitability: 0.0012145814078099448\n"
     ]
    },
    {
     "name": "stderr",
     "output_type": "stream",
     "text": [
      "1780it [3:15:29,  5.79s/it]"
     ]
    },
    {
     "name": "stdout",
     "output_type": "stream",
     "text": [
      "Exploitability: 0.0012011531998736835\n"
     ]
    },
    {
     "name": "stderr",
     "output_type": "stream",
     "text": [
      "1800it [3:17:36,  5.92s/it]"
     ]
    },
    {
     "name": "stdout",
     "output_type": "stream",
     "text": [
      "Exploitability: 0.0011880186651566094\n"
     ]
    },
    {
     "name": "stderr",
     "output_type": "stream",
     "text": [
      "1820it [3:19:42,  5.84s/it]"
     ]
    },
    {
     "name": "stdout",
     "output_type": "stream",
     "text": [
      "Exploitability: 0.0011751682739707947\n"
     ]
    },
    {
     "name": "stderr",
     "output_type": "stream",
     "text": [
      "1840it [3:21:50,  5.90s/it]"
     ]
    },
    {
     "name": "stdout",
     "output_type": "stream",
     "text": [
      "Exploitability: 0.001162592904533244\n"
     ]
    },
    {
     "name": "stderr",
     "output_type": "stream",
     "text": [
      "1860it [3:23:58,  5.85s/it]"
     ]
    },
    {
     "name": "stdout",
     "output_type": "stream",
     "text": [
      "Exploitability: 0.0011502838213716116\n"
     ]
    },
    {
     "name": "stderr",
     "output_type": "stream",
     "text": [
      "1880it [3:26:03,  5.76s/it]"
     ]
    },
    {
     "name": "stdout",
     "output_type": "stream",
     "text": [
      "Exploitability: 0.001138232655092608\n"
     ]
    },
    {
     "name": "stderr",
     "output_type": "stream",
     "text": [
      "1900it [3:28:09,  5.78s/it]"
     ]
    },
    {
     "name": "stdout",
     "output_type": "stream",
     "text": [
      "Exploitability: 0.001126431383396076\n"
     ]
    },
    {
     "name": "stderr",
     "output_type": "stream",
     "text": [
      "1920it [3:30:20,  5.99s/it]"
     ]
    },
    {
     "name": "stdout",
     "output_type": "stream",
     "text": [
      "Exploitability: 0.001114872313274562\n"
     ]
    },
    {
     "name": "stderr",
     "output_type": "stream",
     "text": [
      "1940it [3:32:32,  6.11s/it]"
     ]
    },
    {
     "name": "stdout",
     "output_type": "stream",
     "text": [
      "Exploitability: 0.0011035480642818118\n"
     ]
    },
    {
     "name": "stderr",
     "output_type": "stream",
     "text": [
      "1960it [3:34:44,  5.89s/it]"
     ]
    },
    {
     "name": "stdout",
     "output_type": "stream",
     "text": [
      "Exploitability: 0.0010924515528265566\n"
     ]
    },
    {
     "name": "stderr",
     "output_type": "stream",
     "text": [
      "1980it [3:36:52,  5.90s/it]"
     ]
    },
    {
     "name": "stdout",
     "output_type": "stream",
     "text": [
      "Exploitability: 0.00108157597738745\n"
     ]
    },
    {
     "name": "stderr",
     "output_type": "stream",
     "text": [
      "2000it [3:39:00,  6.04s/it]"
     ]
    },
    {
     "name": "stdout",
     "output_type": "stream",
     "text": [
      "Exploitability: 0.00107091480461885\n"
     ]
    },
    {
     "name": "stderr",
     "output_type": "stream",
     "text": [
      "2020it [3:41:09,  5.98s/it]"
     ]
    },
    {
     "name": "stdout",
     "output_type": "stream",
     "text": [
      "Exploitability: 0.0010604617562577356\n"
     ]
    },
    {
     "name": "stderr",
     "output_type": "stream",
     "text": [
      "2040it [3:43:23,  6.29s/it]"
     ]
    },
    {
     "name": "stdout",
     "output_type": "stream",
     "text": [
      "Exploitability: 0.001050210796796125\n"
     ]
    },
    {
     "name": "stderr",
     "output_type": "stream",
     "text": [
      "2060it [3:45:35,  5.91s/it]"
     ]
    },
    {
     "name": "stdout",
     "output_type": "stream",
     "text": [
      "Exploitability: 0.001040156121863589\n"
     ]
    },
    {
     "name": "stderr",
     "output_type": "stream",
     "text": [
      "2080it [3:47:44,  5.96s/it]"
     ]
    },
    {
     "name": "stdout",
     "output_type": "stream",
     "text": [
      "Exploitability: 0.0010302921472596926\n"
     ]
    },
    {
     "name": "stderr",
     "output_type": "stream",
     "text": [
      "2100it [3:49:52,  6.13s/it]"
     ]
    },
    {
     "name": "stdout",
     "output_type": "stream",
     "text": [
      "Exploitability: 0.0010206134986247006\n"
     ]
    },
    {
     "name": "stderr",
     "output_type": "stream",
     "text": [
      "2120it [3:52:01,  5.86s/it]"
     ]
    },
    {
     "name": "stdout",
     "output_type": "stream",
     "text": [
      "Exploitability: 0.0010111150016620662\n"
     ]
    },
    {
     "name": "stderr",
     "output_type": "stream",
     "text": [
      "2140it [3:54:11,  6.01s/it]"
     ]
    },
    {
     "name": "stdout",
     "output_type": "stream",
     "text": [
      "Exploitability: 0.001001791672924135\n"
     ]
    },
    {
     "name": "stderr",
     "output_type": "stream",
     "text": [
      "2160it [3:56:29,  6.57s/it]"
     ]
    },
    {
     "name": "stdout",
     "output_type": "stream",
     "text": [
      "Exploitability: 0.000992638711088234\n",
      "Total Time:  14189.047006130219\n"
     ]
    },
    {
     "name": "stderr",
     "output_type": "stream",
     "text": [
      "\n"
     ]
    },
    {
     "data": {
      "text/plain": [
       "0.07065840307433174"
      ]
     },
     "execution_count": 53,
     "metadata": {},
     "output_type": "execute_result"
    }
   ],
   "source": [
    "n = 12\n",
    "# for _ in tqdm(range(5000)):\n",
    "#     mmd_solver_144.update_sequences()\n",
    "exps = 1e6\n",
    "i = 0\n",
    "time_in = time.time()\n",
    "with tqdm() as pbar:\n",
    "    while exps > 1e-3:\n",
    "        mmd_solver_144.update_sequences()\n",
    "        av_policy = mmd_solver_144.get_avg_policies()\n",
    "        i += 1\n",
    "        pbar.update(1)\n",
    "        if i % 20 == 0:\n",
    "            # exps = exploitability.exploitability(game_144, av_policy)\n",
    "            exps = exploitability.nash_conv(game_144, av_policy, return_only_nash_conv=False).player_improvements[0]\n",
    "            print(f'Exploitability: {exps}')\n",
    "time_out = time.time()\n",
    "\n",
    "print('Total Time: ', time_out - time_in)\n",
    "\n",
    "mmd_policy_dict = mmd_solver_144.get_avg_policies().to_dict()\n",
    "# mmd_policy_dict.keys()\n",
    "\n",
    "pi_1 = mmd_policy_dict['Current player: 0\\nGoal:1 us: op:']\n",
    "pi_2 = mmd_policy_dict['Current player: 0\\nGoal:2 us: op:']\n",
    "\n",
    "pi_1 = np.array(pi_1)[:, 1]\n",
    "pi_2 = np.array(pi_2)[:, 1]\n",
    "\n",
    "ux_max = 0.99\n",
    "uy_max = 3.947\n",
    "dx_max = 0.99\n",
    "dy_max = 0.99\n",
    "\n",
    "_uxs = np.linspace(-ux_max, ux_max, n)\n",
    "_uys = np.linspace(-uy_max, uy_max, n)\n",
    "_dxs = np.linspace(-dx_max, dx_max, n)\n",
    "_dys = np.linspace(-dy_max, dy_max, n)\n",
    "_us = list(product(_uxs, _uys))\n",
    "_ds = list(product(_dxs, _dys))\n",
    "\n",
    "# u1_exp = np.sum(np.array(_us) * pi_1.reshape(-1, 1), axis=0)\n",
    "# u2_exp = np.sum(np.array(_us) * pi_2.reshape(-1, 1), axis=0)\n",
    "\n",
    "# distance_to_gt_mmd_144 = np.mean([np.linalg.norm(GT_action_1 - u1_exp), np.linalg.norm(GT_action_2 - u2_exp)])\n",
    "norm_diff_1 = np.linalg.norm(np.array(_us) - GT_action_1, axis=1)\n",
    "norm_diff_2 = np.linalg.norm(np.array(_us) - GT_action_2, axis=1)\n",
    "\n",
    "distance_to_gt_mmd_144 = norm_diff_1.dot(pi_1) + norm_diff_2.dot(pi_2)\n",
    "distance_to_gt_mmd_144"
   ]
  },
  {
   "cell_type": "code",
   "execution_count": 54,
   "id": "402ec472-25ca-4c26-adc3-d33906d76b34",
   "metadata": {},
   "outputs": [
    {
     "data": {
      "text/plain": [
       "[1.0552507678615948,\n",
       " 1.146136600348143,\n",
       " 0.36045590244936615,\n",
       " 0.07065840307433174]"
      ]
     },
     "execution_count": 54,
     "metadata": {},
     "output_type": "execute_result"
    }
   ],
   "source": [
    "distances_mmd = [distance_to_gt_mmd, distance_to_gt_mmd_36, distance_to_gt_mmd_64, distance_to_gt_mmd_144]\n",
    "distances_mmd"
   ]
  },
  {
   "cell_type": "code",
   "execution_count": 45,
   "id": "d81f034d-12dd-4cc2-85e8-e11a2c08349c",
   "metadata": {},
   "outputs": [
    {
     "data": {
      "image/png": "[encoded data removed]",
      "text/plain": [
       "<Figure size 640x480 with 1 Axes>"
      ]
     },
     "metadata": {},
     "output_type": "display_data"
    }
   ],
   "source": [
    "import matplotlib.pyplot as plt\n",
    "# plt.plot([16, 36, 64, 144], distances, '-o', label='CFR+')\n",
    "plt.plot([16, 36, 64, 144], distances_mmd, '-o', label='MMD')\n",
    "plt.plot([16, 36, 64, 144], distances, '-o', label='CFR+')\n",
    "plt.plot([16, 36, 64, 144], 4*[distances_cams], '-o', color='red', label='CAMS')\n",
    "plt.xlabel('$|\\mathcal{A}|$')\n",
    "plt.ylabel('distance to GT ($||\\cdot||_2$)')\n",
    "plt.legend()\n",
    "plt.xticks([16, 36, 64, 144])\n",
    "plt.show()"
   ]
  },
  {
   "cell_type": "code",
   "execution_count": 51,
   "id": "81413622-ed8d-4dbb-a2c2-fb5ba9d04f4a",
   "metadata": {},
   "outputs": [
    {
     "ename": "NameError",
     "evalue": "name 'distances_mmd' is not defined",
     "output_type": "error",
     "traceback": [
      "\u001b[0;31m---------------------------------------------------------------------------\u001b[0m",
      "\u001b[0;31mNameError\u001b[0m                                 Traceback (most recent call last)",
      "Cell \u001b[0;32mIn[51], line 1\u001b[0m\n\u001b[0;32m----> 1\u001b[0m \u001b[43mdistances_mmd\u001b[49m\n",
      "\u001b[0;31mNameError\u001b[0m: name 'distances_mmd' is not defined"
     ]
    }
   ],
   "source": [
    "distances_mmd"
   ]
  },
  {
   "cell_type": "code",
   "execution_count": null,
   "id": "7a5942a7-25bf-42f9-84ad-ff6cf71bdecc",
   "metadata": {},
   "outputs": [],
   "source": [
    "distances"
   ]
  },
  {
   "cell_type": "code",
   "execution_count": null,
   "id": "fb81caa1-b1d1-47c6-892e-be6acb28b839",
   "metadata": {},
   "outputs": [],
   "source": [
    "times_mmd = [95.82, 580.64, 2075.61, 12326.18]\n",
    "times = [8.16, 55.58, 219.95, 1711.67]"
   ]
  },
  {
   "cell_type": "code",
   "execution_count": 8,
   "id": "1182cfaf-28d1-4979-bf36-aa1fd6efbf0d",
   "metadata": {},
   "outputs": [
    {
     "ename": "NameError",
     "evalue": "name 'plt' is not defined",
     "output_type": "error",
     "traceback": [
      "\u001b[0;31m---------------------------------------------------------------------------\u001b[0m",
      "\u001b[0;31mNameError\u001b[0m                                 Traceback (most recent call last)",
      "Cell \u001b[0;32mIn[8], line 1\u001b[0m\n\u001b[0;32m----> 1\u001b[0m \u001b[43mplt\u001b[49m\u001b[38;5;241m.\u001b[39mplot([\u001b[38;5;241m16\u001b[39m, \u001b[38;5;241m36\u001b[39m, \u001b[38;5;241m64\u001b[39m, \u001b[38;5;241m144\u001b[39m], times_mmd, \u001b[38;5;124m'\u001b[39m\u001b[38;5;124m-o\u001b[39m\u001b[38;5;124m'\u001b[39m, label\u001b[38;5;241m=\u001b[39m\u001b[38;5;124m'\u001b[39m\u001b[38;5;124mMMD\u001b[39m\u001b[38;5;124m'\u001b[39m)\n\u001b[1;32m      2\u001b[0m plt\u001b[38;5;241m.\u001b[39mplot([\u001b[38;5;241m16\u001b[39m, \u001b[38;5;241m36\u001b[39m, \u001b[38;5;241m64\u001b[39m, \u001b[38;5;241m144\u001b[39m], times, \u001b[38;5;124m'\u001b[39m\u001b[38;5;124m-o\u001b[39m\u001b[38;5;124m'\u001b[39m, label\u001b[38;5;241m=\u001b[39m\u001b[38;5;124m'\u001b[39m\u001b[38;5;124mCFR+\u001b[39m\u001b[38;5;124m'\u001b[39m)\n\u001b[1;32m      3\u001b[0m plt\u001b[38;5;241m.\u001b[39mplot([\u001b[38;5;241m16\u001b[39m, \u001b[38;5;241m36\u001b[39m, \u001b[38;5;241m64\u001b[39m, \u001b[38;5;241m144\u001b[39m], [\u001b[38;5;241m1.98\u001b[39m]\u001b[38;5;241m*\u001b[39m\u001b[38;5;241m4\u001b[39m, \u001b[38;5;124m'\u001b[39m\u001b[38;5;124m-o\u001b[39m\u001b[38;5;124m'\u001b[39m, color\u001b[38;5;241m=\u001b[39m\u001b[38;5;124m'\u001b[39m\u001b[38;5;124mred\u001b[39m\u001b[38;5;124m'\u001b[39m, label\u001b[38;5;241m=\u001b[39m\u001b[38;5;124m'\u001b[39m\u001b[38;5;124mCAMS\u001b[39m\u001b[38;5;124m'\u001b[39m)\n",
      "\u001b[0;31mNameError\u001b[0m: name 'plt' is not defined"
     ]
    }
   ],
   "source": [
    "plt.plot([16, 36, 64, 144], times_mmd, '-o', label='MMD')\n",
    "plt.plot([16, 36, 64, 144], times, '-o', label='CFR+')\n",
    "plt.plot([16, 36, 64, 144], [1.98]*4, '-o', color='red', label='CAMS')\n",
    "plt.xlabel('$|\\mathcal{A}|$')\n",
    "plt.ylabel('wall time (s)')\n",
    "plt.legend()\n",
    "plt.xticks([16, 36, 64, 144])\n",
    "plt.yscale('log')\n",
    "plt.show()"
   ]
  },
  {
   "cell_type": "code",
   "execution_count": 46,
   "id": "2dd97f11-2b4c-4591-af5d-d3232250a80c",
   "metadata": {},
   "outputs": [
    {
     "data": {
      "text/plain": [
       "(1.0552507678615948, 1.146136600348143)"
      ]
     },
     "execution_count": 46,
     "metadata": {},
     "output_type": "execute_result"
    }
   ],
   "source": [
    "distance_to_gt_mmd, distance_to_gt_mmd_36"
   ]
  },
  {
   "cell_type": "code",
   "execution_count": null,
   "id": "febd6a96-d4f1-4d1a-9fa2-13e22c3977b8",
   "metadata": {},
   "outputs": [],
   "source": []
  }
 ],
 "metadata": {
  "kernelspec": {
   "display_name": "Python 3 (ipykernel)",
   "language": "python",
   "name": "python3"
  },
  "language_info": {
   "codemirror_mode": {
    "name": "ipython",
    "version": 3
   },
   "file_extension": ".py",
   "mimetype": "text/x-python",
   "name": "python",
   "nbconvert_exporter": "python",
   "pygments_lexer": "ipython3",
   "version": "3.9.15"
  }
 },
 "nbformat": 4,
 "nbformat_minor": 5
}
