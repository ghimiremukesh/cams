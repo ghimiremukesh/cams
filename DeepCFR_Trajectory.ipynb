{
 "cells": [
  {
   "cell_type": "code",
   "execution_count": 26,
   "id": "238d631e-09fd-49f3-b25e-7ba5eeabbd8e",
   "metadata": {},
   "outputs": [],
   "source": [
    "# helpers for policy network\n",
    "import haiku as hk\n",
    "import jax.numpy as jnp\n",
    "import numpy as np\n",
    "import random\n",
    "import pandas as pd\n",
    "\n",
    "def base_network(x, layers):\n",
    "  x = hk.nets.MLP(layers[:-1], activate_final=True)(x)\n",
    "  x = hk.LayerNorm(axis=-1, create_scale=True, create_offset=True)(x)\n",
    "  x = hk.Linear(layers[-1])(x)\n",
    "  x = jax.nn.relu(x)\n",
    "  x = hk.Linear(num_actions)(x)\n",
    "  return x\n",
    "\n",
    "def adv_network(x, mask):\n",
    "  x = base_network(x, advantage_network_layers)\n",
    "  x = mask * x\n",
    "  return x\n",
    "\n",
    "def policy_network(x, mask):\n",
    "  x = base_network(x, policy_network_layers)\n",
    "  x = jnp.where(mask == 1, x, -10e20)\n",
    "  x = jax.nn.softmax(x)\n",
    "  return x"
   ]
  },
  {
   "cell_type": "code",
   "execution_count": 27,
   "id": "28e5d4b0-76e2-42cf-a624-27326e77049e",
   "metadata": {},
   "outputs": [],
   "source": [
    "from our_method import hexner_full_fix_3_test, hexner_full_fix_4_test\n",
    "import pyspiel\n",
    "from open_spiel.python import policy\n",
    "import jax\n",
    "from flax.training import checkpoints"
   ]
  },
  {
   "cell_type": "code",
   "execution_count": 28,
   "id": "e08031ee-9b04-4f41-b886-0e130b155804",
   "metadata": {},
   "outputs": [],
   "source": [
    "## |A| = 9\n",
    "\n",
    "# game = pyspiel.load_game_as_turn_based(\"python_hexner_full_test\")\n",
    "initial_state = [-0.5, 0, 0., 0., 0.5, 0, 0., 0.]\n",
    "game = pyspiel.convert_to_turn_based(hexner_full_fix_3_test.HexnerGame(initial_state=initial_state))\n",
    "policy_network_params = checkpoints.restore_checkpoint('cfr_policy_3/checkpoint_1000/checkpoint', target=None)\n",
    "num_actions = game.num_distinct_actions()\n",
    "root_node = game.new_initial_state()\n",
    "embedding_size = len(root_node.information_state_tensor(0))\n",
    "policy_network_layers = (256, 256)\n",
    "\n",
    "policy_net = hk.without_apply_rng(hk.transform(policy_network))\n",
    "rng_key = jax.random.PRNGKey(42)\n",
    "x, mask = (jnp.ones([1, embedding_size]),\n",
    "           jnp.ones([1, num_actions]))\n",
    "# init network\n",
    "_ = policy_net.init(rng_key, x, mask)"
   ]
  },
  {
   "cell_type": "code",
   "execution_count": 29,
   "id": "4255d929-4624-4581-8ae3-6f5529a0372e",
   "metadata": {},
   "outputs": [
    {
     "name": "stderr",
     "output_type": "stream",
     "text": [
      "/var/folders/xd/5m8xqhxj7nb98dkg_t5fs5zc0000gq/T/ipykernel_35905/1504887392.py:46: DeprecationWarning: vstack requires ndarray or scalar arguments, got <class 'list'> at position 0. In a future JAX release this will be an error.\n",
      "  game_states = jnp.vstack(game_states)\n"
     ]
    }
   ],
   "source": [
    "ys = [-0.5, -0.25, 0.25, 0.5]\n",
    "for run in range(len(ys)):\n",
    "    initial_state = [-0.5, ys[run], 0., 0., 0.5, ys[run], 0., 0.]\n",
    "    game = pyspiel.convert_to_turn_based(hexner_full_fix_3_test.HexnerGame(initial_state=initial_state))\n",
    "    state = game.new_initial_state()\n",
    "    game_states = [state.information_state_tensor(0)[6:6+8]]\n",
    "    p1_actions = []\n",
    "    p2_actions = []\n",
    "    \n",
    "    while not state.is_terminal():\n",
    "        # store the states \n",
    "        if state.current_player() == 0:\n",
    "            game_states.append(state.information_state_tensor(0)[6:6+8])\n",
    "                              \n",
    "        legal_actions = state.legal_actions()\n",
    "        if state.is_chance_node():\n",
    "            # outcomes_with_probs = state.chance_outcomes()\n",
    "            # action_list, prob_list = zip(*outcomes_with_probs)\n",
    "            # action = np.random.choice(action_list, p=prob_list)\n",
    "            # manually select type\n",
    "            action = 0\n",
    "            state.apply_action(action)\n",
    "            if action == 0:\n",
    "                target = 2  # if [1, 0] goal is 2 (right) else 1\n",
    "            else:\n",
    "                target = 1\n",
    "        else:\n",
    "            cur_player = state.current_player()\n",
    "            legal_actions = state.legal_actions(cur_player)\n",
    "            info_state_vector = jnp.array(\n",
    "                                state.information_state_tensor(cur_player), dtype=jnp.float32)\n",
    "            legal_actions_mask = jnp.array(\n",
    "                                state.legal_actions_mask(cur_player), dtype=jnp.float32)\n",
    "            probs = policy_net.apply(policy_network_params,\n",
    "                                              info_state_vector, legal_actions_mask)\n",
    "            # normalize again for numerical soundness\n",
    "            probs = probs/probs.sum()\n",
    "            action = random.choices(legal_actions, probs)[0]\n",
    "            if state.current_player() == 0:\n",
    "                p1_actions.append(action)\n",
    "            else:\n",
    "                p2_actions.append(action)\n",
    "            state.apply_action(action)\n",
    "\n",
    "    \n",
    "    game_states = jnp.vstack(game_states)\n",
    "    x1 = game_states[:, 0]\n",
    "    y1 = game_states[:, 1]\n",
    "    \n",
    "    x2 = game_states[:, 4]\n",
    "    y2 = game_states[:, 5]\n",
    "    df = pd.DataFrame({'x1': x1, 'y1': y1, 'x2': x2, 'y2': y2})\n",
    "\n",
    "    df.to_csv(f'deepcfr_trajs_type_{target}_{run}.csv')"
   ]
  },
  {
   "cell_type": "code",
   "execution_count": 30,
   "id": "86befcf8-d5ac-4650-ad08-7ad1f43d717d",
   "metadata": {},
   "outputs": [],
   "source": [
    "## |A| = 16\n",
    "\n",
    "# game = pyspiel.load_game_as_turn_based(\"python_hexner_full_test\")\n",
    "initial_state = [-0.5, 0., 0., 0., 0.5, 0., 0., 0.]\n",
    "game = pyspiel.convert_to_turn_based(hexner_full_fix_4_test.HexnerGame(initial_state=initial_state))\n",
    "policy_network_params = checkpoints.restore_checkpoint('cfr_policy_4/checkpoint_100/checkpoint', target=None)\n",
    "num_actions = game.num_distinct_actions()\n",
    "root_node = game.new_initial_state()\n",
    "embedding_size = len(root_node.information_state_tensor(0))\n",
    "policy_network_layers = (256, 256)\n",
    "\n",
    "policy_net = hk.without_apply_rng(hk.transform(policy_network))\n",
    "rng_key = jax.random.PRNGKey(42)\n",
    "x, mask = (jnp.ones([1, embedding_size]),\n",
    "           jnp.ones([1, num_actions]))\n",
    "# init network\n",
    "_ = policy_net.init(rng_key, x, mask)"
   ]
  },
  {
   "cell_type": "code",
   "execution_count": 31,
   "id": "220c5d22-421e-4ccc-9f83-adf57a614551",
   "metadata": {},
   "outputs": [
    {
     "name": "stderr",
     "output_type": "stream",
     "text": [
      "/var/folders/xd/5m8xqhxj7nb98dkg_t5fs5zc0000gq/T/ipykernel_35905/3724137218.py:46: DeprecationWarning: vstack requires ndarray or scalar arguments, got <class 'list'> at position 0. In a future JAX release this will be an error.\n",
      "  game_states = jnp.vstack(game_states)\n"
     ]
    }
   ],
   "source": [
    "ys = [-0.5, -0.25, 0.25, 0.5]\n",
    "for run in range(len(ys)):\n",
    "    initial_state = [-0.5, ys[run], 0., 0., 0.5, ys[run], 0., 0.]\n",
    "    game = pyspiel.convert_to_turn_based(hexner_full_fix_4_test.HexnerGame(initial_state=initial_state))\n",
    "    state = game.new_initial_state()\n",
    "    game_states = [state.information_state_tensor(0)[6:6+8]]\n",
    "    p1_actions = []\n",
    "    p2_actions = []\n",
    "    \n",
    "    while not state.is_terminal():\n",
    "        # store the states \n",
    "        if state.current_player() == 0:\n",
    "            game_states.append(state.information_state_tensor(0)[6:6+8])\n",
    "                              \n",
    "        legal_actions = state.legal_actions()\n",
    "        if state.is_chance_node():\n",
    "            # outcomes_with_probs = state.chance_outcomes()\n",
    "            # action_list, prob_list = zip(*outcomes_with_probs)\n",
    "            # action = np.random.choice(action_list, p=prob_list)\n",
    "            # manually select type\n",
    "            action = 0\n",
    "            state.apply_action(action)\n",
    "            if action == 0:\n",
    "                target = 2  # if [1, 0] goal is 2 (right) else 1\n",
    "            else:\n",
    "                target = 1\n",
    "        else:\n",
    "            cur_player = state.current_player()\n",
    "            legal_actions = state.legal_actions(cur_player)\n",
    "            info_state_vector = jnp.array(\n",
    "                                state.information_state_tensor(cur_player), dtype=jnp.float32)\n",
    "            legal_actions_mask = jnp.array(\n",
    "                                state.legal_actions_mask(cur_player), dtype=jnp.float32)\n",
    "            probs = policy_net.apply(policy_network_params,\n",
    "                                              info_state_vector, legal_actions_mask)\n",
    "            # normalize again for numerical soundness\n",
    "            probs = probs/probs.sum()\n",
    "            action = random.choices(legal_actions, probs)[0]\n",
    "            if state.current_player() == 0:\n",
    "                p1_actions.append(action)\n",
    "            else:\n",
    "                p2_actions.append(action)\n",
    "            state.apply_action(action)\n",
    "\n",
    "    \n",
    "    game_states = jnp.vstack(game_states)\n",
    "    x1 = game_states[:, 0]\n",
    "    y1 = game_states[:, 1]\n",
    "    \n",
    "    x2 = game_states[:, 4]\n",
    "    y2 = game_states[:, 5]\n",
    "    df = pd.DataFrame({'x1': x1, 'y1': y1, 'x2': x2, 'y2': y2})\n",
    "\n",
    "    df.to_csv(f'deepcfr_trajs_16_type_{target}_{run}.csv')"
   ]
  },
  {
   "cell_type": "code",
   "execution_count": 23,
   "id": "338b4058-669f-441f-b7b9-2450cdbefad3",
   "metadata": {},
   "outputs": [],
   "source": [
    "state = game.new_initial_state()\n",
    "game_states = [state.information_state_tensor(0)[6:6+8]]\n",
    "p1_actions = []\n",
    "p2_actions = []\n",
    "\n",
    "while not state.is_terminal():\n",
    "    # store the states \n",
    "    if state.current_player() == 0:\n",
    "        game_states.append(state.information_state_tensor(0)[6:6+8])\n",
    "                          \n",
    "    legal_actions = state.legal_actions()\n",
    "    if state.is_chance_node():\n",
    "        # outcomes_with_probs = state.chance_outcomes()\n",
    "        # action_list, prob_list = zip(*outcomes_with_probs)\n",
    "        # action = np.random.choice(action_list, p=prob_list)\n",
    "        # manually select type\n",
    "        action = 1\n",
    "        state.apply_action(action)\n",
    "        if action == 0:\n",
    "            target = 2  # if [1, 0] goal is 2 (right) else 1\n",
    "        else:\n",
    "            target = 1\n",
    "    else:\n",
    "        cur_player = state.current_player()\n",
    "        legal_actions = state.legal_actions(cur_player)\n",
    "        info_state_vector = jnp.array(\n",
    "                            state.information_state_tensor(cur_player), dtype=jnp.float32)\n",
    "        legal_actions_mask = jnp.array(\n",
    "                            state.legal_actions_mask(cur_player), dtype=jnp.float32)\n",
    "        probs = policy_net.apply(policy_network_params,\n",
    "                                          info_state_vector, legal_actions_mask)\n",
    "        # normalize again for numerical soundness\n",
    "        probs = probs/probs.sum()\n",
    "        action = random.choices(legal_actions, probs)[0]\n",
    "        if state.current_player() == 0:\n",
    "            p1_actions.append(action)\n",
    "        else:\n",
    "            p2_actions.append(action)\n",
    "        state.apply_action(action)"
   ]
  },
  {
   "cell_type": "code",
   "execution_count": 24,
   "id": "28698af1-05dd-4c14-8a42-30d80704034d",
   "metadata": {},
   "outputs": [
    {
     "name": "stderr",
     "output_type": "stream",
     "text": [
      "/var/folders/xd/5m8xqhxj7nb98dkg_t5fs5zc0000gq/T/ipykernel_35905/2070213082.py:3: DeprecationWarning: vstack requires ndarray or scalar arguments, got <class 'list'> at position 0. In a future JAX release this will be an error.\n",
      "  game_states = jnp.vstack(game_states)\n"
     ]
    },
    {
     "data": {
      "image/png": "[encoded data removed]",
      "text/plain": [
       "<Figure size 640x480 with 1 Axes>"
      ]
     },
     "metadata": {},
     "output_type": "display_data"
    }
   ],
   "source": [
    "import matplotlib.pyplot as plt\n",
    "\n",
    "game_states = jnp.vstack(game_states)\n",
    "x1 = game_states[:, 0]\n",
    "y1 = game_states[:, 1]\n",
    "\n",
    "x2 = game_states[:, 4]\n",
    "y2 = game_states[:, 5]\n",
    "\n",
    "plt.plot(x1, y1, color='red', marker='o')\n",
    "plt.plot(x2, y2, marker='o', color='blue')\n",
    "plt.xlim([-1, 1])\n",
    "plt.ylim([-1.1, 1.1])\n",
    "if target == 2:\n",
    "    plt.scatter(0, -1, color='magenta')\n",
    "else:\n",
    "    plt.scatter(0, 1, color='magenta')\n",
    "\n",
    "df = pd.DataFrame({'x1': x1, 'y1': y1, 'x2': x2, 'y2': y2})\n",
    "\n",
    "df.to_csv(f'deepcfr_trajs_type_{target}.csv')"
   ]
  },
  {
   "cell_type": "code",
   "execution_count": 25,
   "id": "14a08a0f-6b40-4501-9e98-be922814fdd0",
   "metadata": {},
   "outputs": [
    {
     "ename": "TypeError",
     "evalue": "float() argument must be a string or a number, not 'dict'",
     "output_type": "error",
     "traceback": [
      "\u001b[0;31m---------------------------------------------------------------------------\u001b[0m",
      "\u001b[0;31mTypeError\u001b[0m                                 Traceback (most recent call last)",
      "Cell \u001b[0;32mIn[25], line 8\u001b[0m\n\u001b[1;32m      6\u001b[0m num_actions \u001b[38;5;241m=\u001b[39m game\u001b[38;5;241m.\u001b[39mnum_distinct_actions()\n\u001b[1;32m      7\u001b[0m root_node \u001b[38;5;241m=\u001b[39m game\u001b[38;5;241m.\u001b[39mnew_initial_state()\n\u001b[0;32m----> 8\u001b[0m embedding_size \u001b[38;5;241m=\u001b[39m \u001b[38;5;28mlen\u001b[39m(\u001b[43mroot_node\u001b[49m\u001b[38;5;241;43m.\u001b[39;49m\u001b[43minformation_state_tensor\u001b[49m\u001b[43m(\u001b[49m\u001b[38;5;241;43m0\u001b[39;49m\u001b[43m)\u001b[49m)\n\u001b[1;32m      9\u001b[0m policy_network_layers \u001b[38;5;241m=\u001b[39m (\u001b[38;5;241m256\u001b[39m, \u001b[38;5;241m256\u001b[39m)\n\u001b[1;32m     11\u001b[0m policy_net \u001b[38;5;241m=\u001b[39m hk\u001b[38;5;241m.\u001b[39mwithout_apply_rng(hk\u001b[38;5;241m.\u001b[39mtransform(policy_network))\n",
      "\u001b[0;31mTypeError\u001b[0m: float() argument must be a string or a number, not 'dict'"
     ]
    }
   ],
   "source": [
    "## repeat for |A|=16\n",
    "game = pyspiel.load_game_as_turn_based(\"python_hexner_full_4_test\")\n",
    "policy_network_params = checkpoints.restore_checkpoint('cfr_policy_4/checkpoint_100/checkpoint', target=None)\n",
    "\n",
    "\n",
    "num_actions = game.num_distinct_actions()\n",
    "root_node = game.new_initial_state()\n",
    "embedding_size = len(root_node.information_state_tensor(0))\n",
    "policy_network_layers = (256, 256)\n",
    "\n",
    "policy_net = hk.without_apply_rng(hk.transform(policy_network))\n",
    "rng_key = jax.random.PRNGKey(42)\n",
    "x, mask = (jnp.ones([1, embedding_size]),\n",
    "           jnp.ones([1, num_actions]))\n",
    "# init network\n",
    "_ = policy_net.init(rng_key, x, mask)\n"
   ]
  },
  {
   "cell_type": "code",
   "execution_count": 124,
   "id": "6fac5eac-436c-493c-90a4-50a31de32f9c",
   "metadata": {},
   "outputs": [],
   "source": [
    "state = game.new_initial_state()\n",
    "game_states = [state.information_state_tensor(0)[6:6+8]]\n",
    "p1_actions = []\n",
    "p2_actions = []\n",
    "\n",
    "while not state.is_terminal():\n",
    "    # store the states \n",
    "    if state.current_player() == 0:\n",
    "        game_states.append(state.information_state_tensor(0)[6:6+8])\n",
    "                          \n",
    "    legal_actions = state.legal_actions()\n",
    "    if state.is_chance_node():\n",
    "        # outcomes_with_probs = state.chance_outcomes()\n",
    "        # action_list, prob_list = zip(*outcomes_with_probs)\n",
    "        # action = np.random.choice(action_list, p=prob_list)\n",
    "        action = 1\n",
    "        state.apply_action(action)\n",
    "        if action == 0:\n",
    "            target = 2  # if [1, 0] goal is 2 (right) else 1\n",
    "        else:\n",
    "            target = 1\n",
    "    else:\n",
    "        cur_player = state.current_player()\n",
    "        legal_actions = state.legal_actions(cur_player)\n",
    "        info_state_vector = jnp.array(\n",
    "                            state.information_state_tensor(cur_player), dtype=jnp.float32)\n",
    "        legal_actions_mask = jnp.array(\n",
    "                            state.legal_actions_mask(cur_player), dtype=jnp.float32)\n",
    "        probs = policy_net.apply(policy_network_params,\n",
    "                                          info_state_vector, legal_actions_mask)\n",
    "        # normalize again for numerical soundness\n",
    "        probs = probs/probs.sum()\n",
    "        action = random.choices(legal_actions, probs)[0]\n",
    "        if state.current_player() == 0:\n",
    "            p1_actions.append(action)\n",
    "        else:\n",
    "            p2_actions.append(action)\n",
    "        state.apply_action(action)"
   ]
  },
  {
   "cell_type": "code",
   "execution_count": 125,
   "id": "4cab3f53-be7d-43e6-a23e-97d78ef02eb5",
   "metadata": {},
   "outputs": [
    {
     "name": "stderr",
     "output_type": "stream",
     "text": [
      "/var/folders/xd/5m8xqhxj7nb98dkg_t5fs5zc0000gq/T/ipykernel_46614/1177110427.py:3: DeprecationWarning: vstack requires ndarray or scalar arguments, got <class 'list'> at position 0. In a future JAX release this will be an error.\n",
      "  game_states = jnp.vstack(game_states)\n"
     ]
    },
    {
     "data": {
      "image/png": "[encoded data removed]",
      "text/plain": [
       "<Figure size 640x480 with 1 Axes>"
      ]
     },
     "metadata": {},
     "output_type": "display_data"
    }
   ],
   "source": [
    "import matplotlib.pyplot as plt\n",
    "\n",
    "game_states = jnp.vstack(game_states)\n",
    "x1 = game_states[:, 0]\n",
    "y1 = game_states[:, 1]\n",
    "\n",
    "x2 = game_states[:, 4]\n",
    "y2 = game_states[:, 5]\n",
    "\n",
    "plt.plot(x1, y1, color='red', marker='o')\n",
    "plt.plot(x2, y2, marker='o', color='blue')\n",
    "plt.xlim([-1.1, 1.1])\n",
    "plt.ylim([-1.1, 1.1])\n",
    "if target == 2:\n",
    "    plt.scatter(0, -1, color='magenta')\n",
    "else:\n",
    "    plt.scatter(0, 1, color='magenta')\n",
    "\n",
    "df = pd.DataFrame({'x1': x1, 'y1': y1, 'x2': x2, 'y2': y2})\n",
    "\n",
    "df.to_csv(f'deepcfr_trajs_16_type_{target}.csv')"
   ]
  },
  {
   "cell_type": "code",
   "execution_count": null,
   "id": "365ddac4-7341-4617-813a-e06fa09a5d8c",
   "metadata": {},
   "outputs": [],
   "source": []
  },
  {
   "cell_type": "code",
   "execution_count": null,
   "id": "456495ca-226a-44c2-a196-b83c8df256f8",
   "metadata": {},
   "outputs": [],
   "source": []
  }
 ],
 "metadata": {
  "kernelspec": {
   "display_name": "Python 3 (ipykernel)",
   "language": "python",
   "name": "python3"
  },
  "language_info": {
   "codemirror_mode": {
    "name": "ipython",
    "version": 3
   },
   "file_extension": ".py",
   "mimetype": "text/x-python",
   "name": "python",
   "nbconvert_exporter": "python",
   "pygments_lexer": "ipython3",
   "version": "3.9.15"
  }
 },
 "nbformat": 4,
 "nbformat_minor": 5
}
